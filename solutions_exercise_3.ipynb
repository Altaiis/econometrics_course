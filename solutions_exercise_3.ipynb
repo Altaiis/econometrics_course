{
 "cells": [
  {
   "cell_type": "markdown",
   "metadata": {},
   "source": [
    "# Exercise 9: Solution"
   ]
  },
  {
   "cell_type": "markdown",
   "metadata": {},
   "source": [
    "Use again the wage1 data\n",
    "\n",
    "1. Regress $wage$ on $education$ and $education^2$. Compute the parameters and interpret the parameters. Compute the 95% confidence intervals.Compute the t-statistics.Check if you have done it correctly by comparing with the output table you get when using `summary`. Are the effect significant at the 5% level? And at the 1% level? \n",
    "1. How large is the share of persons in the dataset with less than 5 years of education? How many have more than 20 years of education? \n",
    "1. Plot the quadratic effect of education on wage.\n",
    "1. What is the turning point of the quadratic effect of education on years?\n",
    "1. What could be a reason why the effects is fallin in the beginning?\n",
    "1. Add log(exper), female and nonwhite to the regression model and estimate it.\n",
    "1. Calculate the 0.05, 0.1, 0.5, 0.9 and 0.95 quantiles for education.\n",
    "1. Predict the quadratic effect of $education$ on $wage$ for values larger than the 10% and smaller than the 90% quantile values of education.Hold the other variables fixed at their mean for the prediction. Report the predictions in a table.\n",
    "1. Visualize the non-linear effect in a plot and add the 95% confidence interval to it.\n"
   ]
  },
  {
   "cell_type": "code",
   "execution_count": 14,
   "metadata": {},
   "outputs": [
    {
     "name": "stdout",
     "output_type": "stream",
     "text": [
      "params:\n",
      "Intercept       5.407688\n",
      "educ           -0.607500\n",
      "I(educ ** 2)    0.049072\n",
      "dtype: float64\n",
      "\n",
      "tstat:\n",
      "Intercept       3.706783\n",
      "educ           -2.515628\n",
      "I(educ ** 2)    4.872241\n",
      "dtype: float64\n",
      "\n",
      "pval:\n",
      "[2.09908943e-04 1.18820506e-02 1.10339357e-06]\n",
      "\n",
      " CI95: \n",
      "                     0         1\n",
      "Intercept     2.541737  8.273639\n",
      "educ         -1.081910 -0.133090\n",
      "I(educ ** 2)  0.029286  0.068859\n",
      "\n",
      "results.summary(): \n",
      "                            OLS Regression Results                            \n",
      "==============================================================================\n",
      "Dep. Variable:                   wage   R-squared:                       0.201\n",
      "Model:                            OLS   Adj. R-squared:                  0.198\n",
      "Method:                 Least Squares   F-statistic:                     65.79\n",
      "Date:                Wed, 16 Sep 2020   Prob (F-statistic):           3.26e-26\n",
      "Time:                        21:20:37   Log-Likelihood:                -1374.0\n",
      "No. Observations:                 526   AIC:                             2754.\n",
      "Df Residuals:                     523   BIC:                             2767.\n",
      "Df Model:                           2                                         \n",
      "Covariance Type:            nonrobust                                         \n",
      "================================================================================\n",
      "                   coef    std err          t      P>|t|      [0.025      0.975]\n",
      "--------------------------------------------------------------------------------\n",
      "Intercept        5.4077      1.459      3.707      0.000       2.542       8.274\n",
      "educ            -0.6075      0.241     -2.516      0.012      -1.082      -0.133\n",
      "I(educ ** 2)     0.0491      0.010      4.872      0.000       0.029       0.069\n",
      "==============================================================================\n",
      "Omnibus:                      212.094   Durbin-Watson:                   1.839\n",
      "Prob(Omnibus):                  0.000   Jarque-Bera (JB):              847.267\n",
      "Skew:                           1.831   Prob(JB):                    1.04e-184\n",
      "Kurtosis:                       8.024   Cond. No.                     1.83e+03\n",
      "==============================================================================\n",
      "\n",
      "Warnings:\n",
      "[1] Standard Errors assume that the covariance matrix of the errors is correctly specified.\n",
      "[2] The condition number is large, 1.83e+03. This might indicate that there are\n",
      "strong multicollinearity or other numerical problems.\n",
      "\n",
      " turning point: \n",
      "6.189827180288392\n",
      "\n",
      " educ<5, educ>20 : \n",
      "(7, 0)\n",
      "\n"
     ]
    },
    {
     "data": {
      "text/plain": [
       "(array([  2.,   0.,   1.,   1.,   3.,   1.,   6.,   4.,  22.,   0.,  17.,\n",
       "         30.,  29., 198.,  39.,  53.,  21.,  68.,  12.,  19.]),\n",
       " array([ 0. ,  0.9,  1.8,  2.7,  3.6,  4.5,  5.4,  6.3,  7.2,  8.1,  9. ,\n",
       "         9.9, 10.8, 11.7, 12.6, 13.5, 14.4, 15.3, 16.2, 17.1, 18. ]),\n",
       " <a list of 20 Patch objects>)"
      ]
     },
     "metadata": {},
     "output_type": "display_data"
    },
    {
     "name": "stdout",
     "output_type": "stream",
     "text": [
      " quantiles: \n",
      "0.01     4.0\n",
      "0.05     8.0\n",
      "0.10     9.0\n",
      "0.25    12.0\n",
      "0.50    12.0\n",
      "0.75    14.0\n",
      "0.90    16.0\n",
      "0.99    18.0\n",
      "Name: educ, dtype: float64\n",
      "\n"
     ]
    },
    {
     "data": {
      "image/png": "[encoded data removed]",
      "text/plain": [
       "<Figure size 432x288 with 1 Axes>"
      ]
     },
     "metadata": {
      "needs_background": "light"
     },
     "output_type": "display_data"
    }
   ],
   "source": [
    "import wooldridge as woo\n",
    "import statsmodels.formula.api as smf\n",
    "import scipy.stats as stats\n",
    "import pandas as pd\n",
    "import matplotlib.pyplot as plt\n",
    "import numpy as np\n",
    "\n",
    "#1.\n",
    "\n",
    "wage1 = woo.dataWoo('wage1')\n",
    "\n",
    "reg = smf.ols(formula='wage ~ educ + I(educ**2)', data=wage1)\n",
    "results = reg.fit()\n",
    "\n",
    "#manually confirm the formulas, i.e. extract coefficients and SE\n",
    "b=results.params\n",
    "se=results.bse\n",
    "\n",
    "print(f'params:\\n{b}\\n')\n",
    "\n",
    "#reproduce t statistics\n",
    "tstat=b/se\n",
    "print(f'tstat:\\n{tstat}\\n')\n",
    "\n",
    "#reproduce p-values\n",
    "pval=2 * stats.norm.cdf(-abs(tstat))\n",
    "print(f'pval:\\n{pval}\\n')\n",
    "\n",
    "# 95% CI:\n",
    "CI95 = results.conf_int (0.05)\n",
    "print (f' CI95: \\n{CI95}\\n')\n",
    "\n",
    "# Let's also report the detailed table output using 'summary' for comparison\n",
    "print(f'results.summary(): \\n{results.summary()}\\n')\n",
    "\n",
    "# Turning point of the function\n",
    "print (f' turning point: \\n{abs(results.params[1]/(2*results.params[2]))}\\n')\n",
    "\n",
    "# persons in dataset with less than 5 years of educ and persons with more than 20 years of educ\n",
    "educ_smaller_5 = (wage1['educ']<5).sum()\n",
    "educ_larger_20 = (wage1['educ']>20).sum()\n",
    "print (f' educ<5, educ>20 : \\n{educ_smaller_5, educ_larger_20}\\n')\n",
    "\n",
    "#histogram shows that most people have at least a few years of education\n",
    "display(plt.hist(wage1['educ'], bins=20))\n",
    "\n",
    "# calculate quantiles for years of education\n",
    "quant=wage1['educ'].quantile([.01, 0.05, 0.1, .25, .5, .75, .9, .99 ])\n",
    "print (f' quantiles: \\n{quant}\\n')\n",
    "\n"
   ]
  },
  {
   "cell_type": "code",
   "execution_count": 4,
   "metadata": {},
   "outputs": [
    {
     "data": {
      "text/plain": [
       "[<matplotlib.lines.Line2D at 0x27d1159bf98>]"
      ]
     },
     "execution_count": 4,
     "metadata": {},
     "output_type": "execute_result"
    },
    {
     "data": {
      "image/png": "[encoded data removed]",
      "text/plain": [
       "<Figure size 432x288 with 1 Axes>"
      ]
     },
     "metadata": {
      "needs_background": "light"
     },
     "output_type": "display_data"
    }
   ],
   "source": [
    "# plot quadratic fit\n",
    "# for better illustration we use linspace to transform education in 20 equally spaced bins of the observations, see the introducton to Python notebook on linspace\n",
    "\n",
    "plt.scatter(wage1.educ, wage1.wage, alpha=0.3)\n",
    "plt.xlabel('Education')\n",
    "plt.ylabel('Wage')\n",
    "educ_linspace = np.linspace(wage1.educ.min(), wage1.educ.max(), 20)\n",
    "educ_linspace_sq=educ_linspace**2\n",
    "est = smf.ols(formula='wage ~ educ + I(educ**2)', data=wage1).fit()\n",
    "plt.plot(educ_linspace, est.params[0] + est.params[1] * educ_linspace + est.params[2] *educ_linspace_sq , 'r')"
   ]
  },
  {
   "cell_type": "markdown",
   "metadata": {
    "slideshow": {
     "slide_type": "slide"
    }
   },
   "source": [
    "As we have a quadratic function, we can't interpret the effect of an coefficient directly. Also, the effect of an additional year of education of wages is not constant anymore. The effect of an additional year of educ from 5 to 6 years is different from the effect of increasing the years of education from 6 to 7 years for instance.\n",
    "\n",
    "All we know from the coefficient without any calculation is that an additional year of education has a decreasing effect on wages at the beginning (from 0 to 1 year at least, maybe also for later years but don't know before having computed the maximum/minimum of the function) and that this decreasing effect diminishes with increasing education (this is shown by the positive sign of the parameter estimate for educ$^2$) until the effect of an additional year of education on wages reaches the turning point and becomes zero. After this, any additonal year of education increases wages and does so in an exponential way as the effect of educ$^2$ dominates the effect of educ more and more. So we compute the turning point which is arrived at $\\beta_1/(2*\\beta_2)$. Now we know that the turning point is at around 6 years of education.\n",
    "\n",
    "It doesn't seem to make sense that the effect of and additional year of education is negative at first.\n",
    "It may be that this is because there are almost no observation for persons without less than 6 years in the data. We check this and see that only 7 persons in the dataset have less tha 5 years if educ. It turns out that this is the case as shown in the histogram. So we can ignore this range and should focus an a more representative range. A more representative range would be, for instance, the range 9 to 16 years. From computing quantiles we see that only 10% have less than 9 years of education and only 10% more than 16 years of education.\n",
    "\n",
    "Regarding the significance of the parameters: As the t-statistic is larger than 2 for all regressors (in absolute terms), we know that the effect is significant at the 5% level for all regressors. We can also see this from the confidence intervals which do not include the zero. Moreover, the p-values show us that the effects are also always significant at the 1% significance level as they are always smaller than 0.01.\n",
    "\n",
    "\n"
   ]
  },
  {
   "cell_type": "markdown",
   "metadata": {},
   "source": [
    "We now add a log(exper), female and nonwhite to the model and re-estimate it."
   ]
  },
  {
   "cell_type": "code",
   "execution_count": 5,
   "metadata": {},
   "outputs": [
    {
     "name": "stdout",
     "output_type": "stream",
     "text": [
      "results2.summary(): \n",
      "                            OLS Regression Results                            \n",
      "==============================================================================\n",
      "Dep. Variable:                   wage   R-squared:                       0.358\n",
      "Model:                            OLS   Adj. R-squared:                  0.352\n",
      "Method:                 Least Squares   F-statistic:                     58.00\n",
      "Date:                Wed, 16 Sep 2020   Prob (F-statistic):           6.23e-48\n",
      "Time:                        20:15:21   Log-Likelihood:                -1316.5\n",
      "No. Observations:                 526   AIC:                             2645.\n",
      "Df Residuals:                     520   BIC:                             2671.\n",
      "Df Model:                           5                                         \n",
      "Covariance Type:            nonrobust                                         \n",
      "================================================================================\n",
      "                   coef    std err          t      P>|t|      [0.025      0.975]\n",
      "--------------------------------------------------------------------------------\n",
      "Intercept        1.7436      1.415      1.233      0.218      -1.035       4.523\n",
      "educ            -0.2456      0.220     -1.116      0.265      -0.678       0.187\n",
      "I(educ ** 2)     0.0355      0.009      3.877      0.000       0.018       0.054\n",
      "log_exper        0.9791      0.125      7.832      0.000       0.734       1.225\n",
      "female          -2.0006      0.263     -7.602      0.000      -2.518      -1.484\n",
      "nonwhite        -0.2589      0.429     -0.603      0.547      -1.103       0.585\n",
      "==============================================================================\n",
      "Omnibus:                      193.098   Durbin-Watson:                   1.819\n",
      "Prob(Omnibus):                  0.000   Jarque-Bera (JB):              778.574\n",
      "Skew:                           1.639   Prob(JB):                    8.61e-170\n",
      "Kurtosis:                       7.978   Cond. No.                     1.97e+03\n",
      "==============================================================================\n",
      "\n",
      "Warnings:\n",
      "[1] Standard Errors assume that the covariance matrix of the errors is correctly specified.\n",
      "[2] The condition number is large, 1.97e+03. This might indicate that there are\n",
      "strong multicollinearity or other numerical problems.\n",
      "\n"
     ]
    }
   ],
   "source": [
    "wage1['log_exper'] = np.log(wage1['exper'])\n",
    "reg2 = smf.ols(formula='wage ~ educ + I(educ**2) + log_exper + female + nonwhite', data=wage1)\n",
    "results2 = reg2.fit()\n",
    "\n",
    "# Look at the estimation results:\n",
    "print(f'results2.summary(): \\n{results2.summary()}\\n')"
   ]
  },
  {
   "cell_type": "markdown",
   "metadata": {},
   "source": [
    "Now let's predict the quadratic effect of $education$ on $wage$ for values larger than the 10% and smaller than the 90% quantile values of education.Hold the other variables fixed at their mean for the prediction. Report the predictions in a table.\n",
    "From before we know that these valus are 9 and 16 years of educ.\n",
    "\n",
    "We also visualize the effects and add confidence intervals to it. The plotted effect shows the quadratic effect of an additional year of education for the full range (0-18 years of education). As we see, the confidence intervals are very wide for the first years, indicating the uncertainty of the estimated effect for these years (there are as we found almost no observations of persons with so few years of education in our data.).\n",
    "\n",
    "What we also see that in the relavnt range we've chosen (9-16 years) the effect of an additional of education on wages increases every year.\n",
    "\n"
   ]
  },
  {
   "cell_type": "code",
   "execution_count": 6,
   "metadata": {
    "scrolled": false
   },
   "outputs": [
    {
     "name": "stdout",
     "output_type": "stream",
     "text": [
      "means: \n",
      "    educ  log_exper    female  nonwhite\n",
      "0    0.0   2.394453  0.479087  0.102662\n",
      "1    1.0   2.394453  0.479087  0.102662\n",
      "2    2.0   2.394453  0.479087  0.102662\n",
      "3    3.0   2.394453  0.479087  0.102662\n",
      "4    4.0   2.394453  0.479087  0.102662\n",
      "5    5.0   2.394453  0.479087  0.102662\n",
      "6    6.0   2.394453  0.479087  0.102662\n",
      "7    7.0   2.394453  0.479087  0.102662\n",
      "8    8.0   2.394453  0.479087  0.102662\n",
      "9    9.0   2.394453  0.479087  0.102662\n",
      "10  10.0   2.394453  0.479087  0.102662\n",
      "11  11.0   2.394453  0.479087  0.102662\n",
      "12  12.0   2.394453  0.479087  0.102662\n",
      "13  13.0   2.394453  0.479087  0.102662\n",
      "14  14.0   2.394453  0.479087  0.102662\n",
      "15  15.0   2.394453  0.479087  0.102662\n",
      "16  16.0   2.394453  0.479087  0.102662\n",
      "17  17.0   2.394453  0.479087  0.102662\n",
      "18  18.0   2.394453  0.479087  0.102662\n",
      "\n",
      " pred: \n",
      "0      3.103033\n",
      "1      2.892971\n",
      "2      2.753956\n",
      "3      2.685989\n",
      "4      2.689069\n",
      "5      2.763197\n",
      "6      2.908372\n",
      "7      3.124595\n",
      "8      3.411865\n",
      "9      3.770183\n",
      "10     4.199548\n",
      "11     4.699960\n",
      "12     5.271421\n",
      "13     5.913928\n",
      "14     6.627483\n",
      "15     7.412086\n",
      "16     8.267736\n",
      "17     9.194434\n",
      "18    10.192179\n",
      "dtype: float64\n",
      "\n",
      "lpr_CI: \n",
      "         mean  mean_ci_lower  mean_ci_upper\n",
      "0    3.103033       0.479900       5.726166\n",
      "1    2.892971       0.668080       5.117862\n",
      "2    2.753956       0.890034       4.617879\n",
      "3    2.685989       1.145355       4.226623\n",
      "4    2.689069       1.433492       3.944647\n",
      "5    2.763197       1.753719       3.772675\n",
      "6    2.908372       2.105184       3.711560\n",
      "7    3.124595       2.487183       3.762006\n",
      "8    3.411865       2.900017       3.923713\n",
      "9    3.770183       3.346665       4.193700\n",
      "10   4.199548       3.834343       4.564753\n",
      "11   4.699960       4.373263       5.026657\n",
      "12   5.271421       4.971536       5.571305\n",
      "13   5.913928       5.628897       6.198959\n",
      "14   6.627483       6.333017       6.921950\n",
      "15   7.412086       7.065455       7.758717\n",
      "16   8.267736       7.817001       8.718471\n",
      "17   9.194434       8.590194       9.798673\n",
      "18  10.192179       9.390227      10.994130\n",
      "\n"
     ]
    },
    {
     "data": {
      "text/plain": [
       "<matplotlib.legend.Legend at 0x27d11646a90>"
      ]
     },
     "execution_count": 6,
     "metadata": {},
     "output_type": "execute_result"
    },
    {
     "data": {
      "image/png": "[encoded data removed]",
      "text/plain": [
       "<Figure size 432x288 with 1 Axes>"
      ]
     },
     "metadata": {
      "needs_background": "light"
     },
     "output_type": "display_data"
    }
   ],
   "source": [
    "# predictions for educ = 9-16, all others at the sample mean:\n",
    "\n",
    "log_exper_mean = np.mean(wage1['log_exper'])\n",
    "female_mean = np.mean(wage1['female'])\n",
    "nonwhite_mean = np.mean(wage1['nonwhite'])\n",
    "\n",
    "means = pd.DataFrame({'educ': np.linspace(0, 18, num=19), # can adjust for the more relevant range (9,16,num=8)\n",
    "                  'log_exper': log_exper_mean,\n",
    "                  'female': female_mean,\n",
    "                  'nonwhite': nonwhite_mean})\n",
    "print(f'means: \\n{means}\\n')\n",
    "\n",
    "\n",
    "# point estimate of prediction (means):\n",
    "pred = results2.predict (means)\n",
    "print (f' pred: \\n{pred}\\n' )\n",
    "\n",
    "# calculate 95% confidence interval:\n",
    "lpr_PICI = results2.get_prediction(means).summary_frame(alpha=0.05)\n",
    "lpr_CI = lpr_PICI[['mean', 'mean_ci_lower', 'mean_ci_upper']]\n",
    "print(f'lpr_CI: \\n{lpr_CI}\\n')\n",
    "\n",
    "# plot:\n",
    "plt.plot(means['educ'], lpr_CI['mean'], color='black',\n",
    "         linestyle='-', label='')\n",
    "plt.plot(means['educ'], lpr_CI['mean_ci_upper'], color='lightgrey',\n",
    "         linestyle='--', label='upper CI')\n",
    "plt.plot(means['educ'], lpr_CI['mean_ci_lower'], color='darkgrey',\n",
    "         linestyle='--', label='lower CI')\n",
    "plt.ylabel('wage')\n",
    "plt.xlabel('education')\n",
    "plt.legend()\n",
    "\n",
    "\n"
   ]
  },
  {
   "cell_type": "markdown",
   "metadata": {},
   "source": [
    "# Exercise 10: Solution"
   ]
  },
  {
   "cell_type": "markdown",
   "metadata": {},
   "source": [
    "Let's load the data and run the regression of doctor visits on logincome and healt status."
   ]
  },
  {
   "cell_type": "code",
   "execution_count": 1,
   "metadata": {
    "slideshow": {
     "slide_type": "slide"
    }
   },
   "outputs": [
    {
     "name": "stdout",
     "output_type": "stream",
     "text": [
      "results3.summary(): \n",
      "                            OLS Regression Results                            \n",
      "==============================================================================\n",
      "Dep. Variable:                  mdvis   R-squared:                       0.013\n",
      "Model:                            OLS   Adj. R-squared:                  0.013\n",
      "Method:                 Least Squares   F-statistic:                     129.8\n",
      "Date:                Wed, 16 Sep 2020   Prob (F-statistic):           9.36e-57\n",
      "Time:                        22:33:56   Log-Likelihood:                -58906.\n",
      "No. Observations:               20190   AIC:                         1.178e+05\n",
      "Df Residuals:                   20187   BIC:                         1.178e+05\n",
      "Df Model:                           2                                         \n",
      "Covariance Type:            nonrobust                                         \n",
      "==============================================================================\n",
      "                 coef    std err          t      P>|t|      [0.025      0.975]\n",
      "------------------------------------------------------------------------------\n",
      "Intercept      0.2725      0.227      1.200      0.230      -0.173       0.718\n",
      "logincome      0.2916      0.026     11.310      0.000       0.241       0.342\n",
      "hlthp          3.2778      0.261     12.566      0.000       2.767       3.789\n",
      "==============================================================================\n",
      "Omnibus:                    20183.191   Durbin-Watson:                   1.079\n",
      "Prob(Omnibus):                  0.000   Jarque-Bera (JB):          1579001.221\n",
      "Skew:                           4.835   Prob(JB):                         0.00\n",
      "Kurtosis:                      45.231   Cond. No.                         74.7\n",
      "==============================================================================\n",
      "\n",
      "Warnings:\n",
      "[1] Standard Errors assume that the covariance matrix of the errors is correctly specified.\n",
      "\n"
     ]
    }
   ],
   "source": [
    "import pandas as pd\n",
    "import numpy as np\n",
    "import statsmodels.api as sm\n",
    "import statsmodels.formula.api as smf\n",
    "\n",
    "df = pd.read_csv('https://raw.githubusercontent.com/statsmodels/statsmodels/master/statsmodels/datasets/randhie/src/randhie.csv')\n",
    "df[\"logincome\"] = np.log1p(df.income) #logincome contains some zeros, so we add a 1 before taking logs\n",
    "df[['mdvis', 'logincome', 'hlthp']].tail()\n",
    "\n",
    "reg3 = smf.ols(formula='mdvis ~ logincome + hlthp', data=df)\n",
    "results3 = reg3.fit()\n",
    "\n",
    "print(f'results3.summary(): \\n{results3.summary()}\\n')"
   ]
  },
  {
   "cell_type": "code",
   "execution_count": 2,
   "metadata": {},
   "outputs": [
    {
     "data": {
      "text/html": [
       "<div>\n",
       "<style scoped>\n",
       "    .dataframe tbody tr th:only-of-type {\n",
       "        vertical-align: middle;\n",
       "    }\n",
       "\n",
       "    .dataframe tbody tr th {\n",
       "        vertical-align: top;\n",
       "    }\n",
       "\n",
       "    .dataframe thead th {\n",
       "        text-align: right;\n",
       "    }\n",
       "</style>\n",
       "<table border=\"1\" class=\"dataframe\">\n",
       "  <thead>\n",
       "    <tr style=\"text-align: right;\">\n",
       "      <th></th>\n",
       "      <th>mdvis</th>\n",
       "      <th>hlthp</th>\n",
       "      <th>logincome</th>\n",
       "    </tr>\n",
       "  </thead>\n",
       "  <tbody>\n",
       "    <tr>\n",
       "      <th>count</th>\n",
       "      <td>20190.000000</td>\n",
       "      <td>20190.000000</td>\n",
       "      <td>20190.000000</td>\n",
       "    </tr>\n",
       "    <tr>\n",
       "      <th>mean</th>\n",
       "      <td>2.860426</td>\n",
       "      <td>0.014958</td>\n",
       "      <td>8.708265</td>\n",
       "    </tr>\n",
       "    <tr>\n",
       "      <th>std</th>\n",
       "      <td>4.504365</td>\n",
       "      <td>0.121387</td>\n",
       "      <td>1.228309</td>\n",
       "    </tr>\n",
       "    <tr>\n",
       "      <th>min</th>\n",
       "      <td>0.000000</td>\n",
       "      <td>0.000000</td>\n",
       "      <td>0.000000</td>\n",
       "    </tr>\n",
       "    <tr>\n",
       "      <th>25%</th>\n",
       "      <td>0.000000</td>\n",
       "      <td>0.000000</td>\n",
       "      <td>8.582102</td>\n",
       "    </tr>\n",
       "    <tr>\n",
       "      <th>50%</th>\n",
       "      <td>1.000000</td>\n",
       "      <td>0.000000</td>\n",
       "      <td>8.984312</td>\n",
       "    </tr>\n",
       "    <tr>\n",
       "      <th>75%</th>\n",
       "      <td>4.000000</td>\n",
       "      <td>0.000000</td>\n",
       "      <td>9.256801</td>\n",
       "    </tr>\n",
       "    <tr>\n",
       "      <th>max</th>\n",
       "      <td>77.000000</td>\n",
       "      <td>1.000000</td>\n",
       "      <td>10.283243</td>\n",
       "    </tr>\n",
       "  </tbody>\n",
       "</table>\n",
       "</div>"
      ],
      "text/plain": [
       "              mdvis         hlthp     logincome\n",
       "count  20190.000000  20190.000000  20190.000000\n",
       "mean       2.860426      0.014958      8.708265\n",
       "std        4.504365      0.121387      1.228309\n",
       "min        0.000000      0.000000      0.000000\n",
       "25%        0.000000      0.000000      8.582102\n",
       "50%        1.000000      0.000000      8.984312\n",
       "75%        4.000000      0.000000      9.256801\n",
       "max       77.000000      1.000000     10.283243"
      ]
     },
     "execution_count": 2,
     "metadata": {},
     "output_type": "execute_result"
    }
   ],
   "source": [
    "df[['mdvis','hlthp', 'logincome']].describe()"
   ]
  },
  {
   "cell_type": "markdown",
   "metadata": {},
   "source": [
    "The coefficient of logincome says that an increase in income of 1% increases the number of doc visits by 0.003 (remember the level-log interpretation is $\\Delta y =(\\beta_1/100)\\%\\Delta x$). So the effect is significant but very small. A person with a bad health status has on average 3.28 doctor visits more than a healthy person. This is twice the mean of the number of doctor visits in the data. But it is possible because only a very low share of the people in the dataset have a (self-reported) bad health status, so there impact on the mean of doctor visits is small."
   ]
  },
  {
   "cell_type": "markdown",
   "metadata": {
    "slideshow": {
     "slide_type": "slide"
    }
   },
   "source": [
    "Because hlthp is a binary variable we can visualize the linear regression model by plotting two lines: one for `hlthp == 0` and one for `hlthp == 1`.\n"
   ]
  },
  {
   "cell_type": "code",
   "execution_count": 3,
   "metadata": {
    "slideshow": {
     "slide_type": "slide"
    }
   },
   "outputs": [
    {
     "name": "stdout",
     "output_type": "stream",
     "text": [
      "est.summary(): \n",
      "                            OLS Regression Results                            \n",
      "==============================================================================\n",
      "Dep. Variable:                  mdvis   R-squared:                       0.013\n",
      "Model:                            OLS   Adj. R-squared:                  0.013\n",
      "Method:                 Least Squares   F-statistic:                     129.8\n",
      "Date:                Wed, 16 Sep 2020   Prob (F-statistic):           9.36e-57\n",
      "Time:                        22:33:56   Log-Likelihood:                -58906.\n",
      "No. Observations:               20190   AIC:                         1.178e+05\n",
      "Df Residuals:                   20187   BIC:                         1.178e+05\n",
      "Df Model:                           2                                         \n",
      "Covariance Type:            nonrobust                                         \n",
      "==============================================================================\n",
      "                 coef    std err          t      P>|t|      [0.025      0.975]\n",
      "------------------------------------------------------------------------------\n",
      "Intercept      0.2725      0.227      1.200      0.230      -0.173       0.718\n",
      "logincome      0.2916      0.026     11.310      0.000       0.241       0.342\n",
      "hlthp          3.2778      0.261     12.566      0.000       2.767       3.789\n",
      "==============================================================================\n",
      "Omnibus:                    20183.191   Durbin-Watson:                   1.079\n",
      "Prob(Omnibus):                  0.000   Jarque-Bera (JB):          1579001.221\n",
      "Skew:                           4.835   Prob(JB):                         0.00\n",
      "Kurtosis:                      45.231   Cond. No.                         74.7\n",
      "==============================================================================\n",
      "\n",
      "Warnings:\n",
      "[1] Standard Errors assume that the covariance matrix of the errors is correctly specified.\n",
      "\n"
     ]
    },
    {
     "data": {
      "image/png": "[encoded data removed]",
      "text/plain": [
       "<Figure size 432x288 with 1 Axes>"
      ]
     },
     "metadata": {
      "needs_background": "light"
     },
     "output_type": "display_data"
    }
   ],
   "source": [
    "import matplotlib.pyplot as plt\n",
    "\n",
    "plt.scatter(df.logincome, df.mdvis, alpha=0.3)\n",
    "plt.xlabel('Log income')\n",
    "plt.ylabel('Number of visits')\n",
    "logincome_linspace = np.linspace(df.logincome.min(), df.logincome.max(), 100)\n",
    "est = smf.ols(formula='mdvis ~ logincome + hlthp', data=df).fit()\n",
    "plt.plot(logincome_linspace, est.params[0] + est.params[1] * logincome_linspace + est.params[2] * 0, 'r')\n",
    "plt.plot(logincome_linspace, est.params[0] + est.params[1] * logincome_linspace + est.params[2] * 1, 'g')\n",
    "print(f'est.summary(): \\n{est.summary()}\\n')"
   ]
  },
  {
   "cell_type": "markdown",
   "metadata": {
    "slideshow": {
     "slide_type": "slide"
    }
   },
   "source": [
    "The two lines are parallel. This is because the categorical variable 'hlthp' affects only the intercept and not the slope (which is the coefficient of 'logincome'). We can then include an interaction term to explore the effect of an interaction between the two — i.e. we let the slope be different for the two categories. If we include the interactions, now each of the lines can have a different slope. This captures the effect that variation with income may be different for people who are in poor health than for people who are in better health. Note that we also have to include the two interacted variables in the model two because if a variable is important due to an interaction, it also has an effect by itself usually. So this has to be tested at least.\n",
    "\n",
    "\n"
   ]
  },
  {
   "cell_type": "code",
   "execution_count": 7,
   "metadata": {
    "scrolled": false,
    "slideshow": {
     "slide_type": "slide"
    }
   },
   "outputs": [
    {
     "name": "stdout",
     "output_type": "stream",
     "text": [
      "est.summary(): \n",
      "                            OLS Regression Results                            \n",
      "==============================================================================\n",
      "Dep. Variable:                  mdvis   R-squared:                       0.014\n",
      "Model:                            OLS   Adj. R-squared:                  0.014\n",
      "Method:                 Least Squares   F-statistic:                     93.21\n",
      "Date:                Wed, 16 Sep 2020   Prob (F-statistic):           6.57e-60\n",
      "Time:                        22:42:18   Log-Likelihood:                -58896.\n",
      "No. Observations:               20190   AIC:                         1.178e+05\n",
      "Df Residuals:                   20186   BIC:                         1.178e+05\n",
      "Df Model:                           3                                         \n",
      "Covariance Type:            nonrobust                                         \n",
      "===================================================================================\n",
      "                      coef    std err          t      P>|t|      [0.025      0.975]\n",
      "-----------------------------------------------------------------------------------\n",
      "Intercept           0.5217      0.234      2.231      0.026       0.063       0.980\n",
      "hlthp              -0.4991      0.890     -0.561      0.575      -2.243       1.245\n",
      "logincome           0.2630      0.027      9.902      0.000       0.211       0.315\n",
      "hlthp:logincome     0.4868      0.110      4.441      0.000       0.272       0.702\n",
      "==============================================================================\n",
      "Omnibus:                    20177.925   Durbin-Watson:                   1.080\n",
      "Prob(Omnibus):                  0.000   Jarque-Bera (JB):          1578257.654\n",
      "Skew:                           4.832   Prob(JB):                         0.00\n",
      "Kurtosis:                      45.222   Cond. No.                         252.\n",
      "==============================================================================\n",
      "\n",
      "Warnings:\n",
      "[1] Standard Errors assume that the covariance matrix of the errors is correctly specified.\n",
      "\n"
     ]
    },
    {
     "data": {
      "image/png": "[encoded data removed]",
      "text/plain": [
       "<Figure size 432x288 with 1 Axes>"
      ]
     },
     "metadata": {
      "needs_background": "light"
     },
     "output_type": "display_data"
    }
   ],
   "source": [
    "import matplotlib.pyplot as plt\n",
    "\n",
    "plt.scatter(df.logincome, df.mdvis, alpha=0.3)\n",
    "plt.xlabel('Log income')\n",
    "plt.ylabel('Number of visits')\n",
    "\n",
    "est = smf.ols(formula='mdvis ~ hlthp * logincome', data=df).fit()\n",
    "\n",
    "plt.plot(logincome_linspace, est.params[0] + est.params[1] * 0 + est.params[2] * logincome_linspace +\n",
    "est.params[3] * 0 * logincome_linspace, 'r')\n",
    "\n",
    "plt.plot(logincome_linspace, est.params[0] + est.params[1] * 1 + est.params[2] * logincome_linspace +\n",
    "est.params[3] * 1 * logincome_linspace, 'g')\n",
    "\n",
    "print(f'est.summary(): \\n{est.summary()}\\n')\n"
   ]
  },
  {
   "cell_type": "markdown",
   "metadata": {},
   "source": [
    "The interaction term says that the effect of health status on the number of doctor visits changes with income: for those in a 'not bad'  health condition the number of doc visits increases by 0.0026 when income increases by one percent. For those in a bad health condition the number of doc visits increases by 0.0026 + 0.0049 = 0.0075 when income increases by one percent. There is no difference in the intercepts with regard to health status because the coefficient of 'healthp' is not statistically significant. "
   ]
  },
  {
   "cell_type": "code",
   "execution_count": null,
   "metadata": {},
   "outputs": [],
   "source": []
  }
 ],
 "metadata": {
  "kernelspec": {
   "display_name": "Python 3",
   "language": "python",
   "name": "python3"
  },
  "language_info": {
   "codemirror_mode": {
    "name": "ipython",
    "version": 3
   },
   "file_extension": ".py",
   "mimetype": "text/x-python",
   "name": "python",
   "nbconvert_exporter": "python",
   "pygments_lexer": "ipython3",
   "version": "3.7.1"
  },
  "toc": {
   "base_numbering": 1,
   "nav_menu": {},
   "number_sections": true,
   "sideBar": true,
   "skip_h1_title": true,
   "title_cell": "Table of Contents",
   "title_sidebar": "Contents",
   "toc_cell": false,
   "toc_position": {},
   "toc_section_display": true,
   "toc_window_display": true
  },
  "varInspector": {
   "cols": {
    "lenName": 16,
    "lenType": 16,
    "lenVar": 40
   },
   "kernels_config": {
    "python": {
     "delete_cmd_postfix": "",
     "delete_cmd_prefix": "del ",
     "library": "var_list.py",
     "varRefreshCmd": "print(var_dic_list())"
    },
    "r": {
     "delete_cmd_postfix": ") ",
     "delete_cmd_prefix": "rm(",
     "library": "var_list.r",
     "varRefreshCmd": "cat(var_dic_list()) "
    }
   },
   "types_to_exclude": [
    "module",
    "function",
    "builtin_function_or_method",
    "instance",
    "_Feature"
   ],
   "window_display": false
  }
 },
 "nbformat": 4,
 "nbformat_minor": 2
}
