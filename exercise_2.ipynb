{
 "cells": [
  {
   "cell_type": "markdown",
   "metadata": {},
   "source": [
    "# Exercise 5"
   ]
  },
  {
   "cell_type": "markdown",
   "metadata": {},
   "source": [
    "Use the dataset **wage1** from `wooldridge`\n"
   ]
  },
  {
   "cell_type": "markdown",
   "metadata": {},
   "source": [
    "1. Regress wage on education.\n",
    "1. Compute the fitted values and residuals \"by hand\" using the information contained in the object returned by the method `fit`. \n",
    "1. Make a dataframe containing the fitted values and the residuals and display it.\n",
    "1. Display the regression results using the method `summary`\n",
    "1. Confirm the three properties of OLS statistics: $Cov(x_i,\\hat{u}_i)=0$, $\\bar{u}=0$ and $\\bar{y}=\\hat{\\beta}_0+\\hat{\\beta}_1\\cdot\\bar{x}$\n",
    "1. Compute the $R^2$ using the two methods we've learned.\n",
    "1. How large is it? What does it say?"
   ]
  },
  {
   "cell_type": "markdown",
   "metadata": {},
   "source": [
    "# Exercise 6\n",
    "\n",
    "Use the 'wage1' data.\n",
    "\n",
    "This are the included variables:\n",
    "\n",
    "wage: average hourly earnings  \n",
    "educ: years of education  \n",
    "exper: years potential experience  \n",
    "tenure: years with current employer  \n",
    "nonwhite: =1 if nonwhite  \n",
    "female: =1 if female  \n",
    "married: =1 if married  \n",
    "numdep: number of dependents  \n",
    "smsa: =1 if live in SMSA  \n",
    "northcen: =1 if live in north central U.S  \n",
    "south: =1 if live in southern region  \n",
    "west: =1 if live in western region  \n",
    "construc: =1 if work in construc. indus.  \n",
    "ndurman: =1 if in nondur. manuf. indus.  \n",
    "trcommpu: =1 if in trans, commun, pub ut  \n",
    "trade: =1 if in wholesale or retail  \n",
    "services: =1 if in services indus.  \n",
    "profserv: =1 if in prof. serv. indus.  \n",
    "profocc: =1 if in profess. occupation  \n",
    "clerocc: =1 if in clerical occupation  \n",
    "servocc: =1 if in service occupation  \n",
    "lwage: log(wage)  \n",
    "expersq: exper^2  \n",
    "tenursq: tenure^2  \n"
   ]
  },
  {
   "cell_type": "markdown",
   "metadata": {},
   "source": [
    "1. Estimate effect of gender on wages. How do you interpret the coefficient of being female?\n",
    "1. Now estimate the effect of log(wages) on being female. How does the interpretation change?\n",
    "1. Do you think the effect of gender on wages is causal? What could be reasons that this is not the case? What does it mean in terms of the zero conditional mean assumption?\n",
    "1. What is the reason for only including female into this regression, but not both male and female?\n",
    "1. Add education and experience to the model and re-estimate it. How do the results change?\n",
    "1. Assume that being female and experience are negatively correlated. A reason why this could be is because women work more often part-time or are more often on maternitiy leave. Will it cause a bias if you exclude experience from the model? If yes, in which direction will the bias go?\n",
    "1. Add one by one the variables tenure, married, ndurman, services, trade and profocc. How do the results change?\n",
    "1. How does the $R^2$ change (not the adjusted one)? \n",
    "1. Does it necessarily mean that your model is better when the $R^2$ is higher? If not, why not?\n",
    "1. What does it mean if the error terms are heteroskedastical?\n",
    "1. Built a variable 'male' which is one if female is zero and 0 if female is 1.\n",
    "1. Regress male and female on wages. What happens and why?"
   ]
  },
  {
   "cell_type": "markdown",
   "metadata": {},
   "source": [
    "# Exercise 7\n",
    "\n",
    "Load the data 'cig85_95'\n",
    "\n",
    "1. Estimate the effect of the log(package price) on log(packs per capita). Whats is the interpretation of the coeffcient? \n",
    "1. Now the effect of log(package price) on packs per capita. Whats is the interpretation of the coeffcient? \n",
    "1. Now the effect of package price on log(packs per capita). Whats is the interpretation of the coeffcient? \n",
    "1. And now the effect of package price on packs per capaita. Whats is the interpretation of the coeffcient? \n",
    "1. Let's use the last model where x and y are in levels. What is the p-value of packs per capita and what does it mean? "
   ]
  },
  {
   "cell_type": "markdown",
   "metadata": {},
   "source": [
    "\n",
    "\n"
   ]
  },
  {
   "cell_type": "markdown",
   "metadata": {},
   "source": [
    "# Exercise 8\n",
    "\n",
    "**Example: Explaining Arrest Records**\n",
    "\n",
    "<blockquote>\n",
    "CRIME1 contains data on arrests during the year 1986 and other information on 2,725 men born in either 1960 or 1961 in California. Each man in the sample was arrested at least once prior to 1986.\n",
    "The variable _narr86_ is the number of times the man was arrested during 1986: it is zero for most men in the sample (72.29%), and it varies from 0 to 12. (The percentage of men arrested once during 1986 was 20.51.) The variable _pcnv_ is the proportion (not percentage) of arrests prior to 1986 that led\n",
    "to conviction, _avgsen_ is average sentence length served for prior convictions (zero for most people), _ptime86_ is months spent in prison in 1986, and _qemp86_ is the number of quarters during which the man was employed in 1986 (from zero to four).  \n",
    "    \n",
    "A linear model explaining arrests is\n",
    "\n",
    "\\begin{equation*}\n",
    "narr86=\\beta_0+\\beta_1pcnv+\\beta_2avgsen+\\beta_3ptime86+\\beta_4qemp86+u\n",
    "\\end{equation*}\n",
    "\n",
    "\n",
    "where _pcnv_ is a proxy for the likelihood for being convicted of a crime and _avgsen_ is a measure of expected severity of punishment, if convicted. The variable _ptime86_ captures the incarcerative effects of crime: if an individual is in prison, he cannot be arrested for a crime outside of prison. Labor market opportunities are crudely captured by _qemp86_. </blockquote>\n",
    "\n",
    "1. Estimate the model and interpret the results. Do they intuitively make sense? \n"
   ]
  },
  {
   "cell_type": "code",
   "execution_count": null,
   "metadata": {},
   "outputs": [],
   "source": []
  }
 ],
 "metadata": {
  "kernelspec": {
   "display_name": "Python 3",
   "language": "python",
   "name": "python3"
  },
  "language_info": {
   "codemirror_mode": {
    "name": "ipython",
    "version": 3
   },
   "file_extension": ".py",
   "mimetype": "text/x-python",
   "name": "python",
   "nbconvert_exporter": "python",
   "pygments_lexer": "ipython3",
   "version": "3.7.1"
  },
  "toc": {
   "base_numbering": 1,
   "nav_menu": {},
   "number_sections": true,
   "sideBar": true,
   "skip_h1_title": true,
   "title_cell": "Table of Contents",
   "title_sidebar": "Contents",
   "toc_cell": false,
   "toc_position": {},
   "toc_section_display": true,
   "toc_window_display": true
  },
  "varInspector": {
   "cols": {
    "lenName": 16,
    "lenType": 16,
    "lenVar": 40
   },
   "kernels_config": {
    "python": {
     "delete_cmd_postfix": "",
     "delete_cmd_prefix": "del ",
     "library": "var_list.py",
     "varRefreshCmd": "print(var_dic_list())"
    },
    "r": {
     "delete_cmd_postfix": ") ",
     "delete_cmd_prefix": "rm(",
     "library": "var_list.r",
     "varRefreshCmd": "cat(var_dic_list()) "
    }
   },
   "types_to_exclude": [
    "module",
    "function",
    "builtin_function_or_method",
    "instance",
    "_Feature"
   ],
   "window_display": false
  }
 },
 "nbformat": 4,
 "nbformat_minor": 2
}
