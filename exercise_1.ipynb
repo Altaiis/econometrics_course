{
 "cells": [
  {
   "cell_type": "markdown",
   "metadata": {},
   "source": [
    "# Exercise 1"
   ]
  },
  {
   "cell_type": "markdown",
   "metadata": {},
   "source": [
    "- Use the dataset `cig85_95`"
   ]
  },
  {
   "cell_type": "markdown",
   "metadata": {},
   "source": [
    "The data is called **THE CIGARETTE CONSUMPTION PANEL DATA SET** and contains the following:\n",
    "\n",
    "<blockquote> The data set consists of annual data for the 48 continental U.S. states from 1985 - 1995.  \n",
    "Quantity consumed is measured by annual per capita cigarette sales in packs per fiscal year, \n",
    "as derived from state tax collection data.  The price is the average retail cigarette price \n",
    "per pack during the fiscal year, including taxes.  Income is per capita income.  \n",
    "The general sales tax is the average tax, in cents per pack, due to the broad-based state sales \n",
    "tax applied to all consumption goods.  The cigarette-specific tax is the tax applied to \n",
    "cigarettes only.  All prices, income, and taxes used in the regressions in this chapter \n",
    "are deflated by the Consumer Price Index and thus are in constant (real) dollars.  \n",
    "We are grateful to Professor Jonathan Gruber of MIT for providing us with these data."
   ]
  },
  {
   "cell_type": "markdown",
   "metadata": {},
   "source": [
    "The dataset is in the `.dta` format and also contains additional information per column which you can extract using\n",
    "```python\n",
    "df.variable_labels()\n",
    "```\n",
    "where `df` is the name of the dataframe.\n",
    "\n",
    "To make this work, you have to add `,iterator=True` before the closing parenthesis when you load the dataframe. \n",
    "This will give you a better understanding on the meaning of the variables.\n",
    "\n",
    "However, some commands don't work after that, so you need to load the dataframe again in a new cell to execute further analysis and data manipulation.\n",
    "\n"
   ]
  },
  {
   "cell_type": "markdown",
   "metadata": {},
   "source": [
    "1. What type of dataset do we have and how do you see this?\n",
    "1. How many observations (rows) does the dataset contain?\n",
    "1. How many years are covered?\n",
    "1. How many states?\n",
    "1. What is the mean, minimum and maximum of the column pop?\n",
    "1. What is the mean, minimum and maximum of column packpc in AL (Alabama)?\n",
    "1. What is the mean of the column income in Texas in 1995?\n",
    "1. How many distinct values does cpi have?\n",
    "1. Generate a new column which is the logarithm of taxs and call it log_taxs\n",
    "1. Plot the square of avgprs against packpc and make the plot look nice\n",
    "1. Plot a histogram of the logarithm of taxes\n",
    "1. Add a column to the dataset that consists only of 4s and call it fours\n",
    "1. Replace rows 3 to 5 of column named four (the one you just made) by 0"
   ]
  },
  {
   "cell_type": "markdown",
   "metadata": {},
   "source": [
    "# Exercise 2"
   ]
  },
  {
   "cell_type": "markdown",
   "metadata": {},
   "source": [
    "**Experiment on the Effect of Class Size Reductions**\n",
    "\n",
    "In experiment it was attempted to asses the effect of reducing class size  on test scores in the early grades. In the late 1980s, Tennessee conducted a large, multimillion-dollar randomized controlled experiment to ascertain\n",
    "whether class size reduction was an effective way to improve elementary education.\n",
    "The results of this experiment have strongly influenced our understanding of the effect of class size reductions."
   ]
  },
  {
   "cell_type": "markdown",
   "metadata": {},
   "source": [
    "**Experimental Design**\n",
    "\n",
    "<blockquote> The Tennessee class size reduction experiment, known as Project STAR (Student–\n",
    "Teacher Achievement Ratio), was a 4-year experiment designed to evaluate the effect\n",
    "on learning of small class sizes. Funded by the Tennessee state legislature, the experiment\n",
    "cost approximately $12 million. The study compared three different class arrangements\n",
    "for kindergarten through third grade: a regular-sized class, with 22 to 25 students\n",
    "per class, a single teacher, and no teacher’s aide; a small class, with 13 to 17 students per\n",
    "class and no teacher’s aide; and a regular-sized class with a teacher’s aide.\n",
    "Each school participating in the experiment had at least one class of each type,\n",
    "and students entering kindergarten in a participating school were randomly assigned\n",
    "to one of these three groups at the beginning of the 1985–1986 academic year. Teachers\n",
    "were also assigned randomly to one of the three types of classes.\n",
    "According to the original experimental protocol, students would stay in their initially\n",
    "assigned class type for the 4 years of the experiment (kindergarten through third\n",
    "grade). However, because of parent complaints, students initially assigned to a regular\n",
    "class (with or without an aide) were randomly reassigned at the beginning of first grade\n",
    "to a regular class with an aide or to a regular class without an aide; students initially\n",
    "assigned to a small class remained in a small class. Students entering school in first\n",
    "grade (kindergarten was optional), in the second year of the experiment, were randomly\n",
    "assigned to one of the three groups. Each year students in the experiment were\n",
    "given standardized tests (the Stanford Achievement Test) in reading and math.\n",
    "The project paid for the additional teachers and aides necessary to achieve the\n",
    "target class sizes. During the first year of the study, approximately 6400 students\n",
    "participated in 108 small classes, 101 regular-sized classes, and 99 regular-sized classes\n",
    "with an aide. Over all 4 years of the study, a total of approximately 11,600 students\n",
    "at 80 schools participated in the study."
   ]
  },
  {
   "cell_type": "markdown",
   "metadata": {},
   "source": [
    "Please use the `webstar.dta` data.\n",
    "    \n"
   ]
  },
  {
   "cell_type": "markdown",
   "metadata": {},
   "source": [
    "1. How many male and how many female students are in the data?\n",
    "1. make a bar chart.\n",
    "1. What is the share of male-black, male-white, female-black, female-white, male-non-black-or-white (all other races combined) and female non-black-or-whitestudents?\n",
    "1. Make a pie chart.\n",
    "1. What is the range of the total reading scaled score (_treadssk_)?\n",
    "1. What is the mean of the math scaled score (_tmathssk_) for students that have attended the STAR project in the kindergarden and have been in a small class (_cltypek_) and what is for students that have attended the STAR project in the kindergarden and have been in a regular class (not including the 'regular+aid' category)? (Note that this is no very informative as those that have been in a small class in kindergarden may have been in a regular class in first and /or second grade while those that haven't been in a small class in kindergarden may have been in so in first or second grade) \n",
    "1. What is the combined math and resing scaled score (the sum of _tmathssk_ and _treadssk_) for students that have been in a small class in kindergarden, first grade and second grade (_cltypek_,_cltype1_ and _cltype2_) compared to students that have never been in a small class (_cltypek_, _cltype1_ and _cltype2_ are either 'regular' or missing). Exclude the regular+aide' category for this exercise.\n",
    "1. Regarding the former task: is the difference larger or smaller for white than for non-white students?"
   ]
  },
  {
   "cell_type": "markdown",
   "metadata": {},
   "source": [
    "# Exercise 3\n",
    "\n",
    "**Wage and Education**\n",
    "\n",
    "<blockquote> For the population of people in the workforce in 1976, let $y=wage$, where $wage$ is measured in dollars per hour. Thus, for a particular person, if $wage$=6.75, the hourly wage is \\$6.75. Let $x=educ$ denote years of schooling; for example, $educ=12$ corresponds to a complete high school education.\n",
    "\n",
    "We are interested in studying the relation between education and wage, and our regression model is  \n",
    "\n",
    "\n",
    "\\begin{equation*}\n",
    "wage=\\beta_0+\\beta_1education+u\n",
    "\\end{equation*}\n",
    "\n",
    "Because the average wage in the sample is \\\\$5.90, the Consumer Price Index indicates that this amount is equivalent to \\\\$24.90 in 2016 dollars.\n",
    "\n",
    "1. Describe the dataset descriptively (mean, minimum, maximum,  number of observations).\n",
    "1. Estimate the paramters by hand and using a built-in routine.\n",
    "1. How do we interpret the parameter estimates?\n",
    "1. Do you think the assumtpion $E(u|x)=0$ is met? If not - why not? And what does it mean?\n",
    "1. Plot the fit."
   ]
  },
  {
   "cell_type": "markdown",
   "metadata": {},
   "source": [
    "# Exercise 4\n",
    "\n",
    "**Voting Outcomes and Campaign Expenditures**\n",
    "\n",
    "<blockquote> The file VOTE1 contains data on election outcomes and campaign expenditures for 173 two-party races for the U.S. House of Representatives in 1988. There are two candidates in each race, A and B. Let $voteA$ be the percentage of the vote received by Candidate A and $shareA$ be the percentage of\n",
    "total campaign expenditures accounted for by Candidate A. Many factors other than $shareA$ affect the election outcome (including the quality of the candidates and possibly the dollar amounts spent by A and B). Nevertheless, we can estimate a simple regression model to find out whether spending more relative to one’s challenger implies a higher percentage of the vote.\n",
    "The regression model in this case is \n",
    "\n",
    "\\begin{equation*}\n",
    "voteA=\\beta_0+\\beta_1shareA+u\n",
    "\\end{equation*}\n",
    "\n",
    "1. Describe the dataset descriptively (mean, minimum, maximum,  number of observations).\n",
    "1. Estimate the parameters by hand and using a built-in routine.\n",
    "1. How do we interpret the parameter estimates?\n",
    "1. Do you think the assumption $E(u|x)=0$ is met? If not - why not? And what does it mean?\n",
    "1. Plot the fit.\n"
   ]
  },
  {
   "cell_type": "code",
   "execution_count": null,
   "metadata": {},
   "outputs": [],
   "source": []
  }
 ],
 "metadata": {
  "kernelspec": {
   "display_name": "Python 3",
   "language": "python",
   "name": "python3"
  },
  "language_info": {
   "codemirror_mode": {
    "name": "ipython",
    "version": 3
   },
   "file_extension": ".py",
   "mimetype": "text/x-python",
   "name": "python",
   "nbconvert_exporter": "python",
   "pygments_lexer": "ipython3",
   "version": "3.7.1"
  },
  "toc": {
   "base_numbering": 1,
   "nav_menu": {},
   "number_sections": true,
   "sideBar": true,
   "skip_h1_title": true,
   "title_cell": "Table of Contents",
   "title_sidebar": "Contents",
   "toc_cell": false,
   "toc_position": {},
   "toc_section_display": true,
   "toc_window_display": true
  },
  "varInspector": {
   "cols": {
    "lenName": 16,
    "lenType": 16,
    "lenVar": 40
   },
   "kernels_config": {
    "python": {
     "delete_cmd_postfix": "",
     "delete_cmd_prefix": "del ",
     "library": "var_list.py",
     "varRefreshCmd": "print(var_dic_list())"
    },
    "r": {
     "delete_cmd_postfix": ") ",
     "delete_cmd_prefix": "rm(",
     "library": "var_list.r",
     "varRefreshCmd": "cat(var_dic_list()) "
    }
   },
   "types_to_exclude": [
    "module",
    "function",
    "builtin_function_or_method",
    "instance",
    "_Feature"
   ],
   "window_display": false
  }
 },
 "nbformat": 4,
 "nbformat_minor": 2
}
