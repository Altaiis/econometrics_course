{
 "cells": [
  {
   "cell_type": "markdown",
   "metadata": {},
   "source": [
    "# Exercise 12"
   ]
  },
  {
   "cell_type": "markdown",
   "metadata": {},
   "source": [
    "We will now use the dataset 'state_aid'. It covers parts from the data used in the paper _The impact of state aid on the survival and financial viability of aided firms_ which you can find the dropbox folder 'papers'.\n",
    "\n",
    "\n",
    "The data is in the Stata format '.dta'. The variables included are as follow. If you want to know more details, please look at the data description in the paper.\n",
    "\n",
    "**Binary outcome variable**    \n",
    "aid = dummy variable which is 1 if a firm has received state aid in a year and zero otherwise\n",
    "\t\n",
    "**factors varying over firm and time**\n",
    "ln_profit = logarithm of profit  \n",
    "ln_fixed_liabilities = logarithm of fixed liability  \n",
    "ln_current_liabilities = logarithm of current liabilities  \n",
    "rev_emp = Revenue per employee  \n",
    "altman_kat = cateogry of Altman z-score  \n",
    "public = pulicly listed firm  \n",
    "liquidity_ratio = liquidity ratio  \n",
    "solvency_ratio = solvency ratio  \n",
    "ln_employment = logarithm of number of employees  \n",
    "size = firm size (small, medium, large, vlarge)  \n",
    "altman_kat = categories of the Altman Z-score (1-3), see paper for details on categories.  \n",
    "\t\n",
    "**Factors varying over country and time**  \n",
    "unempl_3y = average unemployment rate last 3 years (per country)  \n",
    "sub_gov_exp = ratio of subsidies to governmental expenditures (per country)  \n",
    "real_gdp_per_cap = pct change of real gdp per capita (per country)    \n",
    "nace_dig1 = first digit of main industry code of a firm according to NACE Rev.2 industry classification  \n",
    "\n",
    "cid = country IDs  \n",
    "year = years  \n",
    "\n",
    "Firms that have received state aid are removed from the dataset in the years after they received the aid, so that the effect of state aid does not disturb the analysis."
   ]
  },
  {
   "cell_type": "markdown",
   "metadata": {},
   "source": [
    "We are interested in understanding the factors determining whether a firm receives state aid."
   ]
  },
  {
   "cell_type": "markdown",
   "metadata": {},
   "source": [
    "1. What are the options to estimate such a model?\n",
    "1. Estimate a linear probability model first. Include log_profit, ln_fixed_liabilities and ln_current_liabilities. Do the parameter estimats make sense? Are they significant? How do we interpret them? What are the drawbacks of an linear probability model? When do they matter?\n",
    "1. Add all other variables listed that vary over firm and time and re-estimate the model. Do the estimates make sense? Are they significant? Interpret them.\n",
    "1. Add all factors varying over country and time now. Do the estimates make sense? Are they significant? Interpret them.\n",
    "1. Add firm size and re-estimate the model. Do the estimates make sense? Are they significant? Interpret them.\n",
    "1. Now control for the categorical variables determining the industry of a firm, the country in which its head office is located as well as the years. Why are these variables especially useful? What are they capturing? How do you have to interpret the coefficients? \n",
    "1. Estimate the last (full) model in logit. How does the interpretation change?\n",
    "1. What is the difference between a logit and probit model?\n",
    "1. Compute the APE for the most refined model and compare it with the linear probability coefficents. Is the linear probability model a good approximation in this case?\n",
    "1. Estimate a model with ln_profit, ln_fixed_liabilities, ln_current_liabilities, altman_kat and firm size. Think about values of these variables that would make it very likely that a firm receives state aid and predict the outcome. Do the same for values which make it likely that the firm doesn't receive state aid. Predict the outcome again. Compare the outcome against the outcomes of a lienar probability model."
   ]
  },
  {
   "cell_type": "code",
   "execution_count": null,
   "metadata": {},
   "outputs": [],
   "source": []
  },
  {
   "cell_type": "code",
   "execution_count": null,
   "metadata": {},
   "outputs": [],
   "source": []
  }
 ],
 "metadata": {
  "kernelspec": {
   "display_name": "Python 3",
   "language": "python",
   "name": "python3"
  },
  "language_info": {
   "codemirror_mode": {
    "name": "ipython",
    "version": 3
   },
   "file_extension": ".py",
   "mimetype": "text/x-python",
   "name": "python",
   "nbconvert_exporter": "python",
   "pygments_lexer": "ipython3",
   "version": "3.7.1"
  },
  "toc": {
   "base_numbering": 1,
   "nav_menu": {},
   "number_sections": true,
   "sideBar": true,
   "skip_h1_title": true,
   "title_cell": "Table of Contents",
   "title_sidebar": "Contents",
   "toc_cell": false,
   "toc_position": {},
   "toc_section_display": true,
   "toc_window_display": true
  },
  "varInspector": {
   "cols": {
    "lenName": 16,
    "lenType": 16,
    "lenVar": 40
   },
   "kernels_config": {
    "python": {
     "delete_cmd_postfix": "",
     "delete_cmd_prefix": "del ",
     "library": "var_list.py",
     "varRefreshCmd": "print(var_dic_list())"
    },
    "r": {
     "delete_cmd_postfix": ") ",
     "delete_cmd_prefix": "rm(",
     "library": "var_list.r",
     "varRefreshCmd": "cat(var_dic_list()) "
    }
   },
   "types_to_exclude": [
    "module",
    "function",
    "builtin_function_or_method",
    "instance",
    "_Feature"
   ],
   "window_display": false
  }
 },
 "nbformat": 4,
 "nbformat_minor": 2
}
