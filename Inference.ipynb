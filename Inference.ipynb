{
 "cells": [
  {
   "cell_type": "markdown",
   "metadata": {
    "slideshow": {
     "slide_type": "slide"
    }
   },
   "source": [
    "**Some introductory examples on Inference**\n",
    "\n",
    "The history of statistics (and therefore econometrics) is closely related to beer and gambling.\n",
    "\n",
    "- Inference and Hypothesis testing in large Samples: Pearson/Poincare and Roulette\n",
    "- Inference and Hypothesis testing in small Samples: The Student and the Guiness\n",
    "- Regression analysis and horse betting\n"
   ]
  },
  {
   "cell_type": "markdown",
   "metadata": {
    "slideshow": {
     "slide_type": "slide"
    }
   },
   "source": [
    "**Inference and Hypothesis testing in large Samples**\n",
    "\n",
    "Pearson/Poincare and Roulette\n",
    "\n",
    "Taken from The Perfect Bet: How Science is Taking the Luck out of Gambling - by Adam Kucharski"
   ]
  },
  {
   "cell_type": "markdown",
   "metadata": {
    "slideshow": {
     "slide_type": "slide"
    }
   },
   "source": [
    "**Inference and Hypothesis testing in large Samples**\n",
    "\n",
    "To understand randomness, Pearson believed it was important to collect as much data as possible\n",
    "- He flipped a shilling twenty-five thousand times in his summer vacations, and draw 8000 lottery tickets from a back\n",
    "\n",
    "When he was denied funding to watch the Roulette tables in Monaco, he found  out that Le Monaco  published the Roulette results from every week\n",
    "- Ignoring the zero, out of the sixteen thousand or so spins published by Le Monaco, 50.15 per cent came up red \n",
    "    -  To work out whether the difference was down to chance, Pearson calculated the amount the observed spins deviated from 50 percent. \n",
    "    - Then he compared this with the variation that would be expected if the wheels were random. \n",
    "    - He found that a 0.15 per cent difference wasn’t particularly unusual, and it certainly didn’t give him a reason to doubt the randomness of the wheels."
   ]
  },
  {
   "cell_type": "markdown",
   "metadata": {
    "slideshow": {
     "slide_type": "slide"
    }
   },
   "source": [
    "Next, he looked at how often the same colour came up several times in a row. \n",
    "- When he compared the length of runs of different colours with the frequencies that he’d expect if the wheels were random, something looked wrong. \n",
    "- Runs of two or three of the same colour were scarcer than they should have been. \n",
    "- And runs of a single colour—say, a black sandwiched between two reds—were far too common. \n",
    "- Pearson calculated the probability of observing an outcome at least as extreme as this one, assuming that the roulette wheel was truly random. \n",
    "- This probability, which he dubbed the p value, was tiny. \n",
    "- So small, in fact, that Pearson said that even if he’d been watching the Monte Carlo tables since the start of Earth’s history, he would not have expected to see a result that extreme. \n"
   ]
  },
  {
   "cell_type": "markdown",
   "metadata": {
    "slideshow": {
     "slide_type": "slide"
    }
   },
   "source": [
    "Pearson was furious: ‘The man of science may proudly predict the results of tossing halfpence,’ he said, ‘but the Monte Carlo roulette confounds his theories and mocks at his laws.’ \n",
    "\n",
    "- Pearson suggested that the casinos be closed down and their assets donated to science. \n",
    "- However, it later emerged that Pearson’s odd results weren’t really due to faulty wheels. \n",
    "    - Although Le Monaco paid reporters to watch the roulette tables and record the outcomes, the reporters sat in a bar and made up the numbers.\n",
    "\n",
    "And this is how a newspaper lent name to the Monte Carlo Simulation"
   ]
  },
  {
   "cell_type": "markdown",
   "metadata": {
    "slideshow": {
     "slide_type": "slide"
    }
   },
   "source": [
    "**Small sample Experiments. Why Guiness is important in statistical science**\n",
    "\n",
    "How to make one beer taste like the other, all around the world?\n",
    "\n",
    "<br>  \n",
    "\n",
    "<img src=\"figs\\Guiness.png\" width=\"100\" align=\"right\" /> \n",
    "    \n",
    "<p>\n",
    "    \n",
    "Everyone who tried knows about the complicated process of beer brewing\n",
    "- Central ingredients are hops, malted barley, water (, yeast)\n",
    "- Barley and Hop have a lot of variability in terms of nutritional value. \n",
    "    - E.g., barley varieties differ in terms of sugar content, even though cultivated on the same unit area of land and under similar conditions\n",
    "    - Sugar affects the degree of alcohol content in the final product which ideally should not vary \n",
    "\n",
    "A major problem for the guiness brewing company is therefore studying the sugar content in barley barrels"
   ]
  },
  {
   "cell_type": "markdown",
   "metadata": {
    "slideshow": {
     "slide_type": "slide"
    }
   },
   "source": [
    "**How do can we ensure that the sample we draw is representative for the whole population?**\n",
    "\n",
    "When comparing the mean of a sample to the mean of a population, we could be comfortable using the normal distribution \n",
    "- goes back to discovery of normal curve by Abraham de Moivre and statistical popularization by Sir Francis Galton\n",
    "- Statisticians in the 18th century proposed using the formula of the so-called z-Test: $z=\\frac{M-\\mu}{\\frac{\\sigma}{\\sqrt{N}}}$\n",
    "\n",
    "No problem in large enough samples: \n",
    "- then we can replace the unkown standard deviation of the population by the standard deviation of the sample"
   ]
  },
  {
   "cell_type": "markdown",
   "metadata": {
    "slideshow": {
     "slide_type": "slide"
    }
   },
   "source": [
    "**Not anyone has the luxory to use large samples**\n",
    "\n",
    "Brewers want to minimize the draws of barley sample for testing\n",
    "- every ounce of testing cannot be sold\n",
    "- A sample size of, say, 30 is therefore not realistic. We are more in the range of 2-4\n",
    "- We cannot simply plug in the population standard deviation because of the large probable error that we make \n",
    "\n",
    "This was the challenge faced by scientist William Sealy Gosset who worked for Guiness\n",
    "- The goal is to estimate the mean, by collecting random samples each of the same size\n",
    "- The mean of each draw naturally deviates from the population mean\n",
    "- In large enough samples we can just draw many thousand times and calculate the deviation across draws\n",
    "    - which is the standard error of the mean: $\\frac{\\sigma}{\\sqrt{N}}$\n",
    "    - we want this number to be as low as reasonably possible"
   ]
  },
  {
   "cell_type": "markdown",
   "metadata": {},
   "source": [
    "Gosset noted that the standard error is only determined by two things: \n",
    "- the standard deviation and the sample size\n",
    "- Plot the probable error with respect to the sample size\n",
    "- $N=1$: the probable error that we make in estimating the standard deviation is as large as the standard deviation\n",
    "- Decreasing dramatically at small sample sizes, then flattens out\n",
    "\n",
    "What is the \"optimal\" minimum number of draws?  \n",
    "- He noted that estimating with small samples increases the standard error of the mean \n",
    "    - the random error/noise of the test statistic\n",
    "    - Bias: this random error goes consistently in the same direction  \n",
    "\n",
    "This bias changes the shape of the distribution\n",
    "- Gosset developed a new famility of distributions (t-distributions) for small samples\n",
    "- Idea of using monte carlo methods to tabulate quantiles and construct its tables (small samples) \n",
    "- Unlike Karl Pearson, who always put focus on the asymptotic case (large samples)"
   ]
  },
  {
   "cell_type": "markdown",
   "metadata": {
    "slideshow": {
     "slide_type": "slide"
    }
   },
   "source": [
    "<br>  \n",
    "\n",
    "<img src=\"figs\\distributions.png\" width=\"400\" /> \n",
    "    \n",
    "<p>\n",
    "\n",
    "- Flatter than the normal distributions\n",
    "- The cutoff points of t-distributions that indicate the top 2.5\\% on each side are more spread out than the ones of the z-distribution\n",
    "- The t-statistic is always larger than the z-statistic (larger than 1.96)"
   ]
  },
  {
   "cell_type": "markdown",
   "metadata": {
    "slideshow": {
     "slide_type": "slide"
    }
   },
   "source": [
    "Gosset published his results in Pearson's journal Biometrika in 1908\n",
    "- R.A. Fisher corrected the formula by $N-1$ (degrees of freedom)  \n",
    "\n",
    "<br>  \n",
    "\n",
    "<img src=\"figs\\student.png\" width=\"300\" /> \n",
    "    \n",
    "<p>\n",
    "\n",
    "Guiness didn't want to acknowledge the potential variablity in beer nor its competitors to apply the results"
   ]
  },
  {
   "cell_type": "code",
   "execution_count": 78,
   "metadata": {
    "slideshow": {
     "slide_type": "-"
    }
   },
   "outputs": [
    {
     "data": {
      "image/png": "[encoded data removed]",
      "text/plain": [
       "<Figure size 432x288 with 1 Axes>"
      ]
     },
     "metadata": {
      "needs_background": "light"
     },
     "output_type": "display_data"
    }
   ],
   "source": [
    "\n",
    "import matplotlib.pyplot as plt\n",
    "import numpy as np\n",
    "import scipy.stats as stats\n",
    "import math\n",
    "\n",
    "mu = 0\n",
    "variance = 1\n",
    "sigma = math.sqrt(variance)\n",
    "x = np.linspace(mu - 3*sigma, mu + 3*sigma, 100)\n",
    "plt.plot(x, stats.norm.pdf(x, mu, sigma))\n",
    "plt.show()\n"
   ]
  },
  {
   "cell_type": "markdown",
   "metadata": {
    "slideshow": {
     "slide_type": "slide"
    }
   },
   "source": [
    "**Exercise**\n",
    "- The sugar content of malt extract was measured by degrees saccharine per barrel of 168 pounds malt weight. \n",
    "- In earlier experiments the brewers determined that an extract around 133 degrees saccharine gave the desired alcohol level.\n",
    "- In Gosset’s view, 0.5 degrees was a difference or error in malt extract level which Guinness and its customers could accept. With a 10 to 1 odds of being within 0.5 degree.\n",
    "\n",
    "How can we be certain that a barrel has a sugar content of 133 degrees, minimizing the number of costly draws?\n",
    "- Gosset simulated what would happen if they drew and averaged multiple samples\n",
    "    - What if we take 2 samples and average that out, is that close enough to the real value?\n",
    "    - What if we take 3?\n",
    "    - etc?"
   ]
  },
  {
   "cell_type": "markdown",
   "metadata": {},
   "source": [
    "**Procedure**\n",
    "1. Create a vector of samples from the same barrel of malt extract \n",
    "2. sample from those samples, take the average, \n",
    "4. see if we are within the range that Gosset defined, \n",
    "5. calculate how many times the sample was a correct representation of the barrel \n",
    "6. and finally determine how many samples are enough."
   ]
  },
  {
   "cell_type": "code",
   "execution_count": 1,
   "metadata": {},
   "outputs": [],
   "source": [
    "# https://blog.rmhogervorst.nl/blog/2019/10/11/gosset-part-2-small-sample-statistics/#fn6\n",
    "\n",
    "import pandas as pd\n",
    "import numpy as np\n",
    "\n",
    "np.random.seed(1)\n",
    "\n",
    "mu, sigma = 133, 0.5 # mean and standard deviation\n",
    "\n",
    "draws=1000   \n",
    "\n",
    "d = {} \n",
    "for x in range(11):\n",
    "    d[\"group\" + str(x)] = np.random.normal(mu, sigma, size=(draws, x))\n",
    "\n",
    "d_values = list(d.values())"
   ]
  },
  {
   "cell_type": "code",
   "execution_count": 59,
   "metadata": {},
   "outputs": [
    {
     "data": {
      "text/plain": [
       "133.0605828520757"
      ]
     },
     "execution_count": 59,
     "metadata": {},
     "output_type": "execute_result"
    }
   ],
   "source": [
    "# %% # 1 Draw\n",
    "array1 = np.array(d_values[1])\n",
    "\n",
    "array1.mean()\n",
    "array1.mean(0)\n",
    "\n",
    "array1[ np.where((array1 < (mu-sigma) ) |  (array1 > (mu+sigma) ) ) ]\n",
    "\n",
    "freq1=( (array1 > (mu-sigma))  &  (array1 < (mu+sigma))).sum()\n",
    "print(freq1/(1*draws))\n",
    "\n",
    "array1.sum()/ (1*draws)\n",
    "\n",
    "np.std(array1)"
   ]
  },
  {
   "cell_type": "code",
   "execution_count": 55,
   "metadata": {},
   "outputs": [
    {
     "data": {
      "text/plain": [
       "133.0813083361914"
      ]
     },
     "execution_count": 55,
     "metadata": {},
     "output_type": "execute_result"
    }
   ],
   "source": [
    "# %% # 2 Draws\n",
    "array2 = np.array(d_values[2])\n",
    "\n",
    "array2.mean()\n",
    "array2.mean(0)\n",
    "\n",
    "array2[ np.where((array2 < 132 ) |  (array2 > (mu+sigma) ) ) ]\n",
    "freq2=( (array2 > (mu-sigma))  &  (array2 < (mu+sigma))).sum()\n",
    "print(freq2/(2*draws))\n",
    "\n",
    "array2.sum()/ (2*draws)\n",
    "\n",
    "np.std(array2)"
   ]
  },
  {
   "cell_type": "code",
   "execution_count": 56,
   "metadata": {},
   "outputs": [
    {
     "data": {
      "text/plain": [
       "133.05652493977385"
      ]
     },
     "execution_count": 56,
     "metadata": {},
     "output_type": "execute_result"
    }
   ],
   "source": [
    "# %% # 3 Draws\n",
    "array3 = np.array(d_values[3])\n",
    "\n",
    "array3.mean()\n",
    "array3.mean(0)\n",
    "\n",
    "array3[ np.where((array3 < (mu-sigma) ) |  (array3 > (mu+sigma) ) ) ]\n",
    "freq3=( (array3 > (mu-sigma))  &  (array3 < (mu+sigma))).sum()\n",
    "print(freq3/(3*draws))\n",
    "\n",
    "array3.sum()/ (3*draws)\n",
    "\n",
    "np.std(array3)"
   ]
  },
  {
   "cell_type": "code",
   "execution_count": 57,
   "metadata": {},
   "outputs": [
    {
     "data": {
      "text/plain": [
       "132.998837604454"
      ]
     },
     "execution_count": 57,
     "metadata": {},
     "output_type": "execute_result"
    }
   ],
   "source": [
    "# %% # 4 Draws\n",
    "array4 = np.array(d_values[4])\n",
    "\n",
    "array4.mean()\n",
    "array4.mean(0)\n",
    "\n",
    "array4[ np.where((array4 < (mu-sigma) ) |  (array4 > (mu+sigma) ) ) ]\n",
    "freq4=( (array4 > (mu-sigma))  &  (array4 < (mu+sigma))).sum()\n",
    "print(freq4/(4*draws))\n",
    "\n",
    "array4.sum()/ (4*draws)\n",
    "\n",
    "np.std(array4)"
   ]
  },
  {
   "cell_type": "markdown",
   "metadata": {
    "slideshow": {
     "slide_type": "slide"
    }
   },
   "source": [
    "**Wine Example**\n",
    "The dataset used is Wine Quality Data set from UCI Machine Learning Repository. https://archive.ics.uci.edu/ml/datasets/Wine+Quality\n",
    "\n",
    "See: \n",
    "- https://medium.datadriveninvestor.com/regression-from-scratch-wine-quality-prediction-d61195cb91c8\n",
    "- https://towardsdatascience.com/red-wine-quality-prediction-using-regression-modeling-and-machine-learning-7a3e2c3e1f46"
   ]
  },
  {
   "cell_type": "code",
   "execution_count": 64,
   "metadata": {
    "slideshow": {
     "slide_type": "slide"
    }
   },
   "outputs": [
    {
     "data": {
      "text/html": [
       "<div>\n",
       "<style scoped>\n",
       "    .dataframe tbody tr th:only-of-type {\n",
       "        vertical-align: middle;\n",
       "    }\n",
       "\n",
       "    .dataframe tbody tr th {\n",
       "        vertical-align: top;\n",
       "    }\n",
       "\n",
       "    .dataframe thead th {\n",
       "        text-align: right;\n",
       "    }\n",
       "</style>\n",
       "<table border=\"1\" class=\"dataframe\">\n",
       "  <thead>\n",
       "    <tr style=\"text-align: right;\">\n",
       "      <th></th>\n",
       "      <th>fixed acidity</th>\n",
       "      <th>volatile acidity</th>\n",
       "      <th>citric acid</th>\n",
       "      <th>residual sugar</th>\n",
       "      <th>chlorides</th>\n",
       "      <th>free sulfur dioxide</th>\n",
       "      <th>total sulfur dioxide</th>\n",
       "      <th>density</th>\n",
       "      <th>pH</th>\n",
       "      <th>sulphates</th>\n",
       "      <th>alcohol</th>\n",
       "      <th>quality</th>\n",
       "    </tr>\n",
       "  </thead>\n",
       "  <tbody>\n",
       "    <tr>\n",
       "      <td>0</td>\n",
       "      <td>7.4</td>\n",
       "      <td>0.70</td>\n",
       "      <td>0.00</td>\n",
       "      <td>1.9</td>\n",
       "      <td>0.076</td>\n",
       "      <td>11.0</td>\n",
       "      <td>34.0</td>\n",
       "      <td>0.9978</td>\n",
       "      <td>3.51</td>\n",
       "      <td>0.56</td>\n",
       "      <td>9.4</td>\n",
       "      <td>5</td>\n",
       "    </tr>\n",
       "    <tr>\n",
       "      <td>1</td>\n",
       "      <td>7.8</td>\n",
       "      <td>0.88</td>\n",
       "      <td>0.00</td>\n",
       "      <td>2.6</td>\n",
       "      <td>0.098</td>\n",
       "      <td>25.0</td>\n",
       "      <td>67.0</td>\n",
       "      <td>0.9968</td>\n",
       "      <td>3.20</td>\n",
       "      <td>0.68</td>\n",
       "      <td>9.8</td>\n",
       "      <td>5</td>\n",
       "    </tr>\n",
       "    <tr>\n",
       "      <td>2</td>\n",
       "      <td>7.8</td>\n",
       "      <td>0.76</td>\n",
       "      <td>0.04</td>\n",
       "      <td>2.3</td>\n",
       "      <td>0.092</td>\n",
       "      <td>15.0</td>\n",
       "      <td>54.0</td>\n",
       "      <td>0.9970</td>\n",
       "      <td>3.26</td>\n",
       "      <td>0.65</td>\n",
       "      <td>9.8</td>\n",
       "      <td>5</td>\n",
       "    </tr>\n",
       "    <tr>\n",
       "      <td>3</td>\n",
       "      <td>11.2</td>\n",
       "      <td>0.28</td>\n",
       "      <td>0.56</td>\n",
       "      <td>1.9</td>\n",
       "      <td>0.075</td>\n",
       "      <td>17.0</td>\n",
       "      <td>60.0</td>\n",
       "      <td>0.9980</td>\n",
       "      <td>3.16</td>\n",
       "      <td>0.58</td>\n",
       "      <td>9.8</td>\n",
       "      <td>6</td>\n",
       "    </tr>\n",
       "    <tr>\n",
       "      <td>4</td>\n",
       "      <td>7.4</td>\n",
       "      <td>0.70</td>\n",
       "      <td>0.00</td>\n",
       "      <td>1.9</td>\n",
       "      <td>0.076</td>\n",
       "      <td>11.0</td>\n",
       "      <td>34.0</td>\n",
       "      <td>0.9978</td>\n",
       "      <td>3.51</td>\n",
       "      <td>0.56</td>\n",
       "      <td>9.4</td>\n",
       "      <td>5</td>\n",
       "    </tr>\n",
       "  </tbody>\n",
       "</table>\n",
       "</div>"
      ],
      "text/plain": [
       "   fixed acidity  volatile acidity  citric acid  residual sugar  chlorides  \\\n",
       "0            7.4              0.70         0.00             1.9      0.076   \n",
       "1            7.8              0.88         0.00             2.6      0.098   \n",
       "2            7.8              0.76         0.04             2.3      0.092   \n",
       "3           11.2              0.28         0.56             1.9      0.075   \n",
       "4            7.4              0.70         0.00             1.9      0.076   \n",
       "\n",
       "   free sulfur dioxide  total sulfur dioxide  density    pH  sulphates  \\\n",
       "0                 11.0                  34.0   0.9978  3.51       0.56   \n",
       "1                 25.0                  67.0   0.9968  3.20       0.68   \n",
       "2                 15.0                  54.0   0.9970  3.26       0.65   \n",
       "3                 17.0                  60.0   0.9980  3.16       0.58   \n",
       "4                 11.0                  34.0   0.9978  3.51       0.56   \n",
       "\n",
       "   alcohol  quality  \n",
       "0      9.4        5  \n",
       "1      9.8        5  \n",
       "2      9.8        5  \n",
       "3      9.8        6  \n",
       "4      9.4        5  "
      ]
     },
     "execution_count": 64,
     "metadata": {},
     "output_type": "execute_result"
    }
   ],
   "source": [
    "# Import data and Print head \n",
    "import pandas as pd \n",
    "from sklearn.model_selection import train_test_split \n",
    "from sklearn.linear_model import LinearRegression \n",
    "from sklearn import metrics \n",
    "import matplotlib.pyplot as plt \n",
    "import numpy as np \n",
    "import seaborn as sns\n",
    "\n",
    "df = pd.read_csv('data\\winequality-red.csv' , sep = ';')\n",
    "df.head()\n"
   ]
  },
  {
   "cell_type": "code",
   "execution_count": 65,
   "metadata": {
    "slideshow": {
     "slide_type": "slide"
    }
   },
   "outputs": [
    {
     "name": "stdout",
     "output_type": "stream",
     "text": [
      "fixed acidity           0.124052\n",
      "volatile acidity       -0.390558\n",
      "citric acid             0.226373\n",
      "residual sugar          0.013732\n",
      "chlorides              -0.128907\n",
      "free sulfur dioxide    -0.050656\n",
      "total sulfur dioxide   -0.185100\n",
      "density                -0.174919\n",
      "pH                     -0.057731\n",
      "sulphates               0.251397\n",
      "alcohol                 0.476166\n",
      "Name: quality, dtype: float64\n"
     ]
    }
   ],
   "source": [
    "# Finding correlations between each attribute of dataset using corr()\n",
    "# there are no categorical variables. each feature is a number. Regression problem. \n",
    "# Given the set of values for features, we have to predict the quality of wine. finding correlation of each feature with our target variable - quality\n",
    "correlations = df.corr()['quality'].drop('quality')\n",
    "print(correlations)"
   ]
  },
  {
   "cell_type": "code",
   "execution_count": 67,
   "metadata": {
    "slideshow": {
     "slide_type": "slide"
    }
   },
   "outputs": [
    {
     "data": {
      "image/png": "[encoded data removed]",
      "text/plain": [
       "<Figure size 432x288 with 2 Axes>"
      ]
     },
     "metadata": {
      "needs_background": "light"
     },
     "output_type": "display_data"
    }
   ],
   "source": [
    "# To draw a heatmap and get a detailed diagram of correlation, insert the below code.\n",
    "sns.heatmap(df.corr())\n",
    "plt.show()"
   ]
  },
  {
   "cell_type": "code",
   "execution_count": null,
   "metadata": {},
   "outputs": [],
   "source": []
  }
 ],
 "metadata": {
  "celltoolbar": "Diaporama",
  "kernelspec": {
   "display_name": "Python 3",
   "language": "python",
   "name": "python3"
  },
  "language_info": {
   "codemirror_mode": {
    "name": "ipython",
    "version": 3
   },
   "file_extension": ".py",
   "mimetype": "text/x-python",
   "name": "python",
   "nbconvert_exporter": "python",
   "pygments_lexer": "ipython3",
   "version": "3.7.1"
  },
  "toc": {
   "base_numbering": 1,
   "nav_menu": {},
   "number_sections": true,
   "sideBar": true,
   "skip_h1_title": false,
   "title_cell": "Table of Contents",
   "title_sidebar": "Contents",
   "toc_cell": false,
   "toc_position": {},
   "toc_section_display": true,
   "toc_window_display": false
  },
  "varInspector": {
   "cols": {
    "lenName": 16,
    "lenType": 16,
    "lenVar": 40
   },
   "kernels_config": {
    "python": {
     "delete_cmd_postfix": "",
     "delete_cmd_prefix": "del ",
     "library": "var_list.py",
     "varRefreshCmd": "print(var_dic_list())"
    },
    "r": {
     "delete_cmd_postfix": ") ",
     "delete_cmd_prefix": "rm(",
     "library": "var_list.r",
     "varRefreshCmd": "cat(var_dic_list()) "
    }
   },
   "types_to_exclude": [
    "module",
    "function",
    "builtin_function_or_method",
    "instance",
    "_Feature"
   ],
   "window_display": false
  }
 },
 "nbformat": 4,
 "nbformat_minor": 5
}
