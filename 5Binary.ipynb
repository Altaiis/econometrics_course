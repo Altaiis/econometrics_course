{
 "cells": [
  {
   "cell_type": "markdown",
   "metadata": {
    "slideshow": {
     "slide_type": "slide"
    }
   },
   "source": [
    "<h1> Introductory Econometrics in Python"
   ]
  },
  {
   "cell_type": "markdown",
   "metadata": {
    "slideshow": {
     "slide_type": "slide"
    }
   },
   "source": [
    "**Table of Content**\n",
    "- Simple Regression with Cross-sectional Data\n",
    "- Multiple Regression with cross-sectioal Data, including Inference and Hypothesis testing\n",
    "- ***Binary Dependent Variables***\n",
    "- Regression Analysis with Panel Data\n",
    "- Estimation of Treatment Effects: Difference-in-difference Analysis "
   ]
  },
  {
   "cell_type": "markdown",
   "metadata": {
    "slideshow": {
     "slide_type": "slide"
    }
   },
   "source": [
    "***Binary Dependent Variables***\n",
    "1. Linear Probability Model (incl.Heteroskedasticity and robust inference)\n",
    "2. Logit and Probit (incl Partial Effects)"
   ]
  },
  {
   "cell_type": "markdown",
   "metadata": {
    "slideshow": {
     "slide_type": "slide"
    }
   },
   "source": [
    "<h3>A Binary Dependent Variable: The Linear Probability Model</h3>\n",
    "\n",
    "So far:\n",
    "\n",
    "- We have learned much about the properties and applicability of the multiple linear regression model.\n",
    "- We studied how, through the use of binary independent variables, we can incorporate qualitative information as explanatory variables in a multiple regression model.\n",
    "- In all of the models up until now: the dependent variable $y$ has had quantitative meaning (for example, $y$ is a dollar amount, a percentage, or the logs of these).\n",
    "\n",
    "\n",
    "What happens if we want to use multiple regression to explain a qualitative event?"
   ]
  },
  {
   "cell_type": "markdown",
   "metadata": {
    "slideshow": {
     "slide_type": "slide"
    }
   },
   "source": [
    "**The Linear Probability Model**\n",
    "\n",
    "- Simplest case:\n",
    "    - The event we would like to explain is a binary outcome.\n",
    "    - Often the case in practice\n",
    "- In other words: our dependent variable, $y$, takes on only two values: zero and one.\n",
    "- For example:\n",
    "    - $y$ can be defined to indicate whether an adult has a high school education;\n",
    "    - $y$ can indicate whether a college student used illegal drugs during a given school year;\n",
    "    - or $y$ can indicate whether a firm was taken over by another firm during a given year."
   ]
  },
  {
   "cell_type": "markdown",
   "metadata": {
    "slideshow": {
     "slide_type": "slide"
    }
   },
   "source": [
    "**The Linear Probability Model**\n",
    "\n",
    "- In each of these examples, we can let $y=1$ denote one of the outcomes and $y=0$ the other outcome.\n",
    "- What does it mean to write down a multiple regression model, such as\n",
    "\n",
    "\\begin{equation*}\n",
    "y=\\beta_0+\\beta_1x_1+...+\\beta_kx_k+u,\n",
    "\\end{equation*}\n",
    "\n",
    "when $y$ is a binary variable?\n",
    "- Because $y$ can take on only two values, $\\beta_j$ cannot be interpreted as the change in $y$ given a one-unit increase in $x_j$, holding all other factors fixed: $y$ either changes from zero to one or from one to zero (or does not change).\n",
    "- Nevertheless, the $\\beta_j$still have useful interpretations.\n",
    "- If we assume that the zero conditional mean assumption holds, that is, $E(u|x_1,...,x_k)=0$, then we have, as always,\n",
    "\n",
    "\\begin{equation*}\n",
    "E(y|\\mathbf{x})=\\beta_0+\\beta_1x_1+...+\\beta_kx_k+u,\n",
    "\\end{equation*}\n",
    "\n",
    "where **x** is shorthand for all of the explanatory variables.\n"
   ]
  },
  {
   "cell_type": "markdown",
   "metadata": {
    "slideshow": {
     "slide_type": "slide"
    }
   },
   "source": [
    "**The Linear Probability Model**\n",
    "\n",
    "The key point is that when $y$ is a binary variable taking on the values zero and one, it is always true that: $P(y=1|\\mathbf{x})=E(y|\\mathbf{x})$: \n",
    "- the probability of \"success\" — that is, the probability that $y=1$ — is the same as the expected value of $y$.\n",
    "\n",
    "Thus, we have the important equation\n",
    "\n",
    "\\begin{equation*}\n",
    "P(y=1|\\mathbf{x})=\\beta_0+\\beta_1x_1+...+\\beta_kx_k+u,\n",
    "\\end{equation*}\n",
    "\n",
    "which says that the probability of success, say, $p(\\mathbf{x})=P(y=1|\\mathbf{x})$, is a linear function of the $x_j$.\n",
    "\n",
    "- Such a model is called **binary response model**, and $P(y=1|\\mathbf{x})$ is also called the **response probability**\n",
    "- Because probabilities must sum to one, $P(y=0|\\mathbf{x})=1-P(y=1|\\mathbf{x})$ is also a linear function of the $x_j$."
   ]
  },
  {
   "cell_type": "markdown",
   "metadata": {
    "slideshow": {
     "slide_type": "slide"
    }
   },
   "source": [
    "**The Linear Probability Model**\n",
    "\n",
    "- The multiple linear regression model with a binary dependent variable is called the **linear probability model (LPM)** because the response probability is linear in the parameters $\\beta_j$.\n",
    "- In the LPM, $\\beta_j$ measures the change in the probability of success when $x_j$ changes, holding other factors fixed:\n",
    "\n",
    "\\begin{equation*}\n",
    "\\Delta P(y=1|\\mathbf{x})=\\beta_j\\Delta x_j.\n",
    "\\end{equation*}\n",
    "\n",
    "\n",
    "- With this in mind, the multiple regression model can allow us to estimate the effect of various explanatory variables on qualitative events.\n",
    "- The mechanics of OLS are the same as before.\n",
    "If we write the estimated equation as\n",
    "\n",
    "\\begin{equation*}\n",
    "\\hat{y}=\\hat{\\beta}_0+\\hat{\\beta}_1x_1+...+\\hat{\\beta}_kx_k+u,\n",
    "\\end{equation*}\n",
    "\n",
    "we must now remember that $\\hat{y}$ is the predicted probability of success.\n",
    "- Therefore, $\\hat{\\beta}_0$ is the predicted probability of success when each $x_j$ is set to zero, which may or may not be interesting.\n",
    "- The slope coefficient $\\hat{\\beta}_1$ measures the predicted change in the probability of success when $x_1$ increases by one unit."
   ]
  },
  {
   "cell_type": "markdown",
   "metadata": {
    "slideshow": {
     "slide_type": "slide"
    }
   },
   "source": [
    "**Example: Married Women's Labor Force Participation**\n",
    "\n",
    "Let's study the probability that a woman is in the labor force (_inlf_) depending on socio-demographic characteristics such as husband's earnings (_nwifeinc_, in thousands of dollars), the years of education, age, experience, the number of kids younger than  6 or between 6 and 18.\n",
    "The script below estimates a linear probability model using the data set `mroz`.\n",
    "How do we interpret the coefficient of _educ_?"
   ]
  },
  {
   "cell_type": "code",
   "execution_count": 1,
   "metadata": {
    "scrolled": true,
    "slideshow": {
     "slide_type": "slide"
    }
   },
   "outputs": [
    {
     "name": "stdout",
     "output_type": "stream",
     "text": [
      "table: \n",
      "                      b      se       t    pval\n",
      "Intercept        0.5921  0.1556  3.8051  0.0002\n",
      "C(kidslt6)[T.1] -0.2713  0.0476 -5.7009  0.0000\n",
      "C(kidslt6)[T.2] -0.5454  0.0897 -6.0789  0.0000\n",
      "C(kidslt6)[T.3] -0.5806  0.2521 -2.3032  0.0215\n",
      "nwifeinc        -0.0036  0.0015 -2.4449  0.0147\n",
      "educ             0.0382  0.0074  5.1703  0.0000\n",
      "exper            0.0395  0.0057  6.9125  0.0000\n",
      "I(exper ** 2)   -0.0006  0.0002 -3.2196  0.0013\n",
      "age             -0.0162  0.0025 -6.4737  0.0000\n",
      "kidsge6          0.0131  0.0132  0.9901  0.3225\n",
      "\n"
     ]
    }
   ],
   "source": [
    "import wooldridge as woo\n",
    "import pandas as pd\n",
    "import statsmodels.formula.api as smf\n",
    "\n",
    "mroz = woo.dataWoo('mroz')\n",
    "\n",
    "# estimate linear probability model:\n",
    "reg_lin = smf.ols(formula='inlf ~ nwifeinc + educ + exper +'\n",
    "                          'I(exper**2) + age +C(kidslt6) + kidsge6',\n",
    "                  data=mroz)\n",
    "results_lin = reg_lin.fit()\n",
    "\n",
    "# print regression table:\n",
    "table = pd.DataFrame({'b': round(results_lin.params, 4),\n",
    "                      'se': round(results_lin.bse, 4),\n",
    "                      't': round(results_lin.tvalues, 4),\n",
    "                      'pval': round(results_lin.pvalues, 4)})\n",
    "print(f'table: \\n{table}\\n')\n",
    "\n",
    "#mroz.describe()"
   ]
  },
  {
   "cell_type": "markdown",
   "metadata": {
    "slideshow": {
     "slide_type": "slide"
    }
   },
   "source": [
    "**The Linear Probability Model**\n",
    "\n",
    "- The LPM is easy to interpret\n",
    "- But: let's have a look at the fitted values:"
   ]
  },
  {
   "cell_type": "code",
   "execution_count": 2,
   "metadata": {
    "slideshow": {
     "slide_type": "slide"
    }
   },
   "outputs": [
    {
     "ename": "NameError",
     "evalue": "name 'plt' is not defined",
     "output_type": "error",
     "traceback": [
      "\u001b[1;31m---------------------------------------------------------------------------\u001b[0m",
      "\u001b[1;31mNameError\u001b[0m                                 Traceback (most recent call last)",
      "\u001b[1;32m<ipython-input-2-60f8b77f27e6>\u001b[0m in \u001b[0;36m<module>\u001b[1;34m\u001b[0m\n\u001b[0;32m     17\u001b[0m \u001b[1;31m#display(mroz['inlf_hat'].quantile([.01, 0.05, 0.1, .25, .5, .75, .9]))\u001b[0m\u001b[1;33m\u001b[0m\u001b[1;33m\u001b[0m\u001b[1;33m\u001b[0m\u001b[0m\n\u001b[0;32m     18\u001b[0m \u001b[1;33m\u001b[0m\u001b[0m\n\u001b[1;32m---> 19\u001b[1;33m \u001b[0mplt\u001b[0m\u001b[1;33m.\u001b[0m\u001b[0mhist\u001b[0m\u001b[1;33m(\u001b[0m\u001b[0mmroz\u001b[0m\u001b[1;33m[\u001b[0m\u001b[1;34m'inlf_hat'\u001b[0m\u001b[1;33m]\u001b[0m\u001b[1;33m,\u001b[0m \u001b[0mbins\u001b[0m\u001b[1;33m=\u001b[0m\u001b[1;36m25\u001b[0m\u001b[1;33m)\u001b[0m\u001b[1;33m\u001b[0m\u001b[1;33m\u001b[0m\u001b[0m\n\u001b[0m\u001b[0;32m     20\u001b[0m \u001b[1;33m\u001b[0m\u001b[0m\n\u001b[0;32m     21\u001b[0m \u001b[1;33m\u001b[0m\u001b[0m\n",
      "\u001b[1;31mNameError\u001b[0m: name 'plt' is not defined"
     ]
    }
   ],
   "source": [
    "import wooldridge as woo\n",
    "import pandas as pd\n",
    "import statsmodels.formula.api as smf\n",
    "\n",
    "mroz = woo.dataWoo('mroz')\n",
    "\n",
    "# estimate linear probability model:\n",
    "reg_lin = smf.ols(formula='inlf ~ nwifeinc + educ + exper +'\n",
    "                          'I(exper**2) + age + kidslt6 + kidsge6',\n",
    "                  data=mroz)\n",
    "results_lin = reg_lin.fit()\n",
    "\n",
    "mroz['inlf_hat'] = results_lin.fittedvalues\n",
    "\n",
    "#display(mroz.loc[mroz['inlf_hat']<0,'inlf_hat'].describe())\n",
    "#display(mroz.loc[mroz['inlf_hat']>1,'inlf_hat'].describe())\n",
    "#display(mroz['inlf_hat'].quantile([.01, 0.05, 0.1, .25, .5, .75, .9]))\n",
    "\n",
    "plt.hist(mroz['inlf_hat'], bins=25)\n",
    "\n",
    "\n",
    "mroz=mroz.sort_values('inlf_hat')\n",
    "\n",
    "#display(mroz.head())\n",
    "#display(mroz.tail())\n"
   ]
  },
  {
   "cell_type": "markdown",
   "metadata": {
    "slideshow": {
     "slide_type": "slide"
    }
   },
   "source": [
    "**The Linear Probability Model**\n",
    "\n",
    "- Thus, if we plug certain combinations of values for the independent variables, we can get predictions either less than zero or greater than one.\n",
    "- Since these are predicted probabilities, and probabilities must be between zero and one, this can be a little embarrassing.\n",
    "- For example, what would it mean to predict that a woman is in the labor force with a probability of –.10?\n",
    "- In fact, of the 753 women in the sample, 16 of the fitted values  are less than zero, and 17 of the fitted values are greater than one.\n",
    "- A related problem is that a probability cannot be linearly related to the independent variables for all their possible values as pribabilities are bound between 0 and 1.\n",
    "- For example, our model predicts that the effect of going from zero children to one young child reduces the probability of working by .262.\n",
    "- This is also the predicted drop if the woman goes from having one young child to two.\n",
    "- It seems more realistic that the first small child would reduce the probability by a large amount, but subsequent children would have a smaller marginal effect.\n"
   ]
  },
  {
   "cell_type": "markdown",
   "metadata": {
    "slideshow": {
     "slide_type": "slide"
    }
   },
   "source": [
    "**The Linear Probability Model**\n",
    "\n",
    "- Even with these problems, the linear probability model is useful and often applied in economics.\n",
    "- It usually works well for values of the independent variables that are near the averages in the sample.\n",
    "- In the labor force participation example, over 96% of the women have either no young children or one small child, and so we should probably restrict attention to this case when interpreting the estimated equation.\n",
    "- Predicted probabilities outside the unit interval are a little troubling when we want to make predictions.\n",
    "- Still, there are ways to use the estimated probabilities (even if some are negative or greater than one) to predict a zero-one outcome.\n",
    "- As before, let $\\hat{y}_i$ denote the fitted values — which may not be bounded between zero and one.\n",
    "- Define a predicted value as  1 if  $\\hat{y}_i>0.5$ and as 0 if $\\hat{y}_i<0.5$ \n",
    "- Now we have a set of predicted values, that are either zero or one.\n",
    "- We can use these data to obtain the frequencies with which we correctly predict $y_i=0$ and $y_i=1$ as well as the proportion of overall correct predictions.\n",
    "- The latter measure, when turned into a percentage, is a widely used goodness-of-fit measure for binary dependent variables: the **percent correctly predicted**."
   ]
  },
  {
   "cell_type": "markdown",
   "metadata": {
    "slideshow": {
     "slide_type": "slide"
    }
   },
   "source": [
    "**The Linear Probability Model**\n",
    "\n",
    "- Due to the binary nature of $y$, the linear probability model does violate one of our main assumptions.\n",
    "- When $y$ is a binary variable, its variance, conditional on $x$, is\n",
    "\n",
    "\\begin{equation*}\n",
    "Var(y|\\mathbf{x})=p(\\mathbf{x})[1-p(\\mathbf{x})],\n",
    "\\end{equation*}\n",
    "\n",
    "- This means that, except in the case where the probability does not depend on any of the independent variables, there must be heteroskedasticity in a linear probability model.\n",
    "- We know that this does not cause bias in the OLS estimators of the $\\beta_j$.\n",
    "- However, homoskedasticity is crucial for justifying the usual $t$ statistics, even in large samples.\n",
    "- Because the standard errors are not generally valid, we should use them with caution.\n",
    "- We will next show how to correct the standard errors for heteroskedasticity.\n",
    "- It turns out that, in many applications, the usual OLS statistics are not far off, and it is still acceptable in applied work to present a standard OLS analysis of a linear probability model."
   ]
  },
  {
   "cell_type": "markdown",
   "metadata": {
    "slideshow": {
     "slide_type": "slide"
    }
   },
   "source": [
    "<h3>Heteroskedasticity and Heteroskedasticity-Robust Inference after OLS Estimation</h3>\n",
    "\n",
    "- The homoskedasticity assumption, introduced earlier for multiple regression, states that the variance of the unobserved error, $u$, conditional on the explanatory variables, is constant.\n",
    "- Homoskedasticity fails whenever the variance of the unobserved factors changes across different segments of the population, where the segments are determined by the different values of the explanatory variables.\n",
    "- For example:\n",
    "    - in a savings equation, heteroskedasticity is present if the variance of the unobserved factors affecting savings increases with income.\n",
    "- However: homoskedasticity is needed to justify the usual t tests and confidence intervals for OLS estimation of the linear regression model, even with large sample sizes."
   ]
  },
  {
   "cell_type": "markdown",
   "metadata": {
    "slideshow": {
     "slide_type": "slide"
    }
   },
   "source": [
    "**Heteroskedasticity-Robust Inference after OLS Estimation**\n",
    "\n",
    "- Fortunately, it is possible to adjust standard errors and t statistics so that they are valid in the presence of **heteroskedasticity of unknown form**.\n",
    "- This is very convenient because it means we can report new statistics that work regardless of the kind of heteroskedasticity present in the population.\n",
    "- This is known as **heteroskedasticity-robust procedures** because they are valid—at least in large samples—whether or not the errors have constant variance, and we do not need to know which is the case.\n",
    "- A careful derivation of the theory is well beyond the scope of this lecture, but the application of heteroskedasticity-robust methods is very easy now because many statistics and econometrics packages compute these statistics as an option.\n",
    "- In _Python_ we can simply use `cov_type='HC3'` in the `fit` function to get **heteroskedasticity-robust standard errors**\n",
    "- However, in empirical work, using robust standrad errors is the default, so you usually don't test and just use robust inference to get more conservative estimates.\n"
   ]
  },
  {
   "cell_type": "code",
   "execution_count": 2,
   "metadata": {
    "slideshow": {
     "slide_type": "slide"
    }
   },
   "outputs": [
    {
     "name": "stdout",
     "output_type": "stream",
     "text": [
      "\n",
      "=======================================\n",
      "               not robust     robust   \n",
      "                  (1)          (2)     \n",
      "---------------------------------------\n",
      "Intercept     0.585519***  0.585519*** \n",
      "              (0.154178)   (0.153580)  \n",
      "nwifeinc      -0.003405**  -0.003405** \n",
      "              (0.001448)   (0.001558)  \n",
      "educ          0.037995***  0.037995*** \n",
      "              (0.007376)   (0.007340)  \n",
      "exper         0.039492***  0.039492*** \n",
      "              (0.005673)   (0.005984)  \n",
      "I(exper ** 2) -0.000596*** -0.000596***\n",
      "              (0.000185)   (0.000199)  \n",
      "age           -0.016091*** -0.016091***\n",
      "              (0.002485)   (0.002415)  \n",
      "kidslt6       -0.261810*** -0.261810***\n",
      "              (0.033506)   (0.032152)  \n",
      "kidsge6       0.013012     0.013012    \n",
      "              (0.013196)   (0.013660)  \n",
      "N             753          753         \n",
      "R2            0.26         0.26        \n",
      "=======================================\n",
      "Standard errors in parentheses.\n",
      "* p<.1, ** p<.05, ***p<.01\n"
     ]
    }
   ],
   "source": [
    "import wooldridge as woo\n",
    "import pandas as pd\n",
    "import statsmodels.formula.api as smf\n",
    "from statsmodels.iolib.summary2 import summary_col\n",
    "\n",
    "mroz = woo.dataWoo('mroz')\n",
    "\n",
    "# estimate linear probability model:\n",
    "reg_lin = smf.ols(formula='inlf ~ nwifeinc + educ + exper +'\n",
    "                          'I(exper**2) + age + kidslt6 + kidsge6',\n",
    "                  data=mroz)\n",
    "results_lin = reg_lin.fit()\n",
    "\n",
    "reg_lin_rob = smf.ols(formula='inlf ~ nwifeinc + educ + exper +'\n",
    "                          'I(exper**2) + age + kidslt6 + kidsge6',\n",
    "                  data=mroz)\n",
    "results_lin_rob = reg_lin_rob.fit(cov_type='HC3')\n",
    "\n",
    "output = summary_col([results_lin, results_lin_rob],stars=True,float_format='%0.6f',\n",
    "                  model_names=['not robust\\n(1)','robust\\n(2)'],\n",
    "                  info_dict={'N':lambda x: \"{0:d}\".format(int(x.nobs)),\n",
    "                             'R2':lambda x: \"{:.2f}\".format(x.rsquared)})\n",
    "print(output)\n"
   ]
  },
  {
   "cell_type": "markdown",
   "metadata": {
    "slideshow": {
     "slide_type": "slide"
    }
   },
   "source": [
    "**Logit and Probit Models for Binary Response**\n",
    "\n",
    "- The linear probability model is simple to estimate and use, but it has the mentioned drawbacks.\n",
    "- The two most important disadvantages are that the fitted probabilities can be less than zero or greater than one and the partial effect of any explanatory variable (appearing in level form) is constant.\n",
    "- These limitations of the LPM can be overcome by using more purposeful binary response models.\n",
    "- **Probit** and **logit** regression are nonlinear regression models specifically designed for binary dependent variables.\n",
    "- Because a regression with a binary dependent variable $Y$ models the probability that $Y = 1$, it makes sense to adopt a nonlinear formulation that forces the predicted values to be between 0 and 1.\n",
    "- Because cumulative probability distribution functions (c.d.f.’s) produce probabilities between 0 and 1, they are used in logit and probit regressions.\n",
    "- Probit regression uses the standard normal c.d.f.\n",
    "- Logit regression, also called **logistic regression**, uses the logistic c.d.f."
   ]
  },
  {
   "cell_type": "markdown",
   "metadata": {
    "slideshow": {
     "slide_type": "slide"
    }
   },
   "source": [
    "**Probit Regression**\n",
    "\n",
    "- The probit regression model with a single regressor $x$ is\n",
    "\n",
    "\\begin{equation*}\n",
    "Pr(y=1|x)=\\Phi(\\beta_0+\\beta_1x)\n",
    "\\end{equation*}\n",
    "\n",
    "where $\\Phi$ is the cumultive standard normal distribution function.\n",
    "\n",
    "- Assume we have $\\beta_0=-2$ and $\\beta_1=3$ and $x=0.3$: we get $\\Phi(-1.1)$\n",
    "- According to the cumulative distribution we have $\\Phi(-1.1)=Pr(Z\\neq-1.1)=13.57\\%$ (these values can be found in tables for the cumulative normal distribution).\n",
    "- Thus, when $x=0.3$ the predicted probability that $y=1$ is 13.57% in this case.\n",
    "\n"
   ]
  },
  {
   "cell_type": "markdown",
   "metadata": {
    "slideshow": {
     "slide_type": "slide"
    }
   },
   "source": [
    "**Cumulative normal distribution table**\n",
    "<br>  \n",
    "\n",
    "\n",
    "<center><img src=\"figs/sw_cnd.png\" width=\"500\"/> \n",
    "    \n",
    "\n",
    "<p>"
   ]
  },
  {
   "cell_type": "markdown",
   "metadata": {
    "slideshow": {
     "slide_type": "slide"
    }
   },
   "source": [
    "**Probit Model Illustration**  \n",
    "\n",
    "When there is just one regressor, the predicted probability can be plotted as a function of $x$. \n",
    "\n",
    "<br>  \n",
    "\n",
    "\n",
    "<center><img src=\"figs/sw_probit.png\" width=\"500\"/> \n",
    "    \n",
    "\n",
    "<p>"
   ]
  },
  {
   "cell_type": "markdown",
   "metadata": {
    "slideshow": {
     "slide_type": "slide"
    }
   },
   "source": [
    "**Probit Regression**\n",
    "\n",
    "- Although the effect of $x$ on the z-value is linear, its effect on the probability is nonlinear.\n",
    "- Thus in practice the easiest way to interpret the coefficients of a probit model is to compute the predicted probability,or the change in the predicted probability, for one or more values of the regressors.\n",
    "- This is the same method we used before when we analyzed non-linear effects (interaction terms, polynomials).\n",
    "- This method always works for computing predicted effects of a change in $x$, no matter how complicated the nonlinear model.\n",
    "- The probit model parameters are estimated using the Maximum Likelihood Estimation (MLE) method, which we won't cover here formally.\n",
    "- Because the MLE is normally distributed in large samples, statistical inference about the probit and logit coefficients based on the MLE proceeds in the same way as inference about the linear regression function coefficients based on the OLS estimator."
   ]
  },
  {
   "cell_type": "markdown",
   "metadata": {
    "slideshow": {
     "slide_type": "slide"
    }
   },
   "source": [
    "**Logit Regression**\n",
    "\n",
    "- The logit regression model is similar to the probit regression model except that the cumulative standard normal distribution function $\\Phi$ is replaced by the cumulative standard logistic distribution function, denoted $F$\n",
    "- The logistic cumulative distribution function has a specific functional form, defined in terms of the exponential function:\n",
    "\n",
    "\\begin{equation*}\n",
    "Pr(Y=1|x_1,x_2,...,x_k)=F(\\beta_0+\\beta_1x_1+...+\\beta_kx_k)=\\frac{1}{1+e^{-(\\beta_0+\\beta_1x_1+...+\\beta_kx_k)}}\n",
    "\\end{equation*}\n",
    "\n",
    "and \n",
    "\n",
    "\\begin{equation*}\n",
    "Pr(Y=0|x_1,x_2,...,x_k)=F(\\beta_0+\\beta_1x_1+...+\\beta_kx_k)=\\frac{1}{1+e^{(\\beta_0+\\beta_1x_1+...+\\beta_kx_k)}}\n",
    "\\end{equation*}\n",
    "\n",
    "- As with probit, the logit coefficients are best interpreted by computing predicted probabilities and differences in predicted probabilities.\n",
    "- The coefficients of the logit model can also be estimated by maximum likelihood.\n",
    "- The maximum likelihood estimator is consistent and normally distributed in large samples, so t-statistics and confidence intervals for the coefficients can be constructed in the usual way.\n",
    "- The logit and probit regression functions are similar and the differences between the two functions are small."
   ]
  },
  {
   "cell_type": "markdown",
   "metadata": {
    "slideshow": {
     "slide_type": "slide"
    }
   },
   "source": [
    "**Using Discrete Choice Models in Python**\n",
    "\n",
    "- In `statsmodels`, many generalized linear models can be estimated with already implemented routines working similar as `ols`.\n",
    "- Two of them that we will need are:\n",
    "     - `logit` for the logit model and\n",
    "     - `probit` for the probit model.\n",
    "- Maximum likelihood estimation (MLE) of the parameters is done automatically and the `summary` of the results contains the regression table and additional information."
   ]
  },
  {
   "cell_type": "code",
   "execution_count": 3,
   "metadata": {
    "scrolled": false,
    "slideshow": {
     "slide_type": "slide"
    }
   },
   "outputs": [
    {
     "name": "stdout",
     "output_type": "stream",
     "text": [
      "results_logit.summary(): \n",
      "                           Logit Regression Results                           \n",
      "==============================================================================\n",
      "Dep. Variable:                   inlf   No. Observations:                  753\n",
      "Model:                          Logit   Df Residuals:                      745\n",
      "Method:                           MLE   Df Model:                            7\n",
      "Date:                Mon, 20 Sep 2021   Pseudo R-squ.:                  0.2197\n",
      "Time:                        17:53:42   Log-Likelihood:                -401.77\n",
      "converged:                       True   LL-Null:                       -514.87\n",
      "                                        LLR p-value:                 3.159e-45\n",
      "=================================================================================\n",
      "                    coef    std err          z      P>|z|      [0.025      0.975]\n",
      "---------------------------------------------------------------------------------\n",
      "Intercept         0.4255      0.860      0.494      0.621      -1.261       2.112\n",
      "nwifeinc         -0.0213      0.008     -2.535      0.011      -0.038      -0.005\n",
      "educ              0.2212      0.043      5.091      0.000       0.136       0.306\n",
      "exper             0.2059      0.032      6.422      0.000       0.143       0.269\n",
      "I(exper ** 2)    -0.0032      0.001     -3.104      0.002      -0.005      -0.001\n",
      "age              -0.0880      0.015     -6.040      0.000      -0.117      -0.059\n",
      "kidslt6          -1.4434      0.204     -7.090      0.000      -1.842      -1.044\n",
      "kidsge6           0.0601      0.075      0.804      0.422      -0.086       0.207\n",
      "=================================================================================\n",
      "\n",
      "results_logit.prsquared: 0.21968137484058825\n",
      "\n"
     ]
    }
   ],
   "source": [
    "import wooldridge as woo\n",
    "import statsmodels.formula.api as smf\n",
    "\n",
    "mroz = woo.dataWoo('mroz')\n",
    "\n",
    "# estimate logit model:\n",
    "reg_logit = smf.logit(formula='inlf ~ nwifeinc + educ + exper +'\n",
    "                              'I(exper**2) + age + kidslt6 + kidsge6',\n",
    "                      data=mroz)\n",
    "\n",
    "# disp = 0 avoids printing out information during the estimation:\n",
    "results_logit = reg_logit.fit(disp=0)\n",
    "print(f'results_logit.summary(): \\n{results_logit.summary()}\\n')\n",
    "\n",
    "\n",
    "# McFadden's pseudo R2:\n",
    "print(f'results_logit.prsquared: {results_logit.prsquared}\\n')\n",
    "\n",
    "\n",
    "mroz['inlf_hat_logit'] = results_logit.fittedvalues\n"
   ]
  },
  {
   "cell_type": "code",
   "execution_count": 39,
   "metadata": {
    "scrolled": false,
    "slideshow": {
     "slide_type": "slide"
    }
   },
   "outputs": [
    {
     "name": "stdout",
     "output_type": "stream",
     "text": [
      "Optimization terminated successfully.\n",
      "         Current function value: 0.532938\n",
      "         Iterations 5\n",
      "results_probit.summary(): \n",
      "                          Probit Regression Results                           \n",
      "==============================================================================\n",
      "Dep. Variable:                   inlf   No. Observations:                  753\n",
      "Model:                         Probit   Df Residuals:                      745\n",
      "Method:                           MLE   Df Model:                            7\n",
      "Date:                Thu, 17 Sep 2020   Pseudo R-squ.:                  0.2206\n",
      "Time:                        02:45:26   Log-Likelihood:                -401.30\n",
      "converged:                       True   LL-Null:                       -514.87\n",
      "                                        LLR p-value:                 2.009e-45\n",
      "=================================================================================\n",
      "                    coef    std err          z      P>|z|      [0.025      0.975]\n",
      "---------------------------------------------------------------------------------\n",
      "Intercept         0.2701      0.509      0.531      0.595      -0.727       1.267\n",
      "nwifeinc         -0.0120      0.005     -2.484      0.013      -0.022      -0.003\n",
      "educ              0.1309      0.025      5.183      0.000       0.081       0.180\n",
      "exper             0.1233      0.019      6.590      0.000       0.087       0.160\n",
      "I(exper ** 2)    -0.0019      0.001     -3.145      0.002      -0.003      -0.001\n",
      "age              -0.0529      0.008     -6.235      0.000      -0.069      -0.036\n",
      "kidslt6          -0.8683      0.119     -7.326      0.000      -1.101      -0.636\n",
      "kidsge6           0.0360      0.043      0.828      0.408      -0.049       0.121\n",
      "=================================================================================\n",
      "\n",
      "results_probit.prsquared: 0.22058054372529368\n",
      "\n"
     ]
    }
   ],
   "source": [
    "import wooldridge as woo\n",
    "import statsmodels.formula.api as smf\n",
    "\n",
    "mroz = woo.dataWoo('mroz')\n",
    "\n",
    "# estimate probit model:\n",
    "reg_probit = smf.probit(formula='inlf ~ nwifeinc + educ + exper +'\n",
    "                                'I(exper**2) + age + kidslt6 + kidsge6',\n",
    "                        data=mroz)\n",
    "results_probit = reg_probit.fit()\n",
    "print(f'results_probit.summary(): \\n{results_probit.summary()}\\n')\n",
    "\n",
    "\n",
    "# McFadden's pseudo R2:\n",
    "print(f'results_probit.prsquared: {results_probit.prsquared}\\n')"
   ]
  },
  {
   "cell_type": "markdown",
   "metadata": {
    "slideshow": {
     "slide_type": "slide"
    }
   },
   "source": [
    "**Partial Effects**\n",
    "\n",
    "\n",
    "- The parameters of linear regression models have straightforward interpretations:\n",
    "    - $\\beta_j$; measures the ceteris paribus effect of $x_j$ on $E(y|\\mathbf{x})$\n",
    "- The parameters of nonlinear models like logit and probit have a less straightforward interpretation since the linear index $\\mathbf{x\\beta}$ affects $\\hat{y}$ non-linearly through its link function. \n",
    "- In other words: the partial effects differ by regressor values which makes it harder to present the results in a concise and meaningful way.\n",
    "- A useful measure of the influence is again the partial effect (APE) (or average marginal effect) which is the slope and has the same interpretation as the parameters in the linear model.\n"
   ]
  },
  {
   "cell_type": "markdown",
   "metadata": {
    "slideshow": {
     "slide_type": "slide"
    }
   },
   "source": [
    "- In Python one can use `get_margeff` to get the average partial effects.\n",
    "- APEs for the constant are not part of the methods output since they do not have a direct meaningful interpretation.\n"
   ]
  },
  {
   "cell_type": "code",
   "execution_count": 27,
   "metadata": {
    "slideshow": {
     "slide_type": "slide"
    }
   },
   "outputs": [
    {
     "name": "stdout",
     "output_type": "stream",
     "text": [
      "table_auto: \n",
      "      coef_names  APE_logit  APE_probit\n",
      "0       nwifeinc    -0.0038     -0.0036\n",
      "1           educ     0.0395      0.0394\n",
      "2          exper     0.0368      0.0371\n",
      "3  I(exper ** 2)    -0.0006     -0.0006\n",
      "4            age    -0.0157     -0.0159\n",
      "5        kidslt6    -0.2578     -0.2612\n",
      "6        kidsge6     0.0107      0.0108\n",
      "\n",
      "table: \n",
      "                b_ols\n",
      "Intercept      0.5855\n",
      "nwifeinc      -0.0034\n",
      "educ           0.0380\n",
      "exper          0.0395\n",
      "I(exper ** 2) -0.0006\n",
      "age           -0.0161\n",
      "kidslt6       -0.2618\n",
      "kidsge6        0.0130\n",
      "\n"
     ]
    }
   ],
   "source": [
    "import wooldridge as woo\n",
    "import pandas as pd\n",
    "import numpy as np\n",
    "import statsmodels.formula.api as smf\n",
    "\n",
    "\n",
    "mroz = woo.dataWoo('mroz')\n",
    "\n",
    "# estimate models:\n",
    "reg_lin = smf.ols(formula='inlf ~ nwifeinc + educ + exper + I(exper**2) +'\n",
    "                          'age + kidslt6 + kidsge6', data=mroz)\n",
    "results_lin = reg_lin.fit(cov_type='HC3')\n",
    "\n",
    "reg_logit = smf.logit(formula='inlf ~ nwifeinc + educ + exper + I(exper**2) +'\n",
    "                              'age + kidslt6 + kidsge6', data=mroz)\n",
    "results_logit = reg_logit.fit(disp=0)\n",
    "\n",
    "reg_probit = smf.probit(formula='inlf ~ nwifeinc + educ + exper + I(exper**2) +'\n",
    "                                'age + kidslt6 + kidsge6', data=mroz)\n",
    "results_probit = reg_probit.fit(disp=0)\n",
    "\n",
    "# automatic average partial effects:\n",
    "coef_names = np.array(results_lin.model.exog_names)\n",
    "coef_names = np.delete(coef_names, 0)  # drop Intercept\n",
    "\n",
    "coeff_LPM = results_lin.params\n",
    "APE_logit = results_logit.get_margeff().margeff\n",
    "APE_probit = results_probit.get_margeff().margeff\n",
    "\n",
    "table_auto = pd.DataFrame({'coef_names': coef_names,\n",
    "                           'APE_logit': np.round(APE_logit, 4),\n",
    "                           'APE_probit': np.round(APE_probit, 4), })    \n",
    "                                                 \n",
    "print(f'table_auto: \\n{table_auto}\\n')\n",
    "\n",
    "# print regression table:\n",
    "table = pd.DataFrame({'b_ols': round(results_lin.params, 4)})\n",
    "print(f'table: \\n{table}\\n')"
   ]
  },
  {
   "cell_type": "markdown",
   "metadata": {
    "slideshow": {
     "slide_type": "slide"
    }
   },
   "source": [
    "- If we are interested in the marginal effects of certain values or want to make predictions, we can do this as before when were interested in non-linear effects (e.g quadratic effects) \n",
    "- We just have to plug in the values for each $x$\n",
    "- In the example below we do this for two extreme cases:\n",
    "    - 1. A woman with 1000.0000 Euro from her family, 5 years of education, 20 years old, 2 kids and no work experience\n",
    "    - 2. A woman with 0 moneym 17 years education, 30 years of work experience, no kids.\n",
    "- We can again use `predict` for the predictions."
   ]
  },
  {
   "cell_type": "code",
   "execution_count": null,
   "metadata": {},
   "outputs": [],
   "source": []
  },
  {
   "cell_type": "code",
   "execution_count": 6,
   "metadata": {
    "slideshow": {
     "slide_type": "slide"
    }
   },
   "outputs": [
    {
     "name": "stdout",
     "output_type": "stream",
     "text": [
      "predictions_lin: \n",
      "0   -0.410458\n",
      "1    1.042808\n",
      "dtype: float64\n",
      "\n",
      "predictions_logit: \n",
      "0    0.005218\n",
      "1    0.950049\n",
      "dtype: float64\n",
      "\n",
      "predictions_probit: \n",
      "0    0.001065\n",
      "1    0.959870\n",
      "dtype: float64\n",
      "\n"
     ]
    }
   ],
   "source": [
    "\n",
    "# predictions for two \"extreme\" women:\n",
    "X_new = pd.DataFrame(\n",
    "    {'nwifeinc': [100, 0], 'educ': [5, 17],\n",
    "     'exper': [0, 30], 'age': [20, 52],\n",
    "     'kidslt6': [2, 0], 'kidsge6': [0, 0]})\n",
    "predictions_lin = results_lin.predict(X_new)\n",
    "predictions_logit = results_logit.predict(X_new)\n",
    "predictions_probit = results_probit.predict(X_new)\n",
    "\n",
    "print(f'predictions_lin: \\n{predictions_lin}\\n')\n",
    "print(f'predictions_logit: \\n{predictions_logit}\\n')\n",
    "print(f'predictions_probit: \\n{predictions_probit}\\n')"
   ]
  },
  {
   "cell_type": "markdown",
   "metadata": {
    "slideshow": {
     "slide_type": "slide"
    }
   },
   "source": [
    "The APEs for the other variables don’t differ too much between the models.\n",
    "\n",
    "Generally, if:\n",
    "- We are interested in APEs only and not in individual predictions or partial effects\n",
    "- and as longs as not too many probabilities are close to 0 or 1,\n",
    "        \n",
    "then, the linear probability model often works well enough."
   ]
  },
  {
   "cell_type": "markdown",
   "metadata": {
    "slideshow": {
     "slide_type": "slide"
    }
   },
   "source": [
    "<h2>Panel Data Analysis</h2>\n",
    "\n",
    "- Multiple regression is a powerful tool for controlling for the effect of variables on which we have data.\n",
    "- If data are not available for some of the variables, however, they cannot be included in the regression\n",
    "$\\rightarrow$ the OLS estimators of the regression coefficients could have omitted variable bias!\n",
    "        \n",
    "- We have illustrated the omitting variable bias using simulated data earlier and have shown that the bias could be severe and even switch the sign of the parameters\n",
    "- Until now, we have covered multiple regression analysis using pure cross-sectional data.\n",
    "- But: data sets that have both crosssectional and time series dimensions are being used more and more often in empirical research\n",
    "- Data with cross-sectional and time series aspects allow to control for some types of omitted variables without actually observing them.\n",
    "- In fact: data with cross-sectional and time series aspects can often shed light on important policy questions\n",
    "- In this section we will learn how to analyze such data with cross-sectional and time dimension\n",
    "- Such data are called **panel data** or **longitudinal data**"
   ]
  },
  {
   "cell_type": "markdown",
   "metadata": {
    "slideshow": {
     "slide_type": "slide"
    }
   },
   "source": [
    "**Panel Data**\n",
    "\n",
    "- To collect panel data we follow (or attempt to follow) the same individuals, families, firms, cities, states, or whatever, across time.\n",
    "- For example, a panel data set on individual wages, hours, education, and other factors is collected by randomly selecting people from a population at a given point in time.\n",
    "- Then, these same people are reinterviewed at several subsequent points in time.\n",
    "- This gives us data on wages, hours, education, and so on, for the same group of people in different years.\n",
    "- Panel data have $T \\cdot n$ observations (in the ebst case, when no observation is missing)\n",
    "    - $T$ is the number of time periods\n",
    "    - $n$ is the number of entitities\n",
    "    \n",
    "- When describing cross-sectional data, it was useful to use a subscript to denote the entity\n",
    "- For example, $y_i$ referred to the variable $y$ for the $i^{th}$ entity.\n",
    "- When describing panel data, we need some additional notation to keep track of both the entity and the time period.\n",
    "- We do so by using two subscripts rather than one:\n",
    "    - The first, $i$, refers to the entity\n",
    "    - The second, $t$, refers to the time period of the observation.\n",
    "    - Thus $y_{it}$ denotes the variable $y$ observed for the $i^{th}$ of $n$ entities in the $t^{th}$ of $T$ periods."
   ]
  },
  {
   "cell_type": "markdown",
   "metadata": {
    "slideshow": {
     "slide_type": "slide"
    }
   },
   "source": [
    "**Panel Data**\n",
    "\n",
    "- Some additional terminology associated with panel data describes whether some observations are missing.\n",
    "- A **balanced** panel has all its observations; that is, the variables are observed for each entity and each time period.\n",
    "- A panel that has some missing data for at least one time period for at least one entity is called an **unbalanced panel**.\n",
    "- Having an unbalanced panel is not a problem if the missing observations are random, otherwise we have a **selection bias**"
   ]
  },
  {
   "cell_type": "markdown",
   "metadata": {
    "slideshow": {
     "slide_type": "slide"
    }
   },
   "source": [
    "**Panel Data**\n",
    "\n",
    "- But before we start, let's analyze a panel data set without any further knowledge\n",
    "- Use the dataset 'fatality' on state traffic fatalities\n",
    "\n",
    "- The dataset is about:\n",
    "\n",
    "\n",
    "\n",
    "**Example: Traffic Deaths and Alcohol Taxes**:\n",
    "\n",
    "- There are approximately 40,000 highway traffic fatalities each year in the United States.\n",
    "- Approximately one-fourth of fatal crashes involve a driver who was drinking, and this fraction rises during peak drinking periods.\n",
    "- One study (Levitt and Porter,2001) estimates that\n",
    "\n",
    "    - as many as 25% of drivers on the road between 1 a.m. and 3 a.m. have been drinking\n",
    "    - and that a driver who is legally drunk is at least 13 times as likely to cause a fatal crash as a driver who has not been drinking.\n",
    "    \n",
    "- We aim to study how effective various government policies designed to discourage drunk driving actually are in reducing traffic deaths.\n",
    "- The panel data set contains variables related to traffic fatalities and alcohol, including\n",
    "\n",
    "    - the number of traffic fatalities in each state in each year,\n",
    "    - the type of drunk driving laws in each state in each year,\n",
    "    - and the tax on beer in each state.\n",
    "- The measure of traffic deaths we use is the fatality rate, which is the number of annual traffic deaths per 10,000 people in the population in the state.\n",
    "- The measure of alcohol taxes we use is the \"real\" tax on a case of beer, which is the beer tax, put into 1988 dollars by adjusting for inflation."
   ]
  },
  {
   "cell_type": "code",
   "execution_count": null,
   "metadata": {
    "slideshow": {
     "slide_type": "slide"
    }
   },
   "outputs": [],
   "source": []
  },
  {
   "cell_type": "code",
   "execution_count": 97,
   "metadata": {
    "slideshow": {
     "slide_type": "slide"
    }
   },
   "outputs": [
    {
     "data": {
      "text/html": [
       "<div>\n",
       "<style scoped>\n",
       "    .dataframe tbody tr th:only-of-type {\n",
       "        vertical-align: middle;\n",
       "    }\n",
       "\n",
       "    .dataframe tbody tr th {\n",
       "        vertical-align: top;\n",
       "    }\n",
       "\n",
       "    .dataframe thead th {\n",
       "        text-align: right;\n",
       "    }\n",
       "</style>\n",
       "<table border=\"1\" class=\"dataframe\">\n",
       "  <thead>\n",
       "    <tr style=\"text-align: right;\">\n",
       "      <th></th>\n",
       "      <th>state</th>\n",
       "      <th>year</th>\n",
       "      <th>spircons</th>\n",
       "      <th>unrate</th>\n",
       "      <th>perinc</th>\n",
       "      <th>emppop</th>\n",
       "      <th>beertax</th>\n",
       "      <th>sobapt</th>\n",
       "      <th>mormon</th>\n",
       "      <th>mlda</th>\n",
       "      <th>...</th>\n",
       "      <th>aidall</th>\n",
       "      <th>mraidall</th>\n",
       "      <th>pop</th>\n",
       "      <th>pop1517</th>\n",
       "      <th>pop1820</th>\n",
       "      <th>pop2124</th>\n",
       "      <th>miles</th>\n",
       "      <th>unus</th>\n",
       "      <th>epopus</th>\n",
       "      <th>gspch</th>\n",
       "    </tr>\n",
       "  </thead>\n",
       "  <tbody>\n",
       "    <tr>\n",
       "      <th>0</th>\n",
       "      <td>AL</td>\n",
       "      <td>1982</td>\n",
       "      <td>1.37</td>\n",
       "      <td>14.4</td>\n",
       "      <td>10544.152344</td>\n",
       "      <td>50.692039</td>\n",
       "      <td>1.539379</td>\n",
       "      <td>30.355700</td>\n",
       "      <td>0.32829</td>\n",
       "      <td>19.0</td>\n",
       "      <td>...</td>\n",
       "      <td>309.437988</td>\n",
       "      <td>0.000078</td>\n",
       "      <td>3942002.25</td>\n",
       "      <td>208999.593750</td>\n",
       "      <td>221553.437500</td>\n",
       "      <td>290000.062500</td>\n",
       "      <td>28516.0</td>\n",
       "      <td>9.7</td>\n",
       "      <td>57.799999</td>\n",
       "      <td>-0.022125</td>\n",
       "    </tr>\n",
       "    <tr>\n",
       "      <th>1</th>\n",
       "      <td>AL</td>\n",
       "      <td>1988</td>\n",
       "      <td>1.17</td>\n",
       "      <td>7.2</td>\n",
       "      <td>12368.624023</td>\n",
       "      <td>56.834530</td>\n",
       "      <td>1.501444</td>\n",
       "      <td>30.223301</td>\n",
       "      <td>0.43018</td>\n",
       "      <td>21.0</td>\n",
       "      <td>...</td>\n",
       "      <td>298.321991</td>\n",
       "      <td>0.000073</td>\n",
       "      <td>4101992.25</td>\n",
       "      <td>201000.125000</td>\n",
       "      <td>193000.515625</td>\n",
       "      <td>262999.781250</td>\n",
       "      <td>39684.0</td>\n",
       "      <td>5.5</td>\n",
       "      <td>62.300003</td>\n",
       "      <td>0.035392</td>\n",
       "    </tr>\n",
       "    <tr>\n",
       "      <th>2</th>\n",
       "      <td>AZ</td>\n",
       "      <td>1982</td>\n",
       "      <td>1.97</td>\n",
       "      <td>9.9</td>\n",
       "      <td>12309.069336</td>\n",
       "      <td>56.893295</td>\n",
       "      <td>0.214797</td>\n",
       "      <td>3.958900</td>\n",
       "      <td>4.91910</td>\n",
       "      <td>19.0</td>\n",
       "      <td>...</td>\n",
       "      <td>173.667999</td>\n",
       "      <td>0.000060</td>\n",
       "      <td>2896996.50</td>\n",
       "      <td>140999.984375</td>\n",
       "      <td>156378.703125</td>\n",
       "      <td>217999.984375</td>\n",
       "      <td>19729.0</td>\n",
       "      <td>9.7</td>\n",
       "      <td>57.799999</td>\n",
       "      <td>-0.043182</td>\n",
       "    </tr>\n",
       "    <tr>\n",
       "      <th>3</th>\n",
       "      <td>AZ</td>\n",
       "      <td>1988</td>\n",
       "      <td>1.68</td>\n",
       "      <td>6.3</td>\n",
       "      <td>14408.084961</td>\n",
       "      <td>60.497665</td>\n",
       "      <td>0.346487</td>\n",
       "      <td>3.564000</td>\n",
       "      <td>4.41399</td>\n",
       "      <td>21.0</td>\n",
       "      <td>...</td>\n",
       "      <td>238.233994</td>\n",
       "      <td>0.000068</td>\n",
       "      <td>3488995.00</td>\n",
       "      <td>147999.937500</td>\n",
       "      <td>157000.656250</td>\n",
       "      <td>218000.046875</td>\n",
       "      <td>34247.0</td>\n",
       "      <td>5.5</td>\n",
       "      <td>62.300003</td>\n",
       "      <td>0.026568</td>\n",
       "    </tr>\n",
       "    <tr>\n",
       "      <th>4</th>\n",
       "      <td>AR</td>\n",
       "      <td>1982</td>\n",
       "      <td>1.19</td>\n",
       "      <td>9.8</td>\n",
       "      <td>10267.302734</td>\n",
       "      <td>54.475857</td>\n",
       "      <td>0.650358</td>\n",
       "      <td>22.967199</td>\n",
       "      <td>0.32829</td>\n",
       "      <td>21.0</td>\n",
       "      <td>...</td>\n",
       "      <td>271.459015</td>\n",
       "      <td>0.000118</td>\n",
       "      <td>2306998.50</td>\n",
       "      <td>121999.992188</td>\n",
       "      <td>121269.500000</td>\n",
       "      <td>157000.015625</td>\n",
       "      <td>16630.0</td>\n",
       "      <td>9.7</td>\n",
       "      <td>57.799999</td>\n",
       "      <td>-0.034734</td>\n",
       "    </tr>\n",
       "  </tbody>\n",
       "</table>\n",
       "<p>5 rows × 43 columns</p>\n",
       "</div>"
      ],
      "text/plain": [
       "  state  year  spircons  unrate        perinc     emppop   beertax     sobapt  \\\n",
       "0    AL  1982      1.37    14.4  10544.152344  50.692039  1.539379  30.355700   \n",
       "1    AL  1988      1.17     7.2  12368.624023  56.834530  1.501444  30.223301   \n",
       "2    AZ  1982      1.97     9.9  12309.069336  56.893295  0.214797   3.958900   \n",
       "3    AZ  1988      1.68     6.3  14408.084961  60.497665  0.346487   3.564000   \n",
       "4    AR  1982      1.19     9.8  10267.302734  54.475857  0.650358  22.967199   \n",
       "\n",
       "    mormon  mlda    ...         aidall  mraidall         pop        pop1517  \\\n",
       "0  0.32829  19.0    ...     309.437988  0.000078  3942002.25  208999.593750   \n",
       "1  0.43018  21.0    ...     298.321991  0.000073  4101992.25  201000.125000   \n",
       "2  4.91910  19.0    ...     173.667999  0.000060  2896996.50  140999.984375   \n",
       "3  4.41399  21.0    ...     238.233994  0.000068  3488995.00  147999.937500   \n",
       "4  0.32829  21.0    ...     271.459015  0.000118  2306998.50  121999.992188   \n",
       "\n",
       "         pop1820        pop2124    miles  unus     epopus     gspch  \n",
       "0  221553.437500  290000.062500  28516.0   9.7  57.799999 -0.022125  \n",
       "1  193000.515625  262999.781250  39684.0   5.5  62.300003  0.035392  \n",
       "2  156378.703125  217999.984375  19729.0   9.7  57.799999 -0.043182  \n",
       "3  157000.656250  218000.046875  34247.0   5.5  62.300003  0.026568  \n",
       "4  121269.500000  157000.015625  16630.0   9.7  57.799999 -0.034734  \n",
       "\n",
       "[5 rows x 43 columns]"
      ]
     },
     "execution_count": 97,
     "metadata": {},
     "output_type": "execute_result"
    }
   ],
   "source": [
    "import pandas as pd\n",
    "import numpy as np\n",
    "import statsmodels.formula.api as smf\n",
    "\n",
    "fatality=pd.read_stata('data/fatality.dta')\n",
    "fatality.head()"
   ]
  },
  {
   "cell_type": "code",
   "execution_count": 96,
   "metadata": {
    "slideshow": {
     "slide_type": "slide"
    }
   },
   "outputs": [
    {
     "data": {
      "text/plain": [
       "{'state': 'State ID (FIPS) Code',\n",
       " 'year': 'Year',\n",
       " 'spircons': 'Spirits Consumption',\n",
       " 'unrate': 'Unemployment Rate',\n",
       " 'perinc': 'Per Capita Personal Income',\n",
       " 'emppop': 'Employment/Population Ratio',\n",
       " 'beertax': 'Tax on Case of Beer',\n",
       " 'sobapt': '% Southern Baptist',\n",
       " 'mormon': '% Mormon',\n",
       " 'mlda': 'Minimum Legal Drinking Age',\n",
       " 'dry': '% Residing in Dry Counties',\n",
       " 'yngdrv': '% of Drivers Aged 15-24',\n",
       " 'vmiles': 'Ave. Mile per Driver',\n",
       " 'breath': 'Prelim. Breath Test Law',\n",
       " 'jaild': 'Mandatory Jail Sentence',\n",
       " 'comserd': 'Mandatory Community Service',\n",
       " 'allmort': '# of Vehicle Fatalities (#VF)',\n",
       " 'mrall': 'Vehicle Fatality Rate (VFR)',\n",
       " 'allnite': '# of Night-time VF (#NVF)',\n",
       " 'mralln': 'Night-time VFR (NFVR)',\n",
       " 'allsvn': '# of Single VF (#SVN)',\n",
       " 'a1517': '#VF, 15-17 year olds',\n",
       " 'mra1517': 'VFR, 15-17 year olds',\n",
       " 'a1517n': '#NVF, 15-17 year olds',\n",
       " 'mra1517n': 'NVFR, 15-17 year olds',\n",
       " 'a1820': '#VF, 18-20 year olds',\n",
       " 'a1820n': '#NVF, 18-20 year olds',\n",
       " 'mra1820': 'VFR, 18-20 year olds',\n",
       " 'mra1820n': 'NVFR, 18-20 year olds',\n",
       " 'a2124': '#VF, 21-24 year olds',\n",
       " 'mra2124': 'VFR, 21-24 year olds',\n",
       " 'a2124n': '#NVF, 21-24 year olds',\n",
       " 'mra2124n': 'NVFR, 21-24 year olds',\n",
       " 'aidall': '# of alcohol-involved VF',\n",
       " 'mraidall': 'Alcohol-Involved VFR',\n",
       " 'pop': 'Population',\n",
       " 'pop1517': 'Population, 15-17 year olds',\n",
       " 'pop1820': 'Population, 18-20 year olds',\n",
       " 'pop2124': 'Population, 21-24 year olds',\n",
       " 'miles': 'total vehicle miles (millions',\n",
       " 'unus': 'U.S. unemployment rate',\n",
       " 'epopus': 'U.S. Emp/Pop Ratio',\n",
       " 'gspch': 'GSP Rate of Change'}"
      ]
     },
     "execution_count": 96,
     "metadata": {},
     "output_type": "execute_result"
    }
   ],
   "source": [
    "import pandas as pd\n",
    "import numpy as np\n",
    "import statsmodels.formula.api as smf\n",
    "\n",
    "fatality=pd.read_stata('data/fatality.dta', iterator=True)\n",
    "fatality.variable_labels()\n",
    "#pd.io.stata.StataReader('data/fatality.dta').variable_labels()"
   ]
  },
  {
   "cell_type": "markdown",
   "metadata": {
    "slideshow": {
     "slide_type": "slide"
    }
   },
   "source": [
    "**Panel Data**\n",
    "\n",
    "- Analyze the data descriptively\n",
    "- Is the dataset balanced?\n",
    "- How many states are in it, how many years?\n",
    "- Regress fatalities on a tax for alcohol ('beertax') for a the year 1982 and discuss the results and plot the linear fit\n",
    "- Repeat the exercise for the year 1988 \n",
    "- Repeat the exercise for the years 1982 and 1988 jointly\n",
    "- What do you think about the findings?\n"
   ]
  },
  {
   "cell_type": "code",
   "execution_count": 98,
   "metadata": {
    "slideshow": {
     "slide_type": "slide"
    }
   },
   "outputs": [
    {
     "data": {
      "text/html": [
       "<div>\n",
       "<style scoped>\n",
       "    .dataframe tbody tr th:only-of-type {\n",
       "        vertical-align: middle;\n",
       "    }\n",
       "\n",
       "    .dataframe tbody tr th {\n",
       "        vertical-align: top;\n",
       "    }\n",
       "\n",
       "    .dataframe thead th {\n",
       "        text-align: right;\n",
       "    }\n",
       "</style>\n",
       "<table border=\"1\" class=\"dataframe\">\n",
       "  <thead>\n",
       "    <tr style=\"text-align: right;\">\n",
       "      <th></th>\n",
       "      <th>year</th>\n",
       "      <th>spircons</th>\n",
       "      <th>unrate</th>\n",
       "      <th>perinc</th>\n",
       "      <th>emppop</th>\n",
       "      <th>beertax</th>\n",
       "      <th>sobapt</th>\n",
       "      <th>mormon</th>\n",
       "      <th>mlda</th>\n",
       "      <th>dry</th>\n",
       "      <th>...</th>\n",
       "      <th>aidall</th>\n",
       "      <th>mraidall</th>\n",
       "      <th>pop</th>\n",
       "      <th>pop1517</th>\n",
       "      <th>pop1820</th>\n",
       "      <th>pop2124</th>\n",
       "      <th>miles</th>\n",
       "      <th>unus</th>\n",
       "      <th>epopus</th>\n",
       "      <th>gspch</th>\n",
       "    </tr>\n",
       "  </thead>\n",
       "  <tbody>\n",
       "    <tr>\n",
       "      <th>count</th>\n",
       "      <td>96.000000</td>\n",
       "      <td>96.000000</td>\n",
       "      <td>96.000000</td>\n",
       "      <td>96.000000</td>\n",
       "      <td>96.000000</td>\n",
       "      <td>96.000000</td>\n",
       "      <td>96.000000</td>\n",
       "      <td>96.000000</td>\n",
       "      <td>96.000000</td>\n",
       "      <td>96.00000</td>\n",
       "      <td>...</td>\n",
       "      <td>96.000000</td>\n",
       "      <td>96.000000</td>\n",
       "      <td>9.600000e+01</td>\n",
       "      <td>9.600000e+01</td>\n",
       "      <td>9.600000e+01</td>\n",
       "      <td>9.600000e+01</td>\n",
       "      <td>96.000000</td>\n",
       "      <td>96.000000</td>\n",
       "      <td>96.000000</td>\n",
       "      <td>96.000000</td>\n",
       "    </tr>\n",
       "    <tr>\n",
       "      <th>mean</th>\n",
       "      <td>1985.000000</td>\n",
       "      <td>1.749896</td>\n",
       "      <td>7.361459</td>\n",
       "      <td>13945.891602</td>\n",
       "      <td>60.825115</td>\n",
       "      <td>0.505044</td>\n",
       "      <td>7.159286</td>\n",
       "      <td>2.804149</td>\n",
       "      <td>20.500000</td>\n",
       "      <td>4.31191</td>\n",
       "      <td>...</td>\n",
       "      <td>300.004608</td>\n",
       "      <td>0.000068</td>\n",
       "      <td>4.932250e+06</td>\n",
       "      <td>2.318125e+05</td>\n",
       "      <td>2.449765e+05</td>\n",
       "      <td>3.369480e+05</td>\n",
       "      <td>37393.980469</td>\n",
       "      <td>7.600004</td>\n",
       "      <td>60.049969</td>\n",
       "      <td>0.006398</td>\n",
       "    </tr>\n",
       "    <tr>\n",
       "      <th>std</th>\n",
       "      <td>3.015748</td>\n",
       "      <td>0.687137</td>\n",
       "      <td>2.824493</td>\n",
       "      <td>2422.510742</td>\n",
       "      <td>4.944419</td>\n",
       "      <td>0.477024</td>\n",
       "      <td>9.801956</td>\n",
       "      <td>9.707438</td>\n",
       "      <td>0.909019</td>\n",
       "      <td>9.65108</td>\n",
       "      <td>...</td>\n",
       "      <td>312.300995</td>\n",
       "      <td>0.000027</td>\n",
       "      <td>5.102291e+06</td>\n",
       "      <td>2.314680e+05</td>\n",
       "      <td>2.475225e+05</td>\n",
       "      <td>3.468089e+05</td>\n",
       "      <td>38114.128906</td>\n",
       "      <td>2.111023</td>\n",
       "      <td>2.261812</td>\n",
       "      <td>0.039740</td>\n",
       "    </tr>\n",
       "    <tr>\n",
       "      <th>min</th>\n",
       "      <td>1982.000000</td>\n",
       "      <td>0.790000</td>\n",
       "      <td>2.400000</td>\n",
       "      <td>9553.699219</td>\n",
       "      <td>45.522900</td>\n",
       "      <td>0.043311</td>\n",
       "      <td>0.000000</td>\n",
       "      <td>0.100000</td>\n",
       "      <td>18.000000</td>\n",
       "      <td>0.00000</td>\n",
       "      <td>...</td>\n",
       "      <td>27.760000</td>\n",
       "      <td>0.000023</td>\n",
       "      <td>4.789997e+05</td>\n",
       "      <td>2.100002e+04</td>\n",
       "      <td>2.099996e+04</td>\n",
       "      <td>3.000016e+04</td>\n",
       "      <td>3993.000000</td>\n",
       "      <td>5.500000</td>\n",
       "      <td>57.799999</td>\n",
       "      <td>-0.089512</td>\n",
       "    </tr>\n",
       "    <tr>\n",
       "      <th>25%</th>\n",
       "      <td>1982.000000</td>\n",
       "      <td>1.312500</td>\n",
       "      <td>5.275000</td>\n",
       "      <td>12260.571533</td>\n",
       "      <td>57.709750</td>\n",
       "      <td>0.214797</td>\n",
       "      <td>0.608632</td>\n",
       "      <td>0.233310</td>\n",
       "      <td>20.000000</td>\n",
       "      <td>0.00000</td>\n",
       "      <td>...</td>\n",
       "      <td>94.286499</td>\n",
       "      <td>0.000051</td>\n",
       "      <td>1.545251e+06</td>\n",
       "      <td>7.225006e+04</td>\n",
       "      <td>7.560232e+04</td>\n",
       "      <td>1.012503e+05</td>\n",
       "      <td>11426.500000</td>\n",
       "      <td>5.500000</td>\n",
       "      <td>57.799999</td>\n",
       "      <td>-0.023864</td>\n",
       "    </tr>\n",
       "    <tr>\n",
       "      <th>50%</th>\n",
       "      <td>1985.000000</td>\n",
       "      <td>1.650000</td>\n",
       "      <td>7.050000</td>\n",
       "      <td>13774.353516</td>\n",
       "      <td>61.337376</td>\n",
       "      <td>0.346487</td>\n",
       "      <td>1.758600</td>\n",
       "      <td>0.400000</td>\n",
       "      <td>21.000000</td>\n",
       "      <td>0.11074</td>\n",
       "      <td>...</td>\n",
       "      <td>219.675003</td>\n",
       "      <td>0.000064</td>\n",
       "      <td>3.385503e+06</td>\n",
       "      <td>1.690000e+05</td>\n",
       "      <td>1.709823e+05</td>\n",
       "      <td>2.435000e+05</td>\n",
       "      <td>28090.499023</td>\n",
       "      <td>7.600000</td>\n",
       "      <td>60.050001</td>\n",
       "      <td>0.008297</td>\n",
       "    </tr>\n",
       "    <tr>\n",
       "      <th>75%</th>\n",
       "      <td>1988.000000</td>\n",
       "      <td>1.995000</td>\n",
       "      <td>9.200000</td>\n",
       "      <td>15160.900391</td>\n",
       "      <td>64.257044</td>\n",
       "      <td>0.621511</td>\n",
       "      <td>13.127125</td>\n",
       "      <td>0.642450</td>\n",
       "      <td>21.000000</td>\n",
       "      <td>2.11540</td>\n",
       "      <td>...</td>\n",
       "      <td>356.607750</td>\n",
       "      <td>0.000078</td>\n",
       "      <td>5.674987e+06</td>\n",
       "      <td>2.825001e+05</td>\n",
       "      <td>3.078614e+05</td>\n",
       "      <td>4.172502e+05</td>\n",
       "      <td>44537.250000</td>\n",
       "      <td>9.700000</td>\n",
       "      <td>62.300003</td>\n",
       "      <td>0.039652</td>\n",
       "    </tr>\n",
       "    <tr>\n",
       "      <th>max</th>\n",
       "      <td>1988.000000</td>\n",
       "      <td>4.900000</td>\n",
       "      <td>15.500000</td>\n",
       "      <td>22193.455078</td>\n",
       "      <td>70.838394</td>\n",
       "      <td>2.720764</td>\n",
       "      <td>30.355700</td>\n",
       "      <td>65.916496</td>\n",
       "      <td>21.000000</td>\n",
       "      <td>45.77980</td>\n",
       "      <td>...</td>\n",
       "      <td>2094.899902</td>\n",
       "      <td>0.000172</td>\n",
       "      <td>2.831403e+07</td>\n",
       "      <td>1.157002e+06</td>\n",
       "      <td>1.321004e+06</td>\n",
       "      <td>1.892998e+06</td>\n",
       "      <td>241575.015625</td>\n",
       "      <td>9.700000</td>\n",
       "      <td>62.300003</td>\n",
       "      <td>0.104920</td>\n",
       "    </tr>\n",
       "  </tbody>\n",
       "</table>\n",
       "<p>8 rows × 42 columns</p>\n",
       "</div>"
      ],
      "text/plain": [
       "              year   spircons     unrate        perinc     emppop    beertax  \\\n",
       "count    96.000000  96.000000  96.000000     96.000000  96.000000  96.000000   \n",
       "mean   1985.000000   1.749896   7.361459  13945.891602  60.825115   0.505044   \n",
       "std       3.015748   0.687137   2.824493   2422.510742   4.944419   0.477024   \n",
       "min    1982.000000   0.790000   2.400000   9553.699219  45.522900   0.043311   \n",
       "25%    1982.000000   1.312500   5.275000  12260.571533  57.709750   0.214797   \n",
       "50%    1985.000000   1.650000   7.050000  13774.353516  61.337376   0.346487   \n",
       "75%    1988.000000   1.995000   9.200000  15160.900391  64.257044   0.621511   \n",
       "max    1988.000000   4.900000  15.500000  22193.455078  70.838394   2.720764   \n",
       "\n",
       "          sobapt     mormon       mlda       dry    ...           aidall  \\\n",
       "count  96.000000  96.000000  96.000000  96.00000    ...        96.000000   \n",
       "mean    7.159286   2.804149  20.500000   4.31191    ...       300.004608   \n",
       "std     9.801956   9.707438   0.909019   9.65108    ...       312.300995   \n",
       "min     0.000000   0.100000  18.000000   0.00000    ...        27.760000   \n",
       "25%     0.608632   0.233310  20.000000   0.00000    ...        94.286499   \n",
       "50%     1.758600   0.400000  21.000000   0.11074    ...       219.675003   \n",
       "75%    13.127125   0.642450  21.000000   2.11540    ...       356.607750   \n",
       "max    30.355700  65.916496  21.000000  45.77980    ...      2094.899902   \n",
       "\n",
       "        mraidall           pop       pop1517       pop1820       pop2124  \\\n",
       "count  96.000000  9.600000e+01  9.600000e+01  9.600000e+01  9.600000e+01   \n",
       "mean    0.000068  4.932250e+06  2.318125e+05  2.449765e+05  3.369480e+05   \n",
       "std     0.000027  5.102291e+06  2.314680e+05  2.475225e+05  3.468089e+05   \n",
       "min     0.000023  4.789997e+05  2.100002e+04  2.099996e+04  3.000016e+04   \n",
       "25%     0.000051  1.545251e+06  7.225006e+04  7.560232e+04  1.012503e+05   \n",
       "50%     0.000064  3.385503e+06  1.690000e+05  1.709823e+05  2.435000e+05   \n",
       "75%     0.000078  5.674987e+06  2.825001e+05  3.078614e+05  4.172502e+05   \n",
       "max     0.000172  2.831403e+07  1.157002e+06  1.321004e+06  1.892998e+06   \n",
       "\n",
       "               miles       unus     epopus      gspch  \n",
       "count      96.000000  96.000000  96.000000  96.000000  \n",
       "mean    37393.980469   7.600004  60.049969   0.006398  \n",
       "std     38114.128906   2.111023   2.261812   0.039740  \n",
       "min      3993.000000   5.500000  57.799999  -0.089512  \n",
       "25%     11426.500000   5.500000  57.799999  -0.023864  \n",
       "50%     28090.499023   7.600000  60.050001   0.008297  \n",
       "75%     44537.250000   9.700000  62.300003   0.039652  \n",
       "max    241575.015625   9.700000  62.300003   0.104920  \n",
       "\n",
       "[8 rows x 42 columns]"
      ]
     },
     "execution_count": 98,
     "metadata": {},
     "output_type": "execute_result"
    }
   ],
   "source": [
    "import pandas as pd\n",
    "import numpy as np\n",
    "import statsmodels.formula.api as smf\n",
    "\n",
    "fatality=pd.read_stata('data/fatality.dta')\n",
    "fatality.describe()"
   ]
  },
  {
   "cell_type": "code",
   "execution_count": 108,
   "metadata": {
    "slideshow": {
     "slide_type": "slide"
    }
   },
   "outputs": [
    {
     "data": {
      "text/html": [
       "<div>\n",
       "<style scoped>\n",
       "    .dataframe tbody tr th:only-of-type {\n",
       "        vertical-align: middle;\n",
       "    }\n",
       "\n",
       "    .dataframe tbody tr th {\n",
       "        vertical-align: top;\n",
       "    }\n",
       "\n",
       "    .dataframe thead th {\n",
       "        text-align: right;\n",
       "    }\n",
       "</style>\n",
       "<table border=\"1\" class=\"dataframe\">\n",
       "  <thead>\n",
       "    <tr style=\"text-align: right;\">\n",
       "      <th></th>\n",
       "      <th>year</th>\n",
       "      <th>spircons</th>\n",
       "      <th>unrate</th>\n",
       "      <th>perinc</th>\n",
       "      <th>emppop</th>\n",
       "      <th>beertax</th>\n",
       "      <th>sobapt</th>\n",
       "      <th>mormon</th>\n",
       "      <th>mlda</th>\n",
       "      <th>dry</th>\n",
       "      <th>yngdrv</th>\n",
       "      <th>vmiles</th>\n",
       "      <th>breath</th>\n",
       "      <th>jaild</th>\n",
       "      <th>comserd</th>\n",
       "      <th>allmort</th>\n",
       "      <th>mrall</th>\n",
       "      <th>allnite</th>\n",
       "      <th>mralln</th>\n",
       "      <th>allsvn</th>\n",
       "      <th>a1517</th>\n",
       "      <th>mra1517</th>\n",
       "      <th>a1517n</th>\n",
       "      <th>mra1517n</th>\n",
       "      <th>a1820</th>\n",
       "      <th>a1820n</th>\n",
       "      <th>mra1820</th>\n",
       "      <th>mra1820n</th>\n",
       "      <th>a2124</th>\n",
       "      <th>mra2124</th>\n",
       "      <th>a2124n</th>\n",
       "      <th>mra2124n</th>\n",
       "      <th>aidall</th>\n",
       "      <th>mraidall</th>\n",
       "      <th>pop</th>\n",
       "      <th>pop1517</th>\n",
       "      <th>pop1820</th>\n",
       "      <th>pop2124</th>\n",
       "      <th>miles</th>\n",
       "      <th>unus</th>\n",
       "      <th>epopus</th>\n",
       "      <th>gspch</th>\n",
       "    </tr>\n",
       "  </thead>\n",
       "  <tbody>\n",
       "    <tr>\n",
       "      <th>count</th>\n",
       "      <td>96.000000</td>\n",
       "      <td>96.000000</td>\n",
       "      <td>96.000000</td>\n",
       "      <td>96.000000</td>\n",
       "      <td>96.000000</td>\n",
       "      <td>96.000000</td>\n",
       "      <td>96.000000</td>\n",
       "      <td>96.000000</td>\n",
       "      <td>96.000000</td>\n",
       "      <td>96.00000</td>\n",
       "      <td>96.000000</td>\n",
       "      <td>96.000000</td>\n",
       "      <td>96.000000</td>\n",
       "      <td>95.000000</td>\n",
       "      <td>95.000000</td>\n",
       "      <td>96.000000</td>\n",
       "      <td>96.000000</td>\n",
       "      <td>96.000000</td>\n",
       "      <td>96.000000</td>\n",
       "      <td>96.000000</td>\n",
       "      <td>96.000000</td>\n",
       "      <td>96.000000</td>\n",
       "      <td>96.000000</td>\n",
       "      <td>96.000000</td>\n",
       "      <td>96.000000</td>\n",
       "      <td>96.000000</td>\n",
       "      <td>96.000000</td>\n",
       "      <td>96.000000</td>\n",
       "      <td>96.000000</td>\n",
       "      <td>96.000000</td>\n",
       "      <td>96.000000</td>\n",
       "      <td>96.000000</td>\n",
       "      <td>96.000000</td>\n",
       "      <td>96.000000</td>\n",
       "      <td>9.600000e+01</td>\n",
       "      <td>9.600000e+01</td>\n",
       "      <td>9.600000e+01</td>\n",
       "      <td>9.600000e+01</td>\n",
       "      <td>96.000000</td>\n",
       "      <td>96.000000</td>\n",
       "      <td>96.000000</td>\n",
       "      <td>96.000000</td>\n",
       "    </tr>\n",
       "    <tr>\n",
       "      <th>mean</th>\n",
       "      <td>1985.000000</td>\n",
       "      <td>1.749896</td>\n",
       "      <td>7.361459</td>\n",
       "      <td>13945.891602</td>\n",
       "      <td>60.825115</td>\n",
       "      <td>0.505044</td>\n",
       "      <td>7.159286</td>\n",
       "      <td>2.804149</td>\n",
       "      <td>20.500000</td>\n",
       "      <td>4.31191</td>\n",
       "      <td>0.184874</td>\n",
       "      <td>7921.525391</td>\n",
       "      <td>0.437500</td>\n",
       "      <td>0.242105</td>\n",
       "      <td>0.157895</td>\n",
       "      <td>941.979167</td>\n",
       "      <td>2.079350</td>\n",
       "      <td>191.104167</td>\n",
       "      <td>0.000041</td>\n",
       "      <td>114.770833</td>\n",
       "      <td>62.052083</td>\n",
       "      <td>0.000306</td>\n",
       "      <td>12.822917</td>\n",
       "      <td>0.000062</td>\n",
       "      <td>111.770833</td>\n",
       "      <td>35.822917</td>\n",
       "      <td>0.000510</td>\n",
       "      <td>0.000161</td>\n",
       "      <td>126.885417</td>\n",
       "      <td>0.000410</td>\n",
       "      <td>42.875000</td>\n",
       "      <td>0.000131</td>\n",
       "      <td>300.004608</td>\n",
       "      <td>0.000068</td>\n",
       "      <td>4.932250e+06</td>\n",
       "      <td>2.318125e+05</td>\n",
       "      <td>2.449765e+05</td>\n",
       "      <td>3.369480e+05</td>\n",
       "      <td>37393.980469</td>\n",
       "      <td>7.600004</td>\n",
       "      <td>60.049969</td>\n",
       "      <td>0.006398</td>\n",
       "    </tr>\n",
       "    <tr>\n",
       "      <th>std</th>\n",
       "      <td>3.015748</td>\n",
       "      <td>0.687137</td>\n",
       "      <td>2.824493</td>\n",
       "      <td>2422.510742</td>\n",
       "      <td>4.944419</td>\n",
       "      <td>0.477024</td>\n",
       "      <td>9.801956</td>\n",
       "      <td>9.707438</td>\n",
       "      <td>0.909019</td>\n",
       "      <td>9.65108</td>\n",
       "      <td>0.031292</td>\n",
       "      <td>1256.812012</td>\n",
       "      <td>0.498682</td>\n",
       "      <td>0.430630</td>\n",
       "      <td>0.366577</td>\n",
       "      <td>947.803755</td>\n",
       "      <td>0.595899</td>\n",
       "      <td>199.769155</td>\n",
       "      <td>0.000012</td>\n",
       "      <td>114.674595</td>\n",
       "      <td>53.314434</td>\n",
       "      <td>0.000104</td>\n",
       "      <td>13.085142</td>\n",
       "      <td>0.000037</td>\n",
       "      <td>108.574736</td>\n",
       "      <td>35.439495</td>\n",
       "      <td>0.000164</td>\n",
       "      <td>0.000075</td>\n",
       "      <td>132.653873</td>\n",
       "      <td>0.000130</td>\n",
       "      <td>45.471391</td>\n",
       "      <td>0.000039</td>\n",
       "      <td>312.300995</td>\n",
       "      <td>0.000027</td>\n",
       "      <td>5.102291e+06</td>\n",
       "      <td>2.314680e+05</td>\n",
       "      <td>2.475225e+05</td>\n",
       "      <td>3.468089e+05</td>\n",
       "      <td>38114.128906</td>\n",
       "      <td>2.111023</td>\n",
       "      <td>2.261812</td>\n",
       "      <td>0.039740</td>\n",
       "    </tr>\n",
       "    <tr>\n",
       "      <th>min</th>\n",
       "      <td>1982.000000</td>\n",
       "      <td>0.790000</td>\n",
       "      <td>2.400000</td>\n",
       "      <td>9553.699219</td>\n",
       "      <td>45.522900</td>\n",
       "      <td>0.043311</td>\n",
       "      <td>0.000000</td>\n",
       "      <td>0.100000</td>\n",
       "      <td>18.000000</td>\n",
       "      <td>0.00000</td>\n",
       "      <td>0.073137</td>\n",
       "      <td>4576.345703</td>\n",
       "      <td>0.000000</td>\n",
       "      <td>0.000000</td>\n",
       "      <td>0.000000</td>\n",
       "      <td>104.000000</td>\n",
       "      <td>1.100630</td>\n",
       "      <td>18.000000</td>\n",
       "      <td>0.000017</td>\n",
       "      <td>10.000000</td>\n",
       "      <td>5.000000</td>\n",
       "      <td>0.000141</td>\n",
       "      <td>0.000000</td>\n",
       "      <td>0.000000</td>\n",
       "      <td>12.000000</td>\n",
       "      <td>1.000000</td>\n",
       "      <td>0.000274</td>\n",
       "      <td>0.000025</td>\n",
       "      <td>13.000000</td>\n",
       "      <td>0.000200</td>\n",
       "      <td>4.000000</td>\n",
       "      <td>0.000036</td>\n",
       "      <td>27.760000</td>\n",
       "      <td>0.000023</td>\n",
       "      <td>4.789997e+05</td>\n",
       "      <td>2.100002e+04</td>\n",
       "      <td>2.099996e+04</td>\n",
       "      <td>3.000016e+04</td>\n",
       "      <td>3993.000000</td>\n",
       "      <td>5.500000</td>\n",
       "      <td>57.799999</td>\n",
       "      <td>-0.089512</td>\n",
       "    </tr>\n",
       "    <tr>\n",
       "      <th>25%</th>\n",
       "      <td>1982.000000</td>\n",
       "      <td>1.312500</td>\n",
       "      <td>5.275000</td>\n",
       "      <td>12260.571533</td>\n",
       "      <td>57.709750</td>\n",
       "      <td>0.214797</td>\n",
       "      <td>0.608632</td>\n",
       "      <td>0.233310</td>\n",
       "      <td>20.000000</td>\n",
       "      <td>0.00000</td>\n",
       "      <td>0.162174</td>\n",
       "      <td>7047.493530</td>\n",
       "      <td>0.000000</td>\n",
       "      <td>0.000000</td>\n",
       "      <td>0.000000</td>\n",
       "      <td>292.750000</td>\n",
       "      <td>1.623710</td>\n",
       "      <td>52.250000</td>\n",
       "      <td>0.000032</td>\n",
       "      <td>34.750000</td>\n",
       "      <td>26.750000</td>\n",
       "      <td>0.000218</td>\n",
       "      <td>5.000000</td>\n",
       "      <td>0.000041</td>\n",
       "      <td>38.000000</td>\n",
       "      <td>12.000000</td>\n",
       "      <td>0.000398</td>\n",
       "      <td>0.000117</td>\n",
       "      <td>48.000000</td>\n",
       "      <td>0.000322</td>\n",
       "      <td>12.750000</td>\n",
       "      <td>0.000107</td>\n",
       "      <td>94.286499</td>\n",
       "      <td>0.000051</td>\n",
       "      <td>1.545251e+06</td>\n",
       "      <td>7.225006e+04</td>\n",
       "      <td>7.560232e+04</td>\n",
       "      <td>1.012503e+05</td>\n",
       "      <td>11426.500000</td>\n",
       "      <td>5.500000</td>\n",
       "      <td>57.799999</td>\n",
       "      <td>-0.023864</td>\n",
       "    </tr>\n",
       "    <tr>\n",
       "      <th>50%</th>\n",
       "      <td>1985.000000</td>\n",
       "      <td>1.650000</td>\n",
       "      <td>7.050000</td>\n",
       "      <td>13774.353516</td>\n",
       "      <td>61.337376</td>\n",
       "      <td>0.346487</td>\n",
       "      <td>1.758600</td>\n",
       "      <td>0.400000</td>\n",
       "      <td>21.000000</td>\n",
       "      <td>0.11074</td>\n",
       "      <td>0.183364</td>\n",
       "      <td>7779.157227</td>\n",
       "      <td>0.000000</td>\n",
       "      <td>0.000000</td>\n",
       "      <td>0.000000</td>\n",
       "      <td>723.000000</td>\n",
       "      <td>2.024030</td>\n",
       "      <td>138.500000</td>\n",
       "      <td>0.000038</td>\n",
       "      <td>86.000000</td>\n",
       "      <td>47.500000</td>\n",
       "      <td>0.000295</td>\n",
       "      <td>10.000000</td>\n",
       "      <td>0.000054</td>\n",
       "      <td>84.500000</td>\n",
       "      <td>24.500000</td>\n",
       "      <td>0.000497</td>\n",
       "      <td>0.000145</td>\n",
       "      <td>96.000000</td>\n",
       "      <td>0.000394</td>\n",
       "      <td>31.500000</td>\n",
       "      <td>0.000127</td>\n",
       "      <td>219.675003</td>\n",
       "      <td>0.000064</td>\n",
       "      <td>3.385503e+06</td>\n",
       "      <td>1.690000e+05</td>\n",
       "      <td>1.709823e+05</td>\n",
       "      <td>2.435000e+05</td>\n",
       "      <td>28090.499023</td>\n",
       "      <td>7.600000</td>\n",
       "      <td>60.050001</td>\n",
       "      <td>0.008297</td>\n",
       "    </tr>\n",
       "    <tr>\n",
       "      <th>75%</th>\n",
       "      <td>1988.000000</td>\n",
       "      <td>1.995000</td>\n",
       "      <td>9.200000</td>\n",
       "      <td>15160.900391</td>\n",
       "      <td>64.257044</td>\n",
       "      <td>0.621511</td>\n",
       "      <td>13.127125</td>\n",
       "      <td>0.642450</td>\n",
       "      <td>21.000000</td>\n",
       "      <td>2.11540</td>\n",
       "      <td>0.208379</td>\n",
       "      <td>8749.439941</td>\n",
       "      <td>1.000000</td>\n",
       "      <td>0.000000</td>\n",
       "      <td>0.000000</td>\n",
       "      <td>1076.000000</td>\n",
       "      <td>2.453930</td>\n",
       "      <td>230.000000</td>\n",
       "      <td>0.000046</td>\n",
       "      <td>134.250000</td>\n",
       "      <td>77.500000</td>\n",
       "      <td>0.000357</td>\n",
       "      <td>16.000000</td>\n",
       "      <td>0.000075</td>\n",
       "      <td>131.250000</td>\n",
       "      <td>45.000000</td>\n",
       "      <td>0.000573</td>\n",
       "      <td>0.000187</td>\n",
       "      <td>151.500000</td>\n",
       "      <td>0.000469</td>\n",
       "      <td>50.250000</td>\n",
       "      <td>0.000147</td>\n",
       "      <td>356.607750</td>\n",
       "      <td>0.000078</td>\n",
       "      <td>5.674987e+06</td>\n",
       "      <td>2.825001e+05</td>\n",
       "      <td>3.078614e+05</td>\n",
       "      <td>4.172502e+05</td>\n",
       "      <td>44537.250000</td>\n",
       "      <td>9.700000</td>\n",
       "      <td>62.300003</td>\n",
       "      <td>0.039652</td>\n",
       "    </tr>\n",
       "    <tr>\n",
       "      <th>max</th>\n",
       "      <td>1988.000000</td>\n",
       "      <td>4.900000</td>\n",
       "      <td>15.500000</td>\n",
       "      <td>22193.455078</td>\n",
       "      <td>70.838394</td>\n",
       "      <td>2.720764</td>\n",
       "      <td>30.355700</td>\n",
       "      <td>65.916496</td>\n",
       "      <td>21.000000</td>\n",
       "      <td>45.77980</td>\n",
       "      <td>0.281496</td>\n",
       "      <td>11812.115234</td>\n",
       "      <td>1.000000</td>\n",
       "      <td>1.000000</td>\n",
       "      <td>1.000000</td>\n",
       "      <td>5390.000000</td>\n",
       "      <td>4.217840</td>\n",
       "      <td>1049.000000</td>\n",
       "      <td>0.000086</td>\n",
       "      <td>603.000000</td>\n",
       "      <td>247.000000</td>\n",
       "      <td>0.000634</td>\n",
       "      <td>72.000000</td>\n",
       "      <td>0.000257</td>\n",
       "      <td>583.000000</td>\n",
       "      <td>196.000000</td>\n",
       "      <td>0.001095</td>\n",
       "      <td>0.000524</td>\n",
       "      <td>758.000000</td>\n",
       "      <td>0.000892</td>\n",
       "      <td>249.000000</td>\n",
       "      <td>0.000292</td>\n",
       "      <td>2094.899902</td>\n",
       "      <td>0.000172</td>\n",
       "      <td>2.831403e+07</td>\n",
       "      <td>1.157002e+06</td>\n",
       "      <td>1.321004e+06</td>\n",
       "      <td>1.892998e+06</td>\n",
       "      <td>241575.015625</td>\n",
       "      <td>9.700000</td>\n",
       "      <td>62.300003</td>\n",
       "      <td>0.104920</td>\n",
       "    </tr>\n",
       "  </tbody>\n",
       "</table>\n",
       "</div>"
      ],
      "text/plain": [
       "              year   spircons     unrate        perinc     emppop    beertax  \\\n",
       "count    96.000000  96.000000  96.000000     96.000000  96.000000  96.000000   \n",
       "mean   1985.000000   1.749896   7.361459  13945.891602  60.825115   0.505044   \n",
       "std       3.015748   0.687137   2.824493   2422.510742   4.944419   0.477024   \n",
       "min    1982.000000   0.790000   2.400000   9553.699219  45.522900   0.043311   \n",
       "25%    1982.000000   1.312500   5.275000  12260.571533  57.709750   0.214797   \n",
       "50%    1985.000000   1.650000   7.050000  13774.353516  61.337376   0.346487   \n",
       "75%    1988.000000   1.995000   9.200000  15160.900391  64.257044   0.621511   \n",
       "max    1988.000000   4.900000  15.500000  22193.455078  70.838394   2.720764   \n",
       "\n",
       "          sobapt     mormon       mlda       dry     yngdrv        vmiles  \\\n",
       "count  96.000000  96.000000  96.000000  96.00000  96.000000     96.000000   \n",
       "mean    7.159286   2.804149  20.500000   4.31191   0.184874   7921.525391   \n",
       "std     9.801956   9.707438   0.909019   9.65108   0.031292   1256.812012   \n",
       "min     0.000000   0.100000  18.000000   0.00000   0.073137   4576.345703   \n",
       "25%     0.608632   0.233310  20.000000   0.00000   0.162174   7047.493530   \n",
       "50%     1.758600   0.400000  21.000000   0.11074   0.183364   7779.157227   \n",
       "75%    13.127125   0.642450  21.000000   2.11540   0.208379   8749.439941   \n",
       "max    30.355700  65.916496  21.000000  45.77980   0.281496  11812.115234   \n",
       "\n",
       "          breath      jaild    comserd      allmort      mrall      allnite  \\\n",
       "count  96.000000  95.000000  95.000000    96.000000  96.000000    96.000000   \n",
       "mean    0.437500   0.242105   0.157895   941.979167   2.079350   191.104167   \n",
       "std     0.498682   0.430630   0.366577   947.803755   0.595899   199.769155   \n",
       "min     0.000000   0.000000   0.000000   104.000000   1.100630    18.000000   \n",
       "25%     0.000000   0.000000   0.000000   292.750000   1.623710    52.250000   \n",
       "50%     0.000000   0.000000   0.000000   723.000000   2.024030   138.500000   \n",
       "75%     1.000000   0.000000   0.000000  1076.000000   2.453930   230.000000   \n",
       "max     1.000000   1.000000   1.000000  5390.000000   4.217840  1049.000000   \n",
       "\n",
       "          mralln      allsvn       a1517    mra1517     a1517n   mra1517n  \\\n",
       "count  96.000000   96.000000   96.000000  96.000000  96.000000  96.000000   \n",
       "mean    0.000041  114.770833   62.052083   0.000306  12.822917   0.000062   \n",
       "std     0.000012  114.674595   53.314434   0.000104  13.085142   0.000037   \n",
       "min     0.000017   10.000000    5.000000   0.000141   0.000000   0.000000   \n",
       "25%     0.000032   34.750000   26.750000   0.000218   5.000000   0.000041   \n",
       "50%     0.000038   86.000000   47.500000   0.000295  10.000000   0.000054   \n",
       "75%     0.000046  134.250000   77.500000   0.000357  16.000000   0.000075   \n",
       "max     0.000086  603.000000  247.000000   0.000634  72.000000   0.000257   \n",
       "\n",
       "            a1820      a1820n    mra1820   mra1820n       a2124    mra2124  \\\n",
       "count   96.000000   96.000000  96.000000  96.000000   96.000000  96.000000   \n",
       "mean   111.770833   35.822917   0.000510   0.000161  126.885417   0.000410   \n",
       "std    108.574736   35.439495   0.000164   0.000075  132.653873   0.000130   \n",
       "min     12.000000    1.000000   0.000274   0.000025   13.000000   0.000200   \n",
       "25%     38.000000   12.000000   0.000398   0.000117   48.000000   0.000322   \n",
       "50%     84.500000   24.500000   0.000497   0.000145   96.000000   0.000394   \n",
       "75%    131.250000   45.000000   0.000573   0.000187  151.500000   0.000469   \n",
       "max    583.000000  196.000000   0.001095   0.000524  758.000000   0.000892   \n",
       "\n",
       "           a2124n   mra2124n       aidall   mraidall           pop  \\\n",
       "count   96.000000  96.000000    96.000000  96.000000  9.600000e+01   \n",
       "mean    42.875000   0.000131   300.004608   0.000068  4.932250e+06   \n",
       "std     45.471391   0.000039   312.300995   0.000027  5.102291e+06   \n",
       "min      4.000000   0.000036    27.760000   0.000023  4.789997e+05   \n",
       "25%     12.750000   0.000107    94.286499   0.000051  1.545251e+06   \n",
       "50%     31.500000   0.000127   219.675003   0.000064  3.385503e+06   \n",
       "75%     50.250000   0.000147   356.607750   0.000078  5.674987e+06   \n",
       "max    249.000000   0.000292  2094.899902   0.000172  2.831403e+07   \n",
       "\n",
       "            pop1517       pop1820       pop2124          miles       unus  \\\n",
       "count  9.600000e+01  9.600000e+01  9.600000e+01      96.000000  96.000000   \n",
       "mean   2.318125e+05  2.449765e+05  3.369480e+05   37393.980469   7.600004   \n",
       "std    2.314680e+05  2.475225e+05  3.468089e+05   38114.128906   2.111023   \n",
       "min    2.100002e+04  2.099996e+04  3.000016e+04    3993.000000   5.500000   \n",
       "25%    7.225006e+04  7.560232e+04  1.012503e+05   11426.500000   5.500000   \n",
       "50%    1.690000e+05  1.709823e+05  2.435000e+05   28090.499023   7.600000   \n",
       "75%    2.825001e+05  3.078614e+05  4.172502e+05   44537.250000   9.700000   \n",
       "max    1.157002e+06  1.321004e+06  1.892998e+06  241575.015625   9.700000   \n",
       "\n",
       "          epopus      gspch  \n",
       "count  96.000000  96.000000  \n",
       "mean   60.049969   0.006398  \n",
       "std     2.261812   0.039740  \n",
       "min    57.799999  -0.089512  \n",
       "25%    57.799999  -0.023864  \n",
       "50%    60.050001   0.008297  \n",
       "75%    62.300003   0.039652  \n",
       "max    62.300003   0.104920  "
      ]
     },
     "execution_count": 108,
     "metadata": {},
     "output_type": "execute_result"
    }
   ],
   "source": [
    "import pandas as pd\n",
    "import numpy as np\n",
    "import statsmodels.formula.api as smf\n",
    "\n",
    "fatality=pd.read_stata('data/fatality.dta')\n",
    "\n",
    "pd.set_option('display.max_rows', 400)\n",
    "pd.set_option('display.max_columns', 100)\n",
    "fatality.head(400)\n",
    "fatality.describe()"
   ]
  },
  {
   "cell_type": "code",
   "execution_count": 94,
   "metadata": {
    "slideshow": {
     "slide_type": "slide"
    }
   },
   "outputs": [
    {
     "data": {
      "text/plain": [
       "array([1982, 1988], dtype=int64)"
      ]
     },
     "metadata": {},
     "output_type": "display_data"
    },
    {
     "data": {
      "text/plain": [
       "[AL, AZ, AR, CA, CO, ..., VA, WA, WV, WI, WY]\n",
       "Length: 48\n",
       "Categories (48, object): [AL < AZ < AR < CA ... WA < WV < WI < WY]"
      ]
     },
     "metadata": {},
     "output_type": "display_data"
    }
   ],
   "source": [
    "import pandas as pd\n",
    "import numpy as np\n",
    "import statsmodels.formula.api as smf\n",
    "\n",
    "fatality=pd.read_stata('data/fatality.dta')\n",
    "display(fatality.year.unique())\n",
    "display(fatality.state.unique())"
   ]
  },
  {
   "cell_type": "code",
   "execution_count": 28,
   "metadata": {
    "slideshow": {
     "slide_type": "slide"
    }
   },
   "outputs": [
    {
     "data": {
      "text/plain": [
       "array([1982], dtype=int64)"
      ]
     },
     "metadata": {},
     "output_type": "display_data"
    },
    {
     "name": "stdout",
     "output_type": "stream",
     "text": [
      "res_fat_82.summary(): \n",
      "                            OLS Regression Results                            \n",
      "==============================================================================\n",
      "Dep. Variable:                  mrall   R-squared:                       0.013\n",
      "Model:                            OLS   Adj. R-squared:                 -0.008\n",
      "Method:                 Least Squares   F-statistic:                    0.6212\n",
      "Date:                Thu, 16 Sep 2021   Prob (F-statistic):              0.435\n",
      "Time:                        09:52:10   Log-Likelihood:                -47.899\n",
      "No. Observations:                  48   AIC:                             99.80\n",
      "Df Residuals:                      46   BIC:                             103.5\n",
      "Df Model:                           1                                         \n",
      "Covariance Type:            nonrobust                                         \n",
      "==============================================================================\n",
      "                 coef    std err          t      P>|t|      [0.025      0.975]\n",
      "------------------------------------------------------------------------------\n",
      "Intercept      2.0104      0.139     14.455      0.000       1.730       2.290\n",
      "beertax        0.1485      0.188      0.788      0.435      -0.231       0.528\n",
      "==============================================================================\n",
      "Omnibus:                       17.902   Durbin-Watson:                   2.272\n",
      "Prob(Omnibus):                  0.000   Jarque-Bera (JB):               22.354\n",
      "Skew:                           1.346   Prob(JB):                     1.40e-05\n",
      "Kurtosis:                       4.983   Cond. No.                         2.63\n",
      "==============================================================================\n",
      "\n",
      "Warnings:\n",
      "[1] Standard Errors assume that the covariance matrix of the errors is correctly specified.\n",
      "\n"
     ]
    }
   ],
   "source": [
    "import pandas as pd\n",
    "import numpy as np\n",
    "import statsmodels.formula.api as smf\n",
    "\n",
    "fatality=pd.read_stata('data/fatality.dta')\n",
    "\n",
    "fatality_82=fatality[fatality['year']==1982]\n",
    "display(fatality_82.year.unique())\n",
    "\n",
    "reg_82 = smf.ols(formula='mrall ~ beertax',\n",
    "                      data=fatality_82)\n",
    "res_fat_82 = reg_82.fit()\n",
    "\n",
    "print(f'res_fat_82.summary(): \\n{res_fat_82.summary()}\\n')"
   ]
  },
  {
   "cell_type": "code",
   "execution_count": 101,
   "metadata": {
    "slideshow": {
     "slide_type": "slide"
    }
   },
   "outputs": [
    {
     "data": {
      "text/plain": [
       "array([1982], dtype=int64)"
      ]
     },
     "metadata": {},
     "output_type": "display_data"
    },
    {
     "data": {
      "text/plain": [
       "Text(0.5, 0, 'beertax')"
      ]
     },
     "execution_count": 101,
     "metadata": {},
     "output_type": "execute_result"
    },
    {
     "data": {
      "image/png": "[encoded data removed]",
      "text/plain": [
       "<Figure size 576x396 with 1 Axes>"
      ]
     },
     "metadata": {},
     "output_type": "display_data"
    }
   ],
   "source": [
    "import pandas as pd\n",
    "import numpy as np\n",
    "import statsmodels.formula.api as smf\n",
    "import matplotlib.pyplot as plt\n",
    "\n",
    "fatality=pd.read_stata('data/fatality.dta')\n",
    "\n",
    "fatality_82=fatality[fatality['year']==1982]\n",
    "display(fatality_82.year.unique())\n",
    "\n",
    "reg_82 = smf.ols(formula='mrall ~ beertax',\n",
    "                      data=fatality_82)\n",
    "res_fat_82 = reg_82.fit()\n",
    "\n",
    "\n",
    "plt.style.use('seaborn')\n",
    "plt.plot('beertax', 'mrall', data=fatality_82, color='grey', marker='o', linestyle='')\n",
    "plt.plot(fatality_82['beertax'],res_fat_82.fittedvalues, color='black', linestyle='-')\n",
    "plt.ylabel('mrall')\n",
    "plt.xlabel('beertax')"
   ]
  },
  {
   "cell_type": "code",
   "execution_count": 102,
   "metadata": {
    "slideshow": {
     "slide_type": "slide"
    }
   },
   "outputs": [
    {
     "data": {
      "text/plain": [
       "array([1988], dtype=int64)"
      ]
     },
     "metadata": {},
     "output_type": "display_data"
    },
    {
     "name": "stdout",
     "output_type": "stream",
     "text": [
      "res_fat_88.summary(): \n",
      "                            OLS Regression Results                            \n",
      "==============================================================================\n",
      "Dep. Variable:                  mrall   R-squared:                       0.134\n",
      "Model:                            OLS   Adj. R-squared:                  0.115\n",
      "Method:                 Least Squares   F-statistic:                     7.118\n",
      "Date:                Thu, 17 Sep 2020   Prob (F-statistic):             0.0105\n",
      "Time:                        11:29:06   Log-Likelihood:                -32.871\n",
      "No. Observations:                  48   AIC:                             69.74\n",
      "Df Residuals:                      46   BIC:                             73.49\n",
      "Df Model:                           1                                         \n",
      "Covariance Type:            nonrobust                                         \n",
      "==============================================================================\n",
      "                 coef    std err          t      P>|t|      [0.025      0.975]\n",
      "------------------------------------------------------------------------------\n",
      "Intercept      1.8591      0.106     17.540      0.000       1.646       2.072\n",
      "beertax        0.4388      0.164      2.668      0.011       0.108       0.770\n",
      "==============================================================================\n",
      "Omnibus:                        5.076   Durbin-Watson:                   2.311\n",
      "Prob(Omnibus):                  0.079   Jarque-Bera (JB):                4.414\n",
      "Skew:                           0.741   Prob(JB):                        0.110\n",
      "Kurtosis:                       3.112   Cond. No.                         2.95\n",
      "==============================================================================\n",
      "\n",
      "Warnings:\n",
      "[1] Standard Errors assume that the covariance matrix of the errors is correctly specified.\n",
      "\n"
     ]
    }
   ],
   "source": [
    "import pandas as pd\n",
    "import numpy as np\n",
    "import statsmodels.formula.api as smf\n",
    "\n",
    "fatality=pd.read_stata('data/fatality.dta')\n",
    "\n",
    "fatality_88=fatality[fatality['year']==1988]\n",
    "display(fatality_88.year.unique())\n",
    "\n",
    "reg_88 = smf.ols(formula='mrall ~ beertax',\n",
    "                      data=fatality_88)\n",
    "res_fat_88 = reg_88.fit()\n",
    "    \n",
    "print(f'res_fat_88.summary(): \\n{res_fat_88.summary()}\\n')"
   ]
  },
  {
   "cell_type": "code",
   "execution_count": 29,
   "metadata": {
    "slideshow": {
     "slide_type": "slide"
    }
   },
   "outputs": [
    {
     "data": {
      "text/plain": [
       "array([1988], dtype=int64)"
      ]
     },
     "metadata": {},
     "output_type": "display_data"
    },
    {
     "data": {
      "text/plain": [
       "Text(0.5, 0, 'beertax')"
      ]
     },
     "execution_count": 29,
     "metadata": {},
     "output_type": "execute_result"
    },
    {
     "data": {
      "image/png": "[encoded data removed]",
      "text/plain": [
       "<Figure size 576x396 with 1 Axes>"
      ]
     },
     "metadata": {},
     "output_type": "display_data"
    }
   ],
   "source": [
    "import pandas as pd\n",
    "import numpy as np\n",
    "import statsmodels.formula.api as smf\n",
    "import matplotlib.pyplot as plt\n",
    "\n",
    "fatality=pd.read_stata('data/fatality.dta')\n",
    "\n",
    "fatality_88=fatality[fatality['year']==1988]\n",
    "display(fatality_88.year.unique())\n",
    "\n",
    "reg_88 = smf.ols(formula='mrall ~ beertax',\n",
    "                      data=fatality_88)\n",
    "res_fat_88 = reg_88.fit()\n",
    "\n",
    "plt.style.use('seaborn')\n",
    "plt.plot('beertax', 'mrall', data=fatality_88, color='grey', marker='o', linestyle='')\n",
    "plt.plot(fatality_88['beertax'],res_fat_88.fittedvalues, color='black', linestyle='-')\n",
    "plt.ylabel('mrall')\n",
    "plt.xlabel('beertax')"
   ]
  },
  {
   "cell_type": "code",
   "execution_count": 22,
   "metadata": {
    "slideshow": {
     "slide_type": "slide"
    }
   },
   "outputs": [
    {
     "name": "stdout",
     "output_type": "stream",
     "text": [
      "res_fat8288.summary(): \n",
      "                            OLS Regression Results                            \n",
      "==============================================================================\n",
      "Dep. Variable:                  mrall   R-squared:                       0.046\n",
      "Model:                            OLS   Adj. R-squared:                  0.036\n",
      "Method:                 Least Squares   F-statistic:                     4.552\n",
      "Date:                Thu, 16 Sep 2021   Prob (F-statistic):             0.0355\n",
      "Time:                        06:28:23   Log-Likelihood:                -83.748\n",
      "No. Observations:                  96   AIC:                             171.5\n",
      "Df Residuals:                      94   BIC:                             176.6\n",
      "Df Model:                           1                                         \n",
      "Covariance Type:            nonrobust                                         \n",
      "==============================================================================\n",
      "                 coef    std err          t      P>|t|      [0.025      0.975]\n",
      "------------------------------------------------------------------------------\n",
      "Intercept      1.9438      0.087     22.290      0.000       1.771       2.117\n",
      "beertax        0.2685      0.126      2.134      0.035       0.019       0.518\n",
      "==============================================================================\n",
      "Omnibus:                       26.827   Durbin-Watson:                   1.353\n",
      "Prob(Omnibus):                  0.000   Jarque-Bera (JB):               41.725\n",
      "Skew:                           1.229   Prob(JB):                     8.70e-10\n",
      "Kurtosis:                       5.094   Cond. No.                         2.76\n",
      "==============================================================================\n",
      "\n",
      "Warnings:\n",
      "[1] Standard Errors assume that the covariance matrix of the errors is correctly specified.\n",
      "\n"
     ]
    }
   ],
   "source": [
    "import pandas as pd\n",
    "import numpy as np\n",
    "import statsmodels.formula.api as smf\n",
    "\n",
    "fatality=pd.read_stata('data/fatality.dta')\n",
    "fatality_8288=fatality[(fatality['year']==1982) | (fatality['year']==1988)]\n",
    "\n",
    "fatality_8288.head()\n",
    "\n",
    "reg_8288 = smf.ols(formula='mrall ~ beertax',\n",
    "                      data=fatality_8288)\n",
    "res_fat_8288 = reg_8288.fit()\n",
    "print(f'res_fat8288.summary(): \\n{res_fat_8288.summary()}\\n')"
   ]
  },
  {
   "cell_type": "code",
   "execution_count": 103,
   "metadata": {
    "slideshow": {
     "slide_type": "slide"
    }
   },
   "outputs": [
    {
     "data": {
      "text/plain": [
       "array([1982, 1988], dtype=int64)"
      ]
     },
     "metadata": {},
     "output_type": "display_data"
    },
    {
     "data": {
      "text/plain": [
       "Text(0.5, 0, 'beertax')"
      ]
     },
     "execution_count": 103,
     "metadata": {},
     "output_type": "execute_result"
    },
    {
     "data": {
      "image/png": "[encoded data removed]",
      "text/plain": [
       "<Figure size 576x396 with 1 Axes>"
      ]
     },
     "metadata": {},
     "output_type": "display_data"
    }
   ],
   "source": [
    "import pandas as pd\n",
    "import numpy as np\n",
    "import statsmodels.formula.api as smf\n",
    "import matplotlib.pyplot as plt\n",
    "\n",
    "fatality=pd.read_stata('data/fatality.dta')\n",
    "\n",
    "fatality_8288=fatality[(fatality['year']==1982) | (fatality['year']==1988)]\n",
    "display(fatality_8288.year.unique())\n",
    "\n",
    "reg_8288 = smf.ols(formula='mrall ~ beertax',\n",
    "                      data=fatality_8288)\n",
    "res_fat_8288 = reg_8288.fit()\n",
    "\n",
    "plt.style.use('seaborn')\n",
    "plt.plot('beertax', 'mrall', data=fatality_8288, color='grey', marker='o', linestyle='')\n",
    "plt.plot(fatality_8288['beertax'],res_fat_8288.fittedvalues, color='black', linestyle='-')\n",
    "plt.ylabel('mrall')\n",
    "plt.xlabel('beertax')"
   ]
  },
  {
   "cell_type": "code",
   "execution_count": 104,
   "metadata": {
    "slideshow": {
     "slide_type": "slide"
    }
   },
   "outputs": [
    {
     "name": "stdout",
     "output_type": "stream",
     "text": [
      "res_fat_all.summary(): \n",
      "                            OLS Regression Results                            \n",
      "==============================================================================\n",
      "Dep. Variable:                  mrall   R-squared:                       0.046\n",
      "Model:                            OLS   Adj. R-squared:                  0.036\n",
      "Method:                 Least Squares   F-statistic:                     4.552\n",
      "Date:                Thu, 17 Sep 2020   Prob (F-statistic):             0.0355\n",
      "Time:                        11:32:30   Log-Likelihood:                -83.748\n",
      "No. Observations:                  96   AIC:                             171.5\n",
      "Df Residuals:                      94   BIC:                             176.6\n",
      "Df Model:                           1                                         \n",
      "Covariance Type:            nonrobust                                         \n",
      "==============================================================================\n",
      "                 coef    std err          t      P>|t|      [0.025      0.975]\n",
      "------------------------------------------------------------------------------\n",
      "Intercept      1.9438      0.087     22.290      0.000       1.771       2.117\n",
      "beertax        0.2685      0.126      2.134      0.035       0.019       0.518\n",
      "==============================================================================\n",
      "Omnibus:                       26.827   Durbin-Watson:                   1.353\n",
      "Prob(Omnibus):                  0.000   Jarque-Bera (JB):               41.725\n",
      "Skew:                           1.229   Prob(JB):                     8.70e-10\n",
      "Kurtosis:                       5.094   Cond. No.                         2.76\n",
      "==============================================================================\n",
      "\n",
      "Warnings:\n",
      "[1] Standard Errors assume that the covariance matrix of the errors is correctly specified.\n",
      "\n"
     ]
    }
   ],
   "source": [
    "import pandas as pd\n",
    "import numpy as np\n",
    "import statsmodels.formula.api as smf\n",
    "\n",
    "fatality=pd.read_stata('data/fatality.dta')\n",
    "\n",
    "reg_all = smf.ols(formula='mrall ~ beertax',\n",
    "                      data=fatality)\n",
    "res_fat_all = reg_all.fit()\n",
    "\n",
    "print(f'res_fat_all.summary(): \\n{res_fat_all.summary()}\\n')"
   ]
  },
  {
   "cell_type": "code",
   "execution_count": 105,
   "metadata": {
    "slideshow": {
     "slide_type": "slide"
    }
   },
   "outputs": [
    {
     "data": {
      "text/plain": [
       "Text(0.5, 0, 'beertax')"
      ]
     },
     "execution_count": 105,
     "metadata": {},
     "output_type": "execute_result"
    },
    {
     "data": {
      "image/png": "[encoded data removed]",
      "text/plain": [
       "<Figure size 576x396 with 1 Axes>"
      ]
     },
     "metadata": {},
     "output_type": "display_data"
    }
   ],
   "source": [
    "import pandas as pd\n",
    "import numpy as np\n",
    "import statsmodels.formula.api as smf\n",
    "import matplotlib.pyplot as plt\n",
    "\n",
    "fatality=pd.read_stata('data/fatality.dta')\n",
    "\n",
    "reg_all = smf.ols(formula='mrall ~ beertax',\n",
    "                      data=fatality)\n",
    "res_fat_all = reg_all.fit()\n",
    "\n",
    "plt.style.use('seaborn')\n",
    "plt.plot('beertax', 'mrall', data=fatality, color='grey', marker='o', linestyle='')\n",
    "plt.plot(fatality['beertax'],res_fat_all.fittedvalues, color='black', linestyle='-')\n",
    "plt.ylabel('mrall')\n",
    "plt.xlabel('beertax')"
   ]
  },
  {
   "cell_type": "code",
   "execution_count": null,
   "metadata": {
    "slideshow": {
     "slide_type": "slide"
    }
   },
   "outputs": [],
   "source": []
  },
  {
   "cell_type": "code",
   "execution_count": 106,
   "metadata": {
    "slideshow": {
     "slide_type": "slide"
    }
   },
   "outputs": [
    {
     "name": "stdout",
     "output_type": "stream",
     "text": [
      "\n",
      "=========================================================\n",
      "              y82         y88        y8288        yall   \n",
      "              (1)         (2)         (3)         (4)    \n",
      "---------------------------------------------------------\n",
      "Intercept 2.010381*** 1.859073*** 1.943759*** 1.943759***\n",
      "          (0.139078)  (0.105989)  (0.087204)  (0.087204) \n",
      "beertax   0.148460    0.438755**  0.268473**  0.268473** \n",
      "          (0.188368)  (0.164454)  (0.125835)  (0.125835) \n",
      "N         48          48          96          96         \n",
      "R2        0.01        0.13        0.05        0.05       \n",
      "=========================================================\n",
      "Standard errors in parentheses.\n",
      "* p<.1, ** p<.05, ***p<.01\n"
     ]
    }
   ],
   "source": [
    "import pandas as pd\n",
    "import numpy as np\n",
    "import statsmodels.formula.api as smf\n",
    "from statsmodels.iolib.summary2 import summary_col\n",
    "\n",
    "fatality=pd.read_stata('data/fatality.dta')\n",
    "\n",
    "fatality_82=fatality[fatality['year']==1982]\n",
    "reg_82 = smf.ols(formula='mrall ~ beertax',\n",
    "                      data=fatality_82)\n",
    "\n",
    "fatality_88=fatality[fatality['year']==1988]\n",
    "reg_88 = smf.ols(formula='mrall ~ beertax',\n",
    "                      data=fatality_88)\n",
    "\n",
    "fatality_8288=fatality[(fatality['year']==1982) | (fatality['year']==1988)]\n",
    "reg_8288 = smf.ols(formula='mrall ~ beertax',\n",
    "                      data=fatality_8288)\n",
    "\n",
    "res_fat_8288 = reg_8288.fit()\n",
    "reg_all = smf.ols(formula='mrall ~ beertax',\n",
    "                      data=fatality)\n",
    "res_fat_all = reg_all.fit()\n",
    "\n",
    "\n",
    "output = summary_col([res_fat_82, res_fat_88, res_fat_8288, res_fat_all],stars=True,float_format='%0.6f',\n",
    "                  model_names=['y82\\n(1)','y88\\n(2)','y8288\\n(3)','yall\\n(4)'],\n",
    "                  info_dict={'N':lambda x: \"{0:d}\".format(int(x.nobs)),\n",
    "                             'R2':lambda x: \"{:.2f}\".format(x.rsquared)})\n",
    "print(output)\n"
   ]
  },
  {
   "cell_type": "markdown",
   "metadata": {
    "slideshow": {
     "slide_type": "slide"
    }
   },
   "source": [
    "**Panel Data**\n",
    "\n",
    "- Should we conclude that an increase in the tax on beer leads to more traffic deaths?\n"
   ]
  },
  {
   "cell_type": "markdown",
   "metadata": {
    "slideshow": {
     "slide_type": "slide"
    }
   },
   "source": [
    "**Panel Data**\n",
    "\n",
    "- Should we conclude that an increase in the tax on beer leads to more traffic deaths?\n",
    "- Not necessarily, because these regressions could have substantial omitted variable bias.\n",
    "- Many factors affect the fatality rate:\n",
    "    - the quality of the automobiles driven in the state,\n",
    "    - whether the state highways are in good repair,\n",
    "    - whether most driving is rural or urban,\n",
    "    - the density of cars on the road,\n",
    "    - and whether it is socially acceptable to drink and drive."
   ]
  },
  {
   "cell_type": "markdown",
   "metadata": {
    "slideshow": {
     "slide_type": "slide"
    }
   },
   "source": [
    "**Panel Data**\n",
    "\n",
    "- Any of these factors may be correlated with alcohol taxes, and if so, this will lead to omitted variable bias.\n",
    "- One approach to these potential sources of omitted variable bias would be to collect data on all these variables and add them to the annual cross-sectional regressions.\n",
    "- Unfortunately, some of these variables, such as the cultural acceptance of drinking and driving, might be very hard or even impossible to measure.\n",
    "- But: If these factors remain constant over time in a given state, however, then another route is available.\n",
    "- Because we have panel data, we can, in effect, hold these factors constant even though we cannot measure them.\n",
    "- To do so, we use OLS regression with **fixed effects**."
   ]
  },
  {
   "cell_type": "markdown",
   "metadata": {
    "slideshow": {
     "slide_type": "slide"
    }
   },
   "source": [
    "**Panel Data with Two Time Periods: \"Before and After\" Comparisons**\n",
    "\n",
    "- When data for each state are obtained for $T = 2$ time periods, it is possible to compare values of the dependent variable in the second period to values in the first period.\n",
    "- By focusing on changes in the dependent variable, this \"before and after\" or \"differences\" comparison, in effect, holds constant the unobserved factors that differ from one state to the next but do not change over time within the state.\n",
    "- Let $Z_i$ be a variable that determines the fatality rate in the $i^th$ state but does not change over time (so the $t$ subscript is omitted).\n",
    "- For example, $Z_i$ might be the local cultural attitude toward drinking and driving, which changes slowly and thus could be considered to be constant between 1982 and 1988.\n",
    "- What else could be $Z_i$?\n",
    "\n"
   ]
  },
  {
   "cell_type": "markdown",
   "metadata": {
    "slideshow": {
     "slide_type": "slide"
    }
   },
   "source": [
    "**Panel Data with Two Time Periods: \"Before and After\" Comparisons**\n",
    "    \n",
    "- Accordingly, the population linear regression relating $Z_i$ and the real beer tax to the fatality rate is\n",
    "\n",
    "\\begin{equation*}\n",
    "FatalityRate_{it}=\\beta_0+\\beta_1BeerTax_{it}+\\beta_2z_i+u_{it}\n",
    "\\end{equation*}\n",
    "\n",
    "where $u_{it}$ is the error term, $i = 1,..,n$, and $t = 1,...,T$.\n",
    "\n",
    "- Because $z_i$ does not change over time, in the regression model in it will not produce any change in the fatality rate between 1982 and 1988.\n",
    "- Thus, in this regression model, the influence of $z_i$ can be eliminated by analyzing the change in the fatality rate between the two periods.\n"
   ]
  },
  {
   "cell_type": "markdown",
   "metadata": {
    "slideshow": {
     "slide_type": "slide"
    }
   },
   "source": [
    "**Panel Data with Two Time Periods: \"Before and After\" Comparisons**\n",
    "\n",
    "- To see this mathematically, consider the equation below for each of the two years 1982 and 1988:\n",
    "\n",
    "\\begin{equation*}\n",
    "FatalityRate_{i1982}=\\beta_0+\\beta_1BeerTax_{i1982}+\\beta_2z_i+u_{i1982}\n",
    "\\end{equation*}\n",
    "\n",
    "\\begin{equation*}\n",
    "FatalityRate_{i1988}=\\beta_0+\\beta_1BeerTax_{i1988}+\\beta_2z_i+u_{i1988}\n",
    "\\end{equation*}\n",
    "\n",
    "Subtracting the second from the first equation eliminates the effect of $Z_i$:\n",
    "\n",
    "\\begin{equation*}\n",
    "FatalityRate_{i1988}- FatalityRate_{i1982} =\\beta_1(BeerTax_{i1988}-BeerTax_{i1982}+u_{i1988}-u_{i1982}\n",
    "\\end{equation*}\n",
    "\n",
    "- This specification has an intuitive interpretation.\n",
    "- Cultural attitudes toward drinking and driving affect the level of drunk driving and thus the traffic fatality rate in a state.\n",
    "- If, however, they did not change between 1982 and 1988, then they did not produce any change in fatalities in the state.\n",
    "- Rather: any changes in traffic fatalities over time must have arisen from other sources.\n",
    "- In our model these are changes in the tax on beer and changes in the error term (which captures changes in other factors that determine traffic deaths)."
   ]
  },
  {
   "cell_type": "markdown",
   "metadata": {
    "slideshow": {
     "slide_type": "slide"
    }
   },
   "source": [
    "**Panel Data with Two Time Periods: \"Before and After\" Comparisons**\n",
    "\n",
    "\n",
    "- Specifying the regression in changes in the above equation eliminates the effect of the unobserved variables $z_i$ that are constant over time.\n",
    "- In other words: analyzing changes in $y$ and $x$ has the effect of controlling for variables that are constant over time, thereby eliminating this source of omitted variable bias.\n",
    "- Let's now estimate this first differenced estimator in Python.\n",
    "- Before we can use the method `diff` to calculate first differences of the dependent variable **FatalityRate** (_mrall_) and the independent variable **BeerTax**, we have to make sure with `groupby ('id')` that these calculations are performed per individual.\n",
    "- The FD estimator can now be calculated by simply applying OLS to these differenced values.\n",
    "- The observations for the first year with missing information are automatically dropped from the estimation sample.\n"
   ]
  },
  {
   "cell_type": "code",
   "execution_count": 107,
   "metadata": {
    "slideshow": {
     "slide_type": "slide"
    }
   },
   "outputs": [
    {
     "name": "stdout",
     "output_type": "stream",
     "text": [
      "fatality_8288[var_selection].head(): \n",
      "  state  year    t    mrall   beertax  mrall_diff1  beertax_diff1\n",
      "0    AL  1982  0.0  2.12836  1.539379          NaN            NaN\n",
      "1    AL  1988  1.0  2.49391  1.501444      0.36555      -0.037936\n",
      "2    AZ  1982  0.0  2.49914  0.214797          NaN            NaN\n",
      "3    AZ  1988  1.0  2.70565  0.346487      0.20651       0.131690\n",
      "4    AR  1982  0.0  2.38405  0.650358          NaN            NaN\n",
      "\n",
      "table_sm: \n",
      "                      b      se       t    pval\n",
      "Intercept     -0.072037  0.0606 -1.1879  0.2410\n",
      "beertax_diff1 -1.040973  0.4172 -2.4950  0.0162\n",
      "\n"
     ]
    }
   ],
   "source": [
    "import numpy as np\n",
    "import pandas as pd\n",
    "import statsmodels.formula.api as smf\n",
    "#remove a false positive warning\n",
    "pd.options.mode.chained_assignment = None  # default='warn'\n",
    "\n",
    "fatality=pd.read_stata('data/fatality.dta')\n",
    "\n",
    "fatality_8288=fatality[(fatality['year']==1982) | (fatality['year']==1988)]\n",
    "\n",
    "fatality_8288['t']=(fatality_8288['year']-1982)/6\n",
    "\n",
    "# manually calculate first differences per entity for mrall and beertax\n",
    "fatality_8288['mrall_diff1'] = \\\n",
    "    fatality_8288.sort_values(['state', 'year']).groupby('state')['mrall'].diff()\n",
    "fatality_8288['beertax_diff1'] = \\\n",
    "    fatality_8288.sort_values(['state', 'year']).groupby('state')['beertax'].diff()\n",
    "var_selection = ['state', 'year','t', 'mrall', 'beertax', 'mrall_diff1', 'beertax_diff1']\n",
    "print(f'fatality_8288[var_selection].head(): \\n{fatality_8288[var_selection].head()}\\n')\n",
    "\n",
    "# estimate FD model with statmodels on differenced data:\n",
    "reg_sm = smf.ols(formula='mrall_diff1 ~beertax_diff1', data=fatality_8288)\n",
    "results_sm = reg_sm.fit()\n",
    "\n",
    "# print results:\n",
    "table_sm = pd.DataFrame({'b': round(results_sm.params, 8),\n",
    "                         'se': round(results_sm.bse, 4),\n",
    "                         't': round(results_sm.tvalues, 4),\n",
    "                         'pval': round(results_sm.pvalues, 4)})\n",
    "print(f'table_sm: \\n{table_sm}\\n')\n"
   ]
  },
  {
   "cell_type": "markdown",
   "metadata": {
    "slideshow": {
     "slide_type": "slide"
    }
   },
   "source": [
    "**Panel Data with Two Time Periods: \"Before and After\" Comparisons**\n",
    "\n",
    "- Including an intercept allows for the possibility that the mean change in the fatality rate, in the absence of a change in the real beer tax, is nonzero.\n",
    "- Any ideas why the sign could be negative?\n"
   ]
  },
  {
   "cell_type": "markdown",
   "metadata": {
    "slideshow": {
     "slide_type": "slide"
    }
   },
   "source": [
    "**Panel Data with Two Time Periods: \"Before and After\" Comparisons**\n",
    "\n",
    "- Including an intercept allows for the possibility that the mean change in the fatality rate, in the absence of a change in the real beer tax, is nonzero.\n",
    "- For example, the negative intercept found could reflect improvements in auto safety between 1982 and 1988 that reduced the average fatality rate.\n",
    "- Generating the differenced values and using OLS on them is actually unnecessary.\n",
    "- The command `FirstDifferenceOLs` shows that many lines of code can be saved by using the canned routine in `linearmodels`.\n",
    "- As the output shows, the parameter estimates are therefore exactly the same as our manual calculations."
   ]
  },
  {
   "cell_type": "code",
   "execution_count": 30,
   "metadata": {
    "slideshow": {
     "slide_type": "slide"
    }
   },
   "outputs": [
    {
     "name": "stdout",
     "output_type": "stream",
     "text": [
      "table_plm: \n",
      "                b      se       t    pval\n",
      "t       -0.016068  0.0263 -0.6106  0.5444\n",
      "beertax -0.405223  0.1810 -2.2384  0.0301\n",
      "\n"
     ]
    }
   ],
   "source": [
    "import numpy as np\n",
    "import pandas as pd\n",
    "import statsmodels.formula.api as smf\n",
    "import linearmodels as plm\n",
    "import matplotlib.pyplot as plt\n",
    "#remove a false positive warning\n",
    "pd.options.mode.chained_assignment = None  # default='warn'\n",
    "\n",
    "fatality=pd.read_stata('data/fatality.dta')\n",
    "\n",
    "fatality_8288=fatality[(fatality['year']==1982) | (fatality['year']==1988)]\n",
    "\n",
    "fatality_8288['t']=(fatality_8288['year']-1982)/6\n",
    "\n",
    "# estimate FD model with linearmodels:\n",
    "fatality_8288 = fatality_8288.set_index(['state', 'year'])\n",
    "reg_plm = plm.FirstDifferenceOLS.from_formula(formula='mrall ~t+beertax',\n",
    "                                              data=fatality_8288)\n",
    "results_plm = reg_plm.fit()\n",
    "\n",
    "# print results:\n",
    "table_plm = pd.DataFrame({'b': round(results_plm.params, 8),\n",
    "                          'se': round(results_plm.std_errors, 4),\n",
    "                          't': round(results_plm.tstats, 4),\n",
    "                          'pval': round(results_plm.pvalues, 4)})\n",
    "print(f'table_plm: \\n{table_plm}\\n')"
   ]
  },
  {
   "cell_type": "markdown",
   "metadata": {
    "slideshow": {
     "slide_type": "slide"
    }
   },
   "source": [
    "**Panel Data with Two Time Periods: \"Before and After\" Comparisons**\n",
    "\n",
    "- In contrast to the cross-sectional regression results, the estimated effect of a change in the real beer tax is negative, as predicted by common sense.\n",
    "- The hypothesis that the population slope coefficient is 0 is rejected at the 5% significance level.\n",
    "- According to this estimated coefficient, an increase in the real beer tax by \\\\$1 per case reduces the traffic fatality rate by 1.04 deaths per 10,000 people.\n",
    "- This estimated effect is very large: The average fatality rate is approximately 2 in these data (that is, 2 fatalities per year\n",
    "per 10,000 members of the population), so the estimate suggests that traffic fatalities can be cut in half merely by increasing the real tax on beer by $1 per case.\n",
    "- Let's just check out of curiosity if a log specification of beer tax shows the same"
   ]
  },
  {
   "cell_type": "markdown",
   "metadata": {
    "slideshow": {
     "slide_type": "slide"
    }
   },
   "source": [
    "**Panel Data with Two Time Periods: \"Before and After\" Comparisons**\n",
    "\n",
    "- By examining changes in the fatality rate over time, the regression  controls for fixed factors such as cultural attitudes toward drinking and driving.\n",
    "- But there are many factors that influence traffic safety, and if they change over time and are correlated with the real beer tax, then their omission will produce omitted variable bias.\n",
    "- Later, we undertake a more careful analysis that controls for several such factors, so for now it is best to refrain from drawing any substantive conclusions about the effect of real beer taxes on traffic fatalities.\n",
    "- This “before and after” or “differences” analysis works when the data are observed in two different years.\n",
    "- Our data set, however, contains observations for seven different years, and it seems foolish to discard those potentially useful additional data.\n",
    "- But the “before and after” method does not apply directly when $T>2$.\n",
    "- To analyze all the observations in our panel data set, we use the method of **fixed effects regression**."
   ]
  },
  {
   "cell_type": "markdown",
   "metadata": {
    "slideshow": {
     "slide_type": "slide"
    }
   },
   "source": [
    "**Fixed Effects Regression**\n",
    "\n",
    "- Fixed effects regression is a method for controlling for omitted variables in panel data when the omitted variables vary across entities (states) but do not change over time.\n",
    "- Unlike the “before and after” comparisons, fixed effects regression can be used when there are two or more time observations for each entity.\n",
    "- The fixed effects regression model has n different intercepts, one for each entity.\n",
    "- These intercepts can be represented by a set of binary (or indicator) variables.\n",
    "- These binary variables absorb the influences of all omitted variables that differ from one entity to the next but are constant over time."
   ]
  },
  {
   "cell_type": "markdown",
   "metadata": {
    "slideshow": {
     "slide_type": "slide"
    }
   },
   "source": [
    "**The Fixed Effects Regression Model**\n",
    "\n",
    "- Consider a regression model with the dependent variable (FatalityRate) and observed regressor (BeerTax) denoted as $y_{it}$ and $X_{it}$, respectively:\n",
    "\n",
    "\\begin{equation*}\n",
    "y_{it}=\\beta_0+\\beta_1x_{it}+\\beta_2z_i+u_{it}\n",
    "\\end{equation*}\n",
    "\n",
    "- $z_i$ is an unobserved variable that varies from one state to the next but does not change over time (for example, $z_i$ represents cultural attitudes toward drinking and driving).\n",
    "- We want to estimate $\\beta_1$, the effect on $y$ of $x$, holding constant the unobserved state characteristics $z$.\n",
    "- Because $z_i$ varies from one state to the next but is constant over time, the population regression model above can be interpreted as having $n$ intercepts, one for each state.\n",
    "- Specifically, let $\\alpha_i = \\beta_0 + \\beta_2z_i$.\n",
    "- Then the equation becomes\n",
    "\n",
    "\\begin{equation*}\n",
    "y_{it}=\\beta_1x_{it}+\\alpha_i+u_{it}\n",
    "\\end{equation*}"
   ]
  },
  {
   "cell_type": "markdown",
   "metadata": {
    "slideshow": {
     "slide_type": "slide"
    }
   },
   "source": [
    "**The Fixed Effects Regression Model**\n",
    "\n",
    "- The above equation is the fixed effects regression model, in which $\\alpha_1,...,\\alpha_n$ are treated as unknown intercepts to be estimated, one for each state.\n",
    "- The interpretation of $\\alpha_i$ as a state-specific intercept comes from considering the population regression line for the $i^{th}$ state; this population regression line is $\\alpha_i + \\beta_1x_{it}$.\n",
    "- The slope coefficient of the population regression line, $\\beta_1$, is the same for all states, but the intercept of the population regression line varies from one state to the next.\n",
    "- Because the intercept $\\alpha_i$ i can be thought of as the “effect” of being in entity $i$ (in the current application, entities are states), the terms $\\alpha_1,...,\\alpha_n$ are known as **entity fixed effects**.\n",
    "- The variation in the entity fixed effects comes from omitted variables that, like $z_i$, vary across entities but not over time."
   ]
  },
  {
   "cell_type": "markdown",
   "metadata": {
    "slideshow": {
     "slide_type": "slide"
    }
   },
   "source": [
    "**The Fixed Effects Regression Model**\n",
    "\n",
    "- The state-specific intercepts in the fixed effects regression model also can be expressed using binary variables to denote the individual states:\n",
    "\n",
    "\n",
    "\\begin{equation*}\n",
    "y_{it}=\\beta_0+\\beta_1x_{it}+\\gamma_2D2_i+\\gamma_3D3_i+...+\\gamma_nDn_i+u_{it}\n",
    "\\end{equation*}\n",
    "\n",
    "where $\\beta_0, \\beta_1,\\gamma_2,\\gamma_3,...,\\gamma_n$ are unknown coefficients to be estimated. \n",
    "- Note that the we left out one entitity due to collinearity (remember the dummy variable trap from the men and women case).\n",
    "- Now let's estimate the fixed effects models with dummies on the full data set on road fatalities and plot the corresponding graph."
   ]
  },
  {
   "cell_type": "code",
   "execution_count": 111,
   "metadata": {
    "scrolled": false,
    "slideshow": {
     "slide_type": "slide"
    }
   },
   "outputs": [
    {
     "name": "stdout",
     "output_type": "stream",
     "text": [
      "res_dummies.summary(): \n",
      "                            OLS Regression Results                            \n",
      "==============================================================================\n",
      "Dep. Variable:                  mrall   R-squared:                       0.891\n",
      "Model:                            OLS   Adj. R-squared:                  0.779\n",
      "Method:                 Least Squares   F-statistic:                     7.996\n",
      "Date:                Thu, 17 Sep 2020   Prob (F-statistic):           2.24e-11\n",
      "Time:                        14:23:58   Log-Likelihood:                 20.325\n",
      "No. Observations:                  96   AIC:                             57.35\n",
      "Df Residuals:                      47   BIC:                             183.0\n",
      "Df Model:                          48                                         \n",
      "Covariance Type:            nonrobust                                         \n",
      "==================================================================================\n",
      "                     coef    std err          t      P>|t|      [0.025      0.975]\n",
      "----------------------------------------------------------------------------------\n",
      "Intercept          3.6323      0.629      5.771      0.000       2.366       4.898\n",
      "C(state)[T.AZ]    -0.7860      0.562     -1.399      0.168      -1.916       0.344\n",
      "C(state)[T.AR]    -0.6563      0.461     -1.423      0.161      -1.584       0.272\n",
      "C(state)[T.CA]    -1.6652      0.625     -2.662      0.011      -2.923      -0.407\n",
      "C(state)[T.CO]    -1.6236      0.592     -2.744      0.009      -2.814      -0.433\n",
      "C(state)[T.CT]    -1.8684      0.582     -3.208      0.002      -3.040      -0.697\n",
      "C(state)[T.DE]    -1.2677      0.605     -2.096      0.041      -2.484      -0.051\n",
      "C(state)[T.FL]    -0.2004      0.334     -0.600      0.551      -0.872       0.471\n",
      "C(state)[T.GA]     0.8938      0.463      1.932      0.059      -0.037       1.824\n",
      "C(state)[T.ID]    -0.7262      0.534     -1.361      0.180      -1.800       0.348\n",
      "C(state)[T.IL]    -1.9742      0.600     -3.291      0.002      -3.181      -0.767\n",
      "C(state)[T.IN]    -1.5225      0.562     -2.707      0.009      -2.654      -0.391\n",
      "C(state)[T.IA]    -1.4500      0.512     -2.834      0.007      -2.479      -0.421\n",
      "C(state)[T.KS]    -1.2504      0.509     -2.454      0.018      -2.275      -0.226\n",
      "C(state)[T.KY]    -1.2259      0.591     -2.073      0.044      -2.415      -0.036\n",
      "C(state)[T.LA]    -0.6585      0.403     -1.634      0.109      -1.469       0.152\n",
      "C(state)[T.ME]    -1.1643      0.403     -2.888      0.006      -1.975      -0.353\n",
      "C(state)[T.MD]    -1.8482      0.583     -3.168      0.003      -3.022      -0.675\n",
      "C(state)[T.MA]    -2.2186      0.569     -3.897      0.000      -3.364      -1.073\n",
      "C(state)[T.MI]    -1.5185      0.491     -3.091      0.003      -2.507      -0.530\n",
      "C(state)[T.MN]    -1.9412      0.544     -3.569      0.001      -3.035      -0.847\n",
      "C(state)[T.MS]     0.0669      0.339      0.198      0.844      -0.614       0.748\n",
      "C(state)[T.MO]    -1.3870      0.551     -2.518      0.015      -2.495      -0.279\n",
      "C(state)[T.MT]    -0.5340      0.544     -0.982      0.331      -1.627       0.559\n",
      "C(state)[T.NE]    -1.6172      0.509     -3.174      0.003      -2.642      -0.592\n",
      "C(state)[T.NV]    -0.5263      0.597     -0.881      0.383      -1.728       0.675\n",
      "C(state)[T.NH]    -1.4626      0.468     -3.127      0.003      -2.404      -0.521\n",
      "C(state)[T.NJ]    -2.1674      0.631     -3.434      0.001      -3.437      -0.898\n",
      "C(state)[T.NM]     0.3668      0.550      0.667      0.508      -0.740       1.473\n",
      "C(state)[T.NY]    -2.2844      0.618     -3.698      0.001      -3.527      -1.042\n",
      "C(state)[T.NC]    -0.2133      0.294     -0.726      0.471      -0.804       0.378\n",
      "C(state)[T.ND]    -1.4143      0.526     -2.690      0.010      -2.472      -0.357\n",
      "C(state)[T.OH]    -1.7372      0.526     -3.305      0.002      -2.795      -0.680\n",
      "C(state)[T.OK]    -0.2675      0.379     -0.706      0.484      -1.030       0.495\n",
      "C(state)[T.OR]    -1.2618      0.588     -2.144      0.037      -2.445      -0.078\n",
      "C(state)[T.PA]    -1.8373      0.569     -3.227      0.002      -2.983      -0.692\n",
      "C(state)[T.RI]    -2.3158      0.604     -3.832      0.000      -3.532      -1.100\n",
      "C(state)[T.SC]     0.6075      0.310      1.957      0.056      -0.017       1.232\n",
      "C(state)[T.SD]    -0.9652      0.440     -2.193      0.033      -1.851      -0.080\n",
      "C(state)[T.TN]    -0.9430      0.553     -1.704      0.095      -2.056       0.170\n",
      "C(state)[T.TX]    -0.8844      0.513     -1.724      0.091      -1.916       0.148\n",
      "C(state)[T.UT]    -1.3179      0.469     -2.810      0.007      -2.261      -0.374\n",
      "C(state)[T.VT]    -0.8870      0.444     -1.997      0.052      -1.781       0.007\n",
      "C(state)[T.VA]    -1.3438      0.431     -3.116      0.003      -2.211      -0.476\n",
      "C(state)[T.WA]    -1.7360      0.585     -2.967      0.005      -2.913      -0.559\n",
      "C(state)[T.WV]    -0.8850      0.512     -1.729      0.090      -1.914       0.144\n",
      "C(state)[T.WI]    -1.8541      0.605     -3.066      0.004      -3.071      -0.638\n",
      "C(state)[T.WY]    -0.0016      0.643     -0.002      0.998      -1.294       1.291\n",
      "beertax           -0.8689      0.393     -2.211      0.032      -1.660      -0.078\n",
      "==============================================================================\n",
      "Omnibus:                        6.048   Durbin-Watson:                   2.756\n",
      "Prob(Omnibus):                  0.049   Jarque-Bera (JB):                9.853\n",
      "Skew:                           0.000   Prob(JB):                      0.00725\n",
      "Kurtosis:                       4.569   Cond. No.                         136.\n",
      "==============================================================================\n",
      "\n",
      "Warnings:\n",
      "[1] Standard Errors assume that the covariance matrix of the errors is correctly specified.\n",
      "\n"
     ]
    }
   ],
   "source": [
    "import pandas as pd\n",
    "import numpy as np\n",
    "import statsmodels.formula.api as smf\n",
    "\n",
    "\n",
    "fatality=pd.read_stata('data/fatality.dta')\n",
    "\n",
    "reg_dummies = smf.ols(formula='mrall ~ beertax + C(state)',\n",
    "                      data=fatality)\n",
    "res_dummies = reg_dummies.fit()\n",
    "\n",
    "# print results:\n",
    "table_dummies = pd.DataFrame({'b': round(res_dummies.params, 8),\n",
    "                          'se': round(res_dummies.bse, 4),\n",
    "                          't': round(res_dummies.tvalues, 4),\n",
    "                          'pval': round(res_dummies.pvalues, 4)})\n",
    "#print(f'table_dummies: \\n{table_dummies}\\n')\n",
    "\n",
    "print(f'res_dummies.summary(): \\n{res_dummies.summary()}\\n')"
   ]
  },
  {
   "cell_type": "code",
   "execution_count": 112,
   "metadata": {
    "slideshow": {
     "slide_type": "slide"
    }
   },
   "outputs": [
    {
     "data": {
      "text/plain": [
       "Text(0.5, 0, 'beertax')"
      ]
     },
     "execution_count": 112,
     "metadata": {},
     "output_type": "execute_result"
    },
    {
     "data": {
      "image/png": "[encoded data removed]",
      "text/plain": [
       "<Figure size 576x396 with 1 Axes>"
      ]
     },
     "metadata": {},
     "output_type": "display_data"
    }
   ],
   "source": [
    "import pandas as pd\n",
    "import numpy as np\n",
    "import statsmodels.formula.api as smf\n",
    "import matplotlib.pyplot as plt\n",
    "\n",
    "fatality=pd.read_stata('data/fatality.dta')\n",
    "\n",
    "reg_dummies = smf.ols(formula='mrall ~ beertax + C(state)',\n",
    "                      data=fatality)\n",
    "res_dummies = reg_dummies.fit()\n",
    "\n",
    "plt.style.use('seaborn')\n",
    "plt.plot(fatality.beertax, res_dummies.params[0] + res_dummies.params[1] * fatality.beertax, 'r')\n",
    "plt.plot(fatality.beertax, fatality.mrall ,'b', marker='o', linestyle='')\n",
    "plt.ylabel('mrall')\n",
    "plt.xlabel('beertax')"
   ]
  },
  {
   "cell_type": "markdown",
   "metadata": {
    "slideshow": {
     "slide_type": "slide"
    }
   },
   "source": [
    "**The Fixed Effects Regression Model**\n",
    "\n",
    "- Sometimes you have a really large number of entities and estimating a parameter may be very time-consuming.\n",
    "- Regression software typically computes the OLS fixed effects estimator in two steps:\n",
    "\n",
    "    - In the first step, the entity-specific average is subtracted from each variable.\n",
    "    - In the second step, the regression is estimated using “entity-demeaned” variables.\n",
    "    \n",
    "    \n",
    "- \"Entitiy-demeaned\" variables means that for each variable you subtract its mean per entity from the original value (e.g. $y_{it}-\\bar{y_i}$ and  $x_{it}-\\bar{x_i}$).\n",
    "- Running an OLS regression on the entitiy demeaned variables produces the same results as the dummy variable approach but it's faster as it doesn't require estimating all parameters.\n",
    "- This is called the **within transformation** of the data and allows to get rid of the unobserved individual effecct $\\alpha_i$:\n",
    "\n",
    "\\begin{equation*}\n",
    "y_{it}=\\beta_1x_{it}+\\alpha_i+u_{it}\n",
    "\\end{equation*}\n",
    "\n",
    "\\begin{equation*}\n",
    "\\bar{y}_{i}=\\beta_1\\bar{x}_{i}+\\alpha_i+\\bar{u}_{i}\n",
    "\\end{equation*}\n",
    "\n",
    "\\begin{equation*}\n",
    "\\tilde{y}_{it}=y_{it}-\\bar{y}_{i}=\\beta_1\\tilde{x}_{it}+\\tilde{u}_{it}\n",
    "\\end{equation*}\n",
    "\n"
   ]
  },
  {
   "cell_type": "markdown",
   "metadata": {
    "slideshow": {
     "slide_type": "slide"
    }
   },
   "source": [
    "**The Fixed Effects Regression Model**\n",
    "\n",
    "- In Python we can simply use `PanelOLS` in the module `linearmodels`.\n",
    "- Demeaning is considered by adding the word `EntityEffects` to the formula.\n",
    "- You have to define the panel data structure before running the fixed effects regression by setting entity and time dimension of the panel data (`fatality.set_index(['state', 'year']` in this case)\n",
    "- When you ue fixed effects, variables that do not vary over time are dropped (for instance a state law)\n",
    "- You can either remove such variables manually or use `drop_absorbed=True`"
   ]
  },
  {
   "cell_type": "code",
   "execution_count": 113,
   "metadata": {
    "slideshow": {
     "slide_type": "slide"
    }
   },
   "outputs": [
    {
     "name": "stdout",
     "output_type": "stream",
     "text": [
      "table: \n",
      "              b     se       t    pval\n",
      "beertax -0.8689  0.393 -2.2111  0.0319\n",
      "\n"
     ]
    }
   ],
   "source": [
    "import wooldridge as woo\n",
    "import pandas as pd\n",
    "import linearmodels as plm\n",
    "\n",
    "fatality=pd.read_stata('data/fatality.dta')\n",
    "fatality = fatality.set_index(['state', 'year'], drop=False)\n",
    "\n",
    "# FE model estimation:\n",
    "reg = plm.PanelOLS.from_formula(\n",
    "    formula='mrall ~ beertax + EntityEffects',\n",
    "    data=fatality, drop_absorbed=True)\n",
    "results = reg.fit()\n",
    "\n",
    "# print regression table:\n",
    "table = pd.DataFrame({'b': round(results.params, 4),\n",
    "                      'se': round(results.std_errors, 4),\n",
    "                      't': round(results.tstats, 4),\n",
    "                      'pval': round(results.pvalues, 4)})\n",
    "print(f'table: \\n{table}\\n')\n",
    "\n",
    "#print(results)"
   ]
  },
  {
   "cell_type": "markdown",
   "metadata": {
    "slideshow": {
     "slide_type": "slide"
    }
   },
   "source": [
    "**Regression with Time Fixed Effects**\n",
    "\n",
    "- Including state fixed effects in the fatality rate regression lets us avoid omitted variables bias arising from omitted factors, such as cultural attitudes toward drinking and driving, that vary across statesbut are constant over time within a state.\n",
    "- What are such potentially time-varying factors?"
   ]
  },
  {
   "cell_type": "markdown",
   "metadata": {
    "slideshow": {
     "slide_type": "slide"
    }
   },
   "source": [
    "**Regression with Time Fixed Effects**\n",
    "\n",
    "- Still, a skeptic might suspect that other factors could lead to omitted variables bias.\n",
    "- For example:\n",
    "    - over this period cars were getting safer,\n",
    "    - occupants were increasingly wearing seat belts;\n",
    "    - if the real tax on beer rose, on average, during the mid-1980s, then BeerTax could be picking up the effect of overall automobile safety improvements.\n",
    "- If, however, safety improvements evolved over time but were the same for all states, then we can eliminate their influence by including **time fixed effects**."
   ]
  },
  {
   "cell_type": "markdown",
   "metadata": {
    "slideshow": {
     "slide_type": "slide"
    }
   },
   "source": [
    "**Regression with Time Fixed Effects**\n",
    "\n",
    "- Just as fixed effects for each entity can control for variables that are constant over time but differ across entities\n",
    "- So time fixed effects can control for variables that are **constant across entities but evolve over time**.\n",
    "- Because safety improvements in new cars are introduced nationally, they serve to reduce traffic fatalities in all states.\n",
    "- So it is plausible to think of automobile safety as an omitted variable that changes over time but has the same value for all states.\n",
    "- The population regression can be modified to make explicit the effect of automobile safety, which we will denote $s_t$:\n",
    "\n",
    "\\begin{equation*}\n",
    "y_{it} = \\beta_0 + \\beta_1x_{it} + \\beta_2z_i + \\beta_3s_t + u_{it}, \\end{equation*}\n",
    "\n",
    "where $s_t$ is unobserved and where the single $t$ subscript emphasizes that safety changes over time but is constant across states.\n",
    "- Because $\\beta_3s_t$ represents variables that determine $y_{it}$ if $s_t$ is correlated with $x_{it}$, then omitting $s_t$ from the regression leads to omitted variable bias."
   ]
  },
  {
   "cell_type": "markdown",
   "metadata": {
    "slideshow": {
     "slide_type": "slide"
    }
   },
   "source": [
    "**Regression with Time Fixed Effects**\n",
    "\n",
    "- Our objective is to estimate $\\beta_1$, controlling for $s_t$.\n",
    "- Although $S_t$ is unobserved, its influence can be eliminated because it varies over time but not across states, just as it is possible to eliminate the effect of $z_i$, which varies across states but not over time.\n",
    "- In the entity fixed effects model, the presence of $z_i$ leads to the fixed effects regression model, in which each state has its own intercept (or fixed effect).\n",
    "- Similarly, because $s_t$ varies over time but not over states, the presence of $s_t$ leads to a regression model in which each time period has its own intercept.\n",
    "- The **time fixed effects regression model** with a single $x$ regressor is\n",
    "\n",
    "\\begin{equation*}\n",
    "y_{it} = \\beta_0 + \\beta_1x_{it} + \\lambda_t + u_{it}, \\end{equation*}"
   ]
  },
  {
   "cell_type": "markdown",
   "metadata": {
    "slideshow": {
     "slide_type": "slide"
    }
   },
   "source": [
    "**Regression with Time Fixed Effects**\n",
    "\n",
    "- This model has a different intercept, $\\lambda_t$, for each time period.\n",
    "- The intercept $\\lambda_t$ can be thought of as the “effect” on $y$ of year $t$ (or, more generally,time period t), so the terms $\\lambda_1,...,\\lambda_T$, are known as **time fixed effects**.\n",
    "- The variation in the time fixed effects comes from omitted variables that, like $s_t$, vary over time but not across entities.\n",
    "- Just as the entity fixed effects regression model can be represented using $n - 1$ binary indicators, so, too, can the time fixed effects regression model be represented using $T - 1$ binary indicators:\n",
    "\n",
    "\\begin{equation*}\n",
    "y_{it} = \\beta_0 + \\beta_1x_{it} + \\gamma_2B2_t+...+\\gamma_TBT_t + u_{it},\n",
    "\\end{equation*}\n",
    "\n",
    "where $\\gamma_2,...,\\gamma_T$ are unknown coefficients and where $B2_t = 1$ if $t$ = 2 and $B2_t = 0$ otherwise, and so forth.\n",
    "- Let's estimate the fatality model with both, time and entitiy fixed effects now."
   ]
  },
  {
   "cell_type": "code",
   "execution_count": 32,
   "metadata": {
    "slideshow": {
     "slide_type": "slide"
    }
   },
   "outputs": [
    {
     "name": "stdout",
     "output_type": "stream",
     "text": [
      "table: \n",
      "              b     se       t    pval\n",
      "beertax -0.4052  0.181 -2.2384  0.0301\n",
      "\n"
     ]
    }
   ],
   "source": [
    "import wooldridge as woo\n",
    "import pandas as pd\n",
    "import linearmodels as plm\n",
    "\n",
    "fatality=pd.read_stata('data/fatality.dta')\n",
    "fatality = fatality.set_index(['state', 'year'], drop=False)\n",
    "\n",
    "# FE model estimation with time fixed effects:\n",
    "reg = plm.PanelOLS.from_formula(\n",
    "    formula='np.log(mrall) ~ beertax + EntityEffects + TimeEffects',\n",
    "    data=fatality, drop_absorbed=True)\n",
    "results = reg.fit()\n",
    "\n",
    "# print regression table:\n",
    "table = pd.DataFrame({'b': round(results.params, 4),\n",
    "                      'se': round(results.std_errors, 4),\n",
    "                      't': round(results.tstats, 4),\n",
    "                      'pval': round(results.pvalues, 4)})\n",
    "print(f'table: \\n{table}\\n')\n",
    "\n",
    "#print(results)"
   ]
  },
  {
   "cell_type": "markdown",
   "metadata": {
    "slideshow": {
     "slide_type": "slide"
    }
   },
   "source": [
    "**The Fixed Effects Regression Assumptions and Standard Errors for Fixed Effects Regression**\n",
    "\n",
    "- In panel data, the regression error can be correlated over time within an entity.\n",
    "- Like heteroskedasticity, this correlation does not introduce bias into the fixed effects estimator, but it affects the variance of the fixed effects estimator, and therefore it affects how one computes standard errors.\n",
    "- What are the consequences if standard errors not computed correctly?\n",
    "- The standard errors for fixed effects regressions reported now are so-called clustered standard errors, which are robust both to heteroskedasticity and to correlation over time within an entity. \n",
    "- We begin with the fixed effects regression assumptions, which extend the least squares regression assumptions for causal inference to panel data\n",
    "- Under these assumptions, the fixed effects estimator is consistent and asymptotically normally distributed when $n$ is large."
   ]
  },
  {
   "cell_type": "markdown",
   "metadata": {
    "slideshow": {
     "slide_type": "slide"
    }
   },
   "source": [
    "**The Fixed Effects Regression Assumptions and Standard Errors for Fixed Effects Regression**\n",
    "\n",
    "- The fixed effects assumption for causal inference, are similar to those for cross-sectional data\n",
    "- However, the conditional mean assumption for the errors term $u_{it}$ is now:\n",
    "\n",
    "\\begin{equation*}\n",
    "E(u_{it}|x_{i1},x_{i2},...,x_{iT},\\alpha_i)=0\n",
    "\\end{equation*}\n",
    "\n",
    "- In other words, the assumption is that the error term has conditional mean 0 given all $T$ values of $x$ for that entity\n",
    "- This implies that there is no omitted variable bias\n",
    "- The requirement that the conditional mean of $u_{it}$ not depend on any of the values of $x$ for that entity — past, present, or future — adds an important subtlety beyond the least squares assumption for cross-sectional data.\n",
    "- This assumption is violated if current $u_{it}$ is correlated with past, present, or future values of $x$.\n"
   ]
  },
  {
   "cell_type": "markdown",
   "metadata": {
    "slideshow": {
     "slide_type": "slide"
    }
   },
   "source": [
    "**The Fixed Effects Regression Assumptions and Standard Errors for Fixed Effects Regression**\n",
    "\n",
    "- Another assumption for cross-sectional data was that the sample is produced by random sampling from the population\n",
    "- This can ertainly not hold for fixed effects models as we need to sample the variables per entity\n",
    "- Thus, the assumption is reduced to random sampling of entities\n",
    "- This means: the random sampling assumption for fixed effects models allows $x_{it}$ to be correlated over time within an entitity\n",
    "- If $x_{it}$ is correlated with $x_{is}$ for different values of $s$ and $t$ — that is, if $x_{it}$ is correlated over time for a given entity — then $x_{it}$ is said to be **autocorrelated** (correlated with itself, at different dates) or **serially correlated**.\n",
    "- Autocorrelation is a pervasive feature of time series data: What happens one year tends to be correlated with what happens the next year.\n",
    "- In the traffic fatality example, $x_{it}$, do you think the beer tax in state $i$ in year $t$, is autocorrelated? \n"
   ]
  },
  {
   "cell_type": "markdown",
   "metadata": {
    "slideshow": {
     "slide_type": "slide"
    }
   },
   "source": [
    "**The Fixed Effects Regression Assumptions and Standard Errors for Fixed Effects Regression**\n",
    "\n",
    "- Yes, in the traffic fatality example, $x_{it}$, the beer tax in state $i$ in year $t$, is autocorrelated:\n",
    "    - Most of the time the legislature does not change the beer tax, so if it is high one year relative to its mean value for state i, it will tend to be high the next year, too.\n",
    "- Similarly, it is possible to think of reasons why $u_{it}$ would be autocorrelated.\n",
    "- Recall that $u_{it}$ consists of time-varying factors that are determinants of $y_{it}$ but are not included as regressors, and some of these omitted factors might be autocorrelated.\n",
    "- Can you think of examples that make $u_{it}$ autocorrelated?\n",
    "- Think about local factors that affect $y_{it}$ for more than one period but are not captured in the model\n"
   ]
  },
  {
   "cell_type": "markdown",
   "metadata": {
    "slideshow": {
     "slide_type": "slide"
    }
   },
   "source": [
    "**The Fixed Effects Regression Assumptions and Standard Errors for Fixed Effects Regression**\n",
    "\n",
    "- For example, a downturn in the local economy might produce layoffs and diminish commuting traffic, thus reducing traffic fatalities for 2 or more years.\n",
    "- Similarly, a major road improvement project might reduce traffic accidents not only in the year of completion but also in future years.\n",
    "- Such omitted factors, which persist over multiple years, produce autocorrelated regression errors.\n",
    "- Not all omitted factors will produce autocorrelation in $u_{it}$\n",
    "- Can you think of an example that affects $y_{it}$ but does not produce autocorrelated error terms?"
   ]
  },
  {
   "cell_type": "markdown",
   "metadata": {
    "slideshow": {
     "slide_type": "slide"
    }
   },
   "source": [
    "**The Fixed Effects Regression Assumptions and Standard Errors for Fixed Effects Regression**\n",
    "\n",
    "\n",
    "- For example, severe winter driving conditions plausibly affect fatalities, but if winter weather conditions for a given state are independently distributed from one year to the next, then this component of the error term would be serially uncorrelated.\n",
    "- In general, though, as long as some omitted factors are autocorrelated, then $u_{it}$ will be autocorrelated."
   ]
  },
  {
   "cell_type": "markdown",
   "metadata": {
    "slideshow": {
     "slide_type": "slide"
    }
   },
   "source": [
    "**Standard Errors for Fixed Effects Regression**\n",
    "\n",
    "\n",
    "- If the regression errors are autocorrelated, then the usual heteroskedasticity-robust standard error formula for cross-section regression is not valid.\n",
    "- One way to see this is to draw an analogy to heteroskedasticity.\n",
    "- In a regression with cross-sectional data, if the errors are heteroskedastic, then the homoskedasticity-only standard errors are not valid because they were derived under the false assumption of homoskedasticity.\n",
    "- Similarly, if the errors are autocorrelated, then the usual standard errors will not be valid because they were derived under the false assumption of no serial correlation.\n",
    "- Standard errors that are valid if $u_{it}$ is potentially heteroskedastic and potentially correlated over time within an entity are referred to as **heteroskedasticity-and autocorrelation-robust (HAR) standard errors**.\n",
    "- The HAR standard errors most commonly used are so called **clustered standard errors**."
   ]
  },
  {
   "cell_type": "markdown",
   "metadata": {
    "slideshow": {
     "slide_type": "slide"
    }
   },
   "source": [
    "**Standard Errors for Fixed Effects Regression**\n",
    "\n",
    "- The term clustered arises because these standard errors allow the regression errors to have an arbitrary correlation within a cluster, or grouping, but assume that the regression errors are uncorrelated across clusters. In the context of panel data, each cluster consists of an entity.\n",
    "- Thus clustered standard errors allow for heteroskedasticity and for arbitrary autocorrelation within an entity but treat the errors as uncorrelated across entities.\n",
    "- That is, clustered standard errors allow for heteroskedasticity and autocorrelation in a way that is consistent with the fixed effects assumption of only having random sampling of entitities.\n",
    "- Like heteroskedasticity-robust standard errors in regression with cross-sectional data, clustered standard errors are valid whether or not there is heteroskedasticity, autocorrelation, or both.\n",
    "- If the number of entities $n$ is large, inference using clustered standard errors can proceed using the usual large-sample normal critical values for t-statistics"
   ]
  },
  {
   "cell_type": "code",
   "execution_count": 33,
   "metadata": {
    "slideshow": {
     "slide_type": "slide"
    }
   },
   "outputs": [
    {
     "name": "stdout",
     "output_type": "stream",
     "text": [
      "table: \n",
      "             b  se_noclust  se_clust  pval_noclust  pval_clust\n",
      "beertax -1.041      0.4172    0.5021        0.0162      0.0438\n",
      "\n"
     ]
    }
   ],
   "source": [
    "import wooldridge as woo\n",
    "import pandas as pd\n",
    "import linearmodels as plm\n",
    "\n",
    "fatality=pd.read_stata('data/fatality.dta')\n",
    "fatality = fatality.set_index(['state', 'year'], drop=False)\n",
    "\n",
    "# FE model estimation with and without clustering:\n",
    "reg = plm.PanelOLS.from_formula(\n",
    "    formula='mrall ~ beertax  +  EntityEffects+TimeEffects',\n",
    "    data=fatality, drop_absorbed=True)\n",
    "\n",
    "\n",
    "results_noclust = reg.fit()\n",
    "results_clust = reg.fit(cov_type='clustered',cluster_entity=True)\n",
    "\n",
    "# print regression table:\n",
    "table = pd.DataFrame({'b': round(results_noclust.params, 4),\n",
    "                      'se_noclust': round(results_noclust.std_errors, 4),\n",
    "                      'se_clust': round(results_clust.std_errors, 4),\n",
    "                      'pval_noclust': round(results_noclust.pvalues, 4),\n",
    "                      'pval_clust': round(results_clust.pvalues, 4)})\n",
    "print(f'table: \\n{table}\\n')\n",
    "\n",
    "#print(results)"
   ]
  },
  {
   "cell_type": "markdown",
   "metadata": {
    "slideshow": {
     "slide_type": "slide"
    }
   },
   "source": [
    "<h2>Instrumental Variable Regression</h2>\n",
    "\n",
    "- We have discussed the problem of omitting an important variable, which results ina violation of the zero conditional mean assumption (i.e. violates  $E(u_i|x_i)=0)$\n",
    "- We explained how fixed effects estimation or first differencing can be used with panel data to estimate the effects of time-varying independent variables in the presence of _time-constant_ omitted variables.\n",
    "- Although such methods are very useful, we do not always have access to panel data.\n",
    "- And even if we can have panel data, we still may have problems.\n",
    "- In which cases does it not help to use a fixed effects estimation?"
   ]
  },
  {
   "cell_type": "markdown",
   "metadata": {
    "slideshow": {
     "slide_type": "slide"
    }
   },
   "source": [
    "**Instrumental Variable Regression**\n",
    "\n",
    "- We may be interested in the effect of a variable that does not change over time: first differencing or fixed effects estimation eliminates time-constant explanatory variables.\n",
    "- Also: the panel data methods that we have studied so far do not solve the problem of time-varying omitted variables that are correlated with the explanatory variables.\n",
    "- If a direct solution to these problems is either infeasible or unavailable, a new method is required."
   ]
  },
  {
   "cell_type": "markdown",
   "metadata": {
    "slideshow": {
     "slide_type": "slide"
    }
   },
   "source": [
    "**Instrumental Variable Regression**\n",
    "\n",
    "- **Instrumental variables (IV) regression** is a general way to obtain a consistent estimator of the unknown causal coefficients when the regressor, $x$, is correlated with the error term, $u$.\n",
    "- To understand how IV regression works, think of the variation in $x$ as having two parts:\n",
    "    - one part that, for whatever reason, is correlated with $u$ (this is the part that causes the problems) and\n",
    "    - a second part that is uncorrelated with $u$.\n",
    "- If you had information that allowed you to isolate the second part, you could focus on those variations in $x$ that are uncorrelated with $u$ and disregard the variations in $x$ that bias the OLS estimates.\n",
    "\n"
   ]
  },
  {
   "cell_type": "markdown",
   "metadata": {
    "slideshow": {
     "slide_type": "slide"
    }
   },
   "source": [
    "**Instrumental Variable Regression**\n",
    "\n",
    "\n",
    "- This is, in fact, what IV regression does.\n",
    "- The information about the movements in $x$ that are uncorrelated with $u$ is gleaned from one or more additional variables, called **instrumental variables** or simply **instruments**.\n",
    "- Instrumental variables regression uses these additional variables as tools or \"instruments\" to isolate the movements in $x$ that are uncorrelated with $u$\n",
    "- This permits consistent estimation of the regression coefficients.\n"
   ]
  },
  {
   "cell_type": "markdown",
   "metadata": {
    "slideshow": {
     "slide_type": "slide"
    }
   },
   "source": [
    "**Instrumental Variable Regression**\n",
    "\n",
    "- We start with the case of a single regressor, $x$, which might be correlated with the error, $u$.\n",
    "- If $x$ and $u$ are correlated, the OLS estimator is inconsistent; that is, it may not be close to the true value of the causal coefficient even when the sample is very large.\n",
    "- This correlation between $x$  and $u$ can stem from omitted variables but not only.\n",
    "- Another reason could be **simultaneous causality** (when causality runs “backward” from $y$ to $x$ as well as “forward” from $x$ to $y$).\n",
    "- Whatever the source of the correlation between $x$ and $u$, if there is a valid instrumental variable, $z$, the effect on $y$ of a unit change in $x$ can be estimated using the **instrumental variables estimator**."
   ]
  },
  {
   "cell_type": "markdown",
   "metadata": {
    "slideshow": {
     "slide_type": "slide"
    }
   },
   "source": [
    "**Instrumental Variable Regression**\n",
    "\n",
    "**Endogeneity and exogeneity**\n",
    "\n",
    "- Instrumental variables regression has some specialized terminology to distinguish variables that are correlated with the population error term $u$ from ones that are not:\n",
    "    - variables correlated with the error term are called **endogenous variables**, while \n",
    "    - variables uncorrelated with the error term are called **exogenous variables**."
   ]
  },
  {
   "cell_type": "markdown",
   "metadata": {
    "slideshow": {
     "slide_type": "slide"
    }
   },
   "source": [
    "**Instrumental Variable Regression**\n",
    "\n",
    "- To illustrate endogeneity and exogeneity consider a model\n",
    "\n",
    "\\begin{equation*}\n",
    "y=\\beta_0+\\beta_1x_i+u_i\n",
    "\\end{equation*}\n",
    "\n",
    "- We can use OLS to get consistent estimates if\n",
    "\n",
    "<img src=\"figs\\ols_unbiased.png\" width=\"300\"/>\n",
    "\n",
    "- We can't use OLS if\n",
    "\n",
    "<center> <img src=\"figs\\ols_biased_1.png\" alt=\"drawing\" width=\"300\"/> or <img src=\"figs\\ols_biased_2.png\" alt=\"drawing\" width=\"300\"/> </center>\n",
    "\n"
   ]
  },
  {
   "cell_type": "markdown",
   "metadata": {
    "slideshow": {
     "slide_type": "slide"
    }
   },
   "source": [
    "**Refreshing the Omitted Variable Bias Problem**\n",
    "\n",
    "- We have had the example of the effect of eduction on wages\n",
    "- The problem is, that both education and wages, are also affected by a persons ability, intelligence and effort.\n",
    "- However, ability, intelligence and effort are usually not observed and thus cannot be included in the regression model.\n",
    "- The effect we measure for education is thus not isolated: it's a combination of education and all the things that effect both, education and wages\n",
    "- Thus, we only measure a correlation between wages and education but not the causal effect of wages on education\n",
    "- Let's show how this causes a bias again in the simulation, we've had before\n",
    "- We will build up on this simulation also to show how instrument variables solve this problem after that."
   ]
  },
  {
   "cell_type": "markdown",
   "metadata": {
    "slideshow": {
     "slide_type": "slide"
    }
   },
   "source": [
    "**Simulating Omitted Variable Bias**\n",
    "\n",
    "- Consider a model $y=\\beta_0+\\beta_{1}x_1+\\beta_{2}x_2+u$ \n",
    "- Assume there is a common component $a$ affecting $x_1$ and $x_2$ \n",
    "- Assume $\\beta_0$ = 1, $\\beta_1$=-0.3 and $\\beta_2$=0.7\n"
   ]
  },
  {
   "cell_type": "code",
   "execution_count": 58,
   "metadata": {
    "slideshow": {
     "slide_type": "slide"
    }
   },
   "outputs": [
    {
     "data": {
      "text/html": [
       "<div>\n",
       "<style scoped>\n",
       "    .dataframe tbody tr th:only-of-type {\n",
       "        vertical-align: middle;\n",
       "    }\n",
       "\n",
       "    .dataframe tbody tr th {\n",
       "        vertical-align: top;\n",
       "    }\n",
       "\n",
       "    .dataframe thead th {\n",
       "        text-align: right;\n",
       "    }\n",
       "</style>\n",
       "<table border=\"1\" class=\"dataframe\">\n",
       "  <thead>\n",
       "    <tr style=\"text-align: right;\">\n",
       "      <th></th>\n",
       "      <th>Y</th>\n",
       "      <th>X1</th>\n",
       "      <th>X2</th>\n",
       "      <th>e</th>\n",
       "    </tr>\n",
       "  </thead>\n",
       "  <tbody>\n",
       "    <tr>\n",
       "      <th>0</th>\n",
       "      <td>-2.954861</td>\n",
       "      <td>3.248691</td>\n",
       "      <td>-1.498129</td>\n",
       "      <td>-1.931564</td>\n",
       "    </tr>\n",
       "    <tr>\n",
       "      <th>1</th>\n",
       "      <td>-1.161883</td>\n",
       "      <td>-1.223513</td>\n",
       "      <td>-3.383587</td>\n",
       "      <td>-0.160426</td>\n",
       "    </tr>\n",
       "    <tr>\n",
       "      <th>2</th>\n",
       "      <td>-2.231650</td>\n",
       "      <td>-1.056344</td>\n",
       "      <td>-3.880477</td>\n",
       "      <td>-0.832220</td>\n",
       "    </tr>\n",
       "    <tr>\n",
       "      <th>3</th>\n",
       "      <td>-1.994796</td>\n",
       "      <td>-2.145937</td>\n",
       "      <td>-4.903522</td>\n",
       "      <td>-0.206112</td>\n",
       "    </tr>\n",
       "    <tr>\n",
       "      <th>4</th>\n",
       "      <td>-0.169967</td>\n",
       "      <td>1.730815</td>\n",
       "      <td>-2.395682</td>\n",
       "      <td>1.026255</td>\n",
       "    </tr>\n",
       "  </tbody>\n",
       "</table>\n",
       "</div>"
      ],
      "text/plain": [
       "          Y        X1        X2         e\n",
       "0 -2.954861  3.248691 -1.498129 -1.931564\n",
       "1 -1.161883 -1.223513 -3.383587 -0.160426\n",
       "2 -2.231650 -1.056344 -3.880477 -0.832220\n",
       "3 -1.994796 -2.145937 -4.903522 -0.206112\n",
       "4 -0.169967  1.730815 -2.395682  1.026255"
      ]
     },
     "execution_count": 58,
     "metadata": {},
     "output_type": "execute_result"
    }
   ],
   "source": [
    "# generate some random variables with the above characteristics\n",
    "import pandas as pd\n",
    "import numpy as np\n",
    "from numpy.random import seed\n",
    "from numpy.random import rand\n",
    "from numpy.random import randn\n",
    "\n",
    "# generate a random common component for x1 and x2\n",
    "# seed random number generator\n",
    "seed(1)\n",
    "a = randn(10000)\n",
    "\n",
    "# generate x1 and x2\n",
    "seed(1)\n",
    "x1 = randn(10000)+a\n",
    "x2 = randn(10000)-3+a\n",
    "\n",
    "# generate random error\n",
    "e = randn(10000)\n",
    "\n",
    "# generate y\n",
    "y = 1 - 0.3*x1 + 0.7*x2 + e\n",
    "\n",
    "# generate dataframe\n",
    "df = pd.DataFrame({'Y' : y, 'X1': x1, 'X2':x2,'e':e})\n",
    "df.head()\n"
   ]
  },
  {
   "cell_type": "markdown",
   "metadata": {
    "slideshow": {
     "slide_type": "slide"
    }
   },
   "source": [
    "We first estimate the unbiased model $\\hat{y}=\\hat{\\beta}_0+\\hat{\\beta}_1x_1+\\hat{\\beta}_2x_2+\\hat{u}$"
   ]
  },
  {
   "cell_type": "code",
   "execution_count": 59,
   "metadata": {
    "slideshow": {
     "slide_type": "slide"
    }
   },
   "outputs": [
    {
     "name": "stdout",
     "output_type": "stream",
     "text": [
      "                            OLS Regression Results                            \n",
      "==============================================================================\n",
      "Dep. Variable:                      y   R-squared:                       0.339\n",
      "Model:                            OLS   Adj. R-squared:                  0.339\n",
      "Method:                 Least Squares   F-statistic:                     2569.\n",
      "Date:                Thu, 16 Sep 2021   Prob (F-statistic):               0.00\n",
      "Time:                        13:48:36   Log-Likelihood:                -14149.\n",
      "No. Observations:               10000   AIC:                         2.830e+04\n",
      "Df Residuals:                    9997   BIC:                         2.832e+04\n",
      "Df Model:                           2                                         \n",
      "Covariance Type:            nonrobust                                         \n",
      "==============================================================================\n",
      "                 coef    std err          t      P>|t|      [0.025      0.975]\n",
      "------------------------------------------------------------------------------\n",
      "Intercept      0.9960      0.031     31.740      0.000       0.935       1.058\n",
      "x1            -0.2988      0.007    -42.091      0.000      -0.313      -0.285\n",
      "x2             0.7036      0.010     70.710      0.000       0.684       0.723\n",
      "==============================================================================\n",
      "Omnibus:                        2.137   Durbin-Watson:                   1.981\n",
      "Prob(Omnibus):                  0.344   Jarque-Bera (JB):                2.102\n",
      "Skew:                           0.028   Prob(JB):                        0.350\n",
      "Kurtosis:                       3.044   Cond. No.                         11.6\n",
      "==============================================================================\n",
      "\n",
      "Warnings:\n",
      "[1] Standard Errors assume that the covariance matrix of the errors is correctly specified.\n"
     ]
    }
   ],
   "source": [
    "# estimate unbiased OLS model\n",
    "import statsmodels.formula.api as smf    \n",
    "import statsmodels.api as sm\n",
    "\n",
    "formula = \"y ~ x1 + x2 \"\n",
    "results = smf.ols(formula, df).fit()\n",
    "print(results.summary())"
   ]
  },
  {
   "cell_type": "markdown",
   "metadata": {
    "slideshow": {
     "slide_type": "slide"
    }
   },
   "source": [
    "Now we assume we don't observe $x_2$ and instead estimate\n",
    "\n",
    "\\begin{equation*}\n",
    "\\tilde{y}=\\tilde{\\beta}_0+\\tilde{\\beta}_1x_1\n",
    "\\end{equation*}"
   ]
  },
  {
   "cell_type": "code",
   "execution_count": 60,
   "metadata": {
    "slideshow": {
     "slide_type": "slide"
    }
   },
   "outputs": [
    {
     "name": "stdout",
     "output_type": "stream",
     "text": [
      "                            OLS Regression Results                            \n",
      "==============================================================================\n",
      "Dep. Variable:                      y   R-squared:                       0.009\n",
      "Model:                            OLS   Adj. R-squared:                  0.009\n",
      "Method:                 Least Squares   F-statistic:                     91.77\n",
      "Date:                Thu, 16 Sep 2021   Prob (F-statistic):           1.21e-21\n",
      "Time:                        13:48:39   Log-Likelihood:                -16176.\n",
      "No. Observations:               10000   AIC:                         3.236e+04\n",
      "Df Residuals:                    9998   BIC:                         3.237e+04\n",
      "Df Model:                           1                                         \n",
      "Covariance Type:            nonrobust                                         \n",
      "==============================================================================\n",
      "                 coef    std err          t      P>|t|      [0.025      0.975]\n",
      "------------------------------------------------------------------------------\n",
      "Intercept     -1.1082      0.012    -90.834      0.000      -1.132      -1.084\n",
      "x1             0.0585      0.006      9.580      0.000       0.047       0.070\n",
      "==============================================================================\n",
      "Omnibus:                        4.283   Durbin-Watson:                   2.006\n",
      "Prob(Omnibus):                  0.117   Jarque-Bera (JB):                4.463\n",
      "Skew:                           0.021   Prob(JB):                        0.107\n",
      "Kurtosis:                       3.094   Cond. No.                         2.00\n",
      "==============================================================================\n",
      "\n",
      "Warnings:\n",
      "[1] Standard Errors assume that the covariance matrix of the errors is correctly specified.\n"
     ]
    }
   ],
   "source": [
    "#estimate biased OLS model\n",
    "\n",
    "formula = \"y ~ x1\"\n",
    "results = smf.ols(formula, df).fit()\n",
    "print(results.summary())"
   ]
  },
  {
   "cell_type": "markdown",
   "metadata": {
    "slideshow": {
     "slide_type": "slide"
    }
   },
   "source": [
    "Let's now compare the two regression\n",
    "  - the one where omitted variable $x_2$ that is correlated with our variable of interested and the dependent variable and\n",
    "  - the other one where $x_2$ is also included"
   ]
  },
  {
   "cell_type": "code",
   "execution_count": 61,
   "metadata": {
    "slideshow": {
     "slide_type": "slide"
    }
   },
   "outputs": [
    {
     "name": "stdout",
     "output_type": "stream",
     "text": [
      "\n",
      "===========================\n",
      "             y        y    \n",
      "            (1)      (2)   \n",
      "---------------------------\n",
      "Intercept 1.00***  -1.11***\n",
      "          (0.03)   (0.01)  \n",
      "x1        -0.30*** 0.06*** \n",
      "          (0.01)   (0.01)  \n",
      "x2        0.70***          \n",
      "          (0.01)           \n",
      "N         10000    10000   \n",
      "R2        0.34     0.01    \n",
      "===========================\n",
      "Standard errors in\n",
      "parentheses.\n",
      "* p<.1, ** p<.05, ***p<.01\n"
     ]
    }
   ],
   "source": [
    "#compare the two \n",
    "import statsmodels.api as sm\n",
    "from statsmodels.iolib.summary2 import summary_col\n",
    "\n",
    "formula = \"y ~ x1 + x2\"\n",
    "reg1 = smf.ols(formula, df).fit()\n",
    "formula = \"y ~ x1\"\n",
    "reg2 = smf.ols(formula, df).fit()\n",
    "\n",
    "dfoutput = summary_col([reg1,reg2],stars=True,float_format='%0.2f',\n",
    "                  model_names=['y\\n(1)','y\\n(2)'],\n",
    "                  info_dict={'N':lambda x: \"{0:d}\".format(int(x.nobs)),\n",
    "                             'R2':lambda x: \"{:.2f}\".format(x.rsquared)})\n",
    "print(dfoutput)"
   ]
  },
  {
   "cell_type": "markdown",
   "metadata": {
    "slideshow": {
     "slide_type": "slide"
    }
   },
   "source": [
    "**Note:** The bias of the parameter of interest is not introduced because a variable that affects $y$ is omitted in the regression model!\n",
    "\n",
    "The bias results because the missing (unobserved) variable is correlated with one of the $x$ variables!\n",
    "\n",
    "- Now consider a model $y=\\beta_0+\\beta_{1}x_1+\\beta_{2}x_2+\\beta_{3}x_3+u$ \n",
    "- Assume $\\beta_1$ = 1, $\\beta_1$=-0.3 and $\\beta_2$=0.7 AND $\\beta_3$=0.5\n",
    "- Again assume that $x_1$ and $x_2$ are correlated but uncorrelated with $x_3$\n",
    "- Though $x_3$ affects $y$ omitting it does not introduce a bias\n",
    "- Not necessarily important to put everything into the model that affects $y$, that's not the issue"
   ]
  },
  {
   "cell_type": "code",
   "execution_count": 62,
   "metadata": {
    "slideshow": {
     "slide_type": "slide"
    }
   },
   "outputs": [],
   "source": [
    "# generate x3 which is uncorrelated to x1 and x2\n",
    "seed(1)\n",
    "x1 = randn(10000)+a\n",
    "x2 = randn(10000)-3+a\n",
    "x3 = randn(10000)\n",
    "e = randn(10000)\n",
    "\n",
    "# adjust y\n",
    "y = 1 - 0.3*x1 + 0.7*x2 - 0.4*x3 + e\n",
    "\n",
    "# generate dataframe\n",
    "df = pd.DataFrame({'y' : y, 'x1': x1, 'x2':x2,'x3':x3,'e':e})"
   ]
  },
  {
   "cell_type": "code",
   "execution_count": 63,
   "metadata": {
    "scrolled": false,
    "slideshow": {
     "slide_type": "slide"
    }
   },
   "outputs": [
    {
     "name": "stdout",
     "output_type": "stream",
     "text": [
      "\n",
      "=============================================\n",
      "             y        y        y        y    \n",
      "            (0)      (1)      (2)      (3)   \n",
      "---------------------------------------------\n",
      "Intercept -1.07*** -1.08*** 1.01***  1.01*** \n",
      "          (0.01)   (0.01)   (0.03)   (0.03)  \n",
      "x1        0.05***  0.05***  -0.30*** -0.30***\n",
      "          (0.01)   (0.01)   (0.01)   (0.01)  \n",
      "x2                          0.70***  0.70*** \n",
      "                            (0.01)   (0.01)  \n",
      "x3                 -0.39*** -0.39***         \n",
      "                   (0.01)   (0.01)           \n",
      "N         10000    10000    10000    10000   \n",
      "R2        0.01     0.10     0.39     0.30    \n",
      "=============================================\n",
      "Standard errors in parentheses.\n",
      "* p<.1, ** p<.05, ***p<.01\n"
     ]
    }
   ],
   "source": [
    "import statsmodels.api as sm\n",
    "from statsmodels.iolib.summary2 import summary_col\n",
    "\n",
    "formula = \"y ~ x1\"\n",
    "reg1 = smf.ols(formula, df).fit()\n",
    "formula = \"y ~ x1 + x3\"\n",
    "reg2 = smf.ols(formula, df).fit()\n",
    "formula = \"y ~ x1 + x2 + x3\"\n",
    "reg3 = smf.ols(formula, df).fit()\n",
    "formula = \"y ~ x1 + x2\"\n",
    "reg4 = smf.ols(formula, df).fit()\n",
    "\n",
    "dfoutput = summary_col([reg1,reg2,reg3,reg4],stars=True,float_format='%0.2f',\n",
    "                  model_names=['y\\n(0)','y\\n(1)','y\\n(2)','y\\n(3)'],\n",
    "                  info_dict={'N':lambda x: \"{0:d}\".format(int(x.nobs)),\n",
    "                             'R2':lambda x: \"{:.2f}\".format(x.rsquared)})\n",
    "print(dfoutput)"
   ]
  },
  {
   "cell_type": "markdown",
   "metadata": {
    "slideshow": {
     "slide_type": "slide"
    }
   },
   "source": [
    "**Instrumental Variable Regression**\n",
    "\n",
    "\n",
    "\n",
    "- Again consider a model $y=\\beta_0+\\beta_{1}x_1+\\beta_{2}x_2+u$ \n",
    "- Again assume that $x_1$ and $x_2$ are correlated (maybe because a component $a$ affects both, $x_1$ and $x_2$)\n",
    "- In addition assume that there is a further component $z$ that affects $x_1$ but is uncorrelated to $x_2$ such that\n",
    "\n",
    "\\begin{equation*}\n",
    " x_1=\\gamma_0+\\gamma_{1}a+\\gamma_{2}z+e\n",
    " \\end{equation*}\n",
    "\n",
    "- If $\\gamma_2$ is sufficiently large we can isolate this **exogenous variation** in $x_{1}$ to identify $\\beta_{1}$\n",
    "- We then say $z$ is an **instrument** for $x_{1}$"
   ]
  },
  {
   "cell_type": "markdown",
   "metadata": {
    "slideshow": {
     "slide_type": "slide"
    }
   },
   "source": [
    "**Instrumental Variable Regression: Requirements for an Instrument**\n",
    "\n",
    "There ae two conditions for an instrument to work:\n",
    "\n",
    "- **Relevance:** Instrument has to be sufficiently strong correlated with the endogenous regressor (must not be a _weak_ instrument) in order to cause enough variation in the endogenous variable to identify it\n",
    "\n",
    "<center>$Cov(z,x_1)\\neq 0$</center>\n",
    "\n",
    "- **Exogeneity**: Instrument has to be uncorrelated with the error term\n",
    "\n",
    "<center>$Cov(z_i,u_i)= 0$</center>\n",
    "\n",
    "<p>\n",
    "\n",
    "<center> <img src=\"figs\\instr_req.png\" width=\"400\"/> </center>"
   ]
  },
  {
   "cell_type": "markdown",
   "metadata": {
    "slideshow": {
     "slide_type": "slide"
    }
   },
   "source": [
    "**Instrumental Variable Regression: Two Stage Least Squares Estimation**\n",
    "\n",
    "- If the instrument $z$ satisfies the conditions of instrument relevance and exogeneity, the coefficient $\\beta_1$ can be estimated using an IV estimator called **two stage least squares (TSLS)**.\n",
    "- As the name suggests, the two stage least squares estimator is calculated in two stages:\n",
    "    - The first stage decomposes $x_1$ into two components: a problematic component that may be correlated with the regression error and another, problem-free component that is uncorrelated with the error.\n",
    "    - The second stage uses the problem-free component to estimate $\\beta_1$.\n"
   ]
  },
  {
   "cell_type": "markdown",
   "metadata": {
    "slideshow": {
     "slide_type": "slide"
    }
   },
   "source": [
    "**Instrumental Variable Regression: Two Stage Least Squares Estimation**\n",
    "\n",
    "- First stage: Estimate $x_{1}=\\gamma_0 + \\gamma_1z$ (ALL coviariates that are used in the main estimation have to be included in this step!)\n",
    "- Save $\\hat{x}_{1}$, the first stage estimate of $x_{1} $\n",
    "- Regress $y=\\beta_0+\\beta_{1}\\hat{x}_{1}+u$ \n",
    "- Note $z$ only appears in the first stage, not in the second stage\n",
    "- This is called the **exclusion restriction**"
   ]
  },
  {
   "cell_type": "markdown",
   "metadata": {
    "slideshow": {
     "slide_type": "slide"
    }
   },
   "source": [
    "**Deriving the IV estimator**\n",
    "\n",
    "Recall the OLS estimator is\n",
    "\n",
    "<p>\n",
    "    \n",
    "$\\hat{\\beta}_{OLS}=\\frac{\\sum{(Y_i-\\bar{Y})(X_i-\\bar{X})}}{\\sum{({X_i}-\\bar{X})^2}}$\n",
    "\n",
    "Hence\n",
    "    \n",
    "<p>\n",
    "    \n",
    "$\\hat{\\beta}_{2SLS}=\\frac{\\sum{(Y_i-\\bar{Y})(\\hat{X_i}-\\bar{\\hat{X}})}}{\\sum{(\\hat{X_i}-\\bar{\\hat{X}})^2}}$\n",
    "\n",
    "<p>\n",
    "    \n",
    "If we substitute\n",
    "    \n",
    "<p>\n",
    "    \n",
    "$\\hat{X_i}-\\bar{\\hat{X}}=(\\hat{\\gamma}_{0}+\\hat{\\gamma}_{1}Z_i)-(\\hat{\\gamma}_{0}+\\hat{\\gamma}_{1}\\bar{Z})=\\hat{\\gamma}_{1}(Z_i-\\bar{Z})$\n",
    "    \n",
    "<p>\n",
    "    \n",
    "we get\n",
    "\n",
    "<p>\n",
    "    \n",
    "$\\frac{\\sum{(Y_i-\\bar{Y})\\hat{\\gamma}_{1}(Z_i-\\bar{Z})}}{\\sum{\\hat{\\gamma}_{1}^2({Z_i}-\\bar{Z})^2}}=\\frac{1}{\\hat{\\gamma}_{1}}\\times \\frac{\\sum{(Y_i-\\bar{Y})(Z_i-\\bar{Z})}}{\\sum{({Z_i}-\\bar{Z})^2}}$\n",
    "\n",
    "<p>\n",
    "    \n",
    "Since $\\hat{\\gamma}_{1}$ is the first stage OLS estimator\n",
    "\n",
    "<p>\n",
    "    \n",
    "$\\hat{\\beta}_{2SLS}=\\frac{\\sum{({Z_i}-\\bar{Z})^2}}{\\sum{(X_i-\\bar{X})(Z_i-\\bar{Z})}}\\times\\frac{\\sum{(Y_i-\\bar{Y})(Z_i-\\bar{Z})}}{\\sum{({Z_i}-\\bar{Z})^2}}$\n",
    "\n",
    "<p>\n",
    "    \n",
    "Which gives the instrumental variable estimator\n",
    "\n",
    "<p>\n",
    "$\\hat{\\beta}_{IV}=\\frac{\\sum{(Y_i-\\bar{Y})(Z_i-\\bar{Z})}}{\\sum{({X_i}-\\bar{X})({Z_i}-\\bar{Z})}}$\n"
   ]
  },
  {
   "cell_type": "markdown",
   "metadata": {
    "slideshow": {
     "slide_type": "slide"
    }
   },
   "source": [
    "**Consistence of the IV estimator**\n",
    "\n",
    "$\\hat{\\beta}_{IV}=\\frac{\\sum{(Y_i-\\bar{Y})(Z_i-\\bar{Z})}}{\\sum{({X_i}-\\bar{X})({Z_i}-\\bar{Z})}}$\n",
    "\n",
    "<p>\n",
    "    \n",
    "In large samples the IV estimator converges to\n",
    "\n",
    "<p>\n",
    "    \n",
    "$plim(\\hat{\\beta}_{IV})=\\frac{Cov(Y_i,Z_i)}{Cov(X_i,Z_i)}=\\frac{Cov(\\beta_0+\\beta_1X_i+u_i,Z_i)}{Cov(X_i,Z_i)}=\\beta_1+\\frac{Cov(u_i,Z_i)}{Cov(X_i, Z_i)}$\n",
    "\n",
    "<p>\n",
    "    \n",
    "and if the two IV assumptions\n",
    "<p>\n",
    "$Cov(Z_i,X_i)\\neq 0$\n",
    "<p>\n",
    "and\n",
    "<p>\n",
    "$Cov(Z_i,u_i)= 0$\n",
    "<p>\n",
    "hold, we get:\n",
    "\n",
    "<p>\n",
    "    \n",
    "$plim(\\hat{\\beta}_{IV})=\\beta_1$"
   ]
  },
  {
   "cell_type": "markdown",
   "metadata": {
    "slideshow": {
     "slide_type": "slide"
    }
   },
   "source": [
    "**Bias of the IV estimator**\n",
    "\n",
    "$E[\\hat{\\beta}_{IV}]=E[\\frac{\\sum{(Y_i-\\bar{Y})(Z_i-\\bar{Z})}}{\\sum{(X_i-\\bar{X})(Z_i-\\bar{Z})}}]$\n",
    "\n",
    "<p>\n",
    "\n",
    "$=E[\\frac{\\sum{((\\beta_0+\\beta_1X_i+u_i)-(\\beta_0+\\beta_1\\bar{X}+\\bar{u}))(Z_i-\\bar{Z})}}{\\sum{(X_i-\\bar{X})(Z_i-\\bar{Z})}}]$\n",
    "\n",
    "<p>\n",
    "\n",
    "$=E[\\frac{\\beta_1\\sum{(X_i-\\bar{X})(Z_i-\\bar{Z})+\\sum{(u_i-\\bar{u})(Z_i-}\\bar{Z})}}{\\sum{(X_i-\\bar{X})(Z_i-\\bar{Z})}}]$\n",
    "\n",
    "<p>\n",
    "          \n",
    "=$\\beta_1+E[\\frac{\\sum{(u_i-\\bar{u})(Z_i-\\bar{Z})}}{\\sum{(X_i-\\bar{X})(Z_i-\\bar{Z})}}]$=$\\beta_1+E[\\frac{\\sum{u_i(Z_i-\\bar{Z})}}{\\sum{(X_i-\\bar{X})(Z_i-\\bar{Z})}}]$\n",
    "\n",
    "<p>\n",
    "          \n",
    "=$\\beta_1+E_{X,Z}[\\frac{\\sum{E[u_i|Z_i,X_i](Z_i-\\bar{Z})}}{\\sum{(X_i-\\bar{X})(Z_i-\\bar{Z})}}$\n",
    "\n",
    "<p>\n",
    "                  \n",
    "$\\neq \\beta_1$ \n",
    "\n",
    "<p>\n",
    "                  \n",
    "Instrument exogeneity implies $E[u_i|Z_i]=0$ but not $E[u_i|Z_i,X_i]= 0$ (this would mean that $E[u_i|X_i]=0$ and we wouldn't need an instrument!)"
   ]
  },
  {
   "cell_type": "markdown",
   "metadata": {
    "slideshow": {
     "slide_type": "slide"
    }
   },
   "source": [
    "**IV by hand**\n",
    "\n",
    "- Assume we don't observe $x_{2}$ but we observe the instrument $z$\n",
    "- Estimate $\\hat{\\beta}_1$ by 2SLS and compare with results from the true relationship and from the estimation suffering from endogeneity\n"
   ]
  },
  {
   "cell_type": "code",
   "execution_count": 64,
   "metadata": {
    "slideshow": {
     "slide_type": "slide"
    }
   },
   "outputs": [
    {
     "data": {
      "text/html": [
       "<div>\n",
       "<style scoped>\n",
       "    .dataframe tbody tr th:only-of-type {\n",
       "        vertical-align: middle;\n",
       "    }\n",
       "\n",
       "    .dataframe tbody tr th {\n",
       "        vertical-align: top;\n",
       "    }\n",
       "\n",
       "    .dataframe thead th {\n",
       "        text-align: right;\n",
       "    }\n",
       "</style>\n",
       "<table border=\"1\" class=\"dataframe\">\n",
       "  <thead>\n",
       "    <tr style=\"text-align: right;\">\n",
       "      <th></th>\n",
       "      <th>Y</th>\n",
       "      <th>X1</th>\n",
       "      <th>X2</th>\n",
       "      <th>e</th>\n",
       "      <th>Z</th>\n",
       "    </tr>\n",
       "  </thead>\n",
       "  <tbody>\n",
       "    <tr>\n",
       "      <th>0</th>\n",
       "      <td>-3.424977</td>\n",
       "      <td>2.542691</td>\n",
       "      <td>-2.472294</td>\n",
       "      <td>-1.931564</td>\n",
       "      <td>-0.893885</td>\n",
       "    </tr>\n",
       "    <tr>\n",
       "      <th>1</th>\n",
       "      <td>-1.656629</td>\n",
       "      <td>-2.265136</td>\n",
       "      <td>-4.536777</td>\n",
       "      <td>-0.160426</td>\n",
       "      <td>-0.371890</td>\n",
       "    </tr>\n",
       "    <tr>\n",
       "      <th>2</th>\n",
       "      <td>-1.086400</td>\n",
       "      <td>1.704233</td>\n",
       "      <td>-1.061301</td>\n",
       "      <td>-0.832220</td>\n",
       "      <td>0.195330</td>\n",
       "    </tr>\n",
       "    <tr>\n",
       "      <th>3</th>\n",
       "      <td>-1.148969</td>\n",
       "      <td>0.628252</td>\n",
       "      <td>-2.506260</td>\n",
       "      <td>-0.206112</td>\n",
       "      <td>-1.256424</td>\n",
       "    </tr>\n",
       "    <tr>\n",
       "      <th>4</th>\n",
       "      <td>-0.251322</td>\n",
       "      <td>1.626178</td>\n",
       "      <td>-2.556748</td>\n",
       "      <td>1.026255</td>\n",
       "      <td>-0.188097</td>\n",
       "    </tr>\n",
       "  </tbody>\n",
       "</table>\n",
       "</div>"
      ],
      "text/plain": [
       "          Y        X1        X2         e         Z\n",
       "0 -3.424977  2.542691 -2.472294 -1.931564 -0.893885\n",
       "1 -1.656629 -2.265136 -4.536777 -0.160426 -0.371890\n",
       "2 -1.086400  1.704233 -1.061301 -0.832220  0.195330\n",
       "3 -1.148969  0.628252 -2.506260 -0.206112 -1.256424\n",
       "4 -0.251322  1.626178 -2.556748  1.026255 -0.188097"
      ]
     },
     "execution_count": 64,
     "metadata": {},
     "output_type": "execute_result"
    }
   ],
   "source": [
    "# generate a random component for x1 and x2\n",
    "a = randn(10000)\n",
    "\n",
    "# generate a component that only affects x1 (the instrument)\n",
    "z = randn(10000)\n",
    "\n",
    "# generate x1 and x1\n",
    "seed(1)\n",
    "x1 = randn(10000) + a - 0.3*z\n",
    "x2 = randn(10000) - 3 + a\n",
    "\n",
    "# generate random error\n",
    "e = randn(10000)\n",
    "\n",
    "# generate y\n",
    "y = 1 - 0.3*x1 + 0.7*x2 + e\n",
    "\n",
    "# generate dataframe\n",
    "df = pd.DataFrame({'Y' : y, 'X1': x1, 'X2':x2,'e':e, 'Z':z})\n",
    "df.head()"
   ]
  },
  {
   "cell_type": "code",
   "execution_count": 65,
   "metadata": {
    "slideshow": {
     "slide_type": "slide"
    }
   },
   "outputs": [
    {
     "name": "stdout",
     "output_type": "stream",
     "text": [
      "                            OLS Regression Results                            \n",
      "==============================================================================\n",
      "Dep. Variable:                     x1   R-squared:                       0.051\n",
      "Model:                            OLS   Adj. R-squared:                  0.051\n",
      "Method:                 Least Squares   F-statistic:                     539.0\n",
      "Date:                Thu, 16 Sep 2021   Prob (F-statistic):          3.60e-116\n",
      "Time:                        13:48:59   Log-Likelihood:                -17717.\n",
      "No. Observations:               10000   AIC:                         3.544e+04\n",
      "Df Residuals:                    9998   BIC:                         3.545e+04\n",
      "Df Model:                           1                                         \n",
      "Covariance Type:            nonrobust                                         \n",
      "==============================================================================\n",
      "                 coef    std err          t      P>|t|      [0.025      0.975]\n",
      "------------------------------------------------------------------------------\n",
      "Intercept      0.0084      0.014      0.593      0.553      -0.019       0.036\n",
      "z             -0.3288      0.014    -23.216      0.000      -0.357      -0.301\n",
      "==============================================================================\n",
      "Omnibus:                        2.347   Durbin-Watson:                   2.004\n",
      "Prob(Omnibus):                  0.309   Jarque-Bera (JB):                2.364\n",
      "Skew:                           0.037   Prob(JB):                        0.307\n",
      "Kurtosis:                       2.986   Cond. No.                         1.01\n",
      "==============================================================================\n",
      "\n",
      "Warnings:\n",
      "[1] Standard Errors assume that the covariance matrix of the errors is correctly specified.\n"
     ]
    }
   ],
   "source": [
    "#first stage regression\n",
    "reg1 = smf.ols(formula='x1 ~ z', data=df).fit()\n",
    "df['x1_hat'] = reg1.fittedvalues\n",
    "print(reg1.summary())\n",
    "#df.head()"
   ]
  },
  {
   "cell_type": "code",
   "execution_count": 66,
   "metadata": {
    "slideshow": {
     "slide_type": "slide"
    }
   },
   "outputs": [
    {
     "name": "stdout",
     "output_type": "stream",
     "text": [
      "\n",
      "====================================\n",
      "             y        y        y    \n",
      "           (real)  (endog)    (iv)  \n",
      "------------------------------------\n",
      "Intercept 1.00***  -1.11*** -1.11***\n",
      "          (0.03)   (0.01)   (0.01)  \n",
      "x1        -0.30*** 0.04***          \n",
      "          (0.01)   (0.01)           \n",
      "x1_hat                      -0.29***\n",
      "                            (0.04)  \n",
      "x2        0.70***                   \n",
      "          (0.01)                    \n",
      "====================================\n",
      "Standard errors in parentheses.\n",
      "* p<.1, ** p<.05, ***p<.01\n"
     ]
    }
   ],
   "source": [
    "reg_iv = smf.ols(formula='y ~ x1_hat', data=df).fit()\n",
    "\n",
    "reg_real = smf.ols(formula='y ~ x1+x2', data=df).fit()\n",
    "\n",
    "reg_endog = smf.ols(formula='y ~ x1', data=df).fit()\n",
    "\n",
    "dfoutput = summary_col([reg_real,reg_endog,reg_iv],stars=True,float_format='%0.2f',\n",
    "                  model_names=['y\\n(real)','y\\n(endog)','y\\n(iv)'])\n",
    "print(dfoutput)"
   ]
  },
  {
   "cell_type": "code",
   "execution_count": 67,
   "metadata": {
    "slideshow": {
     "slide_type": "slide"
    }
   },
   "outputs": [],
   "source": [
    "reg1 = smf.ols(formula = 'x1 ~ z', data = df).fit()\n",
    "exog = df['exog'] = reg1.fittedvalues\n",
    "\n",
    "reg2 = smf.ols(formula = 'x1 ~ a', data = df).fit()\n",
    "endog = df['endog'] = reg2.fittedvalues\n",
    "\n",
    "#df.describe()"
   ]
  },
  {
   "cell_type": "code",
   "execution_count": 68,
   "metadata": {
    "slideshow": {
     "slide_type": "slide"
    }
   },
   "outputs": [
    {
     "data": {
      "text/plain": [
       "<matplotlib.collections.PathCollection at 0x2399779ef60>"
      ]
     },
     "execution_count": 68,
     "metadata": {},
     "output_type": "execute_result"
    },
    {
     "data": {
      "image/png": "[encoded data removed]",
      "text/plain": [
       "<Figure size 576x396 with 1 Axes>"
      ]
     },
     "metadata": {},
     "output_type": "display_data"
    }
   ],
   "source": [
    "import matplotlib.pyplot as plt\n",
    "plt.scatter(y,endog, c = 'blue', s = 0.1)\n",
    "plt.scatter(y,exog, c = 'red', s = 0.1)"
   ]
  },
  {
   "cell_type": "markdown",
   "metadata": {
    "slideshow": {
     "slide_type": "slide"
    }
   },
   "source": [
    "**IV in Python**\n",
    "\n",
    "- To implement IV regression in _Python_, the module `linearmodels` offers the command `IV2SLS` including the convenient formula syntax we know from `statsmodels`.\n",
    "- When working with IV regression in `linearmodels`, our first line of code is:\n",
    "\n",
    "```python\n",
    "import linearmodels.iv as iv\n",
    "```\n",
    "- In the formula specification, the endogenous regressor(s) $x_{end}$ and instruments $z$ are provided in the following way:\n",
    "\n",
    "```python\n",
    "y ~ 1 + [ x_end ~ z ]\n",
    "```\n",
    "\n",
    "- Also remember that constants in `linearmodels` must be explicitly included by adding \"1\" to the formula."
   ]
  },
  {
   "cell_type": "code",
   "execution_count": 69,
   "metadata": {
    "slideshow": {
     "slide_type": "slide"
    }
   },
   "outputs": [
    {
     "name": "stdout",
     "output_type": "stream",
     "text": [
      "table_iv: \n",
      "            b_man  se_man    t_man  b_auto  se_auto   t_auto\n",
      "Intercept -1.1091  0.0131 -84.4016 -1.1091    0.014 -78.9810\n",
      "x1            NaN     NaN      NaN -0.2935    0.043  -6.8318\n",
      "x1_hat    -0.2935  0.0398  -7.3799     NaN      NaN      NaN\n",
      "\n"
     ]
    }
   ],
   "source": [
    "import wooldridge as woo\n",
    "import numpy as np\n",
    "import pandas as pd\n",
    "import linearmodels.iv as iv\n",
    "import statsmodels.formula.api as smf\n",
    "\n",
    "#Iv manually (from before)\n",
    "reg_iv_manually = smf.ols(formula='y ~ x1_hat',\n",
    "                          data=df)\n",
    "results_iv_manually=reg_iv_manually.fit()\n",
    "\n",
    "# IV automatically:\n",
    "reg_iv = iv.IV2SLS.from_formula(formula='y ~ 1 + [x1 ~ z]',\n",
    "                                data=df)\n",
    "results_iv = reg_iv.fit()\n",
    "\n",
    "# print regression table:\n",
    "table_iv = pd.DataFrame({'b_man': round(results_iv_manually.params, 4),\n",
    "                         'se_man': round(results_iv_manually.bse, 4),\n",
    "                         't_man': round(results_iv_manually.tvalues, 4),\n",
    "                         'b_auto': round(results_iv.params, 4),\n",
    "                         'se_auto': round(results_iv.std_errors, 4),\n",
    "                         't_auto': round(results_iv.tstats, 4)})\n",
    "print(f'table_iv: \\n{table_iv}\\n')"
   ]
  },
  {
   "cell_type": "markdown",
   "metadata": {
    "slideshow": {
     "slide_type": "slide"
    }
   },
   "source": [
    "**Standard Errors of 2SLS Estimation**\n",
    "\n",
    "- Standard errors are too small when we estimate 2SLS by hand (wrong inference, overestimate significance)\n",
    "- What is the cause?\n",
    "- Problem: We did not correct for the fact that $\\hat{x}_1$ is an estimate, i.e. there is additional uncertainty in the second stage\n",
    "- Procedure to correct standard errors is complicated but some packages like `linearmodels.iv` do the job\n",
    "- Practical 'quick and dirty' way to get asymptotically correct standard errors if we do IV by hand is to **bootstrap** standard errors, i.e. use the empirical distribution of the s.e. to get an estimate of the population's distribution s.e.\n",
    "\n",
    "> <ol> <li> draw random samples with replacement repeatedly from the sample dataset </li>\n",
    "> <li> estimate the standard errors corresponding to these bootstrap samples, which forms the sampling distribution of the s.e. </li>\n",
    "> <li> calculate the sample standard deviation of the sampling distribution </li></ol>"
   ]
  },
  {
   "cell_type": "markdown",
   "metadata": {
    "slideshow": {
     "slide_type": "slide"
    }
   },
   "source": [
    "**Relevant Instruments**\n",
    "\n",
    "- Recall: One requirement for IV is to have a relevant instrument, so that $Cov(Z_i,X_i)\\neq 0$\n",
    "\n",
    "- If the instrument is _weak_ this means its correlation with the endogenous variable may be to low to get useful estimates of the endogenous variable\n",
    "- The IV estimator can be severaly biased then.\n",
    "- As an exercise estimate 2SLS models where the instrument's relevance varies  using the model characteristics from before.\n",
    "\n",
    "- Estimate IV for different $\\gamma_2$ = 0.01, 0.05, 0.1, 0.3 and 0.6"
   ]
  },
  {
   "cell_type": "code",
   "execution_count": 70,
   "metadata": {
    "slideshow": {
     "slide_type": "slide"
    }
   },
   "outputs": [],
   "source": [
    "#Estimate IV models instruments of different strengths\n",
    "\n",
    "#instrument with gamma=0.01\n",
    "x1 = randn(10000) + a - 0.01*z\n",
    "y = 1 - 0.3*x1 + 0.7*x2 + e\n",
    "reg_iv_001  = iv.IV2SLS.from_formula (formula='y ~ 1 + [x1 ~ z]', data=df).fit()\n",
    "\n",
    "#instrument with gamma=0.05\n",
    "x1 = randn(10000) + a - 0.05*z\n",
    "y = 1 - 0.3*x1 + 0.7*x2 + e\n",
    "reg_iv_005  = iv.IV2SLS.from_formula (formula='y ~ 1 + [x1 ~ z]', data=df).fit()\n",
    "\n",
    "#instrument with gamma=0.1\n",
    "x1 = randn(10000) + a - 0.1*z\n",
    "y = 1 - 0.3*x1 + 0.7*x2 + e\n",
    "reg_iv_01   = iv.IV2SLS.from_formula (formula='y ~ 1 + [x1 ~ z]',  data=df).fit()\n",
    "\n",
    "#instrument with gamma=0.3\n",
    "x1 = randn(10000) + a - 0.3*z\n",
    "y = 1 - 0.3*x1 + 0.7*x2 + e\n",
    "reg_iv_03   = iv.IV2SLS.from_formula (formula='y ~ 1 + [x1 ~ z]',  data=df).fit()\n",
    "\n",
    "#instrument with gamma=0.6\n",
    "x1 = randn(10000) + a - 0.6*z\n",
    "y = 1 - 0.3*x1 + 0.7*x2 + e\n",
    "reg_iv_06   = iv.IV2SLS.from_formula (formula='y ~ 1 + [x1 ~ z]',  data=df).fit()"
   ]
  },
  {
   "cell_type": "code",
   "execution_count": 71,
   "metadata": {
    "slideshow": {
     "slide_type": "slide"
    }
   },
   "outputs": [
    {
     "name": "stdout",
     "output_type": "stream",
     "text": [
      "table_iv_weak: \n",
      "           b_real_model  se_real_model  b_endog_model  se_endog_model  b_iv_1  \\\n",
      "Intercept        0.9998         0.0264        -1.1110          0.0132 -1.1108   \n",
      "x1              -0.2957         0.0079         0.0418          0.0090 -0.1838   \n",
      "x2               0.7048         0.0082            NaN             NaN     NaN   \n",
      "\n",
      "           se_iv_1  b_iv_2  se_iv_2  b_iv_3  se_iv_3  b_iv_4  se_iv_4  b_iv_5  \\\n",
      "Intercept   0.0172 -1.1090   0.0138 -1.1091   0.0141 -1.1090   0.0141 -1.1091   \n",
      "x1          0.7409 -0.2656   0.2224 -0.3024   0.0159 -0.2928   0.0476 -0.2965   \n",
      "x2             NaN     NaN      NaN     NaN      NaN     NaN      NaN     NaN   \n",
      "\n",
      "           se_iv_5  \n",
      "Intercept   0.0141  \n",
      "x1          0.0233  \n",
      "x2             NaN  \n",
      "\n"
     ]
    }
   ],
   "source": [
    "# print regression table:\n",
    "table_weak_iv = pd.DataFrame({'b_real_model': round(reg_real.params, 4),\n",
    "                         'se_real_model': round(reg_real.bse, 4),\n",
    "                         'b_endog_model': round(reg_endog.params, 4),\n",
    "                         'se_endog_model': round(reg_endog.bse, 4),\n",
    "                         'b_iv_1': round(reg_iv_001.params, 4),\n",
    "                         'se_iv_1': round(reg_iv_001.std_errors, 4),\n",
    "                         'b_iv_2': round(reg_iv_005.params, 4),\n",
    "                         'se_iv_2': round(reg_iv_005.std_errors, 4),\n",
    "                         'b_iv_3': round(reg_iv_01.params, 4),\n",
    "                         'se_iv_3': round(reg_iv_01.std_errors, 4),\n",
    "                         'b_iv_4': round(reg_iv_03.params, 4),\n",
    "                         'se_iv_4': round(reg_iv_03.std_errors, 4),\n",
    "                         'b_iv_5': round(reg_iv_06.params, 4),\n",
    "                         'se_iv_5': round(reg_iv_06.std_errors, 4)})\n",
    "\n",
    "print(f'table_iv_weak: \\n{table_weak_iv}\\n')"
   ]
  },
  {
   "cell_type": "markdown",
   "metadata": {
    "slideshow": {
     "slide_type": "slide"
    }
   },
   "source": [
    "**Weak Instruments**\n",
    "\n",
    "- Fortunately, you can test for weak instruments\n",
    "- The most common test is the first-stage f-test of the instrument(s)\n",
    "- By rule of thumb one can say that the instrument is sufficiently strong/relevant to identify the endogenous variable if the first-stage f-statistic is larger than 10 \n",
    "- The (partial) first stage f-statistic can be computed (among some other first-stage statistics) in _Python_ with the post-estimation command \n",
    "\n",
    "```python\n",
    "regression_name.first_stage\n",
    "```\n",
    "\n",
    "Let's check the first-stage statistics for the our simulations where our instrument was only weakly correlated with $x_1$ and where it was sufficiently strong."
   ]
  },
  {
   "cell_type": "code",
   "execution_count": 82,
   "metadata": {
    "slideshow": {
     "slide_type": "slide"
    }
   },
   "outputs": [
    {
     "name": "stdout",
     "output_type": "stream",
     "text": [
      "    First Stage Estimation Results    \n",
      "======================================\n",
      "                                    x1\n",
      "--------------------------------------\n",
      "R-squared                       0.0062\n",
      "Partial R-squared               0.0062\n",
      "Shea's R-squared                0.0062\n",
      "Partial F-statistic             62.567\n",
      "P-value (Partial F-stat)     2.554e-15\n",
      "Partial F-stat Distn           chi2(1)\n",
      "========================== ===========\n",
      "Intercept                       0.0278\n",
      "                              (1.9827)\n",
      "z                              -0.1106\n",
      "                             (-7.9099)\n",
      "--------------------------------------\n",
      "\n",
      "T-stats reported in parentheses\n",
      "T-stats use same covariance type as original model\n"
     ]
    }
   ],
   "source": [
    "#instrument with gamma=0.1\n",
    "\n",
    "x1 = randn(10000) + a - 0.1*z\n",
    "y = 1 - 0.3*x1 + 0.7*x2 + e\n",
    "reg_iv_001   = iv.IV2SLS.from_formula (formula='y ~ 1 + [x1 ~ z]',  data=df).fit()\n",
    "print(reg_iv_001.first_stage)"
   ]
  },
  {
   "cell_type": "code",
   "execution_count": 73,
   "metadata": {
    "slideshow": {
     "slide_type": "slide"
    }
   },
   "outputs": [
    {
     "name": "stdout",
     "output_type": "stream",
     "text": [
      "    First Stage Estimation Results    \n",
      "======================================\n",
      "                                    x1\n",
      "--------------------------------------\n",
      "R-squared                       0.0512\n",
      "Partial R-squared               0.0512\n",
      "Shea's R-squared                0.0512\n",
      "Partial F-statistic             530.81\n",
      "P-value (Partial F-stat)        0.0000\n",
      "Partial F-stat Distn           chi2(1)\n",
      "========================== ===========\n",
      "Intercept                       0.0084\n",
      "                              (0.5929)\n",
      "z                              -0.3288\n",
      "                             (-23.039)\n",
      "--------------------------------------\n",
      "\n",
      "T-stats reported in parentheses\n",
      "T-stats use same covariance type as original model\n"
     ]
    }
   ],
   "source": [
    "#instrument with gamma=0.3\n",
    "seed(1)\n",
    "x1 = randn(10000) + a - 0.3*z\n",
    "y = 1 - 0.3*x1 + 0.7*x2 + e\n",
    "reg_iv_03   = iv.IV2SLS.from_formula (formula='y ~ 1 + [x1 ~ z]',  data=df).fit()\n",
    "print(reg_iv_03.first_stage)"
   ]
  },
  {
   "cell_type": "markdown",
   "metadata": {
    "slideshow": {
     "slide_type": "slide"
    }
   },
   "source": [
    "**Validity of the Instruments**\n",
    "\n",
    "- In contrast to the relevance (strenght) of the instrument, which is testable, we can't test the second assumption regarding the validity (exogeneity) of the instrument\n",
    "- We have to justify the validity by arguments and theory"
   ]
  },
  {
   "cell_type": "markdown",
   "metadata": {
    "slideshow": {
     "slide_type": "slide"
    }
   },
   "source": [
    "**Control Functions**\n",
    "\n",
    "- IV does not work in models that are non-linear in parameters (e.g. discrete choice models such a sprobit and logit, count data models, semiparametric)\n",
    "- In this case **control functions** can serve as an alternative\n",
    "- The control function method use a similar identifying assumptions as IV methods\n",
    "- Procedure is:\n",
    "> <ol><li> Estimate first stage as before</li>\n",
    "> <li> Store the first stage residuals</li>\n",
    "> <li> Estimate the second stage but use the ednogenous variable (not its estimate) and add the first stage residuals as ``control function\"</li></ol>\n",
    "- Sometimes also called **Two Stage Residual Inclusion** method (2SRI) "
   ]
  },
  {
   "cell_type": "code",
   "execution_count": 84,
   "metadata": {
    "slideshow": {
     "slide_type": "slide"
    }
   },
   "outputs": [
    {
     "name": "stdout",
     "output_type": "stream",
     "text": [
      "                            OLS Regression Results                            \n",
      "==============================================================================\n",
      "Dep. Variable:                      y   R-squared:                       0.045\n",
      "Model:                            OLS   Adj. R-squared:                  0.044\n",
      "Method:                 Least Squares   F-statistic:                     233.5\n",
      "Date:                Thu, 16 Sep 2021   Prob (F-statistic):          7.41e-100\n",
      "Time:                        14:07:19   Log-Likelihood:                -17606.\n",
      "No. Observations:               10000   AIC:                         3.522e+04\n",
      "Df Residuals:                    9997   BIC:                         3.524e+04\n",
      "Df Model:                           2                                         \n",
      "Covariance Type:            nonrobust                                         \n",
      "==============================================================================\n",
      "                 coef    std err          t      P>|t|      [0.025      0.975]\n",
      "------------------------------------------------------------------------------\n",
      "Intercept     -1.1124      0.026    -42.805      0.000      -1.163      -1.061\n",
      "x1            -0.2935      0.043     -6.870      0.000      -0.377      -0.210\n",
      "fs_res         0.0160      0.045      0.358      0.721      -0.072       0.104\n",
      "==============================================================================\n",
      "Omnibus:                        0.250   Durbin-Watson:                   1.985\n",
      "Prob(Omnibus):                  0.883   Jarque-Bera (JB):                0.230\n",
      "Skew:                          -0.010   Prob(JB):                        0.891\n",
      "Kurtosis:                       3.013   Cond. No.                         7.26\n",
      "==============================================================================\n",
      "\n",
      "Warnings:\n",
      "[1] Standard Errors assume that the covariance matrix of the errors is correctly specified.\n"
     ]
    }
   ],
   "source": [
    "###Control function method###\n",
    "\n",
    "#first stage regression\n",
    "seed(1)\n",
    "a=randn(10000)\n",
    "#instrument with gamma=0.3\n",
    "x1 = rand(10000) + a - 0.3*z\n",
    "y = 1 - 0.3*x1 + 0.7*x2 + e\n",
    "\n",
    "first_stage = smf.ols(formula='x1 ~ z', data=df).fit()\n",
    "df['fs_res'] = first_stage.resid\n",
    "\n",
    "#second stage with control function\n",
    "control_function = smf.ols(formula='y ~ x1 + fs_res', data=df).fit()\n",
    "print(control_function.summary())\n",
    "#df.head()"
   ]
  },
  {
   "cell_type": "markdown",
   "metadata": {
    "slideshow": {
     "slide_type": "slide"
    }
   },
   "source": [
    "- In the case of endogeneity in a non-linear model you simply estimate the first-stage as you do in 2SLS, you then store the residuals and plug them into the second stage of your non-linear model and estimate it by OLS (probit , logit, count data model, semiparametric model).\n",
    "- Standard errors are corrected by Bootstraping."
   ]
  },
  {
   "cell_type": "markdown",
   "metadata": {
    "slideshow": {
     "slide_type": "slide"
    }
   },
   "source": [
    "**Simultaneity/Reverse causality**\n",
    "\n",
    "- As we mentioned already, omitted variable bias is not the only source of potential endogeneity.\n",
    "-  Endogeneity can also arise from **two-way causality**:\n",
    "\n",
    "\\begin{equation*}\n",
    "y_i=\\beta_0+\\beta_1x_{1,i}+\\beta_2x_{2,i} +u_{1,i}\n",
    "\\end{equation*}\n",
    "\n",
    "\\begin{equation*}\n",
    "x_{1,i}=\\gamma_0+\\gamma_1y_i+\\gamma_2c_i+u_{2,i}\n",
    "\\end{equation*}\n",
    "\n",
    "    \n",
    "- A shock in $u_{1,i}$ affects $y_i$ and as $y_i$ affects $x_{1,i}$ it also affects $x_{1,i}$\n",
    "- Because of the reverse casuality of $y_i$ and $x_{1,i}$ we have $E(u_{i}|x_{i})\\neq 0$\n",
    "- For instance demand-supply relation: firms ask for higher prices if there is more demand and consumers buy less if prices are high\n",
    "- But we only observe the market equilibrium outcome\n"
   ]
  },
  {
   "cell_type": "markdown",
   "metadata": {
    "slideshow": {
     "slide_type": "slide"
    }
   },
   "source": [
    "**Illustration of Simultaneity Bias**\n",
    "\n",
    "- We are interested in estimating the demand elasticity for wine.\n",
    "\n",
    "\\begin{equation*}\n",
    "ln(Q_i^{Wine})=\\beta_0+\\beta_1ln(P_i^{Wine})+u\n",
    "\\end{equation*}\n",
    "\n",
    "where $Q_i^{wine}$ is the $i^{th}$ observation on the quantity of wine consumed, $P_i^{wine}$ is its price, and $u_i$ represents other factors that affect demand, such as income and consumer tastes.  \n",
    "\n",
    "- A 1% increase in the price of wine causes approximately a $\\beta_1$ percent change in demand, so $\\beta_1$ is the demand elasticity.\n",
    "- But because of the interactions between supply and demand, the regressor, $ln(P_i^{Wine})$ is likely to be correlated with the error term.\n",
    "\n",
    "\n",
    "\n"
   ]
  },
  {
   "cell_type": "markdown",
   "metadata": {
    "slideshow": {
     "slide_type": "slide"
    }
   },
   "source": [
    "Let's assume the following:  \n",
    "\n",
    "\n",
    "- In the first period’s equilibrium price and quantity are determined by their intersection.\n",
    "- In year 2, demand increases (say, because of an increase in income), and supply decreases (because of an increase in the cost of producing wine);\n",
    "- The equilibrium price and quantity are determined by the intersection of the new supply and demand curves.\n",
    "- In year 3, the factors affecting demand and supply change again; demand increases again, supply increases, and quantity and price are determined in a new equilibrium."
   ]
  },
  {
   "cell_type": "markdown",
   "metadata": {
    "slideshow": {
     "slide_type": "slide"
    }
   },
   "source": [
    "<p>\n",
    "\n",
    "<center> <img src=\"figs\\wine_1.png\" width=\"400\"/> </center>"
   ]
  },
  {
   "cell_type": "markdown",
   "metadata": {
    "slideshow": {
     "slide_type": "slide"
    }
   },
   "source": [
    "<p>\n",
    "\n",
    "<center> <img src=\"figs\\wine_2.png\" width=\"400\"/> </center>"
   ]
  },
  {
   "cell_type": "markdown",
   "metadata": {
    "slideshow": {
     "slide_type": "slide"
    }
   },
   "source": [
    "- The figure shows the equilibrium quantity and price pairs for these three periods and for eight subsequent years, where in each year the supply and demand curves are subject to shifts associated with factors other than price that affect market supply and demand.\n",
    "\n",
    "- Fitting a line to these points by OLS will estimate neither a demand curve nor a supply curve because the points have been determined by changes in both demand and supply.\n",
    "\n",
    "- A way to get around this problem was to find some third variable that shifts supply but does not shift demand - an exogenous instrument!\n",
    "\n",
    "- Then we can identify the demand curve.\n",
    "\n",
    "- In the case of wine this may be for instance weather conditions that shift the grape harvest (reduces supply)."
   ]
  },
  {
   "cell_type": "markdown",
   "metadata": {
    "slideshow": {
     "slide_type": "slide"
    }
   },
   "source": [
    "<p>\n",
    "\n",
    "<center> <img src=\"figs\\wine_3.png\" width=\"400\"/> </center>"
   ]
  },
  {
   "cell_type": "markdown",
   "metadata": {
    "slideshow": {
     "slide_type": "slide"
    }
   },
   "source": [
    "**Instruments are not always intuitive:**\n",
    "    \n",
    "    \n",
    "- Assume we want to estimate the effect of the number of children on the participation of women in the labor market.\n",
    "- Why can't we simply regress participation in the labor market on the number of kids?\n",
    "- Do you have any idea why a dummy variable indicating whether a women with two children has two children of the same gender could be an instrument for the number of children?\n",
    "\n",
    "- Assume we want to know the effect of education on earnings.\n",
    "- Why can't we simply regress earnings on education?\n",
    "- Why could it be that the quarter of birth is a reasonable instrument for education?\n",
    "\n",
    "https://www.google.com/search?q=Does+Compulsory+School+Attendance+Affect+Schooling+and+Earnings%3F&rlz=1C1CHBF_deFR818FR818&oq=Does+Compulsory+School+Attendance+Affect+Schooling+and+Earnings%3F&aqs=chrome..69i57.491j0j7&sourceid=chrome&ie=UTF-8"
   ]
  },
  {
   "cell_type": "markdown",
   "metadata": {
    "slideshow": {
     "slide_type": "slide"
    }
   },
   "source": [
    "**Some examples for IV:**\n",
    "\n",
    "**Size of police forces and level of crime**\n",
    "\n",
    "- At the beginning we asked the question: Does the presence of more police officers on the street deter crime?\n",
    "- We already argued that we would need an experiment to analyze this in an causal way\n",
    "\n",
    "What was the argument for this again and why can't we just do an experiment?\n",
    "\n"
   ]
  },
  {
   "cell_type": "markdown",
   "metadata": {
    "slideshow": {
     "slide_type": "slide"
    }
   },
   "source": [
    "**Size of police forces and level of crime**\n",
    "\n",
    "- We have endogeneity because the size of the police force and the leve of crime are determined simultaneity:\n",
    "\n",
    "\n",
    "more crime $\\rightarrow$ more police, more police $\\rightarrow$ less crime).\n",
    "\n",
    "- An experiment which randomizes the size of the police force is morally problematic, so that does not work.\n",
    "\n",
    "But: we sometimes have \"natural experiments\"!\n",
    "\n"
   ]
  },
  {
   "cell_type": "markdown",
   "metadata": {
    "slideshow": {
     "slide_type": "slide"
    }
   },
   "source": [
    "<p>\n",
    "\n",
    "<center> <img src=\"graphs\\levitt_crime_paper.jpg\" width=\"600\"/> </center>"
   ]
  },
  {
   "cell_type": "markdown",
   "metadata": {
    "slideshow": {
     "slide_type": "slide"
    }
   },
   "source": [
    "- In the paper \"Using Electoral Cycles in Police Hiring to Estimate the Effect of Police on Crime\" Steven Levitt used an IV to adress the endogeneity.\n",
    "- He first shows, that the size of police forces increases disproportionally in mayoral and governatorial election years.\n",
    "- As elections are regularly and are not linked to crime, he used election years as an instrument for the size of the police force.\n",
    "- Using this IV he showed that each additional police officer is estimated to eliminate eight to ten serious crimes.\n",
    "- Existing estimates of the costs of crime suggest that the social benefit of reduced crime is approximately $100,000 per officer per year, implying that the current number of police is below the optimal level.\n",
    "\n",
    "http://pricetheory.uchicago.edu/levitt/Papers/LevittUsingElectoralCycles2002.pdf"
   ]
  },
  {
   "cell_type": "markdown",
   "metadata": {
    "slideshow": {
     "slide_type": "slide"
    }
   },
   "source": [
    "**Juvenile Incarceration, Human Capital, and Future Crime: Evidence from Randomly Assigned Judges**. Anna Aizer, Joseph J. Doyle, Jr.\n",
    "\n",
    "- In this paper the authors were interested in the effect of juvenile incarcernation on future outcomes such as high school completion and adult recidivism of these kids.\n",
    "- Why didn't they just simply regress future outcomes (high school completion and adult recidivism) on juvenile incarcernation?\n"
   ]
  },
  {
   "cell_type": "markdown",
   "metadata": {
    "slideshow": {
     "slide_type": "slide"
    }
   },
   "source": [
    "**Juvenile Incarceration, Human Capital, and Future Crime: Evidence from Randomly Assigned Judges**. Anna Aizer, Joseph J. Doyle, Jr.\n",
    "\n",
    "- To overcome endogeneity problems here the authors used dummies for each of the judges that handled the cases as instruments\n",
    "- Do you have any idea why this instrument can make sense?\n",
    "\n"
   ]
  },
  {
   "cell_type": "markdown",
   "metadata": {
    "slideshow": {
     "slide_type": "slide"
    }
   },
   "source": [
    "**Juvenile Incarceration, Human Capital, and Future Crime: Evidence from Randomly Assigned Judges**. Anna Aizer, Joseph J. Doyle, Jr.\n",
    "\n",
    "\n",
    "a) the instrument is probably valid as judges are randomly assigned to a case\n",
    "\n",
    "<p>\n",
    "\n",
    "<center> <img src=\"figs\\judges_random.png\" width=\"400\"/> </center>\n",
    "\n"
   ]
  },
  {
   "cell_type": "markdown",
   "metadata": {
    "slideshow": {
     "slide_type": "slide"
    }
   },
   "source": [
    "**Juvenile Incarceration, Human Capital, and Future Crime: Evidence from Randomly Assigned Judges**. Anna Aizer, Joseph J. Doyle, Jr.\n",
    "\n",
    "b) The instrument is relevant: judges differ in their incarceration tendency \n",
    "\n",
    "\n",
    "<p>\n",
    "\n",
    "<center> <img src=\"figs\\judges.png\" width=\"400\"/> </center>\n",
    "\n"
   ]
  },
  {
   "cell_type": "markdown",
   "metadata": {
    "slideshow": {
     "slide_type": "slide"
    }
   },
   "source": [
    "**Juvenile Incarceration, Human Capital, and Future Crime: Evidence from Randomly Assigned Judges**. Anna Aizer, Joseph J. Doyle, Jr.\n",
    "\n",
    "Thus: the judge assigned for a case can be used as an instrumental variable to estimate causal effects of juvenile incarceration on high school completion and adult recidivism.\n",
    "- They find that juvenile incarceration results in substantially lower high school completion rates and higher adult incarceration rates, including for violent crimes. \n",
    "\n",
    "https://www.researchgate.net/publication/272413343_Juvenile_Incarceration_Human_Capital_and_Future_Crime_Evidence_from_Randomly-Assigned_Judges/link/5729f96b08ae2efbfdbc11bd/download"
   ]
  },
  {
   "cell_type": "markdown",
   "metadata": {
    "slideshow": {
     "slide_type": "slide"
    }
   },
   "source": []
  },
  {
   "cell_type": "markdown",
   "metadata": {
    "slideshow": {
     "slide_type": "slide"
    }
   },
   "source": [
    "**Estimating the Payoff to Schooling Using the Vietnam-Era Draft Lottery**\n",
    "Joshua D. Angrist, Alan B. Krueger\n",
    "\n",
    "- Between 1970 and 1973 priority for military service was randomly assigned to draft-age men in a series of lotteries.\n",
    "- Many men who were at risk of being drafted managed to avoid military service by enrolling in school and obtaining an educational deferment.\n",
    "- The authors use the draft lottery as an instrument to estimate the return to education.\n",
    "- They find that an extra year of schooling acquired in response to the lottery is associated with 6.6 percent higher weekly earnings.\n",
    "\n",
    "https://sites.duke.edu/niou/files/2011/06/Angrist_lifetime-earningsmall.pdf"
   ]
  },
  {
   "cell_type": "markdown",
   "metadata": {
    "slideshow": {
     "slide_type": "slide"
    }
   },
   "source": [
    "\n",
    "- Let's assume we want to estimate the effect of price on electricity generation\n",
    "- Any ideas about a potential instrument for electricity price?\n",
    "- Now assume we want to estimate the effect of electricity consumption on the price\n",
    "- Any idea about a potential instrument for electricity demand?"
   ]
  },
  {
   "cell_type": "markdown",
   "metadata": {
    "slideshow": {
     "slide_type": "slide"
    }
   },
   "source": [
    "**Direct versus Indirect Colonial Rule in India: Long-term Consequences**\n",
    "\n",
    "What is the IV in this paper? How is it justified? What do you think about it?\n",
    "\n",
    "https://www.hbs.edu/ris/Publication%20Files/05-041_1feff996-f50e-4e5a-b057-e0119cd19a62.pdf"
   ]
  },
  {
   "cell_type": "markdown",
   "metadata": {
    "slideshow": {
     "slide_type": "slide"
    }
   },
   "source": [
    "**INSIDE THE FAMILY FIRM: THE ROLE OF FAMILIES IN SUCCESSION DECISIONS AND PERFORMANCE**\n",
    "\n",
    "\n",
    "What is the IV in this paper? How is it justified? What do you think about it?\n",
    "\n",
    "http://www.kaspermeisnernielsen.com/iff_qje.pdf"
   ]
  },
  {
   "cell_type": "markdown",
   "metadata": {
    "slideshow": {
     "slide_type": "slide"
    }
   },
   "source": [
    "Another example:\n",
    "\n",
    "    \n",
    "**Economic Shocks and Civil Conflicts**\n",
    "    \n",
    "http://web.mit.edu/14.773/www/conflict_15apr03.pdf"
   ]
  },
  {
   "cell_type": "code",
   "execution_count": null,
   "metadata": {},
   "outputs": [],
   "source": []
  }
 ],
 "metadata": {
  "celltoolbar": "Slideshow",
  "kernelspec": {
   "display_name": "Python 3",
   "language": "python",
   "name": "python3"
  },
  "language_info": {
   "codemirror_mode": {
    "name": "ipython",
    "version": 3
   },
   "file_extension": ".py",
   "mimetype": "text/x-python",
   "name": "python",
   "nbconvert_exporter": "python",
   "pygments_lexer": "ipython3",
   "version": "3.7.1"
  },
  "toc": {
   "base_numbering": 1,
   "nav_menu": {
    "height": "352px",
    "width": "294px"
   },
   "number_sections": false,
   "sideBar": true,
   "skip_h1_title": false,
   "title_cell": "Table of Contents",
   "title_sidebar": "Contents",
   "toc_cell": false,
   "toc_position": {},
   "toc_section_display": true,
   "toc_window_display": false
  },
  "varInspector": {
   "cols": {
    "lenName": 16,
    "lenType": 16,
    "lenVar": 40
   },
   "kernels_config": {
    "python": {
     "delete_cmd_postfix": "",
     "delete_cmd_prefix": "del ",
     "library": "var_list.py",
     "varRefreshCmd": "print(var_dic_list())"
    },
    "r": {
     "delete_cmd_postfix": ") ",
     "delete_cmd_prefix": "rm(",
     "library": "var_list.r",
     "varRefreshCmd": "cat(var_dic_list()) "
    }
   },
   "types_to_exclude": [
    "module",
    "function",
    "builtin_function_or_method",
    "instance",
    "_Feature"
   ],
   "window_display": false
  }
 },
 "nbformat": 4,
 "nbformat_minor": 2
}
