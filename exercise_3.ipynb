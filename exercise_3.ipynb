{
 "cells": [
  {
   "cell_type": "markdown",
   "metadata": {},
   "source": [
    "# Exercise 9"
   ]
  },
  {
   "cell_type": "markdown",
   "metadata": {},
   "source": [
    "Use again the wage1 data\n",
    "\n",
    "1. Regress $wage$ on $education$ and $education^2$. Compute the parameters and interpret the parameters. Compute the 95% confidence intervals.Compute the t-statistics. Check if you have done it correctly by comparing with the output table you get when using `summary`. Are the effects significant at the 5% level? And at the 1% level? \n",
    "1. How large is the share of persons in the dataset with less than 5 years of education? How many have more than 20 years of education? \n",
    "1. Plot the quadratic effect of education on wage.\n",
    "1. What is the turning point of the quadratic effect of education on years?\n",
    "1. What could be a reason why the effects is fallin in the beginning?\n",
    "1. Add log(exper), female and nonwhite to the regression model and estimate it.\n",
    "1. Calculate the 0.05, 0.1, 0.5, 0.9 and 0.95 quantiles for education.\n",
    "1. Predict the quadratic effect of $education$ on $wage$ for values larger than the 10% and smaller than the 90% quantile values of education. Hold the other variables fixed at their mean for the prediction. Report the predictions in a table.\n",
    "1. Visualize the non-linear effect in a plot and add the 95% confidence interval to it.\n",
    "\n"
   ]
  },
  {
   "cell_type": "markdown",
   "metadata": {},
   "source": [
    "# Exercise 10"
   ]
  },
  {
   "cell_type": "markdown",
   "metadata": {},
   "source": [
    "Let's analyze the following example: We are interested in studying the relationship between doctor visits (mdvis) and both log income and the binary variable health status (hlthp) which is coded as 1 for a bad health condition and zero for a good health condition (or at least not bad).\n",
    "\n",
    "Use the dataset 'randhie' which is accessible here:\n",
    "\n",
    "https://raw.githubusercontent.com/statsmodels/statsmodels/master/statsmodels/datasets/randhie/src/randhie.csv\n",
    "\n",
    "You can either download it on your computer and load from there or you can directly load it into Python from the website. As you see from the ending of the url it is a .csv file.\n",
    "\n",
    "1. Regress doctor visits on log(income) and health status and report the results. Visualize the difference in the effect of log(income) on docvisits depending on the health status. \n",
    "1. Add an interaction term of health status and log(income) to the regression model. Re-estimate the model and interpret the coefficient.\n",
    "1. Visualize how the slope of the effect of log(income) varies between men and women .\n"
   ]
  },
  {
   "cell_type": "code",
   "execution_count": null,
   "metadata": {},
   "outputs": [],
   "source": []
  }
 ],
 "metadata": {
  "kernelspec": {
   "display_name": "Python 3",
   "language": "python",
   "name": "python3"
  },
  "language_info": {
   "codemirror_mode": {
    "name": "ipython",
    "version": 3
   },
   "file_extension": ".py",
   "mimetype": "text/x-python",
   "name": "python",
   "nbconvert_exporter": "python",
   "pygments_lexer": "ipython3",
   "version": "3.7.1"
  },
  "toc": {
   "base_numbering": 1,
   "nav_menu": {},
   "number_sections": true,
   "sideBar": true,
   "skip_h1_title": true,
   "title_cell": "Table of Contents",
   "title_sidebar": "Contents",
   "toc_cell": false,
   "toc_position": {},
   "toc_section_display": true,
   "toc_window_display": true
  },
  "varInspector": {
   "cols": {
    "lenName": 16,
    "lenType": 16,
    "lenVar": 40
   },
   "kernels_config": {
    "python": {
     "delete_cmd_postfix": "",
     "delete_cmd_prefix": "del ",
     "library": "var_list.py",
     "varRefreshCmd": "print(var_dic_list())"
    },
    "r": {
     "delete_cmd_postfix": ") ",
     "delete_cmd_prefix": "rm(",
     "library": "var_list.r",
     "varRefreshCmd": "cat(var_dic_list()) "
    }
   },
   "types_to_exclude": [
    "module",
    "function",
    "builtin_function_or_method",
    "instance",
    "_Feature"
   ],
   "window_display": false
  }
 },
 "nbformat": 4,
 "nbformat_minor": 2
}
