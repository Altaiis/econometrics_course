{
 "cells": [
  {
   "cell_type": "markdown",
   "metadata": {
    "slideshow": {
     "slide_type": "slide"
    }
   },
   "source": [
    "<h1>Python basics"
   ]
  },
  {
   "cell_type": "markdown",
   "metadata": {
    "slideshow": {
     "slide_type": "slide"
    }
   },
   "source": [
    "- We start by preparing us for implementing the actual econometric analyses we will discuss later on.\n",
    "- Introduce the basics in _Python_"
   ]
  },
  {
   "cell_type": "markdown",
   "metadata": {
    "slideshow": {
     "slide_type": "slide"
    }
   },
   "source": [
    "<h2>Getting Started"
   ]
  },
  {
   "cell_type": "markdown",
   "metadata": {
    "slideshow": {
     "slide_type": "slide"
    }
   },
   "source": [
    "- Use _Python_ distribution _Anaconda_, which includes _Python_ plus many tools needed for data anaylsis.\n",
    "- Installation files can be downloaded at www.anaconda.com\n",
    "- Lecture based on _Python 3_, which is not backwards compatible with _Python 2_\n",
    "- After downloading and installing, _Python_ can be accessed by the command line interface.\n",
    "- In Windows, run the program “Anaconda Prompt”, in Linux or macOS you can simply open a terminal.You start Python by typing `python` and pressing the return key."
   ]
  },
  {
   "cell_type": "markdown",
   "metadata": {
    "slideshow": {
     "slide_type": "slide"
    }
   },
   "source": [
    "**_Python_ Scripts**\n",
    "\n",
    "- An important advantage of writing a _Python_ script is that we can easily collect all commands we need for a project in a text file\n",
    "- A _Python_ script contains all commands including those for reading the raw data, data manipulation, estimation, post-estimation analyses, and the creation of graphs and tables\n",
    "- In a complex project, these tasks can be divided into separate Python scripts\n",
    "- The point is that the script(s) together with the raw data generate the output used in the term paper, thesis, or research paper\n",
    "- We can then ask _Python_ to evaluate all or some of the commands listed in the _Python_ script at once\n",
    "- Important since a key feature of the scientific method is reproducibility\n",
    "- Working with Python scripts is not only best practice from a scientific perspective, but also very convenient once we get used to it.\n",
    "- In a nontrivial data analysis project, it is very hard to remember all the steps involved\n",
    "- If we manipulate the data for example by directly changing the numbers in a spreadsheet, we will never be able to keep track of everything we did. Each time we make a mistake (which is impossible to avoid), we can simply correct the command and let Python start from scratch by a simple mouse click if we are using scripts\n",
    "- And if there is a change in the raw data set, we can simply rerun everything and get the updated tables and figures instantly.\n",
    "- Using Python scripts is straightforward: We just write our commands into a text file and save it with a “.py” extension\n",
    "- When using a user interface like Jupyter or Spyder, working with scripts is especially convenient since it is equipped with a specialized editor for script files.\n",
    "\n"
   ]
  },
  {
   "cell_type": "markdown",
   "metadata": {
    "slideshow": {
     "slide_type": "slide"
    }
   },
   "source": [
    "**Comments**\n",
    "\n",
    "- An extremely useful tool to make Python scripts more readable are comments. These are lines beginning with a “#”.\n",
    "- These lines are not evaluated by Python but can (and should) be used to structure the script and explain the steps."
   ]
  },
  {
   "cell_type": "code",
   "execution_count": 1,
   "metadata": {
    "slideshow": {
     "slide_type": "slide"
    }
   },
   "outputs": [
    {
     "name": "stdout",
     "output_type": "stream",
     "text": [
      "9\n",
      "Hello World\n",
      "\n",
      "\n"
     ]
    }
   ],
   "source": [
    "# This is a comment\n",
    "print((2+1)*3)\n",
    "print(\"Hello World\")\n",
    "# To improve the readability of generated output, we will often use print commands including \\n to start a new line.\n",
    "print('\\n')"
   ]
  },
  {
   "cell_type": "markdown",
   "metadata": {
    "slideshow": {
     "slide_type": "slide"
    }
   },
   "source": [
    "When you write long scripts it is convenient to use autocompletion sometimes instead of typing the same command repeatedly.\n",
    "Just press _tab_ after you have entered the first elements of the command to receive suggestions for autocompletion.\n",
    "\n",
    "When you want to know more about a command you can type `help(command)` (or simply google it)"
   ]
  },
  {
   "cell_type": "code",
   "execution_count": 2,
   "metadata": {
    "slideshow": {
     "slide_type": "slide"
    }
   },
   "outputs": [
    {
     "name": "stdout",
     "output_type": "stream",
     "text": [
      "Help on built-in function print in module builtins:\n",
      "\n",
      "print(...)\n",
      "    print(value, ..., sep=' ', end='\\n', file=sys.stdout, flush=False)\n",
      "    \n",
      "    Prints the values to a stream, or to sys.stdout by default.\n",
      "    Optional keyword arguments:\n",
      "    file:  a file-like object (stream); defaults to the current sys.stdout.\n",
      "    sep:   string inserted between values, default a space.\n",
      "    end:   string appended after the last value, default a newline.\n",
      "    flush: whether to forcibly flush the stream.\n",
      "\n"
     ]
    }
   ],
   "source": [
    "help(print)"
   ]
  },
  {
   "cell_type": "markdown",
   "metadata": {
    "slideshow": {
     "slide_type": "slide"
    }
   },
   "source": [
    "_Python_ can of course be used for simple tasks any basic calculator can do."
   ]
  },
  {
   "cell_type": "code",
   "execution_count": 3,
   "metadata": {
    "slideshow": {
     "slide_type": "slide"
    }
   },
   "outputs": [
    {
     "name": "stdout",
     "output_type": "stream",
     "text": [
      "result1: 2\n",
      "\n",
      "result2: 45\n",
      "\n",
      "result3: \n",
      "[2, 45]\n",
      "\n"
     ]
    }
   ],
   "source": [
    "result1 = 1 + 1\n",
    "print(f'result1: {result1}\\n')\n",
    "\n",
    "result2 = 5 * (4 - 1) ** 2\n",
    "print(f'result2: {result2}\\n')\n",
    "\n",
    "result3 = [result1, result2]\n",
    "print(f'result3: \\n{result3}\\n')\n",
    "\n",
    "# By using the function print (f' some text {variablename}') we can combine text we want to print out in combination with values of certain variables.\n",
    "#This gives clear and readable output.\n"
   ]
  },
  {
   "cell_type": "markdown",
   "metadata": {
    "slideshow": {
     "slide_type": "slide"
    }
   },
   "source": [
    "**Modules**\n",
    "\n",
    "- Modules are _Python_ files that contain functions and variables\n",
    "- You can access these modules and make use of their code to solve your problem.\n",
    "- The standard distribution of _Python_ already comes with a number of built-in modules.\n",
    "- To make use of their commands you have to import these modules first.\n",
    "- The script below demonstrates this with the `math` module.\n",
    "- All content of this module becomes available under the module name, or, as in this case, an alias object we labeled `someAlias`.\n",
    "- You can choose whatever name you want, but usually these aliases follow a naming convention.\n",
    "- After the import, functions and variables are accessed by the dot `(.)` syntax, which is related to the concept of object orientation described soon.\n",
    "\n"
   ]
  },
  {
   "cell_type": "code",
   "execution_count": 4,
   "metadata": {
    "slideshow": {
     "slide_type": "slide"
    }
   },
   "outputs": [
    {
     "name": "stdout",
     "output_type": "stream",
     "text": [
      "result1: 4.0\n",
      "\n",
      "Pi: 3.141592653589793\n",
      "\n",
      "Eulers number: 2.718281828459045\n",
      "\n"
     ]
    }
   ],
   "source": [
    "import math as someAlias\n",
    "\n",
    "result1 = someAlias.sqrt(16)\n",
    "print(f'result1: {result1}\\n')\n",
    "\n",
    "result2 = someAlias.pi\n",
    "print(f'Pi: {result2}\\n')\n",
    "\n",
    "result3 = someAlias.e\n",
    "print(f'Eulers number: {result3}\\n')"
   ]
  },
  {
   "cell_type": "markdown",
   "metadata": {
    "slideshow": {
     "slide_type": "slide"
    }
   },
   "source": [
    "- On top of the packages that come with the standard installation or Anaconda, there are countless packages available for download. If they meet certain quality criteria, they can be published on the official \"Python Package Index\" (PyPI) servers at https://pypi.org/.\n",
    "- Downloading and installing these packages is simple: Run your command line as explained before and type:\n",
    "`pip install modelname`\n",
    "- Here is a list of those we will use throughout this book with their official description:\n",
    "- `wooldridge`: \"Data sets from Introductory Econometrics: A Modern Approach (6th ed, J.M.Wooldridge).\"\n",
    "- `numpy`: \"NumPy is the fundamental package for array computing with Python.\"\n",
    "- `pandas`: \"Powerful data structures for data analysis, time series, and statistics.\"\n",
    "- `pandas_datareader`:\"Data readers extracted from the pandas codebase, should be compatible with recent pandas versions.\"\n",
    "- `statsmodels`: \"Statistical computations and models for Python.\"\n",
    "- `matplotlib`: \"Python plotting package.\"\n",
    "- `scipy`: \"SciPy: Scientific Library for Python.\"\n",
    "- `patsy`: \"A Python package for describing statistical models and for building design matrices.\"\n",
    "- `linearmodels`: \"Instrumental Variable and Linear Panel models for Python.\""
   ]
  },
  {
   "cell_type": "markdown",
   "metadata": {
    "slideshow": {
     "slide_type": "slide"
    }
   },
   "source": [
    "**File Names and the Working Directory**\n",
    "\n",
    "- There are several possibilities for _Python_ to interact with files.\n",
    "- The most important ones are to import or export a data file.\n",
    "- We might also want to save a generated figure as a graphics file or store regression tables as text, spreadsheet, or LaTeX files.\n",
    "- Whenever we provide Python with a file name, it can include the full path on the computer.\n",
    "- The full (i.e. “absolute”) path to a script file on a Mac or Linux system might be something like\n",
    "\n",
    "```python\n",
    "/Users/MyPyProject/MyScript.py\n",
    "``` \n",
    "- The path is provided for Unix based operating systems using forward slashes.\n",
    "- If you are a Windows user, you usually use back slashes instead of forward slashes, but the Unix-style will also work in _Python_. On a Windows system, a valid path would be\n",
    "\n",
    "```python\n",
    "C:/Users/MyUserName/Documents/MyPyProject/MyScript.py\n",
    "```\n",
    "\n",
    "- If we do not provide any path, _Python_ will use the current “working directory” for reading or writing files.\n",
    "- After importing the module `os`, it can be obtained by the command ```os. getcwd ()```. \n",
    "- To change the working directory, use the command `os.chdir(path)`. Relative paths, are interpreted relative to the current working directory.\n",
    "- For a neat file organization, best practice is to generate a directory for each project (say _MyPyProject_) with several sub-directories (say _PyScripts_, _data_, and _figures_). \n",
    "- At the beginning of our script, we can use `os.chdir (' /Users/MyPyProject')` and afterwards refer to a data set in the respective sub-directory as `data/MyData.csv` and to a graphics file as `figures/MyFigure.png`"
   ]
  },
  {
   "cell_type": "markdown",
   "metadata": {
    "slideshow": {
     "slide_type": "slide"
    }
   },
   "source": [
    "**Errors and Warnings**\n",
    "\n",
    "- Something you will experience very soon when starting to work with Python (or any other similar software package) is that you will make mistakes.\n",
    "- The main difference to learning to ride a bicycle is that when learning to use Python, mistakes will not hurt.\n",
    "- Another difference is that even people who have been using Python for years make mistakes all the time.\n",
    "- Many mistakes will cause Python to complain in the form of error messages or warnings.\n",
    "- An important part of learning Python is to roughly get an idea of what went wrong from these messages.\n",
    "- Here is a list of frequent error messages and warnings you might get:\n",
    "\n",
    "- __NameError: name 'x' is not defined__: We have tried to use a variable _x_ that isn’t defined (yet). Could also be due to a typo in the variable name.\n",
    "- __FileNotFoundError: [Errno 2] No such file or directory: 'data.csv'__: Python wasn’t able to open the file. Check the working directory, path, file name.\n",
    "- __ModuleNotFoundError: No module named 'xyz'__: We mistyped the module name. Or the required module is not installed on the computer. \n",
    "- There are countless other error messages and warnings you may encounter.\n",
    "- Some of them are easy to interpret, but others might require more investigative prowess.\n",
    "- Most often, however, you have to google the error :)"
   ]
  },
  {
   "cell_type": "markdown",
   "metadata": {
    "slideshow": {
     "slide_type": "slide"
    }
   },
   "source": [
    "<h2>Objects in Python"
   ]
  },
  {
   "cell_type": "markdown",
   "metadata": {
    "slideshow": {
     "slide_type": "slide"
    }
   },
   "source": [
    "- _Python_ can work with numbers, lists, arrays, texts, data sets, graphs, functions, and many more objects of different types.\n",
    "- We now introduce the most important ones for our purpose. \n",
    "- We will first introduce built-in objects that are available with the standard distribution of _Python_ and then cover objects included in the modules __numpy__ and __pandas__.\n",
    "\n",
    "**Variables**\n",
    "- We have already observed Python doing some basic arithmetic calculations. \n",
    "- Fundamental operators include __+, -, *, /__ for the respective arithmetic operations and parentheses __(<span>__ and __)<span>__ that work as expected.\n",
    "- We will often want to store results of calculations to reuse them later.\n",
    "- For this, we can assign any result to a variable.\n",
    "- A variable has a name and by this name you can access the assigned object.\n",
    "- We can freely choose the variable name given certain rules — they have to start with a (small or capital) letter and include only letters, numbers, and the underscore character “_”.\n",
    "- _Python_ is case sensitive, so __x<span>__ and __X<span>__ are different variables.\n",
    "- You already saw how variables are used to reference objects: The content of an object is assigned using __=__.\n",
    "- In order to assign the result of 1 + 1 to the variable __result1__, type __result1 = 1 + 1__.\n",
    "- A new object is created, which includes the value 2.\n",
    "- After assigning it to result1, we can use __result1__ in our calculations.\n",
    "- If there was a variable with this name before, its content is overwritten (!!!, so be careful!).\n",
    "- A list of all currently defined variable names is shown in the “Variable explorer” window in _Spyder_.\n",
    "- In Jupyter Notebook there i no pre-installed variable explorer but you can install one:\n",
    "    \n",
    "```python\n",
    "pip install jupyter_contrib_nbextensions\n",
    "jupyter contrib nbextension install --user\n",
    "jupyter nbextension enable varInspector/main\n",
    "```\n",
    "- Removing a previously defined variable (for example __x<span>__) from the workspace is done using __del x__.\n",
    "- Up to now, we assigned results of arithmetic operations to variables. In the next sections, we will introduce more complex types of objects like texts, arrays, lists, data sets, function definitions, and estimation results."
   ]
  },
  {
   "cell_type": "markdown",
   "metadata": {
    "slideshow": {
     "slide_type": "slide"
    }
   },
   "source": [
    "**Objects in Python**\n",
    "\n",
    "- What kind of objects have we dealt so far?\n",
    "- Figure it out by using the command __type__:\n",
    "- The command type tells us that we have created integers (__int__), floating point numbers (__float__) and text objects (__str__)."
   ]
  },
  {
   "cell_type": "code",
   "execution_count": 5,
   "metadata": {
    "slideshow": {
     "slide_type": "slide"
    }
   },
   "outputs": [
    {
     "name": "stdout",
     "output_type": "stream",
     "text": [
      "type_result1: <class 'int'>\n",
      "type_result2: <class 'float'>\n",
      "type_result3: <class 'str'>\n",
      "\n"
     ]
    }
   ],
   "source": [
    "result1 = 1 + 1\n",
    "# determine the type:\n",
    "type_result1 = type(result1)\n",
    "# print the result:\n",
    "print(f'type_result1: {type_result1}')\n",
    "\n",
    "result2 = 2.5\n",
    "type_result2 = type(result2)\n",
    "print(f'type_result2: {type_result2}')\n",
    "\n",
    "result3 = 'To be, or not to be: that is the question'\n",
    "type_result3 = type(result3)\n",
    "print(f'type_result3: {type_result3}\\n')"
   ]
  },
  {
   "cell_type": "markdown",
   "metadata": {
    "slideshow": {
     "slide_type": "slide"
    }
   },
   "source": [
    "- Scalar data types like int, float or str contain only one single value.\n",
    "- A Boolean value, also called logical value, is another scalar data type that will become useful if you want to execute code only if one or more conditions are met.\n",
    "- An object of type bool can only take one of two values:__True__ or __False__.\n",
    "- The easiest way to generate them is to state claims which are either true or false and let Python decide.\n",
    "- The main logical operators are :\n",
    "![](figs\\operators.png)\n",
    "\n",
    "- As we saw in previous examples, scalar types differ in what kind of data they can be used for:\n",
    " - __int__: whole numbers, for example __2<span>__ or __5<span>__\n",
    " - __float__: numbers with a decimal point, for example __2.0__ or __4.95__\n",
    " - __str__: any sequence of characters delimited by either single or double quotes, for example __'a b'__ or __\"a b c \"__\n",
    " - __bool__: either __True__ or __False__\n",
    "    \n",
    "![](figs\\data_types.png)"
   ]
  },
  {
   "cell_type": "markdown",
   "metadata": {
    "slideshow": {
     "slide_type": "slide"
    }
   },
   "source": [
    "- For statistical calculations, we obviously need to work with data sets including many numbers or texts instead of scalars.\n",
    "- The simplest way we can collect components (even components of different types) is called a __list__ in _Python_ terminology.\n",
    "- To define a list, we can collect different values using __[value1, value2, ...]__.\n",
    "- You can access a list entry by providing the position (starting at\n",
    "0) within square brackets next to the variable name referencing the list.\n",
    "- You can also access a range of values by using their start position i and end position j with the syntax __listname[i: (j+1) ]__.\n",
    "- There are two types of actions you can do with lists (or other objects): apply a function or a method.\n",
    "- For a __list__, use __[:]__ to create a copy."
   ]
  },
  {
   "cell_type": "code",
   "execution_count": 6,
   "metadata": {
    "scrolled": true,
    "slideshow": {
     "slide_type": "slide"
    }
   },
   "outputs": [
    {
     "name": "stdout",
     "output_type": "stream",
     "text": [
      "type(example_list): <class 'list'>\n",
      "\n",
      "first_entry: 1\n",
      "\n",
      "range2to4: [5, 41.3, 2.0]\n",
      "\n",
      "example_list: [1, 5, 3, 2.0]\n",
      "\n",
      "function_output: 1\n",
      "\n",
      "example_list: [1, 2.0, 3, 5]\n",
      "\n",
      "example_list: [1, 2.0, 5]\n",
      "\n"
     ]
    }
   ],
   "source": [
    "# define a list:\n",
    "example_list = [1, 5, 41.3, 2.0]\n",
    "print(f'type(example_list): {type(example_list)}\\n')\n",
    "\n",
    "# access first entry by index:\n",
    "first_entry = example_list[0]\n",
    "print(f'first_entry: {first_entry}\\n')\n",
    "\n",
    "# access second to fourth entry by index:\n",
    "range2to4 = example_list[1:4]\n",
    "print(f'range2to4: {range2to4}\\n')\n",
    "\n",
    "# replace third entry by new value:\n",
    "example_list[2] = 3\n",
    "print(f'example_list: {example_list}\\n')\n",
    "\n",
    "# apply a function:\n",
    "function_output = min(example_list)\n",
    "print(f'function_output: {function_output}\\n')\n",
    "\n",
    "# apply a method:\n",
    "example_list.sort()\n",
    "print(f'example_list: {example_list}\\n')\n",
    "\n",
    "# delete third element of sorted list:\n",
    "del example_list[2]\n",
    "print(f'example_list: {example_list}\\n')"
   ]
  },
  {
   "cell_type": "markdown",
   "metadata": {
    "slideshow": {
     "slide_type": "slide"
    }
   },
   "source": [
    "- A key characteristic of a __list__ is the order of included components.\n",
    "- This order allows you to access its components by a position.\n",
    "- Dictionaries (__dict__) are unordered sets of components.\n",
    "- You access components by their unique keys. "
   ]
  },
  {
   "cell_type": "code",
   "execution_count": 7,
   "metadata": {
    "slideshow": {
     "slide_type": "slide"
    }
   },
   "outputs": [
    {
     "name": "stdout",
     "output_type": "stream",
     "text": [
      "example_dict: \n",
      "{'name': ['Student1', 'Student2'], 'points': [96, 49], 'passed': [True, False]}\n",
      "\n",
      "example_dict2: \n",
      "{'name': ['Student1', 'Student2'], 'points': [96, 49], 'passed': [True, False]}\n",
      "\n",
      "type(example_dict): <class 'dict'>\n",
      "\n",
      "points_all: [96, 49]\n",
      "\n",
      "points_daniel: 49\n",
      "\n",
      "example_dict: \n",
      "{'name': ['Student1', 'Student2'], 'points': [96, 53], 'passed': [True, True]}\n",
      "\n",
      "example_dict: \n",
      "{'name': ['Student1', 'Student2'], 'passed': [True, True], 'grade': [1.3, 4.0]}\n",
      "\n"
     ]
    }
   ],
   "source": [
    "# define and print a dict:\n",
    "var1 = ['Student1', 'Student2']\n",
    "var2 = [96, 49]\n",
    "var3 = [True, False]\n",
    "example_dict = dict(name=var1, points=var2, passed=var3)\n",
    "print(f'example_dict: \\n{example_dict}\\n')\n",
    "\n",
    "# another way to define the dict:\n",
    "example_dict2 = {'name': var1, 'points': var2, 'passed': var3}\n",
    "print(f'example_dict2: \\n{example_dict2}\\n')\n",
    "\n",
    "# get data type:\n",
    "print(f'type(example_dict): {type(example_dict)}\\n')\n",
    "\n",
    "# access 'points':\n",
    "points_all = example_dict['points']\n",
    "print(f'points_all: {points_all}\\n')\n",
    "\n",
    "# access 'points' of Daniel:\n",
    "points_daniel = example_dict['points'][1]\n",
    "print(f'points_daniel: {points_daniel}\\n')\n",
    "\n",
    "# add 4 to 'points' of Daniel and let him pass:\n",
    "example_dict['points'][1] = example_dict['points'][1] + 4\n",
    "example_dict['passed'][1] = True\n",
    "print(f'example_dict: \\n{example_dict}\\n')\n",
    "\n",
    "# add a new variable 'grade':\n",
    "example_dict['grade'] = [1.3, 4.0]\n",
    "\n",
    "# delete variable 'points':\n",
    "del example_dict['points']\n",
    "print(f'example_dict: \\n{example_dict}\\n')"
   ]
  },
  {
   "cell_type": "markdown",
   "metadata": {
    "slideshow": {
     "slide_type": "slide"
    }
   },
   "source": [
    "**Objects in `numpy`**\n",
    "\n",
    "- It is standard to import the module under the alias __np__ when working with numpy, so the first line of code always is:"
   ]
  },
  {
   "cell_type": "code",
   "execution_count": 8,
   "metadata": {
    "slideshow": {
     "slide_type": "slide"
    }
   },
   "outputs": [],
   "source": [
    "import numpy as np"
   ]
  },
  {
   "cell_type": "markdown",
   "metadata": {
    "slideshow": {
     "slide_type": "slide"
    }
   },
   "source": [
    "- The most important data type in __numpy__ is the multidimensional array (__ndarry__).\n",
    "- We will first introduce the definition of this data type as well as the basics of accessing and manipulating arrays.\n",
    "- Second, we will demonstrate functions and methods that become useful when working on econometric problems.\n",
    "- To create a simple array, provide a list to the function __np.array__.\n",
    "- You can also create a twodimensional array by providing multiple lists within square brackets.\n",
    "- Instead of a two-dimensional array, we will often call this data type a matrix.\n",
    "- Matrices are important tools for econometric analyses.\n",
    "- The syntax for defining a numpy array is:"
   ]
  },
  {
   "cell_type": "markdown",
   "metadata": {
    "slideshow": {
     "slide_type": "slide"
    }
   },
   "source": [
    "```python\n",
    "testarray1D = np.array( list )\n",
    "```\n",
    "```python\n",
    "testarray2D = np.array( [ list1, list2, list3 ] )\n",
    "```"
   ]
  },
  {
   "cell_type": "markdown",
   "metadata": {
    "slideshow": {
     "slide_type": "slide"
    }
   },
   "source": [
    "- Within a provided list, the __numpy__ array requires a homogeneous data type.\n",
    "- If you enter lists including elements of different type, numpy will convert them to a homogeneous data type (for example, __np.array( ['a', 2] )__, becomes an array of strings).\n",
    "- Indexing one-dimensional arrays is similar to the procedure with the data type __list__.\n",
    "- Two-dimensional arrays are accessed by two comma separated values within the square brackets.\n",
    "- The first number gives the row, the second number gives the column (starting at 0 for the first row or column).\n",
    "- Just as with a __list__, accessing ranges of values with “:” excludes the upper limit.\n",
    "- There are a lot more possibilities as shown for instance below:"
   ]
  },
  {
   "cell_type": "code",
   "execution_count": 9,
   "metadata": {
    "slideshow": {
     "slide_type": "slide"
    }
   },
   "outputs": [
    {
     "name": "stdout",
     "output_type": "stream",
     "text": [
      "type(testarray1D): <class 'numpy.ndarray'>\n",
      "\n",
      "dim: (3, 4)\n",
      "\n",
      "third_elem: 41.3\n",
      "\n",
      "second_third_elem: 3\n",
      "\n",
      "second_to_third_col: \n",
      "[[9 8]\n",
      " [6 3]\n",
      " [1 7]]\n",
      "\n",
      "first_third_elem: [ 1.  41.3]\n",
      "\n",
      "first_third_elem2: [ 1.  41.3]\n",
      "\n",
      "elem_by_index: [4 3 1 7]\n",
      "\n"
     ]
    }
   ],
   "source": [
    "import numpy as np\n",
    "\n",
    "# define arrays in numpy:\n",
    "testarray1D = np.array([1, 5, 41.3, 2.0])\n",
    "print(f'type(testarray1D): {type(testarray1D)}\\n')\n",
    "\n",
    "testarray2D = np.array([[4, 9, 8, 3],\n",
    "                        [2, 6, 3, 2],\n",
    "                        [1, 1, 7, 4]])\n",
    "\n",
    "# get dimensions of testarray2D:\n",
    "dim = testarray2D.shape\n",
    "print(f'dim: {dim}\\n')\n",
    "\n",
    "# access elements by indices:\n",
    "third_elem = testarray1D[2]\n",
    "print(f'third_elem: {third_elem}\\n')\n",
    "\n",
    "second_third_elem = testarray2D[1, 2]  # element in 2nd row and 3rd column\n",
    "print(f'second_third_elem: {second_third_elem}\\n')\n",
    "\n",
    "second_to_third_col = testarray2D[:, 1:3]  # each row in the 2nd and 3rd column\n",
    "print(f'second_to_third_col: \\n{second_to_third_col}\\n')\n",
    "\n",
    "# access elements by lists:\n",
    "first_third_elem = testarray1D[[0, 2]]\n",
    "print(f'first_third_elem: {first_third_elem}\\n')\n",
    "\n",
    "# same with Boolean lists:\n",
    "first_third_elem2 = testarray1D[[True, False, True, False]]\n",
    "print(f'first_third_elem2: {first_third_elem2}\\n')\n",
    "\n",
    "k = np.array([[True, False, False, False],\n",
    "              [False, False, True, False],\n",
    "              [True, False, True, False]])\n",
    "elem_by_index = testarray2D[k]  # 1st elem in 1st row, 3rd elem in 2nd row...\n",
    "print(f'elem_by_index: {elem_by_index}\\n')"
   ]
  },
  {
   "cell_type": "markdown",
   "metadata": {
    "slideshow": {
     "slide_type": "slide"
    }
   },
   "source": [
    "__numpy__ has also some predefined and useful special cases of one and two-dimensional arrays:"
   ]
  },
  {
   "cell_type": "code",
   "execution_count": 10,
   "metadata": {
    "slideshow": {
     "slide_type": "slide"
    }
   },
   "outputs": [
    {
     "name": "stdout",
     "output_type": "stream",
     "text": [
      "sequence: \n",
      "[0.  0.2 0.4 0.6 0.8 1.  1.2 1.4 1.6 1.8 2. ]\n",
      "\n",
      "sequence_int: \n",
      "[0 1 2 3 4]\n",
      "\n",
      "zero_array: \n",
      "[[0. 0. 0.]\n",
      " [0. 0. 0.]\n",
      " [0. 0. 0.]\n",
      " [0. 0. 0.]]\n",
      "\n",
      "one_array: \n",
      "[[1. 1. 1. 1. 1.]\n",
      " [1. 1. 1. 1. 1.]]\n",
      "\n",
      "empty_array: \n",
      "[[0. 0. 0.]\n",
      " [0. 0. 0.]]\n",
      "\n"
     ]
    }
   ],
   "source": [
    "import numpy as np\n",
    "\n",
    "# array of integers defined by the arguments start, end and sequence length:\n",
    "sequence = np.linspace(0, 2, num=11)\n",
    "print(f'sequence: \\n{sequence}\\n')\n",
    "\n",
    "# sequence of integers starting at 0, ending at 5-1:\n",
    "sequence_int = np.arange(5)\n",
    "print(f'sequence_int: \\n{sequence_int}\\n')\n",
    "\n",
    "# initialize array with each element set to zero:\n",
    "zero_array = np.zeros((4, 3))\n",
    "print(f'zero_array: \\n{zero_array}\\n')\n",
    "\n",
    "# initialize array with each element set to one:\n",
    "one_array = np.ones((2, 5))\n",
    "print(f'one_array: \\n{one_array}\\n')\n",
    "\n",
    "# uninitialized array (filled with arbitrary nonsense elements):\n",
    "empty_array = np.empty((2, 3))\n",
    "print(f'empty_array: \\n{empty_array}\\n')"
   ]
  },
  {
   "cell_type": "markdown",
   "metadata": {
    "slideshow": {
     "slide_type": "slide"
    }
   },
   "source": [
    "Some of the most important __numpy__ methods and functions:"
   ]
  },
  {
   "cell_type": "markdown",
   "metadata": {
    "slideshow": {
     "slide_type": "slide"
    }
   },
   "source": [
    "![](figs\\numpy_functions.png)"
   ]
  },
  {
   "cell_type": "markdown",
   "metadata": {
    "slideshow": {
     "slide_type": "slide"
    }
   },
   "source": [
    "- Methods on an object referenced by x are invoked by using the `x. somemethod()` syntax discussed above.\n",
    "- Some examples:."
   ]
  },
  {
   "cell_type": "code",
   "execution_count": 11,
   "metadata": {
    "slideshow": {
     "slide_type": "slide"
    }
   },
   "outputs": [
    {
     "name": "stdout",
     "output_type": "stream",
     "text": [
      "result1: \n",
      "[[5.45981500e+01 8.10308393e+03 2.98095799e+03]\n",
      " [7.38905610e+00 4.03428793e+02 2.00855369e+01]]\n",
      "\n",
      "result2: \n",
      "[[ 5 14 10]\n",
      " [ 8 12  3]]\n",
      "\n",
      "mat1_tr: \n",
      "[[4 2]\n",
      " [9 6]\n",
      " [8 3]]\n",
      "\n",
      "matprod: \n",
      "[[ 90 138  32]\n",
      " [ 50  70  13]]\n",
      "\n"
     ]
    }
   ],
   "source": [
    "import numpy as np\n",
    "\n",
    "# define an arrays in numpy:\n",
    "mat1 = np.array([[4, 9, 8],\n",
    "                 [2, 6, 3]])\n",
    "mat2 = np.array([[1, 5, 2],\n",
    "                 [6, 6, 0],\n",
    "                 [4, 8, 3]])\n",
    "\n",
    "# use a numpy function:\n",
    "result1 = np.exp(mat1)\n",
    "print(f'result1: \\n{result1}\\n')\n",
    "\n",
    "result2 = mat1 + mat2[[0, 1]]  # same as np.add(mat1, mat2[[0, 1]])\n",
    "print(f'result2: \\n{result2}\\n')\n",
    "\n",
    "# use a method:\n",
    "mat1_tr = mat1.transpose()\n",
    "print(f'mat1_tr: \\n{mat1_tr}\\n')\n",
    "\n",
    "# matrix algebra:\n",
    "matprod = mat1.dot(mat2)  # same as  mat1 @ mat2\n",
    "print(f'matprod: \\n{matprod}\\n')"
   ]
  },
  {
   "cell_type": "markdown",
   "metadata": {
    "slideshow": {
     "slide_type": "slide"
    }
   },
   "source": [
    "**Objects in `pandas`**\n",
    "\n",
    "- The module __pandas__ builds on top of data types introduced in previous sections and allows us to work with something we will encounter almost every time we discuss an econometric application: a data frame.\n",
    "- A data frame is a structure that collects several variables and can be thought of as a rectangular shape with the rows representing the observational units and the columns representing the variables.\n",
    "- A data frame can contain variables of different data types (for example a numerical __list__, a one-dimensional __ndarray, str__ and so on).\n",
    "- Before you start working with __pandas__, make sure that it is installed.\n",
    "- The standard alias of this module is __pd__, so when working with __pandas__, the first line of code always is:"
   ]
  },
  {
   "cell_type": "code",
   "execution_count": 12,
   "metadata": {
    "slideshow": {
     "slide_type": "slide"
    }
   },
   "outputs": [],
   "source": [
    "import pandas as pd"
   ]
  },
  {
   "cell_type": "markdown",
   "metadata": {
    "slideshow": {
     "slide_type": "slide"
    }
   },
   "source": [
    "- The most important data type in __pandas__ is __DataFrame__, which we will often simply refer to as “data frame”.\n",
    "- One strength of __pandas__ is the existence of a whole set of operations that work on the index of a __DataFrame__.\n",
    "- The index contains information on the observational unit, like the person answering a questionnaire or the date of a stock price you want to work with.\n",
    "- The script below shows the definition of a variable with data type __DataFrame__ by providing a __dict__ to the function __pd.DataFrame__.\n",
    "- The definition of an index, in this example a date with monthly frequency __(freq='M')__, is also demonstrated.\n",
    "- Accessing elements of a variable __df__ referencing an object of data type __DataFrame__ can be done in multiple ways:\n",
    "\n",
    " - Access columns/ variables by name: __df['varname1']__ or __df[['varname1', 'varname2',...]]__\n",
    " - Access rows/ observations by integer positions i to j: __df[i: (j+1)]__ (also works with the index names of __df__)\n",
    " - Access variables and observations by names: __df.loc['rowname', 'colname']__\n",
    " - Access variables and observations by row and column integer positions __i<span>__ and __j<span>__: __df.iloc[i, 3]__\n",
    " \n",
    "- If you define a DataFrame by a combination of several DataFrames, they are automatically matched by their indices."
   ]
  },
  {
   "cell_type": "code",
   "execution_count": 13,
   "metadata": {
    "slideshow": {
     "slide_type": "slide"
    }
   },
   "outputs": [
    {
     "name": "stdout",
     "output_type": "stream",
     "text": [
      "df: \n",
      "            icecream_sales  weather_coded  customers\n",
      "2010-04-30              30              0       2000\n",
      "2010-05-31              40              1       2100\n",
      "2010-06-30              35              0       1500\n",
      "2010-07-31             130              1       8000\n",
      "2010-08-31             120              1       7200\n",
      "2010-09-30              60              0       2000\n",
      "\n",
      "subset1: \n",
      "            icecream_sales  customers\n",
      "2010-04-30              30       2000\n",
      "2010-05-31              40       2100\n",
      "2010-06-30              35       1500\n",
      "2010-07-31             130       8000\n",
      "2010-08-31             120       7200\n",
      "2010-09-30              60       2000\n",
      "\n",
      "subset2: \n",
      "            icecream_sales  weather_coded  customers\n",
      "2010-05-31              40              1       2100\n",
      "2010-06-30              35              0       1500\n",
      "2010-07-31             130              1       8000\n",
      "\n",
      "subset3: \n",
      "2100\n",
      "\n",
      "subset4: \n",
      "            icecream_sales  weather_coded\n",
      "2010-05-31              40              1\n",
      "2010-06-30              35              0\n",
      "2010-07-31             130              1\n",
      "\n"
     ]
    }
   ],
   "source": [
    "import numpy as np\n",
    "import pandas as pd\n",
    "\n",
    "# define a pandas DataFrame:\n",
    "ice = np.array([30, 40, 35, 130, 120, 60])\n",
    "weath = np.array([0, 1, 0, 1, 1, 0])\n",
    "cust = np.array([2000, 2100, 1500, 8000, 7200, 2000])\n",
    "df = pd.DataFrame({'icecream_sales': ice,\n",
    "                   'weather_coded': weath,\n",
    "                   'customers': cust})\n",
    "\n",
    "# define and assign an index (six ends of month starting in April, 2010)\n",
    "# (details on generating indices are given in Chapter 10):\n",
    "ourIndex = pd.date_range(start='04/2010', freq='M', periods=6)\n",
    "df.set_index(ourIndex, inplace=True)\n",
    "\n",
    "# print the DataFrame\n",
    "print(f'df: \\n{df}\\n')\n",
    "\n",
    "# access columns by variable names:\n",
    "subset1 = df[['icecream_sales', 'customers']]\n",
    "print(f'subset1: \\n{subset1}\\n')\n",
    "\n",
    "# access second to fourth row:\n",
    "subset2 = df[1:4]  # same as df['2010-05-31':'2010-07-31']\n",
    "print(f'subset2: \\n{subset2}\\n')\n",
    "\n",
    "# access rows and columns by index and variable names:\n",
    "subset3 = df.loc['2010-05-31', 'customers']  # same as df.iloc[1,2]\n",
    "print(f'subset3: \\n{subset3}\\n')\n",
    "\n",
    "# access rows and columns by index and variable integer positions:\n",
    "subset4 = df.iloc[1:4, 0:2]\n",
    "# same as df.loc['2010-05-31':'2010-07-31', ['icecream_sales','weather']]\n",
    "print(f'subset4: \\n{subset4}\\n')"
   ]
  },
  {
   "cell_type": "markdown",
   "metadata": {
    "slideshow": {
     "slide_type": "slide"
    }
   },
   "source": [
    "Some important __panda__ methods and functions:"
   ]
  },
  {
   "cell_type": "markdown",
   "metadata": {
    "slideshow": {
     "slide_type": "slide"
    }
   },
   "source": [
    "![](figs\\panda_methods.png)"
   ]
  },
  {
   "cell_type": "markdown",
   "metadata": {
    "slideshow": {
     "slide_type": "slide"
    }
   },
   "source": [
    "- Many economic variables of interest have a qualitative rather than quantitative interpretation.\n",
    "- They only take a finite set of values and the outcomes don’t necessarily have a numerical meaning.\n",
    "- Instead, they represent __qualitative__ information. Examples include gender, academic major, grade, marital status, state, product type or brand.\n",
    "- In some of these examples, the order of the outcomes has a natural interpretation (such as the grades), in others, it does not (such as the state).\n",
    "- As a specific example, suppose we have asked our customers to rate our product on a scale between 0 (=“bad”), 1 (=“okay”), and 2 (=“good”).\n",
    "- We have stored the answers of our ten respondents in terms of the numbers 0,1, and 2 in a list.\n",
    "- We could work directly with these numbers, but often, it is convenient to use so-called data type __Categorical__.\n",
    "- One advantage is that we can attach labels to the outcomes.\n",
    "- We extend a modified example in Script 1.13 (Pandas-Operations.py), where the variable __weather__ is coded and demonstrate how to assign meaningful labels.\n",
    "- The example also includes some of the mentioned methods, i.e. lag variables and calling methods on subgroups of the data frame.\n",
    "- The comments explain the effect of the respective action:"
   ]
  },
  {
   "cell_type": "code",
   "execution_count": 14,
   "metadata": {
    "slideshow": {
     "slide_type": "slide"
    }
   },
   "outputs": [
    {
     "name": "stdout",
     "output_type": "stream",
     "text": [
      "df: \n",
      "            icecream_sales  weather_coded  customers  icecream_sales_lag2\n",
      "2010-04-30              30              0       2000                  NaN\n",
      "2010-05-31              40              1       2100                  NaN\n",
      "2010-06-30              35              0       1500                 30.0\n",
      "2010-07-31             130              1       8000                 40.0\n",
      "2010-08-31             120              1       7200                 35.0\n",
      "2010-09-30              60              0       2000                130.0\n",
      "\n",
      "df: \n",
      "            icecream_sales  weather_coded  customers  icecream_sales_lag2  \\\n",
      "2010-04-30              30              0       2000                  NaN   \n",
      "2010-05-31              40              1       2100                  NaN   \n",
      "2010-06-30              35              0       1500                 30.0   \n",
      "2010-07-31             130              1       8000                 40.0   \n",
      "2010-08-31             120              1       7200                 35.0   \n",
      "2010-09-30              60              0       2000                130.0   \n",
      "\n",
      "           weather  \n",
      "2010-04-30     bad  \n",
      "2010-05-31    good  \n",
      "2010-06-30     bad  \n",
      "2010-07-31    good  \n",
      "2010-08-31    good  \n",
      "2010-09-30     bad  \n",
      "\n",
      "group_means: \n",
      "         icecream_sales  weather_coded    customers  icecream_sales_lag2\n",
      "weather                                                                 \n",
      "bad           41.666667            0.0  1833.333333                 80.0\n",
      "good          96.666667            1.0  5766.666667                 37.5\n",
      "\n"
     ]
    }
   ],
   "source": [
    "import numpy as np\n",
    "import pandas as pd\n",
    "\n",
    "# define a pandas DataFrame:\n",
    "icecream_sales = np.array([30, 40, 35, 130, 120, 60])\n",
    "weather_coded = np.array([0, 1, 0, 1, 1, 0])\n",
    "customers = np.array([2000, 2100, 1500, 8000, 7200, 2000])\n",
    "df = pd.DataFrame({'icecream_sales': icecream_sales,\n",
    "                   'weather_coded': weather_coded,\n",
    "                   'customers': customers})\n",
    "\n",
    "# define and assign an index (six ends of month starting in April, 2010):\n",
    "#(note that an index is already there which is a simple count of rows)\n",
    "ourIndex = pd.date_range(start='04/2010', freq='M', periods=6)\n",
    "df.set_index(ourIndex, inplace=True)\n",
    "\n",
    "# include sales two months ago:\n",
    "df['icecream_sales_lag2'] = df['icecream_sales'].shift(2)\n",
    "print(f'df: \\n{df}\\n')\n",
    "\n",
    "# use a pandas.Categorical object to attach labels (0 = bad; 1 = good):\n",
    "df['weather'] = pd.Categorical.from_codes(codes=df['weather_coded'],\n",
    "                                          categories=['bad', 'good'])\n",
    "print(f'df: \\n{df}\\n')\n",
    "\n",
    "# mean sales for each weather category:\n",
    "group_means = df.groupby('weather').mean()\n",
    "print(f'group_means: \\n{group_means}\\n')"
   ]
  },
  {
   "cell_type": "markdown",
   "metadata": {
    "slideshow": {
     "slide_type": "slide"
    }
   },
   "source": [
    "<h2>External Data"
   ]
  },
  {
   "cell_type": "markdown",
   "metadata": {
    "slideshow": {
     "slide_type": "slide"
    }
   },
   "source": [
    "- We entered all of our data manually in the script files.\n",
    "- This is a very untypical way of getting data into our computer and we will introduce more useful alternatives.\n",
    "- These are based on the fact that many data sets are already stored somewhere else in data formats that _Python_ can handle.\n",
    "- We will reproduce many of the examples from Wooldridge (2019).\n",
    "- The companion web site of the textbook provides the sample data sets in different formats.\n",
    "- If you have an access code that came with the textbook, they can be downloaded free of charge.\n",
    "- The Stata data sets are also made available online at the “Instructional Stata Datasets for econometrics” collection from Boston College, maintained by Christopher F. Baum (https: //econpapers.repec.org/paper/bocbocins/).\n",
    "- Fortunately, we do not have to download each data set manually and import them by the functions discussed earlier.\n",
    "- Instead, we can use the external module __wooldridge__.\n",
    "- It is not part of the _Anaconda_ distribution and you have to install __wooldridge__ manually \n",
    "- You know how to this already\n",
    "- When working with __wooldridge__, the first line of code always is:\n",
    "\n",
    "```python\n",
    "import wooldridge as woo\n",
    "```"
   ]
  },
  {
   "cell_type": "code",
   "execution_count": 15,
   "metadata": {
    "slideshow": {
     "slide_type": "slide"
    }
   },
   "outputs": [
    {
     "name": "stdout",
     "output_type": "stream",
     "text": [
      "type(wage1): \n",
      "<class 'pandas.core.frame.DataFrame'>\n",
      "\n",
      "wage1.head(): \n",
      "   wage  educ  exper  tenure  nonwhite  female  married  numdep  smsa  \\\n",
      "0  3.10    11      2       0         0       1        0       2     1   \n",
      "1  3.24    12     22       2         0       1        1       3     1   \n",
      "2  3.00    11      2       0         0       0        0       2     0   \n",
      "3  6.00     8     44      28         0       0        1       0     1   \n",
      "4  5.30    12      7       2         0       0        1       1     0   \n",
      "\n",
      "   northcen   ...     trcommpu  trade  services  profserv  profocc  clerocc  \\\n",
      "0         0   ...            0      0         0         0        0        0   \n",
      "1         0   ...            0      0         1         0        0        0   \n",
      "2         0   ...            0      1         0         0        0        0   \n",
      "3         0   ...            0      0         0         0        0        1   \n",
      "4         0   ...            0      0         0         0        0        0   \n",
      "\n",
      "   servocc     lwage  expersq  tenursq  \n",
      "0        0  1.131402        4        0  \n",
      "1        1  1.175573      484        4  \n",
      "2        0  1.098612        4        0  \n",
      "3        0  1.791759     1936      784  \n",
      "4        0  1.667707       49        4  \n",
      "\n",
      "[5 rows x 24 columns]\n",
      "\n"
     ]
    }
   ],
   "source": [
    "import wooldridge as woo\n",
    "import pandas as pd\n",
    "\n",
    "# load data:\n",
    "wage1 = woo.dataWoo('wage1')\n",
    "\n",
    "# get type:\n",
    "print(f'type(wage1): \\n{type(wage1)}\\n')\n",
    "\n",
    "# get an overview:\n",
    "print(f'wage1.head(): \\n{wage1.head()}\\n')\n",
    "\n",
    "\n",
    "#pd.options.display.max_columns=None #or the number of columns you want to see instead of 'none'\n",
    "#print(f'wage1.head() - all columns: \\n{wage1.head()}\\n')"
   ]
  },
  {
   "cell_type": "markdown",
   "metadata": {
    "slideshow": {
     "slide_type": "slide"
    }
   },
   "source": [
    "**Import and Export of Data Files**\n",
    "\n",
    "- Probably all software packages that handle data are capable of working with data stored as text files.\n",
    "- This makes them a natural way to exchange data between different programs and users. \n",
    "- Common file name extensions for such data files are RAW, CSV or TXT.\n",
    "- Most statistics and spreadsheet programs come with their own file format to save and load data.\n",
    "- While it is basically always possible to exchange data via text files, it might be convenient to be able to directly read or write data in the native format of some other software.\n",
    "- Fortunately, the pandas toolbox provides the possibility for importing and exporting data from/to text files and many programs.\n",
    "- This includes, for example,\n",
    " - Text file (TXT) with __read_table__ and __to_table__,\n",
    " - CSV (CSV) with __read_csv__ and __to_csv__,\n",
    " - MS Excel (XLS and XLSX) with __read_excel__ and __to_excel__,\n",
    " - Stata (DTA) with __read_stata__ and __to_stata__,\n",
    " - SAS (XPORT and SSD) with __read_sas__ and __to_sas__.\n",
    "- The figure below shows two flavors of a raw text file containing the same data. "
   ]
  },
  {
   "cell_type": "markdown",
   "metadata": {
    "slideshow": {
     "slide_type": "slide"
    }
   },
   "source": [
    "![](figs\\text_data.png)\n",
    "\n",
    "- The file sales.txt contains a header with the variable names.\n",
    "- In file sales.csv, the columns are separated by a comma.\n",
    "- Text files for storing data come in different flavors, mainly differing in how the columns of the table are separated.\n",
    "- The pandas commands `read_table` and `read_csv` provides possibilities for reading many flavors of text files which are then stored as a `DataFrame`.\n",
    "- The script below demonstrates the import and export of the files shown in the above table.\n",
    "- In this example, data files are stored in and exported to the folder data."
   ]
  },
  {
   "cell_type": "code",
   "execution_count": 16,
   "metadata": {
    "slideshow": {
     "slide_type": "slide"
    }
   },
   "outputs": [
    {
     "name": "stdout",
     "output_type": "stream",
     "text": [
      "df1: \n",
      "   year  product1  product2  product3\n",
      "0  2008         0         1         2\n",
      "1  2009         3         2         4\n",
      "2  2010         6         3         4\n",
      "3  2011         9         5         2\n",
      "4  2012         7         9         3\n",
      "5  2013         8         6         2\n",
      "\n",
      "df2: \n",
      "   year  product1  product2  product3\n",
      "0  2008         0         1         2\n",
      "1  2009         3         2         4\n",
      "2  2010         6         3         4\n",
      "3  2011         9         5         2\n",
      "4  2012         7         9         3\n",
      "5  2013         8         6         2\n",
      "\n",
      "df3: \n",
      "   year  product1  product2  product3\n",
      "0  2008         0         1         2\n",
      "1  2009         3         2         4\n",
      "2  2010         6         3         4\n",
      "3  2011         9         5         2\n",
      "4  2012         7         9         3\n",
      "5  2013         8         6         2\n",
      "6  2014        10         8         2\n",
      "\n"
     ]
    }
   ],
   "source": [
    "import pandas as pd\n",
    "\n",
    "# import csv with pandas:\n",
    "df1 = pd.read_csv('data/sales.csv', delimiter=',', header=None,\n",
    "                  names=['year', 'product1', 'product2', 'product3'])\n",
    "print(f'df1: \\n{df1}\\n')\n",
    "\n",
    "# import txt with pandas:\n",
    "df2 = pd.read_table('data/sales.txt', delimiter=' ')\n",
    "print(f'df2: \\n{df2}\\n')\n",
    "\n",
    "# add a row to df1:\n",
    "df3 = df1.append({'year': 2014, 'product1': 10, 'product2': 8, 'product3': 2},\n",
    "                 ignore_index=True)\n",
    "print(f'df3: \\n{df3}\\n')\n",
    "\n",
    "# export with pandas:\n",
    "df3.to_csv('data/sales2.csv')"
   ]
  },
  {
   "cell_type": "markdown",
   "metadata": {
    "slideshow": {
     "slide_type": "slide"
    }
   },
   "source": [
    "You can also use conditions to build sub-dataframes:"
   ]
  },
  {
   "cell_type": "code",
   "execution_count": 17,
   "metadata": {
    "slideshow": {
     "slide_type": "slide"
    }
   },
   "outputs": [
    {
     "name": "stdout",
     "output_type": "stream",
     "text": [
      " 2008: \n",
      "   year  product1  product2  product3\n",
      "0  2008         0         1         2\n",
      "\n",
      " larger: \n",
      "   year  product1  product2  product3\n",
      "2  2010         6         3         4\n",
      "3  2011         9         5         2\n",
      "4  2012         7         9         3\n",
      "5  2013         8         6         2\n",
      "\n",
      "and: \n",
      "   year  product1  product2  product3\n",
      "3  2011         9         5         2\n",
      "5  2013         8         6         2 \n",
      "\n"
     ]
    }
   ],
   "source": [
    "import pandas as pd\n",
    "\n",
    "# import csv with pandas:\n",
    "df1 = pd.read_csv('data/sales.csv', delimiter=',', header=None,\n",
    "                  names=['year', 'product1', 'product2', 'product3'])\n",
    "\n",
    "df1_2008=df1[df1['year']==2008]\n",
    "print(f' 2008: \\n{df1_2008.head()}\\n')\n",
    "\n",
    "df1_larger=df1[df1['product1']>3]\n",
    "print(f' larger: \\n{df1_larger.head()}\\n')\n",
    "\n",
    "df1_and=df1[(df1['product1']>3) & (df1['product3']==2)]\n",
    "print(f'and: \\n{df1_and.head()} \\n')"
   ]
  },
  {
   "cell_type": "markdown",
   "metadata": {
    "slideshow": {
     "slide_type": "slide"
    }
   },
   "source": [
    "- The command __read_csv__ includes many optional arguments that can be added.\n",
    "- Many of these arguments are detected automatically by __pandas__, but you can also specify them explicitly.\n",
    "- The most important arguments are:\n",
    " * __header__: Integer specifying the row that includes the variable names. Can also be __None__.\n",
    " * __sep__: Often columns are separated by a comma, i.e. __sep=','__ (default). Instead, an arbitrary other character can be given. __sep=';'__ might be another  relevant example of a separator.\n",
    " * __names__: If no header is specified, you can provide a __list__ of variable names.\n",
    " * __index_col__: The values in column __index_col__ are used as an index."
   ]
  },
  {
   "cell_type": "markdown",
   "metadata": {
    "slideshow": {
     "slide_type": "slide"
    }
   },
   "source": [
    "## Base Graphics with `matplotlib`"
   ]
  },
  {
   "cell_type": "markdown",
   "metadata": {
    "slideshow": {
     "slide_type": "slide"
    }
   },
   "source": [
    "- The module __matplotlib__ is a popular and versatile tool for producing all kinds of graphs in _Python_.\n",
    "- We now discuss the overall base approach for producing graphs and the most important general types of graphs.\n",
    "- We will only scratch the surface of __matplotlib__, but you will see most of the graph producing commands relevant for this class.\n",
    "- Some specific graphs used for descriptive statistics will be introduced in in the next section.\n",
    "- It is included in the Anaconda distribution and otherwise you can install __matplotlib__ directly.\n",
    "- When working with __matplotlib__, the first line of code always is:\n",
    "\n",
    "```python\n",
    "import matplotlib.pyplot as plt\n",
    "```"
   ]
  },
  {
   "cell_type": "markdown",
   "metadata": {
    "slideshow": {
     "slide_type": "slide"
    }
   },
   "source": [
    "**Basic Graphs**\n",
    "\n",
    "- One very general type is a two-way graph with an abscissa and an ordinate that typically represent two variables like __x<span>__ and __y<span>__.\n",
    "- If we have data in two lists __x<span>__ and __y<span>__, we can easily generate scatter plots, line plots or similar two-way graphs.\n",
    "- The command __plot__ is capable of these types of graphs and we will see some\n",
    "of the more specialized uses later on.\n",
    "- Graphs are displayed in a separate Python window.\n",
    "- The last two lines export the created plot as a PDF file to the folder `graphs` (if this folder exists, otherwise you have to create it first) and reset the plot to create a completely new one."
   ]
  },
  {
   "cell_type": "code",
   "execution_count": 18,
   "metadata": {
    "slideshow": {
     "slide_type": "slide"
    }
   },
   "outputs": [],
   "source": [
    "import matplotlib.pyplot as plt\n",
    "\n",
    "# create data:\n",
    "x = [1, 3, 4, 7, 8, 9]\n",
    "y = [0, 3, 6, 9, 7, 8]\n",
    "\n",
    "# plot and save:\n",
    "plt.plot(x, y, color='black')\n",
    "plt.savefig('graphs/graphs-basics-a.pdf')\n",
    "#plt.close()"
   ]
  },
  {
   "cell_type": "markdown",
   "metadata": {
    "slideshow": {
     "slide_type": "slide"
    }
   },
   "source": [
    "- Two important arguments of the __plot__ command are __linestyle__ and __marker__.\n",
    "- The argument __linestyle__ takes the values __'—'__ (the default), __'--'__, __':'__, and many more.\n",
    "- The argument marker is empty by default, and can take __'o'__, __'v’__, and many more."
   ]
  },
  {
   "cell_type": "code",
   "execution_count": 19,
   "metadata": {
    "slideshow": {
     "slide_type": "slide"
    }
   },
   "outputs": [
    {
     "data": {
      "text/plain": [
       "[<matplotlib.lines.Line2D at 0x29e78912550>]"
      ]
     },
     "execution_count": 19,
     "metadata": {},
     "output_type": "execute_result"
    },
    {
     "data": {
      "image/png": "[encoded data removed]",
      "text/plain": [
       "<Figure size 432x288 with 1 Axes>"
      ]
     },
     "metadata": {
      "needs_background": "light"
     },
     "output_type": "display_data"
    }
   ],
   "source": [
    "import matplotlib.pyplot as plt\n",
    "\n",
    "# create data:\n",
    "x = [1, 3, 4, 7, 8, 9]\n",
    "y = [0, 3, 6, 9, 7, 8]\n",
    "\n",
    "# plot and save:\n",
    "plt.plot(x, y, color='black', linestyle='--')\n",
    "#plt.plot(x, y, color='black', linestyle=':')\n",
    "#plt.plot(x, y, color='black', linestyle='-', linewidth=3)\n",
    "#plt.plot(x, y, color='black', marker='o')\n",
    "#plt.plot(x, y, color='black', marker='v', linestyle='')\n"
   ]
  },
  {
   "cell_type": "markdown",
   "metadata": {
    "slideshow": {
     "slide_type": "slide"
    }
   },
   "source": [
    "- The plot command can be used to create a function plot, i.e. function values y = f(x) are plotted against x.\n",
    "- To plot a smooth function, the first step is to generate a fine grid of x values. \n",
    "- In the example below we choose __linspace__ from __numpy__ and control the number of __x<span>__ values with __num__.\n",
    "- The following plotting of the function works exactly as in the previous example.\n",
    "- We choose the quadratic function plotted in Figure (a) and the standard normal density in Figure (b)."
   ]
  },
  {
   "cell_type": "code",
   "execution_count": 20,
   "metadata": {
    "slideshow": {
     "slide_type": "slide"
    }
   },
   "outputs": [
    {
     "data": {
      "image/png": "[encoded data removed]",
      "text/plain": [
       "<Figure size 432x288 with 1 Axes>"
      ]
     },
     "metadata": {
      "needs_background": "light"
     },
     "output_type": "display_data"
    }
   ],
   "source": [
    "import scipy.stats as stats\n",
    "import numpy as np\n",
    "import matplotlib.pyplot as plt\n",
    "\n",
    "# support of quadratic function\n",
    "# (creates an array with 100 equispaced elements from -3 to 2):\n",
    "x1 = np.linspace(-3, 2, num=100)\n",
    "# function values for all these values:\n",
    "y1 = x1 ** 2\n",
    "\n",
    "# plot quadratic function:\n",
    "plt.plot(x1, y1, linestyle='-', color='black')\n",
    "plt.savefig('graphs/graphs-functions-a.pdf')\n",
    "plt.close()\n",
    "\n",
    "# same for normal density:\n",
    "x2 = np.linspace(-4, 4, num=100)\n",
    "y2 = stats.norm.pdf(x2)\n",
    "\n",
    "# plot normal density:\n",
    "plt.plot(x2, y2, linestyle='-', color='black')\n",
    "plt.savefig('graphs/graphs-functions-b.pdf')"
   ]
  },
  {
   "cell_type": "markdown",
   "metadata": {
    "slideshow": {
     "slide_type": "slide"
    }
   },
   "source": [
    "**Customizing Graphs with Options**\n",
    "\n",
    "- As already demonstrated in the examples, these plots can be adjusted very flexibly.\n",
    "- A few examples:\n",
    "    - The width of the lines can be changed using the argument **linewidth** (default: linewidth=1).\n",
    "    - The size of the marker symbols can be changed using the argument **markersize** (default:markersize=1).\n",
    "     - The color of the lines and symbols can be changed using the argument **color**.It can be specified in several ways:\n",
    "        - By name: `'blue'`, `'green'`, `'red'`, `'cyan'`, `'magenta'`, `'yellow'`, `'black'`, `'white'`.\n",
    "        - Gray scale by a string encoding a number between 0 (black) and 1 (white), for example \n",
    "        ```python\n",
    "plt.plot(x1, y1, linestyle='-', color='0.3')\n",
    "```\n",
    "        - By RGBA values provided by (1, g, b, a) with each letter representing a number between 0 and 1, for example\n",
    "```python\n",
    "plt.plot (x1, y1, linestyle='-', color=(0.9, 0.2, 0.1, 0.3))'\n",
    "```\n",
    "       - This is useful for fine-tuning colors."
   ]
  },
  {
   "cell_type": "markdown",
   "metadata": {
    "slideshow": {
     "slide_type": "slide"
    }
   },
   "source": [
    "You can also add more elements to change the appearance of your plot:\n",
    "- A title can be added using **title('My Title')**.\n",
    "- The horizontal and vertical axis can be labeled using **xlabel('My x axis label')** and **ylabel('My y axis label')**.\n",
    "-  The limits of the horizontal and the vertical axis can be chosen using **xlim(min, max)** and **ylim(min, max)**, respectively.\n",
    "- Often, we want to plot more than one set of variables or multiple graphical elements.\n",
    "- This is an easy task, because each plot is added to the previous one by default.\n",
    "- You can also use some useful commands for adding elements to an existing graph. Here are some (more) examples:\n",
    "    - **axhline (y=value)** adds a horizontal line at y.\n",
    "    - **axvline (x=value)** adds a vertical line at x.\n",
    "    - **legend()** adds a legend based on the string provided in each graphical element in label. **matplotlib** finds the best position.\n",
    "- In the legend, but also everywhere within a graph (title, axis labels, ...) we can also use Greek letters, equations, and similar features in a relatively straightforward way. This is done using respective $\\LaTeX$ commands."
   ]
  },
  {
   "cell_type": "code",
   "execution_count": 21,
   "metadata": {
    "slideshow": {
     "slide_type": "slide"
    }
   },
   "outputs": [
    {
     "data": {
      "image/png": "[encoded data removed]",
      "text/plain": [
       "<Figure size 432x288 with 1 Axes>"
      ]
     },
     "metadata": {
      "needs_background": "light"
     },
     "output_type": "display_data"
    }
   ],
   "source": [
    "import scipy.stats as stats\n",
    "import numpy as np\n",
    "import matplotlib.pyplot as plt\n",
    "\n",
    "# support for all normal densities:\n",
    "x = np.linspace(-4, 4, num=100)\n",
    "# get different density evaluations:\n",
    "y1 = stats.norm.pdf(x, 0, 1)\n",
    "y2 = stats.norm.pdf(x, 1, 0.5)\n",
    "y3 = stats.norm.pdf(x, 0, 2)\n",
    "\n",
    "# plot:\n",
    "plt.plot(x, y1, linestyle='-', color='black', label='standard normal')\n",
    "plt.plot(x, y2, linestyle='--', color='0.3', label='mu = 1, sigma = 0.5')\n",
    "plt.plot(x, y3, linestyle=':', color='0.6', label='$\\mu = 0$, $\\sigma = 2$')\n",
    "plt.xlim(-3, 4)\n",
    "plt.title('Normal Densities')\n",
    "plt.ylabel('$\\phi(x)$')\n",
    "plt.xlabel('x')\n",
    "plt.legend()\n",
    "plt.savefig('graphs/Graphs-BuildingBlocks.pdf')"
   ]
  },
  {
   "cell_type": "markdown",
   "metadata": {
    "slideshow": {
     "slide_type": "slide"
    }
   },
   "source": [
    "**Exporting to a File**\n",
    "\n",
    "- By default, a graph generated in one of the ways we discussed above will be displayed in its own window.\n",
    "- _Python_ offers the possibility to export the generated plots automatically using specific commands.\n",
    "- Among the different graphics formats, the PNG (Portable Network Graphics) format is very useful for saving plots to use them in a word processor and similar programs.\n",
    "- For $\\LaTeX$ users, PS, EPS and SVG are available and PDF is very useful.\n",
    "- You have already seen the export syntax in many examples:\n",
    "```python\n",
    "plt.savefig('filepath/filename. format')\n",
    "```\n",
    "- To set the width and height of your graph in inches, you start your code with\n",
    "```python\n",
    "plt.figure(figsize=(width, height))\n",
    "```"
   ]
  },
  {
   "cell_type": "code",
   "execution_count": 22,
   "metadata": {
    "slideshow": {
     "slide_type": "slide"
    }
   },
   "outputs": [
    {
     "data": {
      "image/png": "[encoded data removed]",
      "text/plain": [
       "<Figure size 432x288 with 1 Axes>"
      ]
     },
     "metadata": {
      "needs_background": "light"
     },
     "output_type": "display_data"
    }
   ],
   "source": [
    "import scipy.stats as stats\n",
    "import numpy as np\n",
    "import matplotlib.pyplot as plt\n",
    "\n",
    "# support for all normal densities:\n",
    "x = np.linspace(-4, 4, num=100)\n",
    "\n",
    "# get different density evaluations:\n",
    "y1 = stats.norm.pdf(x, 0, 1)\n",
    "y2 = stats.norm.pdf(x, 0, 3)\n",
    "\n",
    "# plot (a):\n",
    "plt.figure(figsize=(4, 6))\n",
    "plt.plot(x, y1, linestyle='-', color='black')\n",
    "plt.plot(x, y2, linestyle='--', color='0.3')\n",
    "plt.savefig('graphs/Graphs-Export-a.pdf')\n",
    "plt.close()\n",
    "\n",
    "# plot (b):\n",
    "plt.figure(figsize=(6, 4))\n",
    "plt.plot(x, y1, linestyle='-', color='black')\n",
    "plt.plot(x, y2, linestyle='--', color='0.3')\n",
    "plt.savefig('graphs/Graphs-Export-b.png')"
   ]
  },
  {
   "cell_type": "markdown",
   "metadata": {
    "slideshow": {
     "slide_type": "slide"
    }
   },
   "source": [
    "## Descriptive Statistics\n",
    "\n",
    "- The Python modules __pandas__, __numpy__ and __matplotlib__ offer many commands for descriptive statistics.\n",
    "- We will cover the most important ones for our purpose."
   ]
  },
  {
   "cell_type": "markdown",
   "metadata": {
    "slideshow": {
     "slide_type": "slide"
    }
   },
   "source": [
    "**Discrete Distributions: Frequencies and Contingency Tables**\n",
    "\n",
    "- Suppose we have a sample of the random variables _X<span>_ and _Y<span>_ stored in **numpy** or **pandas** data types $x$ and $y$, respectively.\n",
    "- For discrete variables, the most fundamental statistics are the frequencies of outcomes.\n",
    "- The **numpy** command `unique(x, return_counts=True)` or pandas command `x.value_counts ()` returns such a table of counts.\n",
    "- If we are interested in the contingency table, i.e. the counts of each combination of outcomes for variables $x$ and $y$, we provide it to the crosstab function in **pandas**.\n",
    "- For getting the sample shares instead of the counts, we can change the functions argument normalize:\n",
    "    - The overall sample share: `crosstab(x, y, normalize='all')`\n",
    "    - The share within $x$ values (row percentages): `crosstab(x, y, normalize='index')`\n",
    "     - The share within $y$ values (column percentages): `crosstab(x, y, normalize='columns')`"
   ]
  },
  {
   "cell_type": "markdown",
   "metadata": {
    "slideshow": {
     "slide_type": "slide"
    }
   },
   "source": [
    "- As an example, we look at the data set `affairs`.\n",
    "- We demonstrate the workings of the **numpy** and **pandas** commands with two variables:\n",
    "    - $kids$ = 1 if the respondent has at least one child\n",
    "    - $ratemarr$ = Rating of the own marriage (1=very unhappy, ... , 5=very happy)\n",
    "- In the Python script, we first generate **Categorical** versions of the two variables of interest from the coded values provided by the data set `affairs`.\n",
    "- In this way, we can generate tables with meaningful labels instead of numbers for the outcomes,"
   ]
  },
  {
   "cell_type": "code",
   "execution_count": 23,
   "metadata": {
    "slideshow": {
     "slide_type": "slide"
    }
   },
   "outputs": [
    {
     "name": "stdout",
     "output_type": "stream",
     "text": [
      "first lines of data frame: \n",
      "   id  male   age  yrsmarr  kids  relig  educ  occup  ratemarr  naffairs  \\\n",
      "0   4     1  37.0     10.0     0      3    18      7         4         0   \n",
      "1   5     0  27.0      4.0     0      4    14      6         4         0   \n",
      "2   6     1  27.0      1.5     0      3    18      4         4         3   \n",
      "3  11     0  32.0     15.0     1      1    12      1         4         0   \n",
      "4  12     0  27.0      4.0     1      3    17      1         5         3   \n",
      "\n",
      "   affair  vryhap  hapavg  avgmarr  unhap  vryrel  smerel  slghtrel  notrel  \n",
      "0       0       0       1        0      0       0       0         1       0  \n",
      "1       0       0       1        0      0       0       1         0       0  \n",
      "2       1       0       1        0      0       0       0         1       0  \n",
      "3       0       0       1        0      0       0       0         0       0  \n",
      "4       1       1       0        0      0       0       0         1       0  \n",
      "\n",
      " characteristics of affairs: \n",
      "                 id        male         age     yrsmarr        kids  \\\n",
      "count   601.000000  601.000000  601.000000  601.000000  601.000000   \n",
      "mean   1059.722130    0.475874   32.487521    8.177696    0.715474   \n",
      "std     914.904611    0.499834    9.288762    5.571303    0.451564   \n",
      "min       4.000000    0.000000   17.500000    0.125000    0.000000   \n",
      "25%     528.000000    0.000000   27.000000    4.000000    0.000000   \n",
      "50%    1009.000000    0.000000   32.000000    7.000000    1.000000   \n",
      "75%    1453.000000    1.000000   37.000000   15.000000    1.000000   \n",
      "max    9029.000000    1.000000   57.000000   15.000000    1.000000   \n",
      "\n",
      "            relig        educ       occup    ratemarr    naffairs      affair  \\\n",
      "count  601.000000  601.000000  601.000000  601.000000  601.000000  601.000000   \n",
      "mean     3.116473   16.166389    4.194676    3.931780    1.455907    0.249584   \n",
      "std      1.167509    2.402555    1.819443    1.103179    3.298758    0.433133   \n",
      "min      1.000000    9.000000    1.000000    1.000000    0.000000    0.000000   \n",
      "25%      2.000000   14.000000    3.000000    3.000000    0.000000    0.000000   \n",
      "50%      3.000000   16.000000    5.000000    4.000000    0.000000    0.000000   \n",
      "75%      4.000000   18.000000    6.000000    5.000000    0.000000    0.000000   \n",
      "max      5.000000   20.000000    7.000000    5.000000   12.000000    1.000000   \n",
      "\n",
      "           vryhap      hapavg     avgmarr       unhap      vryrel      smerel  \\\n",
      "count  601.000000  601.000000  601.000000  601.000000  601.000000  601.000000   \n",
      "mean     0.386023    0.322795    0.154742    0.109817    0.116473    0.316140   \n",
      "std      0.487242    0.467935    0.361960    0.312922    0.321058    0.465355   \n",
      "min      0.000000    0.000000    0.000000    0.000000    0.000000    0.000000   \n",
      "25%      0.000000    0.000000    0.000000    0.000000    0.000000    0.000000   \n",
      "50%      0.000000    0.000000    0.000000    0.000000    0.000000    0.000000   \n",
      "75%      1.000000    1.000000    0.000000    0.000000    0.000000    1.000000   \n",
      "max      1.000000    1.000000    1.000000    1.000000    1.000000    1.000000   \n",
      "\n",
      "         slghtrel      notrel  \n",
      "count  601.000000  601.000000  \n",
      "mean     0.214642    0.272879  \n",
      "std      0.410916    0.445810  \n",
      "min      0.000000    0.000000  \n",
      "25%      0.000000    0.000000  \n",
      "50%      0.000000    0.000000  \n",
      "75%      0.000000    1.000000  \n",
      "max      1.000000    1.000000   \n",
      "\n",
      "unique_elem_np: \n",
      "['average' 'happy' 'unhappy' 'very happy' 'very unhappy']\n",
      "\n",
      "counts_np: \n",
      "[ 93 194  66 232  16]\n",
      "\n",
      "ft_pd: \n",
      "very happy      232\n",
      "happy           194\n",
      "average          93\n",
      "unhappy          66\n",
      "very unhappy     16\n",
      "Name: marriage, dtype: int64\n",
      "\n",
      "ft_pd2: \n",
      "haskids  marriage    \n",
      "no       very happy       96\n",
      "         happy            40\n",
      "         average          24\n",
      "         unhappy           8\n",
      "         very unhappy      3\n",
      "yes      happy           154\n",
      "         very happy      136\n",
      "         average          69\n",
      "         unhappy          58\n",
      "         very unhappy     13\n",
      "Name: marriage, dtype: int64\n",
      "\n",
      "ct_all_abs: \n",
      "haskids        no  yes  All\n",
      "marriage                   \n",
      "very unhappy    3   13   16\n",
      "unhappy         8   58   66\n",
      "average        24   69   93\n",
      "happy          40  154  194\n",
      "very happy     96  136  232\n",
      "All           171  430  601\n",
      "\n",
      "ct_all_rel: \n",
      "haskids             no       yes\n",
      "marriage                        \n",
      "very unhappy  0.004992  0.021631\n",
      "unhappy       0.013311  0.096506\n",
      "average       0.039933  0.114809\n",
      "happy         0.066556  0.256240\n",
      "very happy    0.159734  0.226290\n",
      "\n",
      "ct_row: \n",
      "haskids             no       yes\n",
      "marriage                        \n",
      "very unhappy  0.187500  0.812500\n",
      "unhappy       0.121212  0.878788\n",
      "average       0.258065  0.741935\n",
      "happy         0.206186  0.793814\n",
      "very happy    0.413793  0.586207\n",
      "\n"
     ]
    }
   ],
   "source": [
    "import wooldridge as woo\n",
    "import numpy as np\n",
    "import pandas as pd\n",
    "\n",
    "affairs = woo.dataWoo('affairs')\n",
    "# briefly check the dataset\n",
    "print(f'first lines of data frame: \\n{affairs.head()}\\n')\n",
    "\n",
    "# briefly check the characteristics of ratemarr\n",
    "print(f' characteristics of affairs: \\n {affairs.describe()} \\n')\n",
    "\n",
    "# adjust codings to [0-4] (Categoricals require a start from 0):\n",
    "affairs['ratemarr'] = affairs['ratemarr'] - 1\n",
    "\n",
    "# use a pandas.Categorical object to attach labels for \"haskids\":\n",
    "affairs['haskids'] = pd.Categorical.from_codes(affairs['kids'],\n",
    "                                               categories=['no', 'yes'])\n",
    "# ... and \"marriage\" (for example: 0 = 'very unhappy', 1 = 'unhappy',...):\n",
    "mlab = ['very unhappy', 'unhappy', 'average', 'happy', 'very happy']\n",
    "affairs['marriage'] = pd.Categorical.from_codes(affairs['ratemarr'],\n",
    "                                                categories=mlab)\n",
    "\n",
    "# frequency table in numpy (alphabetical order of elements):\n",
    "ft_np = np.unique(affairs['marriage'], return_counts=True)\n",
    "unique_elem_np = ft_np[0]\n",
    "counts_np = ft_np[1]\n",
    "print(f'unique_elem_np: \\n{unique_elem_np}\\n')\n",
    "print(f'counts_np: \\n{counts_np}\\n')\n",
    "\n",
    "# frequency table in pandas:\n",
    "ft_pd = affairs['marriage'].value_counts()\n",
    "print(f'ft_pd: \\n{ft_pd}\\n')\n",
    "\n",
    "# frequency table with groupby:\n",
    "ft_pd2 = affairs['marriage'].groupby(affairs['haskids']).value_counts()\n",
    "print(f'ft_pd2: \\n{ft_pd2}\\n')\n",
    "\n",
    "# contingency table in pandas:\n",
    "ct_all_abs = pd.crosstab(affairs['marriage'], affairs['haskids'], margins=3)\n",
    "print(f'ct_all_abs: \\n{ct_all_abs}\\n')\n",
    "ct_all_rel = pd.crosstab(affairs['marriage'], affairs['haskids'], normalize='all')\n",
    "print(f'ct_all_rel: \\n{ct_all_rel}\\n')\n",
    "\n",
    "# share within \"marriage\" (i.e. within a row):\n",
    "ct_row = pd.crosstab(affairs['marriage'], affairs['haskids'], normalize='index')\n",
    "print(f'ct_row: \\n{ct_row}\\n')"
   ]
  },
  {
   "cell_type": "markdown",
   "metadata": {
    "slideshow": {
     "slide_type": "slide"
    }
   },
   "source": [
    "- We can get easily confused with all these numbers.\n",
    "- However, there are several ways to graphically depict the information in these tables."
   ]
  },
  {
   "cell_type": "code",
   "execution_count": 24,
   "metadata": {
    "slideshow": {
     "slide_type": "slide"
    }
   },
   "outputs": [
    {
     "data": {
      "image/png": "[encoded data removed]",
      "text/plain": [
       "<Figure size 432x288 with 1 Axes>"
      ]
     },
     "metadata": {},
     "output_type": "display_data"
    }
   ],
   "source": [
    "import wooldridge as woo\n",
    "import numpy as np\n",
    "import pandas as pd\n",
    "import matplotlib.pyplot as plt\n",
    "\n",
    "affairs = woo.dataWoo('affairs')\n",
    "\n",
    "# attach labels (see previous script):\n",
    "affairs['ratemarr'] = affairs['ratemarr'] - 1\n",
    "affairs['haskids'] = pd.Categorical.from_codes(affairs['kids'],\n",
    "                                               categories=['no', 'yes'])\n",
    "mlab = ['very unhappy', 'unhappy', 'average', 'happy', 'very happy']\n",
    "affairs['marriage'] = pd.Categorical.from_codes(affairs['ratemarr'],\n",
    "                                                categories=mlab)\n",
    "# counts for all graphs:\n",
    "counts = affairs['marriage'].value_counts()\n",
    "counts_bykids = affairs['marriage'].groupby(affairs['haskids']).value_counts()\n",
    "counts_yes = counts_bykids['yes']\n",
    "counts_no = counts_bykids['no']\n",
    "\n",
    "# pie chart (a):\n",
    "grey_colors = ['0.3', '0.4', '0.5', '0.6', '0.7']\n",
    "plt.pie(counts, labels=mlab, colors=grey_colors)\n",
    "plt.savefig('graphs/Descr-Pie.pdf')\n",
    "#plt.close()"
   ]
  },
  {
   "cell_type": "code",
   "execution_count": 25,
   "metadata": {
    "slideshow": {
     "slide_type": "slide"
    }
   },
   "outputs": [
    {
     "data": {
      "image/png": "[encoded data removed]",
      "text/plain": [
       "<Figure size 432x288 with 1 Axes>"
      ]
     },
     "metadata": {
      "needs_background": "light"
     },
     "output_type": "display_data"
    }
   ],
   "source": [
    "# horizontal bar chart (b):\n",
    "y_pos = [0, 1, 2, 3, 4]  # the y locations for the bars\n",
    "plt.barh(y_pos, counts, color='0.6')\n",
    "plt.yticks(y_pos, mlab, rotation=60)  # add and adjust labeling\n",
    "plt.savefig('graphs/Descr-Bar1.pdf')\n",
    "#plt.close()\n",
    "\n"
   ]
  },
  {
   "cell_type": "code",
   "execution_count": 26,
   "metadata": {
    "slideshow": {
     "slide_type": "slide"
    }
   },
   "outputs": [
    {
     "data": {
      "image/png": "[encoded data removed]",
      "text/plain": [
       "<Figure size 432x288 with 1 Axes>"
      ]
     },
     "metadata": {
      "needs_background": "light"
     },
     "output_type": "display_data"
    }
   ],
   "source": [
    "# stacked bar plot (c):\n",
    "x_pos = [0, 1, 2, 3, 4]  # the x locations for the bars\n",
    "plt.bar(x_pos, counts_yes, width=0.4, color='0.6', label='Yes')\n",
    "# with 'bottom=counts_yes' bars are added on top of previous ones:\n",
    "plt.bar(x_pos, counts_no, width=0.4, bottom=counts_yes, color='0.3', label='No')\n",
    "plt.ylabel('Counts')\n",
    "plt.xticks(x_pos, mlab)  # add labels on x axis\n",
    "plt.legend()\n",
    "plt.savefig('graphs/Descr-Bar2.pdf')\n",
    "#plt.close()"
   ]
  },
  {
   "cell_type": "code",
   "execution_count": 27,
   "metadata": {
    "slideshow": {
     "slide_type": "slide"
    }
   },
   "outputs": [
    {
     "data": {
      "image/png": "[encoded data removed]",
      "text/plain": [
       "<Figure size 432x288 with 1 Axes>"
      ]
     },
     "metadata": {
      "needs_background": "light"
     },
     "output_type": "display_data"
    }
   ],
   "source": [
    "# grouped bar plot (d)\n",
    "# add left bars first and move bars to the left:\n",
    "x_pos_leftbar = [-0.2, 0.8, 1.8, 2.8, 3.8]\n",
    "plt.bar(x_pos_leftbar, counts_yes, width=0.4, color='0.6', label='Yes')\n",
    "# add right bars first and move bars to the right:\n",
    "x_pos_rightbar = [0.2, 1.2, 2.2, 3.2, 4.2]\n",
    "plt.bar(x_pos_rightbar, counts_no, width=0.4, color='0.3', label='No')\n",
    "plt.ylabel('Counts')\n",
    "plt.xticks(x_pos, mlab)\n",
    "plt.legend()\n",
    "plt.savefig('graphs/Descr-Bar3.pdf')\n",
    "#plt.close()"
   ]
  },
  {
   "cell_type": "markdown",
   "metadata": {
    "slideshow": {
     "slide_type": "slide"
    }
   },
   "source": [
    "**Continuous Distributions: Histogram and Density**\n",
    "\n",
    "- For continuous variables, every observation has a distinct value. In practice, variables which have many (but not infinitely many) different values can be treated in the same way.\n",
    "- Since each value appears only once (or a very few times) in the data, frequency tables or bar charts are not useful.\n",
    "- Instead, the values can be grouped into intervals.\n",
    "- The frequency of values within these intervals can then be tabulated or depicted in a histogram.\n",
    "- In the _Python_ module `matplotlib`, the function `hist (x, options)` assigns observations to intervals which can be manually set or automatically chosen and creates a histogram which plots values of $x$ against the count or density within the corresponding bin. The most relevant options are\n",
    "    - `bins=...`: Set the interval boundaries:\n",
    "        - `no bins` specified: let Python choose number and position.\n",
    "        - `bins=n` for a scalar $n$: select the number of bins, but let Python choose the position.\n",
    "        - `bins=v` for a list $v$: explicitly set the boundaries.\n",
    "- `density=True`: do not use the count but the density on the vertical axis."
   ]
  },
  {
   "cell_type": "markdown",
   "metadata": {
    "slideshow": {
     "slide_type": "slide"
    }
   },
   "source": [
    "- Let’s look at the data set CEOSAL1.\n",
    "- It contains information on the salary of CEOs and other information. - We will try to depict the distribution of the return on equity (ROE), measured in percent.\n",
    "- In Sub-figure (b), the breaks are manually chosen and not equally spaced.\n",
    "- Setting `density=True` gives the densities on the vertical axis: The sample share of observations within a bin is therefore reflected by the area of the respective rectangle, not the height."
   ]
  },
  {
   "cell_type": "code",
   "execution_count": 28,
   "metadata": {
    "slideshow": {
     "slide_type": "slide"
    }
   },
   "outputs": [
    {
     "data": {
      "image/png": "[encoded data removed]",
      "text/plain": [
       "<Figure size 432x288 with 1 Axes>"
      ]
     },
     "metadata": {
      "needs_background": "light"
     },
     "output_type": "display_data"
    }
   ],
   "source": [
    "import wooldridge as woo\n",
    "import matplotlib.pyplot as plt\n",
    "\n",
    "ceosal1 = woo.dataWoo('ceosal1')\n",
    "\n",
    "# extract roe:\n",
    "roe = ceosal1['roe']\n",
    "\n",
    "# subfigure a (histogram with counts):\n",
    "plt.hist(roe, color='grey')\n",
    "plt.ylabel('Counts')\n",
    "plt.xlabel('roe')\n",
    "plt.savefig('graphs/Histogram1.pdf')\n",
    "#plt.close()"
   ]
  },
  {
   "cell_type": "code",
   "execution_count": 29,
   "metadata": {
    "slideshow": {
     "slide_type": "slide"
    }
   },
   "outputs": [
    {
     "data": {
      "image/png": "[encoded data removed]",
      "text/plain": [
       "<Figure size 432x288 with 1 Axes>"
      ]
     },
     "metadata": {
      "needs_background": "light"
     },
     "output_type": "display_data"
    }
   ],
   "source": [
    "# subfigure b (histogram with density and explicit breaks):\n",
    "breaks = [0, 5, 10, 20, 30, 60]\n",
    "plt.hist(roe, color='grey', bins=breaks, density=True)\n",
    "plt.ylabel('density')\n",
    "plt.xlabel('roe')\n",
    "plt.savefig('graphs/Histogram2.pdf')"
   ]
  },
  {
   "cell_type": "markdown",
   "metadata": {
    "slideshow": {
     "slide_type": "slide"
    }
   },
   "source": [
    "- A kernel density plot can be thought of as a more sophisticated version of a histogram.\n",
    "- We can use this plot as an alternative to a histogram for the descriptive characterization of the sample distribution.\n",
    "- In Python, generating a kernel density plot is straightforward with the module `statsmodels:nonparametric.KDEUnivariate(x).fit()` will automatically choose appropriate parameters of the algorithm given the data and often produce a useful result.\n",
    "- Of course, these parameters (like the kernel and bandwidth for those who know what that is) can be set manually.\n",
    "- The below script demonstrates how the result of the density estimation can be plotted with `matplotlib`\n",
    "- In Sub-figure (b), a histogram is overlayed with a kernel density plot."
   ]
  },
  {
   "cell_type": "code",
   "execution_count": 1,
   "metadata": {
    "slideshow": {
     "slide_type": "slide"
    }
   },
   "outputs": [
    {
     "name": "stderr",
     "output_type": "stream",
     "text": [
      "C:\\Users\\sheim\\Anaconda3\\lib\\site-packages\\scipy\\stats\\stats.py:1713: FutureWarning: Using a non-tuple sequence for multidimensional indexing is deprecated; use `arr[tuple(seq)]` instead of `arr[seq]`. In the future this will be interpreted as an array index, `arr[np.array(seq)]`, which will result either in an error or a different result.\n",
      "  return np.add.reduce(sorted[indexer] * weights, axis=axis) / sumval\n"
     ]
    }
   ],
   "source": [
    "import wooldridge as woo\n",
    "import statsmodels.api as sm\n",
    "import matplotlib.pyplot as plt\n",
    "\n",
    "ceosal1 = woo.dataWoo('ceosal1')\n",
    "\n",
    "# extract roe:\n",
    "roe = ceosal1['roe']\n",
    "\n",
    "# estimate kernel density:\n",
    "kde = sm.nonparametric.KDEUnivariate(roe)\n",
    "kde.fit()\n",
    "\n",
    "# subfigure a (kernel density):\n",
    "plt.plot(kde.support, kde.density, color='black', linewidth=2)\n",
    "plt.ylabel('density')\n",
    "plt.xlabel('roe')\n",
    "plt.savefig('graphs/Density1.pdf')\n",
    "#plt.close()"
   ]
  },
  {
   "cell_type": "code",
   "execution_count": 31,
   "metadata": {
    "slideshow": {
     "slide_type": "slide"
    }
   },
   "outputs": [
    {
     "data": {
      "image/png": "[encoded data removed]",
      "text/plain": [
       "<Figure size 432x288 with 1 Axes>"
      ]
     },
     "metadata": {
      "needs_background": "light"
     },
     "output_type": "display_data"
    }
   ],
   "source": [
    "# subfigure b (kernel density with overlayed histogram):\n",
    "plt.hist(roe, color='grey', density=True)\n",
    "plt.plot(kde.support, kde.density, color='black', linewidth=2)\n",
    "plt.ylabel('density')\n",
    "plt.xlabel('roe')\n",
    "plt.savefig('graphs/Density2.pdf')"
   ]
  }
 ],
 "metadata": {
  "celltoolbar": "Slideshow",
  "kernelspec": {
   "display_name": "Python 3",
   "language": "python",
   "name": "python3"
  },
  "language_info": {
   "codemirror_mode": {
    "name": "ipython",
    "version": 3
   },
   "file_extension": ".py",
   "mimetype": "text/x-python",
   "name": "python",
   "nbconvert_exporter": "python",
   "pygments_lexer": "ipython3",
   "version": "3.7.1"
  },
  "toc": {
   "base_numbering": 1,
   "nav_menu": {},
   "number_sections": true,
   "sideBar": true,
   "skip_h1_title": false,
   "title_cell": "Table of Contents",
   "title_sidebar": "Contents",
   "toc_cell": false,
   "toc_position": {
    "height": "calc(100% - 180px)",
    "left": "10px",
    "top": "150px",
    "width": "165px"
   },
   "toc_section_display": true,
   "toc_window_display": false
  },
  "varInspector": {
   "cols": {
    "lenName": 16,
    "lenType": 16,
    "lenVar": 40
   },
   "kernels_config": {
    "python": {
     "delete_cmd_postfix": "",
     "delete_cmd_prefix": "del ",
     "library": "var_list.py",
     "varRefreshCmd": "print(var_dic_list())"
    },
    "r": {
     "delete_cmd_postfix": ") ",
     "delete_cmd_prefix": "rm(",
     "library": "var_list.r",
     "varRefreshCmd": "cat(var_dic_list()) "
    }
   },
   "types_to_exclude": [
    "module",
    "function",
    "builtin_function_or_method",
    "instance",
    "_Feature"
   ],
   "window_display": false
  }
 },
 "nbformat": 4,
 "nbformat_minor": 2
}
