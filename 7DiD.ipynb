{
 "cells": [
  {
   "cell_type": "markdown",
   "metadata": {
    "slideshow": {
     "slide_type": "slide"
    }
   },
   "source": [
    "<h1> Introductory Econometrics in Python"
   ]
  },
  {
   "cell_type": "markdown",
   "metadata": {
    "slideshow": {
     "slide_type": "slide"
    }
   },
   "source": [
    "### Table of Content ###\n",
    "\n",
    "1. Welcome and Introduction\n",
    "2. The Nature of Ecomometrics and Economic Data\n",
    "3. Simple Regression with Cross-sectional Data\n",
    "4. Multiple Regression with cross-sectional Data, including Inference and Hypothesis testing\n",
    "5. Binary Dependent Variables\n",
    "6. Regression Analysis with Panel Data\n",
    "7. ***Estimation of Treatment Effects: Difference-in-differences Analysis***"
   ]
  },
  {
   "cell_type": "markdown",
   "metadata": {
    "slideshow": {
     "slide_type": "slide"
    }
   },
   "source": [
    "# Differences-in-Differences Estimation #\n",
    "\n",
    "1. Introductory Examples\n",
    "2. Experiments and Quasi-Experiments\n",
    "3. Estimation of Treatment Effects by DiD\n",
    "4. Applied Case Studies"
   ]
  },
  {
   "cell_type": "markdown",
   "metadata": {
    "slideshow": {
     "slide_type": "slide"
    }
   },
   "source": [
    "## Experiments or (randomized controlled trials)\n",
    "\n",
    "**Experimental setups** are common in e.g., psychology, medicine\n",
    "\n",
    "- Randomly selected patients: some receive the drug (**treatment group**) while others receive a harmless ineffective alternative (**placebo group**)\n",
    "    - E.g., Experimental trials for new drugs before being approved by FDA\n",
    "    - **Treatment effect**: run OLS model and include a dummy equal to one for the treated objects and zero otherwise\n",
    "    \n",
    "Such experimental design are rare in economics. Some exceptions: \n",
    "- Effectiveness of mosquito nets on Malaria cases \n",
    "- Effect of deworming children on schooling. Which incentives work best (lentils!) \n",
    "- randomizing class size at schools to study performance \n",
    "- giving people in poor areas access to electricity, \n",
    "- equipping people with mobile phones\n",
    "\n",
    "TED Talk by Esther Duflo\n",
    "https://www.youtube.com/watch?v=0zvrGiPkVcs&t=300s"
   ]
  },
  {
   "cell_type": "markdown",
   "metadata": {
    "slideshow": {
     "slide_type": "slide"
    }
   },
   "source": [
    "**Quasi- (or natural) experiments**\n",
    "\n",
    "More common in economics: \n",
    "- randomness introduced by variations in individual circumstances (it appear as if the treatment is randomly assigned).\n",
    "- E.g., discrepancies in legal institutions, location, timing of policy or program implementation, natural randomness (birth dates, rainfall, etc.)\n",
    "\n",
    "We consider two types of quasi-experiments:\n",
    "1. We have \"as-if\" random variation that only partially determines the treatment.\n",
    "     - The causal effect is estimated by **instrumental variables regression**,\n",
    "     - the as-if random source of variation provides the instrumental variable.\n",
    "1. The treatment of individuals (or other entities) is viewed as randomly determined\n",
    "    - Causal effect estimated by OLS using the treatment, $x_i$, as a regressor.\n",
    "    - The differences-in-differences estimator belongs to this category\n"
   ]
  },
  {
   "cell_type": "markdown",
   "metadata": {
    "slideshow": {
     "slide_type": "slide"
    }
   },
   "source": [
    "-  Differences-in-Differences estimation has become the single most popular research design in the quantitative social sciences\n",
    "-  Applied in situations where a consequential treatment was given to some people or units but denied to others “haphazardly.”\n",
    "- This is sometimes called a “natural experiment” because it is based on naturally occurring variation in some treatment variable that affects only some units over time.\n",
    "- All good difference-in-differences designs are based on some kind of natural experiment. \n",
    "- The story of how John Snow convinced the world that cholera was transmitted by water, not air, using an ingenious natural experiment was maybe the first application (Snow 1855)."
   ]
  },
  {
   "cell_type": "markdown",
   "metadata": {
    "slideshow": {
     "slide_type": "slide"
    }
   },
   "source": [
    "## Introductory Examples ##\n",
    "\n",
    "**The cholera epidemics in London of the 19th century**\n",
    "\n",
    "- Cholera killed tens of thousands of people in London \n",
    "- Doctors could not help the victims as the prevailing theory was that cholera is transmitted by Miasma,  which said diseases were spread by microscopic poisonous particles that infected people by floating through the air.\n",
    "- Everything that was tried to stop Cholera (quarantining, cleaning the air) was not effective\n",
    "- The physician John Snow then developed the theory that Cholera may be transmitted through microorganisms in the water supply\n",
    "    - Symptoms where vomiting and Diarrhea\n",
    "    - With each evacuation the organism passed the body and flowed into London's water supply \n",
    "- To test this idea Snow needed to find a situation where uncontaminated water had been distributed to a large number of people as if by random chance, and then calculate the difference between those those who did and did not drink contaminated water. \n"
   ]
  },
  {
   "cell_type": "markdown",
   "metadata": {
    "slideshow": {
     "slide_type": "slide"
    }
   },
   "source": [
    "- Two companies served different areas of London back then.\n",
    "- One company, the Lambeth water company had recently moved its intake pipes upstream higher up the Thames where - if Cholera was actually transmitted through water - the water should not be infected with Cholera anymore \n",
    "- There was a path through London districts determining which of the two companies suplies a household with water\n",
    "\n",
    "Experimental setup:\n",
    "- Cross-sectional variation: \n",
    "    - districts supplied by two water companies (the Southwark and Vauxhall and the Lambeth Company)\n",
    "- Time series variation:\n",
    "    - 1849: both companies obtained their wather from the dirty Thamse in central London\n",
    "    - 1852: the Lambeth Company moved its water plant upriver to an area that was free of sewage\n",
    "\n",
    "\n",
    "Test: Compare changes in death rates from cholera in both districts before and after the intervention "
   ]
  },
  {
   "cell_type": "markdown",
   "metadata": {
    "slideshow": {
     "slide_type": "slide"
    }
   },
   "source": []
  },
  {
   "cell_type": "markdown",
   "metadata": {
    "slideshow": {
     "slide_type": "slide"
    }
   },
   "source": [
    "<br>  \n",
    "\n",
    "<img src=\"figs/StatsLondon.gif\" width=\"300\"/> \n",
    "    \n",
    "<p>\n",
    "\n",
    "Death rates in Lambeth districts fell sharply in comparison with changes of death rates in Southwark and Vauxhall districts"
   ]
  },
  {
   "cell_type": "markdown",
   "metadata": {
    "slideshow": {
     "slide_type": "slide"
    }
   },
   "source": [
    "***Introductory example II: James Lind and the Magical Sour Cabbage***\n",
    "\n",
    "- Scurvy (caused by Vitamine C deficiency) killed two million sailors between 1500 and 1800\n",
    "    - Many theories about what could help: malt, blood-letting, turf into the mouth, magic elixirs\n",
    "\n",
    "- James Lind's research hypothesis: Sauerkraut prevents scurvy on long sailing trips (storable and Vitamine C loaded)\n",
    "\n",
    "- Cross Sectional Variation: \n",
    "    - Captain James Cook left with Sauerkraut aboard his ship to South Pacific in 1768\n",
    "    - 3 other captains left without Sauerkraut on the same journey \n",
    "\n",
    "- Time Series Variation: The number of deaths before and after the trip for each ship\n",
    "\n",
    "- Result: Only James Cook returned without a single death"
   ]
  },
  {
   "cell_type": "markdown",
   "metadata": {
    "slideshow": {
     "slide_type": "slide"
    }
   },
   "source": [
    "**Quasi- (or natural) experiments**\n",
    "\n",
    "Typical Research Question: What are the effects of political interventions?\n",
    " - Example: How does a certain regulation affect prices in country X?\n",
    "\n",
    "Typical Problem: Comparing before and after effects of the political intervention often not indicative \n",
    "  - Price changes might also be attributed to demand or supply developments\n",
    "\n",
    "Solution: Compare the before-after changes to before-after changes of a comparison or control group\n"
   ]
  },
  {
   "cell_type": "markdown",
   "metadata": {
    "slideshow": {
     "slide_type": "slide"
    }
   },
   "source": [
    "**Graphical representation of Difference-in-Differences**\n",
    "<br>  \n",
    "<img src=\"figs/DiD_graph2.png\" width=\"400\"/>     \n",
    "<p>\n",
    "    \n",
    " - Something exogenous has happened in unit $x$ between the \"before\" and \"after period\n",
    " - Let's call this event $T$\n",
    " - However, nothing has happened in unit $y$ in the same period of time\n",
    " - $T$ has an affect on an outcome variable $p$, e.g. price\n",
    " - The difference of the price changes - the one of $x$ and change of $y$ - can help us to identify the effect of $T$ on $p$ in a causal way\n",
    " - This is the baseline idea of a DiD framework"
   ]
  },
  {
   "cell_type": "markdown",
   "metadata": {
    "slideshow": {
     "slide_type": "slide"
    }
   },
   "source": [
    "We can translate the concept of this idea into a Difference-in-Differences regression framework\n",
    "\n",
    "- $Y_i$ denotes an outcome over a population of individuals $i=1,...,N$\n",
    "- Two groups indexed by treatment status $treatment=0,1$ \n",
    "    - where 0 indicates individuals who did not receive the treatment, i.e. the **control group**, \n",
    "    - 1 indicates individuals who received the treatment, i.e. the **treatment group**.\n",
    "- We observe individuals in two time periods, $post=0,1$ \n",
    "    - where 0 indicates a time period before the treatment group receives the treatment, i.e. **pre-treatment period**, \n",
    "    - and 1 indicates a time period after the treatment group receives the treatment, i.e. **post-treatment period**."
   ]
  },
  {
   "cell_type": "markdown",
   "metadata": {
    "slideshow": {
     "slide_type": "slide"
    }
   },
   "source": [
    "The outcome $Y_i$ is explained by\n",
    "\n",
    "$y_i=\\alpha + \\beta post_i +\\gamma treatment_i + \\delta (post_i \\times treatment_i) + e_i$\n",
    "\n",
    "where \n",
    "<br>  \n",
    "\n",
    "<img src=\"figs/DiD_table2.png\" width=\"500\"/> \n",
    "    \n",
    "<p>\n",
    "Purpose is to find a \"good\" estimate of $\\delta$, $\\hat{\\delta}$, given the data that we have available"
   ]
  },
  {
   "cell_type": "markdown",
   "metadata": {
    "slideshow": {
     "slide_type": "skip"
    }
   },
   "source": [
    "***How many workers would lose their jobs if we increase the minimum wage?***\n",
    "\n",
    "The Bureau of Labor Statistics (BLS) report on the effects of the 1913 Oregon minimum wage law \n",
    "- Minimum wage of 9 Dollar for experienced woman \n",
    "- For inexperienced women, and for girls aged 16–18, the minimum was set at $6 per week\n",
    "\n",
    "Cross sectional variation\n",
    "- Payroll, working hours, and sales from 33 retail stores in Portland (Oregon) and Salem (Massachusetts)\n",
    "- 1546 women and 868 men\n",
    "\n",
    "Time series information\n",
    "- March and April of 1913: about five months before minimum wage introduction, \n",
    "- March and April of 1914: about five months after the minimum wage introduction. "
   ]
  },
  {
   "cell_type": "markdown",
   "metadata": {
    "slideshow": {
     "slide_type": "skip"
    }
   },
   "source": [
    "<br>  \n",
    "\n",
    "<img src=\"figs/Kennan.png\" width=\"600\"/> \n",
    "    \n",
    "<p>\n",
    "\n",
    "Main Limitations: \n",
    "- recession: total sales in these Portland stores fell by 8.6 percent over this period.\n",
    "- As noted by the authors, the jobs held by men were less vulnerable to this decline than women, \n",
    "    - The difference-in-differences estimator overstates employment effects (more negative than in reality)\n",
    "    - The authors argue that that there would have been no employment effect without the recession (p. 12)"
   ]
  },
  {
   "cell_type": "markdown",
   "metadata": {
    "slideshow": {
     "slide_type": "slide"
    }
   },
   "source": [
    "**Example Card and Krueger (1994, AER)**\n",
    "\n",
    "\"*Minimum Wages and Employment: A Case Study of the Fast-Food Industry in New Jersey and Pennsylvania*\"\n",
    "\n",
    "**Time Series Variation**: On April 1, 1992, New Jersey's minimum wage rose from \\\\$4.25 to \\\\$5.05\n",
    "\n",
    "**Cross Sectional Variation**: 410 fast-food restaurants in New Jersey (treatment group) and Eastern Pennsylvania (control group) before and after\n",
    "\n",
    "Empirical Implementation:\n",
    "- $Y_i$: the emplyoment of a fast-food restaurant outcome, \n",
    "- $treatment_i$: whether or not a restaurant is in New Jersey, \n",
    "- $post_i$: whether the observation is from before or after the minimum wage hike"
   ]
  },
  {
   "cell_type": "markdown",
   "metadata": {
    "slideshow": {
     "slide_type": "slide"
    }
   },
   "source": [
    "***Application*** \n",
    "\n",
    "Consider the following sample averages for New Jersey (Treated) and Pennsylvania (Control) before and after the minimum wage implementation in April\n",
    "\n",
    "\n",
    "|Time     | New Jersey | Pennsylvania | \n",
    "| :---    | ---        | ---          | \n",
    "|February | 20.44      | 23.33        | \n",
    "|November | 21.03      | 21.17        |\n",
    "\n",
    "\n",
    "What is the effect of the minimum wages on employment, measured as FTEs (full-time equivalents)?\n",
    "-  1FTE is one fully employed person\n"
   ]
  },
  {
   "cell_type": "markdown",
   "metadata": {
    "slideshow": {
     "slide_type": "slide"
    }
   },
   "source": [
    "***Solution*** \n",
    "\n",
    "|Time     | New Jersey | Pennsylvania | Difference | \n",
    "| :---     | ---        | ---          | ---        | \n",
    "|February | 20.44      | 23.33        | −2.89      | \n",
    "|November | 21.03      | 21.17        | −0.14      |\n",
    "|Change   |  0.59      | −2.16        | 2.75       |\n",
    "\n",
    "- Are these results as expected? \n",
    "- What may be probles that cause this finding other than it being a causal effect? "
   ]
  },
  {
   "cell_type": "markdown",
   "metadata": {
    "slideshow": {
     "slide_type": "slide"
    }
   },
   "source": [
    "**Unbiased Estimator**\n",
    "\n",
    "- To get an unbiased estimator the estimate has to be correct _on average_, i.e. $E[\\hat{\\delta}]=\\delta$\n",
    "- This is the case if the following assumptions hold:\n",
    "    \n",
    "    1. The model is correctly specified\n",
    "    1. The error term is on average zero: $E[\\varepsilon_i]=0$\n",
    "    1. The error term is uncorrelated with the other variables in the equation:\n",
    "\t\t\n",
    "\t\t$cov(\\varepsilon_i,T_i)=0$\n",
    "\t\t\n",
    "\t\t$cov(\\varepsilon_i,t_i)=0$\n",
    "\t\t\n",
    "\t\t$cov(\\varepsilon_i,T_i\\times t_i)=0$  \n",
    "        \n",
    "        \n",
    "- The last assumption is known as the **parallel trend assumption** or **common trend assumption** and is most critical."
   ]
  },
  {
   "cell_type": "markdown",
   "metadata": {
    "slideshow": {
     "slide_type": "slide"
    }
   },
   "source": [
    "**Unbiased Estimator**\n",
    "\n",
    "\n",
    "- Under these assumptions we can use equation $Y_i=\\alpha+\\beta T_i +\\gamma t_i + \\delta(T_i \\times t_i)+e_i$ to determine that expected values of the outcomes are given by\n",
    "\n",
    "    - $E[Y_0^T]=\\alpha+\\beta$\n",
    "    - $E[Y_1^T]=\\alpha+\\beta+\\gamma+\\delta$\n",
    "    - $E[Y_0^C]=\\alpha$\n",
    "    - $E[Y_1^T]=\\alpha+\\gamma$"
   ]
  },
  {
   "cell_type": "markdown",
   "metadata": {
    "slideshow": {
     "slide_type": "slide"
    }
   },
   "source": [
    "**Simple Pre vs Post Estimator (Before-After)**\n",
    "\n",
    "- Why not just compare \"before\" and \"after\" treatment outcomes in the treatment group alone?  \n",
    "\n",
    "\n",
    "\\begin{equation*}\n",
    "\\hat{\\delta}_1=\\bar{Y}_1^T-\\bar{Y}_0^T\n",
    "\\end{equation*}\n",
    "\n",
    "\n",
    "- This would be a regression of the form $Y_i=\\alpha_1+\\delta_1t_i+\\varepsilon_i$ on the sample from the treatment group only.\n",
    "\n",
    "- We then have  \n",
    "\n",
    "\\begin{equation*}\n",
    "E[\\hat{\\delta}_1]=E[\\bar{Y}_1^T]-E[\\bar{Y}_0^T]=[\\alpha+\\beta+\\gamma+\\delta]-[\\alpha+\\beta]=\\gamma+\\delta\n",
    "\\end{equation*}\n",
    "\n",
    "- The estimator is biased if $\\gamma\\neq 0$ \n"
   ]
  },
  {
   "cell_type": "markdown",
   "metadata": {
    "slideshow": {
     "slide_type": "slide"
    }
   },
   "source": [
    "**Simple Treatment vs Control Estimator**\n",
    "\n",
    "- Why not compare average differences in outcome $Y_i$ post-treatment, between treatment and control groups, ignoring pre-treatment outcomes\n",
    "\n",
    "\\begin{equation*}\n",
    "\\hat{\\delta}_2=\\hat{Y}_1^T-\\hat{Y}_1^C\n",
    "\\end{equation*}\n",
    "\n",
    "\n",
    "- Regression of the form  \n",
    "\n",
    "\\begin{equation*}\n",
    "Y_i=\\alpha_2+\\beta_2T_i+\\varepsilon_i\n",
    "\\end{equation*}  \n",
    "\n",
    "\n",
    "- We then have \n",
    "\n",
    "\\begin{equation*}\n",
    "E[\\hat{\\delta}_2]=E[\\hat{Y}_1^T]-E[\\hat{Y}_1^C]=[\\alpha+\\beta+\\gamma+\\delta]-[\\alpha+\\gamma]=\\beta+\\delta\n",
    "\\end{equation*}\n",
    "\n",
    "- The estimator is biased as long as $\\beta\\neq 0$, i.e. there exists a permanent average difference in outcome $Y_i$ between treatment and control group (no randomized treatment as in controlled experiments)"
   ]
  },
  {
   "cell_type": "markdown",
   "metadata": {
    "slideshow": {
     "slide_type": "slide"
    }
   },
   "source": [
    "**Difference in Difference Estimator (DiD)**\n",
    "\n",
    "- DiD (or \"Double difference\" estimator) is defined as the difference in the average outcome in the treatment group - the difference in the average outcome in the control group before and after the treatment\n",
    "- Regression of the form \n",
    "\n",
    "\\begin{equation*}\n",
    "Y_i=\\alpha+\\beta T_i +\\gamma t_i + \\delta(T_i \\times t_i)+e_i\n",
    "\\end{equation*}\n",
    "\n",
    "- The estimator is unbiased\n",
    "\n",
    "\\begin{equation*}\n",
    "\\hat{\\delta}_{DiD}=\\bar{Y}_1^T-\\bar{Y}_0^T-(\\bar{Y}_1^C-\\bar{Y}_0^C)=\\alpha+\\beta+\\gamma+\\delta-(\\alpha-\\beta)-(\\alpha+\\gamma-\\gamma)=(\\gamma+\\delta)-\\gamma=\\delta\n",
    "\\end{equation*}\n",
    "\n",
    "\n",
    "- BUT: only unbiased if treatment and control group have a _common (parallel) trend_, i.e.\n",
    "\n",
    "\\begin{equation*}\n",
    "\\gamma^T=\\gamma^C\n",
    "\\end{equation*}\n",
    "\n",
    "\n",
    "!!!"
   ]
  },
  {
   "cell_type": "markdown",
   "metadata": {
    "slideshow": {
     "slide_type": "slide"
    }
   },
   "source": [
    "**Treatment Effect in DiD**\n",
    "\n",
    "\n",
    "<br>  \n",
    "\n",
    "\n",
    "<center><img src=\"figs/graph_did.png\" width=\"500\"/> \n",
    "    \n",
    "\n",
    "<p>"
   ]
  },
  {
   "cell_type": "markdown",
   "metadata": {
    "slideshow": {
     "slide_type": "slide"
    }
   },
   "source": [
    "- Assume we have a treated and a non-treated group of individuals, e.g. firms in two countries but one country introduced a new law on something and the other country didn't\n",
    "- The countries already differ in the outcome levels prior to the treatment by \n",
    "- The true model is \n",
    "\n",
    "\\begin{equation*}\n",
    "Y_i=0.5+1\\times T-0.5\\times t+2\\times T \\times t+\\varepsilon\n",
    "\\end{equation*}  \n",
    "\n",
    "- How do we have to interpret the coefficients?\n",
    "- Let's estimate such a model to see the differences between before-after, treatment-control and differences-in-differences estimators "
   ]
  },
  {
   "cell_type": "code",
   "execution_count": 1,
   "metadata": {
    "slideshow": {
     "slide_type": "slide"
    }
   },
   "outputs": [],
   "source": [
    "## generate some random variables with the above characteristics\n",
    "import pandas as pd\n",
    "import numpy as np\n",
    "from numpy.random import seed\n",
    "from numpy.random import rand\n",
    "from numpy.random import randn\n",
    "from scipy import stats\n",
    "import statsmodels.formula.api as smf    # for the ols and robust ols model\n",
    "import statsmodels.api as sm\n",
    "from statsmodels.iolib.summary2 import summary_col\n",
    "\n",
    "## generate control and treatment group pre- and post treatment\n",
    "\n",
    "seed(1)\n",
    "y = np.array(randn(1000)+1)\n",
    "#print(y[:10])\n",
    "stats.describe(y)\n",
    "\n",
    "## generate treatment dummy\n",
    "## which is 0 for the first 500 observations\n",
    "## and 1 for the second 500 observations\n",
    "\n",
    "treat=np.ones(1000)\n",
    "#print(treat[0:10])\n",
    "\n",
    "treat[:500]=0\n",
    "#print(treat[490:510])\n",
    "\n",
    "## generate two periods (before and after) for treatment and control group\n",
    "post=np.ones(1000)\n",
    "post[250:750]=0\n",
    "#print(post[240:260])\n",
    "#print(post[740:760])\n",
    "\n",
    "## generate a general time trend which is -0.5 in the post period\n",
    "y = np.where(post==1, y-0.5, y)\n",
    "\n",
    "## generate a general level difference between treatment and control group of 1\n",
    "y = np.where(treat==1, y+1, y)\n",
    "\n",
    "#generate the treatment effect\n",
    "y=np.where((treat==1) & (post==1),y+2,y)\n",
    "\n",
    "df = pd.DataFrame({'y' : y, 'treat': treat, 'post':post})\n",
    "#df.head()"
   ]
  },
  {
   "cell_type": "code",
   "execution_count": 2,
   "metadata": {
    "slideshow": {
     "slide_type": "slide"
    }
   },
   "outputs": [
    {
     "name": "stdout",
     "output_type": "stream",
     "text": [
      "\n",
      "==================================================\n",
      "           before-after control-treatment   DiD   \n",
      "               (1)             (2)          (2)   \n",
      "--------------------------------------------------\n",
      "Intercept  2.01***      0.58***           1.03*** \n",
      "           (0.06)       (0.06)            (0.06)  \n",
      "post       1.54***                        -0.45***\n",
      "           (0.09)                         (0.09)  \n",
      "treat                   2.97***           0.97*** \n",
      "                        (0.08)            (0.09)  \n",
      "treat:post                                1.99*** \n",
      "                                          (0.12)  \n",
      "N          500          500               1000    \n",
      "R2         0.38         0.71              0.57    \n",
      "==================================================\n",
      "Standard errors in parentheses.\n",
      "* p<.1, ** p<.05, ***p<.01\n"
     ]
    }
   ],
   "source": [
    "\n"
   ]
  },
  {
   "cell_type": "markdown",
   "metadata": {
    "slideshow": {
     "slide_type": "slide"
    }
   },
   "source": [
    "**Common Trend assumption**\n",
    "\n",
    "- Most common problem with DiD estimates is the failure of the common trend assumption\n",
    "- If common trend assumption does not hold then we get biased estimates (even the sign can go in the wrong direction)\n",
    "- Suppose that $cov(\\varepsilon_i,T_i\\times t_i)=E(\\varepsilon_i(T_i\\times t_i))=\\Delta$ so that $Y$ follows a different trend for the treatment and the control group\n",
    "- The control group has a time trend of $\\gamma^C=\\gamma$ and the treatment group has a trend of $\\gamma^T=\\gamma+\\Delta$\n",
    "- In this case the DiD estimator will be biased as \n",
    "\n",
    "\\begin{equation*}\n",
    "E[\\hat{\\delta}_{DD}]=(\\gamma^T+\\delta)-\\gamma^C=\\gamma+\\Delta+\\delta-\\gamma=\\delta+\\Delta\n",
    "\\end{equation*}\n",
    "\n",
    "- Think about the New Jersey minimum wage example: How could the common trend assumption be violated?\n"
   ]
  },
  {
   "cell_type": "markdown",
   "metadata": {
    "slideshow": {
     "slide_type": "slide"
    }
   },
   "source": [
    "**Failure of the Common Trend Assumption**\n",
    "\n",
    "<br>  \n",
    "\n",
    "\n",
    "<center><img src=\"figs/fail_common_trend.png\" width=\"500\"/> \n",
    "    \n",
    "\n",
    "<p>\n"
   ]
  },
  {
   "cell_type": "markdown",
   "metadata": {
    "slideshow": {
     "slide_type": "slide"
    }
   },
   "source": [
    "**The Common Trend Assumption**\n",
    "\n",
    "Do you think this assumption is testable?\n",
    "\n"
   ]
  },
  {
   "cell_type": "markdown",
   "metadata": {
    "slideshow": {
     "slide_type": "slide"
    }
   },
   "source": [
    "**Testing the common trend assumption**\n",
    "\n",
    "\n",
    "- The validity of the common trend assumption cannot be tested formally as we do not observe the `real' counterfactual\n",
    "- However, some techniques are frequently applied to add confidence on its validity, but for this we need to observe a sufficiently large pre-treatment period\n",
    "    - Graphical illustration of pre-treatment trends\n",
    "        - Problem: using a graphical check we cannot account for factors we are able to conrol for in our regression\n",
    "    - Adding pre-treatment dummies to the baseline model and see whether they are significant (e.g. $t_{-1}\\cdot T$)\n",
    "        - By this we can test whether there was already a difference in the slope of y prior to the treatment\n",
    "        - Problem: Hard to distinguish between a violation of the common trend assumption and a potential anticipation effect\n",
    "    - Run placebo estimations with randomized fake treatments for the treatment group in the pre-treatment period when we have a heterogenous treatment (treatment occurs at different points in time for different entities)\n",
    "        "
   ]
  },
  {
   "cell_type": "code",
   "execution_count": 5,
   "metadata": {
    "slideshow": {
     "slide_type": "slide"
    }
   },
   "outputs": [],
   "source": [
    "## generate some random variables with the above characteristics\n",
    "import pandas as pd\n",
    "import numpy as np\n",
    "from numpy.random import seed\n",
    "from numpy.random import rand\n",
    "from numpy.random import randn\n",
    "from scipy import stats\n",
    "import statsmodels.formula.api as smf    # for the ols and robust ols model\n",
    "import statsmodels.api as sm\n",
    "from statsmodels.iolib.summary2 import summary_col\n",
    "\n",
    "## generate control and treatment group pre- and post treatment\n",
    "\n",
    "seed(1)\n",
    "y = np.array(randn(1000)+1)\n",
    "#print(y[:10])\n",
    "stats.describe(y)\n",
    "\n",
    "## generate treatment dummy\n",
    "## which is 0 for the first 500 observations\n",
    "## and 1 for the second 500 observations\n",
    "\n",
    "treat=np.ones(1000)\n",
    "#print(treat[0:10])\n",
    "\n",
    "treat[:500]=0\n",
    "#print(treat[490:510])\n",
    "\n",
    "## generate two periods (before and after) for treatment and control group\n",
    "post=np.ones(1000)\n",
    "post[250:750]=0\n",
    "#print(post[240:260])\n",
    "#print(post[740:760])\n",
    "\n",
    "## generate a general time trend which is -0.5 in the post period\n",
    "y = np.where(post==1, y-0.5, y)\n",
    "\n",
    "## generate a general level difference between treatment and control group of 1\n",
    "y = np.where(treat==1, y+1, y)\n",
    "\n",
    "#generate the treatment effect\n",
    "y=np.where((treat==1) & (post==1),y+2,y)\n",
    "\n",
    "df = pd.DataFrame({'y' : y, 'treat': treat, 'post':post})\n",
    "df.head()\n",
    "\n",
    "## now generate y for the case when the common trend assumption doesn't hold\n",
    "## in this example we do this by adding an increase in the post period for the non-treated\n",
    "y2=np.where((treat==0) & (post==1),y+4,y)\n"
   ]
  },
  {
   "cell_type": "code",
   "execution_count": 6,
   "metadata": {
    "scrolled": false,
    "slideshow": {
     "slide_type": "slide"
    }
   },
   "outputs": [
    {
     "name": "stdout",
     "output_type": "stream",
     "text": [
      "\n",
      "=======================================\n",
      "           common trend no common trend\n",
      "               (1)            (2)      \n",
      "---------------------------------------\n",
      "Intercept  1.03***      1.03***        \n",
      "           (0.06)       (0.06)         \n",
      "treat      0.97***      0.97***        \n",
      "           (0.09)       (0.09)         \n",
      "post       -0.45***     3.55***        \n",
      "           (0.09)       (0.09)         \n",
      "treat:post 1.99***      -2.01***       \n",
      "           (0.12)       (0.12)         \n",
      "N          1000         1000           \n",
      "R2         0.57         0.66           \n",
      "=======================================\n",
      "Standard errors in parentheses.\n",
      "* p<.1, ** p<.05, ***p<.01\n"
     ]
    }
   ],
   "source": [
    "## DiD model where common trend holds (as was the case in the previous example)\n",
    "reg_common = smf.ols(formula='y ~ treat*post', data=df)\n",
    "results_common = reg_common.fit()\n",
    "\n",
    "\n",
    "## DiD model where common trend doesn't holds (as was the case in the previous example)\n",
    "reg_nocommon = smf.ols(formula='y2 ~ treat*post', data=df)\n",
    "results_nocommon = reg_nocommon.fit()\n",
    "\n",
    "\n",
    "output = summary_col([results_common,results_nocommon],stars=True,float_format='%0.2f',\n",
    "                 model_names=['common trend\\n(1)','no common trend\\n(2)'],\n",
    "                 info_dict={'N':lambda x: \"{0:d}\".format(int(x.nobs)),\n",
    "                 'R2':lambda x: \"{:.2f}\".format(x.rsquared)})\n",
    "print(output)\n"
   ]
  },
  {
   "cell_type": "markdown",
   "metadata": {
    "slideshow": {
     "slide_type": "slide"
    }
   },
   "source": [
    "**Real data application**\n",
    "\n",
    "**Effect of a Garbage Incinerator’s Location on Housing Prices**\n",
    "\n",
    "- We are interested in whether and how much the construction of a new garbage incinerator affected\n",
    "the value of nearby houses.\n",
    "- We analyze this using the data set KIELMc.\n",
    "- We first estimate a model for 1981 (when the construction began).\n",
    "- In 1981, the houses close to the construction site were cheaper by an average of \\$30,688.27.\n"
   ]
  },
  {
   "cell_type": "code",
   "execution_count": 8,
   "metadata": {
    "slideshow": {
     "slide_type": "slide"
    }
   },
   "outputs": [
    {
     "name": "stdout",
     "output_type": "stream",
     "text": [
      "table_81: \n",
      "                     b         se        t  pval\n",
      "Intercept  101307.5136  3093.0267  32.7535   0.0\n",
      "nearinc    -30688.2738  5827.7088  -5.2659   0.0\n",
      "\n"
     ]
    }
   ],
   "source": [
    "import wooldridge as woo\n",
    "import pandas as pd\n",
    "import statsmodels.formula.api as smf\n",
    "\n",
    "kielmc = woo.dataWoo('kielmc')\n",
    "\n",
    "#  regressions for 1981:\n",
    "y81 = (kielmc['year'] == 1981)\n",
    "reg81 = smf.ols(formula='rprice ~ nearinc', data=kielmc, subset=y81)\n",
    "results81 = reg81.fit()\n",
    "\n",
    "\n",
    "\n",
    "# print regression tables:\n",
    "table_81 = pd.DataFrame({'b': round(results81.params, 4),\n",
    "                         'se': round(results81.bse, 4),\n",
    "                         't': round(results81.tvalues, 4),\n",
    "                         'pval': round(results81.pvalues, 4)})\n",
    "print(f'table_81: \\n{table_81}\\n')"
   ]
  },
  {
   "cell_type": "markdown",
   "metadata": {
    "slideshow": {
     "slide_type": "slide"
    }
   },
   "source": [
    "- But this was not only due to the new incinerator since even in 1978, nearby houses were cheaper by an average of \\$18, 824.37.\n",
    "- The difference of these differences $\\delta$ = \\\\$30,688.27 — \\\\$18,824.37 = \\\\$11,863.90 is the DiD estimator and is arguably a better indicator of the actual effect.\n"
   ]
  },
  {
   "cell_type": "code",
   "execution_count": 16,
   "metadata": {
    "slideshow": {
     "slide_type": "slide"
    }
   },
   "outputs": [
    {
     "name": "stdout",
     "output_type": "stream",
     "text": [
      "table_78: \n",
      "                  b78      se78      t78  pval78\n",
      "Intercept  82517.2276  2653.790  31.0941  0.0000\n",
      "nearinc   -18824.3705  4744.594  -3.9675  0.0001\n",
      "\n",
      "table_81: \n",
      "                   b81       se81      t81  pval81\n",
      "Intercept  101307.5136  3093.0267  32.7535     0.0\n",
      "nearinc    -30688.2738  5827.7088  -5.2659     0.0\n",
      "\n",
      "diff_78_81: \n",
      "Intercept    18790.285953\n",
      "nearinc     -11863.903252\n",
      "dtype: float64\n",
      "\n"
     ]
    }
   ],
   "source": [
    "import wooldridge as woo\n",
    "import pandas as pd\n",
    "import statsmodels.formula.api as smf\n",
    "\n",
    "kielmc = woo.dataWoo('kielmc')\n",
    "\n",
    "# separate regressions for 1978 and 1981:\n",
    "y78 = (kielmc['year'] == 1978)\n",
    "reg78 = smf.ols(formula='rprice ~ nearinc', data=kielmc, subset=y78)\n",
    "results78 = reg78.fit()\n",
    "\n",
    "y81 = (kielmc['year'] == 1981)\n",
    "reg81 = smf.ols(formula='rprice ~ nearinc', data=kielmc, subset=y81)\n",
    "results81 = reg81.fit()\n",
    "\n",
    "# print regression tables:\n",
    "table_78 = pd.DataFrame({'b78': round(results78.params, 4),\n",
    "                         'se78': round(results78.bse, 4),\n",
    "                         't78': round(results78.tvalues, 4),\n",
    "                         'pval78': round(results78.pvalues, 4)})\n",
    "print(f'table_78: \\n{table_78}\\n')\n",
    "\n",
    "table_81 = pd.DataFrame({'b81': round(results81.params, 4),\n",
    "                         'se81': round(results81.bse, 4),\n",
    "                         't81': round(results81.tvalues, 4),\n",
    "                         'pval81': round(results81.pvalues, 4)})\n",
    "print(f'table_81: \\n{table_81}\\n')\n",
    "\n",
    "diff_78_81=results81.params-results78.params\n",
    "\n",
    "print(f'diff_78_81: \\n{diff_78_81}\\n')\n",
    "\n",
    "#kielmc.describe()"
   ]
  },
  {
   "cell_type": "markdown",
   "metadata": {
    "slideshow": {
     "slide_type": "slide"
    }
   },
   "source": [
    "- The DiD estimator can be obtained more conveniently using a joint regression model with the interaction\n",
    "term as described above.\n",
    "- The estimator $\\delta$ = \\\\$11,863.90 can be directly seen as the coefficient of the interaction term.\n",
    "- For a one-sided test, the p value is 0.5 $\\cdot$ 0.113 = 0.056, so there is some statistical evidence of a negative impact."
   ]
  },
  {
   "cell_type": "code",
   "execution_count": 13,
   "metadata": {
    "slideshow": {
     "slide_type": "slide"
    }
   },
   "outputs": [
    {
     "name": "stdout",
     "output_type": "stream",
     "text": [
      "table_joint: \n",
      "                                  b         se        t    pval\n",
      "Intercept                82517.2276  2726.9101  30.2603  0.0000\n",
      "C(year)[T.1981]          18790.2860  4050.0650   4.6395  0.0000\n",
      "nearinc                 -18824.3705  4875.3221  -3.8612  0.0001\n",
      "nearinc:C(year)[T.1981] -11863.9033  7456.6462  -1.5911  0.1126\n",
      "\n"
     ]
    }
   ],
   "source": [
    "import wooldridge as woo\n",
    "import pandas as pd\n",
    "import statsmodels.formula.api as smf\n",
    "\n",
    "kielmc = woo.dataWoo('kielmc')\n",
    "\n",
    "# joint regression including an interaction term:\n",
    "reg_joint = smf.ols(formula='rprice ~ nearinc * C(year)', data=kielmc)\n",
    "results_joint = reg_joint.fit()\n",
    "\n",
    "table_joint = pd.DataFrame({'b': round(results_joint.params, 4),\n",
    "                            'se': round(results_joint.bse, 4),\n",
    "                            't': round(results_joint.tvalues, 4),\n",
    "                            'pval': round(results_joint.pvalues, 4)})\n",
    "print(f'table_joint: \\n{table_joint}\\n')"
   ]
  },
  {
   "cell_type": "code",
   "execution_count": 19,
   "metadata": {},
   "outputs": [
    {
     "name": "stdout",
     "output_type": "stream",
     "text": [
      "table_treat: \n",
      "                          b         se        t    pval\n",
      "Intercept        63692.8571  5296.3219  12.0259  0.0000\n",
      "C(year)[T.1981]   6926.3827  8205.0266   0.8442  0.4007\n",
      "\n",
      "table_control: \n",
      "                          b         se        t  pval\n",
      "Intercept        82517.2276  2277.5287  36.2310   0.0\n",
      "C(year)[T.1981]  18790.2860  3382.6342   5.5549   0.0\n",
      "\n",
      "diff_treat_control: \n",
      "Intercept         -18824.370499\n",
      "C(year)[T.1981]   -11863.903252\n",
      "dtype: float64\n",
      "\n",
      "table_joint: \n",
      "                                  b         se        t    pval\n",
      "Intercept                82517.2276  2726.9101  30.2603  0.0000\n",
      "C(year)[T.1981]          18790.2860  4050.0650   4.6395  0.0000\n",
      "nearinc                 -18824.3705  4875.3221  -3.8612  0.0001\n",
      "nearinc:C(year)[T.1981] -11863.9033  7456.6462  -1.5911  0.1126\n",
      "\n"
     ]
    }
   ],
   "source": [
    "import wooldridge as woo\n",
    "import pandas as pd\n",
    "import statsmodels.formula.api as smf\n",
    "\n",
    "kielmc = woo.dataWoo('kielmc')\n",
    "\n",
    "# separate regressions for 1978 and 1981:\n",
    "treat = (kielmc['nearinc'] == 1)\n",
    "regtreat = smf.ols(formula='rprice ~ C(year)', data=kielmc, subset=treat)\n",
    "resultstreat = regtreat.fit()\n",
    "\n",
    "control = (kielmc['nearinc'] == 0)\n",
    "regcontrol = smf.ols(formula='rprice ~ C(year)', data=kielmc, subset=control)\n",
    "resultscontrol = regcontrol.fit()\n",
    "\n",
    "# joint regression including an interaction term:\n",
    "reg_joint = smf.ols(formula='rprice ~ nearinc * C(year)', data=kielmc)\n",
    "results_joint = reg_joint.fit()\n",
    "\n",
    "# print regression tables:\n",
    "table_treat = pd.DataFrame({'b': round(resultstreat.params, 4),\n",
    "                         'se': round(resultstreat.bse, 4),\n",
    "                         't': round(resultstreat.tvalues, 4),\n",
    "                         'pval': round(resultstreat.pvalues, 4)})\n",
    "print(f'table_treat: \\n{table_treat}\\n')\n",
    "\n",
    "table_control = pd.DataFrame({'b': round(resultscontrol.params, 4),\n",
    "                         'se': round(resultscontrol.bse, 4),\n",
    "                         't': round(resultscontrol.tvalues, 4),\n",
    "                         'pval': round(resultscontrol.pvalues, 4)})\n",
    "print(f'table_control: \\n{table_control}\\n')\n",
    "\n",
    "diff_treat_control=resultstreat.params-resultscontrol.params\n",
    "\n",
    "print(f'diff_treat_control: \\n{diff_treat_control}\\n')\n",
    "\n",
    "table_joint = pd.DataFrame({'b': round(results_joint.params, 4),\n",
    "                            'se': round(results_joint.bse, 4),\n",
    "                            't': round(results_joint.tvalues, 4),\n",
    "                            'pval': round(results_joint.pvalues, 4)})\n",
    "print(f'table_joint: \\n{table_joint}\\n')"
   ]
  },
  {
   "cell_type": "markdown",
   "metadata": {
    "slideshow": {
     "slide_type": "slide"
    }
   },
   "source": [
    "- The DiD can be improved:\n",
    "<br>\n",
    "\n",
    "    - A logarithmic specification is more plausible since it implies a constant percentage effect on the house values.\n",
    "    - We can also add additional regressors to control for incidental changes in the composition of the houses traded."
   ]
  },
  {
   "cell_type": "code",
   "execution_count": 20,
   "metadata": {
    "scrolled": true,
    "slideshow": {
     "slide_type": "slide"
    }
   },
   "outputs": [
    {
     "name": "stdout",
     "output_type": "stream",
     "text": [
      "table_did: \n",
      "                               b      se         t    pval\n",
      "Intercept                11.2854  0.0305  369.8386  0.0000\n",
      "C(year)[T.1981]           0.1931  0.0453    4.2606  0.0000\n",
      "nearinc                  -0.3399  0.0546   -6.2308  0.0000\n",
      "nearinc:C(year)[T.1981]  -0.0626  0.0834   -0.7508  0.4533\n",
      "\n",
      "table_didC: \n",
      "                              b      se        t    pval\n",
      "Intercept                7.6517  0.4159  18.3986  0.0000\n",
      "C(year)[T.1981]          0.1621  0.0285   5.6868  0.0000\n",
      "nearinc                  0.0322  0.0475   0.6789  0.4977\n",
      "nearinc:C(year)[T.1981] -0.1315  0.0520  -2.5305  0.0119\n",
      "age                     -0.0084  0.0014  -5.9236  0.0000\n",
      "I(age ** 2)              0.0000  0.0000   4.3415  0.0000\n",
      "np.log(intst)           -0.0614  0.0315  -1.9500  0.0521\n",
      "np.log(land)             0.0998  0.0245   4.0766  0.0001\n",
      "np.log(area)             0.3508  0.0515   6.8129  0.0000\n",
      "rooms                    0.0473  0.0173   2.7317  0.0067\n",
      "baths                    0.0943  0.0277   3.4003  0.0008\n",
      "\n"
     ]
    }
   ],
   "source": [
    "import wooldridge as woo\n",
    "import numpy as np\n",
    "import pandas as pd\n",
    "import statsmodels.formula.api as smf\n",
    "\n",
    "kielmc = woo.dataWoo('kielmc')\n",
    "\n",
    "# difference in difference (DiD):\n",
    "reg_did = smf.ols(formula='np.log(rprice) ~ nearinc*C(year)', data=kielmc)\n",
    "results_did = reg_did.fit()\n",
    "\n",
    "# print regression table:\n",
    "table_did = pd.DataFrame({'b': round(results_did.params, 4),\n",
    "                          'se': round(results_did.bse, 4),\n",
    "                          't': round(results_did.tvalues, 4),\n",
    "                          'pval': round(results_did.pvalues, 4)})\n",
    "print(f'table_did: \\n{table_did}\\n')\n",
    "\n",
    "# DiD with control variables:\n",
    "reg_didC = smf.ols(formula='np.log(rprice) ~ nearinc*C(year) + age +'\n",
    "                           'I(age**2) + np.log(intst) + np.log(land) +'\n",
    "                           'np.log(area) + rooms + baths',\n",
    "                   data=kielmc)\n",
    "results_didC = reg_didC.fit()\n",
    "\n",
    "# print regression table:\n",
    "table_didC = pd.DataFrame({'b': round(results_didC.params, 4),\n",
    "                           'se': round(results_didC.bse, 4),\n",
    "                           't': round(results_didC.tvalues, 4),\n",
    "                           'pval': round(results_didC.pvalues, 4)})\n",
    "print(f'table_didC: \\n{table_didC}\\n')"
   ]
  },
  {
   "cell_type": "markdown",
   "metadata": {
    "slideshow": {
     "slide_type": "slide"
    }
   },
   "source": [
    "**MEDICAID AND MORTALITY: NEW EVIDENCE FROM LINKED SURVEY AND ADMINISTRATIVE DATA**\n",
    "(Miller et al., 2021)\n",
    "\n",
    "- Low-income individuals in the U.S. experience dramatically worse health than those with high incomes.\n",
    "- Low-income group also experiences higher risks of dying from diabetes (by 787%), cardiovascular disease (552%), and respiratory disease (813%) in a given year relative to those in higher income families\n",
    "- Research has also shown that men at the bottom of the income distribution live on average nearly 15 years less, and women over 10 years less, than those at the top of the income distribution\n"
   ]
  },
  {
   "cell_type": "markdown",
   "metadata": {
    "slideshow": {
     "slide_type": "slide"
    }
   },
   "source": [
    "**MEDICAID AND MORTALITY: NEW EVIDENCE FROM LINKED SURVEY AND ADMINISTRATIVE DATA**\n",
    "(Miller et al., 2021)\n",
    "\n",
    "- What is the research question?\n",
    "- What is the \"identification strategy\"? (i.e., what is the research design aiming to provide a causal answer to the research question?)\n",
    "- Why does it work?\n",
    "- How is the common trend assumption justified?\n",
    "    \n",
    "https://www.nber.org/system/files/working_papers/w26081/w26081.pdf"
   ]
  },
  {
   "cell_type": "markdown",
   "metadata": {
    "slideshow": {
     "slide_type": "slide"
    }
   },
   "source": [
    "**Example: The Anti-Competitive Effect of Minority Share Acquisitions: Evidence from the Introduction of National Leniency Programs**\n",
    "\n",
    "https://www.tau.ac.il/~spiegel/papers/MS-20200528.pdf"
   ]
  },
  {
   "cell_type": "markdown",
   "metadata": {
    "slideshow": {
     "slide_type": "slide"
    }
   },
   "source": [
    "**Unbundling, Regulation, and Pricing: Evidence from Electricity Distribution**\n",
    "\n",
    "https://ftp.zew.de/pub/zew-docs/dp/dp18050.pdf"
   ]
  },
  {
   "cell_type": "markdown",
   "metadata": {
    "slideshow": {
     "slide_type": "slide"
    }
   },
   "source": [
    "***Case Study 1: The Effect of Mergers on Prices***\n",
    "\n",
    "Relevance: \n",
    "- Increasing retail concentration in Europe (CR5>70\\%) \n",
    "- Prices may rise due to increase in concentration or decrease due to efficiency gains (e.g., cost synergies or bargaining)\n",
    "\n",
    "Research question\n",
    "- What are the effects of a merger between two German retailers (a discounter and a supermarket) on grocery prices?\n",
    "\n",
    "Methodology\n",
    "- Exploit the fact that retailers price at the local market level\n",
    "- DiD estimator to compare markets with pre-merger overlap of acquirer and target to a control group of unaffected markets\n",
    "\n",
    "Results\n",
    "- Prices increase, on average, after the merger by 0.5%\n",
    "- immediate 1-7\\% price increase for supermarkets\n",
    "- 1.5% Efficiency gains of discounters 2 years after merger\n"
   ]
  },
  {
   "cell_type": "markdown",
   "metadata": {
    "slideshow": {
     "slide_type": "slide"
    }
   },
   "source": [
    "The Market and the Merger\n",
    "- We consider the merger of R1 and R2 with pre-merger market shares of 25\\% and 5\\%\n",
    "- Outsiders O1-O3 split the remainder rather equally (20\\%, 15\\%, 15\\%)\n",
    "\n",
    "German retailers adopt a local pricing strategy and national bargaining\n",
    "- Local pricing: R1 owns 11,400 stores operated by roughly 4,500 independent merchants with high degree of freedom\n",
    "- National purchasing: Derived from former (regional) buying groups built to join forces in purchasing activities"
   ]
  },
  {
   "cell_type": "markdown",
   "metadata": {
    "slideshow": {
     "slide_type": "slide"
    }
   },
   "source": [
    "We observe three local market types in Germany \n",
    "\n",
    "|Type | Firms          | Concentration | Efficiency | \n",
    "| :-: | :-:            | :-:           | :-:        | \n",
    "|A    | R1 *and* R2, 0 | X             | X          | \n",
    "|B    | R1 *or* R2, 0  | -             | X          |\n",
    "|C    |  O             | -             | -          |\n",
    "\n",
    "Previous studies identify the net price effects as the sum of market power and efficiency gains, which corresponds to\n",
    "- comparing markets of type A to markets of type C: Joined effect of market power and efficiency gains\n",
    "- comparing markets of Type A to markets of type B: Efficiency gains\n"
   ]
  },
  {
   "cell_type": "markdown",
   "metadata": {
    "slideshow": {
     "slide_type": "slide"
    }
   },
   "source": [
    "Market Power Effect\n",
    "\n",
    "<br>  \n",
    "\n",
    "<center><img src=\"figs/Design3.png\" width=\"400\"/> \n",
    "    \n",
    "<p>\n"
   ]
  },
  {
   "cell_type": "markdown",
   "metadata": {
    "slideshow": {
     "slide_type": "slide"
    }
   },
   "source": [
    "Efficiency Gains + Market power\n",
    "\n",
    "<br>  \n",
    "\n",
    "<center><img src=\"figs/Design4.png\" width=\"400\"/> \n",
    "    \n",
    "<p>\n"
   ]
  },
  {
   "cell_type": "markdown",
   "metadata": {
    "slideshow": {
     "slide_type": "slide"
    }
   },
   "source": [
    "***Case Study 2:***\n",
    "The effect of Lockdowns on Corona incidences\n",
    "\n",
    "https://www.dropbox.com/s/3c5w01tjpm2lt4c/curfew_20210619_2.pdf?dl=0"
   ]
  }
 ],
 "metadata": {
  "celltoolbar": "Slideshow",
  "kernelspec": {
   "display_name": "Python 3",
   "language": "python",
   "name": "python3"
  },
  "language_info": {
   "codemirror_mode": {
    "name": "ipython",
    "version": 3
   },
   "file_extension": ".py",
   "mimetype": "text/x-python",
   "name": "python",
   "nbconvert_exporter": "python",
   "pygments_lexer": "ipython3",
   "version": "3.7.4"
  },
  "toc": {
   "base_numbering": 1,
   "nav_menu": {},
   "number_sections": false,
   "sideBar": true,
   "skip_h1_title": false,
   "title_cell": "Table of Contents",
   "title_sidebar": "Contents",
   "toc_cell": false,
   "toc_position": {},
   "toc_section_display": true,
   "toc_window_display": false
  },
  "varInspector": {
   "cols": {
    "lenName": 16,
    "lenType": 16,
    "lenVar": 40
   },
   "kernels_config": {
    "python": {
     "delete_cmd_postfix": "",
     "delete_cmd_prefix": "del ",
     "library": "var_list.py",
     "varRefreshCmd": "print(var_dic_list())"
    },
    "r": {
     "delete_cmd_postfix": ") ",
     "delete_cmd_prefix": "rm(",
     "library": "var_list.r",
     "varRefreshCmd": "cat(var_dic_list()) "
    }
   },
   "types_to_exclude": [
    "module",
    "function",
    "builtin_function_or_method",
    "instance",
    "_Feature"
   ],
   "window_display": false
  }
 },
 "nbformat": 4,
 "nbformat_minor": 2
}
