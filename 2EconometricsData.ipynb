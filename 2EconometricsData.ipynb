{
 "cells": [
  {
   "cell_type": "markdown",
   "metadata": {
    "slideshow": {
     "slide_type": "slide"
    }
   },
   "source": [
    "<h1> Introductory Econometrics in Python"
   ]
  },
  {
   "cell_type": "markdown",
   "metadata": {
    "slideshow": {
     "slide_type": "slide"
    }
   },
   "source": [
    "### Table of Content ###\n",
    "\n",
    "1. Welcome and Introduction\n",
    "2. ***The Nature of Econometrics and Economic Data***\n",
    "3. Simple Regression with Cross-sectional Data\n",
    "4. Multiple Regression with cross-sectional Data, including Inference and Hypothesis testing\n",
    "5. Binary Dependent Variables\n",
    "6. Regression Analysis with Panel Data\n",
    "7. Estimation of Treatment Effects: Difference-in-difference Analysis"
   ]
  },
  {
   "cell_type": "markdown",
   "metadata": {
    "slideshow": {
     "slide_type": "slide"
    }
   },
   "source": [
    "## The Nature of Econometrics and Economic Data\n",
    "\n",
    "1. What is Econometrics?\n",
    "2. Steps in Econometric Analysis\n",
    "3. The Structure of Econometric Data \n",
    "4. Correlation and Causation\n",
    "5. Ceteris-paribus notion and Counterfactional reasoning"
   ]
  },
  {
   "cell_type": "markdown",
   "metadata": {
    "slideshow": {
     "slide_type": "slide"
    }
   },
   "source": [
    "### What Is Econometrics?\n",
    "\n",
    "Typical research questions are: \n",
    "\n",
    "1. Governments need advice on how publicly-funded training programs affect productivity and workers' wages. How to design it better?\n",
    "\n",
    "2. Central bankers are interested in how changes in interest rates affect inflation and the growth rate of the economy. \n",
    "\n",
    "3. Investment banks want to study the returns on different investment strategies\n",
    "\n",
    "4. Music companies and entrepeneurs need to know what shapes the success of artists and innovations. How to set prices?\n",
    "\n",
    "To give personal examples: the European Commission, for instance, must know\n",
    "5. what is the effect of state aid on firms' future performance and on competition?\n",
    "6. should they allow or block mergers?\n",
    "7. what damages occur from cartels? How much should cartel firms compensate the victims? "
   ]
  },
  {
   "cell_type": "markdown",
   "metadata": {
    "slideshow": {
     "slide_type": "slide"
    }
   },
   "source": [
    "**Definition**\n",
    "\n",
    "The task of answering such questions is daunting at first.\n",
    "- At this point, you may only have a vague idea of the kind of data you would need to collect.\n",
    "- By the end of this course, you know how to use econometric methods to formally address the questions above.\n",
    "\n",
    "**Econometrics**: A mix of statistical and economic methods\n",
    "\n",
    "**Economics**: Theories and models that try to explain the world\n",
    "\n",
    "**Statistics**: Tools and methods for analyzing data"
   ]
  },
  {
   "cell_type": "markdown",
   "metadata": {
    "slideshow": {
     "slide_type": "slide"
    }
   },
   "source": [
    "**Goals and Application** \n",
    "\n",
    "Main goal is the causal inference when: \n",
    "- testing and quantifying economic theories (e.g., of two opposing theories), \n",
    "- estimating economic relationships (e.g., between two variables), \n",
    "- designing and evaluating government and business policies,\n",
    "- forecasting\n",
    "\n",
    "Relevant in all fields of economics. But spilled also into other fields:\n",
    " - Political Economics: What are the effects of political campaign expenditures on voting outcomes?\n",
    " - Educational Economics: How does school spending affect student performance?\n",
    " - Development Economics: How to to fight global poverty?\n",
    " - Finance: Are institutional investors (banks, investment funds, ...) good or bad for a companies performance?"
   ]
  },
  {
   "cell_type": "markdown",
   "metadata": {
    "slideshow": {
     "slide_type": "slide"
    }
   },
   "source": [
    "**Difference to Mathematical Statistics**\n",
    "\n",
    "Econometrics focuses on the problems around collecting and analyzing *non-experimental economic data*.\n",
    "- ***Experimental data*** are often collected in laboratory environments in the natural sciences, but they are more difficult to obtain in the social sciences.\n",
    "- ***Non-experimental data*** are not accumulated through controlled experiments on individuals, firms, or segments of the economy. \n",
    "\n",
    "Social experiments needed to address economic issues exist but often are impossible to conduct: \n",
    "- prohibitively expensive, \n",
    "- morally repugnant.\n"
   ]
  },
  {
   "cell_type": "markdown",
   "metadata": {
    "slideshow": {
     "slide_type": "slide"
    }
   },
   "source": [
    "**Difference to Mathematical Statistics**\n",
    "\n",
    "- Naturally, econometricians have borrowed from mathematical statisticians whenever possible.\n",
    "- The method of multiple regression analysis is the mainstay in both fields, but its focus and interpretation can differ a lot.\n",
    "- In addition, economists have devised new techniques to deal with the complexities of economic data and to test the predictions of economic theories."
   ]
  },
  {
   "cell_type": "markdown",
   "metadata": {
    "slideshow": {
     "slide_type": "slide"
    }
   },
   "source": [
    "## Steps in Empirical Economic Analysis\n",
    "\n",
    "Step 1: Formulating the **research question** and **hypothesis**: \n",
    "- Maybe obvious, but worth emphasizing this first step of any (empirical) analysis.\n",
    "\n",
    "Step 2: Sometimes, we specify a **formal economic model**, e.g., when testing economic theories\n",
    "- you will see this when you take the Industrial Economics class \n",
    "\n",
    "Step 3: Specification of **econometric model** that combines the formal model, or our intuition, with data to test research idea\n",
    "- includes using adequate tools for testing the hypothesis"
   ]
  },
  {
   "cell_type": "markdown",
   "metadata": {
    "slideshow": {
     "slide_type": "slide"
    }
   },
   "source": [
    "### Step 1:  Research Question\n",
    "\n",
    "We have seen examples of research questions above and we will see a lot more.\n",
    "\n",
    "- We can group the types of research questions into two broad categories: \n",
    "    - testing or quantifying an economic theory (e.g., how does demand react when prices increase or why is cost pass-through asymmetric?)) \n",
    "    - designing and evaluating the effects of a government/business policy (e.g., merger policy)\n"
   ]
  },
  {
   "cell_type": "markdown",
   "metadata": {
    "slideshow": {
     "slide_type": "slide"
    }
   },
   "source": [
    "### Step 2: Formulating an Economic Model\n",
    "\n",
    "Typical economic model: mathematical equations describing relationship between two variables\n",
    "\n",
    "Examples: Profit maximization for firms, psychological behavioral models, neoclassical (or Keynesian) growth models, etc.\n",
    "\n",
    "*Utility Maximization*: powerful mathematical framework to describe consumption decisions \n",
    "- Indiduals maximize utility, subject to a budget constraint \n",
    "- From utility maximization, we can derive a set of demand equations\n",
    "- The quantity demanded depends on own prices, substitute (and complement) prices, consumer’s income, other characteristics, and individual taste.\n",
    "\n",
    "These equations can form the basis of an econometric analysis of consumer demand (step 3)."
   ]
  },
  {
   "cell_type": "markdown",
   "metadata": {
    "slideshow": {
     "slide_type": "slide"
    }
   },
   "source": [
    "**Example: Becker’s (1968) economic model of crime**\n",
    "\n",
    "Utility maximization framework also used to explain \"non-economic behavior\", such as individual's participation in crime\n",
    "\n",
    "- Most criminal behaviors have economic rewards, such as money gained from a robbery \n",
    "- But there are also economic costs\n",
    "    - The opportunity costs from participating in other activities such as legal employment. \n",
    "    - Possibility of being caught and then, if convicted, the costs associated with incarceration. \n",
    "\n",
    "Each indiviual weighs the benefits and costs in order to decide whether or not to undertake illegal activity\n",
    " - We can derive an equation describing the amount of time spent in criminal activity as a function of various factors. "
   ]
  },
  {
   "cell_type": "markdown",
   "metadata": {
    "slideshow": {
     "slide_type": "slide"
    }
   },
   "source": [
    "**Example: Becker’s (1968) economic model of crime**\n",
    "\n",
    "We might represent such a function as:    \n",
    "  \n",
    "\\begin{equation*}\n",
    "y=f(x_1,x_2,x_3,x_4,x_5,x_6,x_7)\n",
    "\\end{equation*}\n",
    "\n",
    "where  \n",
    "<br>\n",
    "$\\qquad$  $y$   = hours spent in criminal activities,  \n",
    "$\\qquad$  $x_1$ = “wage” for an hour spent in criminal activity,  \n",
    "$\\qquad$  $x_2$ = hourly wage in legal employment,  \n",
    "$\\qquad$  $x_3$ = income other than from crime or employment,  \n",
    "$\\qquad$  $x_4$ = probability of getting caught,  \n",
    "$\\qquad$  $x_5$ = probability of being convicted if caught,  \n",
    "$\\qquad$  $x_6$ = expected sentence if convicted, and  \n",
    "$\\qquad$  $x_7$ = age.  \n",
    "\n"
   ]
  },
  {
   "cell_type": "markdown",
   "metadata": {
    "slideshow": {
     "slide_type": "slide"
    }
   },
   "source": [
    "**Example: Becker’s (1968) economic model of crime**\n",
    "\n",
    "- Other factors generally affect a person’s decision to participate in crime, but the list above is representative of what might result from a formal economic analysis. \n",
    "- We have been agnostic about the specific functional form $f(\\cdot)$. This function depends on an underlying utility function, which is rarely known. \n",
    "- Nevertheless, we can use economic theory — or introspection — to predict the effect that each variable would have on criminal activity."
   ]
  },
  {
   "cell_type": "markdown",
   "metadata": {
    "slideshow": {
     "slide_type": "slide"
    }
   },
   "source": [
    "### Step 3: Econometric Model\n",
    "\n",
    "Applying the economic model (or our intuition) to real data\n",
    "\n",
    "\n",
    "- You may agree that the determinants of criminal behavior appearing in the above equation are reasonable based on common sense; we might arrive at such an equation directly, without starting from utility maximization.\n",
    "- This view has some merit, although there are cases in which formal derivations provide insights that intuition can overlook.\n",
    "- Next is an example of an equation that we can derive through somewhat informal reasoning."
   ]
  },
  {
   "cell_type": "markdown",
   "metadata": {
    "slideshow": {
     "slide_type": "slide"
    }
   },
   "source": [
    "**Example of Econometric Modeling without Theory**\n",
    "\n",
    "Job Training and Worker Productivity (reflected by wage)\n",
    "\n",
    "- A labor economist would like to examine the effects of job training on workers' productivity.\n",
    "- In this case, we can derive economic relationships with informal reasoning instead of formal theory.\n",
    "- Basic economic understanding is sufficient for realizing that factors such as education, experience, and training can affect worker productivity\n",
    "- For simplicity, we assume that workers are paid commensurate with their productivity."
   ]
  },
  {
   "cell_type": "markdown",
   "metadata": {
    "slideshow": {
     "slide_type": "slide"
    }
   },
   "source": [
    "This simple reasoning leads to a model such as:\n",
    "\n",
    "<br>\n",
    "\\begin{equation*}\n",
    "wage=f(educ, exper, training)\n",
    "\\end{equation*}\n",
    "\n",
    "where\n",
    "\n",
    "$\\qquad$ $wage$     = hourly wage,  \n",
    "$\\qquad$ $educ$     = years of formal education,  \n",
    "$\\qquad$ $exper$    = years of workforce experience, and  \n",
    "$\\qquad$ $training$ = weeks spent in job training.\n",
    "\n",
    "Again, other factors generally affect the wage rate, but the above equation captures the essence of the problem."
   ]
  },
  {
   "cell_type": "markdown",
   "metadata": {
    "slideshow": {
     "slide_type": "slide"
    }
   },
   "source": [
    "**Merits of Reduced-form Aproach**\n",
    "\n",
    "This reduced-form view (i.e., no or little economic theory) has some merit \n",
    "- intutitive, few assumptions, not time consuming   \n",
    "- although there are cases in which formal derivations provide insights that intuition can overlook."
   ]
  },
  {
   "cell_type": "markdown",
   "metadata": {},
   "source": [
    "**Limitations of Reduced-form Aproach**\n",
    "\n",
    "Consider the example of a retail merger (e.g., Carrefour/Casino) where we want to find out the price effects for consumers\n",
    "\n",
    "- Contradicting predictions from theory: Prices can increase due to less competition or decrease because of cost savings\n",
    "- Simple methods allow us to quantify the magnitude of the net effect of prices\n",
    "- Without theory we know what happens but not know why. Assume we quantify a price decrease \n",
    "    - Where do prices effects come from? Efficiency gains (e.g., fixed cost sharing) or increased buyer power?\n",
    "    - The source of cost savings has different implications for antitrust authorities\n",
    "- Economic theory can also ease predicting merger price effects before antitrust authorities take the decision \n",
    "\n",
    "We elaborate on this in Lecture 7 (DiD)"
   ]
  },
  {
   "cell_type": "markdown",
   "metadata": {
    "slideshow": {
     "slide_type": "slide"
    }
   },
   "source": [
    "**Econometric models apply the economic model (or our intuition) to data**\n",
    "\n",
    "Before the empirical analysis, we must\n",
    "\n",
    "1. specify the functional form $f(\\cdot)$\n",
    "     - We often use a linear relationship for simplicity\n",
    "2. decide how to deal with variables that cannot reasonably be observed\n",
    "    - Variable choices are determined by economic theory, intutition, and data considerations.\n",
    "\n",
    "We apply this reasoning now to the Economic Model of Crime**"
   ]
  },
  {
   "cell_type": "markdown",
   "metadata": {
    "slideshow": {
     "slide_type": "slide"
    }
   },
   "source": [
    "**Econometric Model of Crime**\n",
    "\n",
    "Linear relationship betweet crime on the left and variables affecting crime on the right \n",
    "\n",
    "\\begin{equation*}\n",
    "crime=\\beta_0+\\beta_1wage+\\beta_2othinc+\\beta_3freqarr+\\beta_4freqconv+\\beta_5avgsen+\\beta_6age+u\n",
    "\\end{equation*}\n",
    "\n",
    "where  \n",
    "$\\qquad$ $crime$ = some measure of the frequency of criminal activity,  \n",
    "$\\qquad$ $wage$ = the wage that can be earned in legal employment,  \n",
    "$\\qquad$ $othinc$ = the income from other sources (assets, inheritance, and so on),  \n",
    "$\\qquad$ $freqarr$ = the frequency of arrests,  \n",
    "$\\qquad$ $freqconv$ = the frequency of conviction, and  \n",
    "$\\qquad$ $avgsen$ = the average sentence length after conviction."
   ]
  },
  {
   "cell_type": "markdown",
   "metadata": {
    "slideshow": {
     "slide_type": "slide"
    }
   },
   "source": [
    "**Econometric Model of Crime**\n",
    "\n",
    "- The constants $\\beta_0,\\beta_1,...\\beta_6$ are the _parameters_ of the econometric model,\n",
    "- they describe the directions and strengths of our chosen variables on crime.\n",
    "\n",
    "Dealing with error term $u$ is the most important component of any econometric analysis: \n",
    "\n",
    "- unobserved factors, such as talent for crime, moral character, family background \n",
    "- measurement errors (e.g., criminal activity and the probability of arrest.)\n",
    "- can never be eliminated entirely, even if we add other variables (number of siblings, parents’ education, ...)"
   ]
  },
  {
   "cell_type": "markdown",
   "metadata": {
    "slideshow": {
     "slide_type": "slide"
    }
   },
   "source": [
    "**Econometric model of crime**\n",
    "\n",
    "Example of special importance of $u$: \n",
    "   - Impossible to observe each person's wage from criminal activity.\n",
    "   - The probability of being arrested cannot realistically be obtained for a given individual\n",
    "   - Accounting for many other factors affecting criminal behavior that we cannot even list or observe\n",
    "\n",
    "Everything unobserved enters in the $u$ \n",
    "   - Measurement error: We can observe relevant arrest statistics and derive a variable that approximates the probability of arrest\n",
    "   - Unobserved variables: We can specify how unobservables enter into the relationship, e.g., randomly "
   ]
  },
  {
   "cell_type": "markdown",
   "metadata": {
    "slideshow": {
     "slide_type": "slide"
    }
   },
   "source": [
    "**Econometric Model: How do we proceed in this class?**\n",
    "\n",
    "We formulate hypothesis of interests in terms of unknown parameters\n",
    "- We don't rely on fully-fledged theoretical models: time-consuming and complex.\n",
    "- Economic reasoning and intutition more important \n",
    "- We base our econometric specification on some insights from economic theory\n",
    "\n",
    "**Example: Economic crime model** \n",
    "   - We might test if $\\beta_1>0$, that is the criminal _wage_, has positive effect on criminal behavior\n",
    "   - Or $\\beta_3=0$: The risk of getting caught does not deter crime and hiring more police does not pay off\n",
    "   - If $\\beta_2<0$: Then it might be better to spend money on increasing non-criminal income  "
   ]
  },
  {
   "cell_type": "markdown",
   "metadata": {
    "slideshow": {
     "slide_type": "slide"
    }
   },
   "source": [
    "## The Structure of Economic Data\n",
    "\n",
    "Data collection is literally the most essential part in empirical analyses\n",
    "- Data are transformed into variables which are the input for econometric models designed to estimate parameters \n",
    "    - for testing theories and hypotheses, \n",
    "    - making predictions, \n",
    "    - and evaluating policies"
   ]
  },
  {
   "cell_type": "markdown",
   "metadata": {
    "slideshow": {
     "slide_type": "slide"
    }
   },
   "source": [
    "**Data Types**\n",
    "\n",
    "This section describes the most typical data types: \n",
    "- Cross-sectional Data\n",
    "- Time Series Data\n",
    "- Pooled Cross-sectional Data\n",
    "- Panel (or Longitudinal) Data \n",
    "\n",
    "Econometrics offers a set of different tools for each data type to address its strengths and weaknesses   "
   ]
  },
  {
   "cell_type": "markdown",
   "metadata": {
    "slideshow": {
     "slide_type": "slide"
    }
   },
   "source": [
    "**Typology of Data Types**\n",
    "\n",
    "<br>  \n",
    "\n",
    "<center><img src=\"figs\\DataSets.png\" width=\"500\"/> \n",
    "    \n",
    "<p>"
   ]
  },
  {
   "cell_type": "markdown",
   "metadata": {
    "slideshow": {
     "slide_type": "slide"
    }
   },
   "source": [
    "**Cross-Sectional Data**\n",
    "\n",
    "A sample of many subjects (such as individuals, firms, countries, or regions) taken at one point in time. \n",
    "- A one-time survey of households, patients, students, retail clients, ...  \n",
    "\n",
    "Not necessarily the same time period: We can ignore any minor timing differences.\n",
    "- E.g., a set of families surveyed during different weeks of the same year is still viewed as a cross section."
   ]
  },
  {
   "cell_type": "markdown",
   "metadata": {
    "slideshow": {
     "slide_type": "slide"
    }
   },
   "source": [
    "**Example of Cross-sectional Data**\n",
    "<br>  \n",
    "\n",
    "<center><img src=\"figs\\cross_sec1.png\" width=\"500\"/> \n",
    "    \n",
    "<p>"
   ]
  },
  {
   "cell_type": "markdown",
   "metadata": {
    "slideshow": {
     "slide_type": "-"
    }
   },
   "source": [
    " With cross-sectional data, we often assume to have a **random sample** from the underlying population \n",
    " - If we randomly pick 500 workers to obtain information on wages, education, etc., then we have a **random sample** from the \"all workers population\"\n",
    " - Without random sampling, we face the so-called **selection problem**"
   ]
  },
  {
   "cell_type": "markdown",
   "metadata": {
    "slideshow": {
     "slide_type": "slide"
    }
   },
   "source": [
    "**Example of Cross-sectional Data**\n",
    "<br>  \n",
    "\n",
    "<center><img src=\"figs\\cross_sec.png\" width=\"500\"/> \n",
    "    \n",
    "<p>"
   ]
  },
  {
   "cell_type": "code",
   "execution_count": 1,
   "metadata": {
    "slideshow": {
     "slide_type": "slide"
    }
   },
   "outputs": [
    {
     "data": {
      "text/html": [
       "<div>\n",
       "<style scoped>\n",
       "    .dataframe tbody tr th:only-of-type {\n",
       "        vertical-align: middle;\n",
       "    }\n",
       "\n",
       "    .dataframe tbody tr th {\n",
       "        vertical-align: top;\n",
       "    }\n",
       "\n",
       "    .dataframe thead th {\n",
       "        text-align: right;\n",
       "    }\n",
       "</style>\n",
       "<table border=\"1\" class=\"dataframe\">\n",
       "  <thead>\n",
       "    <tr style=\"text-align: right;\">\n",
       "      <th></th>\n",
       "      <th>wage</th>\n",
       "      <th>educ</th>\n",
       "      <th>exper</th>\n",
       "      <th>tenure</th>\n",
       "      <th>nonwhite</th>\n",
       "      <th>female</th>\n",
       "      <th>married</th>\n",
       "      <th>numdep</th>\n",
       "      <th>smsa</th>\n",
       "      <th>northcen</th>\n",
       "      <th>south</th>\n",
       "      <th>west</th>\n",
       "      <th>construc</th>\n",
       "      <th>ndurman</th>\n",
       "      <th>trcommpu</th>\n",
       "      <th>trade</th>\n",
       "      <th>services</th>\n",
       "      <th>profserv</th>\n",
       "      <th>profocc</th>\n",
       "      <th>clerocc</th>\n",
       "      <th>servocc</th>\n",
       "      <th>lwage</th>\n",
       "      <th>expersq</th>\n",
       "      <th>tenursq</th>\n",
       "    </tr>\n",
       "  </thead>\n",
       "  <tbody>\n",
       "    <tr>\n",
       "      <th>0</th>\n",
       "      <td>3.10</td>\n",
       "      <td>11</td>\n",
       "      <td>2</td>\n",
       "      <td>0</td>\n",
       "      <td>0</td>\n",
       "      <td>1</td>\n",
       "      <td>0</td>\n",
       "      <td>2</td>\n",
       "      <td>1</td>\n",
       "      <td>0</td>\n",
       "      <td>0</td>\n",
       "      <td>1</td>\n",
       "      <td>0</td>\n",
       "      <td>0</td>\n",
       "      <td>0</td>\n",
       "      <td>0</td>\n",
       "      <td>0</td>\n",
       "      <td>0</td>\n",
       "      <td>0</td>\n",
       "      <td>0</td>\n",
       "      <td>0</td>\n",
       "      <td>1.131402</td>\n",
       "      <td>4</td>\n",
       "      <td>0</td>\n",
       "    </tr>\n",
       "    <tr>\n",
       "      <th>1</th>\n",
       "      <td>3.24</td>\n",
       "      <td>12</td>\n",
       "      <td>22</td>\n",
       "      <td>2</td>\n",
       "      <td>0</td>\n",
       "      <td>1</td>\n",
       "      <td>1</td>\n",
       "      <td>3</td>\n",
       "      <td>1</td>\n",
       "      <td>0</td>\n",
       "      <td>0</td>\n",
       "      <td>1</td>\n",
       "      <td>0</td>\n",
       "      <td>0</td>\n",
       "      <td>0</td>\n",
       "      <td>0</td>\n",
       "      <td>1</td>\n",
       "      <td>0</td>\n",
       "      <td>0</td>\n",
       "      <td>0</td>\n",
       "      <td>1</td>\n",
       "      <td>1.175573</td>\n",
       "      <td>484</td>\n",
       "      <td>4</td>\n",
       "    </tr>\n",
       "    <tr>\n",
       "      <th>2</th>\n",
       "      <td>3.00</td>\n",
       "      <td>11</td>\n",
       "      <td>2</td>\n",
       "      <td>0</td>\n",
       "      <td>0</td>\n",
       "      <td>0</td>\n",
       "      <td>0</td>\n",
       "      <td>2</td>\n",
       "      <td>0</td>\n",
       "      <td>0</td>\n",
       "      <td>0</td>\n",
       "      <td>1</td>\n",
       "      <td>0</td>\n",
       "      <td>0</td>\n",
       "      <td>0</td>\n",
       "      <td>1</td>\n",
       "      <td>0</td>\n",
       "      <td>0</td>\n",
       "      <td>0</td>\n",
       "      <td>0</td>\n",
       "      <td>0</td>\n",
       "      <td>1.098612</td>\n",
       "      <td>4</td>\n",
       "      <td>0</td>\n",
       "    </tr>\n",
       "    <tr>\n",
       "      <th>3</th>\n",
       "      <td>6.00</td>\n",
       "      <td>8</td>\n",
       "      <td>44</td>\n",
       "      <td>28</td>\n",
       "      <td>0</td>\n",
       "      <td>0</td>\n",
       "      <td>1</td>\n",
       "      <td>0</td>\n",
       "      <td>1</td>\n",
       "      <td>0</td>\n",
       "      <td>0</td>\n",
       "      <td>1</td>\n",
       "      <td>0</td>\n",
       "      <td>0</td>\n",
       "      <td>0</td>\n",
       "      <td>0</td>\n",
       "      <td>0</td>\n",
       "      <td>0</td>\n",
       "      <td>0</td>\n",
       "      <td>1</td>\n",
       "      <td>0</td>\n",
       "      <td>1.791759</td>\n",
       "      <td>1936</td>\n",
       "      <td>784</td>\n",
       "    </tr>\n",
       "    <tr>\n",
       "      <th>4</th>\n",
       "      <td>5.30</td>\n",
       "      <td>12</td>\n",
       "      <td>7</td>\n",
       "      <td>2</td>\n",
       "      <td>0</td>\n",
       "      <td>0</td>\n",
       "      <td>1</td>\n",
       "      <td>1</td>\n",
       "      <td>0</td>\n",
       "      <td>0</td>\n",
       "      <td>0</td>\n",
       "      <td>1</td>\n",
       "      <td>0</td>\n",
       "      <td>0</td>\n",
       "      <td>0</td>\n",
       "      <td>0</td>\n",
       "      <td>0</td>\n",
       "      <td>0</td>\n",
       "      <td>0</td>\n",
       "      <td>0</td>\n",
       "      <td>0</td>\n",
       "      <td>1.667707</td>\n",
       "      <td>49</td>\n",
       "      <td>4</td>\n",
       "    </tr>\n",
       "  </tbody>\n",
       "</table>\n",
       "</div>"
      ],
      "text/plain": [
       "   wage  educ  exper  tenure  nonwhite  female  married  numdep  smsa  \\\n",
       "0  3.10    11      2       0         0       1        0       2     1   \n",
       "1  3.24    12     22       2         0       1        1       3     1   \n",
       "2  3.00    11      2       0         0       0        0       2     0   \n",
       "3  6.00     8     44      28         0       0        1       0     1   \n",
       "4  5.30    12      7       2         0       0        1       1     0   \n",
       "\n",
       "   northcen  south  west  construc  ndurman  trcommpu  trade  services  \\\n",
       "0         0      0     1         0        0         0      0         0   \n",
       "1         0      0     1         0        0         0      0         1   \n",
       "2         0      0     1         0        0         0      1         0   \n",
       "3         0      0     1         0        0         0      0         0   \n",
       "4         0      0     1         0        0         0      0         0   \n",
       "\n",
       "   profserv  profocc  clerocc  servocc     lwage  expersq  tenursq  \n",
       "0         0        0        0        0  1.131402        4        0  \n",
       "1         0        0        0        1  1.175573      484        4  \n",
       "2         0        0        0        0  1.098612        4        0  \n",
       "3         0        0        1        0  1.791759     1936      784  \n",
       "4         0        0        0        0  1.667707       49        4  "
      ]
     },
     "execution_count": 1,
     "metadata": {},
     "output_type": "execute_result"
    }
   ],
   "source": [
    "import wooldridge as woo\n",
    "import numpy as np\n",
    "import statsmodels.formula.api as smf\n",
    "import pandas as pd\n",
    "\n",
    "wage1 = woo.dataWoo('wage1')\n",
    "pd.options.display.max_columns=None\n",
    "\n",
    "wage1.head()"
   ]
  },
  {
   "cell_type": "markdown",
   "metadata": {
    "slideshow": {
     "slide_type": "slide"
    }
   },
   "source": [
    "**Time Series Data**\n",
    "\n",
    "Each variable contains one observation for each point in time (days, weeks, months, years, ...) \n",
    "\n",
    "<img src=\"figs\\time_ser.png\" width=\"400\"/> \n",
    "    \n",
    "<p>\n",
    "Example: minimum wages and unemplyment for one country (Puerto Rico)"
   ]
  },
  {
   "cell_type": "markdown",
   "metadata": {
    "slideshow": {
     "slide_type": "slide"
    }
   },
   "source": [
    "**Time Series Data**\n",
    "\n",
    "Example: consumer price index\n",
    "\n",
    "<img src=\"figs\\pricetrends_averagefood.png\" width=\"400\"/> \n",
    "    \n",
    "<p>\n",
    "\n",
    "Other examples: stock prices, money supply, GDP, annual homicide rates, and automobile sales"
   ]
  },
  {
   "cell_type": "markdown",
   "metadata": {
    "slideshow": {
     "slide_type": "slide"
    }
   },
   "source": [
    "**Time Series Data**\n",
    "\n",
    "Important distinction to cross sections:\n",
    "- The chronological ordering of observations in a time series conveys potentially important information\n",
    "- Past events can influence future events \n",
    "- Lags in behavior are prevalent in the social sciences\n",
    "\n",
    "It follows that we cannot assume independence over time, as we do in the analysis of cross-sectional data\n",
    "- Most economic and other time series are often strongly related to their recent histories\n",
    "    - E.g., the GDP from last quarter contains information about the likely range of the GDP in this quarter\n",
    "    - GDP tends to remain fairly stable from one quarter to the next (ok, this year probably not)"
   ]
  },
  {
   "cell_type": "markdown",
   "metadata": {
    "slideshow": {
     "slide_type": "slide"
    }
   },
   "source": [
    "**Consider the following Price Index as Example**\n",
    "\n",
    "For another applied example, consider the data set named `BARIUM`.\n",
    " - It contains monthly data on imports of barium chloride from China between February 1978 and December 1988.\n",
    " - As before, we see that there is a trend and seasonalities, but values do not jump randomly from one period to another\n",
    "\n",
    "Similarly, you would also expect that the temperature on a given day depends on the temperature on the day(s) before"
   ]
  },
  {
   "cell_type": "code",
   "execution_count": 3,
   "metadata": {
    "slideshow": {
     "slide_type": "slide"
    }
   },
   "outputs": [
    {
     "name": "stdout",
     "output_type": "stream",
     "text": [
      "barium[\"chnimp\"].head(): \n",
      "1978-02-28    220.462006\n",
      "1978-03-31     94.797997\n",
      "1978-04-30    219.357498\n",
      "1978-05-31    317.421509\n",
      "1978-06-30    114.639000\n",
      "Freq: M, Name: chnimp, dtype: float64\n",
      "\n"
     ]
    },
    {
     "data": {
      "image/png": "[encoded data removed]",
      "text/plain": [
       "<Figure size 432x288 with 1 Axes>"
      ]
     },
     "metadata": {
      "needs_background": "light"
     },
     "output_type": "display_data"
    }
   ],
   "source": [
    "import wooldridge as woo\n",
    "import pandas as pd\n",
    "import matplotlib.pyplot as plt\n",
    "pd.plotting.register_matplotlib_converters()\n",
    "\n",
    "barium = woo.dataWoo('barium')\n",
    "\n",
    "T = len(barium)\n",
    "\n",
    "# monthly time series starting Feb. 1978:\n",
    "barium.index = pd.date_range(start='1978-02', periods=T, freq='M')\n",
    "print(f'barium[\"chnimp\"].head(): \\n{barium[\"chnimp\"].head()}\\n')\n",
    "\n",
    "# plot chnimp (default: index on the x-axis):\n",
    "plt.plot('chnimp', data=barium, color='black', linestyle='-')\n",
    "plt.ylabel('chnimp')\n",
    "plt.xlabel('time')\n",
    "plt.savefig('graphs/Example-Barium.pdf')"
   ]
  },
  {
   "cell_type": "markdown",
   "metadata": {
    "slideshow": {
     "slide_type": "slide"
    }
   },
   "source": [
    "**Pooled Crossed Sections**\n",
    "\n",
    "Data sets with both cross-sectional- and time series features.\n",
    "\n",
    "**Example 1**: two cross-sectional US household surveys, one in 1985 and one in 1990.\n",
    "   - In 1985, a random sample of households is surveyed for variables such as income, savings, family size, and so on. \n",
    "   - In 1990, a new random sample of households is taken using the same survey questions.\n",
    "   - To increase our sample size, we can form a pooled cross section by combining the two years.\n",
    "\n",
    "With data from the years before and after a key policy change, we can analyze the effects of a new government policy, e.g., in 1988."
   ]
  },
  {
   "cell_type": "markdown",
   "metadata": {
    "slideshow": {
     "slide_type": "slide"
    }
   },
   "source": [
    "**Pooled Crossed Sections: Example 2**\n",
    "\n",
    "Suppose we have housing prices taken in 1993 and 1995, before and after a reduction in property taxes in 1994.\n",
    "- We have data on 250 houses for 1993 and on 270 houses for 1995.\n",
    "    - Observations 1 through 250 correspond to the houses sold in 1993, \n",
    "    - observations 251 through 520 correspond to the 270 houses sold in 1995.\n",
    "\n",
    "- To account for differences in the variables across the time, we keep track of the year for each observation\n",
    "    - Key distinction of a pooled cross section to a standard cross section\n",
    "    - This additional time dimension allows to analyze how a relationship has changed over time."
   ]
  },
  {
   "cell_type": "markdown",
   "metadata": {
    "slideshow": {
     "slide_type": "slide"
    }
   },
   "source": [
    "**Pooled Crossed Sections: Example 2**\n",
    "\n",
    "<img src=\"figs\\pooled_cross.png\" width=\"400\"/> \n",
    "    \n",
    "<p>\n"
   ]
  },
  {
   "cell_type": "code",
   "execution_count": 3,
   "metadata": {
    "slideshow": {
     "slide_type": "slide"
    }
   },
   "outputs": [
    {
     "data": {
      "text/plain": [
       "array([78, 85], dtype=int64)"
      ]
     },
     "metadata": {},
     "output_type": "display_data"
    },
    {
     "data": {
      "text/html": [
       "<div>\n",
       "<style scoped>\n",
       "    .dataframe tbody tr th:only-of-type {\n",
       "        vertical-align: middle;\n",
       "    }\n",
       "\n",
       "    .dataframe tbody tr th {\n",
       "        vertical-align: top;\n",
       "    }\n",
       "\n",
       "    .dataframe thead th {\n",
       "        text-align: right;\n",
       "    }\n",
       "</style>\n",
       "<table border=\"1\" class=\"dataframe\">\n",
       "  <thead>\n",
       "    <tr style=\"text-align: right;\">\n",
       "      <th></th>\n",
       "      <th>educ</th>\n",
       "      <th>south</th>\n",
       "      <th>nonwhite</th>\n",
       "      <th>female</th>\n",
       "      <th>married</th>\n",
       "      <th>exper</th>\n",
       "      <th>expersq</th>\n",
       "      <th>union</th>\n",
       "      <th>lwage</th>\n",
       "      <th>age</th>\n",
       "      <th>year</th>\n",
       "      <th>y85</th>\n",
       "      <th>y85fem</th>\n",
       "      <th>y85educ</th>\n",
       "      <th>y85union</th>\n",
       "    </tr>\n",
       "  </thead>\n",
       "  <tbody>\n",
       "    <tr>\n",
       "      <th>0</th>\n",
       "      <td>12</td>\n",
       "      <td>0</td>\n",
       "      <td>0</td>\n",
       "      <td>0</td>\n",
       "      <td>0</td>\n",
       "      <td>8</td>\n",
       "      <td>64</td>\n",
       "      <td>0</td>\n",
       "      <td>1.2150</td>\n",
       "      <td>25</td>\n",
       "      <td>78</td>\n",
       "      <td>0</td>\n",
       "      <td>0</td>\n",
       "      <td>0</td>\n",
       "      <td>0</td>\n",
       "    </tr>\n",
       "    <tr>\n",
       "      <th>1</th>\n",
       "      <td>12</td>\n",
       "      <td>0</td>\n",
       "      <td>0</td>\n",
       "      <td>1</td>\n",
       "      <td>1</td>\n",
       "      <td>30</td>\n",
       "      <td>900</td>\n",
       "      <td>1</td>\n",
       "      <td>1.6094</td>\n",
       "      <td>47</td>\n",
       "      <td>78</td>\n",
       "      <td>0</td>\n",
       "      <td>0</td>\n",
       "      <td>0</td>\n",
       "      <td>0</td>\n",
       "    </tr>\n",
       "    <tr>\n",
       "      <th>2</th>\n",
       "      <td>6</td>\n",
       "      <td>0</td>\n",
       "      <td>0</td>\n",
       "      <td>0</td>\n",
       "      <td>1</td>\n",
       "      <td>38</td>\n",
       "      <td>1444</td>\n",
       "      <td>1</td>\n",
       "      <td>2.1401</td>\n",
       "      <td>49</td>\n",
       "      <td>78</td>\n",
       "      <td>0</td>\n",
       "      <td>0</td>\n",
       "      <td>0</td>\n",
       "      <td>0</td>\n",
       "    </tr>\n",
       "    <tr>\n",
       "      <th>3</th>\n",
       "      <td>12</td>\n",
       "      <td>0</td>\n",
       "      <td>0</td>\n",
       "      <td>0</td>\n",
       "      <td>1</td>\n",
       "      <td>19</td>\n",
       "      <td>361</td>\n",
       "      <td>1</td>\n",
       "      <td>2.0732</td>\n",
       "      <td>36</td>\n",
       "      <td>78</td>\n",
       "      <td>0</td>\n",
       "      <td>0</td>\n",
       "      <td>0</td>\n",
       "      <td>0</td>\n",
       "    </tr>\n",
       "    <tr>\n",
       "      <th>4</th>\n",
       "      <td>12</td>\n",
       "      <td>0</td>\n",
       "      <td>0</td>\n",
       "      <td>0</td>\n",
       "      <td>1</td>\n",
       "      <td>11</td>\n",
       "      <td>121</td>\n",
       "      <td>0</td>\n",
       "      <td>1.6490</td>\n",
       "      <td>28</td>\n",
       "      <td>78</td>\n",
       "      <td>0</td>\n",
       "      <td>0</td>\n",
       "      <td>0</td>\n",
       "      <td>0</td>\n",
       "    </tr>\n",
       "  </tbody>\n",
       "</table>\n",
       "</div>"
      ],
      "text/plain": [
       "   educ  south  nonwhite  female  married  exper  expersq  union   lwage  age  \\\n",
       "0    12      0         0       0        0      8       64      0  1.2150   25   \n",
       "1    12      0         0       1        1     30      900      1  1.6094   47   \n",
       "2     6      0         0       0        1     38     1444      1  2.1401   49   \n",
       "3    12      0         0       0        1     19      361      1  2.0732   36   \n",
       "4    12      0         0       0        1     11      121      0  1.6490   28   \n",
       "\n",
       "   year  y85  y85fem  y85educ  y85union  \n",
       "0    78    0       0        0         0  \n",
       "1    78    0       0        0         0  \n",
       "2    78    0       0        0         0  \n",
       "3    78    0       0        0         0  \n",
       "4    78    0       0        0         0  "
      ]
     },
     "execution_count": 3,
     "metadata": {},
     "output_type": "execute_result"
    }
   ],
   "source": [
    "import wooldridge as woo\n",
    "import pandas as pd\n",
    "import statsmodels.formula.api as smf\n",
    "\n",
    "cps78_85 = woo.dataWoo('cps78_85')\n",
    "\n",
    "display(cps78_85.year.unique())\n",
    "cps78_85.head()\n",
    "# a union is a syndicat de travail, we will spend more time on this dat set later."
   ]
  },
  {
   "cell_type": "markdown",
   "metadata": {
    "slideshow": {
     "slide_type": "slide"
    }
   },
   "source": [
    "**Panel or Longitudinal Data**\n",
    "\n",
    "A time series for each cross-sectional unit (individuals, firms, region) in the data set.\n",
    "\n",
    "- **Example 1**: information on wage, education, and employment history for a set of individuals followed over a 10-year period.\n",
    "- **Example 2**: information on stock prices, investment, and financial data about the same set of firms over a five-year time period.\n",
    "- **Example 3**: data for all US counties on immigration, tax rates, wages, government expenditures, for the years 1980, 1985, and 1990."
   ]
  },
  {
   "cell_type": "markdown",
   "metadata": {
    "slideshow": {
     "slide_type": "slide"
    }
   },
   "source": [
    "Unlike in pooled cross section: **same cross-sectional units are followed over time**\n",
    "\n",
    "Main benefits: \n",
    "- Having multiple observations on the same units allows us to control for certain unobserved characteristics of individuals, firms, and so on.\n",
    "- The use of more than one observation in the cross section facilitates causal inference \n",
    "\n",
    "We show in this class how wrong results can be when no panel data are available (e.g., in Lecture 6)."
   ]
  },
  {
   "cell_type": "markdown",
   "metadata": {
    "slideshow": {
     "slide_type": "slide"
    }
   },
   "source": [
    "**Example for a panel data set of two groups**\n",
    "\n",
    "<img src=\"figs\\panel_tab.png\" width=\"500\"/> \n",
    "    \n",
    "<p>"
   ]
  },
  {
   "cell_type": "markdown",
   "metadata": {
    "slideshow": {
     "slide_type": "slide"
    }
   },
   "source": [
    "**Example for a panel data set of two groups**\n",
    "\n",
    "<img src=\"figs\\panel.png\" width=\"500\"/> \n",
    "    \n",
    "<p>"
   ]
  },
  {
   "cell_type": "code",
   "execution_count": 4,
   "metadata": {
    "slideshow": {
     "slide_type": "slide"
    }
   },
   "outputs": [
    {
     "data": {
      "text/plain": [
       "array([1980, 1981, 1982, 1983, 1984, 1985, 1986, 1987], dtype=int64)"
      ]
     },
     "metadata": {},
     "output_type": "display_data"
    },
    {
     "data": {
      "text/html": [
       "<div>\n",
       "<style scoped>\n",
       "    .dataframe tbody tr th:only-of-type {\n",
       "        vertical-align: middle;\n",
       "    }\n",
       "\n",
       "    .dataframe tbody tr th {\n",
       "        vertical-align: top;\n",
       "    }\n",
       "\n",
       "    .dataframe thead th {\n",
       "        text-align: right;\n",
       "    }\n",
       "</style>\n",
       "<table border=\"1\" class=\"dataframe\">\n",
       "  <thead>\n",
       "    <tr style=\"text-align: right;\">\n",
       "      <th></th>\n",
       "      <th>nr</th>\n",
       "      <th>year</th>\n",
       "      <th>agric</th>\n",
       "      <th>black</th>\n",
       "      <th>bus</th>\n",
       "      <th>construc</th>\n",
       "      <th>ent</th>\n",
       "      <th>exper</th>\n",
       "      <th>fin</th>\n",
       "      <th>hisp</th>\n",
       "      <th>poorhlth</th>\n",
       "      <th>hours</th>\n",
       "      <th>manuf</th>\n",
       "      <th>married</th>\n",
       "      <th>min</th>\n",
       "      <th>nrthcen</th>\n",
       "      <th>nrtheast</th>\n",
       "      <th>occ1</th>\n",
       "      <th>occ2</th>\n",
       "      <th>occ3</th>\n",
       "      <th>occ4</th>\n",
       "      <th>occ5</th>\n",
       "      <th>occ6</th>\n",
       "      <th>occ7</th>\n",
       "      <th>occ8</th>\n",
       "      <th>occ9</th>\n",
       "      <th>per</th>\n",
       "      <th>pro</th>\n",
       "      <th>pub</th>\n",
       "      <th>rur</th>\n",
       "      <th>south</th>\n",
       "      <th>educ</th>\n",
       "      <th>tra</th>\n",
       "      <th>trad</th>\n",
       "      <th>union</th>\n",
       "      <th>lwage</th>\n",
       "      <th>d81</th>\n",
       "      <th>d82</th>\n",
       "      <th>d83</th>\n",
       "      <th>d84</th>\n",
       "      <th>d85</th>\n",
       "      <th>d86</th>\n",
       "      <th>d87</th>\n",
       "      <th>expersq</th>\n",
       "    </tr>\n",
       "  </thead>\n",
       "  <tbody>\n",
       "    <tr>\n",
       "      <th>0</th>\n",
       "      <td>13</td>\n",
       "      <td>1980</td>\n",
       "      <td>0</td>\n",
       "      <td>0</td>\n",
       "      <td>1</td>\n",
       "      <td>0</td>\n",
       "      <td>0</td>\n",
       "      <td>1</td>\n",
       "      <td>0</td>\n",
       "      <td>0</td>\n",
       "      <td>0</td>\n",
       "      <td>2672</td>\n",
       "      <td>0</td>\n",
       "      <td>0</td>\n",
       "      <td>0</td>\n",
       "      <td>0</td>\n",
       "      <td>1</td>\n",
       "      <td>0</td>\n",
       "      <td>0</td>\n",
       "      <td>0</td>\n",
       "      <td>0</td>\n",
       "      <td>0</td>\n",
       "      <td>0</td>\n",
       "      <td>0</td>\n",
       "      <td>0</td>\n",
       "      <td>1</td>\n",
       "      <td>0</td>\n",
       "      <td>0</td>\n",
       "      <td>0</td>\n",
       "      <td>0</td>\n",
       "      <td>0</td>\n",
       "      <td>14</td>\n",
       "      <td>0</td>\n",
       "      <td>0</td>\n",
       "      <td>0</td>\n",
       "      <td>1.197540</td>\n",
       "      <td>0</td>\n",
       "      <td>0</td>\n",
       "      <td>0</td>\n",
       "      <td>0</td>\n",
       "      <td>0</td>\n",
       "      <td>0</td>\n",
       "      <td>0</td>\n",
       "      <td>1</td>\n",
       "    </tr>\n",
       "    <tr>\n",
       "      <th>1</th>\n",
       "      <td>13</td>\n",
       "      <td>1981</td>\n",
       "      <td>0</td>\n",
       "      <td>0</td>\n",
       "      <td>0</td>\n",
       "      <td>0</td>\n",
       "      <td>0</td>\n",
       "      <td>2</td>\n",
       "      <td>0</td>\n",
       "      <td>0</td>\n",
       "      <td>0</td>\n",
       "      <td>2320</td>\n",
       "      <td>0</td>\n",
       "      <td>0</td>\n",
       "      <td>0</td>\n",
       "      <td>0</td>\n",
       "      <td>1</td>\n",
       "      <td>0</td>\n",
       "      <td>0</td>\n",
       "      <td>0</td>\n",
       "      <td>0</td>\n",
       "      <td>0</td>\n",
       "      <td>0</td>\n",
       "      <td>0</td>\n",
       "      <td>0</td>\n",
       "      <td>1</td>\n",
       "      <td>1</td>\n",
       "      <td>0</td>\n",
       "      <td>0</td>\n",
       "      <td>0</td>\n",
       "      <td>0</td>\n",
       "      <td>14</td>\n",
       "      <td>0</td>\n",
       "      <td>0</td>\n",
       "      <td>1</td>\n",
       "      <td>1.853060</td>\n",
       "      <td>1</td>\n",
       "      <td>0</td>\n",
       "      <td>0</td>\n",
       "      <td>0</td>\n",
       "      <td>0</td>\n",
       "      <td>0</td>\n",
       "      <td>0</td>\n",
       "      <td>4</td>\n",
       "    </tr>\n",
       "    <tr>\n",
       "      <th>2</th>\n",
       "      <td>13</td>\n",
       "      <td>1982</td>\n",
       "      <td>0</td>\n",
       "      <td>0</td>\n",
       "      <td>1</td>\n",
       "      <td>0</td>\n",
       "      <td>0</td>\n",
       "      <td>3</td>\n",
       "      <td>0</td>\n",
       "      <td>0</td>\n",
       "      <td>0</td>\n",
       "      <td>2940</td>\n",
       "      <td>0</td>\n",
       "      <td>0</td>\n",
       "      <td>0</td>\n",
       "      <td>0</td>\n",
       "      <td>1</td>\n",
       "      <td>0</td>\n",
       "      <td>0</td>\n",
       "      <td>0</td>\n",
       "      <td>0</td>\n",
       "      <td>0</td>\n",
       "      <td>0</td>\n",
       "      <td>0</td>\n",
       "      <td>0</td>\n",
       "      <td>1</td>\n",
       "      <td>0</td>\n",
       "      <td>0</td>\n",
       "      <td>0</td>\n",
       "      <td>0</td>\n",
       "      <td>0</td>\n",
       "      <td>14</td>\n",
       "      <td>0</td>\n",
       "      <td>0</td>\n",
       "      <td>0</td>\n",
       "      <td>1.344462</td>\n",
       "      <td>0</td>\n",
       "      <td>1</td>\n",
       "      <td>0</td>\n",
       "      <td>0</td>\n",
       "      <td>0</td>\n",
       "      <td>0</td>\n",
       "      <td>0</td>\n",
       "      <td>9</td>\n",
       "    </tr>\n",
       "    <tr>\n",
       "      <th>3</th>\n",
       "      <td>13</td>\n",
       "      <td>1983</td>\n",
       "      <td>0</td>\n",
       "      <td>0</td>\n",
       "      <td>1</td>\n",
       "      <td>0</td>\n",
       "      <td>0</td>\n",
       "      <td>4</td>\n",
       "      <td>0</td>\n",
       "      <td>0</td>\n",
       "      <td>0</td>\n",
       "      <td>2960</td>\n",
       "      <td>0</td>\n",
       "      <td>0</td>\n",
       "      <td>0</td>\n",
       "      <td>0</td>\n",
       "      <td>1</td>\n",
       "      <td>0</td>\n",
       "      <td>0</td>\n",
       "      <td>0</td>\n",
       "      <td>0</td>\n",
       "      <td>0</td>\n",
       "      <td>0</td>\n",
       "      <td>0</td>\n",
       "      <td>0</td>\n",
       "      <td>1</td>\n",
       "      <td>0</td>\n",
       "      <td>0</td>\n",
       "      <td>0</td>\n",
       "      <td>0</td>\n",
       "      <td>0</td>\n",
       "      <td>14</td>\n",
       "      <td>0</td>\n",
       "      <td>0</td>\n",
       "      <td>0</td>\n",
       "      <td>1.433213</td>\n",
       "      <td>0</td>\n",
       "      <td>0</td>\n",
       "      <td>1</td>\n",
       "      <td>0</td>\n",
       "      <td>0</td>\n",
       "      <td>0</td>\n",
       "      <td>0</td>\n",
       "      <td>16</td>\n",
       "    </tr>\n",
       "    <tr>\n",
       "      <th>4</th>\n",
       "      <td>13</td>\n",
       "      <td>1984</td>\n",
       "      <td>0</td>\n",
       "      <td>0</td>\n",
       "      <td>0</td>\n",
       "      <td>0</td>\n",
       "      <td>0</td>\n",
       "      <td>5</td>\n",
       "      <td>0</td>\n",
       "      <td>0</td>\n",
       "      <td>0</td>\n",
       "      <td>3071</td>\n",
       "      <td>0</td>\n",
       "      <td>0</td>\n",
       "      <td>0</td>\n",
       "      <td>0</td>\n",
       "      <td>1</td>\n",
       "      <td>0</td>\n",
       "      <td>0</td>\n",
       "      <td>0</td>\n",
       "      <td>0</td>\n",
       "      <td>1</td>\n",
       "      <td>0</td>\n",
       "      <td>0</td>\n",
       "      <td>0</td>\n",
       "      <td>0</td>\n",
       "      <td>1</td>\n",
       "      <td>0</td>\n",
       "      <td>0</td>\n",
       "      <td>0</td>\n",
       "      <td>0</td>\n",
       "      <td>14</td>\n",
       "      <td>0</td>\n",
       "      <td>0</td>\n",
       "      <td>0</td>\n",
       "      <td>1.568125</td>\n",
       "      <td>0</td>\n",
       "      <td>0</td>\n",
       "      <td>0</td>\n",
       "      <td>1</td>\n",
       "      <td>0</td>\n",
       "      <td>0</td>\n",
       "      <td>0</td>\n",
       "      <td>25</td>\n",
       "    </tr>\n",
       "  </tbody>\n",
       "</table>\n",
       "</div>"
      ],
      "text/plain": [
       "   nr  year  agric  black  bus  construc  ent  exper  fin  hisp  poorhlth  \\\n",
       "0  13  1980      0      0    1         0    0      1    0     0         0   \n",
       "1  13  1981      0      0    0         0    0      2    0     0         0   \n",
       "2  13  1982      0      0    1         0    0      3    0     0         0   \n",
       "3  13  1983      0      0    1         0    0      4    0     0         0   \n",
       "4  13  1984      0      0    0         0    0      5    0     0         0   \n",
       "\n",
       "   hours  manuf  married  min  nrthcen  nrtheast  occ1  occ2  occ3  occ4  \\\n",
       "0   2672      0        0    0        0         1     0     0     0     0   \n",
       "1   2320      0        0    0        0         1     0     0     0     0   \n",
       "2   2940      0        0    0        0         1     0     0     0     0   \n",
       "3   2960      0        0    0        0         1     0     0     0     0   \n",
       "4   3071      0        0    0        0         1     0     0     0     0   \n",
       "\n",
       "   occ5  occ6  occ7  occ8  occ9  per  pro  pub  rur  south  educ  tra  trad  \\\n",
       "0     0     0     0     0     1    0    0    0    0      0    14    0     0   \n",
       "1     0     0     0     0     1    1    0    0    0      0    14    0     0   \n",
       "2     0     0     0     0     1    0    0    0    0      0    14    0     0   \n",
       "3     0     0     0     0     1    0    0    0    0      0    14    0     0   \n",
       "4     1     0     0     0     0    1    0    0    0      0    14    0     0   \n",
       "\n",
       "   union     lwage  d81  d82  d83  d84  d85  d86  d87  expersq  \n",
       "0      0  1.197540    0    0    0    0    0    0    0        1  \n",
       "1      1  1.853060    1    0    0    0    0    0    0        4  \n",
       "2      0  1.344462    0    1    0    0    0    0    0        9  \n",
       "3      0  1.433213    0    0    1    0    0    0    0       16  \n",
       "4      0  1.568125    0    0    0    1    0    0    0       25  "
      ]
     },
     "metadata": {},
     "output_type": "display_data"
    },
    {
     "data": {
      "text/plain": [
       "array([1980, 1981, 1982, 1983, 1984, 1985, 1986, 1987], dtype=int64)"
      ]
     },
     "metadata": {},
     "output_type": "display_data"
    },
    {
     "data": {
      "text/plain": [
       "8"
      ]
     },
     "metadata": {},
     "output_type": "display_data"
    },
    {
     "data": {
      "text/plain": [
       "545"
      ]
     },
     "metadata": {},
     "output_type": "display_data"
    }
   ],
   "source": [
    "import wooldridge as woo\n",
    "import pandas as pd\n",
    "import linearmodels as plm\n",
    "import numpy as np\n",
    "\n",
    "wagepan = woo.dataWoo('wagepan')\n",
    "\n",
    "display(wagepan.year.unique())\n",
    "\n",
    "display(wagepan.head())\n",
    "\n",
    "display(wagepan.year.unique())\n",
    "display(wagepan['year'].nunique())\n",
    "display(wagepan['nr'].nunique())\n",
    "\n",
    "#display(wagepan['nr'].value_counts())\n"
   ]
  },
  {
   "cell_type": "markdown",
   "metadata": {
    "slideshow": {
     "slide_type": "slide"
    }
   },
   "source": [
    "## Correlation and Causation \n",
    "\n",
    "The aim of Econometrics is to infer the causal effect of one variable on another, e.g., of education on productivity/salary\n",
    "\n",
    "We already saw some pitfalls that hinder causal inference (e.g., stork population and babies). \n",
    "\n",
    "We now discuss more examples where correlation does not imply causation and relate them to the topics of our class.\n",
    "- We always want to start with the best possible data and simplest methodology\n",
    "- Econometrics has developed a methodology that allows causal inference when best data is not available"
   ]
  },
  {
   "cell_type": "markdown",
   "metadata": {
    "slideshow": {
     "slide_type": "slide"
    }
   },
   "source": [
    "**What do you think of the following relation?**\n",
    "\n",
    "<br>  \n",
    "\n",
    "<img src=\"figs\\IcecreamDrowning.png\" width=\"500\"/> \n",
    "    \n",
    "<p>"
   ]
  },
  {
   "cell_type": "markdown",
   "metadata": {
    "slideshow": {
     "slide_type": "slide"
    }
   },
   "source": [
    "**Category 1: Third cause fallacy / Omitted Variable Bias**\n",
    "\n",
    "The omitted variable that drives both ice cream sales and drownings is seasonality.\n",
    "\n",
    "- Do ice cream sales cause shark attacks?\n",
    "- Do ice cream sales cause heart attacks?\n",
    "- You could also replace ice cream by soda for instance "
   ]
  },
  {
   "cell_type": "markdown",
   "metadata": {
    "slideshow": {
     "slide_type": "slide"
    }
   },
   "source": [
    "**Further Examples of Omitted Variable Bias**\n",
    "\n",
    "<br>  \n",
    "\n",
    "<img src=\"figs\\mobile.png\" width=\"500\"/> \n",
    "    \n",
    "<p>\n",
    "    \n",
    "Do mobile phones save lifes?    "
   ]
  },
  {
   "cell_type": "markdown",
   "metadata": {
    "slideshow": {
     "slide_type": "slide"
    }
   },
   "source": [
    "**Further Examples of Omitted Variable Bias**\n",
    "\n",
    "Consider the following news headline: *5G mobile networks transmit COVID-19*\n",
    "\n",
    "- www.dailymail.co.uk/video/news/video-2143946/Video-Woman-confronts-5g-workers-blames-coronavirus.html\n",
    "- www.businessinsider.fr/us/coronavirus-5g-conspiracy-theory-england-cellphone-masts-engineers-attacked-2020-4\n"
   ]
  },
  {
   "cell_type": "markdown",
   "metadata": {
    "slideshow": {
     "slide_type": "slide"
    }
   },
   "source": [
    "**What do you make of the following correlations?**\n",
    "\n",
    "<br>  \n",
    "\n",
    "<img src=\"figs\\COVID_5G.jpg\" width=\"500\"/> \n",
    "    \n",
    "<p>\n",
    " \n",
    "taken from: https://esmed.org/MRA/mra/article/view/2371\n",
    "    "
   ]
  },
  {
   "cell_type": "markdown",
   "metadata": {
    "slideshow": {
     "slide_type": "slide"
    }
   },
   "source": [
    "We could construct similar graphs taking the distributions of Dominos in the US\n",
    "\n",
    "<br>  \n",
    "\n",
    "<img src=\"figs\\Dominos_USA.png\" width=\"400\"/> \n",
    "    \n",
    "<p>\n",
    "    \n",
    "... or of Subways, McDonalds, dogworms, gonorrea, ..."
   ]
  },
  {
   "cell_type": "markdown",
   "metadata": {
    "slideshow": {
     "slide_type": "slide"
    }
   },
   "source": [
    "Similar careful interpretation is required when you hear about the correlation of\n",
    "\n",
    "- Co2 consumption and obesity\n",
    "- Chocolate consumption and nobel laureates (see lecture 1)\n",
    "\n",
    "Both driven by wealth"
   ]
  },
  {
   "cell_type": "markdown",
   "metadata": {
    "slideshow": {
     "slide_type": "slide"
    }
   },
   "source": [
    "***Consider the following graphical representation of Shoe Size and Income***\n",
    "\n",
    "Do larger people get more income?\n",
    "\n",
    "<br>  \n",
    "\n",
    "\n",
    "<img src=\"figs\\shoe1.png\" width=\"300\"/> \n",
    "    \n",
    "\n",
    "<p>    \n",
    "    "
   ]
  },
  {
   "cell_type": "markdown",
   "metadata": {
    "slideshow": {
     "slide_type": "slide"
    }
   },
   "source": [
    "The omitted variable is gender    \n",
    "\n",
    "<br>  \n",
    "\n",
    "\n",
    "<center><img src=\"figs\\shoe2.png\" width=\"300\"/> \n",
    "    \n",
    "\n",
    "<p>"
   ]
  },
  {
   "cell_type": "markdown",
   "metadata": {
    "slideshow": {
     "slide_type": "slide"
    }
   },
   "source": [
    "**Summary of Cagetory 1: Omitted variable bias**\n",
    "\n",
    "The omitted variables in the above examples were seasonality (ice cream), income/wealth (mobile subscriptions), population density (5G and Corona)\n",
    "\n",
    "Econometrics uses the *ceteris paribus* notion: holding all relevant variables fixed\n",
    "- If the confounding variables are observable: regression techniques in lectures 3 and 4. \n",
    "- If the confounding variables are unobservable: we can use panel methods, such as fixed effects, IV regression (lecture 6) and Difference-in-Differences estimator (lecture 7)."
   ]
  },
  {
   "cell_type": "markdown",
   "metadata": {
    "slideshow": {
     "slide_type": "slide"
    }
   },
   "source": [
    "**2. Consider the following claims** \n",
    "\n",
    "Do rotating turbines cause wind? Do umbrellas cause rain? \n",
    "\n",
    "- Violent computer games make kids more violent. \n",
    "- Kids with higher self-esteem have better grades at school.\n",
    "- Married man have higher life expectancy.  \n"
   ]
  },
  {
   "cell_type": "markdown",
   "metadata": {
    "slideshow": {
     "slide_type": "slide"
    }
   },
   "source": [
    "**Category 2: Direction of Effect** \n",
    "\n",
    "A causes B because A correlates to B? \n",
    "\n",
    "- wind causes wind turbines to rotate and not vice versa\n",
    "- more violent kids could be more likely to choose computer games\n",
    "- good grades give more self-esteem\n",
    "- men who are healtier and live longer are more likely to get married\n",
    "\n",
    "Sometimes intuition helps us to identify the direction of the effect. Sometimes theory. \n",
    "- If none if the former is possible we can use IV regression (lecture 6).\n",
    "    - Idea: Identifying the effect of A on B holding fixed the effect of B on A"
   ]
  },
  {
   "cell_type": "markdown",
   "metadata": {
    "slideshow": {
     "slide_type": "slide"
    }
   },
   "source": [
    "**Category 3: Consider the following graph**\n",
    "\n",
    "<br>  \n",
    "\n",
    "<img src=\"figs\\explorer.png\" width=\"400\"/> \n",
    "    \n",
    "<p>\n"
   ]
  },
  {
   "cell_type": "markdown",
   "metadata": {
    "slideshow": {
     "slide_type": "slide"
    }
   },
   "source": [
    "**Category 3: Complete coincidence**\n",
    "\n",
    "In some cases, we find that two variables are correlated out of pure luck \n",
    "- Such events could happen even with more sophisticated methods\n",
    "- Intuition and theory can guide us \n",
    "- Statistical inference helps us to understand how likely sth occurs by chance (lectures 3 and 4)."
   ]
  },
  {
   "cell_type": "markdown",
   "metadata": {
    "slideshow": {
     "slide_type": "slide"
    }
   },
   "source": [
    "**Econometrics helps us to understand the causal relationship**\n",
    "\n",
    "Absent any bias (large sample, random subsample, observation of all relevant variables, knowledge of functional relationship), we can use \n",
    "- Relationship between two variables: correlations and bivariate regressions (lecture 3) \n",
    "- Relationship between more than two variables: multivariate regressions (lecture 4)\n",
    "\n",
    "We will also learn some of the above pitfalls\n",
    "\n",
    "1. Omitted variable bias: Have we considered all relevant variables? Or are they unobservable? \n",
    "2. Simultaneity Bias: In which direction does the causal effect go? \n",
    "3. Selection bias: Do we a subsample randomly drawn from the relevant distribution?  \n",
    "4. Inference: Are our obtained results causal or caused by chance? "
   ]
  },
  {
   "cell_type": "markdown",
   "metadata": {
    "slideshow": {
     "slide_type": "slide"
    }
   },
   "source": [
    "## The notion of Ceteris Paribus and Counterfactual Reasoning"
   ]
  },
  {
   "cell_type": "markdown",
   "metadata": {
    "slideshow": {
     "slide_type": "slide"
    }
   },
   "source": [
    "**The notion of Ceteris Paribus**: \"other (relevant) factors being equal\" \n",
    "\n",
    "- Holding other factors fixed plays an important role in causal analysis of economic studies, e.g., in policy analysis. \n",
    "\n",
    "- A typical economic question is analyzing how a product's quantity changes after changing the same product's price (or the one of others)\n",
    "    - In our analysis, we want to hold all other factors (or confounders) fixed, such as income, prices of other goods, and individual tastes.\n",
    "    - Otherwise, we cannot infer the true and causal effect of a price change on the quantity demanded.\n",
    "\n",
    "Econometrics equips us with the necessary tools\n",
    "- The key question in most empirical studies is: Have all confounders been held fixed to make a case for causality?\n",
    "\n"
   ]
  },
  {
   "cell_type": "markdown",
   "metadata": {
    "slideshow": {
     "slide_type": "slide"
    }
   },
   "source": [
    "**Ceteris Paribus: Examples of Job Training and Crime**\n",
    "\n",
    "This notion has been implicit in our earlier examples on \"Job Training and Worker Prductivity\" and \"Economic Model of Crime\", \n",
    "\n",
    "- Job training example: \n",
    "    - What is the effect of more job training on wages, \n",
    "    - When all other components are held equal (in particular, education and experience).\n",
    "    - Only if all other relevant factors fixed are fixed, we can infer a causal effect\n",
    "\n",
    "Although these simple examples seem very intuitive, in reality we can never hold litteraly everything equal.\n",
    "- E.g., the number of factors that can affect criminal activity or wages is immense and not all of them are observable\n",
    "- Carefully applied, econometric methods can simulate a ceteris paribus experiment\n"
   ]
  },
  {
   "cell_type": "markdown",
   "metadata": {
    "slideshow": {
     "slide_type": "slide"
    }
   },
   "source": [
    "**Counterfactual Reasoning**\n",
    "\n",
    "In many setups, such as the analysis of policy interventions, it is useful to describe the ceteris paribus notion through **counterfactual reasoning**.\n",
    "- The idea is to imagine an economic unit, such as an individual or a firm, in two or more different states of the world.\n",
    "\n",
    "Consider again the Job Training Example\n",
    "- Each worker can have subsequent earnings in two states: with and without job training\n",
    "- the counterfactual thought experiment applies to each individual separately\n",
    "- Labor earnings differ for at least some indiviuals in the two states \n",
    "- \"Holding other factors fixed\", we can get a causal estimate of these **counterfactual outcomes** "
   ]
  },
  {
   "cell_type": "markdown",
   "metadata": {
    "slideshow": {
     "slide_type": "slide"
    }
   },
   "source": [
    "**Counterfactual Reasoning**\n",
    "\n",
    "In many setups, we observe the economic unit (e.g., the worker) in only one state of the world, which raises important problems \n",
    "- We formally address later how econometric methods can be used to estimate ceteris paribus effects \n",
    "- Now we informally discuss typical problems that arise when inferring causality in economics\n",
    "- I.e., we consider several research questions and discuss (i) what other factors we would like to hold fixed and (ii) sprinkle in some counterfactual reasoning.\n",
    "\n",
    "This thought experiment helps us to\n",
    "- Know how to infer causality if we conduct an appropriate experiment.\n",
    "- Understand how such an experiment might be structured,\n",
    "- Observe that, in most cases, obtaining experimental data is impractical.\n",
    "- Think about why the available data fail to have the important features of an experimental data set."
   ]
  },
  {
   "cell_type": "markdown",
   "metadata": {
    "slideshow": {
     "slide_type": "slide"
    }
   },
   "source": [
    "**Example: What are the Effects of New Fertilizers on Crop Yield**\n",
    "\n",
    "- Suppose the crop under consideration is soybeans. \n",
    "- Other factors affect yield, e.g., rainfall, land quality, and parasites \n",
    "- We therefore must analyze our research question *ceteris paribus*, holding equal the other factors\n",
    "    \n",
    "    \n",
    "One way to determine the causal effect of fertilizer on soybean yield is to conduct an experiment:\n",
    "  - Choose several one-acre plots of land.\n",
    "  - Apply different amounts of fertilizer to each plot and subsequently measure the yields; this gives us a cross-sectional data set.\n",
    "  - Then, use statistical methods (to be introduced in later) to measure the association between yields and fertilizer amounts.  \n",
    "   "
   ]
  },
  {
   "cell_type": "markdown",
   "metadata": {
    "slideshow": {
     "slide_type": "slide"
    }
   },
   "source": [
    "**Example: Effects of Fertilizer on Crop Yield**\n",
    "\n",
    "Limitations: \n",
    "- plots of land are not identical in all respects except for the amount of fertilizer.\n",
    "- choosing plots of land with this feature is not feasible: some of the factors, such as land quality, cannot even be fully observed. \n",
    "\n",
    "Solution to measure the ceteris paribus effect of fertilizer on yield\n",
    "- The answer depends on the specifics of how fertilizer amounts are chosen. \n",
    "- If the levels of fertilizer are assigned to plots independently of other plot features that affect yield then we are in business. \n",
    "- that is, other characteristics of plots are completely ignored when deciding on fertilizer amounts\n",
    "\n",
    "We will justify this statement later."
   ]
  },
  {
   "cell_type": "markdown",
   "metadata": {
    "slideshow": {
     "slide_type": "slide"
    }
   },
   "source": [
    "**Another Example: Measuring the Return to Education**  \n",
    "\n",
    "A long-standing interest for Labor economists and policy makers is the \"return to education.\" \n",
    "\n",
    "- If a person is chosen from the population and given another year of education, by how much will wages increase? \n",
    "- Ceteris paribus question: all other factors need to be fixed while another year of education is given to the person.  \n",
    "\n",
    "Notice the element of counterfactual reasoning here \n",
    "- Wage of each individual varies with different levels of education, that is, in different states of the world. \n",
    "- We can only obtain wage in only one state of the world: the education level they actually wound up with\n",
    "- Their education and wage are the outcomes of intellectual ability, motivation for learning, parental input, and societal influences.  "
   ]
  },
  {
   "cell_type": "markdown",
   "metadata": {
    "slideshow": {
     "slide_type": "slide"
    }
   },
   "source": [
    "**Another Example: Measuring the Return to Education**\n",
    "\n",
    "How would we measure our research question if we (the social planner) can assign any level of education to any person? \n",
    "\n",
    "- Choose a group of people and randomly assign each person an amount of education\n",
    "    - Group 1: eighth-grade, Group 2: high school, Group 2: college, ...  \n",
    "- Measures wages in each group of people \n",
    "\n",
    "The people here are like the plots in the fertilizer example \n",
    "- education is fertilizer and wage rate is soybean yield \n",
    "- If levels of education are assigned independently of other characteristics that affect productivity (such as experience and innate ability), then our analysis will yield useful results.\n",
    "- Again, we justify this claim later"
   ]
  },
  {
   "cell_type": "markdown",
   "metadata": {
    "slideshow": {
     "slide_type": "slide"
    }
   },
   "source": [
    "**Another Example: Measuring the Return to Education**\n",
    "\n",
    "Because people are not land and education is not yield, the experiment is unfeasible \n",
    "- ethical issues, \n",
    "- economic costs associated with randomly determining education levels for a group of individuals, \n",
    "- Impossible to assign someone an eighth-grade education if s/he has a college degree.\n",
    "\n",
    "Alternative\n",
    "- Collecting non-experimental data on education levels and wages \n",
    "    - for a large group by sampling randomly from the population of working people.\n",
    "- Such data are available from a variety of surveys used in labor economics"
   ]
  },
  {
   "cell_type": "markdown",
   "metadata": {
    "slideshow": {
     "slide_type": "slide"
    }
   },
   "source": [
    "**Another Example: Measuring the Return to Education**\n",
    "\n",
    "Limitations to estimating the *ceteris paribus* return to education: \n",
    "\n",
    "- People choose their own levels of education; \n",
    "    - therefore, education levels are probably not determined independently of all other factors affecting wage.\n",
    "\n",
    "- One factor that affects wage is experience in the workforce. \n",
    "    - Because pursuing more education generally requires postponing entering the workforce, those with more education usually have less experience.\n",
    "    - Thus: in a non-experimental data set on wages and education, education is likely to be negatively associated with a key variable that also affects wage.\n",
    "\n",
    "- It is also believed that people with more innate ability often choose higher levels of education.\n",
    "    - Because higher ability leads to higher wages, we again have a correlation between education and a critical factor that affects wage."
   ]
  },
  {
   "cell_type": "markdown",
   "metadata": {
    "slideshow": {
     "slide_type": "slide"
    }
   },
   "source": [
    "The omitted factors of experience and ability in the wage example have analogs in the fertilizer example.\n",
    "- Experience is generally easy to measure \n",
    "    - therefore is similar to a variable such as rainfall.\n",
    "- But ability difficult to quantify; \n",
    "    - it is similar to land quality in the fertilizer example.\n",
    "\n",
    "As we will see throughout this lecture, \n",
    "- Easy: accounting for other observed factors, such as experience, when estimating the ceteris paribus effect of another variable, such as education.\n",
    "- Complicated: accounting for inherently unobservable factors, such as ability\n",
    "- Most of the econometric methods are related to deal with unobserved factors"
   ]
  },
  {
   "cell_type": "markdown",
   "metadata": {
    "slideshow": {
     "slide_type": "slide"
    }
   },
   "source": [
    "**And Another Example: The Effect of Law Enforcement on City Crime Levels**  \n",
    "\n",
    "- Does the presence of more police officers on the street deter crime?  \n",
    "    \n",
    "The *ceteris paribus* question is:  \n",
    "- If a city is randomly chosen and given ten additional police officers, by how much would its crime rates fall? \n",
    "\n",
    "Stating in terms of counterfactual reasoning:\n",
    "\n",
    "- For a given city, what would its crime rate be under varying sizes of the police force? \n",
    "- Differently: If two cities are the same in all respects, except that city A has ten more police officers than city B, by how much would the two cities' crime rates differ?  "
   ]
  },
  {
   "cell_type": "markdown",
   "metadata": {
    "slideshow": {
     "slide_type": "slide"
    }
   },
   "source": [
    "Problems: As a city’s decision on how many police officers to hire is correlated with other city factors that affect crime.\n",
    "- Impossible to find pairs of communities identical in all respects except for the size of their police force. \n",
    "- We clearly cannot dictate how how many police officers each city can hire. \n",
    "- A city’s choice of police force size and the amount of crime are simultaneously determined (crime affects police and police affects crime). \n",
    "\n",
    "Fortunately, econometric analysis helps us with such issues of non-experimental data \n",
    "- What we do need to know is whether the data we can collect on community crime levels and the size of the police force can be viewed as experimental. \n",
    "- We will explicitly address such problems later."
   ]
  }
 ],
 "metadata": {
  "celltoolbar": "Slideshow",
  "kernelspec": {
   "display_name": "Python 3",
   "language": "python",
   "name": "python3"
  },
  "language_info": {
   "codemirror_mode": {
    "name": "ipython",
    "version": 3
   },
   "file_extension": ".py",
   "mimetype": "text/x-python",
   "name": "python",
   "nbconvert_exporter": "python",
   "pygments_lexer": "ipython3",
   "version": "3.7.1"
  },
  "toc": {
   "base_numbering": 1,
   "nav_menu": {},
   "number_sections": false,
   "sideBar": true,
   "skip_h1_title": false,
   "title_cell": "Table of Contents",
   "title_sidebar": "Contents",
   "toc_cell": false,
   "toc_position": {},
   "toc_section_display": true,
   "toc_window_display": false
  },
  "varInspector": {
   "cols": {
    "lenName": 16,
    "lenType": 16,
    "lenVar": 40
   },
   "kernels_config": {
    "python": {
     "delete_cmd_postfix": "",
     "delete_cmd_prefix": "del ",
     "library": "var_list.py",
     "varRefreshCmd": "print(var_dic_list())"
    },
    "r": {
     "delete_cmd_postfix": ") ",
     "delete_cmd_prefix": "rm(",
     "library": "var_list.r",
     "varRefreshCmd": "cat(var_dic_list()) "
    }
   },
   "types_to_exclude": [
    "module",
    "function",
    "builtin_function_or_method",
    "instance",
    "_Feature"
   ],
   "window_display": false
  }
 },
 "nbformat": 4,
 "nbformat_minor": 2
}
