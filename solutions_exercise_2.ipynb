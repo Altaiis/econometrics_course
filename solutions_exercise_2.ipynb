{
 "cells": [
  {
   "cell_type": "markdown",
   "metadata": {},
   "source": [
    "# Exercise 5: Solutions"
   ]
  },
  {
   "cell_type": "code",
   "execution_count": 1,
   "metadata": {},
   "outputs": [
    {
     "name": "stdout",
     "output_type": "stream",
     "text": [
      "b1: 0.5413592546651753\n",
      "\n",
      "b0: -0.9048516119572207\n",
      "\n",
      "table.head(15): \n",
      "    educ       wage  wage_hat      u_hat\n",
      "0     11   3.100000  5.050100  -1.950100\n",
      "1     12   3.240000  5.591459  -2.351459\n",
      "2     11   3.000000  5.050100  -2.050100\n",
      "3      8   6.000000  3.426022   2.573978\n",
      "4     12   5.300000  5.591459  -0.291459\n",
      "5     16   8.750000  7.756896   0.993104\n",
      "6     18  11.250000  8.839615   2.410385\n",
      "7     12   5.000000  5.591459  -0.591459\n",
      "8     12   3.600000  5.591459  -1.991460\n",
      "9     17  18.180000  8.298256   9.881745\n",
      "10    16   6.250000  7.756896  -1.506896\n",
      "11    13   8.130000  6.132819   1.997181\n",
      "12    12   8.770000  5.591459   3.178541\n",
      "13    12   5.500000  5.591459  -0.091459\n",
      "14    12  22.200001  5.591459  16.608541\n",
      "\n",
      "results.summary(): \n",
      "                            OLS Regression Results                            \n",
      "==============================================================================\n",
      "Dep. Variable:                   wage   R-squared:                       0.165\n",
      "Model:                            OLS   Adj. R-squared:                  0.163\n",
      "Method:                 Least Squares   F-statistic:                     103.4\n",
      "Date:                Sun, 20 Sep 2020   Prob (F-statistic):           2.78e-22\n",
      "Time:                        23:09:11   Log-Likelihood:                -1385.7\n",
      "No. Observations:                 526   AIC:                             2775.\n",
      "Df Residuals:                     524   BIC:                             2784.\n",
      "Df Model:                           1                                         \n",
      "Covariance Type:            nonrobust                                         \n",
      "==============================================================================\n",
      "                 coef    std err          t      P>|t|      [0.025      0.975]\n",
      "------------------------------------------------------------------------------\n",
      "Intercept     -0.9049      0.685     -1.321      0.187      -2.250       0.441\n",
      "educ           0.5414      0.053     10.167      0.000       0.437       0.646\n",
      "==============================================================================\n",
      "Omnibus:                      212.554   Durbin-Watson:                   1.824\n",
      "Prob(Omnibus):                  0.000   Jarque-Bera (JB):              807.843\n",
      "Skew:                           1.861   Prob(JB):                    3.79e-176\n",
      "Kurtosis:                       7.797   Cond. No.                         60.2\n",
      "==============================================================================\n",
      "\n",
      "Warnings:\n",
      "[1] Standard Errors assume that the covariance matrix of the errors is correctly specified.\n",
      "\n"
     ]
    }
   ],
   "source": [
    "import wooldridge as woo\n",
    "import pandas as pd\n",
    "import numpy as np\n",
    "import statsmodels.formula.api as smf\n",
    "\n",
    "\n",
    "df = woo.dataWoo('wage1')\n",
    "\n",
    "x = df['educ']\n",
    "y = df['wage']\n",
    "\n",
    "# ingredients to the OLS formulas:\n",
    "cov_xy = np.cov(x, y)[1, 0]  # access 2. row and 1. column of covariance matrix\n",
    "var_x = np.var(x, ddof=1)\n",
    "x_bar = np.mean(x)\n",
    "y_bar = np.mean(y)\n",
    "\n",
    "# manual calculation of OLS coefficients:\n",
    "b1 = cov_xy / var_x\n",
    "b0 = y_bar - b1 * x_bar\n",
    "print(f'b1: {b1}\\n')\n",
    "print(f'b0: {b0}\\n')\n",
    "\n",
    "# OLS regression:\n",
    "reg = smf.ols(formula='wage ~ educ', data=df)\n",
    "results = reg.fit()\n",
    "\n",
    "# obtain predicted values and residuals by hand:\n",
    "b = results.params\n",
    "wage_hat = b[0] + b[1] * df['educ']\n",
    "\n",
    "# You can also write it like that:\n",
    "#wage_hat = b['Intercept'] + b['educ'] * df['educ']\n",
    "\n",
    "u_hat = df['wage'] - wage_hat\n",
    "\n",
    "\n",
    "# Output\n",
    "table = pd.DataFrame({'educ': df['educ'],\n",
    "                      'wage': df['wage'],\n",
    "                      'wage_hat': wage_hat,\n",
    "                      'u_hat': u_hat})\n",
    "print(f'table.head(15): \\n{table.head(15)}\\n')\n",
    "\n",
    "\n",
    "# estimate models:\n",
    "reg = smf.ols(formula='wage ~ educ', data=df)\n",
    "results = reg.fit()\n",
    "\n",
    "print(f'results.summary(): \\n{results.summary()}\\n')"
   ]
  },
  {
   "cell_type": "markdown",
   "metadata": {},
   "source": [
    "Confirm the three OLS properties\n",
    "\n",
    "- The sum, and therefore the sample average of the OLS residuals, is zero.\n",
    "\n",
    "\\begin{equation}\n",
    "\\sum_{i=1}^n\\hat{u}_i=0 \\rightarrow \\bar{u}_i=0\n",
    "\\end{equation}\n",
    "\n",
    "- The Covariance of $x$ and $u$ is zero\n",
    "\n",
    "\\begin{equation}\n",
    "\\sum_{i=1}^nx_i\\hat{u}_i=0 \\rightarrow Cov(x_i,\\hat{u}_i)=0\n",
    "\\end{equation}\n",
    "\n",
    "- The point $(\\bar{x},\\bar{y})$ is always on the OLS regression line.\n",
    "\n",
    "\\begin{equation}\n",
    "\\bar{y}=\\hat{\\beta}_0+\\hat{\\beta}_1\\cdot \\bar{x}\n",
    "\\end{equation}"
   ]
  },
  {
   "cell_type": "code",
   "execution_count": 2,
   "metadata": {},
   "outputs": [
    {
     "name": "stdout",
     "output_type": "stream",
     "text": [
      "u_hat_mean: -8.047639445419766e-15\n",
      "\n",
      "educ_u_cov: 1.0691976404771032e-15\n",
      "\n",
      "wage_pred: 5.896102674787044\n",
      "\n",
      "wage_mean: 5.896102674787035\n",
      "\n"
     ]
    }
   ],
   "source": [
    "import wooldridge as woo\n",
    "import pandas as pd\n",
    "import numpy as np\n",
    "import statsmodels.formula.api as smf\n",
    "\n",
    "df = woo.dataWoo('wage1')\n",
    "\n",
    "x = df['educ']\n",
    "y = df['wage']\n",
    "\n",
    "# OLS regression:\n",
    "reg = smf.ols(formula='wage ~ educ', data=df)\n",
    "results = reg.fit()\n",
    "\n",
    "# obtain coefficients, predicted values and residuals:\n",
    "b = results.params\n",
    "wage_hat = results.fittedvalues\n",
    "u_hat = results.resid\n",
    "\n",
    "# confirm property (1):\n",
    "u_hat_mean = np.mean(u_hat)\n",
    "print(f'u_hat_mean: {u_hat_mean}\\n')\n",
    "\n",
    "# confirm property (2):\n",
    "educ_u_cov = np.cov(df['educ'], u_hat) [1, 0] #access 2. row and 1. column of covariance matrix\n",
    "print(f'educ_u_cov: {educ_u_cov}\\n')\n",
    "\n",
    "# confirm property (3):\n",
    "educ_mean = np.mean(df['educ'])\n",
    "wage_pred = b[0] + b[1] * educ_mean\n",
    "print(f'wage_pred: {wage_pred}\\n')\n",
    "\n",
    "wage_mean = np.mean(df['wage'])\n",
    "print(f'wage_mean: {wage_mean}\\n')"
   ]
  },
  {
   "cell_type": "code",
   "execution_count": 3,
   "metadata": {},
   "outputs": [
    {
     "name": "stdout",
     "output_type": "stream",
     "text": [
      "R2_a: 0.16475751099205083\n",
      "\n",
      "R2_b: 0.16475751099205194\n",
      "\n"
     ]
    }
   ],
   "source": [
    "import wooldridge as woo\n",
    "import pandas as pd\n",
    "import numpy as np\n",
    "import statsmodels.formula.api as smf\n",
    "\n",
    "df = woo.dataWoo('wage1')\n",
    "\n",
    "x = df['educ']\n",
    "y = df['wage']\n",
    "\n",
    "# OLS regression:\n",
    "reg = smf.ols(formula='wage ~ educ', data=df)\n",
    "results = reg.fit()\n",
    "\n",
    "# obtain coefficients, predicted values and residuals:\n",
    "b = results.params\n",
    "wage_hat = results.fittedvalues\n",
    "u_hat = results.resid\n",
    "\n",
    "# calculate R^2 in two different ways:\n",
    "wage = df['wage']\n",
    "R2_a = np.var(wage_hat, ddof=1) / np.var(wage, ddof=1)\n",
    "R2_b = 1 - np.var(u_hat, ddof=1) / np.var(wage, ddof=1)\n",
    "\n",
    "print(f'R2_a: {R2_a}\\n')\n",
    "print(f'R2_b: {R2_b}\\n')"
   ]
  },
  {
   "cell_type": "markdown",
   "metadata": {},
   "source": [
    "The $R^2$ is 0.16 which means, that education explains 16% of the sample variation in wages."
   ]
  },
  {
   "cell_type": "markdown",
   "metadata": {},
   "source": [
    "# Exercise 6: Solutions"
   ]
  },
  {
   "cell_type": "code",
   "execution_count": 4,
   "metadata": {},
   "outputs": [
    {
     "name": "stdout",
     "output_type": "stream",
     "text": [
      "results.summary(): \n",
      "                            OLS Regression Results                            \n",
      "==============================================================================\n",
      "Dep. Variable:                   wage   R-squared:                       0.116\n",
      "Model:                            OLS   Adj. R-squared:                  0.114\n",
      "Method:                 Least Squares   F-statistic:                     68.54\n",
      "Date:                Sun, 20 Sep 2020   Prob (F-statistic):           1.04e-15\n",
      "Time:                        23:09:11   Log-Likelihood:                -1400.7\n",
      "No. Observations:                 526   AIC:                             2805.\n",
      "Df Residuals:                     524   BIC:                             2814.\n",
      "Df Model:                           1                                         \n",
      "Covariance Type:            nonrobust                                         \n",
      "==============================================================================\n",
      "                 coef    std err          t      P>|t|      [0.025      0.975]\n",
      "------------------------------------------------------------------------------\n",
      "Intercept      7.0995      0.210     33.806      0.000       6.687       7.512\n",
      "female        -2.5118      0.303     -8.279      0.000      -3.108      -1.916\n",
      "==============================================================================\n",
      "Omnibus:                      223.488   Durbin-Watson:                   1.818\n",
      "Prob(Omnibus):                  0.000   Jarque-Bera (JB):              929.998\n",
      "Skew:                           1.928   Prob(JB):                    1.13e-202\n",
      "Kurtosis:                       8.250   Cond. No.                         2.57\n",
      "==============================================================================\n",
      "\n",
      "Warnings:\n",
      "[1] Standard Errors assume that the covariance matrix of the errors is correctly specified.\n",
      "\n"
     ]
    }
   ],
   "source": [
    "import wooldridge as woo\n",
    "import pandas as pd\n",
    "import numpy as np\n",
    "import statsmodels.formula.api as smf\n",
    "\n",
    "df = woo.dataWoo('wage1')\n",
    "\n",
    "# OLS regression:\n",
    "reg = smf.ols(formula='wage ~ female', data=df)\n",
    "results = reg.fit()\n",
    "\n",
    "print(f'results.summary(): \\n{results.summary()}\\n')"
   ]
  },
  {
   "cell_type": "markdown",
   "metadata": {},
   "source": [
    "Women get on average 2.5 thousand Euro less than men. However, we do not hold other relevant factors equal, so we should be careful when interpreting this result."
   ]
  },
  {
   "cell_type": "code",
   "execution_count": 5,
   "metadata": {},
   "outputs": [
    {
     "name": "stdout",
     "output_type": "stream",
     "text": [
      "results.summary(): \n",
      "                            OLS Regression Results                            \n",
      "==============================================================================\n",
      "Dep. Variable:           np.log(wage)   R-squared:                       0.140\n",
      "Model:                            OLS   Adj. R-squared:                  0.138\n",
      "Method:                 Least Squares   F-statistic:                     85.04\n",
      "Date:                Sun, 20 Sep 2020   Prob (F-statistic):           7.10e-19\n",
      "Time:                        23:09:11   Log-Likelihood:                -373.88\n",
      "No. Observations:                 526   AIC:                             751.8\n",
      "Df Residuals:                     524   BIC:                             760.3\n",
      "Df Model:                           1                                         \n",
      "Covariance Type:            nonrobust                                         \n",
      "==============================================================================\n",
      "                 coef    std err          t      P>|t|      [0.025      0.975]\n",
      "------------------------------------------------------------------------------\n",
      "Intercept      1.8136      0.030     60.830      0.000       1.755       1.872\n",
      "female        -0.3972      0.043     -9.222      0.000      -0.482      -0.313\n",
      "==============================================================================\n",
      "Omnibus:                       12.356   Durbin-Watson:                   1.825\n",
      "Prob(Omnibus):                  0.002   Jarque-Bera (JB):               14.553\n",
      "Skew:                           0.275   Prob(JB):                     0.000692\n",
      "Kurtosis:                       3.601   Cond. No.                         2.57\n",
      "==============================================================================\n",
      "\n",
      "Warnings:\n",
      "[1] Standard Errors assume that the covariance matrix of the errors is correctly specified.\n",
      "\n"
     ]
    }
   ],
   "source": [
    "reg = smf.ols(formula='np.log(wage) ~ female', data=df)\n",
    "results = reg.fit()\n",
    "\n",
    "print(f'results.summary(): \\n{results.summary()}\\n')"
   ]
  },
  {
   "cell_type": "markdown",
   "metadata": {},
   "source": [
    "Women get on average 40% Euro less than men. However, we do not hold other relevant factors equal, so we should be careful when interpreting this result."
   ]
  },
  {
   "cell_type": "markdown",
   "metadata": {},
   "source": [
    "There are many other factors that affect wages and may differ between men and women. For instance, women have on avergae less work experience because they are more like to spend some time on maternity leave. Women are also more likely to work part-time and are in other jobs then men. As long as we don't control for such factors, there is an omitted variable bias and we can't interpret the results causally."
   ]
  },
  {
   "cell_type": "markdown",
   "metadata": {},
   "source": [
    "The average wage of mean is represented by the intercept. Including men would results in the so called dummy variable trap as including both would result in perfect collinearity."
   ]
  },
  {
   "cell_type": "markdown",
   "metadata": {},
   "source": [
    "Excluding experience will probably result in a negative bias.\n",
    "\n",
    "\n",
    "|Sign of omitted parameter $\\beta_2$| Corr($x_1,x_2)>0$ | Corr($x_1,x_2)<0$ |\n",
    "|---| :--- | :--- |\n",
    "|$\\beta_2>0$|  Positive bias | Negative bias |\n",
    "|$\\beta_2<0$| Negative bias | Positive bias |"
   ]
  },
  {
   "cell_type": "code",
   "execution_count": 6,
   "metadata": {},
   "outputs": [
    {
     "name": "stdout",
     "output_type": "stream",
     "text": [
      "results.summary(): \n",
      "                            OLS Regression Results                            \n",
      "==============================================================================\n",
      "Dep. Variable:           np.log(wage)   R-squared:                       0.353\n",
      "Model:                            OLS   Adj. R-squared:                  0.349\n",
      "Method:                 Least Squares   F-statistic:                     94.75\n",
      "Date:                Sun, 20 Sep 2020   Prob (F-statistic):           5.77e-49\n",
      "Time:                        23:09:11   Log-Likelihood:                -299.11\n",
      "No. Observations:                 526   AIC:                             606.2\n",
      "Df Residuals:                     522   BIC:                             623.3\n",
      "Df Model:                           3                                         \n",
      "Covariance Type:            nonrobust                                         \n",
      "==============================================================================\n",
      "                 coef    std err          t      P>|t|      [0.025      0.975]\n",
      "------------------------------------------------------------------------------\n",
      "Intercept      0.4808      0.105      4.579      0.000       0.275       0.687\n",
      "female        -0.3436      0.038     -9.122      0.000      -0.418      -0.270\n",
      "educ           0.0913      0.007     12.816      0.000       0.077       0.105\n",
      "exper          0.0094      0.001      6.496      0.000       0.007       0.012\n",
      "==============================================================================\n",
      "Omnibus:                        7.848   Durbin-Watson:                   1.787\n",
      "Prob(Omnibus):                  0.020   Jarque-Bera (JB):               10.902\n",
      "Skew:                           0.110   Prob(JB):                      0.00429\n",
      "Kurtosis:                       3.670   Cond. No.                         136.\n",
      "==============================================================================\n",
      "\n",
      "Warnings:\n",
      "[1] Standard Errors assume that the covariance matrix of the errors is correctly specified.\n",
      "\n"
     ]
    }
   ],
   "source": [
    "reg = smf.ols(formula='np.log(wage) ~ female + educ + exper', data=df)\n",
    "results = reg.fit()\n",
    "\n",
    "print(f'results.summary(): \\n{results.summary()}\\n')"
   ]
  },
  {
   "cell_type": "code",
   "execution_count": 7,
   "metadata": {},
   "outputs": [
    {
     "name": "stdout",
     "output_type": "stream",
     "text": [
      "results.summary(): \n",
      "                            OLS Regression Results                            \n",
      "==============================================================================\n",
      "Dep. Variable:           np.log(wage)   R-squared:                       0.487\n",
      "Model:                            OLS   Adj. R-squared:                  0.478\n",
      "Method:                 Least Squares   F-statistic:                     54.35\n",
      "Date:                Sun, 20 Sep 2020   Prob (F-statistic):           3.83e-69\n",
      "Time:                        23:09:12   Log-Likelihood:                -238.06\n",
      "No. Observations:                 526   AIC:                             496.1\n",
      "Df Residuals:                     516   BIC:                             538.8\n",
      "Df Model:                           9                                         \n",
      "Covariance Type:            nonrobust                                         \n",
      "==============================================================================\n",
      "                 coef    std err          t      P>|t|      [0.025      0.975]\n",
      "------------------------------------------------------------------------------\n",
      "Intercept      0.8969      0.105      8.544      0.000       0.691       1.103\n",
      "female        -0.2696      0.035     -7.635      0.000      -0.339      -0.200\n",
      "educ           0.0564      0.008      7.433      0.000       0.042       0.071\n",
      "exper          0.0020      0.002      1.286      0.199      -0.001       0.005\n",
      "tenure         0.0143      0.003      5.127      0.000       0.009       0.020\n",
      "married        0.0993      0.038      2.645      0.008       0.026       0.173\n",
      "ndurman       -0.0834      0.056     -1.500      0.134      -0.193       0.026\n",
      "services      -0.2636      0.059     -4.489      0.000      -0.379      -0.148\n",
      "trade         -0.2634      0.040     -6.540      0.000      -0.342      -0.184\n",
      "profocc        0.2462      0.042      5.929      0.000       0.165       0.328\n",
      "==============================================================================\n",
      "Omnibus:                       15.025   Durbin-Watson:                   1.842\n",
      "Prob(Omnibus):                  0.001   Jarque-Bera (JB):               30.540\n",
      "Skew:                           0.063   Prob(JB):                     2.34e-07\n",
      "Kurtosis:                       4.174   Cond. No.                         160.\n",
      "==============================================================================\n",
      "\n",
      "Warnings:\n",
      "[1] Standard Errors assume that the covariance matrix of the errors is correctly specified.\n",
      "\n"
     ]
    }
   ],
   "source": [
    "reg = smf.ols(formula='np.log(wage) ~ female + educ + exper + tenure + married + ndurman + services + trade + profocc', data=df)\n",
    "results = reg.fit()\n",
    "\n",
    "print(f'results.summary(): \\n{results.summary()}\\n')"
   ]
  },
  {
   "cell_type": "markdown",
   "metadata": {},
   "source": [
    "Adding more control variables we hold more things equal. Though the wage discrimination is still there it is much lower now."
   ]
  },
  {
   "cell_type": "markdown",
   "metadata": {},
   "source": [
    "# Exercise 5: Solution\n",
    "\n",
    "The interpretation of the coefficients is as described in the table below:\n",
    "\n",
    "| Model | Dependent Variable | Independent Variable | Interpretation of $\\beta_1$  &nbsp; &nbsp; &nbsp; &nbsp; |\n",
    "| - | - | - | - | \n",
    "| Level-level | y | x | $\\Delta y = \\beta_1\\Delta x$ |\n",
    "| Level-log | y | log(x) | $\\Delta y =(\\beta_1/100)\\%\\Delta x$    |\n",
    "| Log-level |log(y) | x | $\\%\\Delta y = (100\\beta_1)\\Delta x$    |\n",
    "| Log-log | log(y) | log(x) | $\\%\\Delta y = \\beta_1\\%\\Delta x$    |\n",
    "\n"
   ]
  },
  {
   "cell_type": "markdown",
   "metadata": {},
   "source": [
    "# Exercise 6: Solution"
   ]
  },
  {
   "cell_type": "code",
   "execution_count": 8,
   "metadata": {},
   "outputs": [
    {
     "name": "stdout",
     "output_type": "stream",
     "text": [
      "results.summary(): \n",
      "                            OLS Regression Results                            \n",
      "==============================================================================\n",
      "Dep. Variable:                 narr86   R-squared:                       0.042\n",
      "Model:                            OLS   Adj. R-squared:                  0.041\n",
      "Method:                 Least Squares   F-statistic:                     29.96\n",
      "Date:                Sun, 20 Sep 2020   Prob (F-statistic):           2.01e-24\n",
      "Time:                        23:09:12   Log-Likelihood:                -3393.5\n",
      "No. Observations:                2725   AIC:                             6797.\n",
      "Df Residuals:                    2720   BIC:                             6826.\n",
      "Df Model:                           4                                         \n",
      "Covariance Type:            nonrobust                                         \n",
      "==============================================================================\n",
      "                 coef    std err          t      P>|t|      [0.025      0.975]\n",
      "------------------------------------------------------------------------------\n",
      "Intercept      0.7068      0.033     21.319      0.000       0.642       0.772\n",
      "pcnv          -0.1508      0.041     -3.692      0.000      -0.231      -0.071\n",
      "avgsen         0.0074      0.005      1.572      0.116      -0.002       0.017\n",
      "ptime86       -0.0374      0.009     -4.252      0.000      -0.055      -0.020\n",
      "qemp86        -0.1033      0.010     -9.940      0.000      -0.124      -0.083\n",
      "==============================================================================\n",
      "Omnibus:                     2396.990   Durbin-Watson:                   1.837\n",
      "Prob(Omnibus):                  0.000   Jarque-Bera (JB):           106841.658\n",
      "Skew:                           4.006   Prob(JB):                         0.00\n",
      "Kurtosis:                      32.611   Cond. No.                         10.2\n",
      "==============================================================================\n",
      "\n",
      "Warnings:\n",
      "[1] Standard Errors assume that the covariance matrix of the errors is correctly specified.\n",
      "\n"
     ]
    }
   ],
   "source": [
    "import wooldridge as woo\n",
    "import pandas as pd\n",
    "import numpy as np\n",
    "import statsmodels.formula.api as smf\n",
    "\n",
    "df = woo.dataWoo('crime1')\n",
    "\n",
    "reg = smf.ols(formula='narr86 ~ pcnv+avgsen+ptime86+qemp86', data=df)\n",
    "results = reg.fit()\n",
    "\n",
    "print(f'results.summary(): \\n{results.summary()}\\n')\n"
   ]
  }
 ],
 "metadata": {
  "kernelspec": {
   "display_name": "Python 3",
   "language": "python",
   "name": "python3"
  },
  "language_info": {
   "codemirror_mode": {
    "name": "ipython",
    "version": 3
   },
   "file_extension": ".py",
   "mimetype": "text/x-python",
   "name": "python",
   "nbconvert_exporter": "python",
   "pygments_lexer": "ipython3",
   "version": "3.7.1"
  },
  "toc": {
   "base_numbering": 1,
   "nav_menu": {},
   "number_sections": true,
   "sideBar": true,
   "skip_h1_title": true,
   "title_cell": "Table of Contents",
   "title_sidebar": "Contents",
   "toc_cell": false,
   "toc_position": {},
   "toc_section_display": true,
   "toc_window_display": true
  },
  "varInspector": {
   "cols": {
    "lenName": 16,
    "lenType": 16,
    "lenVar": 40
   },
   "kernels_config": {
    "python": {
     "delete_cmd_postfix": "",
     "delete_cmd_prefix": "del ",
     "library": "var_list.py",
     "varRefreshCmd": "print(var_dic_list())"
    },
    "r": {
     "delete_cmd_postfix": ") ",
     "delete_cmd_prefix": "rm(",
     "library": "var_list.r",
     "varRefreshCmd": "cat(var_dic_list()) "
    }
   },
   "types_to_exclude": [
    "module",
    "function",
    "builtin_function_or_method",
    "instance",
    "_Feature"
   ],
   "window_display": false
  }
 },
 "nbformat": 4,
 "nbformat_minor": 2
}
