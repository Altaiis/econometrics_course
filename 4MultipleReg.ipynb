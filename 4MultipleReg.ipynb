{
 "cells": [
  {
   "cell_type": "markdown",
   "metadata": {
    "slideshow": {
     "slide_type": "slide"
    }
   },
   "source": [
    "<h1> Introductory Econometrics in Python"
   ]
  },
  {
   "cell_type": "markdown",
   "metadata": {
    "slideshow": {
     "slide_type": "slide"
    }
   },
   "source": [
    "**Table of Content**\n",
    "- Simple Regression with Cross-sectional Data\n",
    "- ***Multiple Regression with cross-sectioal Data, including Inference and Hypothesis testing***\n",
    "- Binary Dependent Variables\n",
    "- Regression Analysis with Panel Data\n",
    "- Estimation of Treatment Effects: Difference-in-difference Analysis "
   ]
  },
  {
   "cell_type": "markdown",
   "metadata": {
    "slideshow": {
     "slide_type": "slide"
    }
   },
   "source": [
    "**Multiple Regression with cross-sectional data**\n",
    "1. Basic Concept\n",
    "2. Some notion on low R2\n",
    "3. Perfect Collinearity\n",
    "4. Endogeneous and exogeneous variables (e.g., Omitted Variable Bias)\n",
    "5. Potential Outcomes, Treatment Effects, and Policy\n",
    "6. Inference\n",
    "7. Further Issues: specification, functional forms, data problems\n",
    "8. Predictions\n",
    "9. Multiple Regressions with qualitative variables"
   ]
  },
  {
   "cell_type": "markdown",
   "metadata": {
    "slideshow": {
     "slide_type": "slide"
    }
   },
   "source": [
    "## Multiple Regression Analysis ##"
   ]
  },
  {
   "cell_type": "markdown",
   "metadata": {
    "slideshow": {
     "slide_type": "slide"
    }
   },
   "source": [
    "### Multiple Regression Analysis: Estimation\n",
    "\n",
    "- SLR.4 was: $E(u|x)=0$\n",
    "- But: often not the case (or at least unclear) that all other factors affecting $y$ are uncorrelated with $x$\n",
    "- Multiple regression analysis is more amenable to **ceteris paribus** analysis because it allows us to explicitly control for many other factors that simultaneously affect the dependent variable.\n",
    "- Important both for testing economic theories and for evaluating policy effects when we must rely on nonexperimental data.\n",
    "- Multiple regression models can accommodate many explanatory variables that may be correlated\n",
    "\n",
    "    $\\Rightarrow$ we can hope to infer causality in cases where simple regression analysis would be misleading."
   ]
  },
  {
   "cell_type": "markdown",
   "metadata": {
    "slideshow": {
     "slide_type": "slide"
    }
   },
   "source": [
    "**Multiple Regression Analysis: Estimation**\n",
    "\n",
    "- Naturally: \n",
    "adding more factors that are useful for explaining $y$ to the model $\\rightarrow$ more of the variation in $y$ explained.\n",
    "- Thus: multiple regression analysis can be used to build better models for predicting the dependent variable.\n",
    "- Additional advantage of multiple regression analysis: fairly general functional form relationships can be incorporated.\n",
    "    - In the simple regression model, only one function of a single explanatory variable can appear in the equation:\n",
    "    - Multiple regression model allows for much more flexibility."
   ]
  },
  {
   "cell_type": "markdown",
   "metadata": {
    "slideshow": {
     "slide_type": "slide"
    }
   },
   "source": [
    "**Multiple Regression Analysis**\n",
    "\n",
    "- We begin with some simple examples to show how multiple regression analysis can be used to solve problems that cannot be solved by simple regression.\n",
    "- The first example is a simple variation of the wage equation  for obtaining the effect of education on hourly wage but additionally include years of labor market experience _exper_:\n",
    "\n",
    "\\begin{equation*}\n",
    "wage=\\beta_0+\\beta_1educ+\\beta_2exper+u\n",
    "\\end{equation*}\n",
    "\n",
    "- Thus:\n",
    "    - wage is determined by the two explanatory or independent variables, education and experience,\n",
    "    - and by other unobserved factors, which are contained in $u$.\n",
    "    \n",
    "- We are still primarily interested in the effect of _educ_ on _wage_, holding fixed all other factors affecting _wage_, that is, we are interested in the parameter $\\beta_1$.\n",
    "- _exper_ is now taken out of the error term and put explicitly in the equation\n",
    "- Because exper appears in the equation, its coefficient, $\\beta_2$, measures the ceteris paribus effect of _exper_ on _wage_, which is also of some interest.\n",
    "- Allows us to measure the effect of education on wage, holding experience fixed.\n",
    "- In a simple regression analysis—which puts _exper_ in the error term—we would have to assume that experience is  uncorrelated with education, a tenuous assumption.\n"
   ]
  },
  {
   "cell_type": "markdown",
   "metadata": {
    "slideshow": {
     "slide_type": "slide"
    }
   },
   "source": [
    "**Multiple Regression Analysis**\n",
    "\n",
    "- Multiple regression analysis is also useful for generalizing functional relationships between variables.\n",
    "- As an example, suppose family consumption (_cons_) is a quadratic function of family income (_inc_)\n",
    "\n",
    "\\begin{equation*}\n",
    "cons=\\beta_0+\\beta_1inc+\\beta_2inc^2+u\n",
    "\\end{equation*}\n",
    "\n",
    "- In a model with $n$ variables the key assumption about how $u$ is related to $x_1$ and $x_2$ is\n",
    "\n",
    "\\begin{equation*}\n",
    "E(u|x_1,x_2)=0\n",
    "\\end{equation*}\n",
    "\n",
    "- For the _wage_ equation this implies that other factors affecting _wage_ are not related on average to _educ_ and _exper_\n",
    "- If we think innate ability is part of $u$, then we will need average ability levels to be the same across all combinations of education and experience in the working population.\n",
    "- This may or may not be true, but, as we will later, this is the question we need to ask in order to determine whether the method of ordinary least squares produces unbiased estimators.\n"
   ]
  },
  {
   "cell_type": "markdown",
   "metadata": {
    "slideshow": {
     "slide_type": "slide"
    }
   },
   "source": [
    "**Multiple Regression Analysis**\n",
    "\n",
    "- The general multiple linear regression (MLR) model can be written in the population as\n",
    "\n",
    "\\begin{equation*}\n",
    "y=\\beta_0+\\beta_1x_1+\\beta_2x_2+...+\\beta_kx_k+u\n",
    "\\end{equation*}\n",
    "\n",
    "- In _Python_ it is estimated\n",
    "\n",
    "```python\n",
    "reg = smf.ols(formula='y ~ xl + x2 + x3', data=sample)\n",
    "results = reg.fit()\n",
    "```\n",
    "\n",
    "- The constant is again added automatically\n",
    "- `smf.ols` creates an object which contains all relevant information and `fit` performes the estimation.\n",
    "- The estimation results are stored in a variable `results` using the code`results = reg.fit()`.\n",
    "- We can use this variable for further analyses.\n",
    "- For a typical regression output including a coefficient table, call `results.summary()`."
   ]
  },
  {
   "cell_type": "markdown",
   "metadata": {
    "slideshow": {
     "slide_type": "slide"
    }
   },
   "source": [
    "**Example: Hourly Wage Equation**\n",
    "\n",
    "\n",
    "- Using the 526 observations on workers in WAGE1, we include _educ_ (years of education), _exper_ (years of labor market experience), and _tenure_ (years with the current employer) in an equation explaining _log(wage)_.\n",
    "- The estimated equation is  \n",
    "\n",
    "\n",
    "\\begin{equation*}\n",
    "\\hat{log(wage)}=0.284+0.092 educ+0.0041 exper + 0.022 tenure\n",
    "\\end{equation*}\n",
    "\n",
    "- As in the simple regression case, the coefficients have a percentage interpretation.\n",
    "- The only difference here is that they also have a ceteris paribus interpretation.\n",
    "- The coefficient .092 means that, holding _exper_ and _tenure_ fixed, another year of education is predicted to increase _log(wage)_ by .092, which translates into an approximate 9.2% increase in wage.\n",
    "- Alternatively, if we take two people with the same levels of experience and job tenure, the coefficient on _educ_ is the proportionate difference in predicted wage when their education levels differ by one year.\n",
    "- This measure of the return to education at least keeps two important productivity factors fixed; whether it is a good estimate of the ceteris paribus return to another year of education requires us to study the statistical properties of\n",
    "OLS (later)."
   ]
  },
  {
   "cell_type": "code",
   "execution_count": 36,
   "metadata": {
    "slideshow": {
     "slide_type": "slide"
    }
   },
   "outputs": [
    {
     "name": "stdout",
     "output_type": "stream",
     "text": [
      "results.summary(): \n",
      "                            OLS Regression Results                            \n",
      "==============================================================================\n",
      "Dep. Variable:           np.log(wage)   R-squared:                       0.316\n",
      "Model:                            OLS   Adj. R-squared:                  0.312\n",
      "Method:                 Least Squares   F-statistic:                     80.39\n",
      "Date:                Tue, 14 Sep 2021   Prob (F-statistic):           9.13e-43\n",
      "Time:                        10:18:07   Log-Likelihood:                -313.55\n",
      "No. Observations:                 526   AIC:                             635.1\n",
      "Df Residuals:                     522   BIC:                             652.2\n",
      "Df Model:                           3                                         \n",
      "Covariance Type:            nonrobust                                         \n",
      "==============================================================================\n",
      "                 coef    std err          t      P>|t|      [0.025      0.975]\n",
      "------------------------------------------------------------------------------\n",
      "Intercept      0.2844      0.104      2.729      0.007       0.080       0.489\n",
      "educ           0.0920      0.007     12.555      0.000       0.078       0.106\n",
      "exper          0.0041      0.002      2.391      0.017       0.001       0.008\n",
      "tenure         0.0221      0.003      7.133      0.000       0.016       0.028\n",
      "==============================================================================\n",
      "Omnibus:                       11.534   Durbin-Watson:                   1.769\n",
      "Prob(Omnibus):                  0.003   Jarque-Bera (JB):               20.941\n",
      "Skew:                           0.021   Prob(JB):                     2.84e-05\n",
      "Kurtosis:                       3.977   Cond. No.                         135.\n",
      "==============================================================================\n",
      "\n",
      "Warnings:\n",
      "[1] Standard Errors assume that the covariance matrix of the errors is correctly specified.\n",
      "\n"
     ]
    }
   ],
   "source": [
    "import wooldridge as woo\n",
    "import numpy as np\n",
    "import statsmodels.formula.api as smf\n",
    "#from scipy import stats\n",
    "\n",
    "wage1 = woo.dataWoo('wage1')\n",
    "\n",
    "reg = smf.ols(formula='np.log(wage) ~ educ + exper + tenure  ', data=wage1)\n",
    "results = reg.fit()\n",
    "print(f'results.summary(): \\n{results.summary()}\\n')\n",
    "\n",
    "#stats.describe(wage1.tenure)"
   ]
  },
  {
   "cell_type": "markdown",
   "metadata": {
    "slideshow": {
     "slide_type": "slide"
    }
   },
   "source": [
    "**Example: Explaining Arrest Records**\n",
    "\n",
    "- CRIME1 contains data on arrests during the year 1986 and other information on 2,725 men born in either 1960 or 1961 in California.\n",
    "- Each man in the sample was arrested at least once prior to 1986.\n",
    "    - The variable _narr86_ is the number of times the man was arrested during 1986: it is zero for most men in the sample (72.29%), and it varies from 0 to 12. (The percentage of men arrested once during 1986 was 20.51.)\n",
    "    - The variable _pcnv_ is the proportion (not percentage) of arrests prior to 1986 that led\n",
    "to conviction,\n",
    "    - _avgsen_ is average sentence length served for prior convictions (zero for most people),\n",
    "    - _ptime86_ is months spent in prison in 1986,\n",
    "    - and _qemp86_ is the number of quarters during which the man was employed in 1986 (from zero to four).  \n",
    "    \n",
    "A linear model explaining arrests is\n",
    "\n",
    "\\begin{equation*}\n",
    "narr96=\\beta_0+\\beta_1pcnv+\\beta_2avgsen+\\beta_3ptime86+\\beta_4qemp86+u\n",
    "\\end{equation*}\n",
    "\n",
    "\n",
    "where\n",
    "- _pcnv_ is a proxy for the likelihood for being convicted of a crime\n",
    "- and _avgsen_ is a measure of expected severity of punishment, if convicted.\n",
    "- _ptime86_ captures the incarcerative effects of crime: if an individual is in prison, he cannot be arrested for a crime outside of prison.\n",
    "- Labor market opportunities are crudely captured by _qemp86_.  \n",
    "\n",
    "\n",
    "First, we estimate the model without the variable _avgsen_. We obtain  \n",
    "\n"
   ]
  },
  {
   "cell_type": "code",
   "execution_count": 83,
   "metadata": {
    "slideshow": {
     "slide_type": "slide"
    }
   },
   "outputs": [
    {
     "name": "stdout",
     "output_type": "stream",
     "text": [
      "results.summary(): \n",
      "                            OLS Regression Results                            \n",
      "==============================================================================\n",
      "Dep. Variable:                 narr86   R-squared:                       0.041\n",
      "Model:                            OLS   Adj. R-squared:                  0.040\n",
      "Method:                 Least Squares   F-statistic:                     39.10\n",
      "Date:                Tue, 15 Sep 2020   Prob (F-statistic):           9.91e-25\n",
      "Time:                        13:39:04   Log-Likelihood:                -3394.7\n",
      "No. Observations:                2725   AIC:                             6797.\n",
      "Df Residuals:                    2721   BIC:                             6821.\n",
      "Df Model:                           3                                         \n",
      "Covariance Type:            nonrobust                                         \n",
      "==============================================================================\n",
      "                 coef    std err          t      P>|t|      [0.025      0.975]\n",
      "------------------------------------------------------------------------------\n",
      "Intercept      0.7118      0.033     21.565      0.000       0.647       0.776\n",
      "pcnv          -0.1499      0.041     -3.669      0.000      -0.230      -0.070\n",
      "ptime86       -0.0344      0.009     -4.007      0.000      -0.051      -0.018\n",
      "qemp86        -0.1041      0.010    -10.023      0.000      -0.124      -0.084\n",
      "==============================================================================\n",
      "Omnibus:                     2394.860   Durbin-Watson:                   1.836\n",
      "Prob(Omnibus):                  0.000   Jarque-Bera (JB):           106169.153\n",
      "Skew:                           4.002   Prob(JB):                         0.00\n",
      "Kurtosis:                      32.513   Cond. No.                         8.27\n",
      "==============================================================================\n",
      "\n",
      "Warnings:\n",
      "[1] Standard Errors assume that the covariance matrix of the errors is correctly specified.\n",
      "\n"
     ]
    }
   ],
   "source": [
    "import wooldridge as woo\n",
    "import statsmodels.formula.api as smf\n",
    "\n",
    "crime1 = woo.dataWoo('crime1')\n",
    "\n",
    "# model without avgsen:\n",
    "reg = smf.ols(formula='narr86 ~ pcnv + ptime86 + qemp86', data=crime1)\n",
    "results = reg.fit()\n",
    "print(f'results.summary(): \\n{results.summary()}\\n')"
   ]
  },
  {
   "cell_type": "markdown",
   "metadata": {
    "slideshow": {
     "slide_type": "slide"
    }
   },
   "source": [
    "\\begin{equation*}\n",
    "\\hat{narr86}=0.712-0.150 pcnv-0.034 ptime86-0.104 qemp86\n",
    "\\end{equation*}\n",
    "\n",
    "\\begin{equation*}\n",
    "n=2,725, R^2=0.0413\n",
    "\\end{equation*}\n",
    "\n",
    "\n",
    "- This equation says that, as a group, the three variables _pcnv, ptime86_, and _qemp86_ explain about 4.1% of the variation in narr86.\n",
    "- Each of the OLS slope coefficients has the anticipated sign:\n",
    "    - increase in the proportion of convictions lowers the predicted number of arrests.\n",
    "    - If we increase pcnv by .50 (a large increase in the probability of conviction), then, holding the other factors fixed, $\\Delta\\hat{narr86}=-0.15\\cdot0.5=-0.75$  \n",
    "\n",
    "\n",
    "- For example, among 100 men, the predicted fall in arrests when _pcnv_ increases by .50 is 0.75.\n",
    "- Similarly, a longer prison term leads to a lower predicted number of arrests.\n",
    "- In fact, if _ptime86_ increases from 0 to 12, predicted arrests for a particular man fall by $0.0341122\\cdot12=0.408$.\n",
    "- Another quarter in which legal employment is reported lowers predicted arrests by .104, which would be 10.4 arrests among 100 men.\n",
    "\n",
    "\n",
    "Now let us add _avgsen_ to the model."
   ]
  },
  {
   "cell_type": "code",
   "execution_count": 84,
   "metadata": {
    "slideshow": {
     "slide_type": "slide"
    }
   },
   "outputs": [
    {
     "name": "stdout",
     "output_type": "stream",
     "text": [
      "results.summary(): \n",
      "                            OLS Regression Results                            \n",
      "==============================================================================\n",
      "Dep. Variable:                 narr86   R-squared:                       0.042\n",
      "Model:                            OLS   Adj. R-squared:                  0.041\n",
      "Method:                 Least Squares   F-statistic:                     29.96\n",
      "Date:                Tue, 15 Sep 2020   Prob (F-statistic):           2.01e-24\n",
      "Time:                        13:39:05   Log-Likelihood:                -3393.5\n",
      "No. Observations:                2725   AIC:                             6797.\n",
      "Df Residuals:                    2720   BIC:                             6826.\n",
      "Df Model:                           4                                         \n",
      "Covariance Type:            nonrobust                                         \n",
      "==============================================================================\n",
      "                 coef    std err          t      P>|t|      [0.025      0.975]\n",
      "------------------------------------------------------------------------------\n",
      "Intercept      0.7068      0.033     21.319      0.000       0.642       0.772\n",
      "pcnv          -0.1508      0.041     -3.692      0.000      -0.231      -0.071\n",
      "avgsen         0.0074      0.005      1.572      0.116      -0.002       0.017\n",
      "ptime86       -0.0374      0.009     -4.252      0.000      -0.055      -0.020\n",
      "qemp86        -0.1033      0.010     -9.940      0.000      -0.124      -0.083\n",
      "==============================================================================\n",
      "Omnibus:                     2396.990   Durbin-Watson:                   1.837\n",
      "Prob(Omnibus):                  0.000   Jarque-Bera (JB):           106841.658\n",
      "Skew:                           4.006   Prob(JB):                         0.00\n",
      "Kurtosis:                      32.611   Cond. No.                         10.2\n",
      "==============================================================================\n",
      "\n",
      "Warnings:\n",
      "[1] Standard Errors assume that the covariance matrix of the errors is correctly specified.\n",
      "\n"
     ]
    }
   ],
   "source": [
    "import wooldridge as woo\n",
    "import statsmodels.formula.api as smf\n",
    "\n",
    "crime1 = woo.dataWoo('crime1')\n",
    "\n",
    "# model with avgsen:\n",
    "reg = smf.ols(formula='narr86 ~ pcnv + avgsen + ptime86 + qemp86', data=crime1)\n",
    "results = reg.fit()\n",
    "print(f'results.summary(): \\n{results.summary()}\\n')"
   ]
  },
  {
   "cell_type": "markdown",
   "metadata": {
    "slideshow": {
     "slide_type": "slide"
    }
   },
   "source": [
    "If _avgsen_ is added to the model, we know that $R^2$ will increase. The estimated equation is \n",
    "\n",
    "\\begin{equation*}\n",
    "\\hat{narr86}=0.707-0.151 pcnv-0.037 ptime86-0.103 qemp86\n",
    "\\end{equation*}\n",
    "\n",
    "\\begin{equation*}\n",
    "n=2,725, R^2=0.0422\n",
    "\\end{equation*}\n",
    "\n",
    "- Thus, adding the average sentence variable increases $R^2$ from .0413 to .0422, a practically small effect.\n",
    "- The sign of the coefficient on _avgsen_ is also unexpected: it says that a longer average sentence length increases criminal activity."
   ]
  },
  {
   "cell_type": "markdown",
   "metadata": {
    "slideshow": {
     "slide_type": "slide"
    }
   },
   "source": [
    "**Some notion on the low $R^2$:**\n",
    "    \n",
    "- The fact that the four explanatory variables included\n",
    "in the second regression explain only about 4.2% of the variation in narr86 does not necessarily\n",
    "mean that the equation is useless.\n",
    "- Even though these variables collectively do not explain much of the variation in arrests, it is still possible that the OLS estimates are reliable estimates of the ceteris paribus effects of each independent variable on narr86.\n",
    "- As we will see, whether this is the case does not directly depend on the size of $R^2$.\n",
    "- Generally, a low $R^2$ indicates that it is hard to predict individual outcomes on $y$ with much accuracy, something we study in more detail later.\n",
    "- In the arrest example, the small $R^2$ reflects what we already suspect in the social sciences: it is generally very difficult to predict individual behavior.\n"
   ]
  },
  {
   "cell_type": "markdown",
   "metadata": {
    "slideshow": {
     "slide_type": "slide"
    }
   },
   "source": [
    "**Some notion on the low $R^2$:**\n",
    "    \n",
    "- Also, the $R^2$ has the property that is increasing whenever new variables are added to the model.\n",
    "- This does not mean that our model really gets better by adding everything to it.\n",
    "- Because of this, there is also an adjusted version of the $R^2$ which takes the reduction in degrees of freedom into account, i.e. punishes the addition of new variables.\n",
    "\n",
    "- The Adjusted $R^2$ is routinely reported by most statistical software packages.\n",
    "- Moreover, you can only compare the $R^2$ for models based on the same set of observations.\n",
    "- When you add a variable which has missings for some observations the comparison of $R^2$ becomes obsolete."
   ]
  },
  {
   "cell_type": "markdown",
   "metadata": {
    "slideshow": {
     "slide_type": "slide"
    }
   },
   "source": [
    "**Perfect collinearity:**\n",
    "\n",
    "- Assumption SLR.3 (sample variation in the explanatory variable) has to be extended in the multiple linear regression case.\n",
    "- The assumption is now that in the sample, \n",
    "\n",
    "    1. none of the independent variables is constant, \n",
    "    \n",
    "    AND\n",
    "    2. there are no exact linear relationships among the independent variables.\n",
    "    \n",
    "- Note: this does not exclude correlation between variables in general, they are most often correlated!\n",
    "- Perfect collinearity can arise due to many reasons:\n",
    "    - Obvious: two independent variables can be perfectly correlated when one variable is a constant multiple of another: \n",
    "        - a researcher inadvertently puts the same variable measured in different units into a regression equation (e.g. in \\\\$ or k \\\\$)\n",
    "        - What sense would it make to hold income measured in dollars fixed while changing income measured in thousands of dollars?"
   ]
  },
  {
   "cell_type": "markdown",
   "metadata": {
    "slideshow": {
     "slide_type": "slide"
    }
   },
   "source": [
    "**Perfect collinearity:**\n",
    "\n",
    "\n",
    "- Perfect collinearity can also arise due to more subtle reasons:    \n",
    "    -  in the case of adding a squared term of a variable but using logs\n",
    "    - why would this be a problem?\n",
    "       "
   ]
  },
  {
   "cell_type": "markdown",
   "metadata": {
    "slideshow": {
     "slide_type": "slide"
    }
   },
   "source": [
    "**Perfect collinearity:**\n",
    "\n",
    "\n",
    "\n",
    "- Because $log(cons)=\\beta_0+\\beta_1log(inc)+\\beta2log(inc^2)+u$\n",
    "- As $log(inc^2)=2 log(inc)$ this is a linear combination\n",
    "\n",
    "Or another example:\n",
    "- For example, suppose we want to estimate the effect of campaign spending on campaign outcomes.\n",
    "- Assume that each election has two candidates and let _voteA_ be the percentage of the vote for Candidate A, and _expendA_ be campaign expenditures by Candidate A, let _expendB_ be campaign expenditures by Candidate B, and let _totexpend_ be total campaign expenditures\n",
    "          \n",
    "\\begin{equation*}\n",
    "voteA=\\beta_0+\\beta_1expendA+\\beta_2expendB+\\beta_3totalexpend+u\n",
    "\\end{equation*}\n",
    "\n",
    "What would be the problem here? How would you interpret this equation in a ceteris paribus fashion?"
   ]
  },
  {
   "cell_type": "markdown",
   "metadata": {
    "slideshow": {
     "slide_type": "slide"
    }
   },
   "source": [
    "**Perfect collinearity:**\n",
    "\n",
    "- Trying to interpret this equation in a ceteris paribus fashion reveals the problem: The parameter of $\\beta_1$ is supposed to measure the effect of increasing expenditures by Candidate A by one dollar on Candidate A’s vote, holding Candidate B’s spending and total spending fixed.\n",
    "- This is nonsense, because if expendB and totexpend are held fixed, then we cannot increase expendA."
   ]
  },
  {
   "cell_type": "markdown",
   "metadata": {
    "slideshow": {
     "slide_type": "slide"
    }
   },
   "source": [
    "__Perfect collinearity__\n",
    "\n",
    "- What is the problem here?\n",
    "\n",
    "$log(wage)=\\beta_0+\\beta_1log(education)+\\beta2log(exper)+\\beta_3log(exper\\cdot educ)$\n",
    "   "
   ]
  },
  {
   "cell_type": "markdown",
   "metadata": {
    "slideshow": {
     "slide_type": "slide"
    }
   },
   "source": [
    "**Multiple Regression Analysis**\n",
    "\n",
    "- The **Zero conditional mean** assumption is similar as before\n",
    "- The error $u$ has an expected of zero given any values of the independent variables:\n",
    "\n",
    "\\begin{equation*}\n",
    "E(u|x_1,x_2,...,x_k)=0\n",
    "\\end{equation*}\n",
    "\n",
    "- This assumption can fail if the functional relationship between the explained and explanatory variables is misspecified, for example (e.g. it's quadratic but we don't include a squared term)\n",
    "- Another functional form misspecification occurs when we use the level of a variable when the log of the variable is what actually shows up in the population model, or vice versa (e.g. the true model has log(wage) as the dependent variable but we use wage as the dependent variable in our regression analysis)\n",
    "- Then the estimators will be **biased**.\n",
    "\n"
   ]
  },
  {
   "cell_type": "markdown",
   "metadata": {
    "slideshow": {
     "slide_type": "slide"
    }
   },
   "source": [
    "**Multiple Regression Analysis**\n",
    "\n",
    "- Probably most important: Omitting an important factor that is correlated with any of $x_1, x_2, . . . , x_k$ causes  the zero conditional mean assumption to fail also.\n",
    "- With multiple regression analysis, we are able to include many factors among the explanatory variables, and omitted variables are less likely to be a problem in multiple regression analysis than in simple regression analysis.\n",
    "- Nevertheless, in any application, there are always factors that, due to data limitations or ignorance, we will not be able to include.\n",
    "- If we think these factors should be controlled for and they are correlated with one or more of the independent variables, then the zero conditional mean assumption will be violated.\n",
    "- We will derive this bias later and discuss potential solutions to overcome it."
   ]
  },
  {
   "cell_type": "markdown",
   "metadata": {
    "slideshow": {
     "slide_type": "slide"
    }
   },
   "source": [
    "**Multiple Regression Analysis**\n",
    "\n",
    "- There are other ways how $u$ can be correlated with an explanatory variable, which we will discuss later.\n",
    "- When the zero conditional mean assumption holds, we often say that we have **exogenous explanatory variables**.\n",
    "- If $x_j$ is correlated with $u$ for any reason, then $x_j$ is said to be an **endogenous explanatory variable**.\n",
    "- The zero conditional mean assumption resricts the relationship between the unobserved factors in $ $and the explanatory variables but unfortunately, we will never know for sure whether the average value of the unobserved factors is unrelated to the explanatory variables.\n",
    "- But this is the critical assumption! We will see how to deal with it later.\n"
   ]
  },
  {
   "cell_type": "markdown",
   "metadata": {
    "slideshow": {
     "slide_type": "slide"
    }
   },
   "source": [
    "**Omitted Variable Bias**\n",
    "\n",
    "- Two special cases exist in which the simple regression of $y$ on $x_1$ will produce the same OLS estimate on $x_1$ as the regression of $y$ on $x_1$ and $x_2$.\n",
    "    - write the simple regression of $y$ on $x_1$ as $\\tilde{y}=\\tilde{\\beta}_0+\\tilde{\\beta}_1x_1$ and\n",
    "    - write the multiple regression as $\\hat{y}=\\hat{\\beta}_0+\\hat{\\beta}_1x_1+\\hat{\\beta_2}x_2$\n",
    "\n",
    "- We know that in the simple regression coefficient $\\tilde{\\beta}_1$  does not usually equal the multiple regression coefficient $\\hat{\\beta}_1$\n",
    "- It turns out there is a simple relationship between $\\tilde{\\beta}_1$ and $\\hat{\\beta}_1$, which allows for interesting comparisons between simple and multiple regression:\n",
    "\n",
    "\\begin{equation*}\n",
    "\\tilde{\\beta}_1=\\hat{\\beta}_1+\\hat{\\beta}_2\\tilde{\\delta}_1\n",
    "\\end{equation*}\n",
    "\n",
    "where $\\tilde{\\delta}_1$ is the slope coefficient from the simple regression of $x_2$ on $x_1$, $i=1, . . . , n$.\n",
    "- The confounding term is the partial effect of $x_2$ on $\\hat{y}$ times the slope in the simple regression of $x_2$ on $x_1$.\n",
    "- Thus, the bias of $\\tilde{\\beta}_1$ is of the magnitude $\\hat{\\beta}_2\\tilde{\\delta}_1$\n",
    "-  The relationship between $\\tilde{\\beta}_1$ and $\\hat{\\beta}_1$ also shows there are two distinct cases where they are equal:\n",
    "\n",
    "    - The partial effect of $x_2$ on $\\hat{y}$ is zero in the sample ($\\hat{\\beta}_2=0$)\n",
    "    - $x_1$ and $x_2$ are uncorrelated in the sample ($\\tilde{\\delta}_1=0$)\n",
    "- If none of these two cases applies there is a so called **omitted variable bias**."
   ]
  },
  {
   "cell_type": "markdown",
   "metadata": {
    "slideshow": {
     "slide_type": "slide"
    }
   },
   "source": [
    "**Omitted Variable Bias**\n",
    "\n",
    "- Sometimes we know (at least) the direction of the bias.\n",
    "\n",
    "|Sign of omitted parameter $\\beta_2$| Corr($x_1,x_2)>0$ | Corr($x_1,x_2)<0$ |\n",
    "|---| :--- | :--- |\n",
    "|$\\beta_2>0$|  Positive bias | Negative bias |\n",
    "|$\\beta_2<0$| Negative bias | Positive bias |\n",
    "\n",
    "- Suppose we are interested in the effect of education on wages again and the true model is\n",
    "\n",
    "\\begin{equation*}\n",
    "wage=\\beta_0+\\beta_1educ+\\beta_2abil+u\n",
    "\\end{equation*}\n",
    "\n",
    "- Because we do not observe ability,  we estimate\n",
    "\n",
    "\\begin{equation*}\n",
    "wage=\\beta_0+\\beta_1educ+v\n",
    "\\end{equation*}\n",
    "\n",
    "where $v=\\beta_2abil+u$\n",
    "\n",
    "- What is the direction of the bias?"
   ]
  },
  {
   "cell_type": "markdown",
   "metadata": {
    "slideshow": {
     "slide_type": "slide"
    }
   },
   "source": [
    "- So even if don't observe ability we know how it affects our estimates.\n",
    "- But we observe experience. What direction is the bias if we do not include experience?"
   ]
  },
  {
   "cell_type": "code",
   "execution_count": 16,
   "metadata": {
    "slideshow": {
     "slide_type": "slide"
    }
   },
   "outputs": [
    {
     "name": "stdout",
     "output_type": "stream",
     "text": [
      "results.summary(): \n",
      "                            OLS Regression Results                            \n",
      "==============================================================================\n",
      "Dep. Variable:           np.log(wage)   R-squared:                       0.249\n",
      "Model:                            OLS   Adj. R-squared:                  0.246\n",
      "Method:                 Least Squares   F-statistic:                     86.86\n",
      "Date:                Sat, 11 Sep 2021   Prob (F-statistic):           2.68e-33\n",
      "Time:                        20:33:37   Log-Likelihood:                -338.01\n",
      "No. Observations:                 526   AIC:                             682.0\n",
      "Df Residuals:                     523   BIC:                             694.8\n",
      "Df Model:                           2                                         \n",
      "Covariance Type:            nonrobust                                         \n",
      "==============================================================================\n",
      "                 coef    std err          t      P>|t|      [0.025      0.975]\n",
      "------------------------------------------------------------------------------\n",
      "Intercept      0.2169      0.109      1.997      0.046       0.004       0.430\n",
      "educ           0.0979      0.008     12.848      0.000       0.083       0.113\n",
      "exper          0.0103      0.002      6.653      0.000       0.007       0.013\n",
      "==============================================================================\n",
      "Omnibus:                        7.740   Durbin-Watson:                   1.789\n",
      "Prob(Omnibus):                  0.021   Jarque-Bera (JB):                9.485\n",
      "Skew:                           0.165   Prob(JB):                      0.00872\n",
      "Kurtosis:                       3.569   Cond. No.                         130.\n",
      "==============================================================================\n",
      "\n",
      "Warnings:\n",
      "[1] Standard Errors assume that the covariance matrix of the errors is correctly specified.\n",
      "\n"
     ]
    }
   ],
   "source": [
    "import wooldridge as woo\n",
    "import numpy as np\n",
    "import statsmodels.formula.api as smf\n",
    "\n",
    "wage1 = woo.dataWoo('wage1')\n",
    "\n",
    "reg = smf.ols(formula='np.log(wage) ~ educ+ exper ', data=wage1)\n",
    "results = reg.fit()\n",
    "print(f'results.summary(): \\n{results.summary()}\\n')"
   ]
  },
  {
   "cell_type": "markdown",
   "metadata": {
    "slideshow": {
     "slide_type": "slide"
    }
   },
   "source": [
    "**Omitted Variable Bias**\n",
    "\n",
    "As a second example:\n",
    "- suppose that, at the elementary school level, the average score for students on a standardized exam is determined by\n",
    "\n",
    "\\begin{equation*}\n",
    "avgscore=\\beta_0+\\beta_1expend+\\beta_2povrate+u\n",
    "\\end{equation*}\n",
    "\n",
    "where _expend_ is expenditure per student and _povrate_ is the poverty rate of the children in the school.\n",
    "- Using school district data, we only have observations on the percentage of students with a passing grade and per-student expenditures; we do not have information on poverty rates.\n",
    "- Thus, we estimate $\\beta_1$ from the simple regression of _avgscore_ on _expend_.\n",
    "\n",
    "- We can again obtain the likely bias in $\\tilde{\\beta}_1$\n",
    "- What do you think the bias will look like?"
   ]
  },
  {
   "cell_type": "markdown",
   "metadata": {
    "slideshow": {
     "slide_type": "slide"
    }
   },
   "source": [
    "**Omitted Variable Bias**\n",
    "\n",
    "- First, $\\beta_2$ is probably negative: there is ample evidence\n",
    "that children living in poverty score lower, on average, on standardized tests.\n",
    "- Second, the average expenditure per student is probably negatively correlated with the poverty rate: the higher the poverty rate, the lower the average per-student spending, so that $Corr(x_1,x_2)>0$.\n",
    "- Thus, $\\tilde{\\beta}_1$ will have a positive bias.\n",
    "- This observation has important implications:\n",
    "    - It could be that the true effect of spending is zero; that is, $\\beta_1=0$.\n",
    "    - However, the simple regression estimate of $\\tilde{\\beta_1}$ will be greater than zero, and this could lead us to conclude that expenditures are important when they are not.\n"
   ]
  },
  {
   "cell_type": "markdown",
   "metadata": {
    "slideshow": {
     "slide_type": "slide"
    }
   },
   "source": [
    "**Omitted Variable Bias**\n",
    "\n",
    "- When reading and performing empirical work in economics, it is important to master the terminology associated with biased estimators\n",
    "- In the context of omitting a variable , if $E(\\tilde{\\beta}_1>\\beta_1$), then we say that $\\tilde{\\beta}_1$ has an **upward bias**\n",
    "- In the opposite case we call it a **downward bias**\n",
    "- The phrase **biased toward zero** refers to cases where $E(\\tilde{\\beta}_1)$ is closer to zero than is $\\beta_1$. \n"
   ]
  },
  {
   "cell_type": "markdown",
   "metadata": {
    "slideshow": {
     "slide_type": "slide"
    }
   },
   "source": [
    "**Omitted Variable Bias**\n",
    "\n",
    "- Deriving the sign of omitted variable bias when there are multiple regressors in the estimated model is more difficult.\n",
    "- We must remember that correlation between a single explanatory variable and the error generally results in all OLS estimators being biased.\n",
    "- For example, suppose the population model\n",
    "\n",
    "\\begin{equation*}\n",
    "y=\\beta_0+\\beta_1x_1+\\beta_2x_2+\\beta_3x_3\n",
    "\\end{equation*}\n",
    "\n",
    "- We omit $x_3$ and estimate the model\n",
    "- Now, suppose that $x_2$ and $x_3$ are uncorrelated, but $x_1$ is correlated with $x_3$.\n",
    "- In other words, $x_1$ is correlated with the omitted variable, but $x_2$ is not.\n",
    "- It is tempting to think that, while $\\beta_1$ is probably biased based on the derivation in the previous subsection, $\\beta_2$ is unbiased because $x_2$ is uncorrelated with $x_3$.\n",
    "- Unfortunately, this is not generally the case: $\\beta_1$ and $\\beta_2$ will normally be biased.\n",
    "- The only exception to this is when $x_1$ and $x_2$ are also uncorrelated.\n",
    "- For instance, in the example\n",
    "\n",
    "\n",
    "\\begin{equation*}\n",
    "y=\\beta_0+\\beta_1educ+\\beta_2exper+\\beta_3abil+u\n",
    "\\end{equation*}\n",
    "\n",
    "both, $\\beta_1$ and$\\beta_2$ will be biased if we omitt $abil$, even if $exper$ is uncorrelated with $abil$"
   ]
  },
  {
   "cell_type": "markdown",
   "metadata": {
    "slideshow": {
     "slide_type": "slide"
    }
   },
   "source": [
    "**Simulating Omitted Variable Bias**\n",
    "\n",
    "- Consider a model $y=\\beta_0+\\beta_{1}x_1+\\beta_{2}x_2+u$ \n",
    "- Assume there is a common component $r$ affecting $x_1$ and $x_2$ \n",
    "- Assume $\\beta_0$ = 1, $\\beta_1$=-0.3 and $\\beta_2$=0.7"
   ]
  },
  {
   "cell_type": "code",
   "execution_count": 24,
   "metadata": {
    "slideshow": {
     "slide_type": "slide"
    }
   },
   "outputs": [
    {
     "data": {
      "text/plain": [
       "array([ 1.77372292,  0.34481981, -1.14562961,  0.71533561,  0.13235647,\n",
       "       -0.18533965, -0.19659412,  0.41682005,  0.89778896,  0.78966118])"
      ]
     },
     "execution_count": 24,
     "metadata": {},
     "output_type": "execute_result"
    }
   ],
   "source": [
    "# generate some random variables with the above characteristics\n",
    "import pandas as pd\n",
    "import numpy as np\n",
    "from numpy.random import seed\n",
    "from numpy.random import rand\n",
    "from numpy.random import randn\n",
    "\n",
    "# generate a random common component for x1 and x2\n",
    "# seed random number generator\n",
    "seed(167765433)\n",
    "r = randn(100000)\n",
    "r[:10]\n"
   ]
  },
  {
   "cell_type": "code",
   "execution_count": 25,
   "metadata": {
    "slideshow": {
     "slide_type": "slide"
    }
   },
   "outputs": [
    {
     "data": {
      "text/plain": [
       "DescribeResult(nobs=100000, minmax=(-4.312902329603882, 4.258398185972333), mean=-0.0012581912394731525, variance=1.0000838718581773, skewness=-0.0014510567073173907, kurtosis=-0.002054989955218467)"
      ]
     },
     "execution_count": 25,
     "metadata": {},
     "output_type": "execute_result"
    }
   ],
   "source": [
    "from scipy import stats\n",
    "stats.describe(r)"
   ]
  },
  {
   "cell_type": "code",
   "execution_count": 27,
   "metadata": {
    "slideshow": {
     "slide_type": "slide"
    }
   },
   "outputs": [
    {
     "data": {
      "image/png": "[encoded data removed]",
      "text/plain": [
       "<Figure size 576x396 with 1 Axes>"
      ]
     },
     "metadata": {},
     "output_type": "display_data"
    }
   ],
   "source": [
    "import matplotlib.pyplot as plt\n",
    "plt.style.use('seaborn')\n",
    "count, bins, ignored = plt.hist(r, 15, density=True)\n",
    "plt.show()"
   ]
  },
  {
   "cell_type": "code",
   "execution_count": 30,
   "metadata": {
    "slideshow": {
     "slide_type": "slide"
    }
   },
   "outputs": [
    {
     "data": {
      "text/html": [
       "<div>\n",
       "<style scoped>\n",
       "    .dataframe tbody tr th:only-of-type {\n",
       "        vertical-align: middle;\n",
       "    }\n",
       "\n",
       "    .dataframe tbody tr th {\n",
       "        vertical-align: top;\n",
       "    }\n",
       "\n",
       "    .dataframe thead th {\n",
       "        text-align: right;\n",
       "    }\n",
       "</style>\n",
       "<table border=\"1\" class=\"dataframe\">\n",
       "  <thead>\n",
       "    <tr style=\"text-align: right;\">\n",
       "      <th></th>\n",
       "      <th>Y</th>\n",
       "      <th>X1</th>\n",
       "      <th>X2</th>\n",
       "      <th>e</th>\n",
       "    </tr>\n",
       "  </thead>\n",
       "  <tbody>\n",
       "    <tr>\n",
       "      <th>0</th>\n",
       "      <td>-3.240638</td>\n",
       "      <td>3.398068</td>\n",
       "      <td>-3.478395</td>\n",
       "      <td>-0.786340</td>\n",
       "    </tr>\n",
       "    <tr>\n",
       "      <th>1</th>\n",
       "      <td>1.808476</td>\n",
       "      <td>-0.266937</td>\n",
       "      <td>-2.049493</td>\n",
       "      <td>2.163040</td>\n",
       "    </tr>\n",
       "    <tr>\n",
       "      <th>2</th>\n",
       "      <td>-1.300795</td>\n",
       "      <td>-1.673801</td>\n",
       "      <td>-2.962245</td>\n",
       "      <td>-0.729364</td>\n",
       "    </tr>\n",
       "    <tr>\n",
       "      <th>3</th>\n",
       "      <td>1.257625</td>\n",
       "      <td>-0.357633</td>\n",
       "      <td>-1.955675</td>\n",
       "      <td>1.519308</td>\n",
       "    </tr>\n",
       "    <tr>\n",
       "      <th>4</th>\n",
       "      <td>-1.773668</td>\n",
       "      <td>0.997764</td>\n",
       "      <td>-2.803746</td>\n",
       "      <td>-0.511717</td>\n",
       "    </tr>\n",
       "  </tbody>\n",
       "</table>\n",
       "</div>"
      ],
      "text/plain": [
       "          Y        X1        X2         e\n",
       "0 -3.240638  3.398068 -3.478395 -0.786340\n",
       "1  1.808476 -0.266937 -2.049493  2.163040\n",
       "2 -1.300795 -1.673801 -2.962245 -0.729364\n",
       "3  1.257625 -0.357633 -1.955675  1.519308\n",
       "4 -1.773668  0.997764 -2.803746 -0.511717"
      ]
     },
     "execution_count": 30,
     "metadata": {},
     "output_type": "execute_result"
    }
   ],
   "source": [
    "# generate x1 and x2\n",
    "seed(1)\n",
    "x1 = randn(100000)+r\n",
    "x2 = randn(100000)-3+r\n",
    "\n",
    "# generate random error\n",
    "e = randn(100000)\n",
    "\n",
    "# generate y\n",
    "y = 1 - 0.3*x1 + 0.7*x2 + e\n",
    "\n",
    "# generate dataframe\n",
    "df = pd.DataFrame({'Y' : y, 'X1': x1, 'X2':x2,'e':e})\n",
    "df.head()"
   ]
  },
  {
   "cell_type": "code",
   "execution_count": 31,
   "metadata": {
    "scrolled": true,
    "slideshow": {
     "slide_type": "slide"
    }
   },
   "outputs": [
    {
     "data": {
      "text/html": [
       "<div>\n",
       "<style scoped>\n",
       "    .dataframe tbody tr th:only-of-type {\n",
       "        vertical-align: middle;\n",
       "    }\n",
       "\n",
       "    .dataframe tbody tr th {\n",
       "        vertical-align: top;\n",
       "    }\n",
       "\n",
       "    .dataframe thead th {\n",
       "        text-align: right;\n",
       "    }\n",
       "</style>\n",
       "<table border=\"1\" class=\"dataframe\">\n",
       "  <thead>\n",
       "    <tr style=\"text-align: right;\">\n",
       "      <th></th>\n",
       "      <th>Y</th>\n",
       "      <th>X1</th>\n",
       "      <th>X2</th>\n",
       "      <th>e</th>\n",
       "    </tr>\n",
       "  </thead>\n",
       "  <tbody>\n",
       "    <tr>\n",
       "      <th>count</th>\n",
       "      <td>100000.000000</td>\n",
       "      <td>100000.000000</td>\n",
       "      <td>100000.000000</td>\n",
       "      <td>100000.000000</td>\n",
       "    </tr>\n",
       "    <tr>\n",
       "      <th>mean</th>\n",
       "      <td>-1.101529</td>\n",
       "      <td>0.003995</td>\n",
       "      <td>-2.997574</td>\n",
       "      <td>-0.002028</td>\n",
       "    </tr>\n",
       "    <tr>\n",
       "      <th>std</th>\n",
       "      <td>1.321183</td>\n",
       "      <td>1.409322</td>\n",
       "      <td>1.412244</td>\n",
       "      <td>1.002965</td>\n",
       "    </tr>\n",
       "    <tr>\n",
       "      <th>min</th>\n",
       "      <td>-6.476633</td>\n",
       "      <td>-6.468601</td>\n",
       "      <td>-9.589595</td>\n",
       "      <td>-4.197432</td>\n",
       "    </tr>\n",
       "    <tr>\n",
       "      <th>25%</th>\n",
       "      <td>-1.998156</td>\n",
       "      <td>-0.941525</td>\n",
       "      <td>-3.954581</td>\n",
       "      <td>-0.675182</td>\n",
       "    </tr>\n",
       "    <tr>\n",
       "      <th>50%</th>\n",
       "      <td>-1.107798</td>\n",
       "      <td>0.006621</td>\n",
       "      <td>-2.992871</td>\n",
       "      <td>-0.006408</td>\n",
       "    </tr>\n",
       "    <tr>\n",
       "      <th>75%</th>\n",
       "      <td>-0.210972</td>\n",
       "      <td>0.957663</td>\n",
       "      <td>-2.043472</td>\n",
       "      <td>0.673711</td>\n",
       "    </tr>\n",
       "    <tr>\n",
       "      <th>max</th>\n",
       "      <td>4.366939</td>\n",
       "      <td>6.223094</td>\n",
       "      <td>3.203332</td>\n",
       "      <td>4.530903</td>\n",
       "    </tr>\n",
       "  </tbody>\n",
       "</table>\n",
       "</div>"
      ],
      "text/plain": [
       "                   Y             X1             X2              e\n",
       "count  100000.000000  100000.000000  100000.000000  100000.000000\n",
       "mean       -1.101529       0.003995      -2.997574      -0.002028\n",
       "std         1.321183       1.409322       1.412244       1.002965\n",
       "min        -6.476633      -6.468601      -9.589595      -4.197432\n",
       "25%        -1.998156      -0.941525      -3.954581      -0.675182\n",
       "50%        -1.107798       0.006621      -2.992871      -0.006408\n",
       "75%        -0.210972       0.957663      -2.043472       0.673711\n",
       "max         4.366939       6.223094       3.203332       4.530903"
      ]
     },
     "execution_count": 31,
     "metadata": {},
     "output_type": "execute_result"
    }
   ],
   "source": [
    "df.describe()"
   ]
  },
  {
   "cell_type": "markdown",
   "metadata": {
    "slideshow": {
     "slide_type": "slide"
    }
   },
   "source": [
    "We first estimate the unbiased model $\\hat{y}=\\hat{\\beta}_0+\\hat{\\beta}_1x_1+\\hat{\\beta}_2x_2+\\hat{u}$"
   ]
  },
  {
   "cell_type": "code",
   "execution_count": 24,
   "metadata": {
    "slideshow": {
     "slide_type": "slide"
    }
   },
   "outputs": [
    {
     "name": "stdout",
     "output_type": "stream",
     "text": [
      "                            OLS Regression Results                            \n",
      "==============================================================================\n",
      "Dep. Variable:                      y   R-squared:                       0.329\n",
      "Model:                            OLS   Adj. R-squared:                  0.329\n",
      "Method:                 Least Squares   F-statistic:                 2.454e+04\n",
      "Date:                Mon, 14 Sep 2020   Prob (F-statistic):               0.00\n",
      "Time:                        16:49:05   Log-Likelihood:            -1.4219e+05\n",
      "No. Observations:              100000   AIC:                         2.844e+05\n",
      "Df Residuals:                   99997   BIC:                         2.844e+05\n",
      "Df Model:                           2                                         \n",
      "Covariance Type:            nonrobust                                         \n",
      "==============================================================================\n",
      "                 coef    std err          t      P>|t|      [0.025      0.975]\n",
      "------------------------------------------------------------------------------\n",
      "Intercept      0.9940      0.010     98.945      0.000       0.974       1.014\n",
      "x1            -0.3010      0.002   -134.273      0.000      -0.305      -0.297\n",
      "x2             0.6987      0.003    219.619      0.000       0.692       0.705\n",
      "==============================================================================\n",
      "Omnibus:                        0.210   Durbin-Watson:                   1.999\n",
      "Prob(Omnibus):                  0.901   Jarque-Bera (JB):                0.214\n",
      "Skew:                          -0.003   Prob(JB):                        0.899\n",
      "Kurtosis:                       2.997   Cond. No.                         11.7\n",
      "==============================================================================\n",
      "\n",
      "Warnings:\n",
      "[1] Standard Errors assume that the covariance matrix of the errors is correctly specified.\n"
     ]
    }
   ],
   "source": [
    "# estimate unbiased OLS model\n",
    "import statsmodels.formula.api as smf    # for the ols and robust ols model\n",
    "import statsmodels.api as sm\n",
    "\n",
    "formula = \"y ~ x1 + x2 \"\n",
    "results = smf.ols(formula, df).fit()\n",
    "print(results.summary())"
   ]
  },
  {
   "cell_type": "markdown",
   "metadata": {
    "slideshow": {
     "slide_type": "slide"
    }
   },
   "source": [
    "Now we assume we don't observe $x_2$ and instead estimate\n",
    "\n",
    "\\begin{equation*}\n",
    "\\tilde{y}=\\tilde{\\beta}_0+\\tilde{\\beta}_1x_1\n",
    "\\end{equation*}"
   ]
  },
  {
   "cell_type": "code",
   "execution_count": 25,
   "metadata": {
    "slideshow": {
     "slide_type": "slide"
    }
   },
   "outputs": [
    {
     "name": "stdout",
     "output_type": "stream",
     "text": [
      "                            OLS Regression Results                            \n",
      "==============================================================================\n",
      "Dep. Variable:                      y   R-squared:                       0.006\n",
      "Model:                            OLS   Adj. R-squared:                  0.006\n",
      "Method:                 Least Squares   F-statistic:                     575.3\n",
      "Date:                Mon, 14 Sep 2020   Prob (F-statistic):          9.03e-127\n",
      "Time:                        16:49:05   Log-Likelihood:            -1.6187e+05\n",
      "No. Observations:              100000   AIC:                         3.237e+05\n",
      "Df Residuals:                   99998   BIC:                         3.238e+05\n",
      "Df Model:                           1                                         \n",
      "Covariance Type:            nonrobust                                         \n",
      "==============================================================================\n",
      "                 coef    std err          t      P>|t|      [0.025      0.975]\n",
      "------------------------------------------------------------------------------\n",
      "Intercept     -1.0994      0.004   -284.705      0.000      -1.107      -1.092\n",
      "x1             0.0464      0.002     23.985      0.000       0.043       0.050\n",
      "==============================================================================\n",
      "Omnibus:                        8.077   Durbin-Watson:                   1.997\n",
      "Prob(Omnibus):                  0.018   Jarque-Bera (JB):                8.081\n",
      "Skew:                           0.020   Prob(JB):                       0.0176\n",
      "Kurtosis:                       2.982   Cond. No.                         2.00\n",
      "==============================================================================\n",
      "\n",
      "Warnings:\n",
      "[1] Standard Errors assume that the covariance matrix of the errors is correctly specified.\n"
     ]
    }
   ],
   "source": [
    "formula = \"y ~ x1\"\n",
    "results = smf.ols(formula, df).fit()\n",
    "print(results.summary())"
   ]
  },
  {
   "cell_type": "markdown",
   "metadata": {
    "slideshow": {
     "slide_type": "slide"
    }
   },
   "source": [
    "Let's now compare the two regression\n",
    "   - the one where we omit $x_2$ that is correlated with our variable of interest and the dependent variable \n",
    "   - the other one where $x_2$ is also included"
   ]
  },
  {
   "cell_type": "code",
   "execution_count": 37,
   "metadata": {
    "slideshow": {
     "slide_type": "slide"
    }
   },
   "outputs": [
    {
     "name": "stdout",
     "output_type": "stream",
     "text": [
      "\n",
      "===========================\n",
      "             y        y    \n",
      "            (1)      (2)   \n",
      "---------------------------\n",
      "Intercept 1.00***  -1.10***\n",
      "          (0.01)   (0.00)  \n",
      "x1        -0.30*** 0.05*** \n",
      "          (0.00)   (0.00)  \n",
      "x2        0.70***          \n",
      "          (0.00)           \n",
      "N         100000   100000  \n",
      "R2        0.42     0.00    \n",
      "===========================\n",
      "Standard errors in\n",
      "parentheses.\n",
      "* p<.1, ** p<.05, ***p<.01\n"
     ]
    }
   ],
   "source": [
    "import statsmodels.api as sm\n",
    "from statsmodels.iolib.summary2 import summary_col\n",
    "\n",
    "formula = \"y ~ x1 + x2\"\n",
    "reg1 = smf.ols(formula, df).fit()\n",
    "formula = \"y ~ x1\"\n",
    "reg2 = smf.ols(formula, df).fit()\n",
    "\n",
    "dfoutput = summary_col([reg1,reg2],stars=True,float_format='%0.2f',\n",
    "                  model_names=['y\\n(1)','y\\n(2)'],\n",
    "                  info_dict={'N':lambda x: \"{0:d}\".format(int(x.nobs)),\n",
    "                             'R2':lambda x: \"{:.2f}\".format(x.rsquared)})\n",
    "print(dfoutput)\n"
   ]
  },
  {
   "cell_type": "markdown",
   "metadata": {
    "slideshow": {
     "slide_type": "slide"
    }
   },
   "source": [
    "**Note:** The bias of the parameter of interest is not introduced because a variable that affects $y$ is omitted in the regression model!\n",
    "\n",
    "The bias results because the missing (unobserved) variable is also correlated with one of the $x$ variables!\n",
    "\n",
    "- Now consider a model $y=\\beta_0+\\beta_{1}x_1+\\beta_{2}x_2+\\beta_{3}x_3+u$ \n",
    "- Assume $\\beta_1$ = 1, $\\beta_1$=-0.3 and $\\beta_2$=0.7 AND $\\beta_3$=0.5\n",
    "- Again assume that $x_1$ and $x_2$ are correlated but uncorrelated with $x_3$\n",
    "- Though $x_3$ affects $y$ omitting it does not introduce a bias\n",
    "- Not necessarily important to put everything into the model that affects $y$, that's not the issue"
   ]
  },
  {
   "cell_type": "code",
   "execution_count": 27,
   "metadata": {
    "slideshow": {
     "slide_type": "slide"
    }
   },
   "outputs": [],
   "source": [
    "# generate x3 which is uncorrelated to x1 and x2\n",
    "seed(1)\n",
    "x1 = randn(100000)+r\n",
    "x2 = randn(100000)-3+r\n",
    "x3 = randn(100000)\n",
    "e = randn(100000)\n",
    "\n",
    "# adjust y\n",
    "y = 1 - 0.3*x1 + 0.7*x2 - 0.4*x3 + e\n",
    "\n",
    "# generate dataframe\n",
    "df = pd.DataFrame({'y' : y, 'x1': x1, 'x2':x2,'x3':x3,'e':e})"
   ]
  },
  {
   "cell_type": "code",
   "execution_count": 28,
   "metadata": {
    "slideshow": {
     "slide_type": "slide"
    }
   },
   "outputs": [
    {
     "name": "stdout",
     "output_type": "stream",
     "text": [
      "\n",
      "=============================================\n",
      "             y        y        y        y    \n",
      "            (0)      (1)      (2)      (3)   \n",
      "---------------------------------------------\n",
      "Intercept -1.10*** -1.10*** 1.00***  1.01*** \n",
      "          (0.00)   (0.00)   (0.01)   (0.01)  \n",
      "x1        0.05***  0.05***  -0.30*** -0.30***\n",
      "          (0.00)   (0.00)   (0.00)   (0.00)  \n",
      "x2                          0.70***  0.70*** \n",
      "                            (0.00)   (0.00)  \n",
      "x3                 -0.40*** -0.40***         \n",
      "                   (0.00)   (0.00)           \n",
      "N         100000   100000   100000   100000  \n",
      "R2        0.01     0.10     0.40     0.30    \n",
      "=============================================\n",
      "Standard errors in parentheses.\n",
      "* p<.1, ** p<.05, ***p<.01\n"
     ]
    }
   ],
   "source": [
    "import statsmodels.api as sm\n",
    "from statsmodels.iolib.summary2 import summary_col\n",
    "\n",
    "formula = \"y ~ x1\"\n",
    "reg1 = smf.ols(formula, df).fit()\n",
    "formula = \"y ~ x1 + x3\"\n",
    "reg2 = smf.ols(formula, df).fit()\n",
    "formula = \"y ~ x1 + x2 + x3\"\n",
    "reg3 = smf.ols(formula, df).fit()\n",
    "formula = \"y ~ x1 + x2\"\n",
    "reg4 = smf.ols(formula, df).fit()\n",
    "\n",
    "dfoutput = summary_col([reg1,reg2,reg3,reg4],stars=True,float_format='%0.2f',\n",
    "                  model_names=['y\\n(0)','y\\n(1)','y\\n(2)','y\\n(3)'],\n",
    "                  info_dict={'N':lambda x: \"{0:d}\".format(int(x.nobs)),\n",
    "                             'R2':lambda x: \"{:.2f}\".format(x.rsquared)})\n",
    "print(dfoutput)\n"
   ]
  },
  {
   "cell_type": "markdown",
   "metadata": {
    "slideshow": {
     "slide_type": "slide"
    }
   },
   "source": [
    "**Potential Outcomes, Treatment Effects, and Policy Analysis**\n",
    "\n",
    "- For most practicing economists, the most exciting applications of multiple regression are in trying to estimate causal effects of policy interventions.\n",
    "    - Do job training programs increase labor earnings? By how much?\n",
    "    - Do school choice programs improve student outcomes? Does legalizing marijuana increase crime rates?\n",
    "    \n",
    "- We introduced the potential outcomes approach to studying policy questions already.\n",
    "- In particular, we studied simple regression in the context of a binary policy intervention, using the notion of **counterfactual outcomes**.\n",
    "- We now change notation slightly, using $w$ to denote the binary intervention or policy indicator.\n",
    "- As before, for each unit in the population we imagine the existence of the potential outcomes, $y(0)$ and $y(1)$  representing different states of the world.\n"
   ]
  },
  {
   "cell_type": "markdown",
   "metadata": {
    "slideshow": {
     "slide_type": "slide"
    }
   },
   "source": [
    "**Potential Outcomes, Treatment Effects, and Policy Analysis**\n",
    "\n",
    "- If we assume a constant treatment effect, say $\\tau$, then we can write, for any unit $i$,\n",
    "\n",
    "\\begin{equation*}\n",
    "y_i(1)=\\tau+y_i(0)\n",
    "\\end{equation*}\n",
    "\n",
    "- When the treatment effect can vary by $i$, the average treatment effect is\n",
    "\n",
    "\\begin{equation*}\n",
    "\\tau_{ate}=E[y_i(1)]-y_i(0)\n",
    "\\end{equation*}\n",
    "\n",
    "\n",
    "where the expectation is taken over the entire population.\n",
    "\n",
    "- For a random draw $i$, the outcome we observe, $y_i$, can be written\n",
    "\n",
    "\\begin{equation*}\n",
    "y_i=(1-w_i)y_i(0)+w_iy_i(1)\n",
    "\\end{equation*}\n",
    "\n",
    "\n"
   ]
  },
  {
   "cell_type": "markdown",
   "metadata": {
    "slideshow": {
     "slide_type": "slide"
    }
   },
   "source": [
    "**Potential Outcomes, Treatment Effects, and Policy Analysis**\n",
    "\n",
    "- Recall: the simple regression of $y$ on $w$ (with an intercept, as usual) is an unbiased estimator of $\\tau_{ate}$ only if we have random assignment of $w$ — that is, $w$ is independent of $[y(0), y(1)]$.\n",
    "- Random assignment is still pretty rare in business, economics, and other social sciences because true experiments are still somewhat rare.\n",
    "- Fortunately, if we can control variables — variables that help predict the potential outcomes and determine assignment into the treatment and control groups — we can use multiple regression.\n",
    "- Letting $x$ again denote a set of control variables, consider the following assumption: \n",
    "\n",
    "$w$ is independent of $[y(0), y(1)]$ conditional on $x$. \n",
    "\n",
    "\n",
    "- This assumption is called **conditional independence**, where it is important to note the variables in $x$ that are in the conditioning set.\n",
    "- In the treatment effects literature, it is also called **unconfounded assignment** or **unconfoundedness conditional on $x$**."
   ]
  },
  {
   "cell_type": "markdown",
   "metadata": {
    "slideshow": {
     "slide_type": "slide"
    }
   },
   "source": [
    "**Example for conditional independence**\n",
    "- Consider a job training program some workers attended in 2017\n",
    "- We are interested in how it affect on a workers earning in 2018\n",
    "- Let us first estimate a simple regression (earnings in 1000 USD)\n",
    "\n",
    "\\begin{equation*}\n",
    "\\hat{earn18}=10.61 - 2.05\\mathit{train17}\n",
    "\\end{equation*}\n",
    "\n",
    "- Damn! Job traings reduce your income, don't do them or you get poor!\n",
    "- Really?\n",
    "- Problem with the above simple regression? Who does job trainings?"
   ]
  },
  {
   "cell_type": "markdown",
   "metadata": {
    "slideshow": {
     "slide_type": "slide"
    }
   },
   "source": [
    "**Example for conditional independence**\n",
    "\n",
    "- Problem: Participation in a job training program is not random! \n",
    "- People with already lower income or less education  are probably more likely to attend a job training on average.\n",
    "- Previous earnings and education both affect earnings AND are correlated with participation in a job training program.\n",
    "\n",
    "$\\rightarrow$  $w$ is not independent of $[y(0),y(1)]$ when we only regress $earn18$ on $train17$\n",
    "\n",
    "- Let us add other factors\n",
    "\n",
    "\\begin{equation*}\n",
    "\\hat{earn18}=4.67 + 2.41\\mathit{train17}+0.373\\mathit{earn16}+0.363\\mathit{educ}+0.181\\mathit{exper}+2.48\\mathit{married}\n",
    "\\end{equation*}\n",
    "\n",
    "- Effect is now positive\n",
    "- Interpretation:\n",
    "    - Consider the group of people with 12 years of schooling who are 35 years old and who had average earnings of 25,000 USD the past two years.\n",
    "    - What the **conditional indepence assumption** requires is that within this group, assignment to the treatment\n",
    "and control groups is random.\n"
   ]
  },
  {
   "cell_type": "markdown",
   "metadata": {
    "slideshow": {
     "slide_type": "slide"
    }
   },
   "source": [
    "**Example for conditional independence**\n",
    "\n",
    "- The more variables we observe prior to implementation of the program the more likely the unconfoundness assumption\n",
    "is to hold.\n",
    "- If we observe no information to include in $x$ then we are back to assuming pure random\n",
    "assignment.\n",
    "- But: still possible that we did not include all the correct variables in $x$.\n",
    "- For example: perhaps everyone in a sample from the eligible population was administered a test to measure intelligence, and assignment to the program is partly based on the score from the test.\n",
    "- If we cannot observe the test score, it must be excluded from $x$ and the unconfoundness assumption would generally fail—although it could be \"close\" to being true if we have other good controls in $x$."
   ]
  },
  {
   "cell_type": "markdown",
   "metadata": {
    "slideshow": {
     "slide_type": "slide"
    }
   },
   "source": [
    "<h3>Inference</h3>\n",
    "\n",
    "- We now turn to the problem of testing hypotheses about the parameters in the population regression model\n",
    "- We begin by finding the distributions of the OLS estimators under the added assumption that the population error is normally distributed.\n",
    "- We then cover hypothesis testing about individual parameters"
   ]
  },
  {
   "cell_type": "markdown",
   "metadata": {
    "slideshow": {
     "slide_type": "slide"
    }
   },
   "source": [
    "**Sampling Distribution of the OLS Estimators**\n",
    "\n",
    "So far:\n",
    "\n",
    "- we have formed a set of assumptions under which OLS is unbiased\n",
    "- We have also derived and discussed the bias caused by omitted variables.\n",
    "- We have obtained the variances of the OLS estimators under the basic assumptions.\n",
    "\n",
    "Thus: \n",
    "\n",
    "- we know the expected value and variance of the OLS estimators\n",
    "\n",
    "This is useful for describing the precision of the OLS estimators.\n",
    "\n",
    "- But: in order to perform statistical inference, we need to know more than just the first two moments of $\\hat{\\beta}_j$:\n",
    "\n",
    "$\\rightarrow$ we need to know the full sampling distribution of the $\\hat{\\beta}_j$."
   ]
  },
  {
   "cell_type": "markdown",
   "metadata": {
    "slideshow": {
     "slide_type": "slide"
    }
   },
   "source": [
    "**Sampling Distribution of the OLS Estimators**\n",
    "\n",
    "- Even under the basic assumptions, the distribution of $\\hat{\\beta}_j$ can have virtually any shape.\n",
    "- When we condition on the values of the independent variables in our sample, it is clear that the sampling distributions of the OLS estimators depend on the underlying distribution of the errors.\n",
    "- To make the sampling distributions of the $\\hat{\\beta}_j$  tractable, we now assume that the unobserved error is normally distributed in the population.\n",
    "- We call this the **normality assumption**.\n",
    "\n",
    "<blockquote> $\\textbf{Normality}$: The population error $u$ is independent of the explanatory variables $x_1, x_2, . . . , x_k$ and is normally distributed with zero mean and variance $\\sigma^2:u\\backsim Normal(0,\\sigma^2)$.</blockquote> "
   ]
  },
  {
   "cell_type": "markdown",
   "metadata": {
    "slideshow": {
     "slide_type": "slide"
    }
   },
   "source": [
    "**Sampling Distribution of the OLS Estimators**\n",
    "\n",
    "- Obviously, the **normality assumption** includes the zero conditional mean assumption and the homoscedasticity assumption as it includes \n",
    "\n",
    "\\begin{equation}\n",
    "E(u|x_1,x_2,...,x_k)=E(u)=0 \n",
    "\\end{equation}\n",
    "\n",
    "and \n",
    "\n",
    "\\begin{equation}\n",
    "Var(u|x_1,...,x_k)=Var(u)=\\sigma^2\n",
    "\\end{equation}\n",
    "\n",
    "\n",
    "- But: It is an even stronger assumption as it additionall requires that error terms are normally disributed\n",
    "- If the normality assumption is additionally fullfilled, it can be shown that the OLS estimator has the smallest variance among unbiased estimators (not only among linear estimators)"
   ]
  },
  {
   "cell_type": "markdown",
   "metadata": {
    "slideshow": {
     "slide_type": "slide"
    }
   },
   "source": [
    "**Sampling Distribution of the OLS Estimators**\n",
    "\n",
    "- How is the normality assumption justified?\n",
    "- The argument justifying the normal distribution for the errors usually runs something like this:\n",
    "- Because $u$ is the sum of many different unobserved factors affecting $y$, we can invoke the **central limit theorem (CLT)** (with large $n$ the sample mean $\\bar{y}$ of a random sample will eventually _always_ be normally distributed, no matter what the distribution of $y$ is) to conclude that u has an approximate normal distribution.\n",
    "- This argument has some merit, but it is not without weaknesses.\n"
   ]
  },
  {
   "cell_type": "markdown",
   "metadata": {
    "slideshow": {
     "slide_type": "slide"
    }
   },
   "source": [
    "**Sampling Distribution of the OLS Estimators**\n",
    "\n",
    "- First, the factors in $u$ can have very different distributions in the population (for example, ability and quality of schooling in the error in a wage equation).\n",
    "- Although the CLT can still hold in such cases, the normal approximation can be poor depending on how many factors appear in u and how different their distributions are.\n",
    "- A more serious problem with the CLT argument is that it assumes that all unobserved factors affect $y$ in a separate, additive fashion.\n",
    "- Nothing guarantees that this is so: if $u$ is a complicated function of the unobserved factors, then the CLT argument does not really apply.\n",
    "- In any application, whether normality of $u$ can be assumed is really an empirical matter.\n",
    "- For example, there is no theorem that says wage conditional on educ, exper, and tenure is normally distributed."
   ]
  },
  {
   "cell_type": "markdown",
   "metadata": {
    "slideshow": {
     "slide_type": "slide"
    }
   },
   "source": [
    "**Sampling Distribution of the OLS Estimators**\n",
    "\n",
    "- If anything, simple reasoning suggests that the opposite is true: because wage can never be less than zero, it cannot, strictly speaking, have a normal distribution.\n",
    "- Further, because there are minimum wage laws, some fraction of the population earns exactly the minimum wage, which also violates the normality assumption.\n",
    "- Nevertheless, as a practical matter, we can ask whether the conditional wage distribution is \"close\" to being normal.\n",
    "- Past empirical evidence suggests that normality is not a good assumption for wages.\n",
    "- Often, using a transformation, especially taking the log, yields a distribution that is closer to normal.\n",
    "- For example, something like log(price) tends to have a distribution that looks more normal than the distribution of price.\n",
    "- But: non-normality of the errors is not a serious problem with large sample sizes, so we can make this assumption in general."
   ]
  },
  {
   "cell_type": "markdown",
   "metadata": {
    "slideshow": {
     "slide_type": "slide"
    }
   },
   "source": [
    "**Sampling Distribution of the OLS Estimators**\n",
    "\n",
    "- Normality of the error term translates into normal sampling distributions of the OLS estimators:\n",
    "\n",
    "<blockquote> **Normal Sampling Distribution**\n",
    "\n",
    "Conditional on the sample values of the independent\n",
    "variables,\n",
    "\n",
    "\\begin{equation*}\n",
    "\\hat{\\beta}_j\\backsim Normal[\\beta_j, Var(\\hat{\\beta}_j],\n",
    "\\end{equation*}\n",
    "\n",
    "which can be rewritten as\n",
    "\n",
    "\\begin{equation*}\n",
    "(\\hat{\\beta}_j-\\beta_j)/sd(\\hat{\\beta}_j)\\backsim Normal(0,1),\n",
    "\\end{equation*}\n",
    "\n",
    "by standardizing a normal random variable by subtracting off its mean and dividing by its standard deviation.\n"
   ]
  },
  {
   "cell_type": "markdown",
   "metadata": {
    "slideshow": {
     "slide_type": "subslide"
    }
   },
   "source": [
    "**Hypothesis Testing**\n",
    "\n",
    "- We now study how to test hypotheses about a particular $\\beta_j$ in a population regression model of the form\n",
    "\n",
    "\\begin{equation*}\n",
    "y=\\beta_0+\\beta_1x_1+...+\\beta_kx_k+u\n",
    "\\end{equation*}  \n",
    "\n",
    "\n",
    "where we asume that it satisfies the introduced assumptions.\n",
    "\n",
    "- Remember: the $\\beta_j$ are unknown features of the population, and we will never know them with certainty. \n",
    "- But: we can hypothesize about the value of $\\beta_j$ and then use statistical inference to test our hypothesis.\n",
    "\n",
    "\n"
   ]
  },
  {
   "cell_type": "markdown",
   "metadata": {
    "slideshow": {
     "slide_type": "slide"
    }
   },
   "source": [
    "**Hypothesis Testing**\n",
    "\n",
    "Example: wage equation\n",
    "\n",
    "\\begin{equation*}\n",
    "log(wage)=\\beta_0+\\beta_1educ+\\beta_2IQ+u\n",
    "\\end{equation*}  \n",
    "\n",
    "Hypothesis:\n",
    "\n",
    "Given IQ, educ does not affect log(Wage) $\\Leftrightarrow \\beta_1=0$\n",
    "\n",
    "$\\rightarrow$ We use OLS analyses to test the hypothesis of no ceteris paribus effect of education."
   ]
  },
  {
   "cell_type": "markdown",
   "metadata": {
    "slideshow": {
     "slide_type": "slide"
    }
   },
   "source": [
    "**Hypothesis Testing**\n",
    "\n",
    "- In order to construct hypotheses tests, we need the following result:\n",
    "\n",
    "<blockquote> $\\textbf{t Distribution for the Standardized Estimators}$\n",
    "\n",
    "\\begin{equation*}\n",
    "(\\hat{\\beta}_j-\\beta_j)/se(\\hat{\\beta}_j)\\backsim t_{n-k-1}=t_{df},\n",
    "\\end{equation*}\n",
    "\n",
    "\n",
    "where $k+1$ is the number of unknown parameters in the population model $y=\\beta_0+\\beta_1x1+...+\\beta_kx_k+u$ (_k_ slope parameters and the intercept) and $n-k$ is the degree of freedoms (df).\n",
    "</blockquote>\n",
    "\n",
    "- The $t$ distribution above (in contrast to the normal distribution from the previous formula) comes from the fact that the constant $\\sigma$ in $sd(\\hat{\\beta}_1)$ has been replaced with the random variable $\\hat{\\sigma}$. (The proof that this\n",
    "leads to a t distribution with $n-k-1$ degrees of freedom is difficult and not especially instructive.)\n",
    "- Advantage of this standardized estimator: the t-distribution with many dfs is asymptotically standard normal distribution.\n",
    "- Thus: with the standardized estimator we get the same distribution for every parameter (regardless of the actual  mean and standard deviation of $\\beta$)"
   ]
  },
  {
   "cell_type": "markdown",
   "metadata": {
    "slideshow": {
     "slide_type": "slide"
    }
   },
   "source": [
    "**Hypothesis Testing**\n",
    "\n",
    "- The above theorem allows us to test hypotheses involving the **unknown** $\\beta_j$.\n",
    "- In most applications, our primary interest lies in testing the **null hypothesis** \n",
    "\n",
    "\\begin{equation*}\n",
    "H_0:\\beta_j=0\n",
    "\\end{equation*}\n",
    "where $j$ corresponds to any of the $k$ independent variables.\n",
    "\n",
    "- Because $\\beta_j$ measures the partial effect of $x_j$ on (the expected value of) _y_, after controlling for all other independent variables, this means that, once $x_1$, $x_2$, . . . , $x_k$ have been accounted for, $x_j$ has no effect on the expected value of $y$.\n"
   ]
  },
  {
   "cell_type": "markdown",
   "metadata": {
    "slideshow": {
     "slide_type": "slide"
    }
   },
   "source": [
    "**Hypothesis Testing**\n",
    "\n",
    "- As an example consider\n",
    "\n",
    "\\begin{equation*}\n",
    "log(wage)=\\beta_0+\\beta_1educ+\\beta_2exper+\\beta_3tenure+u\n",
    "\\end{equation*}\n",
    "\n",
    "- The null hypothesis $H_0:\\beta_2=0$ means that, once education and tenure have been accounted for, the number of years in the workforce (_exper_) has no effect on hourly wage.\n",
    "- If it is true, it implies that a person’s work history prior to the current employment does not affect wage.\n",
    "- If $\\beta_2>0$, then prior work experience contributes to productivity, and hence to wage.\n",
    "- The statistic we use to test the null hypothesis (against any alternative) is called a **t- statistic** of $\\hat{\\beta}_j$ and is defined as\n",
    "\n",
    "\n",
    "\\begin{equation*}\n",
    "t_\\hat{{\\beta}_j}=\\hat{{\\beta}_j}/se(\\hat{\\beta}_j)\n",
    "\\end{equation*}"
   ]
  },
  {
   "cell_type": "markdown",
   "metadata": {
    "slideshow": {
     "slide_type": "slide"
    }
   },
   "source": [
    "**Hypothesis Testing**\n",
    "\n",
    "- In any interesting application, the point estimate $\\hat{\\beta}_j$ will never exactly be zero, whether or not $H_0$ is true.\n",
    "- The question is: How far is $\\hat{\\beta}_j$ from zero?\n",
    "- A sample value of $\\hat{\\beta}_j$ very far from zero provides evidence against $H_0:\\beta_j=0$.\n",
    "- However, we must recognize that there is a sampling error in our estimate $\\hat{\\beta}_j$, so the size of $\\hat{\\beta}_j$ must be weighed against its sampling error.\n",
    "- Because the standard error of $\\hat{\\beta}_j$ is an estimate of the standard deviation of $\\hat{\\beta}_j$, $t_\\hat{{\\beta}_j}$ measures how many estimated standard deviations $\\hat{\\beta}_j$ is away from zero.\n",
    "- This is precisely what we do in testing whether the mean of a population is zero, using the standard t statistic from introductory statistics.\n",
    "- Values of $t_\\hat{{\\beta}_j}$  sufficiently far from zero will result in a rejection of $H_0$.\n",
    "- The precise rejection rule depends on the alternative hypothesis and the chosen significance level of the test."
   ]
  },
  {
   "cell_type": "markdown",
   "metadata": {
    "slideshow": {
     "slide_type": "slide"
    }
   },
   "source": [
    "**Hypothesis Testing**\n",
    "\n",
    "- To determine a rule for rejecting $H_0$, we need to decide on the relevant alternative hypothesis.\n",
    "- First, consider a one-sided alternative of the form\n",
    "\n",
    "\\begin{equation*}\n",
    "H_1: \\beta_j>0\n",
    "\\end{equation*}\n",
    "\n",
    "- How should we choose a rejection rule?\n",
    "- We must first decide on a **significance level** for the probability of rejecting $H_0$ when it is in fact true.\n",
    "- Suppose we have decided on a 5% significance level, as this is the most popular choice.\n",
    "- Thus, we are willing to mistakenly reject $H_0$ when it is true 5% of the time.\n",
    "\n",
    "| Decision $\\downarrow$/Reality $\\rightarrow$| $H_0$ is true | $H_0$ is false |\n",
    "| :- | --- | --- |\n",
    "| not reject $H_0$  | correct | Type II error |\n",
    "| reject $H_0$ | Type I error | correct! |\n"
   ]
  },
  {
   "cell_type": "markdown",
   "metadata": {
    "slideshow": {
     "slide_type": "slide"
    }
   },
   "source": [
    "**Hypothesis Testing**\n",
    "\n",
    "- Now, while $t_\\hat{{\\beta}_j}$ has a _t_ distribution under $H_0$ — so that it has zero mean — under the alternative $\\beta_j>0$ the expected value of $t_\\hat{{\\beta}_j}$ is positive.\n",
    "- Thus, we are looking for a \"sufficiently large\" positive value of $t_\\hat{{\\beta}_j}$ in order to reject $H_0: \\beta_j=0$ in favor of $H_1: \\beta_j>0$.\n",
    "- The definition of \"sufficiently large,\" with a 5% significance level, is the 95th percentile in a _t<span>_ distribution with _n-k-1_ degrees of freedom; denote this by _c<span>_.\n",
    "- In other words, the **rejection rule** is that $H_0$ is rejected in favor of $H_1$ at the 5% significance level if\n",
    "\n",
    "\\begin{equation*}\n",
    "H_1: \\beta_j>c\n",
    "\\end{equation*}\n",
    "\n",
    "- By our choice of the **critical value**, _c<span>_, rejection of $H_0$ will occur for 5% of all random samples when H0 is true.\n"
   ]
  },
  {
   "cell_type": "markdown",
   "metadata": {
    "slideshow": {
     "slide_type": "slide"
    }
   },
   "source": [
    "**Hypothesis Testing**\n",
    "\n",
    "- The rejection rule here is an example of a **one-tailed test**.\n",
    "- To obtain _c_, we only need the significance level and the degrees of freedom.\n",
    "- For example, for a 5% level test and with _n-k-1_=28 degrees of freedom, the critical value is _c=1.701_.\n",
    "- If $t_\\hat{{\\beta}_j}\\leq1.701$, then we fail to reject $H_0$ in favor of $H_1$ at the 5% level.\n",
    "- The same procedure can be used with other significance levels.\n",
    "-  You should note a pattern in the critical values: as the significance level falls, the critical value increases, so that we require a larger and larger value $t_\\hat{{\\beta}_j}$ in order to reject $H_0$.\n",
    "- Thus, if $H_0$ is rejected at, say, the 5% level, then it is automatically rejected at the 10% level as well.\n",
    "- As the degrees of freedom in the $t$ distribution get large, the $t$ distribution approaches the standard normal distribution. "
   ]
  },
  {
   "cell_type": "markdown",
   "metadata": {
    "slideshow": {
     "slide_type": "slide"
    }
   },
   "source": [
    "**5% rejection rule for the alternative $H_1: \\beta_j>0$ with 28 df.**\n",
    "\n",
    "<br>  \n",
    "\n",
    "\n",
    "<center><img src=\"figs/wool_4_2.png\" width=\"500\"/> \n",
    "    \n",
    "\n",
    "<p>"
   ]
  },
  {
   "cell_type": "markdown",
   "metadata": {
    "slideshow": {
     "slide_type": "slide"
    }
   },
   "source": [
    "**Hypothesis Testing**\n",
    "\n",
    "- In applications, it is common to test the null hypothesis $H_0: \\beta_j=0$ against a **two-sided alternative**; that is,\n",
    "\n",
    "\\begin{equation*}\n",
    "H_1: \\beta_j\\neq 0\n",
    "\\end{equation*}\n",
    "\n",
    "\n",
    "- Under this alternative, $x_j$ has a ceteris paribus effect on $y$ without specifying whether the effect is positive or negative.\n",
    "- This is the relevant alternative when the sign of $\\beta_j$ is not well determined by theory (or common sense).\n",
    "- When the alternative is two-sided, we are interested in the _absolute value_ of the _t_ statistic.\n",
    "- The rejection rule for $H_0: \\beta_j=0$ here  is\n",
    "$|t_\\hat{{\\beta}_j}|\\geq c$\n",
    "-  To find $c$, we again specify a significance level, say 5%.\n",
    "- For a two-tailed test, $c$ is chosen to make the area in each tail of the t distribution an equal 2.5%.\n",
    "- In other words, $c$ is the 97.5th percentile in the $t$ distribution with _n-k-1_ degrees of freedom. \n",
    "\n"
   ]
  },
  {
   "cell_type": "markdown",
   "metadata": {
    "slideshow": {
     "slide_type": "slide"
    }
   },
   "source": [
    "**Hypothesis Testing**\n",
    "\n",
    "- When a specific alternative is not stated, it is usually considered to be two-sided.\n",
    "- If $H_0$ is rejected in favor of $H_1$ at the 5% level, we usually say that $x_j$ is **statistically significant**, or **statistically different from zero**, at the 5% level.\n",
    "- If $H_0$ is not rejected, we say that $x_j$ is **statistically insignificant** at the 5% level."
   ]
  },
  {
   "cell_type": "markdown",
   "metadata": {
    "slideshow": {
     "slide_type": "slide"
    }
   },
   "source": [
    "**5% rejection rule for the alternative $H_1: \\beta_j\\neq0$ with 25 df.**\n",
    "\n",
    "<br>  \n",
    "\n",
    "\n",
    "<center><img src=\"figs/wool_4_3.png\" width=\"500\"/> \n",
    "    \n",
    "\n",
    "<p>"
   ]
  },
  {
   "cell_type": "markdown",
   "metadata": {
    "slideshow": {
     "slide_type": "slide"
    }
   },
   "source": [
    "**Example: Wage and Education**\n",
    "\n",
    "<blockquote> We use again the _wage_ data and estimate\n",
    "    \n",
    "\\begin{equation*}\n",
    "wage=\\beta_0+\\beta_1educ+\\beta_2exper+\\beta_3tenure+u\n",
    "\\end{equation*}\n",
    "\n",
    "For the critical values of the t tests, using the normal approximation instead of the exact t distribution\n",
    "with _n — k — 1 = 522_ d.f. doesn’t make much of a difference:"
   ]
  },
  {
   "cell_type": "code",
   "execution_count": 29,
   "metadata": {
    "slideshow": {
     "slide_type": "slide"
    }
   },
   "outputs": [
    {
     "data": {
      "text/html": [
       "<div>\n",
       "<style scoped>\n",
       "    .dataframe tbody tr th:only-of-type {\n",
       "        vertical-align: middle;\n",
       "    }\n",
       "\n",
       "    .dataframe tbody tr th {\n",
       "        vertical-align: top;\n",
       "    }\n",
       "\n",
       "    .dataframe thead th {\n",
       "        text-align: right;\n",
       "    }\n",
       "</style>\n",
       "<table border=\"1\" class=\"dataframe\">\n",
       "  <thead>\n",
       "    <tr style=\"text-align: right;\">\n",
       "      <th></th>\n",
       "      <th>wage</th>\n",
       "      <th>educ</th>\n",
       "      <th>exper</th>\n",
       "      <th>tenure</th>\n",
       "      <th>nonwhite</th>\n",
       "      <th>female</th>\n",
       "      <th>married</th>\n",
       "      <th>numdep</th>\n",
       "      <th>smsa</th>\n",
       "      <th>northcen</th>\n",
       "      <th>south</th>\n",
       "      <th>west</th>\n",
       "      <th>construc</th>\n",
       "      <th>ndurman</th>\n",
       "      <th>trcommpu</th>\n",
       "      <th>trade</th>\n",
       "      <th>services</th>\n",
       "      <th>profserv</th>\n",
       "      <th>profocc</th>\n",
       "      <th>clerocc</th>\n",
       "      <th>servocc</th>\n",
       "      <th>lwage</th>\n",
       "      <th>expersq</th>\n",
       "      <th>tenursq</th>\n",
       "    </tr>\n",
       "  </thead>\n",
       "  <tbody>\n",
       "    <tr>\n",
       "      <th>count</th>\n",
       "      <td>526.000000</td>\n",
       "      <td>526.000000</td>\n",
       "      <td>526.00000</td>\n",
       "      <td>526.000000</td>\n",
       "      <td>526.000000</td>\n",
       "      <td>526.000000</td>\n",
       "      <td>526.000000</td>\n",
       "      <td>526.000000</td>\n",
       "      <td>526.000000</td>\n",
       "      <td>526.000000</td>\n",
       "      <td>526.000000</td>\n",
       "      <td>526.000000</td>\n",
       "      <td>526.000000</td>\n",
       "      <td>526.000000</td>\n",
       "      <td>526.000000</td>\n",
       "      <td>526.000000</td>\n",
       "      <td>526.000000</td>\n",
       "      <td>526.000000</td>\n",
       "      <td>526.000000</td>\n",
       "      <td>526.000000</td>\n",
       "      <td>526.000000</td>\n",
       "      <td>526.000000</td>\n",
       "      <td>526.000000</td>\n",
       "      <td>526.000000</td>\n",
       "    </tr>\n",
       "    <tr>\n",
       "      <th>mean</th>\n",
       "      <td>5.896103</td>\n",
       "      <td>12.562738</td>\n",
       "      <td>17.01711</td>\n",
       "      <td>5.104563</td>\n",
       "      <td>0.102662</td>\n",
       "      <td>0.479087</td>\n",
       "      <td>0.608365</td>\n",
       "      <td>1.043726</td>\n",
       "      <td>0.722433</td>\n",
       "      <td>0.250951</td>\n",
       "      <td>0.355513</td>\n",
       "      <td>0.169202</td>\n",
       "      <td>0.045627</td>\n",
       "      <td>0.114068</td>\n",
       "      <td>0.043726</td>\n",
       "      <td>0.287072</td>\n",
       "      <td>0.100760</td>\n",
       "      <td>0.258555</td>\n",
       "      <td>0.366920</td>\n",
       "      <td>0.167300</td>\n",
       "      <td>0.140684</td>\n",
       "      <td>1.623268</td>\n",
       "      <td>473.435361</td>\n",
       "      <td>78.150190</td>\n",
       "    </tr>\n",
       "    <tr>\n",
       "      <th>std</th>\n",
       "      <td>3.693086</td>\n",
       "      <td>2.769022</td>\n",
       "      <td>13.57216</td>\n",
       "      <td>7.224462</td>\n",
       "      <td>0.303805</td>\n",
       "      <td>0.500038</td>\n",
       "      <td>0.488580</td>\n",
       "      <td>1.261891</td>\n",
       "      <td>0.448225</td>\n",
       "      <td>0.433973</td>\n",
       "      <td>0.479124</td>\n",
       "      <td>0.375287</td>\n",
       "      <td>0.208874</td>\n",
       "      <td>0.318197</td>\n",
       "      <td>0.204680</td>\n",
       "      <td>0.452826</td>\n",
       "      <td>0.301298</td>\n",
       "      <td>0.438257</td>\n",
       "      <td>0.482423</td>\n",
       "      <td>0.373599</td>\n",
       "      <td>0.348027</td>\n",
       "      <td>0.531538</td>\n",
       "      <td>616.044772</td>\n",
       "      <td>199.434664</td>\n",
       "    </tr>\n",
       "    <tr>\n",
       "      <th>min</th>\n",
       "      <td>0.530000</td>\n",
       "      <td>0.000000</td>\n",
       "      <td>1.00000</td>\n",
       "      <td>0.000000</td>\n",
       "      <td>0.000000</td>\n",
       "      <td>0.000000</td>\n",
       "      <td>0.000000</td>\n",
       "      <td>0.000000</td>\n",
       "      <td>0.000000</td>\n",
       "      <td>0.000000</td>\n",
       "      <td>0.000000</td>\n",
       "      <td>0.000000</td>\n",
       "      <td>0.000000</td>\n",
       "      <td>0.000000</td>\n",
       "      <td>0.000000</td>\n",
       "      <td>0.000000</td>\n",
       "      <td>0.000000</td>\n",
       "      <td>0.000000</td>\n",
       "      <td>0.000000</td>\n",
       "      <td>0.000000</td>\n",
       "      <td>0.000000</td>\n",
       "      <td>-0.634878</td>\n",
       "      <td>1.000000</td>\n",
       "      <td>0.000000</td>\n",
       "    </tr>\n",
       "    <tr>\n",
       "      <th>25%</th>\n",
       "      <td>3.330000</td>\n",
       "      <td>12.000000</td>\n",
       "      <td>5.00000</td>\n",
       "      <td>0.000000</td>\n",
       "      <td>0.000000</td>\n",
       "      <td>0.000000</td>\n",
       "      <td>0.000000</td>\n",
       "      <td>0.000000</td>\n",
       "      <td>0.000000</td>\n",
       "      <td>0.000000</td>\n",
       "      <td>0.000000</td>\n",
       "      <td>0.000000</td>\n",
       "      <td>0.000000</td>\n",
       "      <td>0.000000</td>\n",
       "      <td>0.000000</td>\n",
       "      <td>0.000000</td>\n",
       "      <td>0.000000</td>\n",
       "      <td>0.000000</td>\n",
       "      <td>0.000000</td>\n",
       "      <td>0.000000</td>\n",
       "      <td>0.000000</td>\n",
       "      <td>1.202972</td>\n",
       "      <td>25.000000</td>\n",
       "      <td>0.000000</td>\n",
       "    </tr>\n",
       "    <tr>\n",
       "      <th>50%</th>\n",
       "      <td>4.650000</td>\n",
       "      <td>12.000000</td>\n",
       "      <td>13.50000</td>\n",
       "      <td>2.000000</td>\n",
       "      <td>0.000000</td>\n",
       "      <td>0.000000</td>\n",
       "      <td>1.000000</td>\n",
       "      <td>1.000000</td>\n",
       "      <td>1.000000</td>\n",
       "      <td>0.000000</td>\n",
       "      <td>0.000000</td>\n",
       "      <td>0.000000</td>\n",
       "      <td>0.000000</td>\n",
       "      <td>0.000000</td>\n",
       "      <td>0.000000</td>\n",
       "      <td>0.000000</td>\n",
       "      <td>0.000000</td>\n",
       "      <td>0.000000</td>\n",
       "      <td>0.000000</td>\n",
       "      <td>0.000000</td>\n",
       "      <td>0.000000</td>\n",
       "      <td>1.536867</td>\n",
       "      <td>182.500000</td>\n",
       "      <td>4.000000</td>\n",
       "    </tr>\n",
       "    <tr>\n",
       "      <th>75%</th>\n",
       "      <td>6.880000</td>\n",
       "      <td>14.000000</td>\n",
       "      <td>26.00000</td>\n",
       "      <td>7.000000</td>\n",
       "      <td>0.000000</td>\n",
       "      <td>1.000000</td>\n",
       "      <td>1.000000</td>\n",
       "      <td>2.000000</td>\n",
       "      <td>1.000000</td>\n",
       "      <td>0.750000</td>\n",
       "      <td>1.000000</td>\n",
       "      <td>0.000000</td>\n",
       "      <td>0.000000</td>\n",
       "      <td>0.000000</td>\n",
       "      <td>0.000000</td>\n",
       "      <td>1.000000</td>\n",
       "      <td>0.000000</td>\n",
       "      <td>1.000000</td>\n",
       "      <td>1.000000</td>\n",
       "      <td>0.000000</td>\n",
       "      <td>0.000000</td>\n",
       "      <td>1.928619</td>\n",
       "      <td>676.000000</td>\n",
       "      <td>49.000000</td>\n",
       "    </tr>\n",
       "    <tr>\n",
       "      <th>max</th>\n",
       "      <td>24.980000</td>\n",
       "      <td>18.000000</td>\n",
       "      <td>51.00000</td>\n",
       "      <td>44.000000</td>\n",
       "      <td>1.000000</td>\n",
       "      <td>1.000000</td>\n",
       "      <td>1.000000</td>\n",
       "      <td>6.000000</td>\n",
       "      <td>1.000000</td>\n",
       "      <td>1.000000</td>\n",
       "      <td>1.000000</td>\n",
       "      <td>1.000000</td>\n",
       "      <td>1.000000</td>\n",
       "      <td>1.000000</td>\n",
       "      <td>1.000000</td>\n",
       "      <td>1.000000</td>\n",
       "      <td>1.000000</td>\n",
       "      <td>1.000000</td>\n",
       "      <td>1.000000</td>\n",
       "      <td>1.000000</td>\n",
       "      <td>1.000000</td>\n",
       "      <td>3.218076</td>\n",
       "      <td>2601.000000</td>\n",
       "      <td>1936.000000</td>\n",
       "    </tr>\n",
       "  </tbody>\n",
       "</table>\n",
       "</div>"
      ],
      "text/plain": [
       "             wage        educ      exper      tenure    nonwhite      female  \\\n",
       "count  526.000000  526.000000  526.00000  526.000000  526.000000  526.000000   \n",
       "mean     5.896103   12.562738   17.01711    5.104563    0.102662    0.479087   \n",
       "std      3.693086    2.769022   13.57216    7.224462    0.303805    0.500038   \n",
       "min      0.530000    0.000000    1.00000    0.000000    0.000000    0.000000   \n",
       "25%      3.330000   12.000000    5.00000    0.000000    0.000000    0.000000   \n",
       "50%      4.650000   12.000000   13.50000    2.000000    0.000000    0.000000   \n",
       "75%      6.880000   14.000000   26.00000    7.000000    0.000000    1.000000   \n",
       "max     24.980000   18.000000   51.00000   44.000000    1.000000    1.000000   \n",
       "\n",
       "          married      numdep        smsa    northcen       south        west  \\\n",
       "count  526.000000  526.000000  526.000000  526.000000  526.000000  526.000000   \n",
       "mean     0.608365    1.043726    0.722433    0.250951    0.355513    0.169202   \n",
       "std      0.488580    1.261891    0.448225    0.433973    0.479124    0.375287   \n",
       "min      0.000000    0.000000    0.000000    0.000000    0.000000    0.000000   \n",
       "25%      0.000000    0.000000    0.000000    0.000000    0.000000    0.000000   \n",
       "50%      1.000000    1.000000    1.000000    0.000000    0.000000    0.000000   \n",
       "75%      1.000000    2.000000    1.000000    0.750000    1.000000    0.000000   \n",
       "max      1.000000    6.000000    1.000000    1.000000    1.000000    1.000000   \n",
       "\n",
       "         construc     ndurman    trcommpu       trade    services    profserv  \\\n",
       "count  526.000000  526.000000  526.000000  526.000000  526.000000  526.000000   \n",
       "mean     0.045627    0.114068    0.043726    0.287072    0.100760    0.258555   \n",
       "std      0.208874    0.318197    0.204680    0.452826    0.301298    0.438257   \n",
       "min      0.000000    0.000000    0.000000    0.000000    0.000000    0.000000   \n",
       "25%      0.000000    0.000000    0.000000    0.000000    0.000000    0.000000   \n",
       "50%      0.000000    0.000000    0.000000    0.000000    0.000000    0.000000   \n",
       "75%      0.000000    0.000000    0.000000    1.000000    0.000000    1.000000   \n",
       "max      1.000000    1.000000    1.000000    1.000000    1.000000    1.000000   \n",
       "\n",
       "          profocc     clerocc     servocc       lwage      expersq  \\\n",
       "count  526.000000  526.000000  526.000000  526.000000   526.000000   \n",
       "mean     0.366920    0.167300    0.140684    1.623268   473.435361   \n",
       "std      0.482423    0.373599    0.348027    0.531538   616.044772   \n",
       "min      0.000000    0.000000    0.000000   -0.634878     1.000000   \n",
       "25%      0.000000    0.000000    0.000000    1.202972    25.000000   \n",
       "50%      0.000000    0.000000    0.000000    1.536867   182.500000   \n",
       "75%      1.000000    0.000000    0.000000    1.928619   676.000000   \n",
       "max      1.000000    1.000000    1.000000    3.218076  2601.000000   \n",
       "\n",
       "           tenursq  \n",
       "count   526.000000  \n",
       "mean     78.150190  \n",
       "std     199.434664  \n",
       "min       0.000000  \n",
       "25%       0.000000  \n",
       "50%       4.000000  \n",
       "75%      49.000000  \n",
       "max    1936.000000  "
      ]
     },
     "execution_count": 29,
     "metadata": {},
     "output_type": "execute_result"
    }
   ],
   "source": [
    "import wooldridge as woo\n",
    "import statsmodels.formula.api as smf\n",
    "import scipy.stats as stats\n",
    "\n",
    "wage1 = woo.dataWoo('wage1')\n",
    "wage1.describe()"
   ]
  },
  {
   "cell_type": "code",
   "execution_count": 30,
   "metadata": {
    "slideshow": {
     "slide_type": "slide"
    }
   },
   "outputs": [
    {
     "name": "stdout",
     "output_type": "stream",
     "text": [
      "cv_t: [1.64777794 2.33351273]\n",
      "\n",
      "cv_n: [1.64485363 2.32634787]\n",
      "\n"
     ]
    }
   ],
   "source": [
    "import scipy.stats as stats\n",
    "import numpy as np\n",
    "\n",
    "# CV for alpha=5% and 1% using the t distribution with 522 d.f.:\n",
    "alpha = np.array([0.05, 0.01])\n",
    "cv_t = stats.t.ppf(1 - alpha, 522)\n",
    "print(f'cv_t: {cv_t}\\n')\n",
    "\n",
    "# CV for alpha=5% and 1% using the normal approximation:\n",
    "cv_n = stats.norm.ppf(1 - alpha)\n",
    "print(f'cv_n: {cv_n}\\n')"
   ]
  },
  {
   "cell_type": "markdown",
   "metadata": {
    "slideshow": {
     "slide_type": "slide"
    }
   },
   "source": [
    "- The below script presents the standard `summary` which directly contains all the information to test the hypotheses  $H_0:\\beta_j=0, H_1:\\beta_j\\neq 0$ for all parameters.\n",
    "- The _t<span>_ statistics for all coefficients are larger in absolute value than the critical value _c<span>_ = 2.33 for a = 1%.\n",
    "- So we would reject $H_0$ for all usual significance levels.\n",
    "- By construction, we draw the same conclusions from the _p<span>_ values values.\n",
    "In order to confirm that statsmodels is exactly using the formulas introduced above, we next reconstruct\n",
    "the _t<span>_ and _p<span>_ values manually.\n",
    "- We extract the coefficients (`params`) and standard errors (`bse`) from\n",
    "the regression results."
   ]
  },
  {
   "cell_type": "code",
   "execution_count": 31,
   "metadata": {
    "slideshow": {
     "slide_type": "slide"
    }
   },
   "outputs": [
    {
     "name": "stdout",
     "output_type": "stream",
     "text": [
      "results.summary(): \n",
      "                            OLS Regression Results                            \n",
      "==============================================================================\n",
      "Dep. Variable:           np.log(wage)   R-squared:                       0.316\n",
      "Model:                            OLS   Adj. R-squared:                  0.312\n",
      "Method:                 Least Squares   F-statistic:                     80.39\n",
      "Date:                Mon, 14 Sep 2020   Prob (F-statistic):           9.13e-43\n",
      "Time:                        16:49:06   Log-Likelihood:                -313.55\n",
      "No. Observations:                 526   AIC:                             635.1\n",
      "Df Residuals:                     522   BIC:                             652.2\n",
      "Df Model:                           3                                         \n",
      "Covariance Type:            nonrobust                                         \n",
      "==============================================================================\n",
      "                 coef    std err          t      P>|t|      [0.025      0.975]\n",
      "------------------------------------------------------------------------------\n",
      "Intercept      0.2844      0.104      2.729      0.007       0.080       0.489\n",
      "educ           0.0920      0.007     12.555      0.000       0.078       0.106\n",
      "exper          0.0041      0.002      2.391      0.017       0.001       0.008\n",
      "tenure         0.0221      0.003      7.133      0.000       0.016       0.028\n",
      "==============================================================================\n",
      "Omnibus:                       11.534   Durbin-Watson:                   1.769\n",
      "Prob(Omnibus):                  0.003   Jarque-Bera (JB):               20.941\n",
      "Skew:                           0.021   Prob(JB):                     2.84e-05\n",
      "Kurtosis:                       3.977   Cond. No.                         135.\n",
      "==============================================================================\n",
      "\n",
      "Warnings:\n",
      "[1] Standard Errors assume that the covariance matrix of the errors is correctly specified.\n",
      "\n",
      "tstat:\n",
      "Intercept     2.729230\n",
      "educ         12.555246\n",
      "exper         2.391437\n",
      "tenure        7.133070\n",
      "dtype: float64\n",
      "\n",
      "pval:\n",
      "[6.56246239e-03 8.82420368e-32 1.71356231e-02 3.29440824e-12]\n",
      "\n"
     ]
    }
   ],
   "source": [
    "#import wooldridge as woo\n",
    "#import statsmodels.formula.api as smf\n",
    "#import scipy.stats as stats\n",
    "\n",
    "wage1 = woo.dataWoo('wage1')\n",
    "\n",
    "\n",
    "#store and display results\n",
    "reg = smf.ols(formula='np.log(wage) ~ educ + exper + tenure', data=wage1)\n",
    "results = reg.fit()\n",
    "print(f'results.summary(): \\n{results.summary()}\\n')\n",
    "\n",
    "#manually confirm the formulas, i.e. extract coefficients and SE\n",
    "b=results.params\n",
    "se=results.bse\n",
    "\n",
    "#reproduce t statistics\n",
    "tstat=b/se\n",
    "print(f'tstat:\\n{tstat}\\n')\n",
    "\n",
    "#reproduce p-value\n",
    "pval=2 * stats.t.cdf(-abs(tstat),522)\n",
    "print(f'pval:\\n{pval}\\n')\n"
   ]
  },
  {
   "cell_type": "markdown",
   "metadata": {
    "slideshow": {
     "slide_type": "slide"
    }
   },
   "source": [
    "**Computing p-Values for t Tests**\n",
    "\n",
    "- So far, we have talked about how to test hypotheses using a classical approach: after stating the alternative hypothesis, we choose a significance level, which then determines a critical value.\n",
    "- Once the critical value has been identified, the value of the $t$ statistic is compared with the critical value, and the null is either rejected or not rejected at the given significance level.\n",
    "- Even after deciding on the appropriate alternative, there is a component of arbitrariness to the classical approach, which results from having to choose a significance level ahead of time.\n",
    "- Different researchers prefer different significance levels, depending on the particular application.\n",
    "- There is no \"correct\" significance level.\n",
    "- Committing to a significance level ahead of time can hide useful information about the outcome of a hypothesis test.\n",
    "\n"
   ]
  },
  {
   "cell_type": "markdown",
   "metadata": {
    "slideshow": {
     "slide_type": "slide"
    }
   },
   "source": [
    "**Computing p-Values for t Tests**\n",
    "\n",
    "\n",
    "- For example, suppose that we wish to test the null hypothesis that a parameter is zero against a two-sided alternative, and with 40 degrees of freedom we obtain a t statistic equal to 1.85.\n",
    "- The null hypothesis is not rejected at the 5% level, because the t statistic is less than the two-tailed critical value of c=2.021.\n",
    "- A researcher whose agenda is not to reject the null could simply report this outcome along with the estimate: the null hypothesis is not rejected at the 5% level.\n",
    "- Of course, if the t statistic, or the coefficient and its standard error, are reported, then we can also determine that the null hypothesis would be rejected at the 10% level, because the 10% critical value is c=1.684.\n"
   ]
  },
  {
   "cell_type": "markdown",
   "metadata": {
    "slideshow": {
     "slide_type": "slide"
    }
   },
   "source": [
    "**Computing p-Values for t Tests**\n",
    "\n",
    "\n",
    "\n",
    "- Rather than testing at different significance levels, it is more informative to answer the following question: given the observed value of the t statistic, what is the smallest significance level at which the null hypothesis would be rejected?\n",
    "- This level is known as the p-value for the test.\n",
    "- In the previous example, we know the p-value is greater than .05, because the null is not rejected at the 5% level, and we know that the p-value is less than .10, because the null is rejected at the 10% level.\n",
    "- We obtain the actual p-value by computing the probability that a t random variable, with 40 df, is larger than 1.85 in absolute value.\n",
    "- That is, the p-value is the significance level of the test when we use the value of the test statistic, 1.85 in the above example, as the critical value for the test."
   ]
  },
  {
   "cell_type": "markdown",
   "metadata": {
    "slideshow": {
     "slide_type": "slide"
    }
   },
   "source": [
    "**Obtaining the p-value against a two-sided alternative, when t=1.85 and df=40**\n",
    "\n",
    "<br>  \n",
    "\n",
    "\n",
    "<center><img src=\"figs/wool_4_6.png\" width=\"500\"/> \n",
    "    \n",
    "\n",
    "<p>"
   ]
  },
  {
   "cell_type": "markdown",
   "metadata": {
    "slideshow": {
     "slide_type": "slide"
    }
   },
   "source": [
    "**Computing p-Values for t Tests**\n",
    "\n",
    "- Because a p-value is a probability, its value is always between zero and one.\n",
    "- In order to compute p-values, we either need extremely detailed printed tables of the t distribution — which is not very practical —or a computer program that computes areas under the probability density function of the t distribution.\n",
    "- Most modern regression packages have this capability. Some packages compute p-values routinely with each OLS regression, but only for certain hypotheses.\n",
    "- If a regression package reports a p-value along with the standard OLS output, it is almost certainly the p-value for testing the null hypothesis $H_0: \\beta_j=0$ against the two-sided alternative.\n",
    "- The p-value in this case is\n",
    "\n",
    "\n",
    "\\begin{equation*}\n",
    "P(|T|>|t|),\n",
    "\\end{equation*}\n",
    "\n",
    "where we let T denote a t distributed random variable with $n-k-1$ degrees of freedom and let t denote the numerical value of the test statistic."
   ]
  },
  {
   "cell_type": "markdown",
   "metadata": {
    "slideshow": {
     "slide_type": "slide"
    }
   },
   "source": [
    "**Confidence Interval**\n",
    "\n",
    "- We can now also easily construct a **confidence interval (CI)** for the population parameter $\\beta_j$.\n",
    "- Confidence intervals are also called _interval estimates_ because they provide a range of likely values for the population parameter, and not just a point estimate.\n",
    "- using the fact that $(\\hat{\\beta}_j-\\hat{\\beta}_j/se(\\hat{\\beta}_j)$ has a t distribution with n-k-1 degrees of freedom, simple manipulation lead to a CI for the unknown $\\beta_j$: a 95% CI, given by \n",
    "\n",
    "\\begin{equation*}\n",
    "\\hat{\\beta}_j\\pm c\\cdot se(\\beta_j),\n",
    "\\end{equation*}\n",
    "\n",
    "where the constant c is the 97.5th percentile in a $t_{n-k-1}$ distribution. More precisely, the lower and upper bounds of the confidence interval are given by\n",
    "\n",
    "\\begin{equation*}\n",
    "\\beta_j^{lower}\\equiv \\hat{\\beta}_j- c\\cdot se(\\hat{\\beta}_j),\n",
    "\\end{equation*}\n",
    "\n",
    "and\n",
    "\n",
    "\\begin{equation*}\n",
    "\\beta_j^{upper}\\equiv \\hat{\\beta}_j + c\\cdot se(\\hat{\\beta}_j)\n",
    "\\end{equation*}\n",
    "\n",
    "- Thus: If random samples were obtained over and over again, with $\\beta_j^{lower}$ and $\\beta_j^{upper}$ computed each time, then the (unknown) population value $\\beta_j$ would lie in the interval $(\\beta_j^{lower}, \\beta_j^{upper})$ for 95% of the samples."
   ]
  },
  {
   "cell_type": "markdown",
   "metadata": {
    "slideshow": {
     "slide_type": "slide"
    }
   },
   "source": [
    "<h3>More on Functional Forms</h3>\n",
    "\n",
    "- In several previous examples, we have encountered the most popular device in econometrics for allowing nonlinear relationships between the explained and explanatory variables: using logarithms for the dependent or independent variables.\n",
    "- We have also seen models containing quadratics in some explanatory variables, but we have yet to provide a systematic treatment of them.\n",
    "- We will now cover some variations and extensions on functional forms that often arise in applied work.\n"
   ]
  },
  {
   "cell_type": "markdown",
   "metadata": {
    "slideshow": {
     "slide_type": "slide"
    }
   },
   "source": [
    "**More on Using Logarithmic Functional Forms**\n",
    "\n",
    "- We begin by reviewing how to interpret the parameters in the model\n",
    "- Let's use the example of average housing prices in 506 communities in Boston and various charactarestics\n",
    "\n",
    "\\begin{equation*}\n",
    "log(price)=\\beta_0+\\beta_1log(nox)+\\beta_2rooms+u\n",
    "\\end{equation*}\n",
    "\n",
    "where $nox$ is the amount of nitrogen oxide in the air and $rooms$ is the averge number of rooms in the community.\n",
    "\n",
    "- Let's run the above regression:"
   ]
  },
  {
   "cell_type": "code",
   "execution_count": 181,
   "metadata": {
    "slideshow": {
     "slide_type": "slide"
    }
   },
   "outputs": [
    {
     "name": "stdout",
     "output_type": "stream",
     "text": [
      "results.summary(): \n",
      "                            OLS Regression Results                            \n",
      "==============================================================================\n",
      "Dep. Variable:          np.log(price)   R-squared:                       0.514\n",
      "Model:                            OLS   Adj. R-squared:                  0.512\n",
      "Method:                 Least Squares   F-statistic:                     265.7\n",
      "Date:                Wed, 16 Sep 2020   Prob (F-statistic):           1.79e-79\n",
      "Time:                        10:03:28   Log-Likelihood:                -83.009\n",
      "No. Observations:                 506   AIC:                             172.0\n",
      "Df Residuals:                     503   BIC:                             184.7\n",
      "Df Model:                           2                                         \n",
      "Covariance Type:            nonrobust                                         \n",
      "===============================================================================\n",
      "                  coef    std err          t      P>|t|      [0.025      0.975]\n",
      "-------------------------------------------------------------------------------\n",
      "Intercept       9.2337      0.188     49.184      0.000       8.865       9.603\n",
      "np.log(nox)    -0.7177      0.066    -10.818      0.000      -0.848      -0.587\n",
      "rooms           0.3059      0.019     16.086      0.000       0.269       0.343\n",
      "==============================================================================\n",
      "Omnibus:                       52.327   Durbin-Watson:                   0.603\n",
      "Prob(Omnibus):                  0.000   Jarque-Bera (JB):              327.013\n",
      "Skew:                           0.042   Prob(JB):                     9.77e-72\n",
      "Kurtosis:                       6.937   Cond. No.                         102.\n",
      "==============================================================================\n",
      "\n",
      "Warnings:\n",
      "[1] Standard Errors assume that the covariance matrix of the errors is correctly specified.\n",
      "\n",
      "table: \n",
      "                  b      se        t  pval\n",
      "Intercept    9.2337  0.1877  49.1835   0.0\n",
      "np.log(nox) -0.7177  0.0663 -10.8182   0.0\n",
      "rooms        0.3059  0.0190  16.0863   0.0\n",
      "\n"
     ]
    }
   ],
   "source": []
  },
  {
   "cell_type": "markdown",
   "metadata": {
    "slideshow": {
     "slide_type": "slide"
    }
   },
   "source": [
    "How do we have to interpret the coefficients?"
   ]
  },
  {
   "cell_type": "markdown",
   "metadata": {
    "slideshow": {
     "slide_type": "slide"
    }
   },
   "source": [
    "- Remember: \n",
    "  - The coefficient $\\beta_1$ is the elasticity of $price$ with respect to $nox$ (pollution).\n",
    "  - The coefficient $\\beta_2$ is the change in $log(price)$, when $\\Delta rooms=1$; as we have seen many times, when multiplied by 100, this is the approximate percentage change in price.\n",
    "  - Recall that 100$\\cdot \\beta_1$ is sometimes called the semi-elasticity of $price$ with respect to $rooms$."
   ]
  },
  {
   "cell_type": "markdown",
   "metadata": {
    "slideshow": {
     "slide_type": "slide"
    }
   },
   "source": [
    "- Thus, when $nox$ increases by 1%, price falls by .718%, holding only rooms fixed.\n",
    "- When rooms increases by one, price increases by approximately 100*(0.306)=30.6%.\n",
    "- The estimate that one more room increases price by about 30.6% turns out to be somewhat inaccurate for this application.\n",
    "- The approximation error occurs because, as the change in $log(y)$ becomes larger and larger, the approximation $\\%\\Delta y \\approx 100\\cdot\\Delta log(y)$ becomes more and more inaccurate.\n",
    "\n",
    "\n"
   ]
  },
  {
   "cell_type": "markdown",
   "metadata": {
    "slideshow": {
     "slide_type": "slide"
    }
   },
   "source": [
    "- Fortunately, a simple calculation is available to compute the exact percentage change:\n",
    "    \n",
    "\\begin{equation*}\n",
    "\\hat{log(y)}=\\hat{\\beta}_0log(x_1)+\\hat{\\beta}_2x_2\n",
    "\\end{equation*}\n",
    "\n",
    "- Using simple algebraic properties of the exponential and logarithmic functions gives the exact percentage change in the predicted $y$ as\n",
    "\n",
    "\\begin{equation*}\n",
    "\\%\\Delta\\hat{y}=100\\cdot[exp(\\hat{\\beta}_2\\Delta x_2)-1]\n",
    "\\end{equation*}\n",
    "\n",
    "where the multiplication by 100 turns the proportionate change into a percentage change. When $\\Delta x_2=1$,\n",
    "\n",
    "\\begin{equation*}\n",
    "\\%\\Delta\\hat{y}=100\\cdot[exp(\\hat{\\beta}_2)-1]\n",
    "\\end{equation*}\n",
    "\n",
    "which in our case of $\\hat\\beta_2=0.306$ yields $\\%\\Delta\\hat{price}=35.8\\%$"
   ]
  },
  {
   "cell_type": "markdown",
   "metadata": {
    "slideshow": {
     "slide_type": "slide"
    }
   },
   "source": [
    "Ok, so we now know that a $\\beta_2$ of 0.306 means, that if if $x_2$ increases by one room, $\\hat{y}$ increases by 36\\%.\n",
    "\n",
    "But: what happens if $x_2$ decreases by one unit?"
   ]
  },
  {
   "cell_type": "markdown",
   "metadata": {
    "slideshow": {
     "slide_type": "slide"
    }
   },
   "source": [
    "- For a decrease of room by one the effect is different with -26.4%!\n",
    "\n",
    "- Thus: the estimated parameter is also useful as it is in between the effect of an increase and a decrease!\n",
    "\n",
    "- The point just made about computing percentage changes is essentially the one made in introductory economics when it comes to computing price elasticities of demand based on large price changes: \n",
    "    - the result depends on whether we use the beginning or ending price and quantity in computing the percentage changes.\n",
    "\n",
    "- Another potential benefit of using logs is that taking the log of a variable often narrows its range. \n",
    "- This is particularly true of variables that can be large monetary values, such as firms’ annual sales or baseball players' salaries.\n",
    "- Population variables also tend to vary widely.\n",
    "- Narrowing the range of the dependent and independent variables can make OLS estimates less sensitive to outlying (or extreme) values."
   ]
  },
  {
   "cell_type": "code",
   "execution_count": 59,
   "metadata": {
    "slideshow": {
     "slide_type": "slide"
    }
   },
   "outputs": [
    {
     "data": {
      "text/plain": [
       "Text(0.5, 0, 'roe')"
      ]
     },
     "execution_count": 59,
     "metadata": {},
     "output_type": "execute_result"
    },
    {
     "data": {
      "image/png": "[encoded data removed]",
      "text/plain": [
       "<Figure size 576x396 with 1 Axes>"
      ]
     },
     "metadata": {},
     "output_type": "display_data"
    }
   ],
   "source": [
    "#comparing level-level and log-level estimates before and after dropping some outliers\n",
    "\n",
    "import statsmodels.formula.api as smf\n",
    "import matplotlib.pyplot as plt\n",
    "\n",
    "ceosal1 = woo.dataWoo('ceosal1')\n",
    "\n",
    "# OLS regression:\n",
    "reg = smf.ols(formula='salary ~ roe', data=ceosal1)\n",
    "results = reg.fit()\n",
    "\n",
    "# scatter plot and fitted values:\n",
    "plt.plot('roe', 'salary', data=ceosal1, color='grey', marker='o', linestyle='')\n",
    "plt.plot(ceosal1['roe'], results.fittedvalues, color='black', linestyle='-')\n",
    "plt.ylabel('salary')\n",
    "plt.xlabel('roe')\n",
    "\n",
    "# we see that salary has a few outliers. "
   ]
  },
  {
   "cell_type": "code",
   "execution_count": 56,
   "metadata": {
    "slideshow": {
     "slide_type": "slide"
    }
   },
   "outputs": [
    {
     "name": "stdout",
     "output_type": "stream",
     "text": [
      "\n",
      "=====================================================================================================\n",
      "          salary outlier salary without outlier  log(salary) with outlier log(salary) without outlier\n",
      "               (0)                 (1)                     (2)                        (3)            \n",
      "-----------------------------------------------------------------------------------------------------\n",
      "Intercept 963.191***     878.161***              6.712***                 6.685***                   \n",
      "          (213.240)      (93.715)                (0.087)                  (0.076)                    \n",
      "roe       18.501*        15.303***               0.014***                 0.014***                   \n",
      "          (11.123)       (4.885)                 (0.005)                  (0.004)                    \n",
      "N         209            206                     209                      206                        \n",
      "R2        0.01           0.05                    0.04                     0.05                       \n",
      "=====================================================================================================\n",
      "Standard errors in parentheses.\n",
      "* p<.1, ** p<.05, ***p<.01\n"
     ]
    }
   ],
   "source": [
    "import wooldridge as woo\n",
    "import statsmodels.formula.api as smf\n",
    "import numpy as np\n",
    "\n",
    "\n",
    "df1 = woo.dataWoo('ceosal1')\n",
    "\n",
    "#generate dataframe without outliers for salary\n",
    "df2 = df1[df1.salary<6000]\n",
    "\n",
    "formula = \"salary ~ roe\"\n",
    "reg1 = smf.ols(formula, data=df1).fit()\n",
    "formula = \"salary ~ roe\"\n",
    "reg2 = smf.ols(formula, data=df2).fit()\n",
    "\n",
    "formula = \"np.log(salary) ~ roe\"\n",
    "reg3 = smf.ols(formula, data=df1).fit()\n",
    "formula = \"np.log(salary) ~ roe\"\n",
    "reg4 = smf.ols(formula, data=df2).fit()\n",
    "\n",
    "dfoutput = summary_col([reg1,reg2,reg3,reg4],stars=True,float_format='%0.3f',\n",
    "                  model_names=['salary outlier\\n(0)','salary without outlier \\n(1)','log(salary) with outlier\\n(2)','log(salary) without outlier\\n(3)'],\n",
    "                  info_dict={'N':lambda x: \"{0:d}\".format(int(x.nobs)),\n",
    "                             'R2':lambda x: \"{:.2f}\".format(x.rsquared)})\n",
    "print(dfoutput)"
   ]
  },
  {
   "cell_type": "markdown",
   "metadata": {
    "slideshow": {
     "slide_type": "slide"
    }
   },
   "source": [
    "**More on Using Logarithmic Functional Forms**\n",
    "\n",
    "- One limitation of the log is that it cannot be used if a variable takes on zero or negative values.\n",
    "- In cases where a variable $y$ is nonnegative but can take on the value 0, $log(y+1)$ is sometimes used.\n",
    "- The percentage change interpretations are often closely preserved, except for changes beginning at $y=0$ (where the percentage change is not even defined).\n",
    "- Generally, using $log(y+1)$ and then interpreting the estimates as if the variable were $log(y)$ is acceptable when the data on $y$ contain relatively few zeros.\n",
    "- Also, in some cases taking logs can actually create extreme values:\n",
    "    - An example is when a variable $y$ is between zero and one (such as a proportion) and takes on values close to zero.\n",
    "    - In this case, $log(y)$ (which is necessarily negative) can be very large in magnitude whereas the original variable, $y$, is bounded between zero and one.\n",
    "- Also: You should not compare the $R^2$ of level and log estimations because you would compare variation in different variables!"
   ]
  },
  {
   "cell_type": "markdown",
   "metadata": {
    "slideshow": {
     "slide_type": "slide"
    }
   },
   "source": [
    "**Models with Quadratics**\n",
    "\n",
    "Also used quite often in applied economics:\n",
    "- quadratic function\n",
    "- allows to capture decreasing or increasing marginal effects.\n",
    "    \n",
    "    \n",
    "Simple case: $y$ depends on a single observed factor $x$, but it does so in a quadratic fashion:\n",
    "\n",
    "\\begin{equation*}\n",
    "y=\\beta_0+\\beta_1x+\\beta_2x^2+u\n",
    "\\end{equation*}\n",
    "\n",
    "\n",
    "- For example, take $y=wage$ and $x=exper$. \n",
    "- If we write the estimated equation as\n",
    "\n",
    "\\begin{equation*}\n",
    "\\hat{y} =\\hat{\\beta}_0+\\hat{\\beta}_1x + \\hat{\\beta}_2x^2\n",
    "\\end{equation*}\n",
    "\n",
    "then we have the approximation\n",
    "\n",
    "\\begin{equation*}\n",
    "\\Delta\\hat{y} \\approx (\\hat{\\beta}_1+2\\hat{\\beta}_2x)\\Delta x\n",
    "\\end{equation*}\n",
    "\n",
    "so\n",
    "\n",
    "\\begin{equation*}\n",
    "\\Delta \\hat{y}/\\Delta x \\approx\\hat{\\beta}_1+2\\hat{\\beta}_2x\n",
    "\\end{equation*}\n",
    "\n"
   ]
  },
  {
   "cell_type": "markdown",
   "metadata": {
    "slideshow": {
     "slide_type": "slide"
    }
   },
   "source": [
    "**Models with Quadratics**\n",
    "\n",
    "This says:\n",
    "\n",
    "- the slope of the relationship between $x$ and $y$ depends on the value of $x$;\n",
    "\n",
    "The estimated slope is $\\hat{\\beta}_1+2\\hat{\\beta}_2x$\n",
    "- If we plug in $x=0$, we see that $\\hat{\\beta}_1$ can be interpreted as the approximate slope in going from $x=0$ to $x=1$\n",
    "- After that, the second term $2\\hat{\\beta}_2x$ must be accounted for.\n",
    "- If we are only interested in computing the predicted change in $y$ given a starting value for $x$ and a change in $x$, we could use $\\hat{y} =\\hat{\\beta}_0+\\hat{\\beta}_1x + \\hat{\\beta}_2x^2$ directly: there is no reason to use the calculus approximation at all.\n",
    "- However, we are usually more interested in quickly summarizing the effect of $x$ on $y$, and the interpretation of $\\hat{\\beta}_1$ and $\\hat{\\beta}_2$ in $\\Delta \\hat{y}/\\Delta x \\approx\\hat{\\beta}_1+2\\hat{\\beta}_2x$ provides that summary.\n",
    "- Typically, we might plug in the average value of $x$ in the sample, or some other interesting values, such as the median or the lower and upper quartile values.\n",
    "- In many applications, $\\hat{\\beta}_1$ is positive and $\\hat{\\beta}_2$ is negative.\n",
    "- Let's check the $wage$ example for this."
   ]
  },
  {
   "cell_type": "markdown",
   "metadata": {
    "slideshow": {
     "slide_type": "slide"
    }
   },
   "source": [
    "- In _Python_ you can either generate the quadratic variable separately, e.g. `x_sq=x ** 2`\n",
    "- Or just use `I(x ** 2)` directly in the formula.\n",
    "- The `I(...)` brackets describe any parts of the formula in which we describe arithmetic transformations\n",
    "- The latter version is useful to get a graphical illustration of the effect."
   ]
  },
  {
   "cell_type": "code",
   "execution_count": 11,
   "metadata": {
    "slideshow": {
     "slide_type": "slide"
    }
   },
   "outputs": [
    {
     "data": {
      "text/html": [
       "<div>\n",
       "<style scoped>\n",
       "    .dataframe tbody tr th:only-of-type {\n",
       "        vertical-align: middle;\n",
       "    }\n",
       "\n",
       "    .dataframe tbody tr th {\n",
       "        vertical-align: top;\n",
       "    }\n",
       "\n",
       "    .dataframe thead th {\n",
       "        text-align: right;\n",
       "    }\n",
       "</style>\n",
       "<table border=\"1\" class=\"dataframe\">\n",
       "  <thead>\n",
       "    <tr style=\"text-align: right;\">\n",
       "      <th></th>\n",
       "      <th>wage</th>\n",
       "      <th>educ</th>\n",
       "      <th>exper</th>\n",
       "      <th>tenure</th>\n",
       "      <th>nonwhite</th>\n",
       "      <th>female</th>\n",
       "      <th>married</th>\n",
       "      <th>numdep</th>\n",
       "      <th>smsa</th>\n",
       "      <th>northcen</th>\n",
       "      <th>...</th>\n",
       "      <th>trade</th>\n",
       "      <th>services</th>\n",
       "      <th>profserv</th>\n",
       "      <th>profocc</th>\n",
       "      <th>clerocc</th>\n",
       "      <th>servocc</th>\n",
       "      <th>lwage</th>\n",
       "      <th>expersq</th>\n",
       "      <th>tenursq</th>\n",
       "      <th>exper_sq</th>\n",
       "    </tr>\n",
       "  </thead>\n",
       "  <tbody>\n",
       "    <tr>\n",
       "      <th>0</th>\n",
       "      <td>3.10</td>\n",
       "      <td>11</td>\n",
       "      <td>2</td>\n",
       "      <td>0</td>\n",
       "      <td>0</td>\n",
       "      <td>1</td>\n",
       "      <td>0</td>\n",
       "      <td>2</td>\n",
       "      <td>1</td>\n",
       "      <td>0</td>\n",
       "      <td>...</td>\n",
       "      <td>0</td>\n",
       "      <td>0</td>\n",
       "      <td>0</td>\n",
       "      <td>0</td>\n",
       "      <td>0</td>\n",
       "      <td>0</td>\n",
       "      <td>1.131402</td>\n",
       "      <td>4</td>\n",
       "      <td>0</td>\n",
       "      <td>4</td>\n",
       "    </tr>\n",
       "    <tr>\n",
       "      <th>1</th>\n",
       "      <td>3.24</td>\n",
       "      <td>12</td>\n",
       "      <td>22</td>\n",
       "      <td>2</td>\n",
       "      <td>0</td>\n",
       "      <td>1</td>\n",
       "      <td>1</td>\n",
       "      <td>3</td>\n",
       "      <td>1</td>\n",
       "      <td>0</td>\n",
       "      <td>...</td>\n",
       "      <td>0</td>\n",
       "      <td>1</td>\n",
       "      <td>0</td>\n",
       "      <td>0</td>\n",
       "      <td>0</td>\n",
       "      <td>1</td>\n",
       "      <td>1.175573</td>\n",
       "      <td>484</td>\n",
       "      <td>4</td>\n",
       "      <td>484</td>\n",
       "    </tr>\n",
       "    <tr>\n",
       "      <th>2</th>\n",
       "      <td>3.00</td>\n",
       "      <td>11</td>\n",
       "      <td>2</td>\n",
       "      <td>0</td>\n",
       "      <td>0</td>\n",
       "      <td>0</td>\n",
       "      <td>0</td>\n",
       "      <td>2</td>\n",
       "      <td>0</td>\n",
       "      <td>0</td>\n",
       "      <td>...</td>\n",
       "      <td>1</td>\n",
       "      <td>0</td>\n",
       "      <td>0</td>\n",
       "      <td>0</td>\n",
       "      <td>0</td>\n",
       "      <td>0</td>\n",
       "      <td>1.098612</td>\n",
       "      <td>4</td>\n",
       "      <td>0</td>\n",
       "      <td>4</td>\n",
       "    </tr>\n",
       "    <tr>\n",
       "      <th>3</th>\n",
       "      <td>6.00</td>\n",
       "      <td>8</td>\n",
       "      <td>44</td>\n",
       "      <td>28</td>\n",
       "      <td>0</td>\n",
       "      <td>0</td>\n",
       "      <td>1</td>\n",
       "      <td>0</td>\n",
       "      <td>1</td>\n",
       "      <td>0</td>\n",
       "      <td>...</td>\n",
       "      <td>0</td>\n",
       "      <td>0</td>\n",
       "      <td>0</td>\n",
       "      <td>0</td>\n",
       "      <td>1</td>\n",
       "      <td>0</td>\n",
       "      <td>1.791759</td>\n",
       "      <td>1936</td>\n",
       "      <td>784</td>\n",
       "      <td>1936</td>\n",
       "    </tr>\n",
       "    <tr>\n",
       "      <th>4</th>\n",
       "      <td>5.30</td>\n",
       "      <td>12</td>\n",
       "      <td>7</td>\n",
       "      <td>2</td>\n",
       "      <td>0</td>\n",
       "      <td>0</td>\n",
       "      <td>1</td>\n",
       "      <td>1</td>\n",
       "      <td>0</td>\n",
       "      <td>0</td>\n",
       "      <td>...</td>\n",
       "      <td>0</td>\n",
       "      <td>0</td>\n",
       "      <td>0</td>\n",
       "      <td>0</td>\n",
       "      <td>0</td>\n",
       "      <td>0</td>\n",
       "      <td>1.667707</td>\n",
       "      <td>49</td>\n",
       "      <td>4</td>\n",
       "      <td>49</td>\n",
       "    </tr>\n",
       "  </tbody>\n",
       "</table>\n",
       "<p>5 rows × 25 columns</p>\n",
       "</div>"
      ],
      "text/plain": [
       "   wage  educ  exper  tenure  nonwhite  female  married  numdep  smsa  \\\n",
       "0  3.10    11      2       0         0       1        0       2     1   \n",
       "1  3.24    12     22       2         0       1        1       3     1   \n",
       "2  3.00    11      2       0         0       0        0       2     0   \n",
       "3  6.00     8     44      28         0       0        1       0     1   \n",
       "4  5.30    12      7       2         0       0        1       1     0   \n",
       "\n",
       "   northcen    ...     trade  services  profserv  profocc  clerocc  servocc  \\\n",
       "0         0    ...         0         0         0        0        0        0   \n",
       "1         0    ...         0         1         0        0        0        1   \n",
       "2         0    ...         1         0         0        0        0        0   \n",
       "3         0    ...         0         0         0        0        1        0   \n",
       "4         0    ...         0         0         0        0        0        0   \n",
       "\n",
       "      lwage  expersq  tenursq  exper_sq  \n",
       "0  1.131402        4        0         4  \n",
       "1  1.175573      484        4       484  \n",
       "2  1.098612        4        0         4  \n",
       "3  1.791759     1936      784      1936  \n",
       "4  1.667707       49        4        49  \n",
       "\n",
       "[5 rows x 25 columns]"
      ]
     },
     "execution_count": 11,
     "metadata": {},
     "output_type": "execute_result"
    }
   ],
   "source": [
    "import wooldridge as woo\n",
    "import numpy as np\n",
    "import pandas as pd\n",
    "import statsmodels.formula.api as smf\n",
    "\n",
    "wage1 = woo.dataWoo('wage1')\n",
    "\n",
    "wage1['exper_sq']=wage1['exper'] ** 2\n",
    "\n",
    "wage1.head()"
   ]
  },
  {
   "cell_type": "code",
   "execution_count": 90,
   "metadata": {
    "slideshow": {
     "slide_type": "slide"
    }
   },
   "outputs": [
    {
     "name": "stdout",
     "output_type": "stream",
     "text": [
      "results.summary(): \n",
      "                            OLS Regression Results                            \n",
      "==============================================================================\n",
      "Dep. Variable:                   wage   R-squared:                       0.093\n",
      "Model:                            OLS   Adj. R-squared:                  0.089\n",
      "Method:                 Least Squares   F-statistic:                     26.74\n",
      "Date:                Tue, 14 Sep 2021   Prob (F-statistic):           8.77e-12\n",
      "Time:                        22:07:38   Log-Likelihood:                -1407.5\n",
      "No. Observations:                 526   AIC:                             2821.\n",
      "Df Residuals:                     523   BIC:                             2834.\n",
      "Df Model:                           2                                         \n",
      "Covariance Type:            nonrobust                                         \n",
      "=================================================================================\n",
      "                    coef    std err          t      P>|t|      [0.025      0.975]\n",
      "---------------------------------------------------------------------------------\n",
      "Intercept         3.7254      0.346     10.769      0.000       3.046       4.405\n",
      "exper             0.2981      0.041      7.277      0.000       0.218       0.379\n",
      "I(exper ** 2)    -0.0061      0.001     -6.792      0.000      -0.008      -0.004\n",
      "==============================================================================\n",
      "Omnibus:                      203.746   Durbin-Watson:                   1.802\n",
      "Prob(Omnibus):                  0.000   Jarque-Bera (JB):              721.819\n",
      "Skew:                           1.806   Prob(JB):                    1.82e-157\n",
      "Kurtosis:                       7.460   Cond. No.                     1.76e+03\n",
      "==============================================================================\n",
      "\n",
      "Warnings:\n",
      "[1] Standard Errors assume that the covariance matrix of the errors is correctly specified.\n",
      "[2] The condition number is large, 1.76e+03. This might indicate that there are\n",
      "strong multicollinearity or other numerical problems.\n",
      "\n",
      "coef:\n",
      "Intercept        3.725406\n",
      "exper            0.298100\n",
      "I(exper ** 2)   -0.006130\n",
      "dtype: float64\n",
      "\n",
      "se:\n",
      "Intercept        0.345939\n",
      "exper            0.040966\n",
      "I(exper ** 2)    0.000903\n",
      "dtype: float64\n",
      "\n",
      "tstat:\n",
      "Intercept        10.768961\n",
      "exper             7.276850\n",
      "I(exper ** 2)    -6.791991\n",
      "dtype: float64\n",
      "\n",
      "pval:\n",
      "[1.47404846e-24 1.26182496e-12 3.02079086e-11]\n",
      "\n"
     ]
    }
   ],
   "source": [
    "import wooldridge as woo\n",
    "import statsmodels.formula.api as smf\n",
    "import scipy.stats as stats\n",
    "\n",
    "wage1 = woo.dataWoo('wage1')\n",
    "\n",
    "\n",
    "#store and display results\n",
    "reg = smf.ols(formula='wage ~ exper + I(exper ** 2)', data=wage1)\n",
    "results = reg.fit()\n",
    "print(f'results.summary(): \\n{results.summary()}\\n')\n",
    "\n",
    "#manually confirm the formulas, i.e. extract coefficients and SE\n",
    "b=results.params\n",
    "se=results.bse\n",
    "\n",
    "print(f'coef:\\n{b}\\n')\n",
    "print(f'se:\\n{se}\\n')\n",
    "\n",
    "#reproduce t statistics\n",
    "tstat=b/se\n",
    "print(f'tstat:\\n{tstat}\\n')\n",
    "\n",
    "#reproduce p-value\n",
    "pval=2 * stats.t.cdf(-abs(tstat),522)\n",
    "print(f'pval:\\n{pval}\\n')\n"
   ]
  },
  {
   "cell_type": "code",
   "execution_count": 12,
   "metadata": {
    "slideshow": {
     "slide_type": "slide"
    }
   },
   "outputs": [
    {
     "data": {
      "text/plain": [
       "[<matplotlib.lines.Line2D at 0x1a3c5e65b00>]"
      ]
     },
     "execution_count": 12,
     "metadata": {},
     "output_type": "execute_result"
    },
    {
     "data": {
      "image/png": "[encoded data removed]",
      "text/plain": [
       "<Figure size 432x288 with 1 Axes>"
      ]
     },
     "metadata": {
      "needs_background": "light"
     },
     "output_type": "display_data"
    }
   ],
   "source": [
    "import matplotlib.pyplot as plt\n",
    "import numpy as np\n",
    "\n",
    "plt.scatter(wage1.exper, wage1.wage, alpha=0.3)\n",
    "plt.xlabel('Experience')\n",
    "plt.ylabel('Wage')\n",
    "exper_linspace = np.linspace(wage1.exper.min(), wage1.exper.max(), 20)\n",
    "exper_linspace_sq=exper_linspace**2\n",
    "est = smf.ols(formula='wage ~ exper + I(exper**2)', data=wage1).fit()\n",
    "plt.plot(exper_linspace, est.params[0] + est.params[1] * exper_linspace + est.params[2] *exper_linspace_sq , 'r')\n",
    "\n"
   ]
  },
  {
   "cell_type": "markdown",
   "metadata": {
    "slideshow": {
     "slide_type": "slide"
    }
   },
   "source": [
    "**Models with Quadratics**\n",
    "\n",
    "- This estimated equation implies that $exper$ has a diminishing effect on wage:\n",
    "    - The first year of experience is worth roughly $30 cent$ per hour (0.298)\n",
    "    - The second year of experience is worth less(about 0.298-2(0.0061)(1)=0.286, or 28.6 cent)\n",
    "    - In going from 10 to 11 years of experience, wage is predicted to increase by about 0.298-2(0.0061)(10)= 0.176\n",
    "    - ....and so on.\n",
    "    \n",
    "    \n",
    "- When the coefficient on $x$ is positive and the coefficient on $x^2$ is negative, the quadratic has a parabolic shape, often called _inverted U-shape_.\n",
    "\n",
    "\n",
    "- There is always a positive value of $x$ where the effect of $x$ on $y$ is zero:\n",
    "    - before this point, $x$ has a positive effect on $y$\n",
    "    - after this point, $x$ has a negative effect on $y$.\n",
    "    \n",
    "    \n",
    "- In practice, it can be important to know where this turning point is.\n",
    "- In the estimated equation with $\\hat{\\beta}_1>0$ and $\\hat{\\beta}_2<0$, the turning point (or maximum of the function) is always achieved at the coefficient on $x$ over _twice_ the absolute value of the coefficient on $x^2$:\n",
    "\n",
    "\\begin{equation*}\n",
    "x^*=|\\hat{\\beta}_1/2\\hat{\\beta}_2)|\n",
    "\\end{equation*}\n",
    "\n",
    " "
   ]
  },
  {
   "cell_type": "markdown",
   "metadata": {
    "slideshow": {
     "slide_type": "slide"
    }
   },
   "source": [
    "**Quadratic relationship between wage and exper**\n",
    "\n",
    "<br>  \n",
    "\n",
    "\n",
    "<center><img src=\"figs/wool_6_1.png\" width=\"500\"/> \n",
    "    \n",
    "\n",
    "<p>"
   ]
  },
  {
   "cell_type": "markdown",
   "metadata": {
    "slideshow": {
     "slide_type": "slide"
    }
   },
   "source": [
    "**Models with Quadratics**\n",
    "\n",
    "- In the wage example, $x^*=exper^*$  is $0.298/[2(0.0061)]\\approx 24.4$\n",
    "- The return to experience becomes zero at about 24.4 years: What should we make of this?\n",
    "- There are at least three possible explanations.\n",
    "    - First, it may be that few people in the sample have more than 24 years of experience, and so the part of the curve to the right of 24 can be ignored.\n",
    "    - The cost of using a quadratic to capture diminishing effects is that the quadratic must eventually turn around.\n",
    "    - If this point is beyond all but a small percentage of the people in the sample, then this is not of much concern.\n",
    "    - But in the data set WAGE1, about 28% of the people in the sample have more than 24 years of experience; this is too high a percentage to ignore.\n",
    "- It is possible that the return to exper really becomes negative at some point, but it is hard to believe that this happens at 24 years of experience.\n",
    "- A more likely possibility is that the estimated effect of exper on wage is biased because we have controlled for no other factors, or because the functional relationship between wage and exper in equation is not entirely correct. \n",
    "- When a model has a dependent variable in logarithmic form and an explanatory variable entering as a quadratic, some care is needed in reporting the partial effects.\n",
    "- The following example also shows that the quadratic can have a U-shape, rather than a parabolic shape (inverted U-shape). "
   ]
  },
  {
   "cell_type": "markdown",
   "metadata": {
    "slideshow": {
     "slide_type": "slide"
    }
   },
   "source": [
    "**Example: Effects of Pollution on Housing Prices**\n",
    "\n",
    "<blockquote> Let's modify the housing price example to include a quadratic term in _rooms_:\n",
    "    \n",
    "<br>\n",
    "\n",
    "\\begin{equation*}\n",
    "log(price)=\\beta_0+\\beta_1log(nox)+\\beta_2log(dist)+\\beta_3rooms+\\beta_4rooms^2+u\n",
    "\\end{equation*}\n",
    "\n",
    "What is the interpretation of the effect of rooms on log(price)?"
   ]
  },
  {
   "cell_type": "code",
   "execution_count": 15,
   "metadata": {
    "slideshow": {
     "slide_type": "slide"
    }
   },
   "outputs": [
    {
     "name": "stdout",
     "output_type": "stream",
     "text": [
      "results.summary(): \n",
      "                            OLS Regression Results                            \n",
      "==============================================================================\n",
      "Dep. Variable:          np.log(price)   R-squared:                       0.603\n",
      "Model:                            OLS   Adj. R-squared:                  0.599\n",
      "Method:                 Least Squares   F-statistic:                     151.8\n",
      "Date:                Wed, 15 Sep 2021   Prob (F-statistic):           7.89e-98\n",
      "Time:                        09:54:45   Log-Likelihood:                -31.806\n",
      "No. Observations:                 506   AIC:                             75.61\n",
      "Df Residuals:                     500   BIC:                             101.0\n",
      "Df Model:                           5                                         \n",
      "Covariance Type:            nonrobust                                         \n",
      "=================================================================================\n",
      "                    coef    std err          t      P>|t|      [0.025      0.975]\n",
      "---------------------------------------------------------------------------------\n",
      "Intercept        13.3855      0.566     23.630      0.000      12.273      14.498\n",
      "np.log(nox)      -0.9017      0.115     -7.862      0.000      -1.127      -0.676\n",
      "np.log(dist)     -0.0868      0.043     -2.005      0.045      -0.172      -0.002\n",
      "rooms            -0.5451      0.165     -3.295      0.001      -0.870      -0.220\n",
      "I(rooms ** 2)     0.0623      0.013      4.862      0.000       0.037       0.087\n",
      "stratio          -0.0476      0.006     -8.129      0.000      -0.059      -0.036\n",
      "==============================================================================\n",
      "Omnibus:                       56.649   Durbin-Watson:                   0.691\n",
      "Prob(Omnibus):                  0.000   Jarque-Bera (JB):              384.168\n",
      "Skew:                          -0.100   Prob(JB):                     3.79e-84\n",
      "Kurtosis:                       7.264   Cond. No.                     2.30e+03\n",
      "==============================================================================\n",
      "\n",
      "Warnings:\n",
      "[1] Standard Errors assume that the covariance matrix of the errors is correctly specified.\n",
      "[2] The condition number is large, 2.3e+03. This might indicate that there are\n",
      "strong multicollinearity or other numerical problems.\n",
      "\n",
      "table: \n",
      "                     b      se        t    pval\n",
      "Intercept      13.3855  0.5665  23.6295  0.0000\n",
      "np.log(nox)    -0.9017  0.1147  -7.8621  0.0000\n",
      "np.log(dist)   -0.0868  0.0433  -2.0051  0.0455\n",
      "rooms          -0.5451  0.1655  -3.2946  0.0011\n",
      "I(rooms ** 2)   0.0623  0.0128   4.8623  0.0000\n",
      "stratio        -0.0476  0.0059  -8.1293  0.0000\n",
      "\n"
     ]
    }
   ],
   "source": [
    "import wooldridge as woo\n",
    "import numpy as np\n",
    "import pandas as pd\n",
    "import statsmodels.formula.api as smf\n",
    "\n",
    "hprice2 = woo.dataWoo('hprice2')\n",
    "\n",
    "reg = smf.ols(\n",
    "    formula='np.log(price) ~ np.log(nox)+np.log(dist)+rooms+I(rooms**2)+stratio',\n",
    "    data=hprice2)\n",
    "results = reg.fit()\n",
    "\n",
    "print(f'results.summary(): \\n{results.summary()}\\n')\n",
    "\n",
    "# print regression table:\n",
    "table = pd.DataFrame({'b': round(results.params, 4),\n",
    "                      'se': round(results.bse, 4),\n",
    "                      't': round(results.tvalues, 4),\n",
    "                      'pval': round(results.pvalues, 4)})\n",
    "print(f'table: \\n{table}\\n')"
   ]
  },
  {
   "cell_type": "markdown",
   "metadata": {
    "slideshow": {
     "slide_type": "slide"
    }
   },
   "source": [
    "- Initially, the effect appears to be strange: Because the coefficient on rooms is negative and the coefficient on rooms$^2$ is positive, this equation literally implies that, at low values of rooms, an additional room has a negative effect on log(price).\n",
    "- At some point, the effect becomes positive, and the quadratic shape means that the semi-elasticity of price with respect to rooms is increasing as rooms increases.\n",
    "- We obtain the turnaround value of rooms: The absolute value of the coefficient on $rooms$, 0.545, divided by twice the coefficient on $rooms^2$, 0.062, gives $rooms^*=0.545/2(0.062)=4.4$ \n",
    "- Do we really believe that starting at three rooms and increasing to four rooms actually reduces a house’s expected value?\n",
    "- Let's have a look at the data:"
   ]
  },
  {
   "cell_type": "code",
   "execution_count": 18,
   "metadata": {
    "slideshow": {
     "slide_type": "slide"
    }
   },
   "outputs": [
    {
     "data": {
      "text/plain": [
       "0.01    4.5255\n",
       "0.05    5.3100\n",
       "0.10    5.5900\n",
       "0.25    5.8825\n",
       "0.50    6.2100\n",
       "0.75    6.6200\n",
       "0.90    7.1500\n",
       "0.99    8.3380\n",
       "Name: rooms, dtype: float64"
      ]
     },
     "metadata": {},
     "output_type": "display_data"
    },
    {
     "data": {
      "text/plain": [
       "5"
      ]
     },
     "metadata": {},
     "output_type": "display_data"
    },
    {
     "data": {
      "image/png": "[encoded data removed]",
      "text/plain": [
       "<Figure size 432x288 with 1 Axes>"
      ]
     },
     "metadata": {
      "needs_background": "light"
     },
     "output_type": "display_data"
    }
   ],
   "source": [
    "import wooldridge as woo\n",
    "import pandas as pd\n",
    "import matplotlib.pyplot as plt\n",
    "\n",
    "\n",
    "hprice2 = woo.dataWoo('hprice2')\n",
    "\n",
    "\n",
    "#display(hprice2.loc[hprice2['rooms']<4.4,'rooms'].describe())\n",
    "\n",
    "# calculate quantiles for room\n",
    "display(hprice2['rooms'].quantile([.01, 0.05, 0.1, .25, .5, .75, .9, .99 ]))\n",
    "\n",
    "#display a histogram for room\n",
    "plt.hist(hprice2['rooms'], bins=25)\n",
    "display((hprice2['rooms']<4.4).sum())\n",
    "\n",
    "\n",
    "\n",
    "\n",
    "\n"
   ]
  },
  {
   "cell_type": "markdown",
   "metadata": {
    "slideshow": {
     "slide_type": "slide"
    }
   },
   "source": [
    "**Models with Quadratics**\n",
    "\n",
    "- only 5 of the 506 communities in the sample have houses averaging 4.4 rooms or less ($<$ 1% of the sample).\n",
    "- Very small value: we can ignore the quadratic to the left of 4.4.\n",
    "- Thus: for more representative occurences of rooms in the data the effect is increasing: for an increase from 5 to 6 rooms the price increases about .54.5+12.4(5)=7.5%, for an increase from 6 to 7 rooms, prices increase even about -54.5+12.4(6)=19.9%\n",
    "- The strong increasing effect of rooms on log(price) in this example illustrates an important lesson: one cannot simply look at the coefficient on the quadratic term—in this case, .062—and declare that it is too small to bother with, based only on its magnitude.\n",
    "- In many applications with quadratics the coefficient on the squared variable has one or more zeros after the decimal point: after all, this coefficient measures how the slope is changing as x (rooms) changes.\n",
    "- A seemingly small coefficient can have practically important consequences, as we just saw.\n",
    "- As a general rule, one must compute the partial effect and see how it varies with x to determine if the quadratic term is practically important."
   ]
  },
  {
   "cell_type": "markdown",
   "metadata": {
    "slideshow": {
     "slide_type": "slide"
    }
   },
   "source": [
    "**Models with Interaction Terms**\n",
    "\n",
    "- Sometimes, it is natural for the partial effect, elasticity, or semi-elasticity of the dependent variable with respect to an explanatory variable to depend on the magnitude of yet another explanatory variable.\n",
    "- For example, in the model\n",
    "\n",
    "\\begin{equation*}\n",
    "price=\\beta_0+\\beta_1sqrft+\\beta_2bdrms+\\beta_3sqrft\\cdot bdrms+\\beta_4bthrms+u,\n",
    "\\end{equation*}\n",
    "\n",
    "the partial effect of bdrms on price (holding all other variables fixed) is\n",
    "\n",
    "\\begin{equation*}\n",
    "\\frac{\\Delta price}{\\Delta bdrms}=\\beta_2+\\beta_3sqrft.\n",
    "\\end{equation*}\n",
    "\n",
    "- If $\\beta_3>0$, then this implies that an additional bedroom yields a higher increase in housing price for larger houses.\n",
    "- In other words, there is an **interaction effect** between square footage and number of bedrooms.\n",
    "- In summarizing the effect of bdrms on price, we must evaluate the regression at interesting values of sqrft, such as the mean value, or the lower and upper quartiles in the sample.\n",
    "- Whether or not $\\beta_3$ is zero is something we can easily test.\n",
    "- The parameters on the original variables can be tricky to interpret when we include an interaction term.\n",
    "- For example, in the previous housing price equation, $\\beta_2$ is the effect of bdrms on price for a home with zero square feet, which is clearly not of much interest.\n",
    "- Instead, we must be careful to put interesting values of sqrft, such as the mean or median values in the sample, into the estimated version of housing price equation."
   ]
  },
  {
   "cell_type": "markdown",
   "metadata": {
    "slideshow": {
     "slide_type": "slide"
    }
   },
   "source": [
    "**Computing Average Partial Effects**\n",
    "\n",
    "- The hallmark of models with quadratics, interactions, and other nonlinear functional forms is that the partial effects depend on the values of one or more explanatory variables.\n",
    "- For example, we just saw in the housing price example that the effect of bdrms depends on the value of sqrft.\n",
    "- The higher flexibility afforded by such a model does have a cost: it is tricky to describe the partial effects of the explanatory variables on price with a single number.\n",
    "- Often, one wants a single value to describe the relationship between the dependent variable y and each explanatory variable.\n",
    "- Popular summary measure is the **average partial effect (APE)**, also called the **average marginal effect**.\n",
    "- Idea behind the APE is simple: after computing the partial effect and plugging in the estimated parameters, we average the partial effects for each unit across the sample.\n"
   ]
  },
  {
   "cell_type": "markdown",
   "metadata": {
    "slideshow": {
     "slide_type": "slide"
    }
   },
   "source": [
    "**Computing Average Partial Effects**\n",
    "\n",
    "\n",
    "- The estimated partial effect of bdrms on price is\n",
    "\n",
    "\\begin{equation*}\n",
    "\\hat{\\beta}_2+\\hat{\\beta}_3sqft\n",
    "\\end{equation*}\n",
    "\n",
    "- We do not want to report this partial effect for each of houses in our sample, instead, we average these partial effects to obtain\n",
    "\n",
    "\n",
    "\\begin{equation*}\n",
    "APE_{price}=\\hat{\\beta}_2+\\hat{\\beta}_3\\bar{sqft}\n",
    "\\end{equation*}\n",
    "\n",
    "where $\\bar{sqft}$ is the sample average of sqft and $APE_{price}$ is the estimated APE.\n",
    "\n",
    "- The centering of explanatory variables about their sample averages before creating quadratics or interactions forces the coefficient on the levels to be the APEs.\n",
    "- However, usually we are not interested in interactions of contiuous variables but rather in interactions of a binary variable and a continuous variable or even between two binary variables. We will analyze such cases in a few minutes in detail and with data examples."
   ]
  },
  {
   "cell_type": "markdown",
   "metadata": {
    "slideshow": {
     "slide_type": "slide"
    }
   },
   "source": [
    "## Prediction\n",
    "\n",
    "\n",
    "In models with quadratic or other nonlinear terms, the coefficients themselves are often difficult to interpret directly.\n",
    "- We have to do additional calculations to obtain the partial effect at different values of the regressors or derive the extreme points.\n",
    "- E.g, we found the number of rooms implying the minimum predicted house price to be around 4.4.\n",
    "\n",
    "For a better visual understanding of the implications of our model: often useful to calculate predictions for different values of one regressor of interest while keeping the other regressors fixed at certain values like their overall sample means.\n",
    "- By plotting the results against the regressor value, we get a very intuitive graph showing the estimated ceteris paribus effects of the regressor.\n",
    "- For instance, assume we have model \n",
    "\n",
    "\\begin{equation*}\n",
    "y=\\beta_0+\\beta_1x_1+\\beta_2x+...+\\beta_kx_k+u\n",
    "\\end{equation*}\n",
    "\n",
    "and we are interested in the expected value of $y$ given the regressors take specific values $c_1,c_2,...,c_k:$\n",
    "\n",
    "\\begin{equation*}\n",
    "\\theta_0=E(y|x_1=c_1,x_2=c_2,...,x_k=c_k)=\\beta_0+\\beta_1c_1+\\beta_2c_2+...+\\beta_kc_k\n",
    "\\end{equation*}\n",
    "\n"
   ]
  },
  {
   "cell_type": "markdown",
   "metadata": {
    "slideshow": {
     "slide_type": "slide"
    }
   },
   "source": [
    " **Prediction**\n",
    "\n",
    "    \n",
    "The natural point estimates are \n",
    "\n",
    "\\begin{equation*}\n",
    "\\hat{\\theta}_0=\\hat{\\beta}_0+\\hat{\\beta}_1c_1+\\hat{\\beta}_2c_2+...+\\hat{\\beta}_kc_k\n",
    "\\end{equation*}\n",
    "\n",
    "and can readily be obtained once the parameter estimates $\\hat{\\beta}_0,...,\\hat{\\beta}_k$  are calculated.\n",
    "- `statsmodels` provides the method `predict` for this.\n",
    "- The method `predict` automatically calculates the $\\hat{\\theta}_0$s and can be called on an object created by the `fit` method.\n",
    "- Its argument is a data frame containing the values of the regressorsv $c_1,...,c_x$ of the regressors $x_1,..., x_k$ with the same variable names as in the data frame used for estimation.\n",
    "- It can for example be specified with `pandas` as\n",
    "\n",
    "```python\n",
    "pd.DataFrame({'x':[c1], 'x2':[c2],...,'xk':[ck]}, index=['newobservation1'])\n",
    "```                                                        \n",
    "where $x_1$ through $x_k$ are the variable names and $c_1$ through $c_k$ are the values which can also be specified as lists to get predictions at several values of the regressors.\n"
   ]
  },
  {
   "cell_type": "markdown",
   "metadata": {
    "slideshow": {
     "slide_type": "slide"
    }
   },
   "source": [
    "**Prediction**\n",
    "\n",
    "- Let's check this for the housing price example\n",
    "- The number of rooms is varied between 4 and 8 and the other variables are set to their respective sample means for all predictions.\n",
    "- The regressor values and the implied predictions are shown in a table and then plotted with their confidence bands.\n",
    "- We see the minimum at a number of rooms of around 5.\n",
    "\n"
   ]
  },
  {
   "cell_type": "code",
   "execution_count": 23,
   "metadata": {
    "slideshow": {
     "slide_type": "slide"
    }
   },
   "outputs": [
    {
     "name": "stdout",
     "output_type": "stream",
     "text": [
      "results.summary(): \n",
      "                            OLS Regression Results                            \n",
      "==============================================================================\n",
      "Dep. Variable:                  price   R-squared:                       0.681\n",
      "Model:                            OLS   Adj. R-squared:                  0.677\n",
      "Method:                 Least Squares   F-statistic:                     213.1\n",
      "Date:                Wed, 15 Sep 2021   Prob (F-statistic):          2.00e-121\n",
      "Time:                        10:46:42   Log-Likelihood:                -5047.4\n",
      "No. Observations:                 506   AIC:                         1.011e+04\n",
      "Df Residuals:                     500   BIC:                         1.013e+04\n",
      "Df Model:                           5                                         \n",
      "Covariance Type:            nonrobust                                         \n",
      "=================================================================================\n",
      "                    coef    std err          t      P>|t|      [0.025      0.975]\n",
      "---------------------------------------------------------------------------------\n",
      "Intercept      1.204e+05    1.1e+04     10.980      0.000    9.88e+04    1.42e+05\n",
      "nox           -3086.4562    324.510     -9.511      0.000   -3724.027   -2448.886\n",
      "dist           -723.5110    177.429     -4.078      0.000   -1072.109    -374.913\n",
      "rooms         -2.499e+04   3279.794     -7.620      0.000   -3.14e+04   -1.85e+04\n",
      "I(rooms ** 2)  2477.3037    253.874      9.758      0.000    1978.512    2976.095\n",
      "stratio       -1082.8905    118.400     -9.146      0.000   -1315.514    -850.267\n",
      "==============================================================================\n",
      "Omnibus:                      262.203   Durbin-Watson:                   0.848\n",
      "Prob(Omnibus):                  0.000   Jarque-Bera (JB):             3657.109\n",
      "Skew:                           1.911   Prob(JB):                         0.00\n",
      "Kurtosis:                      15.604   Cond. No.                     2.24e+03\n",
      "==============================================================================\n",
      "\n",
      "Warnings:\n",
      "[1] Standard Errors assume that the covariance matrix of the errors is correctly specified.\n",
      "[2] The condition number is large, 2.24e+03. This might indicate that there are\n",
      "strong multicollinearity or other numerical problems.\n",
      "\n",
      "means: \n",
      "   rooms       nox      dist    stratio\n",
      "0    4.0  5.549783  3.795751  18.459289\n",
      "1    5.0  5.549783  3.795751  18.459289\n",
      "2    6.0  5.549783  3.795751  18.459289\n",
      "3    7.0  5.549783  3.795751  18.459289\n",
      "4    8.0  5.549783  3.795751  18.459289\n",
      "\n",
      " pred: \n",
      "0    20186.441146\n",
      "1    17489.067803\n",
      "2    19746.301769\n",
      "3    26958.143044\n",
      "4    39124.591629\n",
      "dtype: float64\n",
      "\n"
     ]
    },
    {
     "data": {
      "text/plain": [
       "[<matplotlib.lines.Line2D at 0x1a3c6196cc0>]"
      ]
     },
     "execution_count": 23,
     "metadata": {},
     "output_type": "execute_result"
    },
    {
     "data": {
      "image/png": "[encoded data removed]",
      "text/plain": [
       "<Figure size 432x288 with 1 Axes>"
      ]
     },
     "metadata": {
      "needs_background": "light"
     },
     "output_type": "display_data"
    }
   ],
   "source": [
    "import wooldridge as woo\n",
    "import numpy as np\n",
    "import pandas as pd\n",
    "import statsmodels.formula.api as smf\n",
    "import matplotlib.pyplot as plt\n",
    "\n",
    "hprice2 = woo.dataWoo('hprice2')\n",
    "\n",
    "# repeating the regression from before:\n",
    "reg = smf.ols(\n",
    "    formula='price ~ nox+dist+rooms+I(rooms**2)+stratio',\n",
    "    data=hprice2)\n",
    "results = reg.fit()\n",
    "\n",
    "print(f'results.summary(): \\n{results.summary()}\\n')\n",
    "\n",
    "# predictions with rooms = 4-8, all others at the sample mean:\n",
    "nox_mean = np.mean(hprice2['nox'])\n",
    "dist_mean = np.mean(hprice2['dist'])\n",
    "stratio_mean = np.mean(hprice2['stratio'])\n",
    "means = pd.DataFrame({'rooms': np.linspace(4, 8, num=5),\n",
    "                  'nox': nox_mean,\n",
    "                  'dist': dist_mean,\n",
    "                  'stratio': stratio_mean})\n",
    "print(f'means: \\n{means}\\n')\n",
    "\n",
    "# point estimate of prediction (means):\n",
    "pred = results.predict (means)\n",
    "print (f' pred: \\n{pred}\\n' )\n",
    "\n",
    "plt.plot(means['rooms'], pred, color='black',\n",
    "        linestyle='-', label='')"
   ]
  },
  {
   "cell_type": "markdown",
   "metadata": {
    "slideshow": {
     "slide_type": "slide"
    }
   },
   "source": [
    "**Prediction**\n",
    "\n",
    "- The method `get_prediction` calculates not only $\\hat{\\theta}_0$ (i.e. the exact same predictions as the method `predict`), but also\n",
    "    - standard errors of the predictions (column `mean_se`),\n",
    "    - confidence intervals (columns `mean_ci_lower` and `mean_ci_upper`) and\n",
    "    - prediction intervals (columns `obs_ci_lower` and `obs_ci_upper`).\n",
    "- All you have to do is calling a second method `summary_frame` to provide the significance level.\n",
    "- Let's repeat the housing price regression and create an effects plot for the number of rooms.\n",
    "- Just to compare the results we use logs here\n",
    "- As you see, the minimum is now at 4 instead of 5."
   ]
  },
  {
   "cell_type": "code",
   "execution_count": 22,
   "metadata": {
    "slideshow": {
     "slide_type": "slide"
    }
   },
   "outputs": [
    {
     "name": "stdout",
     "output_type": "stream",
     "text": [
      "lpr_CI: \n",
      "        mean  mean_ci_lower  mean_ci_upper\n",
      "0   9.661702       9.499811       9.823593\n",
      "1   9.676940       9.610215       9.743665\n",
      "2   9.816700       9.787055       9.846345\n",
      "3  10.080983      10.042409      10.119557\n",
      "4  10.469788      10.383361      10.556215\n",
      "\n"
     ]
    },
    {
     "data": {
      "text/plain": [
       "<matplotlib.legend.Legend at 0x1a3c615a5f8>"
      ]
     },
     "execution_count": 22,
     "metadata": {},
     "output_type": "execute_result"
    },
    {
     "data": {
      "image/png": "[encoded data removed]",
      "text/plain": [
       "<Figure size 432x288 with 1 Axes>"
      ]
     },
     "metadata": {
      "needs_background": "light"
     },
     "output_type": "display_data"
    }
   ],
   "source": [
    "import wooldridge as woo\n",
    "import numpy as np\n",
    "import pandas as pd\n",
    "import statsmodels.formula.api as smf\n",
    "import matplotlib.pyplot as plt\n",
    "\n",
    "hprice2 = woo.dataWoo('hprice2')\n",
    "\n",
    "# repeating the regression from Example 6.2:\n",
    "reg = smf.ols(\n",
    "    formula='np.log(price) ~ np.log(nox)+np.log(dist)+rooms+I(rooms**2)+stratio',\n",
    "    data=hprice2)\n",
    "results = reg.fit()\n",
    "\n",
    "#print(f'results.summary(): \\n{results.summary()}\\n')\n",
    "\n",
    "# predictions with rooms = 4-8, all others at the sample mean:\n",
    "nox_mean = np.mean(hprice2['nox'])\n",
    "dist_mean = np.mean(hprice2['dist'])\n",
    "stratio_mean = np.mean(hprice2['stratio'])\n",
    "X = pd.DataFrame({'rooms': np.linspace(4, 8, num=5),\n",
    "                  'nox': nox_mean,\n",
    "                  'dist': dist_mean,\n",
    "                  'stratio': stratio_mean})\n",
    "#print(f'X: \\n{X}\\n')\n",
    "\n",
    "# calculate 95% confidence interval:\n",
    "lpr_PICI = results.get_prediction(X).summary_frame(alpha=0.05)\n",
    "lpr_CI = lpr_PICI[['mean', 'mean_ci_lower', 'mean_ci_upper']]\n",
    "print(f'lpr_CI: \\n{lpr_CI}\\n')\n",
    "\n",
    "# plot:\n",
    "plt.plot(X['rooms'], lpr_CI['mean'], color='black',\n",
    "         linestyle='-', label='')\n",
    "plt.plot(X['rooms'], lpr_CI['mean_ci_upper'], color='lightgrey',\n",
    "         linestyle='--', label='upper CI')\n",
    "plt.plot(X['rooms'], lpr_CI['mean_ci_lower'], color='darkgrey',\n",
    "         linestyle='--', label='lower CI')\n",
    "plt.ylabel('lprice')\n",
    "plt.xlabel('rooms')\n",
    "plt.legend()"
   ]
  },
  {
   "cell_type": "markdown",
   "metadata": {
    "slideshow": {
     "slide_type": "slide"
    }
   },
   "source": [
    "<h3>Multiple Regression Analysis with\n",
    "Qualitative Regressors</h3>\n",
    "    \n",
    "- Many variables of interest are qualitative rather than quantitative.\n",
    "- Examples include gender or race of an individual, the industry of a firm (manufacturing, retail, and so on), and the region in the United States where a city is located (South, North, West, and so on)\n",
    "- We have briefly touched this topic already and will discuss it now in more detail."
   ]
  },
  {
   "cell_type": "markdown",
   "metadata": {
    "slideshow": {
     "slide_type": "slide"
    }
   },
   "source": [
    "**Describing Qualitative Information**\n",
    "\n",
    "- Qualitative factors often come in the form of binary information:\n",
    "    - a person is female or male\n",
    "    - a person does or does not own a personal computer;\n",
    "    - a firm offers a certain kind of employee pension plan or it does not;\n",
    "    - a state administers capital punishment or it does not.\n",
    "- In all of these examples, the relevant information can be captured by defining a **binary variable** or a **zero-one variable**.\n",
    "- In econometrics, binary variables are most commonly called **dummy variables**"
   ]
  },
  {
   "cell_type": "markdown",
   "metadata": {
    "slideshow": {
     "slide_type": "slide"
    }
   },
   "source": [
    "**Describing Qualitative Information**\n",
    "\n",
    "- In defining a dummy variable, we must decide which event is assigned the value one and which is assigned the value zero.\n",
    "- For example, in a study of individual wage determination, we might define _female_ to be a binary variable taking on the value one for females and the value zero for males.\n",
    "- The name in this case indicates the event with the value one.\n",
    "- The same information is captured by defining _male_ to be one if the person is male and zero if the person is female.\n",
    "- Either of these is better than using _gender_ because this name does not make it clear when the dummy variable is one: does $gender=1$ correspond to male or female?\n",
    "- What we call our variables is unimportant for getting regression results, but it always helps to choose names that clarify equations and expositions.\n",
    "- Why do we use the values zero and one to describe qualitative information? In a sense, these values are arbitrary: any two different values would do.\n",
    "- The real benefit of capturing qualitative information using zero-one variables is that it leads to regression models where the parameters have very natural interpretations, as we will see now.\n",
    "- Let's check the _wage_ data and have a look at _female_, _married_ and _nonwhite_."
   ]
  },
  {
   "cell_type": "code",
   "execution_count": 27,
   "metadata": {
    "slideshow": {
     "slide_type": "slide"
    }
   },
   "outputs": [
    {
     "data": {
      "text/html": [
       "<div>\n",
       "<style scoped>\n",
       "    .dataframe tbody tr th:only-of-type {\n",
       "        vertical-align: middle;\n",
       "    }\n",
       "\n",
       "    .dataframe tbody tr th {\n",
       "        vertical-align: top;\n",
       "    }\n",
       "\n",
       "    .dataframe thead th {\n",
       "        text-align: right;\n",
       "    }\n",
       "</style>\n",
       "<table border=\"1\" class=\"dataframe\">\n",
       "  <thead>\n",
       "    <tr style=\"text-align: right;\">\n",
       "      <th></th>\n",
       "      <th>wage</th>\n",
       "      <th>educ</th>\n",
       "      <th>exper</th>\n",
       "      <th>tenure</th>\n",
       "      <th>nonwhite</th>\n",
       "      <th>female</th>\n",
       "      <th>married</th>\n",
       "      <th>numdep</th>\n",
       "      <th>smsa</th>\n",
       "      <th>northcen</th>\n",
       "      <th>...</th>\n",
       "      <th>trcommpu</th>\n",
       "      <th>trade</th>\n",
       "      <th>services</th>\n",
       "      <th>profserv</th>\n",
       "      <th>profocc</th>\n",
       "      <th>clerocc</th>\n",
       "      <th>servocc</th>\n",
       "      <th>lwage</th>\n",
       "      <th>expersq</th>\n",
       "      <th>tenursq</th>\n",
       "    </tr>\n",
       "  </thead>\n",
       "  <tbody>\n",
       "    <tr>\n",
       "      <th>0</th>\n",
       "      <td>3.10</td>\n",
       "      <td>11</td>\n",
       "      <td>2</td>\n",
       "      <td>0</td>\n",
       "      <td>0</td>\n",
       "      <td>1</td>\n",
       "      <td>0</td>\n",
       "      <td>2</td>\n",
       "      <td>1</td>\n",
       "      <td>0</td>\n",
       "      <td>...</td>\n",
       "      <td>0</td>\n",
       "      <td>0</td>\n",
       "      <td>0</td>\n",
       "      <td>0</td>\n",
       "      <td>0</td>\n",
       "      <td>0</td>\n",
       "      <td>0</td>\n",
       "      <td>1.131402</td>\n",
       "      <td>4</td>\n",
       "      <td>0</td>\n",
       "    </tr>\n",
       "    <tr>\n",
       "      <th>1</th>\n",
       "      <td>3.24</td>\n",
       "      <td>12</td>\n",
       "      <td>22</td>\n",
       "      <td>2</td>\n",
       "      <td>0</td>\n",
       "      <td>1</td>\n",
       "      <td>1</td>\n",
       "      <td>3</td>\n",
       "      <td>1</td>\n",
       "      <td>0</td>\n",
       "      <td>...</td>\n",
       "      <td>0</td>\n",
       "      <td>0</td>\n",
       "      <td>1</td>\n",
       "      <td>0</td>\n",
       "      <td>0</td>\n",
       "      <td>0</td>\n",
       "      <td>1</td>\n",
       "      <td>1.175573</td>\n",
       "      <td>484</td>\n",
       "      <td>4</td>\n",
       "    </tr>\n",
       "    <tr>\n",
       "      <th>2</th>\n",
       "      <td>3.00</td>\n",
       "      <td>11</td>\n",
       "      <td>2</td>\n",
       "      <td>0</td>\n",
       "      <td>0</td>\n",
       "      <td>0</td>\n",
       "      <td>0</td>\n",
       "      <td>2</td>\n",
       "      <td>0</td>\n",
       "      <td>0</td>\n",
       "      <td>...</td>\n",
       "      <td>0</td>\n",
       "      <td>1</td>\n",
       "      <td>0</td>\n",
       "      <td>0</td>\n",
       "      <td>0</td>\n",
       "      <td>0</td>\n",
       "      <td>0</td>\n",
       "      <td>1.098612</td>\n",
       "      <td>4</td>\n",
       "      <td>0</td>\n",
       "    </tr>\n",
       "    <tr>\n",
       "      <th>3</th>\n",
       "      <td>6.00</td>\n",
       "      <td>8</td>\n",
       "      <td>44</td>\n",
       "      <td>28</td>\n",
       "      <td>0</td>\n",
       "      <td>0</td>\n",
       "      <td>1</td>\n",
       "      <td>0</td>\n",
       "      <td>1</td>\n",
       "      <td>0</td>\n",
       "      <td>...</td>\n",
       "      <td>0</td>\n",
       "      <td>0</td>\n",
       "      <td>0</td>\n",
       "      <td>0</td>\n",
       "      <td>0</td>\n",
       "      <td>1</td>\n",
       "      <td>0</td>\n",
       "      <td>1.791759</td>\n",
       "      <td>1936</td>\n",
       "      <td>784</td>\n",
       "    </tr>\n",
       "    <tr>\n",
       "      <th>4</th>\n",
       "      <td>5.30</td>\n",
       "      <td>12</td>\n",
       "      <td>7</td>\n",
       "      <td>2</td>\n",
       "      <td>0</td>\n",
       "      <td>0</td>\n",
       "      <td>1</td>\n",
       "      <td>1</td>\n",
       "      <td>0</td>\n",
       "      <td>0</td>\n",
       "      <td>...</td>\n",
       "      <td>0</td>\n",
       "      <td>0</td>\n",
       "      <td>0</td>\n",
       "      <td>0</td>\n",
       "      <td>0</td>\n",
       "      <td>0</td>\n",
       "      <td>0</td>\n",
       "      <td>1.667707</td>\n",
       "      <td>49</td>\n",
       "      <td>4</td>\n",
       "    </tr>\n",
       "  </tbody>\n",
       "</table>\n",
       "<p>5 rows × 24 columns</p>\n",
       "</div>"
      ],
      "text/plain": [
       "   wage  educ  exper  tenure  nonwhite  female  married  numdep  smsa  \\\n",
       "0  3.10    11      2       0         0       1        0       2     1   \n",
       "1  3.24    12     22       2         0       1        1       3     1   \n",
       "2  3.00    11      2       0         0       0        0       2     0   \n",
       "3  6.00     8     44      28         0       0        1       0     1   \n",
       "4  5.30    12      7       2         0       0        1       1     0   \n",
       "\n",
       "   northcen   ...     trcommpu  trade  services  profserv  profocc  clerocc  \\\n",
       "0         0   ...            0      0         0         0        0        0   \n",
       "1         0   ...            0      0         1         0        0        0   \n",
       "2         0   ...            0      1         0         0        0        0   \n",
       "3         0   ...            0      0         0         0        0        1   \n",
       "4         0   ...            0      0         0         0        0        0   \n",
       "\n",
       "   servocc     lwage  expersq  tenursq  \n",
       "0        0  1.131402        4        0  \n",
       "1        1  1.175573      484        4  \n",
       "2        0  1.098612        4        0  \n",
       "3        0  1.791759     1936      784  \n",
       "4        0  1.667707       49        4  \n",
       "\n",
       "[5 rows x 24 columns]"
      ]
     },
     "metadata": {},
     "output_type": "display_data"
    },
    {
     "data": {
      "text/html": [
       "<div>\n",
       "<style scoped>\n",
       "    .dataframe tbody tr th:only-of-type {\n",
       "        vertical-align: middle;\n",
       "    }\n",
       "\n",
       "    .dataframe tbody tr th {\n",
       "        vertical-align: top;\n",
       "    }\n",
       "\n",
       "    .dataframe thead th {\n",
       "        text-align: right;\n",
       "    }\n",
       "</style>\n",
       "<table border=\"1\" class=\"dataframe\">\n",
       "  <thead>\n",
       "    <tr style=\"text-align: right;\">\n",
       "      <th></th>\n",
       "      <th>wage</th>\n",
       "      <th>educ</th>\n",
       "      <th>exper</th>\n",
       "      <th>tenure</th>\n",
       "      <th>nonwhite</th>\n",
       "      <th>female</th>\n",
       "      <th>married</th>\n",
       "      <th>numdep</th>\n",
       "      <th>smsa</th>\n",
       "      <th>northcen</th>\n",
       "      <th>...</th>\n",
       "      <th>trcommpu</th>\n",
       "      <th>trade</th>\n",
       "      <th>services</th>\n",
       "      <th>profserv</th>\n",
       "      <th>profocc</th>\n",
       "      <th>clerocc</th>\n",
       "      <th>servocc</th>\n",
       "      <th>lwage</th>\n",
       "      <th>expersq</th>\n",
       "      <th>tenursq</th>\n",
       "    </tr>\n",
       "  </thead>\n",
       "  <tbody>\n",
       "    <tr>\n",
       "      <th>521</th>\n",
       "      <td>15.00</td>\n",
       "      <td>16</td>\n",
       "      <td>14</td>\n",
       "      <td>2</td>\n",
       "      <td>0</td>\n",
       "      <td>1</td>\n",
       "      <td>1</td>\n",
       "      <td>2</td>\n",
       "      <td>0</td>\n",
       "      <td>0</td>\n",
       "      <td>...</td>\n",
       "      <td>0</td>\n",
       "      <td>0</td>\n",
       "      <td>0</td>\n",
       "      <td>1</td>\n",
       "      <td>1</td>\n",
       "      <td>0</td>\n",
       "      <td>0</td>\n",
       "      <td>2.708050</td>\n",
       "      <td>196</td>\n",
       "      <td>4</td>\n",
       "    </tr>\n",
       "    <tr>\n",
       "      <th>522</th>\n",
       "      <td>2.27</td>\n",
       "      <td>10</td>\n",
       "      <td>2</td>\n",
       "      <td>0</td>\n",
       "      <td>0</td>\n",
       "      <td>1</td>\n",
       "      <td>0</td>\n",
       "      <td>3</td>\n",
       "      <td>0</td>\n",
       "      <td>0</td>\n",
       "      <td>...</td>\n",
       "      <td>0</td>\n",
       "      <td>1</td>\n",
       "      <td>0</td>\n",
       "      <td>0</td>\n",
       "      <td>1</td>\n",
       "      <td>0</td>\n",
       "      <td>0</td>\n",
       "      <td>0.819780</td>\n",
       "      <td>4</td>\n",
       "      <td>0</td>\n",
       "    </tr>\n",
       "    <tr>\n",
       "      <th>523</th>\n",
       "      <td>4.67</td>\n",
       "      <td>15</td>\n",
       "      <td>13</td>\n",
       "      <td>18</td>\n",
       "      <td>0</td>\n",
       "      <td>0</td>\n",
       "      <td>1</td>\n",
       "      <td>3</td>\n",
       "      <td>0</td>\n",
       "      <td>0</td>\n",
       "      <td>...</td>\n",
       "      <td>0</td>\n",
       "      <td>0</td>\n",
       "      <td>0</td>\n",
       "      <td>0</td>\n",
       "      <td>1</td>\n",
       "      <td>0</td>\n",
       "      <td>0</td>\n",
       "      <td>1.541159</td>\n",
       "      <td>169</td>\n",
       "      <td>324</td>\n",
       "    </tr>\n",
       "    <tr>\n",
       "      <th>524</th>\n",
       "      <td>11.56</td>\n",
       "      <td>16</td>\n",
       "      <td>5</td>\n",
       "      <td>1</td>\n",
       "      <td>0</td>\n",
       "      <td>0</td>\n",
       "      <td>1</td>\n",
       "      <td>0</td>\n",
       "      <td>0</td>\n",
       "      <td>0</td>\n",
       "      <td>...</td>\n",
       "      <td>0</td>\n",
       "      <td>0</td>\n",
       "      <td>0</td>\n",
       "      <td>0</td>\n",
       "      <td>0</td>\n",
       "      <td>0</td>\n",
       "      <td>0</td>\n",
       "      <td>2.447551</td>\n",
       "      <td>25</td>\n",
       "      <td>1</td>\n",
       "    </tr>\n",
       "    <tr>\n",
       "      <th>525</th>\n",
       "      <td>3.50</td>\n",
       "      <td>14</td>\n",
       "      <td>5</td>\n",
       "      <td>4</td>\n",
       "      <td>1</td>\n",
       "      <td>1</td>\n",
       "      <td>0</td>\n",
       "      <td>2</td>\n",
       "      <td>0</td>\n",
       "      <td>0</td>\n",
       "      <td>...</td>\n",
       "      <td>0</td>\n",
       "      <td>0</td>\n",
       "      <td>0</td>\n",
       "      <td>1</td>\n",
       "      <td>0</td>\n",
       "      <td>1</td>\n",
       "      <td>0</td>\n",
       "      <td>1.252763</td>\n",
       "      <td>25</td>\n",
       "      <td>16</td>\n",
       "    </tr>\n",
       "  </tbody>\n",
       "</table>\n",
       "<p>5 rows × 24 columns</p>\n",
       "</div>"
      ],
      "text/plain": [
       "      wage  educ  exper  tenure  nonwhite  female  married  numdep  smsa  \\\n",
       "521  15.00    16     14       2         0       1        1       2     0   \n",
       "522   2.27    10      2       0         0       1        0       3     0   \n",
       "523   4.67    15     13      18         0       0        1       3     0   \n",
       "524  11.56    16      5       1         0       0        1       0     0   \n",
       "525   3.50    14      5       4         1       1        0       2     0   \n",
       "\n",
       "     northcen   ...     trcommpu  trade  services  profserv  profocc  clerocc  \\\n",
       "521         0   ...            0      0         0         1        1        0   \n",
       "522         0   ...            0      1         0         0        1        0   \n",
       "523         0   ...            0      0         0         0        1        0   \n",
       "524         0   ...            0      0         0         0        0        0   \n",
       "525         0   ...            0      0         0         1        0        1   \n",
       "\n",
       "     servocc     lwage  expersq  tenursq  \n",
       "521        0  2.708050      196        4  \n",
       "522        0  0.819780        4        0  \n",
       "523        0  1.541159      169      324  \n",
       "524        0  2.447551       25        1  \n",
       "525        0  1.252763       25       16  \n",
       "\n",
       "[5 rows x 24 columns]"
      ]
     },
     "metadata": {},
     "output_type": "display_data"
    },
    {
     "data": {
      "text/html": [
       "<div>\n",
       "<style scoped>\n",
       "    .dataframe tbody tr th:only-of-type {\n",
       "        vertical-align: middle;\n",
       "    }\n",
       "\n",
       "    .dataframe tbody tr th {\n",
       "        vertical-align: top;\n",
       "    }\n",
       "\n",
       "    .dataframe thead th {\n",
       "        text-align: right;\n",
       "    }\n",
       "</style>\n",
       "<table border=\"1\" class=\"dataframe\">\n",
       "  <thead>\n",
       "    <tr style=\"text-align: right;\">\n",
       "      <th></th>\n",
       "      <th>wage</th>\n",
       "      <th>educ</th>\n",
       "      <th>exper</th>\n",
       "      <th>tenure</th>\n",
       "      <th>nonwhite</th>\n",
       "      <th>female</th>\n",
       "      <th>married</th>\n",
       "      <th>numdep</th>\n",
       "      <th>smsa</th>\n",
       "      <th>northcen</th>\n",
       "      <th>...</th>\n",
       "      <th>trcommpu</th>\n",
       "      <th>trade</th>\n",
       "      <th>services</th>\n",
       "      <th>profserv</th>\n",
       "      <th>profocc</th>\n",
       "      <th>clerocc</th>\n",
       "      <th>servocc</th>\n",
       "      <th>lwage</th>\n",
       "      <th>expersq</th>\n",
       "      <th>tenursq</th>\n",
       "    </tr>\n",
       "  </thead>\n",
       "  <tbody>\n",
       "    <tr>\n",
       "      <th>count</th>\n",
       "      <td>526.000000</td>\n",
       "      <td>526.000000</td>\n",
       "      <td>526.00000</td>\n",
       "      <td>526.000000</td>\n",
       "      <td>526.000000</td>\n",
       "      <td>526.000000</td>\n",
       "      <td>526.000000</td>\n",
       "      <td>526.000000</td>\n",
       "      <td>526.000000</td>\n",
       "      <td>526.000000</td>\n",
       "      <td>...</td>\n",
       "      <td>526.000000</td>\n",
       "      <td>526.000000</td>\n",
       "      <td>526.000000</td>\n",
       "      <td>526.000000</td>\n",
       "      <td>526.000000</td>\n",
       "      <td>526.000000</td>\n",
       "      <td>526.000000</td>\n",
       "      <td>526.000000</td>\n",
       "      <td>526.000000</td>\n",
       "      <td>526.000000</td>\n",
       "    </tr>\n",
       "    <tr>\n",
       "      <th>mean</th>\n",
       "      <td>5.896103</td>\n",
       "      <td>12.562738</td>\n",
       "      <td>17.01711</td>\n",
       "      <td>5.104563</td>\n",
       "      <td>0.102662</td>\n",
       "      <td>0.479087</td>\n",
       "      <td>0.608365</td>\n",
       "      <td>1.043726</td>\n",
       "      <td>0.722433</td>\n",
       "      <td>0.250951</td>\n",
       "      <td>...</td>\n",
       "      <td>0.043726</td>\n",
       "      <td>0.287072</td>\n",
       "      <td>0.100760</td>\n",
       "      <td>0.258555</td>\n",
       "      <td>0.366920</td>\n",
       "      <td>0.167300</td>\n",
       "      <td>0.140684</td>\n",
       "      <td>1.623268</td>\n",
       "      <td>473.435361</td>\n",
       "      <td>78.150190</td>\n",
       "    </tr>\n",
       "    <tr>\n",
       "      <th>std</th>\n",
       "      <td>3.693086</td>\n",
       "      <td>2.769022</td>\n",
       "      <td>13.57216</td>\n",
       "      <td>7.224462</td>\n",
       "      <td>0.303805</td>\n",
       "      <td>0.500038</td>\n",
       "      <td>0.488580</td>\n",
       "      <td>1.261891</td>\n",
       "      <td>0.448225</td>\n",
       "      <td>0.433973</td>\n",
       "      <td>...</td>\n",
       "      <td>0.204680</td>\n",
       "      <td>0.452826</td>\n",
       "      <td>0.301298</td>\n",
       "      <td>0.438257</td>\n",
       "      <td>0.482423</td>\n",
       "      <td>0.373599</td>\n",
       "      <td>0.348027</td>\n",
       "      <td>0.531538</td>\n",
       "      <td>616.044772</td>\n",
       "      <td>199.434664</td>\n",
       "    </tr>\n",
       "    <tr>\n",
       "      <th>min</th>\n",
       "      <td>0.530000</td>\n",
       "      <td>0.000000</td>\n",
       "      <td>1.00000</td>\n",
       "      <td>0.000000</td>\n",
       "      <td>0.000000</td>\n",
       "      <td>0.000000</td>\n",
       "      <td>0.000000</td>\n",
       "      <td>0.000000</td>\n",
       "      <td>0.000000</td>\n",
       "      <td>0.000000</td>\n",
       "      <td>...</td>\n",
       "      <td>0.000000</td>\n",
       "      <td>0.000000</td>\n",
       "      <td>0.000000</td>\n",
       "      <td>0.000000</td>\n",
       "      <td>0.000000</td>\n",
       "      <td>0.000000</td>\n",
       "      <td>0.000000</td>\n",
       "      <td>-0.634878</td>\n",
       "      <td>1.000000</td>\n",
       "      <td>0.000000</td>\n",
       "    </tr>\n",
       "    <tr>\n",
       "      <th>25%</th>\n",
       "      <td>3.330000</td>\n",
       "      <td>12.000000</td>\n",
       "      <td>5.00000</td>\n",
       "      <td>0.000000</td>\n",
       "      <td>0.000000</td>\n",
       "      <td>0.000000</td>\n",
       "      <td>0.000000</td>\n",
       "      <td>0.000000</td>\n",
       "      <td>0.000000</td>\n",
       "      <td>0.000000</td>\n",
       "      <td>...</td>\n",
       "      <td>0.000000</td>\n",
       "      <td>0.000000</td>\n",
       "      <td>0.000000</td>\n",
       "      <td>0.000000</td>\n",
       "      <td>0.000000</td>\n",
       "      <td>0.000000</td>\n",
       "      <td>0.000000</td>\n",
       "      <td>1.202972</td>\n",
       "      <td>25.000000</td>\n",
       "      <td>0.000000</td>\n",
       "    </tr>\n",
       "    <tr>\n",
       "      <th>50%</th>\n",
       "      <td>4.650000</td>\n",
       "      <td>12.000000</td>\n",
       "      <td>13.50000</td>\n",
       "      <td>2.000000</td>\n",
       "      <td>0.000000</td>\n",
       "      <td>0.000000</td>\n",
       "      <td>1.000000</td>\n",
       "      <td>1.000000</td>\n",
       "      <td>1.000000</td>\n",
       "      <td>0.000000</td>\n",
       "      <td>...</td>\n",
       "      <td>0.000000</td>\n",
       "      <td>0.000000</td>\n",
       "      <td>0.000000</td>\n",
       "      <td>0.000000</td>\n",
       "      <td>0.000000</td>\n",
       "      <td>0.000000</td>\n",
       "      <td>0.000000</td>\n",
       "      <td>1.536867</td>\n",
       "      <td>182.500000</td>\n",
       "      <td>4.000000</td>\n",
       "    </tr>\n",
       "    <tr>\n",
       "      <th>75%</th>\n",
       "      <td>6.880000</td>\n",
       "      <td>14.000000</td>\n",
       "      <td>26.00000</td>\n",
       "      <td>7.000000</td>\n",
       "      <td>0.000000</td>\n",
       "      <td>1.000000</td>\n",
       "      <td>1.000000</td>\n",
       "      <td>2.000000</td>\n",
       "      <td>1.000000</td>\n",
       "      <td>0.750000</td>\n",
       "      <td>...</td>\n",
       "      <td>0.000000</td>\n",
       "      <td>1.000000</td>\n",
       "      <td>0.000000</td>\n",
       "      <td>1.000000</td>\n",
       "      <td>1.000000</td>\n",
       "      <td>0.000000</td>\n",
       "      <td>0.000000</td>\n",
       "      <td>1.928619</td>\n",
       "      <td>676.000000</td>\n",
       "      <td>49.000000</td>\n",
       "    </tr>\n",
       "    <tr>\n",
       "      <th>max</th>\n",
       "      <td>24.980000</td>\n",
       "      <td>18.000000</td>\n",
       "      <td>51.00000</td>\n",
       "      <td>44.000000</td>\n",
       "      <td>1.000000</td>\n",
       "      <td>1.000000</td>\n",
       "      <td>1.000000</td>\n",
       "      <td>6.000000</td>\n",
       "      <td>1.000000</td>\n",
       "      <td>1.000000</td>\n",
       "      <td>...</td>\n",
       "      <td>1.000000</td>\n",
       "      <td>1.000000</td>\n",
       "      <td>1.000000</td>\n",
       "      <td>1.000000</td>\n",
       "      <td>1.000000</td>\n",
       "      <td>1.000000</td>\n",
       "      <td>1.000000</td>\n",
       "      <td>3.218076</td>\n",
       "      <td>2601.000000</td>\n",
       "      <td>1936.000000</td>\n",
       "    </tr>\n",
       "  </tbody>\n",
       "</table>\n",
       "<p>8 rows × 24 columns</p>\n",
       "</div>"
      ],
      "text/plain": [
       "             wage        educ      exper      tenure    nonwhite      female  \\\n",
       "count  526.000000  526.000000  526.00000  526.000000  526.000000  526.000000   \n",
       "mean     5.896103   12.562738   17.01711    5.104563    0.102662    0.479087   \n",
       "std      3.693086    2.769022   13.57216    7.224462    0.303805    0.500038   \n",
       "min      0.530000    0.000000    1.00000    0.000000    0.000000    0.000000   \n",
       "25%      3.330000   12.000000    5.00000    0.000000    0.000000    0.000000   \n",
       "50%      4.650000   12.000000   13.50000    2.000000    0.000000    0.000000   \n",
       "75%      6.880000   14.000000   26.00000    7.000000    0.000000    1.000000   \n",
       "max     24.980000   18.000000   51.00000   44.000000    1.000000    1.000000   \n",
       "\n",
       "          married      numdep        smsa    northcen     ...       \\\n",
       "count  526.000000  526.000000  526.000000  526.000000     ...        \n",
       "mean     0.608365    1.043726    0.722433    0.250951     ...        \n",
       "std      0.488580    1.261891    0.448225    0.433973     ...        \n",
       "min      0.000000    0.000000    0.000000    0.000000     ...        \n",
       "25%      0.000000    0.000000    0.000000    0.000000     ...        \n",
       "50%      1.000000    1.000000    1.000000    0.000000     ...        \n",
       "75%      1.000000    2.000000    1.000000    0.750000     ...        \n",
       "max      1.000000    6.000000    1.000000    1.000000     ...        \n",
       "\n",
       "         trcommpu       trade    services    profserv     profocc     clerocc  \\\n",
       "count  526.000000  526.000000  526.000000  526.000000  526.000000  526.000000   \n",
       "mean     0.043726    0.287072    0.100760    0.258555    0.366920    0.167300   \n",
       "std      0.204680    0.452826    0.301298    0.438257    0.482423    0.373599   \n",
       "min      0.000000    0.000000    0.000000    0.000000    0.000000    0.000000   \n",
       "25%      0.000000    0.000000    0.000000    0.000000    0.000000    0.000000   \n",
       "50%      0.000000    0.000000    0.000000    0.000000    0.000000    0.000000   \n",
       "75%      0.000000    1.000000    0.000000    1.000000    1.000000    0.000000   \n",
       "max      1.000000    1.000000    1.000000    1.000000    1.000000    1.000000   \n",
       "\n",
       "          servocc       lwage      expersq      tenursq  \n",
       "count  526.000000  526.000000   526.000000   526.000000  \n",
       "mean     0.140684    1.623268   473.435361    78.150190  \n",
       "std      0.348027    0.531538   616.044772   199.434664  \n",
       "min      0.000000   -0.634878     1.000000     0.000000  \n",
       "25%      0.000000    1.202972    25.000000     0.000000  \n",
       "50%      0.000000    1.536867   182.500000     4.000000  \n",
       "75%      0.000000    1.928619   676.000000    49.000000  \n",
       "max      1.000000    3.218076  2601.000000  1936.000000  \n",
       "\n",
       "[8 rows x 24 columns]"
      ]
     },
     "execution_count": 27,
     "metadata": {},
     "output_type": "execute_result"
    }
   ],
   "source": [
    "import wooldridge as woo\n",
    "import statsmodels.formula.api as smf\n",
    "import scipy.stats as stats\n",
    "\n",
    "wage1 = woo.dataWoo('wage1')\n",
    "display(wage1.head())\n",
    "display(wage1.tail())\n",
    "wage1.describe()"
   ]
  },
  {
   "cell_type": "markdown",
   "metadata": {
    "slideshow": {
     "slide_type": "slide"
    }
   },
   "source": [
    "**A Single Dummy Independent Variable**\n",
    "\n",
    "- How do we incorporate binary information into regression models?\n",
    "- In the simplest case, with only a single dummy explanatory variable, we just add it as an independent variable in the equation.\n",
    "- For example, consider the following simple model of hourly wage determination:\n",
    "\n",
    "\\begin{equation*}\n",
    "wage=\\beta_0+\\delta_0female+\\beta_1educ+u\n",
    "\\end{equation*}\n",
    "\n",
    "- In this model, only two observed factors affect wage: _gender_ and _education_.\n",
    "- Because _female=1_ when the person is female, and _female=0_ when the person is male, the parameter $\\delta$ has the following interpretation: $\\delta_0$ is the difference in hourly wage between females and males, given the same amount of education (and the same error term $u$).\n",
    "- Thus, the coefficient $\\delta_0$ determines whether there is discrimination against women: if $\\delta_0<0$, then for the same level of other factors, women earn less than men on average.\n"
   ]
  },
  {
   "cell_type": "markdown",
   "metadata": {
    "slideshow": {
     "slide_type": "slide"
    }
   },
   "source": [
    "**A Single Dummy Independent Variable**\n",
    "\n",
    "- In terms of expectations, if we assume the zero conditional mean assumption $E(u|femal, educ)=0$, then \n",
    "\n",
    "\\begin{equation*}\n",
    "\\delta_0=E(wage|female=1,edu)-E(wage|female=0, educ)\n",
    "\\end{equation*}\n",
    "\n",
    "- Because $female=1$ correspnds to females and $female=0$ corresponds to males, we can write this more simply as\n",
    "\n",
    "\\begin{equation*}\n",
    "\\delta_0=E(wage|female,edu)-E(wage|male, educ)\n",
    "\\end{equation*}\n",
    "\n",
    "- The key here is that the level of education is the same in both expectations; the difference, $\\delta_0$, is due to gender only.\n",
    "- The situation can be depicted graphically as an **intercept shift** between males and females.\n",
    "- In the next figure the case $\\delta_0<0$ is shown, so that men earn a fixed amount more per hour than women.\n",
    "- The difference does not depend on the amount of education, and this explains why the wage-education profiles for women and men are parallel.\n",
    "\n"
   ]
  },
  {
   "cell_type": "markdown",
   "metadata": {
    "slideshow": {
     "slide_type": "slide"
    }
   },
   "source": [
    "**Graph of $wage=\\beta_0+\\delta_0female+\\beta_1educ$ for $\\delta_0<0$**\n",
    "\n",
    "<br>  \n",
    "\n",
    "\n",
    "<center><img src=\"figs/wool_7_1.png\" width=\"500\"/> \n",
    "    \n",
    "\n",
    "<p>"
   ]
  },
  {
   "cell_type": "markdown",
   "metadata": {
    "slideshow": {
     "slide_type": "slide"
    }
   },
   "source": [
    "But why we do not also include a dummy variable, say male, which is one for males and zero for females?\n"
   ]
  },
  {
   "cell_type": "markdown",
   "metadata": {
    "slideshow": {
     "slide_type": "slide"
    }
   },
   "source": [
    "- This would be redundant: The intercept for males is $\\beta_0$, and the intercept for females is $\\beta_0+\\delta_0$.\n",
    "- Because there are just two groups, we only need two different intercepts.\n",
    "- This means that, in addition to $\\beta_0$, we need to use only one dummy variable; we have chosen to include the dummy variable for females.\n",
    "- Using two dummy variables would introduce perfect collinearity because _female+male=1_, which means that male is a perfect linear function of female.\n",
    "- Including dummy variables for both genders is the simplest example of the so-called **dummy variable trap**, which arises when too many dummy variables describe a given number of groups.\n",
    "- In the example we have chosen _males_ to be the **base group** or **benchmark group**, that is, the group against which comparisons are made.\n",
    "- This is why $\\beta_0$ is the intercept for males, and $\\delta_0$ is the difference in intercepts between females and males.\n"
   ]
  },
  {
   "cell_type": "markdown",
   "metadata": {
    "slideshow": {
     "slide_type": "slide"
    }
   },
   "source": [
    "- We could choose males as the base group by writing the model as\n",
    "\n",
    "\\begin{equation*}\n",
    "wage=\\alpha_0+\\gamma_0male+\\beta_1educ+u\n",
    "\\end{equation*},\n",
    "\n",
    "where the intercept for females is $\\beta_0$ and the intercept for males is $\\alpha_0+\\gamma_0$\n",
    "- In any application, it does not matter how we choose the base group, but it is important to keep track of which group is the base group."
   ]
  },
  {
   "cell_type": "markdown",
   "metadata": {
    "slideshow": {
     "slide_type": "slide"
    }
   },
   "source": [
    "**Describing Qualitative Information**\n",
    "\n",
    "- The qualitative variables in the _wage_ dataset are already coded as binary variables\n",
    "- This is not always the case, sometimes they are also coded as **boolean variables** (with values `True` and `False`)\n",
    "- Sometimes there are also coded as string variables \n",
    "- However, you can easily switch back and forth between data types:"
   ]
  },
  {
   "cell_type": "code",
   "execution_count": 29,
   "metadata": {
    "slideshow": {
     "slide_type": "slide"
    }
   },
   "outputs": [
    {
     "name": "stdout",
     "output_type": "stream",
     "text": [
      "wage        float64\n",
      "educ          int64\n",
      "exper         int64\n",
      "tenure        int64\n",
      "nonwhite      int64\n",
      "female        int64\n",
      "married       int64\n",
      "numdep        int64\n",
      "smsa          int64\n",
      "northcen      int64\n",
      "south         int64\n",
      "west          int64\n",
      "construc      int64\n",
      "ndurman       int64\n",
      "trcommpu      int64\n",
      "trade         int64\n",
      "services      int64\n",
      "profserv      int64\n",
      "profocc       int64\n",
      "clerocc       int64\n",
      "servocc       int64\n",
      "lwage       float64\n",
      "expersq       int64\n",
      "tenursq       int64\n",
      "female1        bool\n",
      "female2       int32\n",
      "female3      object\n",
      "female4      object\n",
      "female5        bool\n",
      "dtype: object\n"
     ]
    }
   ],
   "source": [
    "import wooldridge as woo\n",
    "import statsmodels.formula.api as smf\n",
    "import scipy.stats as stats\n",
    "import pandas as pd\n",
    "\n",
    "wage1 = woo.dataWoo('wage1')\n",
    "\n",
    "#transform female into boolean variable\n",
    "wage1['female1'] = wage1['female'].astype('bool') \n",
    "\n",
    "#transform female back into integer variable\n",
    "wage1['female2'] = wage1['female'].astype('int')\n",
    "\n",
    "#transform female into string variable (or object as done by pandas)\n",
    "wage1['female3'] = wage1['female1'].astype('str')\n",
    "\n",
    "#replace bolean values\n",
    "wage1['female4'] = wage1['female3']\n",
    "wage1[\"female4\"] = wage1[\"female4\"].replace(\"True\", \"female\")\n",
    "wage1[\"female4\"] = wage1[\"female4\"].replace(\"False\", \"male\")\n",
    "\n",
    "#transform string variable into boolean variable\n",
    "wage1['female5']= wage1['female4']=='female'\n",
    "\n",
    "\n",
    "#display(wage1.head())\n",
    "#display(wage1.tail())\n",
    "\n",
    "print(wage1.dtypes)"
   ]
  },
  {
   "cell_type": "markdown",
   "metadata": {
    "slideshow": {
     "slide_type": "slide"
    }
   },
   "source": [
    "**Describing Qualitative Information**\n",
    "\n",
    "- Instead of transforming Boolean variables into dummies, they can be directly used as regressors.\n",
    "- The coefficient is then named `varname[T.True]` indicating that `True` was treated as 1."
   ]
  },
  {
   "cell_type": "code",
   "execution_count": 31,
   "metadata": {
    "slideshow": {
     "slide_type": "slide"
    }
   },
   "outputs": [
    {
     "name": "stdout",
     "output_type": "stream",
     "text": [
      "results.summary(): \n",
      "                            OLS Regression Results                            \n",
      "==============================================================================\n",
      "Dep. Variable:                   wage   R-squared:                       0.259\n",
      "Model:                            OLS   Adj. R-squared:                  0.256\n",
      "Method:                 Least Squares   F-statistic:                     91.32\n",
      "Date:                Wed, 15 Sep 2021   Prob (F-statistic):           9.66e-35\n",
      "Time:                        11:18:43   Log-Likelihood:                -1354.3\n",
      "No. Observations:                 526   AIC:                             2715.\n",
      "Df Residuals:                     523   BIC:                             2727.\n",
      "Df Model:                           2                                         \n",
      "Covariance Type:            nonrobust                                         \n",
      "==============================================================================\n",
      "                 coef    std err          t      P>|t|      [0.025      0.975]\n",
      "------------------------------------------------------------------------------\n",
      "Intercept      0.6228      0.673      0.926      0.355      -0.698       1.944\n",
      "female        -2.2734      0.279     -8.147      0.000      -2.822      -1.725\n",
      "educ           0.5065      0.050     10.051      0.000       0.407       0.605\n",
      "==============================================================================\n",
      "Omnibus:                      205.985   Durbin-Watson:                   1.830\n",
      "Prob(Omnibus):                  0.000   Jarque-Bera (JB):              819.498\n",
      "Skew:                           1.772   Prob(JB):                    1.12e-178\n",
      "Kurtosis:                       7.984   Cond. No.                         63.2\n",
      "==============================================================================\n",
      "\n",
      "Warnings:\n",
      "[1] Standard Errors assume that the covariance matrix of the errors is correctly specified.\n",
      "\n",
      "results2.summary(): \n",
      "                            OLS Regression Results                            \n",
      "==============================================================================\n",
      "Dep. Variable:                   wage   R-squared:                       0.259\n",
      "Model:                            OLS   Adj. R-squared:                  0.256\n",
      "Method:                 Least Squares   F-statistic:                     91.32\n",
      "Date:                Wed, 15 Sep 2021   Prob (F-statistic):           9.66e-35\n",
      "Time:                        11:18:43   Log-Likelihood:                -1354.3\n",
      "No. Observations:                 526   AIC:                             2715.\n",
      "Df Residuals:                     523   BIC:                             2727.\n",
      "Df Model:                           2                                         \n",
      "Covariance Type:            nonrobust                                         \n",
      "===================================================================================\n",
      "                      coef    std err          t      P>|t|      [0.025      0.975]\n",
      "-----------------------------------------------------------------------------------\n",
      "Intercept           0.6228      0.673      0.926      0.355      -0.698       1.944\n",
      "female1[T.True]    -2.2734      0.279     -8.147      0.000      -2.822      -1.725\n",
      "educ                0.5065      0.050     10.051      0.000       0.407       0.605\n",
      "==============================================================================\n",
      "Omnibus:                      205.985   Durbin-Watson:                   1.830\n",
      "Prob(Omnibus):                  0.000   Jarque-Bera (JB):              819.498\n",
      "Skew:                           1.772   Prob(JB):                    1.12e-178\n",
      "Kurtosis:                       7.984   Cond. No.                         63.2\n",
      "==============================================================================\n",
      "\n",
      "Warnings:\n",
      "[1] Standard Errors assume that the covariance matrix of the errors is correctly specified.\n",
      "\n"
     ]
    }
   ],
   "source": [
    "import wooldridge as woo\n",
    "import statsmodels.formula.api as smf\n",
    "import scipy.stats as stats\n",
    "import pandas as pd\n",
    "\n",
    "wage1 = woo.dataWoo('wage1')\n",
    "\n",
    "reg = smf.ols(formula='wage ~ female + educ', data=wage1)\n",
    "results = reg.fit()\n",
    "\n",
    "print(f'results.summary(): \\n{results.summary()}\\n')\n",
    "\n",
    "#transform female into boolean variable\n",
    "wage1['female1'] = wage1['female'].astype('bool')\n",
    "\n",
    "reg = smf.ols(formula='wage ~ female1 + educ', data=wage1)\n",
    "results2 = reg.fit()\n",
    "\n",
    "print(f'results2.summary(): \\n{results2.summary()}\\n')"
   ]
  },
  {
   "cell_type": "code",
   "execution_count": 32,
   "metadata": {
    "slideshow": {
     "slide_type": "slide"
    }
   },
   "outputs": [
    {
     "data": {
      "text/plain": [
       "[<matplotlib.lines.Line2D at 0x1a3c67969e8>]"
      ]
     },
     "execution_count": 32,
     "metadata": {},
     "output_type": "execute_result"
    },
    {
     "data": {
      "image/png": "[encoded data removed]",
      "text/plain": [
       "<Figure size 432x288 with 1 Axes>"
      ]
     },
     "metadata": {
      "needs_background": "light"
     },
     "output_type": "display_data"
    }
   ],
   "source": [
    "import pandas as pd\n",
    "import numpy as np\n",
    "import statsmodels.api as sm\n",
    "import matplotlib.pyplot as plt\n",
    "\n",
    "\n",
    "plt.scatter(wage1.educ, wage1.wage, alpha=0.3)\n",
    "plt.xlabel('educ')\n",
    "plt.ylabel('wage')\n",
    "results3 = smf.ols(formula='wage ~ educ + female', data=wage1).fit()\n",
    "plt.plot(wage1.educ, results3.params[0] + results3.params[1] * wage1.educ + results3.params[2] * 0, 'r')\n",
    "plt.plot(wage1.educ, results3.params[0] + results3.params[1] * wage1.educ + results3.params[2] * 1, 'g')\n",
    "#print(f'results3.summary(): \\n{results3.summary()}\\n')"
   ]
  },
  {
   "cell_type": "markdown",
   "metadata": {
    "slideshow": {
     "slide_type": "slide"
    }
   },
   "source": [
    "\n"
   ]
  },
  {
   "cell_type": "markdown",
   "metadata": {
    "slideshow": {
     "slide_type": "slide"
    }
   },
   "source": [
    "**Allowing for Different Slopes**\n",
    "\n",
    "- Notice that the two lines are parallel:\n",
    "    - This is because the categorical variable affects only the intercept and not the slope (which is a function of education).\n",
    "\n",
    "- Suppose now that we wish to test whether the return to education is the same for men and women\n",
    "\n",
    "- How can we do this?\n",
    "\n",
    "\n",
    "\n"
   ]
  },
  {
   "cell_type": "markdown",
   "metadata": {
    "slideshow": {
     "slide_type": "slide"
    }
   },
   "source": [
    "**Allowing for Different Slopes**\n",
    "\n",
    "- Suppose now that we wish to test whether the return to education is the same for men and women\n",
    "\n",
    "- We can then include an interaction term to explore the effect of an interaction between the two — i.e. we let the slope vary by gender.\n",
    "\n",
    "    - The `*` in the formula means that we want the interaction term AND in addition each term separately (called main- or baseline-effect).\n",
    "    - If you want to include just an interaction, use `:` instead.\n",
    "        - This is generally avoided in analysis because it is almost always the case that, if a variable is important due to an interaction, it should have an effect by itself.\n",
    "        - In the wage example for instance, it is likely that there is a constant wage differential between men and women and in addition a difference in the return to education (different slopes for return to education for men and women)"
   ]
  },
  {
   "cell_type": "markdown",
   "metadata": {
    "slideshow": {
     "slide_type": "slide"
    }
   },
   "source": [
    "- Consider the model\n",
    "\n",
    "\\begin{equation*}\n",
    "log(wage)=\\beta_0+\\delta_0female+\\beta_1educ+\\delta_1female \\cdot educ+u\n",
    "\\end{equation*}\n",
    "\n",
    "- To summarize what is happening here:\n",
    "\n",
    "    - If we include the category variables without interactions we have two lines, one for `female == 1` and one for `female == 0`, with all having the same slope but different intercepts.\n",
    "    - If we include the interactions, now each of the lines can have a different slope.\n",
    "    - This captures the effect that variation in income may be different for people who have a good education and people who don't.\n",
    "\n",
    "\n",
    "\n",
    "- If we plug _female_=0 into the equation, then we find that the intercept for _males_ is $\\beta_0$, and the slope on\n",
    "_education_ for _males_ is $\\beta_1$.\n",
    "\n",
    "- For females, we plug in _female_=1; thus, the intercept for females is $\\beta_0+\\delta_0$,  and the slope is $\\beta_1+\\delta_1$.\n",
    "- Therefore, $\\delta_0$ measures the difference in intercepts between women and men, and $\\delta_1$ measures the difference in the return to education between women and men.\n"
   ]
  },
  {
   "cell_type": "markdown",
   "metadata": {
    "slideshow": {
     "slide_type": "skip"
    }
   },
   "source": [
    "**Graphs of the wage equation with interactions of _female_ and _educ_: (a)$\\delta_0<0,\\delta_1<0$;  (b)$\\delta_0<0,\\delta_1>0$**\n",
    "\n",
    "\n",
    "<br>  \n",
    "\n",
    "\n",
    "<center><img src=\"figs/wool_7_2.png\" width=\"500\"/> \n",
    "    \n",
    "\n",
    "<p>"
   ]
  },
  {
   "cell_type": "markdown",
   "metadata": {
    "slideshow": {
     "slide_type": "slide"
    }
   },
   "source": [
    "**Allowing for Different Slopes**\n",
    "\n",
    "- Graph (a) shows the case where the intercept for women is below that for men, and the slope of the line is smaller for women than for men.\n",
    "- This means that women earn less than men at all levels of education, and the gap increases as educ gets larger.\n",
    "- In graph (b), the intercept for women is below that for men, but the slope on education is larger for women.\n",
    "- This means that women earn less than men at low levels of education, but the gap narrows as education increases.\n",
    "- At some point, a woman earns more than a man with the same level of education, and this amount of education is easily found once we have the estimated equation.\n",
    "- How can we estimate such a model?\n",
    "- To apply OLS, we must write the model with an interaction between female and educ:\n",
    "\n",
    "\\begin{equation*}\n",
    "log(wage)=(\\beta_0+\\delta_0female)+(\\beta_1+\\delta_1female)\\cdot educ+u\n",
    "\\end{equation*}\n",
    "\n",
    "- Basically, this allows us to test the hypothesis that average wages are identical for men and women and the hypothesis that the return to education is the same for men and women."
   ]
  },
  {
   "cell_type": "code",
   "execution_count": 180,
   "metadata": {
    "scrolled": true,
    "slideshow": {
     "slide_type": "slide"
    }
   },
   "outputs": [
    {
     "name": "stdout",
     "output_type": "stream",
     "text": [
      "results_slope.summary(): \n",
      "                            OLS Regression Results                            \n",
      "==============================================================================\n",
      "Dep. Variable:                   wage   R-squared:                       0.260\n",
      "Model:                            OLS   Adj. R-squared:                  0.256\n",
      "Method:                 Least Squares   F-statistic:                     61.07\n",
      "Date:                Wed, 16 Sep 2020   Prob (F-statistic):           7.44e-34\n",
      "Time:                        00:24:02   Log-Likelihood:                -1353.9\n",
      "No. Observations:                 526   AIC:                             2716.\n",
      "Df Residuals:                     522   BIC:                             2733.\n",
      "Df Model:                           3                                         \n",
      "Covariance Type:            nonrobust                                         \n",
      "===============================================================================\n",
      "                  coef    std err          t      P>|t|      [0.025      0.975]\n",
      "-------------------------------------------------------------------------------\n",
      "Intercept       0.2005      0.844      0.238      0.812      -1.457       1.858\n",
      "female         -1.1985      1.325     -0.905      0.366      -3.802       1.405\n",
      "educ            0.5395      0.064      8.400      0.000       0.413       0.666\n",
      "female:educ    -0.0860      0.104     -0.830      0.407      -0.290       0.118\n",
      "==============================================================================\n",
      "Omnibus:                      206.193   Durbin-Watson:                   1.826\n",
      "Prob(Omnibus):                  0.000   Jarque-Bera (JB):              828.018\n",
      "Skew:                           1.769   Prob(JB):                    1.58e-180\n",
      "Kurtosis:                       8.026   Cond. No.                         152.\n",
      "==============================================================================\n",
      "\n",
      "Warnings:\n",
      "[1] Standard Errors assume that the covariance matrix of the errors is correctly specified.\n",
      "\n"
     ]
    },
    {
     "data": {
      "text/plain": [
       "count    526.000000\n",
       "mean       5.896103\n",
       "std        3.693086\n",
       "min        0.530000\n",
       "25%        3.330000\n",
       "50%        4.650000\n",
       "75%        6.880000\n",
       "max       24.980000\n",
       "Name: wage, dtype: float64"
      ]
     },
     "execution_count": 180,
     "metadata": {},
     "output_type": "execute_result"
    }
   ],
   "source": [
    "import wooldridge as woo\n",
    "import statsmodels.formula.api as smf\n",
    "import scipy.stats as stats\n",
    "import pandas as pd\n",
    "import matplotlib.pyplot as plt\n",
    "\n",
    "wage1 = woo.dataWoo('wage1')\n",
    "\n",
    "\n",
    "reg = smf.ols(formula='wage ~ female*educ', data=wage1)\n",
    "results_slope=reg.fit()\n",
    "\n",
    "print(f'results_slope.summary(): \\n{results_slope.summary()}\\n')\n",
    "\n",
    "wage1['wage'].describe()"
   ]
  },
  {
   "cell_type": "code",
   "execution_count": 171,
   "metadata": {
    "slideshow": {
     "slide_type": "slide"
    }
   },
   "outputs": [
    {
     "data": {
      "text/plain": [
       "[<matplotlib.lines.Line2D at 0x13fb65dfb70>]"
      ]
     },
     "execution_count": 171,
     "metadata": {},
     "output_type": "execute_result"
    },
    {
     "data": {
      "image/png": "[encoded data removed]",
      "text/plain": [
       "<Figure size 432x288 with 1 Axes>"
      ]
     },
     "metadata": {
      "needs_background": "light"
     },
     "output_type": "display_data"
    }
   ],
   "source": [
    "import wooldridge as woo\n",
    "import statsmodels.formula.api as smf\n",
    "import scipy.stats as stats\n",
    "import pandas as pd\n",
    "import matplotlib.pyplot as plt\n",
    "\n",
    "plt.scatter(wage1.educ, wage1.wage, alpha=0.3)\n",
    "plt.xlabel('educ')\n",
    "plt.ylabel('wage')\n",
    "\n",
    "plt.plot(wage1.educ, results_slope.params[0] + results_slope.params[1] * 0 + results_slope.params[2] * wage1.educ + results_slope.params[3] * 0 * wage1.educ, 'r')\n",
    "plt.plot(wage1.educ, results_slope.params[0] + results_slope.params[1] * 1 + results_slope.params[2] * wage1.educ + results_slope.params[3] * 1 * wage1.educ, 'g')"
   ]
  },
  {
   "cell_type": "markdown",
   "metadata": {
    "slideshow": {
     "slide_type": "slide"
    }
   },
   "source": [
    "**Describing Qualitative Information**\n",
    "\n",
    "- While qualitative variables with more than two outcomes can be represented by a set of dummy variables, the more natural and convenient way to do this are categorical variables.\n",
    "- In real-world data sets, qualitative information is often not readily coded as logical or dummy variables, so we might want to create our own regressors.\n",
    "- Suppose a qualitative variable saved as the numpy array OS takes one of the three string values \"Android\", \"iOS\", \"Windows\" or \"other\".\n",
    "- We can manually define the three relevant logical variables with \"Android\" as the reference category with\n",
    "\n",
    "```python\n",
    "iOS  = OS=='iOS'\n",
    "wind = OS=='Windows'\n",
    "oth  = OS=='other'\n",
    "```\n",
    "\n",
    "\n",
    "- A more convenient and elegant way to deal with qualitative variables are categorical variables discussed next."
   ]
  },
  {
   "cell_type": "markdown",
   "metadata": {
    "slideshow": {
     "slide_type": "slide"
    }
   },
   "source": [
    "**Categorical Variables**\n",
    "\n",
    "\n",
    "- We have introduced categorical variables of type `Categorical` in the _Introduction to Python_ part earlier this week.\n",
    "- They take one of a given set of outcomes which can be labeled arbitrarily.\n",
    "- This makes them the natural variable type to store qualitative information.\n",
    "- In a linear regression performed by `statsmodels` we can easily transform any variable into a categorical variable using the function `C` in the definition of the formula.\n",
    "- The function `ols` is clever enough to implicitly add _g — 1_ dummy variables if the variable has _g_ outcomes.\n",
    "- As a reference category, the first category is left out by default.\n"
   ]
  },
  {
   "cell_type": "markdown",
   "metadata": {
    "slideshow": {
     "slide_type": "slide"
    }
   },
   "source": [
    "**Categorical Variables**\n",
    "\n",
    "- Let's illustrate this using the data set `CPS1985`.\n",
    "- This data set is similar to the one used in our earlier example in that it contains wage and other data for 534 individuals.\n",
    "- The frequency tables for the two variables _gender_ and _occupation_ are shown in the output.\n",
    "- The variable _gender_ has two categories _male_ and _female_.\n",
    "- The variable _occupation_ has six categories.\n",
    "- In the output, the coefficients are labeled with a combination of the variable and category name.\n",
    "- As an example, the estimated coefficient of 0.224 for `C(gender) [T.male]` in `results` implies that men make about 22.4% more than women who are the same in terms of the other regressors.\n",
    "- Employees in technical positions earn around 1% (see coefficient of `C(occupation)[T.technical]`) less than otherwise equal management positions (who are the reference category).\n",
    "- We can choose different reference categories using a second argument of the `C` command, where we provide a new reference group `somegroup` with the command `Treatment('somegroup')`.\n",
    "- In the specification `results_newref`, we choose _male_ and _technical_.\n",
    "- When we rerun the same regression command, we see the expected results:\n",
    "    - Variables like _education_ and _experience_ get the same coefficients.\n",
    "    - The dummy variable for females gets the negative of what the males got previously.\n",
    "- Obviously, it is equivalent to say \"female log wages are lower by 0.224\" and \"male log wages are higher by 0.224\".\n",
    "- The coefficients for the occupation are now relative to _technical_.\n",
    "- From the first regression we already knew that technical positions make 1% less than managers, so it is not surprising that in the second regression we find that managers make 1% more than technical positions.\n",
    "- The other occupation coefficients are higher by 0.010085 implying the same relative comparisons as in the first specification."
   ]
  },
  {
   "cell_type": "code",
   "execution_count": 27,
   "metadata": {
    "slideshow": {
     "slide_type": "slide"
    }
   },
   "outputs": [
    {
     "name": "stdout",
     "output_type": "stream",
     "text": [
      "freq_gender: \n",
      "col_0   count\n",
      "gender       \n",
      "female    245\n",
      "male      289\n",
      "\n",
      "freq_occupation: \n",
      "col_0       count\n",
      "oc               \n",
      "management     55\n",
      "office         97\n",
      "sales          38\n",
      "services       83\n",
      "technical     105\n",
      "worker        156\n",
      "\n",
      "table: \n",
      "                         b      se       t    pval\n",
      "Intercept           0.9050  0.1717  5.2718  0.0000\n",
      "C(gender)[T.male]   0.2238  0.0423  5.2979  0.0000\n",
      "C(oc)[T.office]    -0.2073  0.0776 -2.6699  0.0078\n",
      "C(oc)[T.sales]     -0.3601  0.0936 -3.8455  0.0001\n",
      "C(oc)[T.services]  -0.3626  0.0818 -4.4305  0.0000\n",
      "C(oc)[T.technical] -0.0101  0.0740 -0.1363  0.8916\n",
      "C(oc)[T.worker]    -0.1525  0.0763 -1.9981  0.0462\n",
      "education           0.0759  0.0101  7.5449  0.0000\n",
      "experience          0.0119  0.0017  7.0895  0.0000\n",
      "\n",
      "table_newref: \n",
      "                                                  b      se       t    pval\n",
      "Intercept                                    1.1187  0.1765  6.3393  0.0000\n",
      "C(gender, Treatment(\"male\"))[T.female]      -0.2238  0.0423 -5.2979  0.0000\n",
      "C(oc, Treatment(\"technical\"))[T.management]  0.0101  0.0740  0.1363  0.8916\n",
      "C(oc, Treatment(\"technical\"))[T.office]     -0.1972  0.0678 -2.9082  0.0038\n",
      "C(oc, Treatment(\"technical\"))[T.sales]      -0.3500  0.0863 -4.0541  0.0001\n",
      "C(oc, Treatment(\"technical\"))[T.services]   -0.3525  0.0750 -4.7030  0.0000\n",
      "C(oc, Treatment(\"technical\"))[T.worker]     -0.1425  0.0705 -2.0218  0.0437\n",
      "education                                    0.0759  0.0101  7.5449  0.0000\n",
      "experience                                   0.0119  0.0017  7.0895  0.0000\n",
      "\n"
     ]
    }
   ],
   "source": []
  },
  {
   "cell_type": "markdown",
   "metadata": {
    "slideshow": {
     "slide_type": "slide"
    }
   },
   "source": [
    "**Breaking a Numeric Variable Into Categories**\n",
    "\n",
    "- Sometimes, we do not use a numeric variable directly in a regression model because the implied linear relation seems implausible or inconvenient to interpret.\n",
    "- As an alternative to working with transformations such as logs and quadratic terms, it sometimes makes sense to estimate different levels for different ranges of the variable.\n",
    "- Let's consider the example of a ranking of a law school and how it relates to the starting salary of its graduates.\n",
    "- Given a numeric variable, we need to generate a categorical variable to represent the range into which the rank of a school falls.\n",
    "- In _Python_, the command `cut` from `pandas` is very convenient for this.\n",
    "- It takes a numeric variable and a list of cut points and returns a categorical variable.\n",
    "- By default, the upper cut points are included in the corresponding range."
   ]
  },
  {
   "cell_type": "markdown",
   "metadata": {
    "slideshow": {
     "slide_type": "slide"
    }
   },
   "source": [
    "**Example: Effects of Law School Rankings on Starting Salaries**\n",
    "\n",
    "- The variable _rank_ of the data set `LAWSCH85` is the rank of the law school as a number between 1 and 175.\n",
    "- We would like to compare schools in the top 10, ranks 11-25, 26-40, 41-60, and 61-100 to the reference group of ranks above 100. So, we store the cut points 0, 10, 25, 40, 60, 100, and 175 in a variable _cutpts_.\n",
    "- In the data frame _lawsch85_, we create our new variable _rc_ using the `cut` command.\n",
    "- We specify the top 10 schools as the last category.\n",
    "- It is chosen with the second argument of the `C` command.\n",
    "- The regression results imply that graduates from the top 10 schools collect a starting salary which is around 70% higher than those of the schools below rank 100.\n",
    "- In fact: this approximation is inaccurate with these large numbers and the coefficient of 0.7 actually implies a difference of exp(0.7)-1=1.013 or 101.3%.\n"
   ]
  },
  {
   "cell_type": "code",
   "execution_count": 18,
   "metadata": {
    "slideshow": {
     "slide_type": "slide"
    }
   },
   "outputs": [
    {
     "name": "stdout",
     "output_type": "stream",
     "text": [
      "freq: \n",
      "col_0      count\n",
      "rc              \n",
      "(0,10]        10\n",
      "(10,25]       16\n",
      "(25,40]       13\n",
      "(40,60]       18\n",
      "(60,100]      37\n",
      "(100,175]     62\n",
      "\n",
      "table_reg: \n",
      "                                                b      se        t    pval\n",
      "Intercept                                  9.1653  0.4114  22.2770  0.0000\n",
      "C(rc, Treatment(\"(100,175]\"))[T.(0,10]]    0.6996  0.0535  13.0780  0.0000\n",
      "C(rc, Treatment(\"(100,175]\"))[T.(10,25]]   0.5935  0.0394  15.0493  0.0000\n",
      "C(rc, Treatment(\"(100,175]\"))[T.(25,40]]   0.3751  0.0341  11.0054  0.0000\n",
      "C(rc, Treatment(\"(100,175]\"))[T.(40,60]]   0.2628  0.0280   9.3991  0.0000\n",
      "C(rc, Treatment(\"(100,175]\"))[T.(60,100]]  0.1316  0.0210   6.2540  0.0000\n",
      "LSAT                                       0.0057  0.0031   1.8579  0.0655\n",
      "GPA                                        0.0137  0.0742   0.1850  0.8535\n",
      "np.log(libvol)                             0.0364  0.0260   1.3976  0.1647\n",
      "np.log(cost)                               0.0008  0.0251   0.0335  0.9734\n",
      "\n"
     ]
    }
   ],
   "source": [
    "import wooldridge as woo\n",
    "import numpy as np\n",
    "import pandas as pd\n",
    "import statsmodels.api as sm\n",
    "import statsmodels.formula.api as smf\n",
    "\n",
    "lawsch85 = woo.dataWoo('lawsch85')\n",
    "\n",
    "# define cut points for the rank:\n",
    "cutpts = [0, 10, 25, 40, 60, 100, 175]\n",
    "\n",
    "# create categorical variable containing ranges for the rank:\n",
    "lawsch85['rc'] = pd.cut(lawsch85['rank'], bins=cutpts,\n",
    "                        labels=['(0,10]', '(10,25]', '(25,40]',\n",
    "                                '(40,60]', '(60,100]', '(100,175]'])\n",
    "\n",
    "# display frequencies:\n",
    "freq = pd.crosstab(lawsch85['rc'], columns='count')\n",
    "print(f'freq: \\n{freq}\\n')\n",
    "\n",
    "# run regression:\n",
    "reg = smf.ols(formula='np.log(salary) ~ C(rc, Treatment(\"(100,175]\")) +'\n",
    "                      'LSAT + GPA + np.log(libvol) + np.log(cost)',\n",
    "              data=lawsch85)\n",
    "results = reg.fit()\n",
    "\n",
    "# print regression table:\n",
    "table_reg = pd.DataFrame({'b': round(results.params, 4),\n",
    "                          'se': round(results.bse, 4),\n",
    "                          't': round(results.tvalues, 4),\n",
    "                          'pval': round(results.pvalues, 4)})\n",
    "print(f'table_reg: \\n{table_reg}\\n')"
   ]
  },
  {
   "cell_type": "markdown",
   "metadata": {
    "slideshow": {
     "slide_type": "slide"
    }
   },
   "source": [
    "**Interactions and Differences in Regression Functions Across\n",
    "Groups**\n",
    "\n",
    "- Dummy and categorical variables can be interacted just like any other variable.\n",
    "- Let's now add an interaction term between _female_ and _married_\n",
    "- This allows a marriage premium to depend on gender.\n",
    "- This model also allows us to obtain the estimated wage differential among all four groups, but here we must be careful to plug in the correct combination of zeros and ones.\n",
    "- Setting $female=0$ and $married=0$ corresponds to the group single men, which is the base group, since this eliminates $female$, $married$, and $female\\cdot married$.\n",
    "- We can find the intercept for married men by setting $female=0$ and $married=1$ for instance.\n"
   ]
  },
  {
   "cell_type": "code",
   "execution_count": 35,
   "metadata": {
    "slideshow": {
     "slide_type": "slide"
    }
   },
   "outputs": [
    {
     "name": "stdout",
     "output_type": "stream",
     "text": [
      "results.summary(): \n",
      "                            OLS Regression Results                            \n",
      "==============================================================================\n",
      "Dep. Variable:           np.log(wage)   R-squared:                       0.424\n",
      "Model:                            OLS   Adj. R-squared:                  0.417\n",
      "Method:                 Least Squares   F-statistic:                     63.63\n",
      "Date:                Wed, 15 Sep 2021   Prob (F-statistic):           4.53e-59\n",
      "Time:                        14:02:08   Log-Likelihood:                -268.44\n",
      "No. Observations:                 526   AIC:                             550.9\n",
      "Df Residuals:                     519   BIC:                             580.7\n",
      "Df Model:                           6                                         \n",
      "Covariance Type:            nonrobust                                         \n",
      "==================================================================================\n",
      "                     coef    std err          t      P>|t|      [0.025      0.975]\n",
      "----------------------------------------------------------------------------------\n",
      "Intercept          0.3878      0.102      3.790      0.000       0.187       0.589\n",
      "female            -0.0967      0.057     -1.684      0.093      -0.210       0.016\n",
      "married            0.2921      0.055      5.273      0.000       0.183       0.401\n",
      "female:married    -0.3156      0.074     -4.266      0.000      -0.461      -0.170\n",
      "educ               0.0835      0.007     12.175      0.000       0.070       0.097\n",
      "exper              0.0032      0.002      1.912      0.056   -8.74e-05       0.006\n",
      "tenure             0.0157      0.003      5.370      0.000       0.010       0.021\n",
      "==============================================================================\n",
      "Omnibus:                       14.767   Durbin-Watson:                   1.774\n",
      "Prob(Omnibus):                  0.001   Jarque-Bera (JB):               29.522\n",
      "Skew:                           0.071   Prob(JB):                     3.88e-07\n",
      "Kurtosis:                       4.152   Cond. No.                         160.\n",
      "==============================================================================\n",
      "\n",
      "Warnings:\n",
      "[1] Standard Errors assume that the covariance matrix of the errors is correctly specified.\n",
      "\n"
     ]
    }
   ],
   "source": [
    "import wooldridge as woo\n",
    "import statsmodels.formula.api as smf\n",
    "import scipy.stats as stats\n",
    "import pandas as pd\n",
    "import numpy as np\n",
    "\n",
    "wage1 = woo.dataWoo('wage1')\n",
    "\n",
    "reg = smf.ols(formula='np.log(wage) ~ female*married + educ + exper + tenure', data=wage1)\n",
    "results = reg.fit()\n",
    "\n",
    "print(f'results.summary(): \\n{results.summary()}\\n')"
   ]
  }
 ],
 "metadata": {
  "celltoolbar": "Slideshow",
  "kernelspec": {
   "display_name": "Python 3",
   "language": "python",
   "name": "python3"
  },
  "language_info": {
   "codemirror_mode": {
    "name": "ipython",
    "version": 3
   },
   "file_extension": ".py",
   "mimetype": "text/x-python",
   "name": "python",
   "nbconvert_exporter": "python",
   "pygments_lexer": "ipython3",
   "version": "3.7.1"
  },
  "toc": {
   "base_numbering": 1,
   "nav_menu": {},
   "number_sections": false,
   "sideBar": true,
   "skip_h1_title": false,
   "title_cell": "Table of Contents",
   "title_sidebar": "Contents",
   "toc_cell": false,
   "toc_position": {},
   "toc_section_display": true,
   "toc_window_display": false
  },
  "varInspector": {
   "cols": {
    "lenName": 16,
    "lenType": 16,
    "lenVar": 40
   },
   "kernels_config": {
    "python": {
     "delete_cmd_postfix": "",
     "delete_cmd_prefix": "del ",
     "library": "var_list.py",
     "varRefreshCmd": "print(var_dic_list())"
    },
    "r": {
     "delete_cmd_postfix": ") ",
     "delete_cmd_prefix": "rm(",
     "library": "var_list.r",
     "varRefreshCmd": "cat(var_dic_list()) "
    }
   },
   "types_to_exclude": [
    "module",
    "function",
    "builtin_function_or_method",
    "instance",
    "_Feature"
   ],
   "window_display": false
  }
 },
 "nbformat": 4,
 "nbformat_minor": 5
}
