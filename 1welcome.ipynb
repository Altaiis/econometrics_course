{
 "cells": [
  {
   "cell_type": "markdown",
   "metadata": {
    "slideshow": {
     "slide_type": "slide"
    }
   },
   "source": [
    "<h1> Econometrics and Social Science Data Analysis"
   ]
  },
  {
   "cell_type": "markdown",
   "metadata": {
    "slideshow": {
     "slide_type": "slide"
    }
   },
   "source": [
    "**A few words about me: Sven Heim**\n",
    "    \n",
    "- Associate professor of economics at  the Center for Industrial Economics (CERNA) at Mines ParisTech.\n",
    "\n",
    "- My research interests cover the fields of\n",
    "    - Law and Economics\n",
    "    - Antitrust and Competition Economics\n",
    "    - Energy and Environmental Economics\n",
    "    - Information Economics\n",
    "- I have a strong focus on empirical quantitative methods.\n",
    "- My current research addresses, among others,\n",
    "    - The impact of state aid laws\n",
    "    - The (anti-) competitive effects of minority shareholdings\n",
    "    - The robustness of public support for renewable energy\n",
    "    - The interaction of consumer search costs and strategic firm decisions."
   ]
  },
  {
   "cell_type": "markdown",
   "metadata": {
    "slideshow": {
     "slide_type": "slide"
    }
   },
   "source": [
    "- I have been consulting institutions and ministries like the European Commission and the German Federal Ministry of Economic Affairs and Energy on several topics of expertise.\n",
    "- I also serve as an court expert in cartel cases (e.g. sugar cartel, truck cartel)"
   ]
  },
  {
   "cell_type": "markdown",
   "metadata": {
    "slideshow": {
     "slide_type": "slide"
    }
   },
   "source": [
    "**Some articles...**\n",
    "\n",
    "\"Public Support for Renewable Energy: The Case of Wind Power\", with Robert Germeshausen.\n",
    "\n",
    "\"Asymmetric Cost Pass-Through and Consumer Search: Evidence from Electricity Retailing\", _Quantitative Marketing and Economics_, 2022.\n",
    "\n",
    "\"The Anticompetitive Effects of Minority Share Acquistions: Evidence from the Introduction of National Leniency Programs\", with Kai Hüschelrath, Ulrich Laitenberger and Yossi Spiegel, _American Economic Journal: Microeconomics_, 2022.\n",
    "\n",
    "\"Unbundling, Regulation and Pricing: Evidence from Electricity Distribution\", with Bastian Krieger and Mario Liebensteiner,  _The Energy Journal_, 2021.\n",
    "\n",
    "\"Electricity Market Integration and the Impact of Unilateral Policy Reforms\", with Luigi Grossi, Kai Hüschelrath and Mike Waterson, _Oxford Economic Papers_, 2018.\n",
    "\n",
    "\"The Duration of the EC Merger Control Process: Determinants and the Impact of the 2004 Merger Regulation Reform\", with Kai Hüschelrath and Ulrich Laitenberger, \\textit{International Journal of the Economics of Business}, 2016.\n",
    "\n",
    "\"The Impact of State Aid on the Survival and Financial Viability of Aided Firms\",  with Kai Hüschelrath, Philipp. Schmidt-Dengler and M. Strazzeri, _European Economic Review_, 2017.\n",
    "\n",
    "\"The Impact of the German Response to the Fukushima Earthquake\", with Luigi Grossi and Mike Waterson, _Energy Economics_, 2017.\n",
    "\n",
    "\"Strategic Capacity Withholding Through Failures in the German-Austrian Electricity Market\", with Julian Bergler and Kai Hüschelrath, _Energy Policy_, 2017.\n",
    "\n",
    "\"Deregulation, Competition, and Consolidation: The Case of the German Interurban Bus Industry\", with Niklas Dürr and Kai Hüschelrath, _Journal of Transport Economics and Policy_, 2016.\n",
    "\n"
   ]
  },
  {
   "cell_type": "markdown",
   "metadata": {
    "slideshow": {
     "slide_type": "slide"
    }
   },
   "source": [
    "**... contributions to edited volumes**\n",
    "\n",
    "\"Ex-post Economic Evaluation of Competition Policy: The EU experience\", Edited by the European Commission, Wolters Kluwer, Brussels, 2020.\n",
    "\"The European Dimension of Germany’s Energy Transition - Opportunities and Conflicts\", Springer, 97-122, 2019."
   ]
  },
  {
   "cell_type": "markdown",
   "metadata": {
    "slideshow": {
     "slide_type": "slide"
    }
   },
   "source": [
    "**Why are we here?**\n",
    "\n",
    "Learning objectives of Data Analysis in Social Sciences\n",
    "\n",
    "- Being exposed to typical research questions in economics and other social sciences \n",
    "- Learn how to use Econometrics to cautiously answer the specified research question\n",
    "- Understand that Econometrics is a powerful tool to distinguish between correlation and causality"
   ]
  },
  {
   "cell_type": "markdown",
   "metadata": {
    "slideshow": {
     "slide_type": "slide"
    }
   },
   "source": [
    "**Brilliant minds expressed their scepticism regarding statistics**\n",
    "\n",
    "<br>  \n",
    "\n",
    "\n",
    "<center><img src=\"figs\\churchill.jpg\" width=\"500\"/> \n",
    "    \n",
    "\n",
    "<p>"
   ]
  },
  {
   "cell_type": "markdown",
   "metadata": {
    "slideshow": {
     "slide_type": "slide"
    }
   },
   "source": [
    "...actually not from Churchill as I just found out\n",
    "\n",
    "http://joewein.net/blog/2009/06/16/trau-keiner-statistik/"
   ]
  },
  {
   "cell_type": "markdown",
   "metadata": {
    "slideshow": {
     "slide_type": "slide"
    }
   },
   "source": [
    "<br>  \n",
    "\n",
    "\n",
    "<center><img src=\"figs\\twain.png\" width=\"500\"/> \n",
    "    \n",
    "\n",
    "<p>"
   ]
  },
  {
   "cell_type": "markdown",
   "metadata": {
    "slideshow": {
     "slide_type": "slide"
    }
   },
   "source": [
    "(also not from Mark Twain actually)"
   ]
  },
  {
   "cell_type": "markdown",
   "metadata": {
    "slideshow": {
     "slide_type": "slide"
    }
   },
   "source": [
    "**One reason may lie in the abuse of statistics...**\n",
    "- *Torture the data until it confesses* (Mancur Olson, The Logic of Collective Action)\n",
    "\n",
    "**... another in the difficulty of using statistics appropriately**\n",
    "- *The economy is a miserable experimental design* (Robert E. Lucas: quote from J Kennan, Journal of Economic Literature, 1995)\n",
    "\n",
    "In this class, we learn some some techniques to properly use statistics in economic (and social) environments "
   ]
  },
  {
   "cell_type": "markdown",
   "metadata": {
    "slideshow": {
     "slide_type": "slide"
    }
   },
   "source": [
    "***Clearly there are some strange studies***\n",
    "\n",
    "Some examples of real research questions (and results) are\n",
    "\n",
    "- Chocolate consumption increases the chances of winning a nobel price!\n",
    "- Storks deliver babies!\n",
    "- Finally proven that people predict the future!\n",
    "\n",
    "Other examples for self-study\n",
    "- Can listening to music reverse ageing?\n",
    "- Can chocolate help you loose weight?"
   ]
  },
  {
   "cell_type": "markdown",
   "metadata": {
    "slideshow": {
     "slide_type": "slide"
    }
   },
   "source": [
    "***Chocolate Consumption and Nobel Prices***"
   ]
  },
  {
   "cell_type": "markdown",
   "metadata": {
    "slideshow": {
     "slide_type": "slide"
    }
   },
   "source": [
    "<br>  \n",
    "\n",
    "\n",
    "<center><img src=\"figs\\choc1.png\" width=\"500\"/> \n",
    "    \n",
    "\n",
    "<p>"
   ]
  },
  {
   "cell_type": "markdown",
   "metadata": {
    "slideshow": {
     "slide_type": "slide"
    }
   },
   "source": [
    "<br>  \n",
    "\n",
    "\n",
    "<center><img src=\"figs\\choc2.png\" width=\"500\"/> \n",
    "    \n",
    "\n",
    "<p>"
   ]
  },
  {
   "cell_type": "markdown",
   "metadata": {
    "slideshow": {
     "slide_type": "slide"
    }
   },
   "source": [
    "<br>  \n",
    "\n",
    "\n",
    "<center><img src=\"figs\\nejm.png\" width=\"500\"/> \n",
    "    \n",
    "\n",
    "<p>"
   ]
  },
  {
   "cell_type": "markdown",
   "metadata": {
    "slideshow": {
     "slide_type": "slide"
    }
   },
   "source": [
    "***Storks and Babies***"
   ]
  },
  {
   "cell_type": "markdown",
   "metadata": {
    "slideshow": {
     "slide_type": "slide"
    }
   },
   "source": [
    "<br>  \n",
    "\n",
    "\n",
    "<center><img src=\"figs\\storks.png\" width=\"500\"/> \n",
    "    \n",
    "\n",
    "<p>"
   ]
  },
  {
   "cell_type": "markdown",
   "metadata": {
    "slideshow": {
     "slide_type": "slide"
    }
   },
   "source": [
    "**We clearly find a positive relationship between the two**\n",
    "\n",
    "<br>  \n",
    "\n",
    "\n",
    "<center><img src=\"figs\\stork1.png\" width=\"400\"/> \n",
    "    \n",
    "\n",
    "<p>"
   ]
  },
  {
   "cell_type": "markdown",
   "metadata": {
    "slideshow": {
     "slide_type": "slide"
    }
   },
   "source": [
    "You can try out at home what could potentially drive the results\n",
    "\n",
    "<br>  \n",
    "\n",
    "\n",
    "<center><img src=\"figs\\stork2.png\" width=\"300\"/> \n",
    "    \n",
    "\n",
    "<p>"
   ]
  },
  {
   "cell_type": "markdown",
   "metadata": {
    "slideshow": {
     "slide_type": "slide"
    }
   },
   "source": [
    "***Can people predict the future?*** "
   ]
  },
  {
   "cell_type": "markdown",
   "metadata": {
    "slideshow": {
     "slide_type": "slide"
    }
   },
   "source": [
    "<br>  \n",
    "\n",
    "<img src=\"figs\\ESPisREAL.png\" width=\"300\"/> \n",
    "    \n",
    "<img src=\"figs\\bem.png\" width=\"100\"/> \n",
    "\n",
    "<p>\n",
    "\n",
    "The 2011 article \"*Feeling the Future: Experimental Evidence for Anomalous Retroactive Influences on Cognition and Affect*\" offered statistical evidence for precognition and the psi effect.\n",
    "- In other words: proof that people can see into the future\n",
    "- published in reputable *Journal of Personality and Social Psychology* \n",
    "- Appeared on wildly on media, such as NBC, NYT, and the Colbert Report"
   ]
  },
  {
   "cell_type": "markdown",
   "metadata": {
    "slideshow": {
     "slide_type": "slide"
    }
   },
   "source": [
    "**From the Experiment Instructions:** \n",
    "\n",
    "<br>  \n",
    "\n",
    "<center><img src=\"figs\\Bem_Instructions.png\" width=\"500\"/> \n",
    "    \n",
    "<p>\n",
    "\n",
    "www.cc.com/video/bhf8jv/the-colbert-report-time-traveling-porn-daryl-bem\n"
   ]
  },
  {
   "cell_type": "markdown",
   "metadata": {
    "slideshow": {
     "slide_type": "slide"
    }
   },
   "source": [
    "**Participants need to guess for where a certain picture appears**\n",
    "\n",
    "<br>  \n",
    "\n",
    "<img src=\"figs\\bem_exp.png\" width=\"500\"/> \n",
    "    \n",
    "<p>\n"
   ]
  },
  {
   "cell_type": "markdown",
   "metadata": {
    "slideshow": {
     "slide_type": "slide"
    }
   },
   "source": [
    "**Three categories:**\n",
    "\n",
    "<br>  \n",
    "\n",
    "<img src=\"figs\\bem_cat.png\" width=\"500\"/> \n",
    "    \n",
    "<p>\n"
   ]
  },
  {
   "cell_type": "markdown",
   "metadata": {
    "slideshow": {
     "slide_type": "slide"
    }
   },
   "source": [
    "**What is your guess?**\n",
    "\n",
    "<br>  \n",
    "\n",
    "<img src=\"figs\\bem_exp.png\" width=\"500\"/> \n",
    "    \n",
    "<p>\n"
   ]
  },
  {
   "cell_type": "markdown",
   "metadata": {
    "slideshow": {
     "slide_type": "slide"
    }
   },
   "source": [
    "**If students guessed correctly, it was considered as a hit**\n",
    "\n",
    "<br>  \n",
    "\n",
    "<img src=\"figs\\bem_exp_res.png\" width=\"500\"/> \n",
    "    \n",
    "<p>\n"
   ]
  },
  {
   "cell_type": "markdown",
   "metadata": {
    "slideshow": {
     "slide_type": "slide"
    }
   },
   "source": [
    "**From the Result Section of the Paper:** \n",
    "\n",
    "<br>  \n",
    "\n",
    "<center><img src=\"figs\\Bem_Results.png\" width=\"500\"/> \n",
    "    \n",
    "<p>\n",
    "\n"
   ]
  },
  {
   "cell_type": "markdown",
   "metadata": {
    "slideshow": {
     "slide_type": "slide"
    }
   },
   "source": [
    "**What do you think of this study?** \n",
    "\n",
    "We will learn in our lecture what it exactly means, but important for now is\n",
    "\n",
    "- Just a 1\\% chance to get a hitrate of 53\\% or higher from simple luck. \n",
    "\n",
    "<br>  \n",
    "\n",
    "<img src=\"figs\\hitrate.png\" width=\"500\"/> \n",
    "    \n",
    "<p>\n"
   ]
  },
  {
   "cell_type": "markdown",
   "metadata": {
    "slideshow": {
     "slide_type": "slide"
    }
   },
   "source": [
    "**Some concerns: Researchers' Degrees of Freedom (DoF) and HARKing**\n",
    "\n",
    "Students were shown three types of pictures: neutral, negative, porn \n",
    " - Cherry picking: Only significant effect for porn category (53%)\n",
    " - Low effect size (not economically significant): \"extraordinary claims require extraordinary evidence\"\n",
    " - False positives: Results could have been obtained by chance\n",
    " - The more Researchers DoF, the higher the probability of false positives  \n",
    "\n",
    "Hypothesis after Results Known (HARK): Ex post explanation for why there is only an effect for porn"
   ]
  },
  {
   "cell_type": "markdown",
   "metadata": {
    "slideshow": {
     "slide_type": "slide"
    }
   },
   "source": [
    "from https://slate.com/health-and-science/2017/06/daryl-bem-proved-esp-is-real-showed-science-is-broken.html \n",
    "\n",
    "<br>  \n",
    "\n",
    "<img src=\"figs\\ESPisREAL_broken.png\" width=\"300\"/> \n",
    " \n",
    "<p>\n",
    "    \n",
    "By the way, the very same author also proved that studying after an exam can improve your grades!"
   ]
  },
  {
   "cell_type": "markdown",
   "metadata": {
    "slideshow": {
     "slide_type": "slide"
    }
   },
   "source": [
    "Imagine that you have three coins with different colours (red, blue, green) \n",
    "- You let people guess if the coin lands on heads or tail\n",
    "- For red you find that people get it right 53\\% whether it is heads or tail (statistically significant). \n",
    "- Your explanation is that red has always been a magic colour because blood is red, bla, bla, bla. "
   ]
  },
  {
   "cell_type": "markdown",
   "metadata": {
    "slideshow": {
     "slide_type": "-"
    }
   },
   "source": [
    "<br>  \n",
    "\n",
    "<center><img src=\"figs\\FINALLYsignificant.png\" width=\"300\"/> \n",
    " \n",
    "<p>"
   ]
  },
  {
   "cell_type": "markdown",
   "metadata": {
    "slideshow": {
     "slide_type": "slide"
    }
   },
   "source": [
    "Here an extract from his style guide for young researchers:\n",
    "\n",
    "<blockquote>\n",
    "There are two possible articles you can write: (1) the article you planned to write when you designed your study or (2) the article that makes the most sense now that you have seen the results. They are rarely the same, and the correct answer is (2). … Examine [your data] from every angle… If a datum suggests a new hypothesis, try to find further evidence for it elsewhere in the data. If you see dim traces of interesting patterns, try to reorganize the data to bring them into bolder relief. If there are subjects [participants] you don’t like, or trials, observers, or interviewers who gave you anomalous results, drop them (temporarily). Go on a fishing expedition for something—anything —interesting… Let us err on the side of discovery.\n",
    "<blockquote>\n",
    "\n",
    "Daryl Bem (1987): https://psychology.yale.edu/sites/default/files/bemempirical.pdf\n"
   ]
  },
  {
   "cell_type": "markdown",
   "metadata": {
    "slideshow": {
     "slide_type": "slide"
    }
   },
   "source": [
    "**Replication crisis in psychology in post-Brem area**\n",
    "\n",
    "Only 23-33\\% of studies in leading Psychology journal could be replicated: \n",
    "- https://mfr.osf.io/render?url=https://osf.io/jq7v6/?action=download%26mode=render\n",
    "- www.nature.com/articles/nature.2015.17433\n",
    "\n",
    "Alarmingly, experiments in support of standard theory of social priming were not reproducable:\n",
    "- Students exposed to senior-connotated words walk slower, warm coffee makes people feel warmer towards others, people exposed to the word money are more selfish, etc\n",
    "- Some claim that none of the studies in Kahnemann's thinking fast and slow would replicate (e.g., framing)\n",
    "- See the overview on: www.nature.com/articles/d41586-019-03755-2"
   ]
  },
  {
   "cell_type": "markdown",
   "metadata": {
    "slideshow": {
     "slide_type": "slide"
    }
   },
   "source": [
    "Klein et al. (2014). Investigating variation in replicability. \n",
    "\n",
    "<br>  \n",
    "\n",
    "<img src=\"figs\\replication2.png\" width=\"500\"/> \n",
    " \n",
    "<p>\n",
    "\n",
    "Density plots of original and replication p-values and effect sizes. (A) P values. (B) Effect sizes (correlation coefficients)."
   ]
  },
  {
   "cell_type": "markdown",
   "metadata": {
    "slideshow": {
     "slide_type": "slide"
    }
   },
   "source": [
    "**Similar replication crises have been observed in 2005 in medicine**\n",
    "\n",
    "Only 11-30\\% of cancer studies could be replicated: \n",
    "- www.sciencemag.org/news/2018/07/plan-replicate-50-high-impact-cancer-papers-shrinks-just-18\n",
    "- www.nature.com/articles/483531a\n",
    "\n",
    "Drastic conclusion by John Ioannidis: Why Most Clinical Research Is Not Useful  \n",
    "- https://journals.plos.org/plosmedicine/article?id=10.1371/journal.pmed.1002049: "
   ]
  },
  {
   "cell_type": "markdown",
   "metadata": {
    "slideshow": {
     "slide_type": "slide"
    }
   },
   "source": [
    "**And in economics**\n",
    "\n",
    "60-70\\% of studies in major journals could be replicated: \n",
    "- https://science.sciencemag.org/content/351/6280/1433\n",
    "- www.sciencemag.org/news/2016/03/about-40-economics-experiments-fail-replication-survey \n",
    "\n",
    "Why is that? \n",
    "- Combining economic theory, rigorous econometrics, and good data? "
   ]
  },
  {
   "cell_type": "markdown",
   "metadata": {
    "slideshow": {
     "slide_type": "-"
    }
   },
   "source": [
    "**Does the research community knew about it?**\n",
    "\n",
    "To test this hypothesis, researchers created \"prediction market\" \n",
    "- stock exchange in which researchers could buy or sell ''shares'' of 21 influential studies, based on how reproducible they seemed. \n",
    "- Each started with 100 dollars and could earn more by correctly betting on studies that eventually panned out.\n",
    "- At the start of the market, shares for every study cost 50 cents each. \n",
    "- After two weeks, the final price reflected the traders' collective view on the odds that each study would successfully replicate. \n",
    "    - A stock price of 0.87 cents would mean a study had an 87 percent chance of replicating. \n",
    "\n",
    "Result: traders thought that studies in the market would replicate 63 percent of the time, a figure that was uncannily close to the actual 62\\% success rate."
   ]
  },
  {
   "cell_type": "markdown",
   "metadata": {
    "slideshow": {
     "slide_type": "-"
    }
   },
   "source": [
    "The traders’ instincts were also unfailingly sound when it came to individual studies. Look at the graph below. The market assigned higher odds of success for the 13 studies that were successfully replicated than the eight that weren’t—compare the blue diamonds to the yellow diamonds.\n",
    "\n",
    "<br>  \n",
    "\n",
    "<center><img src=\"figs\\bets_replication.png\" width=\"350\"/> \n",
    "\n",
    "<p>\n"
   ]
  },
  {
   "cell_type": "markdown",
   "metadata": {
    "slideshow": {
     "slide_type": "slide"
    }
   },
   "source": [
    "**Further reading on replication crisis**\n",
    "\n",
    "For a potential PhD class\n",
    "\n",
    "- The Statistical Crisis in Science: https://www.americanscientist.org/article/the-statistical-crisis-in-science\n",
    "- How to make replication the norm: https://www.nature.com/articles/d41586-018-02108-9\n",
    "- How scientists fool themselves – and how they can stop: https://www.nature.com/articles/526182a\n",
    "- 1,500 scientists lift the lid on reproducibility: https://www.nature.com/articles/533452a"
   ]
  },
  {
   "cell_type": "markdown",
   "metadata": {
    "slideshow": {
     "slide_type": "slide"
    }
   },
   "source": [
    "***Further reading on how to design bad scientific studies***\n",
    "- Are Women Are More Likely to Wear Red or Pink at Peak Fertility? https://slate.com/technology/2013/07/statistics-and-psychology-multiple-comparisons-give-spurious-results.html\n",
    "- How I fooled millions into into thinking chocolate helps weight loss: www.gizmodo.com/i-fooled-millions-into-thinking-chocolate-helps-weight-1707251800\n",
    "- fMRI Gets Slap in the Face with a Dead salmon: https://academic.oup.com/brain/article/140/8/e53/4032512\n",
    "- Listening to Beatles reverses your age: www.journals.sagepub.com/doi/full/10.1177/0956797611417632\n",
    "    - Summary on TED-Ed: www.youtube.com/watch?v=i60wwZDA1CI\n",
    "- Are radicals more likely to see in black and white?: https://arxiv.org/ftp/arxiv/papers/1205/1205.4251.pdf"
   ]
  },
  {
   "cell_type": "markdown",
   "metadata": {
    "slideshow": {
     "slide_type": "slide"
    }
   },
   "source": [
    "**Aim of the class**\n",
    "\n",
    "- Of course many of the examples from above do not make a lot of sense but they show how easily data analysis can become misleading\n",
    "- There are many cases where it is less obvious that something has gone wrong.\n",
    "\n",
    "- The aim of the class is to equip you with a basic understanding of empirical methods and how to execute sound empirical work.\n",
    "- Particluarly, you should be able after the class to differentiate between correlation and causality\n",
    "- Thus, whenever you read a study you should be able to identify its weaknesses\n",
    "\n",
    "**What are we going to do**\n",
    "\n",
    " - introduction to econometric methods\n",
    " - some applications for these methods\n",
    " - discussion of empirical work"
   ]
  },
  {
   "cell_type": "code",
   "execution_count": null,
   "metadata": {},
   "outputs": [],
   "source": []
  }
 ],
 "metadata": {
  "celltoolbar": "Slideshow",
  "kernelspec": {
   "display_name": "Python 3",
   "language": "python",
   "name": "python3"
  },
  "language_info": {
   "codemirror_mode": {
    "name": "ipython",
    "version": 3
   },
   "file_extension": ".py",
   "mimetype": "text/x-python",
   "name": "python",
   "nbconvert_exporter": "python",
   "pygments_lexer": "ipython3",
   "version": "3.7.1"
  },
  "toc": {
   "base_numbering": 1,
   "nav_menu": {},
   "number_sections": true,
   "sideBar": true,
   "skip_h1_title": true,
   "title_cell": "Table of Contents",
   "title_sidebar": "Contents",
   "toc_cell": false,
   "toc_position": {},
   "toc_section_display": true,
   "toc_window_display": false
  },
  "varInspector": {
   "cols": {
    "lenName": 16,
    "lenType": 16,
    "lenVar": 40
   },
   "kernels_config": {
    "python": {
     "delete_cmd_postfix": "",
     "delete_cmd_prefix": "del ",
     "library": "var_list.py",
     "varRefreshCmd": "print(var_dic_list())"
    },
    "r": {
     "delete_cmd_postfix": ") ",
     "delete_cmd_prefix": "rm(",
     "library": "var_list.r",
     "varRefreshCmd": "cat(var_dic_list()) "
    }
   },
   "types_to_exclude": [
    "module",
    "function",
    "builtin_function_or_method",
    "instance",
    "_Feature"
   ],
   "window_display": false
  }
 },
 "nbformat": 4,
 "nbformat_minor": 2
}
